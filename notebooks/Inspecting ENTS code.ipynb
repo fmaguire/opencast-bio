{
 "metadata": {
  "name": "",
  "signature": "sha256:1206df556c8bfb6217b9f18c81e53ba589cc93ee5063d153cb84749963e4f31b"
 },
 "nbformat": 3,
 "nbformat_minor": 0,
 "worksheets": [
  {
   "cells": [
    {
     "cell_type": "markdown",
     "metadata": {},
     "source": [
      "This notebook is to inspect, load and modify some of the code from the [ENTs][] paper's [tar file][entstar].\n",
      "The aim to produce a pickled object to return features for given protein pairs in the way it was done for Gene Ontology features.\n",
      "\n",
      "# Loading data\n",
      "\n",
      "The data is loaded in the code in the file `run_genome_prob.py`.\n",
      "The code to do this is relatively short and has been loaded into the cell below.\n",
      "\n",
      "[ents]: http://ents.as.wvu.edu/index.php\n",
      "[entstar]: http://ents.as.wvu.edu/software/ents_standalone.tar.gz"
     ]
    },
    {
     "cell_type": "code",
     "collapsed": false,
     "input": [
      "cd ../../ents/standalone/"
     ],
     "language": "python",
     "metadata": {},
     "outputs": [
      {
       "output_type": "stream",
       "stream": "stdout",
       "text": [
        "/home/gavin/Documents/MRes/ents/standalone\n"
       ]
      }
     ],
     "prompt_number": 1
    },
    {
     "cell_type": "code",
     "collapsed": false,
     "input": [
      "import pred_file_maker\n",
      "from multiloc2 import MultiLoc2_highres\n",
      "from DataFrame import DataFrame\n",
      "from R_utilities import R_utilities as R\n",
      "from optparse import OptionParser\n",
      "from multiprocessing import Process\n",
      "import os\n",
      "import numpy as np"
     ],
     "language": "python",
     "metadata": {},
     "outputs": [],
     "prompt_number": 2
    },
    {
     "cell_type": "code",
     "collapsed": false,
     "input": [
      "def get_n_unique_prots(subcell_file, prot_dict_file_name):\n",
      "        subcell_info = MultiLoc2_highres(subcell_file)\n",
      "        subcell_info = dict((k.split('.')[0],v) for k,v in subcell_info.gene_dict.iteritems())\n",
      "        prot_dict_file = open(prot_dict_file_name)\n",
      "        count = 0\n",
      "        for line in prot_dict_file:\n",
      "                line = line.strip().split('\\t')\n",
      "                if line[1] not in subcell_info: continue\n",
      "                else: count += 1\n",
      "        return count"
     ],
     "language": "python",
     "metadata": {},
     "outputs": [],
     "prompt_number": 3
    },
    {
     "cell_type": "code",
     "collapsed": false,
     "input": [
      "# define file names\n",
      "subcell_file = \"h_sapiens_subcellular_multiloc2.out\"\n",
      "odds_file_name = \"domain_odds.in\"\n",
      "domine_file_name = \"domine_flat_file.in\"\n",
      "prot_dict_file_name = \"H_sapiens_domains.out\""
     ],
     "language": "python",
     "metadata": {},
     "outputs": [],
     "prompt_number": 4
    },
    {
     "cell_type": "code",
     "collapsed": false,
     "input": [
      "### Open the files ###\n",
      "print \"Reading input files...\"\n",
      "subcell_info = MultiLoc2_highres(subcell_file)\n",
      "org_type = subcell_info.org_type\n",
      "# Create dictionary of gene_name -> info for the subcellular localization\n",
      "subcell_info = dict((k.split('.')[0],v) for k,v in subcell_info.gene_dict.iteritems())\n",
      "odds_file = open(odds_file_name)\n",
      "# Create dictionary of domain_pair -> odds_of_interaction_association\n",
      "odds_dict = {}\n",
      "for line in odds_file:\n",
      "        line = line.strip().split(':')\n",
      "        odds = float(line[1])\n",
      "        pair = line[0].split(',')\n",
      "        odds_dict[tuple(sorted(pair))] = odds\n",
      "odds_file.close()\n",
      "print \"Done.\"\n",
      "### Get essential protein information ###\n",
      "print \"Getting protein information...\"\n",
      "# Get all organism genes\n",
      "proteins = []\n",
      "# Dictionary from gene_stable_id -> protein_stable_id and the other way around\n",
      "gene_protein_dict = {}\n",
      "protein_gene_dict= {}\n",
      "protein_domain_dict = {}\n",
      "prot_dict_file = open(prot_dict_file_name)\n",
      "for line in prot_dict_file:\n",
      "        line = line.strip().split('\\t')\n",
      "        if line[1] not in subcell_info: continue\n",
      "        proteins.append(line[0])\n",
      "        gene_protein_dict[line[1]] = line[0]\n",
      "        protein_gene_dict[line[0]] = line[1]\n",
      "        if len(line) ==3: \n",
      "                protein_domain_dict[line[0]] = line[2].split(' ')\n",
      "        else: protein_domain_dict[line[0]] = []\n",
      "prot_dict_file.close()\n",
      "# Get domine interactions as dictionary of domine_pair -> confidence\n",
      "domine_interactions = {}\n",
      "domine = open(domine_file_name)\n",
      "for line in domine:\n",
      "        line = line.strip().split('\\t')\n",
      "        domine_interactions[tuple(sorted(line[0].split(',')))] = line[1]\n",
      "print \"Done.\""
     ],
     "language": "python",
     "metadata": {},
     "outputs": [
      {
       "output_type": "stream",
       "stream": "stdout",
       "text": [
        "Reading input files...\n",
        "Done."
       ]
      },
      {
       "output_type": "stream",
       "stream": "stdout",
       "text": [
        "\n",
        "Getting protein information...\n",
        "Done."
       ]
      },
      {
       "output_type": "stream",
       "stream": "stdout",
       "text": [
        "\n"
       ]
      }
     ],
     "prompt_number": 5
    },
    {
     "cell_type": "markdown",
     "metadata": {},
     "source": [
      "# Creating a feature vector\n",
      "\n",
      "The code originally uses these parsed data files to then write a file which is input to R through Rserve.\n",
      "Looking at this code we can use this same data and create feature vectors for arbitrary protein pairs.\n",
      "The code to write to file is as follows:\n",
      "\n",
      "```python\n",
      "for line in pair_file:\n",
      "        line = line.strip().split('\\t')\n",
      "        # Get the domain part of the string\n",
      "        protein1 = line[0]\n",
      "        protein2 = line[1]\n",
      "        if protein1 not in pair_prots: pair_prots.append(protein1)\n",
      "        if protein2 not in pair_prots: pair_prots.append(protein2)\n",
      "        try:\n",
      "                domain_string = makeDomainString(protein_domain_dict[protein1], protein_domain_dict[protein2],\\\n",
      "                        domine_interactions, odds_dict)\n",
      "        except:\n",
      "                key1 = [x for x in protein_domain_dict.keys() if protein1.startswith(x.split('.')[0])]\n",
      "                key2 = [x for x in protein_domain_dict.keys() if protein2.startswith(x.split('.')[0])]\n",
      "                if len(key1) == 0 or len(key2) == 0: continue\n",
      "                else:\n",
      "                        domain_string = makeDomainString(protein_domain_dict[key1[0]], protein_domain_dict[key2[0]],\\\n",
      "                                domine_interactions, odds_dict)\n",
      "        # Get the subcellular localization part of the string\n",
      "        try: subcell_string = makeSubcellularDict(protein1, protein2, subcell_info, protein_gene_dict)\n",
      "        except KeyError: \n",
      "                key1 = [x for x in protein_domain_dict.keys() if protein1.startswith(x.split('.')[0])]\n",
      "                key2 = [x for x in protein_domain_dict.keys() if protein2.startswith(x.split('.')[0])]\n",
      "                if len(key1) == 0 or len(key2) == 0: continue\n",
      "                else:\n",
      "                        try: subcell_string = makeSubcellularDict(key1[0], key2[0],subcell_info, protein_gene_dict)\n",
      "                        except: continue\n",
      "        out_file.write(\"%s\\t%s\\t%s\\t%s\\n\" % (protein1,protein2,domain_string,subcell_string))\n",
      "```\n",
      "\n",
      "Taking this out of the loop and getting rid of the file references while handing in the protein names to the function should make this work.\n",
      "\n",
      "First have to define a couple o\n"
     ]
    },
    {
     "cell_type": "code",
     "collapsed": false,
     "input": [
      "def makeDomainString(domains1, domains2, domine_dict, odds_dict):\n",
      "        domain_dict = {}\n",
      "        # Get all potential interactions\n",
      "        if len(domains1) > 0 and len(domains2) > 0:\n",
      "                potential_domain_pairs = getTwoListCombos(domains1,domains2)\n",
      "        else: potential_domain_pairs = []\n",
      "        # Get the domine information\n",
      "        domine_pairs = list(set([tuple(sorted(x)) for x in potential_domain_pairs if tuple(sorted(x)) in domine_dict]))\n",
      "        domain_dict['n_domine_pairs'] = len(domine_pairs)\n",
      "        domain_dict['highest_domine_conf'] = '0'\n",
      "        for pair in domine_pairs:\n",
      "                if domine_dict[pair] == 'HC': domain_dict['highest_domine_conf'] = 'HC'\n",
      "                elif domine_dict[pair] == 'MC' and domain_dict['highest_domine_conf'] != 'HC':\n",
      "                        domain_dict['highest_domine_conf'] = 'MC'\n",
      "                elif domine_dict[pair] == 'LC' and domain_dict['highest_domine_conf'] not in ['HC','MC']:\n",
      "                        domain_dict['highest_domine_conf'] = 'LC'\n",
      "        # Get the odds information\n",
      "        ############## TEST ##################\n",
      "        domain_dict['lowest_odds'] = 0.\n",
      "        domain_dict['not_observed'] = 0\n",
      "        domain_dict['not_observed_frac'] = 1.\n",
      "        ################################\n",
      "        domain_dict['sum_odds'] = 0.\n",
      "        domain_dict['highest_odds'] = 0.\n",
      "        domain_dict['n_odds_pairs'] = 0\n",
      "        for pair in potential_domain_pairs:\n",
      "                pair = tuple(list(sorted(pair)))\n",
      "                # Check if in the odds dictionary. If so, update domain variables\n",
      "                if pair in odds_dict:\n",
      "                        domain_dict['sum_odds'] += odds_dict[pair]\n",
      "                        if odds_dict[pair] > domain_dict['highest_odds']:\n",
      "                                domain_dict['highest_odds'] = odds_dict[pair]\n",
      "                        domain_dict['n_odds_pairs'] += 1\n",
      "                ################### TEST ################\n",
      "                        if odds_dict[pair] < domain_dict['lowest_odds']: domain_dict['lowest_odds'] = odds_dict[pair]\n",
      "                else:\n",
      "                        domain_dict['not_observed'] += 1\n",
      "        if domain_dict['n_odds_pairs'] + domain_dict['not_observed'] > 0: \n",
      "                domain_dict['not_observed_frac'] = float(domain_dict['not_observed']) / (domain_dict['n_odds_pairs'] + domain_dict['not_observed'])\n",
      "                #########################################\n",
      "        domain_dict = [str(domain_dict[k]) for k in domain_cols]\n",
      "        return \"\\t\".join(domain_dict)"
     ],
     "language": "python",
     "metadata": {},
     "outputs": [],
     "prompt_number": 6
    },
    {
     "cell_type": "code",
     "collapsed": false,
     "input": [
      "def makeSubcellularDict(protein1, protein2, subcell_dict, protein_gene_dict = None):\n",
      "        gene1 = protein_gene_dict[protein1]\n",
      "        gene2 = protein_gene_dict[protein2]\n",
      "        svm_line1 = [subcell_dict[gene1]['predictions'][k] for k in svm_subcell_cols]\n",
      "        svm_line2 = [subcell_dict[gene2]['predictions'][k] for k in svm_subcell_cols]\n",
      "        svm_line1 += [subcell_dict[gene1]['svm_info'][k] for k in svm_detail_cols]\n",
      "        svm_line2 += [subcell_dict[gene2]['svm_info'][k] for k in svm_detail_cols]\n",
      "        svm_line = svm_line1 + svm_line2\n",
      "        return \"\\t\".join([str(x) for x in svm_line])"
     ],
     "language": "python",
     "metadata": {},
     "outputs": [],
     "prompt_number": 7
    },
    {
     "cell_type": "code",
     "collapsed": false,
     "input": [
      "def getfeaturevector(protein1, protein2, subcell_info, odds_dict, proteins, domine_interactions, \\\n",
      "        protein_domain_dict, protein_gene_dict = None, verbose = True):\n",
      "        \"\"\"prototype function to retreive ENTS feature vectors for a given protein pair\"\"\"\n",
      "        keys = subcell_info.keys()\n",
      "        # Configure svm columns for organism\n",
      "        gene = keys[0]\n",
      "        delete_svm_pred_cols = [x for x in svm_subcell_cols if x not in subcell_info[gene]['predictions'].keys()]\n",
      "        delete_svm_detail_cols = [x for x in svm_detail_cols if x not in subcell_info[gene]['svm_info'].keys()]\n",
      "        for col in delete_svm_pred_cols: svm_subcell_cols.remove(col)\n",
      "        for col in delete_svm_detail_cols: svm_detail_cols.remove(col)\n",
      "        # Make the true interactions part of the file\n",
      "        try:\n",
      "                domain_string = makeDomainString(protein_domain_dict[protein1], protein_domain_dict[protein2],\\\n",
      "                        domine_interactions, odds_dict)\n",
      "        except:\n",
      "                key1 = [x for x in protein_domain_dict.keys() if protein1.startswith(x.split('.')[0])]\n",
      "                key2 = [x for x in protein_domain_dict.keys() if protein2.startswith(x.split('.')[0])]\n",
      "                if len(key1) == 0 or len(key2) == 0:\n",
      "                    return None\n",
      "                else:\n",
      "                        domain_string = makeDomainString(protein_domain_dict[key1[0]], protein_domain_dict[key2[0]],\\\n",
      "                                domine_interactions, odds_dict)\n",
      "        # Get the subcellular localization part of the string\n",
      "        try: subcell_string = makeSubcellularDict(protein1, protein2, subcell_info, protein_gene_dict)\n",
      "        except KeyError: \n",
      "                key1 = [x for x in protein_domain_dict.keys() if protein1.startswith(x.split('.')[0])]\n",
      "                key2 = [x for x in protein_domain_dict.keys() if protein2.startswith(x.split('.')[0])]\n",
      "                if len(key1) == 0 or len(key2) == 0:\n",
      "                    return None\n",
      "                else:\n",
      "                        subcell_string = makeSubcellularDict(key1[0], key2[0],subcell_info, protein_gene_dict)\n",
      "                        #try: subcell_string = makeSubcellularDict(key1[0], key2[0],subcell_info, protein_gene_dict)\n",
      "                        #except: \n",
      "                        #    return None\n",
      "        return domain_string, subcell_string"
     ],
     "language": "python",
     "metadata": {},
     "outputs": [],
     "prompt_number": 8
    },
    {
     "cell_type": "markdown",
     "metadata": {},
     "source": [
      "## Testing new function\n",
      "\n",
      "Testing new function with arbitrary protein pairs until it produces a feature vector:"
     ]
    },
    {
     "cell_type": "code",
     "collapsed": false,
     "input": [
      "import itertools"
     ],
     "language": "python",
     "metadata": {},
     "outputs": [],
     "prompt_number": 9
    },
    {
     "cell_type": "code",
     "collapsed": false,
     "input": [
      "from pred_file_maker import domain_cols, svm_subcell_cols, getTwoListCombos, svm_detail_cols"
     ],
     "language": "python",
     "metadata": {},
     "outputs": [],
     "prompt_number": 10
    },
    {
     "cell_type": "code",
     "collapsed": false,
     "input": [
      "for pair in itertools.combinations(proteins,2):\n",
      "    fvector = getfeaturevector(pair[0],pair[1],subcell_info,odds_dict,proteins,\n",
      "                 domine_interactions,protein_domain_dict,protein_gene_dict)\n",
      "    if fvector:\n",
      "        print fvector\n",
      "        break"
     ],
     "language": "python",
     "metadata": {},
     "outputs": [
      {
       "output_type": "stream",
       "stream": "stdout",
       "text": [
        "('0.0\\t0.0\\t0.0\\t0\\t1.0\\t0\\t0\\t0', '0.15\\t0.02\\t0.04\\t0.0\\t0.77\\t0.0\\t0.0\\t0.0\\t0.0\\t0.000782241\\t0.994933\\t0.00428497\\t-0.965455\\t0.456943\\t0.161587\\t0.694282\\t0.048346\\t0.086769\\t0.016035\\t0.152056\\t0.045396\\t0.026867\\t0.11\\t0.11\\t0.11\\t0.11\\t0.11\\t0.11\\t0.11\\t0.11\\t0.110209\\t0.10186\\t0.027069\\t0.150298\\t0.044921\\t0.383831\\t0.064664\\t0.034212\\t0\\t0\\t0\\t0\\t0\\t0\\t0\\t0.082935\\t0.11\\t0.006002\\t0.3\\t0.55\\t0.05\\t0.0\\t0.08\\t0.01\\t0.01\\t0.01\\t0.0\\t0.269538\\t0.118325\\t0.612137\\t-0.951564\\t0.046808\\t0.077552\\t0.153458\\t0.033389\\t0.094736\\t0.234725\\t0.054657\\t0.129915\\t0.116351\\t0.886868\\t0.06687\\t0.019144\\t0.003098\\t0.003295\\t0.001927\\t0.001497\\t0.001791\\t0.099515\\t0.435004\\t0.078238\\t0.033013\\t0.040732\\t0.207074\\t0.038316\\t0.022215\\t0\\t0\\t0\\t0\\t0\\t0\\t0\\t0.045894\\t0.01551\\t0.211866')\n"
       ]
      }
     ],
     "prompt_number": 31
    },
    {
     "cell_type": "markdown",
     "metadata": {},
     "source": [
      "So we can get feature vectors out of this for arbitrary protein pairs."
     ]
    },
    {
     "cell_type": "markdown",
     "metadata": {},
     "source": [
      "# Writing new class to return feature vectors\n",
      "\n",
      "To return these feature vectors we require a class that integrates the above functions and stores the required data extracted from the files in this folder.\n",
      "This class can then be added to ocbio as with Gene Ontology and serve a custom generator for the feature vectors to be generated.\n",
      "The class will be instantiated and pickled as with the [Gene Ontology notebook][gonotes].\n",
      "\n",
      "The features should also be returned as a list rather that a tab-delimited string as above.\n",
      "Also, it will have to be able to deal with Entrez IDs rather than Ensembl IDs, so it will need to store a 1 to 1 dictionary for this internally.\n",
      "\n",
      "[gonotes]: http://nbviewer.ipython.org/github/ggray1729/opencast-bio/blob/master/notebooks/Extracting%20Gene%20Ontology%20features%200.2.ipynb"
     ]
    },
    {
     "cell_type": "code",
     "collapsed": false,
     "input": [
      "import sys\n",
      "sys.path.append(\"/home/gavin/Documents/MRes/opencast-bio/\")"
     ],
     "language": "python",
     "metadata": {},
     "outputs": [],
     "prompt_number": 12
    },
    {
     "cell_type": "code",
     "collapsed": false,
     "input": [
      "import ocbio.ents"
     ],
     "language": "python",
     "metadata": {},
     "outputs": [],
     "prompt_number": 13
    },
    {
     "cell_type": "markdown",
     "metadata": {},
     "source": [
      "## Loading Entrez to Ensembl dictionary\n",
      "\n",
      "The dictionary used here is not one to one, and this must be taken into account in the code above.\n",
      "This dictionary is loaded from a pickled dictionary saved in notebook on [Extracting InterologWalk features][walk].\n",
      "\n",
      "[walk]: http://nbviewer.ipython.org/github/ggray1729/opencast-bio/blob/dfc5b8c682e835b733ca671c80f4636ba7ad7081/notebooks/Extracting%20InterologWalk%20features.ipynb"
     ]
    },
    {
     "cell_type": "code",
     "collapsed": false,
     "input": [
      "import pickle"
     ],
     "language": "python",
     "metadata": {},
     "outputs": [],
     "prompt_number": 14
    },
    {
     "cell_type": "code",
     "collapsed": false,
     "input": [
      "import csv"
     ],
     "language": "python",
     "metadata": {},
     "outputs": [],
     "prompt_number": 15
    },
    {
     "cell_type": "code",
     "collapsed": false,
     "input": [
      "cd ../../geneconversion/"
     ],
     "language": "python",
     "metadata": {},
     "outputs": [
      {
       "output_type": "stream",
       "stream": "stdout",
       "text": [
        "/home/gavin/Documents/MRes/geneconversion\n"
       ]
      }
     ],
     "prompt_number": 18
    },
    {
     "cell_type": "code",
     "collapsed": false,
     "input": [
      "f = open(\"human.gene2ensemble.pickle\")\n",
      "gentreztoensembl = pickle.load(f)\n",
      "f.close()"
     ],
     "language": "python",
     "metadata": {},
     "outputs": [],
     "prompt_number": 19
    },
    {
     "cell_type": "markdown",
     "metadata": {},
     "source": [
      "Unfortunately, this dictionary doesn't map to all the proteins which we would like to be able to map to:"
     ]
    },
    {
     "cell_type": "code",
     "collapsed": false,
     "input": [
      "len(proteins)"
     ],
     "language": "python",
     "metadata": {},
     "outputs": [
      {
       "metadata": {},
       "output_type": "pyout",
       "prompt_number": 57,
       "text": [
        "20993"
       ]
      }
     ],
     "prompt_number": 57
    },
    {
     "cell_type": "code",
     "collapsed": false,
     "input": [
      "crossover = 0\n",
      "for p in proteins:\n",
      "    if p in flatten(gentreztoensembl.values()):\n",
      "        crossover += 1"
     ],
     "language": "python",
     "metadata": {},
     "outputs": [],
     "prompt_number": 64
    },
    {
     "cell_type": "code",
     "collapsed": false,
     "input": [
      "print crossover"
     ],
     "language": "python",
     "metadata": {},
     "outputs": [
      {
       "output_type": "stream",
       "stream": "stdout",
       "text": [
        "14879\n"
       ]
      }
     ],
     "prompt_number": 65
    },
    {
     "cell_type": "code",
     "collapsed": false,
     "input": [
      "print len(proteins)-crossover"
     ],
     "language": "python",
     "metadata": {},
     "outputs": [
      {
       "output_type": "stream",
       "stream": "stdout",
       "text": [
        "6114\n"
       ]
      }
     ],
     "prompt_number": 66
    },
    {
     "cell_type": "markdown",
     "metadata": {},
     "source": [
      "So improving this dictionary with a BioMart csv.\n",
      "Writing a file for the [web conversion service][biomart].\n",
      "\n",
      "[biomart]: http://central.biomart.org/converter/#!/ID_converter/gene_ensembl_config_2"
     ]
    },
    {
     "cell_type": "code",
     "collapsed": false,
     "input": [
      "f = open(\"ents.proteins.ensembl.txt\",\"w\")\n",
      "csv.writer(f,delimiter=\"\\n\").writerow(proteins)\n",
      "f.close()"
     ],
     "language": "python",
     "metadata": {},
     "outputs": [],
     "prompt_number": 69
    },
    {
     "cell_type": "markdown",
     "metadata": {},
     "source": [
      "Downloaded the file `biomart.ensembl2entrez.txt`, loading this and adding its entries to the dictionary:"
     ]
    },
    {
     "cell_type": "code",
     "collapsed": false,
     "input": [
      "f = open(\"biomart.ensembl2entrez.txt\")\n",
      "c = csv.reader(f,delimiter=\"\\t\")\n",
      "c.next()\n",
      "for line in c:\n",
      "    try:\n",
      "        gentreztoensembl[line[1]] += [line[0]]\n",
      "    except KeyError:\n",
      "        gentreztoensembl[line[1]] = [line[0]]\n",
      "f.close()"
     ],
     "language": "python",
     "metadata": {},
     "outputs": [],
     "prompt_number": 77
    },
    {
     "cell_type": "markdown",
     "metadata": {},
     "source": [
      "Has that improved the situation?"
     ]
    },
    {
     "cell_type": "code",
     "collapsed": false,
     "input": [
      "crossover = 0\n",
      "mappedproteins = list(flatten(gentreztoensembl.values()))\n",
      "for p in proteins:\n",
      "    if p in mappedproteins:\n",
      "        crossover += 1"
     ],
     "language": "python",
     "metadata": {},
     "outputs": [],
     "prompt_number": 78
    },
    {
     "cell_type": "code",
     "collapsed": false,
     "input": [
      "print crossover"
     ],
     "language": "python",
     "metadata": {},
     "outputs": [
      {
       "output_type": "stream",
       "stream": "stdout",
       "text": [
        "20273\n"
       ]
      }
     ],
     "prompt_number": 79
    },
    {
     "cell_type": "code",
     "collapsed": false,
     "input": [
      "print len(proteins)-crossover"
     ],
     "language": "python",
     "metadata": {},
     "outputs": [
      {
       "output_type": "stream",
       "stream": "stdout",
       "text": [
        "720\n"
       ]
      }
     ],
     "prompt_number": 80
    },
    {
     "cell_type": "markdown",
     "metadata": {},
     "source": [
      "# Saving the instances\n",
      "\n",
      "With the data defined in this notebook, we can now pickle two instances of our ENTS feature extractors:"
     ]
    },
    {
     "cell_type": "code",
     "collapsed": false,
     "input": [
      "cd ../ents/"
     ],
     "language": "python",
     "metadata": {},
     "outputs": [
      {
       "output_type": "stream",
       "stream": "stdout",
       "text": [
        "/home/gavin/Documents/MRes/ents\n"
       ]
      }
     ],
     "prompt_number": 21
    },
    {
     "cell_type": "code",
     "collapsed": false,
     "input": [
      "reload(ocbio.ents)"
     ],
     "language": "python",
     "metadata": {},
     "outputs": [
      {
       "metadata": {},
       "output_type": "pyout",
       "prompt_number": 22,
       "text": [
        "<module 'ocbio.ents' from '/home/gavin/Documents/MRes/opencast-bio/ocbio/ents.pyc'>"
       ]
      }
     ],
     "prompt_number": 22
    },
    {
     "cell_type": "code",
     "collapsed": false,
     "input": [
      "entsfeatures = ocbio.ents.ENTSfeatures(subcell_info,odds_dict,proteins,domine_interactions,\n",
      "                        protein_domain_dict,protein_gene_dict,gentreztoensembl,\n",
      "                        domain_cols,svm_subcell_cols,svm_detail_cols)"
     ],
     "language": "python",
     "metadata": {},
     "outputs": [],
     "prompt_number": 23
    },
    {
     "cell_type": "markdown",
     "metadata": {},
     "source": [
      "## Testing\n",
      "\n",
      "Testing the instances in the same way as above to confirm that it will return viable feature vectors:"
     ]
    },
    {
     "cell_type": "code",
     "collapsed": false,
     "input": [
      "for pair in itertools.combinations(proteins,2):\n",
      "    fvector = entsfeatures.getfeaturevector(pair[0],pair[1])\n",
      "    if fvector:\n",
      "        print fvector\n",
      "        break"
     ],
     "language": "python",
     "metadata": {},
     "outputs": [
      {
       "output_type": "stream",
       "stream": "stdout",
       "text": [
        "[0.0, 0.0, 0.0, 0, 1.0, 0, 0, '0', 0.15, 0.02, 0.04, 0.0, 0.77, 0.0, 0.0, 0.0, 0.0, 0.000782241, 0.994933, 0.00428497, -0.965455, 0.456943, 0.161587, 0.694282, 0.048346, 0.086769, 0.016035, 0.152056, 0.045396, 0.026867, 0.11, 0.11, 0.11, 0.11, 0.11, 0.11, 0.11, 0.11, 0.110209, 0.10186, 0.027069, 0.150298, 0.044921, 0.383831, 0.064664, 0.034212, 0, 0, 0, 0, 0, 0, 0, 0.082935, 0.11, 0.006002, 0.3, 0.55, 0.05, 0.0, 0.08, 0.01, 0.01, 0.01, 0.0, 0.269538, 0.118325, 0.612137, -0.951564, 0.046808, 0.077552, 0.153458, 0.033389, 0.094736, 0.234725, 0.054657, 0.129915, 0.116351, 0.886868, 0.06687, 0.019144, 0.003098, 0.003295, 0.001927, 0.001497, 0.001791, 0.099515, 0.435004, 0.078238, 0.033013, 0.040732, 0.207074, 0.038316, 0.022215, 0, 0, 0, 0, 0, 0, 0, 0.045894, 0.01551, 0.211866]\n"
       ]
      }
     ],
     "prompt_number": 24
    },
    {
     "cell_type": "markdown",
     "metadata": {},
     "source": [
      "And testing calling with Entrez pairs as frozensets:"
     ]
    },
    {
     "cell_type": "code",
     "collapsed": false,
     "input": [
      "ensembltoentrez = {}\n",
      "for k in gentreztoensembl.keys():\n",
      "    ensembltoentrez[gentreztoensembl[k][0]] = k\n",
      "entrezlist = []\n",
      "for p in proteins:\n",
      "    try:\n",
      "        entrezlist.append(ensembltoentrez[p])\n",
      "    except:\n",
      "        pass"
     ],
     "language": "python",
     "metadata": {},
     "outputs": [],
     "prompt_number": 25
    },
    {
     "cell_type": "code",
     "collapsed": false,
     "input": [
      "for pair in itertools.combinations(entrezlist,2):\n",
      "    try:\n",
      "        fvector = entsfeatures[frozenset(pair)]\n",
      "    except KeyError:\n",
      "        continue\n",
      "    if fvector:\n",
      "        print fvector\n",
      "        break"
     ],
     "language": "python",
     "metadata": {},
     "outputs": [
      {
       "output_type": "stream",
       "stream": "stdout",
       "text": [
        "[-5.6432199999999995, 0.0, -2.04361, 2, 0.3333333333333333, 4, 0, '0', 0.3, 0.55, 0.05, 0.0, 0.08, 0.01, 0.01, 0.01, 0.0, 0.269538, 0.118325, 0.612137, -0.951564, 0.046808, 0.077552, 0.153458, 0.033389, 0.094736, 0.234725, 0.054657, 0.129915, 0.116351, 0.886868, 0.06687, 0.019144, 0.003098, 0.003295, 0.001927, 0.001497, 0.001791, 0.099515, 0.435004, 0.078238, 0.033013, 0.040732, 0.207074, 0.038316, 0.022215, 0, 0, 0, 0, 0, 0, 0, 0.045894, 0.01551, 0.211866, 0.95, 0.03, 0.01, 0.0, 0.0, 0.0, 0.0, 0.0, 0.0, 0.00332134, 0.00699508, 0.989684, -0.958667, 0.020718, 0.04001, 0.0962077, 0.277577, 0.008549, 0.037989, 0.206557, 0.148466, 0.206238, 0.044603, 0.768107, 0.023711, 0.013263, 0.081663, 0.010586, 0.037635, 0.010424, 0.19657, 0.525252, 0.0869, 0.030084, 0.024109, 0.070087, 0.038573, 0.011674, 0, 0, 0, 0, 0, 0, 0, 0.016751, 0.010008, 0.053896]\n"
       ]
      }
     ],
     "prompt_number": 26
    },
    {
     "cell_type": "code",
     "collapsed": false,
     "input": [
      "f = open(\"../DIP/human/training.nolabel.positive.Entrez.txt\")\n",
      "dippairs = list(map(lambda x: frozenset(x),csv.reader(f,delimiter=\"\\t\")))\n",
      "f.close()"
     ],
     "language": "python",
     "metadata": {},
     "outputs": [],
     "prompt_number": 27
    },
    {
     "cell_type": "code",
     "collapsed": false,
     "input": [
      "highest_domine_conf = []\n",
      "for pair in dippairs:\n",
      "    try:\n",
      "        fvector = entsfeatures[pair]\n",
      "        highest_domine_conf.append(fvector[7])\n",
      "    except KeyError as inst:\n",
      "        continue"
     ],
     "language": "python",
     "metadata": {},
     "outputs": [],
     "prompt_number": 90
    },
    {
     "cell_type": "markdown",
     "metadata": {},
     "source": [
      "### How long are these vectors?"
     ]
    },
    {
     "cell_type": "code",
     "collapsed": false,
     "input": [
      "print len(fvector)"
     ],
     "language": "python",
     "metadata": {},
     "outputs": [
      {
       "output_type": "stream",
       "stream": "stdout",
       "text": [
        "104\n"
       ]
      }
     ],
     "prompt_number": 30
    },
    {
     "cell_type": "markdown",
     "metadata": {},
     "source": [
      "## Dealing with bad columns\n",
      "\n",
      "The feature vectors produced contain some strings that are not explained in the documentation.\n",
      "In the above feature vector, for instance, there is a string 'HC' in the column that should be `highest_domine_conf`.\n",
      "This should be:\n",
      "\n",
      "> The highest confidence score for a pair of domains verified to interact in the DOMINE database.\n",
      "\n",
      "The string will cause problems when trying to train the classifier as that cannot take a string as input.\n",
      "Other columns have also been observed causing problems as can be seen in older versions of the Classifier Training notebook.\n",
      "\n",
      "To deal with the `highest_domine_conf` column we first should look at what the different options are:"
     ]
    },
    {
     "cell_type": "code",
     "collapsed": false,
     "input": [
      "print set(highest_domine_conf)"
     ],
     "language": "python",
     "metadata": {},
     "outputs": [
      {
       "output_type": "stream",
       "stream": "stdout",
       "text": [
        "set(['HC', 'LC', 'MC', '0'])\n"
       ]
      }
     ],
     "prompt_number": 84
    },
    {
     "cell_type": "markdown",
     "metadata": {},
     "source": [
      "Assuming that those mean:\n",
      "\n",
      "* HC - high confidence\n",
      "* MC - medium confidence\n",
      "* LC - low confidence\n",
      "* 0 - don't know\n",
      "\n",
      "Then these are categories and we can use 1-of-k encoding.\n",
      "The `ocbio.ents` code will implement this transformation.\n",
      "Above debugging logs in this notebook __will not run anymore__."
     ]
    },
    {
     "cell_type": "code",
     "collapsed": false,
     "input": [
      "reload(ocbio.ents)"
     ],
     "language": "python",
     "metadata": {},
     "outputs": [
      {
       "metadata": {},
       "output_type": "pyout",
       "prompt_number": 99,
       "text": [
        "<module 'ocbio.ents' from '/home/gavin/Documents/MRes/opencast-bio/ocbio/ents.py'>"
       ]
      }
     ],
     "prompt_number": 99
    },
    {
     "cell_type": "code",
     "collapsed": false,
     "input": [
      "entsfeatures = ocbio.ents.ENTSfeatures(subcell_info,odds_dict,proteins,domine_interactions,\n",
      "                        protein_domain_dict,protein_gene_dict,gentreztoensembl,\n",
      "                        domain_cols,svm_subcell_cols,svm_detail_cols)"
     ],
     "language": "python",
     "metadata": {},
     "outputs": [],
     "prompt_number": 100
    },
    {
     "cell_type": "code",
     "collapsed": false,
     "input": [
      "highest_domine_conf = []\n",
      "for pair in dippairs:\n",
      "    try:\n",
      "        fvector = entsfeatures[pair]\n",
      "        highest_domine_conf.append(fvector[7:11])\n",
      "    except KeyError as inst:\n",
      "        continue"
     ],
     "language": "python",
     "metadata": {},
     "outputs": [],
     "prompt_number": 106
    },
    {
     "cell_type": "code",
     "collapsed": false,
     "input": [
      "highest_domine_conf = map(tuple, highest_domine_conf)\n",
      "print set(highest_domine_conf)"
     ],
     "language": "python",
     "metadata": {},
     "outputs": [
      {
       "output_type": "stream",
       "stream": "stdout",
       "text": [
        "set([(0, 0, 0, 1), (1, 0, 0, 0), (0, 0, 1, 0), (0, 1, 0, 0)])\n"
       ]
      }
     ],
     "prompt_number": 107
    },
    {
     "cell_type": "markdown",
     "metadata": {},
     "source": [
      "### Looking for other bad columns\n",
      "\n",
      "We can iterate over all possible feature vectors that could be produced to search for other bad features such as this:"
     ]
    },
    {
     "cell_type": "code",
     "collapsed": false,
     "input": [
      "import scipy.misc"
     ],
     "language": "python",
     "metadata": {},
     "outputs": [],
     "prompt_number": 116
    },
    {
     "cell_type": "code",
     "collapsed": false,
     "input": [
      "total = scipy.misc.comb(len(gentreztoensembl.keys()),2)"
     ],
     "language": "python",
     "metadata": {},
     "outputs": [],
     "prompt_number": 118
    },
    {
     "cell_type": "code",
     "collapsed": false,
     "input": [
      "stringdict = {}\n",
      "lcount = 0\n",
      "for pair in itertools.combinations(gentreztoensembl.keys(),2):\n",
      "    try:\n",
      "        fvector = entsfeatures[pair]\n",
      "    except KeyError:\n",
      "        pass\n",
      "    #look in this vector for strings\n",
      "    try:\n",
      "        vecfloats = map(float,fvector)\n",
      "    except:\n",
      "        #must be a string in there\n",
      "        #where is it?\n",
      "        for i,x in enumerate(fvector):\n",
      "            try:\\\n",
      "                float(x)\n",
      "            except:\n",
      "                try:\n",
      "                    stringdict[i] += [x]\n",
      "                except KeyError:\n",
      "                    stringdict[i] = [x]\n",
      "    if lcount%int(total/1000)==0:\n",
      "        print lcount\n",
      "    lcount +=1"
     ],
     "language": "python",
     "metadata": {},
     "outputs": [
      {
       "output_type": "stream",
       "stream": "stdout",
       "text": [
        "0\n",
        "220342"
       ]
      },
      {
       "output_type": "stream",
       "stream": "stdout",
       "text": [
        "\n",
        "440684"
       ]
      },
      {
       "output_type": "stream",
       "stream": "stdout",
       "text": [
        "\n",
        "661026"
       ]
      },
      {
       "output_type": "stream",
       "stream": "stdout",
       "text": [
        "\n",
        "881368"
       ]
      },
      {
       "output_type": "stream",
       "stream": "stdout",
       "text": [
        "\n",
        "1101710"
       ]
      },
      {
       "output_type": "stream",
       "stream": "stdout",
       "text": [
        "\n",
        "1322052"
       ]
      },
      {
       "output_type": "stream",
       "stream": "stdout",
       "text": [
        "\n",
        "1542394"
       ]
      },
      {
       "output_type": "stream",
       "stream": "stdout",
       "text": [
        "\n",
        "1762736"
       ]
      },
      {
       "output_type": "stream",
       "stream": "stdout",
       "text": [
        "\n",
        "1983078"
       ]
      },
      {
       "output_type": "stream",
       "stream": "stdout",
       "text": [
        "\n",
        "2203420"
       ]
      },
      {
       "output_type": "stream",
       "stream": "stdout",
       "text": [
        "\n",
        "2423762"
       ]
      },
      {
       "output_type": "stream",
       "stream": "stdout",
       "text": [
        "\n",
        "2644104"
       ]
      },
      {
       "output_type": "stream",
       "stream": "stdout",
       "text": [
        "\n",
        "2864446"
       ]
      },
      {
       "output_type": "stream",
       "stream": "stdout",
       "text": [
        "\n",
        "3084788"
       ]
      },
      {
       "output_type": "stream",
       "stream": "stdout",
       "text": [
        "\n",
        "3305130"
       ]
      },
      {
       "output_type": "stream",
       "stream": "stdout",
       "text": [
        "\n",
        "3525472"
       ]
      },
      {
       "output_type": "stream",
       "stream": "stdout",
       "text": [
        "\n",
        "3745814"
       ]
      },
      {
       "output_type": "stream",
       "stream": "stdout",
       "text": [
        "\n",
        "3966156"
       ]
      },
      {
       "output_type": "stream",
       "stream": "stdout",
       "text": [
        "\n",
        "4186498"
       ]
      },
      {
       "output_type": "stream",
       "stream": "stdout",
       "text": [
        "\n",
        "4406840"
       ]
      },
      {
       "output_type": "stream",
       "stream": "stdout",
       "text": [
        "\n",
        "4627182"
       ]
      },
      {
       "output_type": "stream",
       "stream": "stdout",
       "text": [
        "\n",
        "4847524"
       ]
      },
      {
       "output_type": "stream",
       "stream": "stdout",
       "text": [
        "\n",
        "5067866"
       ]
      },
      {
       "output_type": "stream",
       "stream": "stdout",
       "text": [
        "\n",
        "5288208"
       ]
      },
      {
       "output_type": "stream",
       "stream": "stdout",
       "text": [
        "\n",
        "5508550"
       ]
      },
      {
       "output_type": "stream",
       "stream": "stdout",
       "text": [
        "\n",
        "5728892"
       ]
      },
      {
       "output_type": "stream",
       "stream": "stdout",
       "text": [
        "\n",
        "5949234"
       ]
      },
      {
       "output_type": "stream",
       "stream": "stdout",
       "text": [
        "\n",
        "6169576"
       ]
      },
      {
       "output_type": "stream",
       "stream": "stdout",
       "text": [
        "\n",
        "6389918"
       ]
      },
      {
       "output_type": "stream",
       "stream": "stdout",
       "text": [
        "\n",
        "6610260"
       ]
      },
      {
       "output_type": "stream",
       "stream": "stdout",
       "text": [
        "\n",
        "6830602"
       ]
      },
      {
       "output_type": "stream",
       "stream": "stdout",
       "text": [
        "\n",
        "7050944"
       ]
      },
      {
       "output_type": "stream",
       "stream": "stdout",
       "text": [
        "\n",
        "7271286"
       ]
      },
      {
       "output_type": "stream",
       "stream": "stdout",
       "text": [
        "\n",
        "7491628"
       ]
      },
      {
       "output_type": "stream",
       "stream": "stdout",
       "text": [
        "\n",
        "7711970"
       ]
      },
      {
       "output_type": "stream",
       "stream": "stdout",
       "text": [
        "\n",
        "7932312"
       ]
      },
      {
       "output_type": "stream",
       "stream": "stdout",
       "text": [
        "\n",
        "8152654"
       ]
      },
      {
       "output_type": "stream",
       "stream": "stdout",
       "text": [
        "\n",
        "8372996"
       ]
      },
      {
       "output_type": "stream",
       "stream": "stdout",
       "text": [
        "\n",
        "8593338"
       ]
      },
      {
       "output_type": "stream",
       "stream": "stdout",
       "text": [
        "\n",
        "8813680"
       ]
      },
      {
       "output_type": "stream",
       "stream": "stdout",
       "text": [
        "\n",
        "9034022"
       ]
      },
      {
       "output_type": "stream",
       "stream": "stdout",
       "text": [
        "\n",
        "9254364"
       ]
      },
      {
       "output_type": "stream",
       "stream": "stdout",
       "text": [
        "\n",
        "9474706"
       ]
      },
      {
       "output_type": "stream",
       "stream": "stdout",
       "text": [
        "\n",
        "9695048"
       ]
      },
      {
       "output_type": "stream",
       "stream": "stdout",
       "text": [
        "\n",
        "9915390"
       ]
      },
      {
       "output_type": "stream",
       "stream": "stdout",
       "text": [
        "\n",
        "10135732"
       ]
      },
      {
       "output_type": "stream",
       "stream": "stdout",
       "text": [
        "\n",
        "10356074"
       ]
      },
      {
       "output_type": "stream",
       "stream": "stdout",
       "text": [
        "\n",
        "10576416"
       ]
      },
      {
       "output_type": "stream",
       "stream": "stdout",
       "text": [
        "\n",
        "10796758"
       ]
      },
      {
       "output_type": "stream",
       "stream": "stdout",
       "text": [
        "\n",
        "11017100"
       ]
      },
      {
       "output_type": "stream",
       "stream": "stdout",
       "text": [
        "\n",
        "11237442"
       ]
      },
      {
       "output_type": "stream",
       "stream": "stdout",
       "text": [
        "\n",
        "11457784"
       ]
      },
      {
       "output_type": "stream",
       "stream": "stdout",
       "text": [
        "\n",
        "11678126"
       ]
      },
      {
       "output_type": "stream",
       "stream": "stdout",
       "text": [
        "\n",
        "11898468"
       ]
      },
      {
       "output_type": "stream",
       "stream": "stdout",
       "text": [
        "\n",
        "12118810"
       ]
      },
      {
       "output_type": "stream",
       "stream": "stdout",
       "text": [
        "\n",
        "12339152"
       ]
      },
      {
       "output_type": "stream",
       "stream": "stdout",
       "text": [
        "\n",
        "12559494"
       ]
      },
      {
       "output_type": "stream",
       "stream": "stdout",
       "text": [
        "\n",
        "12779836"
       ]
      },
      {
       "output_type": "stream",
       "stream": "stdout",
       "text": [
        "\n",
        "13000178"
       ]
      },
      {
       "output_type": "stream",
       "stream": "stdout",
       "text": [
        "\n",
        "13220520"
       ]
      },
      {
       "output_type": "stream",
       "stream": "stdout",
       "text": [
        "\n",
        "13440862"
       ]
      },
      {
       "output_type": "stream",
       "stream": "stdout",
       "text": [
        "\n",
        "13661204"
       ]
      },
      {
       "output_type": "stream",
       "stream": "stdout",
       "text": [
        "\n",
        "13881546"
       ]
      },
      {
       "output_type": "stream",
       "stream": "stdout",
       "text": [
        "\n",
        "14101888"
       ]
      },
      {
       "output_type": "stream",
       "stream": "stdout",
       "text": [
        "\n",
        "14322230"
       ]
      },
      {
       "output_type": "stream",
       "stream": "stdout",
       "text": [
        "\n",
        "14542572"
       ]
      },
      {
       "output_type": "stream",
       "stream": "stdout",
       "text": [
        "\n",
        "14762914"
       ]
      },
      {
       "output_type": "stream",
       "stream": "stdout",
       "text": [
        "\n",
        "14983256"
       ]
      },
      {
       "output_type": "stream",
       "stream": "stdout",
       "text": [
        "\n",
        "15203598"
       ]
      },
      {
       "output_type": "stream",
       "stream": "stdout",
       "text": [
        "\n",
        "15423940"
       ]
      },
      {
       "output_type": "stream",
       "stream": "stdout",
       "text": [
        "\n",
        "15644282"
       ]
      },
      {
       "output_type": "stream",
       "stream": "stdout",
       "text": [
        "\n",
        "15864624"
       ]
      },
      {
       "output_type": "stream",
       "stream": "stdout",
       "text": [
        "\n",
        "16084966"
       ]
      },
      {
       "output_type": "stream",
       "stream": "stdout",
       "text": [
        "\n",
        "16305308"
       ]
      },
      {
       "output_type": "stream",
       "stream": "stdout",
       "text": [
        "\n",
        "16525650"
       ]
      },
      {
       "output_type": "stream",
       "stream": "stdout",
       "text": [
        "\n",
        "16745992"
       ]
      },
      {
       "output_type": "stream",
       "stream": "stdout",
       "text": [
        "\n",
        "16966334"
       ]
      },
      {
       "output_type": "stream",
       "stream": "stdout",
       "text": [
        "\n",
        "17186676"
       ]
      },
      {
       "output_type": "stream",
       "stream": "stdout",
       "text": [
        "\n",
        "17407018"
       ]
      },
      {
       "output_type": "stream",
       "stream": "stdout",
       "text": [
        "\n",
        "17627360"
       ]
      },
      {
       "output_type": "stream",
       "stream": "stdout",
       "text": [
        "\n",
        "17847702"
       ]
      },
      {
       "output_type": "stream",
       "stream": "stdout",
       "text": [
        "\n",
        "18068044"
       ]
      },
      {
       "output_type": "stream",
       "stream": "stdout",
       "text": [
        "\n",
        "18288386"
       ]
      },
      {
       "output_type": "stream",
       "stream": "stdout",
       "text": [
        "\n",
        "18508728"
       ]
      },
      {
       "output_type": "stream",
       "stream": "stdout",
       "text": [
        "\n",
        "18729070"
       ]
      },
      {
       "output_type": "stream",
       "stream": "stdout",
       "text": [
        "\n",
        "18949412"
       ]
      },
      {
       "output_type": "stream",
       "stream": "stdout",
       "text": [
        "\n",
        "19169754"
       ]
      },
      {
       "output_type": "stream",
       "stream": "stdout",
       "text": [
        "\n",
        "19390096"
       ]
      },
      {
       "output_type": "stream",
       "stream": "stdout",
       "text": [
        "\n",
        "19610438"
       ]
      },
      {
       "output_type": "stream",
       "stream": "stdout",
       "text": [
        "\n",
        "19830780"
       ]
      },
      {
       "output_type": "stream",
       "stream": "stdout",
       "text": [
        "\n",
        "20051122"
       ]
      },
      {
       "output_type": "stream",
       "stream": "stdout",
       "text": [
        "\n",
        "20271464"
       ]
      },
      {
       "output_type": "stream",
       "stream": "stdout",
       "text": [
        "\n",
        "20491806"
       ]
      },
      {
       "output_type": "stream",
       "stream": "stdout",
       "text": [
        "\n",
        "20712148"
       ]
      },
      {
       "output_type": "stream",
       "stream": "stdout",
       "text": [
        "\n",
        "20932490"
       ]
      },
      {
       "output_type": "stream",
       "stream": "stdout",
       "text": [
        "\n",
        "21152832"
       ]
      },
      {
       "output_type": "stream",
       "stream": "stdout",
       "text": [
        "\n",
        "21373174"
       ]
      },
      {
       "output_type": "stream",
       "stream": "stdout",
       "text": [
        "\n",
        "21593516"
       ]
      },
      {
       "output_type": "stream",
       "stream": "stdout",
       "text": [
        "\n",
        "21813858"
       ]
      },
      {
       "output_type": "stream",
       "stream": "stdout",
       "text": [
        "\n",
        "22034200"
       ]
      },
      {
       "output_type": "stream",
       "stream": "stdout",
       "text": [
        "\n",
        "22254542"
       ]
      },
      {
       "output_type": "stream",
       "stream": "stdout",
       "text": [
        "\n",
        "22474884"
       ]
      },
      {
       "output_type": "stream",
       "stream": "stdout",
       "text": [
        "\n",
        "22695226"
       ]
      },
      {
       "output_type": "stream",
       "stream": "stdout",
       "text": [
        "\n",
        "22915568"
       ]
      },
      {
       "output_type": "stream",
       "stream": "stdout",
       "text": [
        "\n",
        "23135910"
       ]
      },
      {
       "output_type": "stream",
       "stream": "stdout",
       "text": [
        "\n",
        "23356252"
       ]
      },
      {
       "output_type": "stream",
       "stream": "stdout",
       "text": [
        "\n",
        "23576594"
       ]
      },
      {
       "output_type": "stream",
       "stream": "stdout",
       "text": [
        "\n",
        "23796936"
       ]
      },
      {
       "output_type": "stream",
       "stream": "stdout",
       "text": [
        "\n",
        "24017278"
       ]
      },
      {
       "output_type": "stream",
       "stream": "stdout",
       "text": [
        "\n",
        "24237620"
       ]
      },
      {
       "output_type": "stream",
       "stream": "stdout",
       "text": [
        "\n",
        "24457962"
       ]
      },
      {
       "output_type": "stream",
       "stream": "stdout",
       "text": [
        "\n",
        "24678304"
       ]
      },
      {
       "output_type": "stream",
       "stream": "stdout",
       "text": [
        "\n",
        "24898646"
       ]
      },
      {
       "output_type": "stream",
       "stream": "stdout",
       "text": [
        "\n",
        "25118988"
       ]
      },
      {
       "output_type": "stream",
       "stream": "stdout",
       "text": [
        "\n",
        "25339330"
       ]
      },
      {
       "output_type": "stream",
       "stream": "stdout",
       "text": [
        "\n",
        "25559672"
       ]
      },
      {
       "output_type": "stream",
       "stream": "stdout",
       "text": [
        "\n",
        "25780014"
       ]
      },
      {
       "output_type": "stream",
       "stream": "stdout",
       "text": [
        "\n",
        "26000356"
       ]
      },
      {
       "output_type": "stream",
       "stream": "stdout",
       "text": [
        "\n",
        "26220698"
       ]
      },
      {
       "output_type": "stream",
       "stream": "stdout",
       "text": [
        "\n",
        "26441040"
       ]
      },
      {
       "output_type": "stream",
       "stream": "stdout",
       "text": [
        "\n",
        "26661382"
       ]
      },
      {
       "output_type": "stream",
       "stream": "stdout",
       "text": [
        "\n",
        "26881724"
       ]
      },
      {
       "output_type": "stream",
       "stream": "stdout",
       "text": [
        "\n",
        "27102066"
       ]
      },
      {
       "output_type": "stream",
       "stream": "stdout",
       "text": [
        "\n",
        "27322408"
       ]
      },
      {
       "output_type": "stream",
       "stream": "stdout",
       "text": [
        "\n",
        "27542750"
       ]
      },
      {
       "output_type": "stream",
       "stream": "stdout",
       "text": [
        "\n",
        "27763092"
       ]
      },
      {
       "output_type": "stream",
       "stream": "stdout",
       "text": [
        "\n",
        "27983434"
       ]
      },
      {
       "output_type": "stream",
       "stream": "stdout",
       "text": [
        "\n",
        "28203776"
       ]
      },
      {
       "output_type": "stream",
       "stream": "stdout",
       "text": [
        "\n",
        "28424118"
       ]
      },
      {
       "output_type": "stream",
       "stream": "stdout",
       "text": [
        "\n",
        "28644460"
       ]
      },
      {
       "output_type": "stream",
       "stream": "stdout",
       "text": [
        "\n",
        "28864802"
       ]
      },
      {
       "output_type": "stream",
       "stream": "stdout",
       "text": [
        "\n",
        "29085144"
       ]
      },
      {
       "output_type": "stream",
       "stream": "stdout",
       "text": [
        "\n",
        "29305486"
       ]
      },
      {
       "output_type": "stream",
       "stream": "stdout",
       "text": [
        "\n",
        "29525828"
       ]
      },
      {
       "output_type": "stream",
       "stream": "stdout",
       "text": [
        "\n",
        "29746170"
       ]
      },
      {
       "output_type": "stream",
       "stream": "stdout",
       "text": [
        "\n",
        "29966512"
       ]
      },
      {
       "output_type": "stream",
       "stream": "stdout",
       "text": [
        "\n",
        "30186854"
       ]
      },
      {
       "output_type": "stream",
       "stream": "stdout",
       "text": [
        "\n",
        "30407196"
       ]
      },
      {
       "output_type": "stream",
       "stream": "stdout",
       "text": [
        "\n",
        "30627538"
       ]
      },
      {
       "output_type": "stream",
       "stream": "stdout",
       "text": [
        "\n",
        "30847880"
       ]
      },
      {
       "output_type": "stream",
       "stream": "stdout",
       "text": [
        "\n",
        "31068222"
       ]
      },
      {
       "output_type": "stream",
       "stream": "stdout",
       "text": [
        "\n",
        "31288564"
       ]
      },
      {
       "output_type": "stream",
       "stream": "stdout",
       "text": [
        "\n",
        "31508906"
       ]
      },
      {
       "output_type": "stream",
       "stream": "stdout",
       "text": [
        "\n",
        "31729248"
       ]
      },
      {
       "output_type": "stream",
       "stream": "stdout",
       "text": [
        "\n",
        "31949590"
       ]
      },
      {
       "output_type": "stream",
       "stream": "stdout",
       "text": [
        "\n",
        "32169932"
       ]
      },
      {
       "output_type": "stream",
       "stream": "stdout",
       "text": [
        "\n",
        "32390274"
       ]
      },
      {
       "output_type": "stream",
       "stream": "stdout",
       "text": [
        "\n",
        "32610616"
       ]
      },
      {
       "output_type": "stream",
       "stream": "stdout",
       "text": [
        "\n",
        "32830958"
       ]
      },
      {
       "output_type": "stream",
       "stream": "stdout",
       "text": [
        "\n",
        "33051300"
       ]
      },
      {
       "output_type": "stream",
       "stream": "stdout",
       "text": [
        "\n",
        "33271642"
       ]
      },
      {
       "output_type": "stream",
       "stream": "stdout",
       "text": [
        "\n",
        "33491984"
       ]
      },
      {
       "output_type": "stream",
       "stream": "stdout",
       "text": [
        "\n",
        "33712326"
       ]
      },
      {
       "output_type": "stream",
       "stream": "stdout",
       "text": [
        "\n",
        "33932668"
       ]
      },
      {
       "output_type": "stream",
       "stream": "stdout",
       "text": [
        "\n",
        "34153010"
       ]
      },
      {
       "output_type": "stream",
       "stream": "stdout",
       "text": [
        "\n",
        "34373352"
       ]
      },
      {
       "output_type": "stream",
       "stream": "stdout",
       "text": [
        "\n",
        "34593694"
       ]
      },
      {
       "output_type": "stream",
       "stream": "stdout",
       "text": [
        "\n",
        "34814036"
       ]
      },
      {
       "output_type": "stream",
       "stream": "stdout",
       "text": [
        "\n",
        "35034378"
       ]
      },
      {
       "output_type": "stream",
       "stream": "stdout",
       "text": [
        "\n",
        "35254720"
       ]
      },
      {
       "output_type": "stream",
       "stream": "stdout",
       "text": [
        "\n",
        "35475062"
       ]
      },
      {
       "output_type": "stream",
       "stream": "stdout",
       "text": [
        "\n",
        "35695404"
       ]
      },
      {
       "output_type": "stream",
       "stream": "stdout",
       "text": [
        "\n",
        "35915746"
       ]
      },
      {
       "output_type": "stream",
       "stream": "stdout",
       "text": [
        "\n",
        "36136088"
       ]
      },
      {
       "output_type": "stream",
       "stream": "stdout",
       "text": [
        "\n",
        "36356430"
       ]
      },
      {
       "output_type": "stream",
       "stream": "stdout",
       "text": [
        "\n",
        "36576772"
       ]
      },
      {
       "output_type": "stream",
       "stream": "stdout",
       "text": [
        "\n",
        "36797114"
       ]
      },
      {
       "output_type": "stream",
       "stream": "stdout",
       "text": [
        "\n",
        "37017456"
       ]
      },
      {
       "output_type": "stream",
       "stream": "stdout",
       "text": [
        "\n",
        "37237798"
       ]
      },
      {
       "output_type": "stream",
       "stream": "stdout",
       "text": [
        "\n",
        "37458140"
       ]
      },
      {
       "output_type": "stream",
       "stream": "stdout",
       "text": [
        "\n",
        "37678482"
       ]
      },
      {
       "output_type": "stream",
       "stream": "stdout",
       "text": [
        "\n",
        "37898824"
       ]
      },
      {
       "output_type": "stream",
       "stream": "stdout",
       "text": [
        "\n",
        "38119166"
       ]
      },
      {
       "output_type": "stream",
       "stream": "stdout",
       "text": [
        "\n",
        "38339508"
       ]
      },
      {
       "output_type": "stream",
       "stream": "stdout",
       "text": [
        "\n",
        "38559850"
       ]
      },
      {
       "output_type": "stream",
       "stream": "stdout",
       "text": [
        "\n",
        "38780192"
       ]
      },
      {
       "output_type": "stream",
       "stream": "stdout",
       "text": [
        "\n",
        "39000534"
       ]
      },
      {
       "output_type": "stream",
       "stream": "stdout",
       "text": [
        "\n",
        "39220876"
       ]
      },
      {
       "output_type": "stream",
       "stream": "stdout",
       "text": [
        "\n",
        "39441218"
       ]
      },
      {
       "output_type": "stream",
       "stream": "stdout",
       "text": [
        "\n",
        "39661560"
       ]
      },
      {
       "output_type": "stream",
       "stream": "stdout",
       "text": [
        "\n",
        "39881902"
       ]
      },
      {
       "output_type": "stream",
       "stream": "stdout",
       "text": [
        "\n",
        "40102244"
       ]
      },
      {
       "output_type": "stream",
       "stream": "stdout",
       "text": [
        "\n",
        "40322586"
       ]
      },
      {
       "output_type": "stream",
       "stream": "stdout",
       "text": [
        "\n",
        "40542928"
       ]
      },
      {
       "output_type": "stream",
       "stream": "stdout",
       "text": [
        "\n",
        "40763270"
       ]
      },
      {
       "output_type": "stream",
       "stream": "stdout",
       "text": [
        "\n",
        "40983612"
       ]
      },
      {
       "output_type": "stream",
       "stream": "stdout",
       "text": [
        "\n",
        "41203954"
       ]
      },
      {
       "output_type": "stream",
       "stream": "stdout",
       "text": [
        "\n",
        "41424296"
       ]
      },
      {
       "output_type": "stream",
       "stream": "stdout",
       "text": [
        "\n",
        "41644638"
       ]
      },
      {
       "output_type": "stream",
       "stream": "stdout",
       "text": [
        "\n",
        "41864980"
       ]
      },
      {
       "output_type": "stream",
       "stream": "stdout",
       "text": [
        "\n",
        "42085322"
       ]
      },
      {
       "output_type": "stream",
       "stream": "stdout",
       "text": [
        "\n",
        "42305664"
       ]
      },
      {
       "output_type": "stream",
       "stream": "stdout",
       "text": [
        "\n",
        "42526006"
       ]
      },
      {
       "output_type": "stream",
       "stream": "stdout",
       "text": [
        "\n",
        "42746348"
       ]
      },
      {
       "output_type": "stream",
       "stream": "stdout",
       "text": [
        "\n",
        "42966690"
       ]
      },
      {
       "output_type": "stream",
       "stream": "stdout",
       "text": [
        "\n",
        "43187032"
       ]
      },
      {
       "output_type": "stream",
       "stream": "stdout",
       "text": [
        "\n",
        "43407374"
       ]
      },
      {
       "output_type": "stream",
       "stream": "stdout",
       "text": [
        "\n",
        "43627716"
       ]
      },
      {
       "output_type": "stream",
       "stream": "stdout",
       "text": [
        "\n",
        "43848058"
       ]
      },
      {
       "output_type": "stream",
       "stream": "stdout",
       "text": [
        "\n",
        "44068400"
       ]
      },
      {
       "output_type": "stream",
       "stream": "stdout",
       "text": [
        "\n",
        "44288742"
       ]
      },
      {
       "output_type": "stream",
       "stream": "stdout",
       "text": [
        "\n",
        "44509084"
       ]
      },
      {
       "output_type": "stream",
       "stream": "stdout",
       "text": [
        "\n",
        "44729426"
       ]
      },
      {
       "output_type": "stream",
       "stream": "stdout",
       "text": [
        "\n",
        "44949768"
       ]
      },
      {
       "output_type": "stream",
       "stream": "stdout",
       "text": [
        "\n",
        "45170110"
       ]
      },
      {
       "output_type": "stream",
       "stream": "stdout",
       "text": [
        "\n",
        "45390452"
       ]
      },
      {
       "output_type": "stream",
       "stream": "stdout",
       "text": [
        "\n",
        "45610794"
       ]
      },
      {
       "output_type": "stream",
       "stream": "stdout",
       "text": [
        "\n",
        "45831136"
       ]
      },
      {
       "output_type": "stream",
       "stream": "stdout",
       "text": [
        "\n",
        "46051478"
       ]
      },
      {
       "output_type": "stream",
       "stream": "stdout",
       "text": [
        "\n",
        "46271820"
       ]
      },
      {
       "output_type": "stream",
       "stream": "stdout",
       "text": [
        "\n",
        "46492162"
       ]
      },
      {
       "output_type": "stream",
       "stream": "stdout",
       "text": [
        "\n",
        "46712504"
       ]
      },
      {
       "output_type": "stream",
       "stream": "stdout",
       "text": [
        "\n",
        "46932846"
       ]
      },
      {
       "output_type": "stream",
       "stream": "stdout",
       "text": [
        "\n",
        "47153188"
       ]
      },
      {
       "output_type": "stream",
       "stream": "stdout",
       "text": [
        "\n",
        "47373530"
       ]
      },
      {
       "output_type": "stream",
       "stream": "stdout",
       "text": [
        "\n",
        "47593872"
       ]
      },
      {
       "output_type": "stream",
       "stream": "stdout",
       "text": [
        "\n",
        "47814214"
       ]
      },
      {
       "output_type": "stream",
       "stream": "stdout",
       "text": [
        "\n",
        "48034556"
       ]
      },
      {
       "output_type": "stream",
       "stream": "stdout",
       "text": [
        "\n",
        "48254898"
       ]
      },
      {
       "output_type": "stream",
       "stream": "stdout",
       "text": [
        "\n",
        "48475240"
       ]
      },
      {
       "output_type": "stream",
       "stream": "stdout",
       "text": [
        "\n",
        "48695582"
       ]
      },
      {
       "output_type": "stream",
       "stream": "stdout",
       "text": [
        "\n",
        "48915924"
       ]
      },
      {
       "output_type": "stream",
       "stream": "stdout",
       "text": [
        "\n",
        "49136266"
       ]
      },
      {
       "output_type": "stream",
       "stream": "stdout",
       "text": [
        "\n",
        "49356608"
       ]
      },
      {
       "output_type": "stream",
       "stream": "stdout",
       "text": [
        "\n",
        "49576950"
       ]
      },
      {
       "output_type": "stream",
       "stream": "stdout",
       "text": [
        "\n",
        "49797292"
       ]
      },
      {
       "output_type": "stream",
       "stream": "stdout",
       "text": [
        "\n",
        "50017634"
       ]
      },
      {
       "output_type": "stream",
       "stream": "stdout",
       "text": [
        "\n",
        "50237976"
       ]
      },
      {
       "output_type": "stream",
       "stream": "stdout",
       "text": [
        "\n",
        "50458318"
       ]
      },
      {
       "output_type": "stream",
       "stream": "stdout",
       "text": [
        "\n",
        "50678660"
       ]
      },
      {
       "output_type": "stream",
       "stream": "stdout",
       "text": [
        "\n",
        "50899002"
       ]
      },
      {
       "output_type": "stream",
       "stream": "stdout",
       "text": [
        "\n",
        "51119344"
       ]
      },
      {
       "output_type": "stream",
       "stream": "stdout",
       "text": [
        "\n",
        "51339686"
       ]
      },
      {
       "output_type": "stream",
       "stream": "stdout",
       "text": [
        "\n",
        "51560028"
       ]
      },
      {
       "output_type": "stream",
       "stream": "stdout",
       "text": [
        "\n",
        "51780370"
       ]
      },
      {
       "output_type": "stream",
       "stream": "stdout",
       "text": [
        "\n",
        "52000712"
       ]
      },
      {
       "output_type": "stream",
       "stream": "stdout",
       "text": [
        "\n",
        "52221054"
       ]
      },
      {
       "output_type": "stream",
       "stream": "stdout",
       "text": [
        "\n",
        "52441396"
       ]
      },
      {
       "output_type": "stream",
       "stream": "stdout",
       "text": [
        "\n",
        "52661738"
       ]
      },
      {
       "output_type": "stream",
       "stream": "stdout",
       "text": [
        "\n",
        "52882080"
       ]
      },
      {
       "output_type": "stream",
       "stream": "stdout",
       "text": [
        "\n",
        "53102422"
       ]
      },
      {
       "output_type": "stream",
       "stream": "stdout",
       "text": [
        "\n",
        "53322764"
       ]
      },
      {
       "output_type": "stream",
       "stream": "stdout",
       "text": [
        "\n",
        "53543106"
       ]
      },
      {
       "output_type": "stream",
       "stream": "stdout",
       "text": [
        "\n",
        "53763448"
       ]
      },
      {
       "output_type": "stream",
       "stream": "stdout",
       "text": [
        "\n",
        "53983790"
       ]
      },
      {
       "output_type": "stream",
       "stream": "stdout",
       "text": [
        "\n",
        "54204132"
       ]
      },
      {
       "output_type": "stream",
       "stream": "stdout",
       "text": [
        "\n",
        "54424474"
       ]
      },
      {
       "output_type": "stream",
       "stream": "stdout",
       "text": [
        "\n",
        "54644816"
       ]
      },
      {
       "output_type": "stream",
       "stream": "stdout",
       "text": [
        "\n",
        "54865158"
       ]
      },
      {
       "output_type": "stream",
       "stream": "stdout",
       "text": [
        "\n",
        "55085500"
       ]
      },
      {
       "output_type": "stream",
       "stream": "stdout",
       "text": [
        "\n",
        "55305842"
       ]
      },
      {
       "output_type": "stream",
       "stream": "stdout",
       "text": [
        "\n",
        "55526184"
       ]
      },
      {
       "output_type": "stream",
       "stream": "stdout",
       "text": [
        "\n",
        "55746526"
       ]
      },
      {
       "output_type": "stream",
       "stream": "stdout",
       "text": [
        "\n",
        "55966868"
       ]
      },
      {
       "output_type": "stream",
       "stream": "stdout",
       "text": [
        "\n",
        "56187210"
       ]
      },
      {
       "output_type": "stream",
       "stream": "stdout",
       "text": [
        "\n",
        "56407552"
       ]
      },
      {
       "output_type": "stream",
       "stream": "stdout",
       "text": [
        "\n",
        "56627894"
       ]
      },
      {
       "output_type": "stream",
       "stream": "stdout",
       "text": [
        "\n",
        "56848236"
       ]
      },
      {
       "output_type": "stream",
       "stream": "stdout",
       "text": [
        "\n",
        "57068578"
       ]
      },
      {
       "output_type": "stream",
       "stream": "stdout",
       "text": [
        "\n",
        "57288920"
       ]
      },
      {
       "output_type": "stream",
       "stream": "stdout",
       "text": [
        "\n",
        "57509262"
       ]
      },
      {
       "output_type": "stream",
       "stream": "stdout",
       "text": [
        "\n",
        "57729604"
       ]
      },
      {
       "output_type": "stream",
       "stream": "stdout",
       "text": [
        "\n",
        "57949946"
       ]
      },
      {
       "output_type": "stream",
       "stream": "stdout",
       "text": [
        "\n",
        "58170288"
       ]
      },
      {
       "output_type": "stream",
       "stream": "stdout",
       "text": [
        "\n",
        "58390630"
       ]
      },
      {
       "output_type": "stream",
       "stream": "stdout",
       "text": [
        "\n",
        "58610972"
       ]
      },
      {
       "output_type": "stream",
       "stream": "stdout",
       "text": [
        "\n",
        "58831314"
       ]
      },
      {
       "output_type": "stream",
       "stream": "stdout",
       "text": [
        "\n",
        "59051656"
       ]
      },
      {
       "output_type": "stream",
       "stream": "stdout",
       "text": [
        "\n",
        "59271998"
       ]
      },
      {
       "output_type": "stream",
       "stream": "stdout",
       "text": [
        "\n",
        "59492340"
       ]
      },
      {
       "output_type": "stream",
       "stream": "stdout",
       "text": [
        "\n",
        "59712682"
       ]
      },
      {
       "output_type": "stream",
       "stream": "stdout",
       "text": [
        "\n",
        "59933024"
       ]
      },
      {
       "output_type": "stream",
       "stream": "stdout",
       "text": [
        "\n",
        "60153366"
       ]
      },
      {
       "output_type": "stream",
       "stream": "stdout",
       "text": [
        "\n",
        "60373708"
       ]
      },
      {
       "output_type": "stream",
       "stream": "stdout",
       "text": [
        "\n",
        "60594050"
       ]
      },
      {
       "output_type": "stream",
       "stream": "stdout",
       "text": [
        "\n",
        "60814392"
       ]
      },
      {
       "output_type": "stream",
       "stream": "stdout",
       "text": [
        "\n",
        "61034734"
       ]
      },
      {
       "output_type": "stream",
       "stream": "stdout",
       "text": [
        "\n",
        "61255076"
       ]
      },
      {
       "output_type": "stream",
       "stream": "stdout",
       "text": [
        "\n",
        "61475418"
       ]
      },
      {
       "output_type": "stream",
       "stream": "stdout",
       "text": [
        "\n",
        "61695760"
       ]
      },
      {
       "output_type": "stream",
       "stream": "stdout",
       "text": [
        "\n",
        "61916102"
       ]
      },
      {
       "output_type": "stream",
       "stream": "stdout",
       "text": [
        "\n",
        "62136444"
       ]
      },
      {
       "output_type": "stream",
       "stream": "stdout",
       "text": [
        "\n",
        "62356786"
       ]
      },
      {
       "output_type": "stream",
       "stream": "stdout",
       "text": [
        "\n",
        "62577128"
       ]
      },
      {
       "output_type": "stream",
       "stream": "stdout",
       "text": [
        "\n"
       ]
      },
      {
       "ename": "KeyboardInterrupt",
       "evalue": "",
       "output_type": "pyerr",
       "traceback": [
        "\u001b[1;31m---------------------------------------------------------------------------\u001b[0m\n\u001b[1;31mKeyboardInterrupt\u001b[0m                         Traceback (most recent call last)",
        "\u001b[1;32m<ipython-input-131-b9f46696fe28>\u001b[0m in \u001b[0;36m<module>\u001b[1;34m()\u001b[0m\n\u001b[0;32m      3\u001b[0m \u001b[1;32mfor\u001b[0m \u001b[0mpair\u001b[0m \u001b[1;32min\u001b[0m \u001b[0mitertools\u001b[0m\u001b[1;33m.\u001b[0m\u001b[0mcombinations\u001b[0m\u001b[1;33m(\u001b[0m\u001b[0mgentreztoensembl\u001b[0m\u001b[1;33m.\u001b[0m\u001b[0mkeys\u001b[0m\u001b[1;33m(\u001b[0m\u001b[1;33m)\u001b[0m\u001b[1;33m,\u001b[0m\u001b[1;36m2\u001b[0m\u001b[1;33m)\u001b[0m\u001b[1;33m:\u001b[0m\u001b[1;33m\u001b[0m\u001b[0m\n\u001b[0;32m      4\u001b[0m     \u001b[1;32mtry\u001b[0m\u001b[1;33m:\u001b[0m\u001b[1;33m\u001b[0m\u001b[0m\n\u001b[1;32m----> 5\u001b[1;33m         \u001b[0mfvector\u001b[0m \u001b[1;33m=\u001b[0m \u001b[0mentsfeatures\u001b[0m\u001b[1;33m[\u001b[0m\u001b[0mpair\u001b[0m\u001b[1;33m]\u001b[0m\u001b[1;33m\u001b[0m\u001b[0m\n\u001b[0m\u001b[0;32m      6\u001b[0m     \u001b[1;32mexcept\u001b[0m \u001b[0mKeyError\u001b[0m\u001b[1;33m:\u001b[0m\u001b[1;33m\u001b[0m\u001b[0m\n\u001b[0;32m      7\u001b[0m         \u001b[1;32mpass\u001b[0m\u001b[1;33m\u001b[0m\u001b[0m\n",
        "\u001b[1;32m/home/gavin/Documents/MRes/opencast-bio/ocbio/ents.py\u001b[0m in \u001b[0;36m__getitem__\u001b[1;34m(self, key)\u001b[0m\n\u001b[0;32m    158\u001b[0m                 \u001b[1;32mraise\u001b[0m \u001b[0mKeyError\u001b[0m\u001b[1;33m(\u001b[0m\u001b[1;34m\"Unknown protein\"\u001b[0m\u001b[1;33m)\u001b[0m\u001b[1;33m\u001b[0m\u001b[0m\n\u001b[0;32m    159\u001b[0m         \u001b[1;31m#retrieve the feature vector\u001b[0m\u001b[1;33m\u001b[0m\u001b[1;33m\u001b[0m\u001b[0m\n\u001b[1;32m--> 160\u001b[1;33m         \u001b[0mfvector\u001b[0m \u001b[1;33m=\u001b[0m \u001b[0mself\u001b[0m\u001b[1;33m.\u001b[0m\u001b[0mgetfeaturevector\u001b[0m\u001b[1;33m(\u001b[0m\u001b[0mprotein1\u001b[0m\u001b[1;33m,\u001b[0m\u001b[0mprotein2\u001b[0m\u001b[1;33m)\u001b[0m\u001b[1;33m\u001b[0m\u001b[0m\n\u001b[0m\u001b[0;32m    161\u001b[0m         \u001b[1;32mif\u001b[0m \u001b[0mfvector\u001b[0m \u001b[1;33m==\u001b[0m \u001b[0mNone\u001b[0m\u001b[1;33m:\u001b[0m\u001b[1;33m\u001b[0m\u001b[0m\n\u001b[0;32m    162\u001b[0m             \u001b[1;32mraise\u001b[0m \u001b[0mKeyError\u001b[0m\u001b[1;33m(\u001b[0m\u001b[1;34m\"No feature vector found for pair {0}\"\u001b[0m\u001b[1;33m.\u001b[0m\u001b[0mformat\u001b[0m\u001b[1;33m(\u001b[0m\u001b[0mpair\u001b[0m\u001b[1;33m)\u001b[0m\u001b[1;33m)\u001b[0m\u001b[1;33m\u001b[0m\u001b[0m\n",
        "\u001b[1;31mKeyboardInterrupt\u001b[0m: "
       ]
      }
     ],
     "prompt_number": 131
    },
    {
     "cell_type": "markdown",
     "metadata": {},
     "source": [
      "Had to interrupt the above loop as it had already been running for over 12 hours.\n",
      "Tested 62 million pairs though and didn't see a single string, as shown below:"
     ]
    },
    {
     "cell_type": "code",
     "collapsed": false,
     "input": [
      "print stringdict.keys()"
     ],
     "language": "python",
     "metadata": {},
     "outputs": [
      {
       "output_type": "stream",
       "stream": "stdout",
       "text": [
        "[]\n"
       ]
      }
     ],
     "prompt_number": 132
    },
    {
     "cell_type": "markdown",
     "metadata": {},
     "source": [
      "## Pickling instances\n",
      "\n",
      "Now that the object has been tested we can pickle the two instances:\n",
      "\n",
      "* One with the full Entrez to Ensembl dictionary\n",
      "* One with the conservative Entrez to Ensembl dictionary"
     ]
    },
    {
     "cell_type": "code",
     "collapsed": false,
     "input": [
      "cd ../ents/"
     ],
     "language": "python",
     "metadata": {},
     "outputs": [
      {
       "output_type": "stream",
       "stream": "stdout",
       "text": [
        "/home/gavin/Documents/MRes/ents\n"
       ]
      }
     ],
     "prompt_number": 134
    },
    {
     "cell_type": "code",
     "collapsed": false,
     "input": [
      "!git annex unlock human.ENTS.features.pickle"
     ],
     "language": "python",
     "metadata": {},
     "outputs": [
      {
       "output_type": "stream",
       "stream": "stdout",
       "text": [
        "unlock human.ENTS.features.pickle "
       ]
      },
      {
       "output_type": "stream",
       "stream": "stdout",
       "text": [
        "(copying...) "
       ]
      },
      {
       "output_type": "stream",
       "stream": "stdout",
       "text": [
        "ok\r\n"
       ]
      }
     ],
     "prompt_number": 135
    },
    {
     "cell_type": "code",
     "collapsed": false,
     "input": [
      "f = open(\"human.ENTS.features.pickle\",\"wb\")\n",
      "pickle.dump(entsfeatures,f)\n",
      "f.close()"
     ],
     "language": "python",
     "metadata": {},
     "outputs": [],
     "prompt_number": 136
    },
    {
     "cell_type": "markdown",
     "metadata": {},
     "source": [
      "## Writing column labels\n",
      "\n",
      "For reference, will write a file containing all the column labels for each feature:"
     ]
    },
    {
     "cell_type": "code",
     "collapsed": false,
     "input": [
      "f = open(\"human.ENTS.features.labels.txt\",\"w\")\n",
      "csv.writer(f,delimiter=\"\\n\").writerow(domain_cols+svm_subcell_cols+svm_detail_cols)\n",
      "f.close()"
     ],
     "language": "python",
     "metadata": {},
     "outputs": [],
     "prompt_number": 137
    }
   ],
   "metadata": {}
  }
 ]
}