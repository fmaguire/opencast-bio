{
 "metadata": {
  "name": "",
  "signature": "sha256:5475b24210d00f6560af5303294bd5ac1da023d6a192e181f5c7d3c723086a0e"
 },
 "nbformat": 3,
 "nbformat_minor": 0,
 "worksheets": [
  {
   "cells": [
    {
     "cell_type": "markdown",
     "metadata": {},
     "source": [
      "This notebook is to inspect, load and modify some of the code from the [ENTs][] paper's [tar file][entstar].\n",
      "The aim to produce a pickled object to return features for given protein pairs in the way it was done for Gene Ontology features.\n",
      "\n",
      "# Loading data\n",
      "\n",
      "The data is loaded in the code in the file `run_genome_prob.py`.\n",
      "The code to do this is relatively short and has been loaded into the cell below.\n",
      "\n",
      "[ents]: http://ents.as.wvu.edu/index.php\n",
      "[entstar]: http://ents.as.wvu.edu/software/ents_standalone.tar.gz"
     ]
    },
    {
     "cell_type": "code",
     "collapsed": false,
     "input": [
      "cd ../../ents/standalone/"
     ],
     "language": "python",
     "metadata": {},
     "outputs": [
      {
       "output_type": "stream",
       "stream": "stdout",
       "text": [
        "/home/gavin/Documents/MRes/ents/standalone\n"
       ]
      }
     ],
     "prompt_number": 1
    },
    {
     "cell_type": "code",
     "collapsed": false,
     "input": [
      "import pred_file_maker\n",
      "from multiloc2 import MultiLoc2_highres\n",
      "from DataFrame import DataFrame\n",
      "from R_utilities import R_utilities as R\n",
      "from optparse import OptionParser\n",
      "from multiprocessing import Process\n",
      "import os\n",
      "import numpy as np"
     ],
     "language": "python",
     "metadata": {},
     "outputs": [],
     "prompt_number": 2
    },
    {
     "cell_type": "code",
     "collapsed": false,
     "input": [
      "def get_n_unique_prots(subcell_file, prot_dict_file_name):\n",
      "        subcell_info = MultiLoc2_highres(subcell_file)\n",
      "        subcell_info = dict((k.split('.')[0],v) for k,v in subcell_info.gene_dict.iteritems())\n",
      "        prot_dict_file = open(prot_dict_file_name)\n",
      "        count = 0\n",
      "        for line in prot_dict_file:\n",
      "                line = line.strip().split('\\t')\n",
      "                if line[1] not in subcell_info: continue\n",
      "                else: count += 1\n",
      "        return count"
     ],
     "language": "python",
     "metadata": {},
     "outputs": [],
     "prompt_number": 3
    },
    {
     "cell_type": "code",
     "collapsed": false,
     "input": [
      "# define file names\n",
      "subcell_file = \"h_sapiens_subcellular_multiloc2.out\"\n",
      "odds_file_name = \"domain_odds.in\"\n",
      "domine_file_name = \"domine_flat_file.in\"\n",
      "prot_dict_file_name = \"H_sapiens_domains.out\""
     ],
     "language": "python",
     "metadata": {},
     "outputs": [],
     "prompt_number": 4
    },
    {
     "cell_type": "code",
     "collapsed": false,
     "input": [
      "### Open the files ###\n",
      "print \"Reading input files...\"\n",
      "subcell_info = MultiLoc2_highres(subcell_file)\n",
      "org_type = subcell_info.org_type\n",
      "# Create dictionary of gene_name -> info for the subcellular localization\n",
      "subcell_info = dict((k.split('.')[0],v) for k,v in subcell_info.gene_dict.iteritems())\n",
      "odds_file = open(odds_file_name)\n",
      "# Create dictionary of domain_pair -> odds_of_interaction_association\n",
      "odds_dict = {}\n",
      "for line in odds_file:\n",
      "        line = line.strip().split(':')\n",
      "        odds = float(line[1])\n",
      "        pair = line[0].split(',')\n",
      "        odds_dict[tuple(sorted(pair))] = odds\n",
      "odds_file.close()\n",
      "print \"Done.\"\n",
      "### Get essential protein information ###\n",
      "print \"Getting protein information...\"\n",
      "# Get all organism genes\n",
      "proteins = []\n",
      "# Dictionary from gene_stable_id -> protein_stable_id and the other way around\n",
      "gene_protein_dict = {}\n",
      "protein_gene_dict= {}\n",
      "protein_domain_dict = {}\n",
      "prot_dict_file = open(prot_dict_file_name)\n",
      "for line in prot_dict_file:\n",
      "        line = line.strip().split('\\t')\n",
      "        if line[1] not in subcell_info: continue\n",
      "        proteins.append(line[0])\n",
      "        gene_protein_dict[line[1]] = line[0]\n",
      "        protein_gene_dict[line[0]] = line[1]\n",
      "        if len(line) ==3: \n",
      "                protein_domain_dict[line[0]] = line[2].split(' ')\n",
      "        else: protein_domain_dict[line[0]] = []\n",
      "prot_dict_file.close()\n",
      "# Get domine interactions as dictionary of domine_pair -> confidence\n",
      "domine_interactions = {}\n",
      "domine = open(domine_file_name)\n",
      "for line in domine:\n",
      "        line = line.strip().split('\\t')\n",
      "        domine_interactions[tuple(sorted(line[0].split(',')))] = line[1]\n",
      "print \"Done.\""
     ],
     "language": "python",
     "metadata": {},
     "outputs": [
      {
       "output_type": "stream",
       "stream": "stdout",
       "text": [
        "Reading input files...\n",
        "Done."
       ]
      },
      {
       "output_type": "stream",
       "stream": "stdout",
       "text": [
        "\n",
        "Getting protein information...\n",
        "Done."
       ]
      },
      {
       "output_type": "stream",
       "stream": "stdout",
       "text": [
        "\n"
       ]
      }
     ],
     "prompt_number": 5
    },
    {
     "cell_type": "markdown",
     "metadata": {},
     "source": [
      "# Creating a feature vector\n",
      "\n",
      "The code originally uses these parsed data files to then write a file which is input to R through Rserve.\n",
      "Looking at this code we can use this same data and create feature vectors for arbitrary protein pairs.\n",
      "The code to write to file is as follows:\n",
      "\n",
      "```python\n",
      "for line in pair_file:\n",
      "        line = line.strip().split('\\t')\n",
      "        # Get the domain part of the string\n",
      "        protein1 = line[0]\n",
      "        protein2 = line[1]\n",
      "        if protein1 not in pair_prots: pair_prots.append(protein1)\n",
      "        if protein2 not in pair_prots: pair_prots.append(protein2)\n",
      "        try:\n",
      "                domain_string = makeDomainString(protein_domain_dict[protein1], protein_domain_dict[protein2],\\\n",
      "                        domine_interactions, odds_dict)\n",
      "        except:\n",
      "                key1 = [x for x in protein_domain_dict.keys() if protein1.startswith(x.split('.')[0])]\n",
      "                key2 = [x for x in protein_domain_dict.keys() if protein2.startswith(x.split('.')[0])]\n",
      "                if len(key1) == 0 or len(key2) == 0: continue\n",
      "                else:\n",
      "                        domain_string = makeDomainString(protein_domain_dict[key1[0]], protein_domain_dict[key2[0]],\\\n",
      "                                domine_interactions, odds_dict)\n",
      "        # Get the subcellular localization part of the string\n",
      "        try: subcell_string = makeSubcellularDict(protein1, protein2, subcell_info, protein_gene_dict)\n",
      "        except KeyError: \n",
      "                key1 = [x for x in protein_domain_dict.keys() if protein1.startswith(x.split('.')[0])]\n",
      "                key2 = [x for x in protein_domain_dict.keys() if protein2.startswith(x.split('.')[0])]\n",
      "                if len(key1) == 0 or len(key2) == 0: continue\n",
      "                else:\n",
      "                        try: subcell_string = makeSubcellularDict(key1[0], key2[0],subcell_info, protein_gene_dict)\n",
      "                        except: continue\n",
      "        out_file.write(\"%s\\t%s\\t%s\\t%s\\n\" % (protein1,protein2,domain_string,subcell_string))\n",
      "```\n",
      "\n",
      "Taking this out of the loop and getting rid of the file references while handing in the protein names to the function should make this work.\n",
      "\n",
      "First have to define a couple o\n"
     ]
    },
    {
     "cell_type": "code",
     "collapsed": false,
     "input": [
      "def makeDomainString(domains1, domains2, domine_dict, odds_dict):\n",
      "        domain_dict = {}\n",
      "        # Get all potential interactions\n",
      "        if len(domains1) > 0 and len(domains2) > 0:\n",
      "                potential_domain_pairs = getTwoListCombos(domains1,domains2)\n",
      "        else: potential_domain_pairs = []\n",
      "        # Get the domine information\n",
      "        domine_pairs = list(set([tuple(sorted(x)) for x in potential_domain_pairs if tuple(sorted(x)) in domine_dict]))\n",
      "        domain_dict['n_domine_pairs'] = len(domine_pairs)\n",
      "        domain_dict['highest_domine_conf'] = '0'\n",
      "        for pair in domine_pairs:\n",
      "                if domine_dict[pair] == 'HC': domain_dict['highest_domine_conf'] = 'HC'\n",
      "                elif domine_dict[pair] == 'MC' and domain_dict['highest_domine_conf'] != 'HC':\n",
      "                        domain_dict['highest_domine_conf'] = 'MC'\n",
      "                elif domine_dict[pair] == 'LC' and domain_dict['highest_domine_conf'] not in ['HC','MC']:\n",
      "                        domain_dict['highest_domine_conf'] = 'LC'\n",
      "        # Get the odds information\n",
      "        ############## TEST ##################\n",
      "        domain_dict['lowest_odds'] = 0.\n",
      "        domain_dict['not_observed'] = 0\n",
      "        domain_dict['not_observed_frac'] = 1.\n",
      "        ################################\n",
      "        domain_dict['sum_odds'] = 0.\n",
      "        domain_dict['highest_odds'] = 0.\n",
      "        domain_dict['n_odds_pairs'] = 0\n",
      "        for pair in potential_domain_pairs:\n",
      "                pair = tuple(list(sorted(pair)))\n",
      "                # Check if in the odds dictionary. If so, update domain variables\n",
      "                if pair in odds_dict:\n",
      "                        domain_dict['sum_odds'] += odds_dict[pair]\n",
      "                        if odds_dict[pair] > domain_dict['highest_odds']:\n",
      "                                domain_dict['highest_odds'] = odds_dict[pair]\n",
      "                        domain_dict['n_odds_pairs'] += 1\n",
      "                ################### TEST ################\n",
      "                        if odds_dict[pair] < domain_dict['lowest_odds']: domain_dict['lowest_odds'] = odds_dict[pair]\n",
      "                else:\n",
      "                        domain_dict['not_observed'] += 1\n",
      "        if domain_dict['n_odds_pairs'] + domain_dict['not_observed'] > 0: \n",
      "                domain_dict['not_observed_frac'] = float(domain_dict['not_observed']) / (domain_dict['n_odds_pairs'] + domain_dict['not_observed'])\n",
      "                #########################################\n",
      "        domain_dict = [str(domain_dict[k]) for k in domain_cols]\n",
      "        return \"\\t\".join(domain_dict)"
     ],
     "language": "python",
     "metadata": {},
     "outputs": [],
     "prompt_number": 6
    },
    {
     "cell_type": "code",
     "collapsed": false,
     "input": [
      "def makeSubcellularDict(protein1, protein2, subcell_dict, protein_gene_dict = None):\n",
      "        gene1 = protein_gene_dict[protein1]\n",
      "        gene2 = protein_gene_dict[protein2]\n",
      "        svm_line1 = [subcell_dict[gene1]['predictions'][k] for k in svm_subcell_cols]\n",
      "        svm_line2 = [subcell_dict[gene2]['predictions'][k] for k in svm_subcell_cols]\n",
      "        svm_line1 += [subcell_dict[gene1]['svm_info'][k] for k in svm_detail_cols]\n",
      "        svm_line2 += [subcell_dict[gene2]['svm_info'][k] for k in svm_detail_cols]\n",
      "        svm_line = svm_line1 + svm_line2\n",
      "        return \"\\t\".join([str(x) for x in svm_line])"
     ],
     "language": "python",
     "metadata": {},
     "outputs": [],
     "prompt_number": 7
    },
    {
     "cell_type": "code",
     "collapsed": false,
     "input": [
      "def getfeaturevector(protein1, protein2, subcell_info, odds_dict, proteins, domine_interactions, \\\n",
      "        protein_domain_dict, protein_gene_dict = None, verbose = True):\n",
      "        \"\"\"prototype function to retreive ENTS feature vectors for a given protein pair\"\"\"\n",
      "        keys = subcell_info.keys()\n",
      "        # Configure svm columns for organism\n",
      "        gene = keys[0]\n",
      "        delete_svm_pred_cols = [x for x in svm_subcell_cols if x not in subcell_info[gene]['predictions'].keys()]\n",
      "        delete_svm_detail_cols = [x for x in svm_detail_cols if x not in subcell_info[gene]['svm_info'].keys()]\n",
      "        for col in delete_svm_pred_cols: svm_subcell_cols.remove(col)\n",
      "        for col in delete_svm_detail_cols: svm_detail_cols.remove(col)\n",
      "        # Make the true interactions part of the file\n",
      "        try:\n",
      "                domain_string = makeDomainString(protein_domain_dict[protein1], protein_domain_dict[protein2],\\\n",
      "                        domine_interactions, odds_dict)\n",
      "        except:\n",
      "                key1 = [x for x in protein_domain_dict.keys() if protein1.startswith(x.split('.')[0])]\n",
      "                key2 = [x for x in protein_domain_dict.keys() if protein2.startswith(x.split('.')[0])]\n",
      "                if len(key1) == 0 or len(key2) == 0:\n",
      "                    return None\n",
      "                else:\n",
      "                        domain_string = makeDomainString(protein_domain_dict[key1[0]], protein_domain_dict[key2[0]],\\\n",
      "                                domine_interactions, odds_dict)\n",
      "        # Get the subcellular localization part of the string\n",
      "        try: subcell_string = makeSubcellularDict(protein1, protein2, subcell_info, protein_gene_dict)\n",
      "        except KeyError: \n",
      "                key1 = [x for x in protein_domain_dict.keys() if protein1.startswith(x.split('.')[0])]\n",
      "                key2 = [x for x in protein_domain_dict.keys() if protein2.startswith(x.split('.')[0])]\n",
      "                if len(key1) == 0 or len(key2) == 0:\n",
      "                    return None\n",
      "                else:\n",
      "                        subcell_string = makeSubcellularDict(key1[0], key2[0],subcell_info, protein_gene_dict)\n",
      "                        #try: subcell_string = makeSubcellularDict(key1[0], key2[0],subcell_info, protein_gene_dict)\n",
      "                        #except: \n",
      "                        #    return None\n",
      "        return domain_string, subcell_string"
     ],
     "language": "python",
     "metadata": {},
     "outputs": [],
     "prompt_number": 8
    },
    {
     "cell_type": "markdown",
     "metadata": {},
     "source": [
      "## Testing new function\n",
      "\n",
      "Testing new function with arbitrary protein pairs until it produces a feature vector:"
     ]
    },
    {
     "cell_type": "code",
     "collapsed": false,
     "input": [
      "import itertools"
     ],
     "language": "python",
     "metadata": {},
     "outputs": [],
     "prompt_number": 9
    },
    {
     "cell_type": "code",
     "collapsed": false,
     "input": [
      "from pred_file_maker import domain_cols, svm_subcell_cols, getTwoListCombos, svm_detail_cols"
     ],
     "language": "python",
     "metadata": {},
     "outputs": [],
     "prompt_number": 10
    },
    {
     "cell_type": "code",
     "collapsed": false,
     "input": [
      "for pair in itertools.combinations(proteins,2):\n",
      "    fvector = getfeaturevector(pair[0],pair[1],subcell_info,odds_dict,proteins,\n",
      "                 domine_interactions,protein_domain_dict,protein_gene_dict)\n",
      "    if fvector:\n",
      "        print fvector\n",
      "        break"
     ],
     "language": "python",
     "metadata": {},
     "outputs": [
      {
       "output_type": "stream",
       "stream": "stdout",
       "text": [
        "('0.0\\t0.0\\t0.0\\t0\\t1.0\\t0\\t0\\t0', '0.15\\t0.02\\t0.04\\t0.0\\t0.77\\t0.0\\t0.0\\t0.0\\t0.0\\t0.000782241\\t0.994933\\t0.00428497\\t-0.965455\\t0.456943\\t0.161587\\t0.694282\\t0.048346\\t0.086769\\t0.016035\\t0.152056\\t0.045396\\t0.026867\\t0.11\\t0.11\\t0.11\\t0.11\\t0.11\\t0.11\\t0.11\\t0.11\\t0.110209\\t0.10186\\t0.027069\\t0.150298\\t0.044921\\t0.383831\\t0.064664\\t0.034212\\t0\\t0\\t0\\t0\\t0\\t0\\t0\\t0.082935\\t0.11\\t0.006002\\t0.3\\t0.55\\t0.05\\t0.0\\t0.08\\t0.01\\t0.01\\t0.01\\t0.0\\t0.269538\\t0.118325\\t0.612137\\t-0.951564\\t0.046808\\t0.077552\\t0.153458\\t0.033389\\t0.094736\\t0.234725\\t0.054657\\t0.129915\\t0.116351\\t0.886868\\t0.06687\\t0.019144\\t0.003098\\t0.003295\\t0.001927\\t0.001497\\t0.001791\\t0.099515\\t0.435004\\t0.078238\\t0.033013\\t0.040732\\t0.207074\\t0.038316\\t0.022215\\t0\\t0\\t0\\t0\\t0\\t0\\t0\\t0.045894\\t0.01551\\t0.211866')\n"
       ]
      }
     ],
     "prompt_number": 12
    },
    {
     "cell_type": "markdown",
     "metadata": {},
     "source": [
      "So we can get feature vectors out of this for arbitrary protein pairs."
     ]
    },
    {
     "cell_type": "markdown",
     "metadata": {},
     "source": [
      "# Writing new class to return feature vectors\n",
      "\n",
      "To return these feature vectors we require a class that integrates the above functions and stores the required data extracted from the files in this folder.\n",
      "This class can then be added to ocbio as with Gene Ontology and serve a custom generator for the feature vectors to be generated.\n",
      "The class will be instantiated and pickled as with the [Gene Ontology notebook][gonotes].\n",
      "\n",
      "The features should also be returned as a list rather that a tab-delimited string as above.\n",
      "Also, it will have to be able to deal with Entrez IDs rather than Ensembl IDs, so it will need to store a 1 to 1 dictionary for this internally.\n",
      "\n",
      "[gonotes]: http://nbviewer.ipython.org/github/ggray1729/opencast-bio/blob/master/notebooks/Extracting%20Gene%20Ontology%20features%200.2.ipynb"
     ]
    },
    {
     "cell_type": "code",
     "collapsed": false,
     "input": [
      "import sys\n",
      "sys.path.append(\"/home/gavin/Documents/MRes/opencast-bio/\")"
     ],
     "language": "python",
     "metadata": {},
     "outputs": [],
     "prompt_number": 13
    },
    {
     "cell_type": "code",
     "collapsed": false,
     "input": [
      "import ocbio.ents"
     ],
     "language": "python",
     "metadata": {},
     "outputs": [],
     "prompt_number": 96
    },
    {
     "cell_type": "markdown",
     "metadata": {},
     "source": [
      "## Creating Entrez to Ensembl dictionary\n",
      "\n",
      "The dictionary used here is not one to one, and this must be taken into account in the code above.\n",
      "This dictionary is loaded from a pickled dictionary saved in notebook on [Extracting InterologWalk features][walk].\n",
      "\n",
      "[walk]: http://nbviewer.ipython.org/github/ggray1729/opencast-bio/blob/dfc5b8c682e835b733ca671c80f4636ba7ad7081/notebooks/Extracting%20InterologWalk%20features.ipynb"
     ]
    },
    {
     "cell_type": "code",
     "collapsed": false,
     "input": [
      "import pickle"
     ],
     "language": "python",
     "metadata": {},
     "outputs": [],
     "prompt_number": 18
    },
    {
     "cell_type": "code",
     "collapsed": false,
     "input": [
      "import csv"
     ],
     "language": "python",
     "metadata": {},
     "outputs": [],
     "prompt_number": 21
    },
    {
     "cell_type": "code",
     "collapsed": false,
     "input": [
      "cd ../geneconversion/"
     ],
     "language": "python",
     "metadata": {},
     "outputs": [
      {
       "output_type": "stream",
       "stream": "stdout",
       "text": [
        "/home/gavin/Documents/MRes/geneconversion\n"
       ]
      }
     ],
     "prompt_number": 183
    },
    {
     "cell_type": "code",
     "collapsed": false,
     "input": [
      "f = open(\"human.gene2ensemble.pickle\")\n",
      "gentreztoensembl = pickle.load(f)\n",
      "f.close()"
     ],
     "language": "python",
     "metadata": {},
     "outputs": [],
     "prompt_number": 210
    },
    {
     "cell_type": "markdown",
     "metadata": {},
     "source": [
      "# Saving the instances\n",
      "\n",
      "With the data defined in this notebook, we can now pickle two instances of our ENTS feature extractors:"
     ]
    },
    {
     "cell_type": "code",
     "collapsed": false,
     "input": [
      "cd ../ents/"
     ],
     "language": "python",
     "metadata": {},
     "outputs": [
      {
       "output_type": "stream",
       "stream": "stdout",
       "text": [
        "/home/gavin/Documents/MRes/ents\n"
       ]
      }
     ],
     "prompt_number": 92
    },
    {
     "cell_type": "code",
     "collapsed": false,
     "input": [
      "reload(ocbio.ents)"
     ],
     "language": "python",
     "metadata": {},
     "outputs": [
      {
       "metadata": {},
       "output_type": "pyout",
       "prompt_number": 220,
       "text": [
        "<module 'ocbio.ents' from '/home/gavin/Documents/MRes/opencast-bio/ocbio/ents.py'>"
       ]
      }
     ],
     "prompt_number": 220
    },
    {
     "cell_type": "code",
     "collapsed": false,
     "input": [
      "entsfeatures = ocbio.ents.ENTSfeatures(subcell_info,odds_dict,proteins,domine_interactions,\n",
      "                        protein_domain_dict,protein_gene_dict,gentreztoensembl,\n",
      "                        domain_cols,svm_subcell_cols,svm_detail_cols)"
     ],
     "language": "python",
     "metadata": {},
     "outputs": [],
     "prompt_number": 221
    },
    {
     "cell_type": "markdown",
     "metadata": {},
     "source": [
      "## Testing\n",
      "\n",
      "Testing the instances in the same way as above to confirm that it will return viable feature vectors:"
     ]
    },
    {
     "cell_type": "code",
     "collapsed": false,
     "input": [
      "for pair in itertools.combinations(proteins,2):\n",
      "    fvector = entsfeatures.getfeaturevector(pair[0],pair[1])\n",
      "    if fvector:\n",
      "        print fvector\n",
      "        break"
     ],
     "language": "python",
     "metadata": {},
     "outputs": [
      {
       "output_type": "stream",
       "stream": "stdout",
       "text": [
        "[0.0, 0.0, 0.0, 0, 1.0, 0, 0, '0', 0.15, 0.02, 0.04, 0.0, 0.77, 0.0, 0.0, 0.0, 0.0, 0.000782241, 0.994933, 0.00428497, -0.965455, 0.456943, 0.161587, 0.694282, 0.048346, 0.086769, 0.016035, 0.152056, 0.045396, 0.026867, 0.11, 0.11, 0.11, 0.11, 0.11, 0.11, 0.11, 0.11, 0.110209, 0.10186, 0.027069, 0.150298, 0.044921, 0.383831, 0.064664, 0.034212, 0, 0, 0, 0, 0, 0, 0, 0.082935, 0.11, 0.006002, 0.3, 0.55, 0.05, 0.0, 0.08, 0.01, 0.01, 0.01, 0.0, 0.269538, 0.118325, 0.612137, -0.951564, 0.046808, 0.077552, 0.153458, 0.033389, 0.094736, 0.234725, 0.054657, 0.129915, 0.116351, 0.886868, 0.06687, 0.019144, 0.003098, 0.003295, 0.001927, 0.001497, 0.001791, 0.099515, 0.435004, 0.078238, 0.033013, 0.040732, 0.207074, 0.038316, 0.022215, 0, 0, 0, 0, 0, 0, 0, 0.045894, 0.01551, 0.211866]\n"
       ]
      }
     ],
     "prompt_number": 208
    },
    {
     "cell_type": "markdown",
     "metadata": {},
     "source": [
      "And testing calling with Entrez pairs as frozensets:"
     ]
    },
    {
     "cell_type": "code",
     "collapsed": false,
     "input": [
      "ensembltoentrez = {}\n",
      "for k in gentreztoensembl.keys():\n",
      "    ensembltoentrez[gentreztoensembl[k][0]] = k\n",
      "entrezlist = []\n",
      "for p in proteins:\n",
      "    try:\n",
      "        entrezlist.append(ensembltoentrez[p])\n",
      "    except:\n",
      "        pass"
     ],
     "language": "python",
     "metadata": {},
     "outputs": [],
     "prompt_number": 211
    },
    {
     "cell_type": "code",
     "collapsed": false,
     "input": [
      "for pair in itertools.combinations(entrezlist,2):\n",
      "    try:\n",
      "        fvector = entsfeatures[frozenset(pair)]\n",
      "    except KeyError:\n",
      "        continue\n",
      "    if fvector:\n",
      "        print fvector\n",
      "        break"
     ],
     "language": "python",
     "metadata": {},
     "outputs": [
      {
       "output_type": "stream",
       "stream": "stdout",
       "text": [
        "[-5.6432199999999995, 0.0, -2.04361, 2, 0.3333333333333333, 4, 0, '0', 0.3, 0.55, 0.05, 0.0, 0.08, 0.01, 0.01, 0.01, 0.0, 0.269538, 0.118325, 0.612137, -0.951564, 0.046808, 0.077552, 0.153458, 0.033389, 0.094736, 0.234725, 0.054657, 0.129915, 0.116351, 0.886868, 0.06687, 0.019144, 0.003098, 0.003295, 0.001927, 0.001497, 0.001791, 0.099515, 0.435004, 0.078238, 0.033013, 0.040732, 0.207074, 0.038316, 0.022215, 0, 0, 0, 0, 0, 0, 0, 0.045894, 0.01551, 0.211866, 0.95, 0.03, 0.01, 0.0, 0.0, 0.0, 0.0, 0.0, 0.0, 0.00332134, 0.00699508, 0.989684, -0.958667, 0.020718, 0.04001, 0.0962077, 0.277577, 0.008549, 0.037989, 0.206557, 0.148466, 0.206238, 0.044603, 0.768107, 0.023711, 0.013263, 0.081663, 0.010586, 0.037635, 0.010424, 0.19657, 0.525252, 0.0869, 0.030084, 0.024109, 0.070087, 0.038573, 0.011674, 0, 0, 0, 0, 0, 0, 0, 0.016751, 0.010008, 0.053896]\n"
       ]
      }
     ],
     "prompt_number": 213
    },
    {
     "cell_type": "code",
     "collapsed": false,
     "input": [
      "f = open(\"../DIP/human/training.nolabel.positive.Entrez.txt\")\n",
      "dippairs = list(map(lambda x: frozenset(x),csv.reader(f,delimiter=\"\\t\")))\n",
      "f.close()"
     ],
     "language": "python",
     "metadata": {},
     "outputs": [],
     "prompt_number": 217
    },
    {
     "cell_type": "code",
     "collapsed": false,
     "input": [
      "for pair in dippairs:\n",
      "    try:\n",
      "        fvector = entsfeatures[pair]\n",
      "    except KeyError:\n",
      "        continue"
     ],
     "language": "python",
     "metadata": {},
     "outputs": [],
     "prompt_number": 222
    },
    {
     "cell_type": "code",
     "collapsed": false,
     "input": [
      "print fvector"
     ],
     "language": "python",
     "metadata": {},
     "outputs": [
      {
       "output_type": "stream",
       "stream": "stdout",
       "text": [
        "[20.049390000000002, 2.65426, 0.0, 0, 0.0, 12, 5, 'HC', 0.0, 0.0, 0.0, 0.01, 0.0, 0.02, 0.96, 0.0, 0.0, 0.993228, 0.0021616, 0.00461066, 0.855588, 0.007218, 0.00936, 0.528263, 0.001607, 0.154576, 0.71391, 0.011682, 0.004085, 0.013291, 0.005872, 0.014456, 0.006611, 0.018809, 0.876528, 0.012518, 0.021131, 0.009983, 0.060988, 0.483208, 0.085219, 0.042255, 0.035166, 0.188987, 0.036112, 0.022385, 0, 0, 0, 1, 0, 1, 0, 0.04568, 0.034092, 0.084271, 0.02, 0.0, 0.01, 0.16, 0.01, 0.08, 0.67, 0.02, 0.03, 0.997562, 0.00134856, 0.00108929, 0.833011, 0.034768, 0.043397, 0.272353, 0.016474, 0.023058, 0.7643, 0.021856, 0.035697, 0.019104, 0.027758, 0.665304, 0.027407, 0.054738, 0.088255, 0.029758, 0.056906, 0.018535, 0.060498, 0.504193, 0.090266, 0.041771, 0.034884, 0.169592, 0.033928, 0.021023, 0, 0, 0, 0, 0, 1, 0, 0.043845, 0.031339, 0.041346]\n"
       ]
      }
     ],
     "prompt_number": 223
    },
    {
     "cell_type": "markdown",
     "metadata": {},
     "source": [
      "## Pickling instances\n",
      "\n",
      "Now that the object has been tested we can pickle the two instances:\n",
      "\n",
      "* One with the full Entrez to Ensembl dictionary\n",
      "* One with the conservative Entrez to Ensembl dictionary"
     ]
    },
    {
     "cell_type": "code",
     "collapsed": false,
     "input": [
      "cd ../ents/"
     ],
     "language": "python",
     "metadata": {},
     "outputs": [
      {
       "output_type": "stream",
       "stream": "stdout",
       "text": [
        "/home/gavin/Documents/MRes/ents\n"
       ]
      }
     ],
     "prompt_number": 214
    },
    {
     "cell_type": "code",
     "collapsed": false,
     "input": [
      "f = open(\"human.ENTS.features.pickle\",\"wb\")\n",
      "pickle.dump(entsfeatures,f)\n",
      "f.close()"
     ],
     "language": "python",
     "metadata": {},
     "outputs": [],
     "prompt_number": 224
    }
   ],
   "metadata": {}
  }
 ]
}