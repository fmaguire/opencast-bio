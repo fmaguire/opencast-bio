{
 "metadata": {
  "name": "",
  "signature": "sha256:dfa6bc7313e37d0f5c40f287c032bff588427aff55599c0ed6b504397f634ebe"
 },
 "nbformat": 3,
 "nbformat_minor": 0,
 "worksheets": [
  {
   "cells": [
    {
     "cell_type": "markdown",
     "metadata": {},
     "source": [
      "Trying out community detection.\n",
      "At this point can only do this on the STRING based weighted edges generated in [this notebook][stredges].\n",
      "\n",
      "[stredges]: http://nbviewer.ipython.org/github/ggray1729/opencast-bio/blob/master/notebooks/Generating%20STRING%20weighted%20edges.ipynb"
     ]
    },
    {
     "cell_type": "code",
     "collapsed": false,
     "input": [
      "cd ../../forGAVIN/mergecode/OUT/"
     ],
     "language": "python",
     "metadata": {},
     "outputs": [
      {
       "output_type": "stream",
       "stream": "stdout",
       "text": [
        "/data/opencast/MRes/forGAVIN/mergecode/OUT\n"
       ]
      }
     ],
     "prompt_number": 1
    },
    {
     "cell_type": "code",
     "collapsed": false,
     "input": [
      "!git annex unlock ../../../HBP/testdata/"
     ],
     "language": "python",
     "metadata": {},
     "outputs": [],
     "prompt_number": 2
    },
    {
     "cell_type": "code",
     "collapsed": false,
     "input": [
      "cp edgelist_update_weighted.txt ../../../HBP/testdata/"
     ],
     "language": "python",
     "metadata": {},
     "outputs": [],
     "prompt_number": 6
    },
    {
     "cell_type": "code",
     "collapsed": false,
     "input": [
      "cd ../../../HBP/"
     ],
     "language": "python",
     "metadata": {},
     "outputs": [
      {
       "output_type": "stream",
       "stream": "stdout",
       "text": [
        "/data/opencast/MRes/HBP\n"
       ]
      }
     ],
     "prompt_number": 8
    },
    {
     "cell_type": "markdown",
     "metadata": {},
     "source": [
      "Community detection code from Colin written in C++:"
     ]
    },
    {
     "cell_type": "code",
     "collapsed": false,
     "input": [
      "!make"
     ],
     "language": "python",
     "metadata": {},
     "outputs": [
      {
       "output_type": "stream",
       "stream": "stdout",
       "text": [
        "Building with option-useomp\r\n",
        "make: `run' is up to date.\r\n"
       ]
      }
     ],
     "prompt_number": 9
    },
    {
     "cell_type": "markdown",
     "metadata": {},
     "source": [
      "This is how to run it:"
     ]
    },
    {
     "cell_type": "code",
     "collapsed": false,
     "input": [
      "!./run"
     ],
     "language": "python",
     "metadata": {},
     "outputs": [
      {
       "output_type": "stream",
       "stream": "stdout",
       "text": [
        "./run requires 2 arguments: \r\n",
        "-file         : the network file to run \r\n",
        "-quite        : Turn on/off comments to command line\r\n",
        "              : 0 = switch on comments to command line\r\n",
        "              : 1 = switch off comments to command line\r\n",
        "-algorithm    : the type of algorithm to run\r\n",
        "              : 1 = Geodesic edge Betweenness\r\n",
        "              : 2 = Random edge Betweenness\r\n",
        "              : 3 = Spectral Betweenness\r\n",
        "-weighted     : specify if network file is *weighted or not: \r\n",
        "              : 0  = Using a non-weighted network file \r\n",
        "              : 1  = Using a     weighted network file \r\n",
        "-enrichment   : run the enrichment on the clustered network\r\n",
        "              : 0 = run enrichment after clustering - Default\r\n",
        "              : 1 = run enrichment without clustering\r\n",
        "              : 2 = do not run enrichment\r\n",
        "-----\r\n",
        "*             : The structure of the network file is:\r\n",
        "-weighted 1   : A (interactor) \t B (interactor) \t W (weight) \r\n",
        "-weighted 0   : A (interactor) \t B (interactor) \r\n",
        "              : Where A and B are integers (Entrez IDs) and W is a double.\r\n",
        "EXAMPLE 1\r\n",
        "-----\r\n",
        "./run -file testData/edgelist.txt -weighted 0 -algorithm 1\r\n",
        "-----\r\n",
        "EXAMPLE 2\r\n",
        "-----\r\n",
        "./run -file testData/karate.txt -weighted 1 -algorithm 1\r\n",
        "-----\r\n"
       ]
      }
     ],
     "prompt_number": 20
    },
    {
     "cell_type": "markdown",
     "metadata": {},
     "source": [
      "Output is written to the `OUT` file, so we have to unlock them first."
     ]
    },
    {
     "cell_type": "code",
     "collapsed": false,
     "input": [
      "!git annex unlock OUT/*"
     ],
     "language": "python",
     "metadata": {},
     "outputs": [
      {
       "output_type": "stream",
       "stream": "stdout",
       "text": [
        "unlock OUT/communities_cytoscape.txt (copying...) ok\r\n",
        "unlock OUT/community-metric_nmi.txt (copying...) ok\r\n",
        "unlock OUT/communityout.txt (copying...) ok\r\n",
        "unlock OUT/consensusout.txt (copying...) ok\r\n",
        "unlock OUT/enrichment_SCH_enriched.csv (copying...) "
       ]
      },
      {
       "output_type": "stream",
       "stream": "stdout",
       "text": [
        "ok\r\n",
        "unlock OUT/enrichment_disease.csv (copying...) ok\r\n",
        "unlock OUT/overlap_dis_SCHenriched.csv (copying...) ok\r\n",
        "unlock OUT/p_significance_tests_SCH_enriched.csv (copying...) ok\r\n",
        "unlock OUT/p_significance_tests_disease.csv (copying...) ok\r\n",
        "unlock OUT/p_significance_tests_summary_SCH_enriched.csv (copying...) ok\r\n",
        "unlock OUT/p_significance_tests_summary_disease.csv (copying...) ok\r\n",
        "unlock OUT/p_values_SCH_enriched.csv (copying...) ok\r\n",
        "unlock OUT/p_values_disease.csv (copying...) ok\r\n",
        "unlock OUT/permute_p_values_SCH_enriched.csv (copying...) ok\r\n",
        "unlock OUT/permute_p_values_disease.csv (copying...) ok\r\n",
        "unlock OUT/removededges.txt (copying...) "
       ]
      },
      {
       "output_type": "stream",
       "stream": "stdout",
       "text": [
        "ok\r\n"
       ]
      }
     ],
     "prompt_number": 10
    },
    {
     "cell_type": "markdown",
     "metadata": {},
     "source": [
      "# Unweighted case\n",
      "\n",
      "Running the code on the unweighted case to begin with:"
     ]
    },
    {
     "cell_type": "code",
     "collapsed": false,
     "input": [
      "!./run -file testdata/edgelist_update_weighted.txt -weighted 0 -algorithm 3 -quite 1"
     ],
     "language": "python",
     "metadata": {},
     "outputs": [
      {
       "output_type": "stream",
       "stream": "stdout",
       "text": [
        "> ---- START ---- \r\n",
        "> Using Spectral Betweenness.\r\n",
        "> Using a non-weighted network \r\n",
        "> Scanning network_file: testdata/edgelist_update_weighted.txt\r\n",
        "> Header: None \r\n"
       ]
      },
      {
       "output_type": "stream",
       "stream": "stdout",
       "text": [
        "> Running Spectral Betweenness.\r\n"
       ]
      },
      {
       "output_type": "stream",
       "stream": "stdout",
       "text": [
        "--- DONE ---\r\n",
        "> cputime: 275.12 seconds \r\n",
        "> Network (nodes): 1572 (edges): 9373\r\n"
       ]
      },
      {
       "output_type": "stream",
       "stream": "stdout",
       "text": [
        "> ---- END ---- \r\n"
       ]
      }
     ],
     "prompt_number": 13
    },
    {
     "cell_type": "markdown",
     "metadata": {},
     "source": [
      "This file describes the communities produced:"
     ]
    },
    {
     "cell_type": "code",
     "collapsed": false,
     "input": [
      "!head -n 10 OUT/communityout.txt"
     ],
     "language": "python",
     "metadata": {},
     "outputs": [
      {
       "output_type": "stream",
       "stream": "stdout",
       "text": [
        "communityout\r\n",
        "Max Q: 0.362616\r\n",
        "cputime: 275.12 seconds \r\n",
        "Network (nodes): 1572 (edges): 9373\r\n",
        "we 0 dist 0 community 1 Degree 5 visited 0 key 912 (9551)\r\n",
        "community: 1 size: 1\r\n",
        "we 0 dist 0 community 2 Degree 4 visited 0 key 3 (18)\r\n",
        "we 0 dist 0 community 2 Degree 5 visited 0 key 50 (372)\r\n",
        "we 0 dist 0 community 2 Degree 5 visited 0 key 62 (481)\r\n",
        "we 0 dist 0 community 2 Degree 2 visited 0 key 63 (482)\r\n"
       ]
      }
     ],
     "prompt_number": 14
    },
    {
     "cell_type": "markdown",
     "metadata": {},
     "source": [
      "We would like to be able to visualise this output with [Cytoscape][], but we don't want to leave the IPython notebook because this is the record of our work.\n",
      "Luckily, there is a [widget extension][cytowidg] to solve this problem for us. \n",
      "And, there is a tutorial on how to use it in an IPython notebook [here][].\n",
      "\n",
      "[cytoscape]: http://www.cytoscape.org/\n",
      "[cytowidg]: http://nbviewer.ipython.org/github/kzuberi/ipython-cytoscape.js/blob/master/demo.ipynb\n",
      "[here]: http://nbviewer.ipython.org/github/kzuberi/ipython-cytoscape.js/blob/master/demo.ipynb"
     ]
    },
    {
     "cell_type": "code",
     "collapsed": false,
     "input": [
      "import pandas as pd"
     ],
     "language": "python",
     "metadata": {},
     "outputs": [],
     "prompt_number": 15
    },
    {
     "cell_type": "markdown",
     "metadata": {},
     "source": [
      "## Disease Enrichment\n",
      "\n",
      "Having a look at the disease enrichment now:"
     ]
    },
    {
     "cell_type": "code",
     "collapsed": false,
     "input": [
      "c =  pd.read_csv(\"OUT/permute_p_values_disease.csv\", delimiter=\"\\t\")"
     ],
     "language": "python",
     "metadata": {},
     "outputs": [],
     "prompt_number": 16
    },
    {
     "cell_type": "markdown",
     "metadata": {},
     "source": [
      "Check papers to read about the hypergeometric disease enrichment test:"
     ]
    },
    {
     "cell_type": "code",
     "collapsed": false,
     "input": [
      "c.head()"
     ],
     "language": "python",
     "metadata": {},
     "outputs": [
      {
       "html": [
        "<div style=\"max-height:1000px;max-width:1500px;overflow:auto;\">\n",
        "<table border=\"1\" class=\"dataframe\">\n",
        "  <thead>\n",
        "    <tr style=\"text-align: right;\">\n",
        "      <th></th>\n",
        "      <th>Community</th>\n",
        "      <th>Size</th>\n",
        "      <th>disease_of_metabolism</th>\n",
        "      <th>p-value</th>\n",
        "      <th>{p-value}</th>\n",
        "      <th>Sig. Level</th>\n",
        "      <th>p_lower (%)</th>\n",
        "      <th>p_upper (%)</th>\n",
        "      <th>disease_by_infectious_agent</th>\n",
        "      <th>p-value.1</th>\n",
        "      <th>...</th>\n",
        "      <th>Sig. Level.135</th>\n",
        "      <th>p_lower (%).135</th>\n",
        "      <th>p_upper (%).135</th>\n",
        "      <th>muscular_dystrophy</th>\n",
        "      <th>p-value.136</th>\n",
        "      <th>{p-value}.136</th>\n",
        "      <th>Sig. Level.136</th>\n",
        "      <th>p_lower (%).136</th>\n",
        "      <th>p_upper (%).136</th>\n",
        "      <th>Unnamed: 824</th>\n",
        "    </tr>\n",
        "  </thead>\n",
        "  <tbody>\n",
        "    <tr>\n",
        "      <th>0</th>\n",
        "      <td> 1</td>\n",
        "      <td>  1</td>\n",
        "      <td>NaN</td>\n",
        "      <td> 1.000000</td>\n",
        "      <td> 0.875349</td>\n",
        "      <td> 0.000000</td>\n",
        "      <td> 100.0</td>\n",
        "      <td> 85.3</td>\n",
        "      <td>NaN</td>\n",
        "      <td> 1.000000</td>\n",
        "      <td>...</td>\n",
        "      <td> 0.000000</td>\n",
        "      <td> 100.0</td>\n",
        "      <td> 99.1</td>\n",
        "      <td>NaN</td>\n",
        "      <td> 1.000000</td>\n",
        "      <td> 0.977410</td>\n",
        "      <td> 0.000000</td>\n",
        "      <td> 100.0</td>\n",
        "      <td> 97.7</td>\n",
        "      <td>NaN</td>\n",
        "    </tr>\n",
        "    <tr>\n",
        "      <th>1</th>\n",
        "      <td> 2</td>\n",
        "      <td> 99</td>\n",
        "      <td>NaN</td>\n",
        "      <td> 0.765480</td>\n",
        "      <td> 0.538946</td>\n",
        "      <td> 0.013399</td>\n",
        "      <td>  77.0</td>\n",
        "      <td> 33.2</td>\n",
        "      <td>NaN</td>\n",
        "      <td> 0.970181</td>\n",
        "      <td>...</td>\n",
        "      <td> 0.005178</td>\n",
        "      <td>   2.2</td>\n",
        "      <td> 99.8</td>\n",
        "      <td>NaN</td>\n",
        "      <td> 0.535656</td>\n",
        "      <td> 0.602810</td>\n",
        "      <td> 0.015771</td>\n",
        "      <td>  54.3</td>\n",
        "      <td> 71.3</td>\n",
        "      <td>NaN</td>\n",
        "    </tr>\n",
        "    <tr>\n",
        "      <th>2</th>\n",
        "      <td> 3</td>\n",
        "      <td>  3</td>\n",
        "      <td>NaN</td>\n",
        "      <td> 1.000000</td>\n",
        "      <td> 0.731066</td>\n",
        "      <td> 0.000000</td>\n",
        "      <td> 100.0</td>\n",
        "      <td> 59.3</td>\n",
        "      <td>NaN</td>\n",
        "      <td> 0.408158</td>\n",
        "      <td>...</td>\n",
        "      <td> 0.000000</td>\n",
        "      <td> 100.0</td>\n",
        "      <td> 95.4</td>\n",
        "      <td>NaN</td>\n",
        "      <td> 1.000000</td>\n",
        "      <td> 0.945890</td>\n",
        "      <td> 0.000000</td>\n",
        "      <td> 100.0</td>\n",
        "      <td> 94.3</td>\n",
        "      <td>NaN</td>\n",
        "    </tr>\n",
        "    <tr>\n",
        "      <th>3</th>\n",
        "      <td> 4</td>\n",
        "      <td>  1</td>\n",
        "      <td>NaN</td>\n",
        "      <td> 1.000000</td>\n",
        "      <td> 0.866022</td>\n",
        "      <td> 0.000000</td>\n",
        "      <td> 100.0</td>\n",
        "      <td> 84.2</td>\n",
        "      <td>NaN</td>\n",
        "      <td> 1.000000</td>\n",
        "      <td>...</td>\n",
        "      <td> 0.000000</td>\n",
        "      <td> 100.0</td>\n",
        "      <td> 98.3</td>\n",
        "      <td>NaN</td>\n",
        "      <td> 1.000000</td>\n",
        "      <td> 0.986249</td>\n",
        "      <td> 0.000000</td>\n",
        "      <td> 100.0</td>\n",
        "      <td> 98.6</td>\n",
        "      <td>NaN</td>\n",
        "    </tr>\n",
        "    <tr>\n",
        "      <th>4</th>\n",
        "      <td> 5</td>\n",
        "      <td> 40</td>\n",
        "      <td>NaN</td>\n",
        "      <td> 0.880078</td>\n",
        "      <td> 0.571448</td>\n",
        "      <td> 0.010273</td>\n",
        "      <td>  87.3</td>\n",
        "      <td> 26.3</td>\n",
        "      <td>NaN</td>\n",
        "      <td> 0.304745</td>\n",
        "      <td>...</td>\n",
        "      <td> 0.015416</td>\n",
        "      <td>  38.0</td>\n",
        "      <td> 91.3</td>\n",
        "      <td>NaN</td>\n",
        "      <td> 1.000000</td>\n",
        "      <td> 0.684285</td>\n",
        "      <td> 0.000000</td>\n",
        "      <td> 100.0</td>\n",
        "      <td> 47.2</td>\n",
        "      <td>NaN</td>\n",
        "    </tr>\n",
        "  </tbody>\n",
        "</table>\n",
        "<p>5 rows \u00d7 825 columns</p>\n",
        "</div>"
       ],
       "metadata": {},
       "output_type": "pyout",
       "prompt_number": 17,
       "text": [
        "   Community  Size  disease_of_metabolism   p-value  {p-value}  Sig. Level  \\\n",
        "0          1     1                    NaN  1.000000   0.875349    0.000000   \n",
        "1          2    99                    NaN  0.765480   0.538946    0.013399   \n",
        "2          3     3                    NaN  1.000000   0.731066    0.000000   \n",
        "3          4     1                    NaN  1.000000   0.866022    0.000000   \n",
        "4          5    40                    NaN  0.880078   0.571448    0.010273   \n",
        "\n",
        "   p_lower (%)  p_upper (%)  disease_by_infectious_agent  p-value.1  \\\n",
        "0        100.0         85.3                          NaN   1.000000   \n",
        "1         77.0         33.2                          NaN   0.970181   \n",
        "2        100.0         59.3                          NaN   0.408158   \n",
        "3        100.0         84.2                          NaN   1.000000   \n",
        "4         87.3         26.3                          NaN   0.304745   \n",
        "\n",
        "     ...      Sig. Level.135  p_lower (%).135  p_upper (%).135  \\\n",
        "0    ...            0.000000            100.0             99.1   \n",
        "1    ...            0.005178              2.2             99.8   \n",
        "2    ...            0.000000            100.0             95.4   \n",
        "3    ...            0.000000            100.0             98.3   \n",
        "4    ...            0.015416             38.0             91.3   \n",
        "\n",
        "   muscular_dystrophy  p-value.136  {p-value}.136  Sig. Level.136  \\\n",
        "0                 NaN     1.000000       0.977410        0.000000   \n",
        "1                 NaN     0.535656       0.602810        0.015771   \n",
        "2                 NaN     1.000000       0.945890        0.000000   \n",
        "3                 NaN     1.000000       0.986249        0.000000   \n",
        "4                 NaN     1.000000       0.684285        0.000000   \n",
        "\n",
        "   p_lower (%).136  p_upper (%).136  Unnamed: 824  \n",
        "0            100.0             97.7           NaN  \n",
        "1             54.3             71.3           NaN  \n",
        "2            100.0             94.3           NaN  \n",
        "3            100.0             98.6           NaN  \n",
        "4            100.0             47.2           NaN  \n",
        "\n",
        "[5 rows x 825 columns]"
       ]
      }
     ],
     "prompt_number": 17
    },
    {
     "cell_type": "markdown",
     "metadata": {},
     "source": [
      "This is an alternative set of annotations for the disease enrichment run above as part of the C++ code, specific to Schizophrenia:"
     ]
    },
    {
     "cell_type": "code",
     "collapsed": false,
     "input": [
      "!head data/flatfile.SYNSYS.csv"
     ],
     "language": "python",
     "metadata": {},
     "outputs": [
      {
       "output_type": "stream",
       "stream": "stdout",
       "text": [
        "#flatfile\r\n",
        "DOID:5419\tschizophrenia\t12\r\n",
        "DOID:5419\tschizophrenia\t50\r\n",
        "DOID:5419\tschizophrenia\t60\r\n",
        "DOID:5419\tschizophrenia\t71\r\n",
        "DOID:5419\tschizophrenia\t159\r\n",
        "DOID:5419\tschizophrenia\t213\r\n",
        "DOID:5419\tschizophrenia\t217\r\n",
        "DOID:5419\tschizophrenia\t226\r\n",
        "DOID:5419\tschizophrenia\t287\r\n"
       ]
      }
     ],
     "prompt_number": 18
    },
    {
     "cell_type": "markdown",
     "metadata": {},
     "source": [
      "Overlap between disease annotations and the other annotation file (annotations just for schizophrenia):"
     ]
    },
    {
     "cell_type": "markdown",
     "metadata": {},
     "source": [
      "# Weighted case\n",
      "\n",
      "This is the case using the weights generated using the various data sources available:"
     ]
    },
    {
     "cell_type": "code",
     "collapsed": false,
     "input": [
      "!git annex unlock unweightedOUT/*"
     ],
     "language": "python",
     "metadata": {},
     "outputs": [
      {
       "output_type": "stream",
       "stream": "stdout",
       "text": [
        "unlock unweightedOUT/communities_cytoscape.txt (copying...) ok\r\n",
        "unlock unweightedOUT/community-metric_nmi.txt (copying...) ok\r\n",
        "unlock unweightedOUT/communityout.txt (copying...) ok\r\n",
        "unlock unweightedOUT/consensusout.txt (copying...) ok\r\n",
        "unlock unweightedOUT/enrichment_SCH_enriched.csv (copying...) "
       ]
      },
      {
       "output_type": "stream",
       "stream": "stdout",
       "text": [
        "ok\r\n",
        "unlock unweightedOUT/enrichment_disease.csv (copying...) ok\r\n",
        "unlock unweightedOUT/overlap_dis_SCHenriched.csv (copying...) ok\r\n",
        "unlock unweightedOUT/p_significance_tests_SCH_enriched.csv (copying...) ok\r\n",
        "unlock unweightedOUT/p_significance_tests_disease.csv (copying...) ok\r\n",
        "unlock unweightedOUT/p_significance_tests_summary_SCH_enriched.csv (copying...) ok\r\n",
        "unlock unweightedOUT/p_significance_tests_summary_disease.csv (copying...) ok\r\n",
        "unlock unweightedOUT/p_values_SCH_enriched.csv (copying...) ok\r\n",
        "unlock unweightedOUT/p_values_disease.csv (copying...) ok\r\n",
        "unlock unweightedOUT/permute_p_values_SCH_enriched.csv (copying...) ok\r\n",
        "unlock unweightedOUT/permute_p_values_disease.csv (copying...) ok\r\n",
        "unlock unweightedOUT/removededges.txt (copying...) ok\r\n"
       ]
      }
     ],
     "prompt_number": 32
    },
    {
     "cell_type": "code",
     "collapsed": false,
     "input": [
      "cp OUT/* unweightedOUT/"
     ],
     "language": "python",
     "metadata": {},
     "outputs": [],
     "prompt_number": 19
    },
    {
     "cell_type": "code",
     "collapsed": false,
     "input": [
      "!./run -file testdata/edgelist_update_weighted.txt -weighted 1 -algorithm 3 -quite 1"
     ],
     "language": "python",
     "metadata": {},
     "outputs": [
      {
       "output_type": "stream",
       "stream": "stdout",
       "text": [
        "> ---- START ---- \r\n",
        "> Using Spectral Betweenness.\r\n",
        "> Using a weighted network \r\n",
        "> Scanning network_file: testdata/edgelist_update_weighted.txt\r\n",
        "> Header: None \r\n"
       ]
      },
      {
       "output_type": "stream",
       "stream": "stdout",
       "text": [
        "> Running Spectral Betweenness.\r\n"
       ]
      },
      {
       "output_type": "stream",
       "stream": "stdout",
       "text": [
        "--- DONE ---\r\n",
        "> cputime: 326.17 seconds \r\n",
        "> Network (nodes): 1572 (edges): 9373\r\n"
       ]
      },
      {
       "output_type": "stream",
       "stream": "stdout",
       "text": [
        "> ---- END ---- \r\n"
       ]
      }
     ],
     "prompt_number": 22
    },
    {
     "cell_type": "markdown",
     "metadata": {},
     "source": [
      "# Normalised Mutual Information test\n",
      "\n",
      "We can provide a measure of the similarity of the communities detected using a Normalised Mutual Information test.\n",
      "As [wikipedia puts it][wikimi]:\n",
      "\n",
      "> mutual information measures the information that X and Y share: it measures how much knowing one of these variables reduces uncertainty about the other.\n",
      "\n",
      "Scikit-learn provides this test, all that's required is to load the data into Python.\n",
      "\n",
      "[wikimi]: http://en.wikipedia.org/wiki/Mutual_information"
     ]
    },
    {
     "cell_type": "code",
     "collapsed": false,
     "input": [
      "import csv"
     ],
     "language": "python",
     "metadata": {},
     "outputs": [],
     "prompt_number": 23
    },
    {
     "cell_type": "code",
     "collapsed": false,
     "input": [
      "def parsecommunityout(fname):\n",
      "    f = open(fname)\n",
      "    c = csv.reader(f,delimiter=\" \")\n",
      "    communitydict = {}\n",
      "    for l in c:\n",
      "        if l[0] == \"we\":\n",
      "            communitydict[l[-1].strip(\"()\")] = int(l[5])\n",
      "    sortedids = sorted(communitydict.keys(),key=int)\n",
      "    communities = map(communitydict.__getitem__,sortedids)\n",
      "    return sortedids,communities"
     ],
     "language": "python",
     "metadata": {},
     "outputs": [],
     "prompt_number": 35
    },
    {
     "cell_type": "code",
     "collapsed": false,
     "input": [
      "wids,wcom = parsecommunityout(\"OUT/communityout.txt\")"
     ],
     "language": "python",
     "metadata": {},
     "outputs": [],
     "prompt_number": 36
    },
    {
     "cell_type": "code",
     "collapsed": false,
     "input": [
      "uwids,uwcom = parsecommunityout(\"unweightedOUT/communityout.txt\")"
     ],
     "language": "python",
     "metadata": {},
     "outputs": [],
     "prompt_number": 37
    },
    {
     "cell_type": "code",
     "collapsed": false,
     "input": [
      "import sklearn.metrics"
     ],
     "language": "python",
     "metadata": {},
     "outputs": [],
     "prompt_number": 40
    },
    {
     "cell_type": "code",
     "collapsed": false,
     "input": [
      "sklearn.metrics.normalized_mutual_info_score(wcom,uwcom)"
     ],
     "language": "python",
     "metadata": {},
     "outputs": [
      {
       "metadata": {},
       "output_type": "pyout",
       "prompt_number": 41,
       "text": [
        "0.57487015035744538"
       ]
      }
     ],
     "prompt_number": 41
    },
    {
     "cell_type": "markdown",
     "metadata": {},
     "source": [
      "The communities are different, but still similar."
     ]
    }
   ],
   "metadata": {}
  }
 ]
}