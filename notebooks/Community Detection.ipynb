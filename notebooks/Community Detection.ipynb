{
 "metadata": {
  "name": "",
  "signature": "sha256:9c7622b15b85b770fd98a67e8d2b11ccaea9f4af191ff32a9e6b2e476f2eb5be"
 },
 "nbformat": 3,
 "nbformat_minor": 0,
 "worksheets": [
  {
   "cells": [
    {
     "cell_type": "markdown",
     "metadata": {},
     "source": [
      "Trying out community detection.\n",
      "At this point can only do this on the STRING based weighted edges generated in [this notebook][stredges].\n",
      "\n",
      "[stredges]: http://nbviewer.ipython.org/github/ggray1729/opencast-bio/blob/master/notebooks/Generating%20STRING%20weighted%20edges.ipynb"
     ]
    },
    {
     "cell_type": "code",
     "collapsed": false,
     "input": [
      "cd ../../forGAVIN/mergecode/"
     ],
     "language": "python",
     "metadata": {},
     "outputs": [
      {
       "output_type": "stream",
       "stream": "stdout",
       "text": [
        "/data/opencast/MRes/forGAVIN/mergecode\n"
       ]
      }
     ],
     "prompt_number": 1
    },
    {
     "cell_type": "code",
     "collapsed": false,
     "input": [
      "!git annex unlock ../../HBP/testdata/edgelist.txt"
     ],
     "language": "python",
     "metadata": {},
     "outputs": [
      {
       "output_type": "stream",
       "stream": "stdout",
       "text": [
        "unlock ../../HBP/testdata/edgelist.txt (copying...) ok\r\n"
       ]
      }
     ],
     "prompt_number": 16
    },
    {
     "cell_type": "code",
     "collapsed": false,
     "input": [
      "cp edgelist_new.txt ../../HBP/testdata/edgelist.txt"
     ],
     "language": "python",
     "metadata": {},
     "outputs": [],
     "prompt_number": 17
    },
    {
     "cell_type": "code",
     "collapsed": false,
     "input": [
      "cp edgelist_update_weighted.txt ../../HBP/testdata/edgelist_weighted.txt"
     ],
     "language": "python",
     "metadata": {},
     "outputs": [],
     "prompt_number": 14
    },
    {
     "cell_type": "code",
     "collapsed": false,
     "input": [
      "cd ../../HBP/"
     ],
     "language": "python",
     "metadata": {},
     "outputs": [
      {
       "output_type": "stream",
       "stream": "stdout",
       "text": [
        "/data/opencast/MRes/HBP\n"
       ]
      }
     ],
     "prompt_number": 2
    },
    {
     "cell_type": "markdown",
     "metadata": {},
     "source": [
      "Community detection code from Colin written in C++:"
     ]
    },
    {
     "cell_type": "code",
     "collapsed": false,
     "input": [
      "!make"
     ],
     "language": "python",
     "metadata": {},
     "outputs": [
      {
       "output_type": "stream",
       "stream": "stdout",
       "text": [
        "Building with option-useomp\r\n",
        "make: `run' is up to date.\r\n"
       ]
      }
     ],
     "prompt_number": 19
    },
    {
     "cell_type": "markdown",
     "metadata": {},
     "source": [
      "This is how to run it:"
     ]
    },
    {
     "cell_type": "code",
     "collapsed": false,
     "input": [
      "!./run"
     ],
     "language": "python",
     "metadata": {},
     "outputs": [
      {
       "output_type": "stream",
       "stream": "stdout",
       "text": [
        "./run requires 2 arguments: \r\n",
        "-file         : the network file to run \r\n",
        "-quite        : Turn on/off comments to command line\r\n",
        "              : 0 = switch on comments to command line\r\n",
        "              : 1 = switch off comments to command line\r\n",
        "-algorithm    : the type of algorithm to run\r\n",
        "              : 1 = Geodesic edge Betweenness\r\n",
        "              : 2 = Random edge Betweenness\r\n",
        "              : 3 = Spectral Betweenness\r\n",
        "-weighted     : specify if network file is *weighted or not: \r\n",
        "              : 0  = Using a non-weighted network file \r\n",
        "              : 1  = Using a     weighted network file \r\n",
        "-enrichment   : run the enrichment on the clustered network\r\n",
        "              : 0 = run enrichment after clustering - Default\r\n",
        "              : 1 = run enrichment without clustering\r\n",
        "              : 2 = do not run enrichment\r\n",
        "-----\r\n",
        "*             : The structure of the network file is:\r\n",
        "-weighted 1   : A (interactor) \t B (interactor) \t W (weight) \r\n",
        "-weighted 0   : A (interactor) \t B (interactor) \r\n",
        "              : Where A and B are integers (Entrez IDs) and W is a double.\r\n",
        "EXAMPLE 1\r\n",
        "-----\r\n",
        "./run -file testData/edgelist.txt -weighted 0 -algorithm 1\r\n",
        "-----\r\n",
        "EXAMPLE 2\r\n",
        "-----\r\n",
        "./run -file testData/karate.txt -weighted 1 -algorithm 1\r\n",
        "-----\r\n"
       ]
      }
     ],
     "prompt_number": 20
    },
    {
     "cell_type": "markdown",
     "metadata": {},
     "source": [
      "Output is written to the `OUT` file, so we have to unlock them first."
     ]
    },
    {
     "cell_type": "code",
     "collapsed": false,
     "input": [
      "!git annex unlock OUT/*"
     ],
     "language": "python",
     "metadata": {},
     "outputs": [
      {
       "output_type": "stream",
       "stream": "stdout",
       "text": [
        "unlock OUT/communities_cytoscape.txt (copying...) ok\r\n",
        "unlock OUT/community-metric_nmi.txt (copying...) "
       ]
      },
      {
       "output_type": "stream",
       "stream": "stdout",
       "text": [
        "ok\r\n",
        "unlock OUT/communityout.txt (copying...) ok\r\n",
        "unlock OUT/consensusout.txt (copying...) ok\r\n",
        "unlock OUT/enrichment_SCH_enriched.csv (copying...) ok\r\n",
        "unlock OUT/enrichment_disease.csv (copying...) ok\r\n",
        "unlock OUT/overlap_dis_SCHenriched.csv (copying...) ok\r\n",
        "unlock OUT/p_significance_tests_SCH_enriched.csv (copying...) "
       ]
      },
      {
       "output_type": "stream",
       "stream": "stdout",
       "text": [
        "ok\r\n",
        "unlock OUT/p_significance_tests_disease.csv (copying...) ok\r\n",
        "unlock OUT/p_significance_tests_summary_SCH_enriched.csv (copying...) ok\r\n",
        "unlock OUT/p_significance_tests_summary_disease.csv (copying...) ok\r\n",
        "unlock OUT/p_values_SCH_enriched.csv (copying...) ok\r\n",
        "unlock OUT/p_values_disease.csv (copying...) ok\r\n",
        "unlock OUT/permute_p_values_SCH_enriched.csv (copying...) ok\r\n",
        "unlock OUT/permute_p_values_disease.csv (copying...) ok\r\n",
        "unlock OUT/removededges.txt (copying...) ok\r\n"
       ]
      }
     ],
     "prompt_number": 21
    },
    {
     "cell_type": "markdown",
     "metadata": {},
     "source": [
      "# Unweighted case\n",
      "\n",
      "Running the code on the unweighted case to begin with:"
     ]
    },
    {
     "cell_type": "code",
     "collapsed": false,
     "input": [
      "!./run -file testdata/edgelist_weighted.txt -weighted 0 -algorithm 3 -quite 1"
     ],
     "language": "python",
     "metadata": {},
     "outputs": [
      {
       "output_type": "stream",
       "stream": "stdout",
       "text": [
        "> ---- START ---- \r\n",
        "> Using Spectral Betweenness.\r\n",
        "> Using a weighted network \r\n",
        "> Scanning network_file: testdata/edgelist.txt\r\n",
        "> Header: columns 2\r\n"
       ]
      },
      {
       "output_type": "stream",
       "stream": "stdout",
       "text": [
        "> Running Spectral Betweenness.\r\n"
       ]
      },
      {
       "output_type": "stream",
       "stream": "stdout",
       "text": [
        "Warning: Too many iterations in tqli\r\n"
       ]
      },
      {
       "output_type": "stream",
       "stream": "stdout",
       "text": [
        "Warning: Too many iterations in tqli\r\n"
       ]
      },
      {
       "output_type": "stream",
       "stream": "stdout",
       "text": [
        "Warning: Too many iterations in tqli\r\n"
       ]
      },
      {
       "output_type": "stream",
       "stream": "stdout",
       "text": [
        "Warning: Too many iterations in tqli\r\n"
       ]
      },
      {
       "output_type": "stream",
       "stream": "stdout",
       "text": [
        "Warning: Too many iterations in tqli\r\n"
       ]
      },
      {
       "output_type": "stream",
       "stream": "stdout",
       "text": [
        "--- DONE ---\r\n",
        "> cputime: 344.26 seconds \r\n",
        "> Network (nodes): 1804 (edges): 15618\r\n"
       ]
      },
      {
       "output_type": "stream",
       "stream": "stdout",
       "text": [
        "> ---- END ---- \r\n"
       ]
      }
     ],
     "prompt_number": 22
    },
    {
     "cell_type": "markdown",
     "metadata": {},
     "source": [
      "This file describes the communities produced:"
     ]
    },
    {
     "cell_type": "code",
     "collapsed": false,
     "input": [
      "!head -n 10 OUT/communityout.txt"
     ],
     "language": "python",
     "metadata": {},
     "outputs": [
      {
       "output_type": "stream",
       "stream": "stdout",
       "text": [
        "communityout\r\n",
        "Max Q: 0.162931\r\n",
        "cputime: 344.26 seconds \r\n",
        "Network (nodes): 1804 (edges): 15618\r\n",
        "we 0 dist 0 community 1 Degree 1 visited 0 key 35 (217)\r\n",
        "we 0 dist 0 community 1 Degree 2 visited 0 key 57 (388)\r\n",
        "we 0 dist 0 community 1 Degree 23 visited 0 key 82 (529)\r\n",
        "we 0 dist 0 community 1 Degree 2 visited 0 key 105 (755)\r\n",
        "we 0 dist 0 community 1 Degree 1 visited 0 key 111 (818)\r\n",
        "we 0 dist 0 community 1 Degree 4 visited 0 key 112 (821)\r\n"
       ]
      }
     ],
     "prompt_number": 24
    },
    {
     "cell_type": "markdown",
     "metadata": {},
     "source": [
      "We would like to be able to visualise this output with [Cytoscape][], but we don't want to leave the IPython notebook because this is the record of our work.\n",
      "Luckily, there is a [widget extension][cytowidg] to solve this problem for us. \n",
      "And, there is a tutorial on how to use it in an IPython notebook [here][].\n",
      "\n",
      "[cytoscape]: http://www.cytoscape.org/\n",
      "[cytowidg]: http://nbviewer.ipython.org/github/kzuberi/ipython-cytoscape.js/blob/master/demo.ipynb\n",
      "[here]: http://nbviewer.ipython.org/github/kzuberi/ipython-cytoscape.js/blob/master/demo.ipynb"
     ]
    },
    {
     "cell_type": "code",
     "collapsed": false,
     "input": [
      "import pandas as pd"
     ],
     "language": "python",
     "metadata": {},
     "outputs": [],
     "prompt_number": 4
    },
    {
     "cell_type": "code",
     "collapsed": false,
     "input": [
      "edges = pd.read_csv(\"testdata/edgelist.txt\", delimiter=\"\\t\",\n",
      "                    index_col=False,names=[\"source\",\"target\"],header=0,dtype=str)\n",
      "edges = edges[:10]"
     ],
     "language": "python",
     "metadata": {},
     "outputs": [],
     "prompt_number": 8
    },
    {
     "cell_type": "code",
     "collapsed": false,
     "input": [
      "nodes = pd.DataFrame(data=list(set(edges.get_values().flatten())), columns=['id'],dtype=str)"
     ],
     "language": "python",
     "metadata": {},
     "outputs": [],
     "prompt_number": 9
    },
    {
     "cell_type": "markdown",
     "metadata": {},
     "source": [
      "Can only plot a subset of the graph at the moment, not quite got the hang of it:"
     ]
    },
    {
     "cell_type": "code",
     "collapsed": false,
     "input": [
      "%load_ext cyto\n",
      "network = cyto.Network(nodes, edges)\n",
      "network"
     ],
     "language": "python",
     "metadata": {},
     "outputs": [
      {
       "output_type": "stream",
       "stream": "stdout",
       "text": [
        "The cyto extension is already loaded. To reload it, use:\n",
        "  %reload_ext cyto\n"
       ]
      }
     ],
     "prompt_number": 18
    },
    {
     "cell_type": "code",
     "collapsed": false,
     "input": [
      "ls OUT/"
     ],
     "language": "python",
     "metadata": {},
     "outputs": [
      {
       "output_type": "stream",
       "stream": "stdout",
       "text": [
        "\u001b[0m\u001b[01;36mcommunities_cytoscape.txt\u001b[0m@     \u001b[01;36mpermute_p_values_SCH_enriched.csv\u001b[0m@\r\n",
        "\u001b[01;36mcommunity-metric_nmi.txt\u001b[0m@      \u001b[01;36mp_significance_tests_disease.csv\u001b[0m@\r\n",
        "\u001b[01;36mcommunityout.txt\u001b[0m@              \u001b[01;36mp_significance_tests_SCH_enriched.csv\u001b[0m@\r\n",
        "\u001b[01;36mconsensusout.txt\u001b[0m@              \u001b[01;36mp_significance_tests_summary_disease.csv\u001b[0m@\r\n",
        "\u001b[01;36menrichment_disease.csv\u001b[0m@        \u001b[01;36mp_significance_tests_summary_SCH_enriched.csv\u001b[0m@\r\n",
        "\u001b[01;36menrichment_SCH_enriched.csv\u001b[0m@   \u001b[01;36mp_values_disease.csv\u001b[0m@\r\n",
        "\u001b[01;36moverlap_dis_SCHenriched.csv\u001b[0m@   \u001b[01;36mp_values_SCH_enriched.csv\u001b[0m@\r\n",
        "\u001b[01;36mpermute_p_values_disease.csv\u001b[0m@  \u001b[01;36mremovededges.txt\u001b[0m@\r\n"
       ]
      }
     ],
     "prompt_number": 20
    },
    {
     "cell_type": "markdown",
     "metadata": {},
     "source": [
      "## Disease Enrichment\n",
      "\n",
      "Having a look at the disease enrichment now:"
     ]
    },
    {
     "cell_type": "code",
     "collapsed": false,
     "input": [
      "c =  pd.read_csv(\"OUT/permute_p_values_disease.csv\", delimiter=\"\\t\")"
     ],
     "language": "python",
     "metadata": {},
     "outputs": [],
     "prompt_number": 145
    },
    {
     "cell_type": "markdown",
     "metadata": {},
     "source": [
      "Check papers to read about the hypergeometric disease enrichment test:"
     ]
    },
    {
     "cell_type": "code",
     "collapsed": false,
     "input": [
      "c.head()"
     ],
     "language": "python",
     "metadata": {},
     "outputs": [
      {
       "html": [
        "<div style=\"max-height:1000px;max-width:1500px;overflow:auto;\">\n",
        "<table border=\"1\" class=\"dataframe\">\n",
        "  <thead>\n",
        "    <tr style=\"text-align: right;\">\n",
        "      <th></th>\n",
        "      <th>Community</th>\n",
        "      <th>Size</th>\n",
        "      <th>disease_of_metabolism</th>\n",
        "      <th>p-value</th>\n",
        "      <th>{p-value}</th>\n",
        "      <th>Sig. Level</th>\n",
        "      <th>p_lower (%)</th>\n",
        "      <th>p_upper (%)</th>\n",
        "      <th>disease_by_infectious_agent</th>\n",
        "      <th>p-value.1</th>\n",
        "      <th>...</th>\n",
        "      <th>Sig. Level.135</th>\n",
        "      <th>p_lower (%).135</th>\n",
        "      <th>p_upper (%).135</th>\n",
        "      <th>muscular_dystrophy</th>\n",
        "      <th>p-value.136</th>\n",
        "      <th>{p-value}.136</th>\n",
        "      <th>Sig. Level.136</th>\n",
        "      <th>p_lower (%).136</th>\n",
        "      <th>p_upper (%).136</th>\n",
        "      <th>Unnamed: 824</th>\n",
        "    </tr>\n",
        "  </thead>\n",
        "  <tbody>\n",
        "    <tr>\n",
        "      <th>0</th>\n",
        "      <td> 1</td>\n",
        "      <td>  75</td>\n",
        "      <td>NaN</td>\n",
        "      <td> 0.487383</td>\n",
        "      <td> 0.538371</td>\n",
        "      <td> 0.015806</td>\n",
        "      <td>  50.5</td>\n",
        "      <td> 61.4</td>\n",
        "      <td>NaN</td>\n",
        "      <td> 0.668737</td>\n",
        "      <td>...</td>\n",
        "      <td> 0.000000</td>\n",
        "      <td> 100.0</td>\n",
        "      <td> 40.4</td>\n",
        "      <td>NaN</td>\n",
        "      <td> 1.000000</td>\n",
        "      <td> 0.617973</td>\n",
        "      <td> 0.000000</td>\n",
        "      <td> 100.0</td>\n",
        "      <td> 27.1</td>\n",
        "      <td>NaN</td>\n",
        "    </tr>\n",
        "    <tr>\n",
        "      <th>1</th>\n",
        "      <td> 2</td>\n",
        "      <td> 219</td>\n",
        "      <td>NaN</td>\n",
        "      <td> 0.037029</td>\n",
        "      <td> 0.525524</td>\n",
        "      <td> 0.005971</td>\n",
        "      <td>   4.0</td>\n",
        "      <td> 97.2</td>\n",
        "      <td>NaN</td>\n",
        "      <td> 0.286436</td>\n",
        "      <td>...</td>\n",
        "      <td> 0.014216</td>\n",
        "      <td>  73.5</td>\n",
        "      <td> 55.9</td>\n",
        "      <td>NaN</td>\n",
        "      <td> 0.977284</td>\n",
        "      <td> 0.599489</td>\n",
        "      <td> 0.004712</td>\n",
        "      <td>  97.9</td>\n",
        "      <td> 12.9</td>\n",
        "      <td>NaN</td>\n",
        "    </tr>\n",
        "    <tr>\n",
        "      <th>2</th>\n",
        "      <td> 3</td>\n",
        "      <td>   1</td>\n",
        "      <td>NaN</td>\n",
        "      <td> 1.000000</td>\n",
        "      <td> 0.877055</td>\n",
        "      <td> 0.000000</td>\n",
        "      <td> 100.0</td>\n",
        "      <td> 85.7</td>\n",
        "      <td>NaN</td>\n",
        "      <td> 1.000000</td>\n",
        "      <td>...</td>\n",
        "      <td> 0.000000</td>\n",
        "      <td> 100.0</td>\n",
        "      <td> 98.5</td>\n",
        "      <td>NaN</td>\n",
        "      <td> 1.000000</td>\n",
        "      <td> 0.978354</td>\n",
        "      <td> 0.000000</td>\n",
        "      <td> 100.0</td>\n",
        "      <td> 97.8</td>\n",
        "      <td>NaN</td>\n",
        "    </tr>\n",
        "    <tr>\n",
        "      <th>3</th>\n",
        "      <td> 4</td>\n",
        "      <td> 215</td>\n",
        "      <td>NaN</td>\n",
        "      <td> 0.998799</td>\n",
        "      <td> 0.535276</td>\n",
        "      <td> 0.001095</td>\n",
        "      <td>  99.9</td>\n",
        "      <td>  0.1</td>\n",
        "      <td>NaN</td>\n",
        "      <td> 0.470003</td>\n",
        "      <td>...</td>\n",
        "      <td> 0.015667</td>\n",
        "      <td>  43.8</td>\n",
        "      <td> 77.1</td>\n",
        "      <td>NaN</td>\n",
        "      <td> 0.258283</td>\n",
        "      <td> 0.583692</td>\n",
        "      <td> 0.013841</td>\n",
        "      <td>  25.1</td>\n",
        "      <td> 87.7</td>\n",
        "      <td>NaN</td>\n",
        "    </tr>\n",
        "    <tr>\n",
        "      <th>4</th>\n",
        "      <td> 5</td>\n",
        "      <td>  87</td>\n",
        "      <td>NaN</td>\n",
        "      <td> 0.330242</td>\n",
        "      <td> 0.557432</td>\n",
        "      <td> 0.014872</td>\n",
        "      <td>  30.3</td>\n",
        "      <td> 79.0</td>\n",
        "      <td>NaN</td>\n",
        "      <td> 0.381916</td>\n",
        "      <td>...</td>\n",
        "      <td> 0.000000</td>\n",
        "      <td> 100.0</td>\n",
        "      <td> 36.9</td>\n",
        "      <td>NaN</td>\n",
        "      <td> 0.764239</td>\n",
        "      <td> 0.623383</td>\n",
        "      <td> 0.013423</td>\n",
        "      <td>  76.8</td>\n",
        "      <td> 57.9</td>\n",
        "      <td>NaN</td>\n",
        "    </tr>\n",
        "  </tbody>\n",
        "</table>\n",
        "<p>5 rows \u00d7 825 columns</p>\n",
        "</div>"
       ],
       "metadata": {},
       "output_type": "pyout",
       "prompt_number": 146,
       "text": [
        "   Community  Size  disease_of_metabolism   p-value  {p-value}  Sig. Level  \\\n",
        "0          1    75                    NaN  0.487383   0.538371    0.015806   \n",
        "1          2   219                    NaN  0.037029   0.525524    0.005971   \n",
        "2          3     1                    NaN  1.000000   0.877055    0.000000   \n",
        "3          4   215                    NaN  0.998799   0.535276    0.001095   \n",
        "4          5    87                    NaN  0.330242   0.557432    0.014872   \n",
        "\n",
        "   p_lower (%)  p_upper (%)  disease_by_infectious_agent  p-value.1  \\\n",
        "0         50.5         61.4                          NaN   0.668737   \n",
        "1          4.0         97.2                          NaN   0.286436   \n",
        "2        100.0         85.7                          NaN   1.000000   \n",
        "3         99.9          0.1                          NaN   0.470003   \n",
        "4         30.3         79.0                          NaN   0.381916   \n",
        "\n",
        "     ...      Sig. Level.135  p_lower (%).135  p_upper (%).135  \\\n",
        "0    ...            0.000000            100.0             40.4   \n",
        "1    ...            0.014216             73.5             55.9   \n",
        "2    ...            0.000000            100.0             98.5   \n",
        "3    ...            0.015667             43.8             77.1   \n",
        "4    ...            0.000000            100.0             36.9   \n",
        "\n",
        "   muscular_dystrophy  p-value.136  {p-value}.136  Sig. Level.136  \\\n",
        "0                 NaN     1.000000       0.617973        0.000000   \n",
        "1                 NaN     0.977284       0.599489        0.004712   \n",
        "2                 NaN     1.000000       0.978354        0.000000   \n",
        "3                 NaN     0.258283       0.583692        0.013841   \n",
        "4                 NaN     0.764239       0.623383        0.013423   \n",
        "\n",
        "   p_lower (%).136  p_upper (%).136  Unnamed: 824  \n",
        "0            100.0             27.1           NaN  \n",
        "1             97.9             12.9           NaN  \n",
        "2            100.0             97.8           NaN  \n",
        "3             25.1             87.7           NaN  \n",
        "4             76.8             57.9           NaN  \n",
        "\n",
        "[5 rows x 825 columns]"
       ]
      }
     ],
     "prompt_number": 146
    },
    {
     "cell_type": "markdown",
     "metadata": {},
     "source": [
      "This is an alternative set of annotations for the disease enrichment run above as part of the C++ code, specific to Schizophrenia:"
     ]
    },
    {
     "cell_type": "code",
     "collapsed": false,
     "input": [
      "!head data/flatfile.SYNSYS.csv"
     ],
     "language": "python",
     "metadata": {},
     "outputs": [
      {
       "output_type": "stream",
       "stream": "stdout",
       "text": [
        "#flatfile\r\n",
        "DOID:5419\tschizophrenia\t12\r\n",
        "DOID:5419\tschizophrenia\t50\r\n",
        "DOID:5419\tschizophrenia\t60\r\n",
        "DOID:5419\tschizophrenia\t71\r\n",
        "DOID:5419\tschizophrenia\t159\r\n",
        "DOID:5419\tschizophrenia\t213\r\n",
        "DOID:5419\tschizophrenia\t217\r\n",
        "DOID:5419\tschizophrenia\t226\r\n",
        "DOID:5419\tschizophrenia\t287\r\n"
       ]
      }
     ],
     "prompt_number": 150
    },
    {
     "cell_type": "markdown",
     "metadata": {},
     "source": [
      "Overlap between disease annotations and the other annotation file (annotations just for schizophrenia):"
     ]
    },
    {
     "cell_type": "code",
     "collapsed": false,
     "input": [
      "!cat OUT/overlap_dis_SCHenriched.csv"
     ],
     "language": "python",
     "metadata": {},
     "outputs": [
      {
       "output_type": "stream",
       "stream": "stdout",
       "text": [
        "community\t1\tsize\t75\r\n",
        "Anno\tdisease_of_metabolism\tdisease_by_infectious_agent\tBrugada_syndrome\tlissencephaly\tCarney_complex\thereditary_sensory_neuropathy\t2-hydroxyglutaric_aciduria\tL-2-hydroxyglutaric_aciduria\tD-2-hydroxyglutaric_aciduria\tdistal_hereditary_motor_neuropathy\talternating_hemiplegia_of_childhood\torgan_system_cancer\tcell_type_cancer\telectroclinical_syndrome\tneonatoal_period_electroclinical_syndrom...\tinfancy_electroclinical_syndrome\tOhtahara_syndrome\t3-Methylcrotonyl-CoA_carboxylase_deficie...\tserine_deficiency\tcerebellar_ataxia\tadnexa_disease\tdevelopmental_disorder_of_mental_health\tspecific_developmental_disorder\tpervasive_developmental_disorder\tautism_spectrum_disorder\tperipheral_neuropathy\theavy_chain_disease\tdelta_chain_disease\torganic_acidemia\tbenign_familial_infantile_epilepsy\tgeneralized_epilepsy_with_febrile_seizur...\tfamilial_hemiplegic_migraine\tchromosomal_disease\tspina_bifida\tleukodystrophy\tintellectual_disability\tCharcot-Marie-Tooth_disease\tAlzheimer's_disease\tbubonic_plague\themiplegia\trabies\tschizophreniform_disorder\toculopharyngeal_muscular_dystrophy\tlimb-girdle_muscular_dystrophy\tPick's_disease\tCreutzfeldt-Jakob_syndrome\tLewy_body_dementia\tcascade_stomach\tbeta_thalassemia\tphacogenic_glaucoma\tautistic_disorder\tHuntington's_disease\tneurodegenerative_disease\tdementia\tStiff-Person_syndrome\tDiamond-Blackfan_anemia\texfoliation_syndrome\tpolyneuropathy\tDown_syndrome\tParkinson's_disease\tspinocerebellar_ataxia\tcerebral_degeneration\tdisease_of_cellular_proliferation\tacrodysostosis\tpropionic_acidemia\tolivopontocerebellar_atrophy\tcholera\tdisease_of_mental_health\tcognitive_disorder\tcancer\tepilepsy_syndrome\tidiopathic_generalized_epilepsy\tanxiety_disorder\thepatitis_D\tfocal_epilepsy\ttransient_cerebral_ischemia\tsyndrome\tlateral_sclerosis\tmotor_neuron_disease\tpsychotic_disorder\tmotor_peripheral_neuropathy\tspinocerebellar_degeneration\tcerebellar_disease\tlong_QT_syndrome\tmembranoproliferative_glomerulonephritis\tastrocytoma\tmalignant_glioma\tnervous_system_cancer\tischemia\tvaccinia\tcentral_nervous_system_disease\tbipolar_disorder\tamyotrophic_lateral_sclerosis\tmood_disorder\ttemporal_lobe_epilepsy\tmucolipidosis\tconventional_central_osteosarcoma\ttoxic_encephalopathy\tpyruvate_decarboxylase_deficiency\tdifferentiating_neuroblastoma\tneuromuscular_disease\tmultiple_system_atrophy\tmovement_disease\tlung_adenoid_cystic_carcinoma\tneurotic_disorder\talcoholic_pancreatitis\tarteriolosclerosis\tschizophrenia\tperipheral_nervous_system_disease\tovarian_serous_cystadenocarcinoma\tparaplegia\tprion_disease\tgastric_pylorus_carcinoma\tprogressive_supranuclear_palsy\tbasal_ganglia_disease\ttauopathy\tmotor_neuritis\tdisease_of_anatomical_entity\taxonal_neuropathy\tchief_cell_adenoma\tepilepsy_with_generalized_tonic-clonic_s...\tC3_deficiency\tretinal_degeneration\tnervous_system_disease\tneuropathy\tamyloidosis\tatrophic_muscular_disease\tWiskott-Aldrich_syndrome\tamino_acid_metabolic_disorder\tfrontotemporal_dementia\tmaple_syrup_urine_disease\tmyopathy_of_extraocular_muscle\torbital_disease\tviral_infectious_disease\tbrain_disease\tencephalitis\tmuscular_dystrophy\t\r\n",
        "\r\n",
        "community\t2\tsize\t219\r\n",
        "Anno\tdisease_of_metabolism\tdisease_by_infectious_agent\tBrugada_syndrome\tlissencephaly\tCarney_complex\thereditary_sensory_neuropathy\t2-hydroxyglutaric_aciduria\tL-2-hydroxyglutaric_aciduria\tD-2-hydroxyglutaric_aciduria\tdistal_hereditary_motor_neuropathy\talternating_hemiplegia_of_childhood\torgan_system_cancer\tcell_type_cancer\telectroclinical_syndrome\tneonatoal_period_electroclinical_syndrom...\tinfancy_electroclinical_syndrome\tOhtahara_syndrome\t3-Methylcrotonyl-CoA_carboxylase_deficie...\tserine_deficiency\tcerebellar_ataxia\tadnexa_disease\tdevelopmental_disorder_of_mental_health\tspecific_developmental_disorder\tpervasive_developmental_disorder\tautism_spectrum_disorder\tperipheral_neuropathy\theavy_chain_disease\tdelta_chain_disease\torganic_acidemia\tbenign_familial_infantile_epilepsy\tgeneralized_epilepsy_with_febrile_seizur...\tfamilial_hemiplegic_migraine\tchromosomal_disease\tspina_bifida\tleukodystrophy\tintellectual_disability\tCharcot-Marie-Tooth_disease\tAlzheimer's_disease\tbubonic_plague\themiplegia\trabies\tschizophreniform_disorder\toculopharyngeal_muscular_dystrophy\tlimb-girdle_muscular_dystrophy\tPick's_disease\tCreutzfeldt-Jakob_syndrome\tLewy_body_dementia\tcascade_stomach\tbeta_thalassemia\tphacogenic_glaucoma\tautistic_disorder\tHuntington's_disease\tneurodegenerative_disease\tdementia\tStiff-Person_syndrome\tDiamond-Blackfan_anemia\texfoliation_syndrome\tpolyneuropathy\tDown_syndrome\tParkinson's_disease\tspinocerebellar_ataxia\tcerebral_degeneration\tdisease_of_cellular_proliferation\tacrodysostosis\tpropionic_acidemia\tolivopontocerebellar_atrophy\tcholera\tdisease_of_mental_health\tcognitive_disorder\tcancer\tepilepsy_syndrome\tidiopathic_generalized_epilepsy\tanxiety_disorder\thepatitis_D\tfocal_epilepsy\ttransient_cerebral_ischemia\tsyndrome\tlateral_sclerosis\tmotor_neuron_disease\tpsychotic_disorder\tmotor_peripheral_neuropathy\tspinocerebellar_degeneration\tcerebellar_disease\tlong_QT_syndrome\tmembranoproliferative_glomerulonephritis\tastrocytoma\tmalignant_glioma\tnervous_system_cancer\tischemia\tvaccinia\tcentral_nervous_system_disease\tbipolar_disorder\tamyotrophic_lateral_sclerosis\tmood_disorder\ttemporal_lobe_epilepsy\tmucolipidosis\tconventional_central_osteosarcoma\ttoxic_encephalopathy\tpyruvate_decarboxylase_deficiency\tdifferentiating_neuroblastoma\tneuromuscular_disease\tmultiple_system_atrophy\tmovement_disease\tlung_adenoid_cystic_carcinoma\tneurotic_disorder\talcoholic_pancreatitis\tarteriolosclerosis\tschizophrenia\tperipheral_nervous_system_disease\tovarian_serous_cystadenocarcinoma\tparaplegia\tprion_disease\tgastric_pylorus_carcinoma\tprogressive_supranuclear_palsy\tbasal_ganglia_disease\ttauopathy\tmotor_neuritis\tdisease_of_anatomical_entity\taxonal_neuropathy\tchief_cell_adenoma\tepilepsy_with_generalized_tonic-clonic_s...\tC3_deficiency\tretinal_degeneration\tnervous_system_disease\tneuropathy\tamyloidosis\tatrophic_muscular_disease\tWiskott-Aldrich_syndrome\tamino_acid_metabolic_disorder\tfrontotemporal_dementia\tmaple_syrup_urine_disease\tmyopathy_of_extraocular_muscle\torbital_disease\tviral_infectious_disease\tbrain_disease\tencephalitis\tmuscular_dystrophy\t\r\n",
        "\r\n",
        "community\t4\tsize\t215\r\n",
        "Anno\tdisease_of_metabolism\tdisease_by_infectious_agent\tBrugada_syndrome\tlissencephaly\tCarney_complex\thereditary_sensory_neuropathy\t2-hydroxyglutaric_aciduria\tL-2-hydroxyglutaric_aciduria\tD-2-hydroxyglutaric_aciduria\tdistal_hereditary_motor_neuropathy\talternating_hemiplegia_of_childhood\torgan_system_cancer\tcell_type_cancer\telectroclinical_syndrome\tneonatoal_period_electroclinical_syndrom...\tinfancy_electroclinical_syndrome\tOhtahara_syndrome\t3-Methylcrotonyl-CoA_carboxylase_deficie...\tserine_deficiency\tcerebellar_ataxia\tadnexa_disease\tdevelopmental_disorder_of_mental_health\tspecific_developmental_disorder\tpervasive_developmental_disorder\tautism_spectrum_disorder\tperipheral_neuropathy\theavy_chain_disease\tdelta_chain_disease\torganic_acidemia\tbenign_familial_infantile_epilepsy\tgeneralized_epilepsy_with_febrile_seizur...\tfamilial_hemiplegic_migraine\tchromosomal_disease\tspina_bifida\tleukodystrophy\tintellectual_disability\tCharcot-Marie-Tooth_disease\tAlzheimer's_disease\tbubonic_plague\themiplegia\trabies\tschizophreniform_disorder\toculopharyngeal_muscular_dystrophy\tlimb-girdle_muscular_dystrophy\tPick's_disease\tCreutzfeldt-Jakob_syndrome\tLewy_body_dementia\tcascade_stomach\tbeta_thalassemia\tphacogenic_glaucoma\tautistic_disorder\tHuntington's_disease\tneurodegenerative_disease\tdementia\tStiff-Person_syndrome\tDiamond-Blackfan_anemia\texfoliation_syndrome\tpolyneuropathy\tDown_syndrome\tParkinson's_disease\tspinocerebellar_ataxia\tcerebral_degeneration\tdisease_of_cellular_proliferation\tacrodysostosis\tpropionic_acidemia\tolivopontocerebellar_atrophy\tcholera\tdisease_of_mental_health\tcognitive_disorder\tcancer\tepilepsy_syndrome\tidiopathic_generalized_epilepsy\tanxiety_disorder\thepatitis_D\tfocal_epilepsy\ttransient_cerebral_ischemia\tsyndrome\tlateral_sclerosis\tmotor_neuron_disease\tpsychotic_disorder\tmotor_peripheral_neuropathy\tspinocerebellar_degeneration\tcerebellar_disease\tlong_QT_syndrome\tmembranoproliferative_glomerulonephritis\tastrocytoma\tmalignant_glioma\tnervous_system_cancer\tischemia\tvaccinia\tcentral_nervous_system_disease\tbipolar_disorder\tamyotrophic_lateral_sclerosis\tmood_disorder\ttemporal_lobe_epilepsy\tmucolipidosis\tconventional_central_osteosarcoma\ttoxic_encephalopathy\tpyruvate_decarboxylase_deficiency\tdifferentiating_neuroblastoma\tneuromuscular_disease\tmultiple_system_atrophy\tmovement_disease\tlung_adenoid_cystic_carcinoma\tneurotic_disorder\talcoholic_pancreatitis\tarteriolosclerosis\tschizophrenia\tperipheral_nervous_system_disease\tovarian_serous_cystadenocarcinoma\tparaplegia\tprion_disease\tgastric_pylorus_carcinoma\tprogressive_supranuclear_palsy\tbasal_ganglia_disease\ttauopathy\tmotor_neuritis\tdisease_of_anatomical_entity\taxonal_neuropathy\tchief_cell_adenoma\tepilepsy_with_generalized_tonic-clonic_s...\tC3_deficiency\tretinal_degeneration\tnervous_system_disease\tneuropathy\tamyloidosis\tatrophic_muscular_disease\tWiskott-Aldrich_syndrome\tamino_acid_metabolic_disorder\tfrontotemporal_dementia\tmaple_syrup_urine_disease\tmyopathy_of_extraocular_muscle\torbital_disease\tviral_infectious_disease\tbrain_disease\tencephalitis\tmuscular_dystrophy\t\r\n",
        "\r\n",
        "community\t5\tsize\t87\r\n",
        "Anno\tdisease_of_metabolism\tdisease_by_infectious_agent\tBrugada_syndrome\tlissencephaly\tCarney_complex\thereditary_sensory_neuropathy\t2-hydroxyglutaric_aciduria\tL-2-hydroxyglutaric_aciduria\tD-2-hydroxyglutaric_aciduria\tdistal_hereditary_motor_neuropathy\talternating_hemiplegia_of_childhood\torgan_system_cancer\tcell_type_cancer\telectroclinical_syndrome\tneonatoal_period_electroclinical_syndrom...\tinfancy_electroclinical_syndrome\tOhtahara_syndrome\t3-Methylcrotonyl-CoA_carboxylase_deficie...\tserine_deficiency\tcerebellar_ataxia\tadnexa_disease\tdevelopmental_disorder_of_mental_health\tspecific_developmental_disorder\tpervasive_developmental_disorder\tautism_spectrum_disorder\tperipheral_neuropathy\theavy_chain_disease\tdelta_chain_disease\torganic_acidemia\tbenign_familial_infantile_epilepsy\tgeneralized_epilepsy_with_febrile_seizur...\tfamilial_hemiplegic_migraine\tchromosomal_disease\tspina_bifida\tleukodystrophy\tintellectual_disability\tCharcot-Marie-Tooth_disease\tAlzheimer's_disease\tbubonic_plague\themiplegia\trabies\tschizophreniform_disorder\toculopharyngeal_muscular_dystrophy\tlimb-girdle_muscular_dystrophy\tPick's_disease\tCreutzfeldt-Jakob_syndrome\tLewy_body_dementia\tcascade_stomach\tbeta_thalassemia\tphacogenic_glaucoma\tautistic_disorder\tHuntington's_disease\tneurodegenerative_disease\tdementia\tStiff-Person_syndrome\tDiamond-Blackfan_anemia\texfoliation_syndrome\tpolyneuropathy\tDown_syndrome\tParkinson's_disease\tspinocerebellar_ataxia\tcerebral_degeneration\tdisease_of_cellular_proliferation\tacrodysostosis\tpropionic_acidemia\tolivopontocerebellar_atrophy\tcholera\tdisease_of_mental_health\tcognitive_disorder\tcancer\tepilepsy_syndrome\tidiopathic_generalized_epilepsy\tanxiety_disorder\thepatitis_D\tfocal_epilepsy\ttransient_cerebral_ischemia\tsyndrome\tlateral_sclerosis\tmotor_neuron_disease\tpsychotic_disorder\tmotor_peripheral_neuropathy\tspinocerebellar_degeneration\tcerebellar_disease\tlong_QT_syndrome\tmembranoproliferative_glomerulonephritis\tastrocytoma\tmalignant_glioma\tnervous_system_cancer\tischemia\tvaccinia\tcentral_nervous_system_disease\tbipolar_disorder\tamyotrophic_lateral_sclerosis\tmood_disorder\ttemporal_lobe_epilepsy\tmucolipidosis\tconventional_central_osteosarcoma\ttoxic_encephalopathy\tpyruvate_decarboxylase_deficiency\tdifferentiating_neuroblastoma\tneuromuscular_disease\tmultiple_system_atrophy\tmovement_disease\tlung_adenoid_cystic_carcinoma\tneurotic_disorder\talcoholic_pancreatitis\tarteriolosclerosis\tschizophrenia\tperipheral_nervous_system_disease\tovarian_serous_cystadenocarcinoma\tparaplegia\tprion_disease\tgastric_pylorus_carcinoma\tprogressive_supranuclear_palsy\tbasal_ganglia_disease\ttauopathy\tmotor_neuritis\tdisease_of_anatomical_entity\taxonal_neuropathy\tchief_cell_adenoma\tepilepsy_with_generalized_tonic-clonic_s...\tC3_deficiency\tretinal_degeneration\tnervous_system_disease\tneuropathy\tamyloidosis\tatrophic_muscular_disease\tWiskott-Aldrich_syndrome\tamino_acid_metabolic_disorder\tfrontotemporal_dementia\tmaple_syrup_urine_disease\tmyopathy_of_extraocular_muscle\torbital_disease\tviral_infectious_disease\tbrain_disease\tencephalitis\tmuscular_dystrophy\t\r\n",
        "\r\n",
        "community\t6\tsize\t248\r\n",
        "Anno\tdisease_of_metabolism\tdisease_by_infectious_agent\tBrugada_syndrome\tlissencephaly\tCarney_complex\thereditary_sensory_neuropathy\t2-hydroxyglutaric_aciduria\tL-2-hydroxyglutaric_aciduria\tD-2-hydroxyglutaric_aciduria\tdistal_hereditary_motor_neuropathy\talternating_hemiplegia_of_childhood\torgan_system_cancer\tcell_type_cancer\telectroclinical_syndrome\tneonatoal_period_electroclinical_syndrom...\tinfancy_electroclinical_syndrome\tOhtahara_syndrome\t3-Methylcrotonyl-CoA_carboxylase_deficie...\tserine_deficiency\tcerebellar_ataxia\tadnexa_disease\tdevelopmental_disorder_of_mental_health\tspecific_developmental_disorder\tpervasive_developmental_disorder\tautism_spectrum_disorder\tperipheral_neuropathy\theavy_chain_disease\tdelta_chain_disease\torganic_acidemia\tbenign_familial_infantile_epilepsy\tgeneralized_epilepsy_with_febrile_seizur...\tfamilial_hemiplegic_migraine\tchromosomal_disease\tspina_bifida\tleukodystrophy\tintellectual_disability\tCharcot-Marie-Tooth_disease\tAlzheimer's_disease\tbubonic_plague\themiplegia\trabies\tschizophreniform_disorder\toculopharyngeal_muscular_dystrophy\tlimb-girdle_muscular_dystrophy\tPick's_disease\tCreutzfeldt-Jakob_syndrome\tLewy_body_dementia\tcascade_stomach\tbeta_thalassemia\tphacogenic_glaucoma\tautistic_disorder\tHuntington's_disease\tneurodegenerative_disease\tdementia\tStiff-Person_syndrome\tDiamond-Blackfan_anemia\texfoliation_syndrome\tpolyneuropathy\tDown_syndrome\tParkinson's_disease\tspinocerebellar_ataxia\tcerebral_degeneration\tdisease_of_cellular_proliferation\tacrodysostosis\tpropionic_acidemia\tolivopontocerebellar_atrophy\tcholera\tdisease_of_mental_health\tcognitive_disorder\tcancer\tepilepsy_syndrome\tidiopathic_generalized_epilepsy\tanxiety_disorder\thepatitis_D\tfocal_epilepsy\ttransient_cerebral_ischemia\tsyndrome\tlateral_sclerosis\tmotor_neuron_disease\tpsychotic_disorder\tmotor_peripheral_neuropathy\tspinocerebellar_degeneration\tcerebellar_disease\tlong_QT_syndrome\tmembranoproliferative_glomerulonephritis\tastrocytoma\tmalignant_glioma\tnervous_system_cancer\tischemia\tvaccinia\tcentral_nervous_system_disease\tbipolar_disorder\tamyotrophic_lateral_sclerosis\tmood_disorder\ttemporal_lobe_epilepsy\tmucolipidosis\tconventional_central_osteosarcoma\ttoxic_encephalopathy\tpyruvate_decarboxylase_deficiency\tdifferentiating_neuroblastoma\tneuromuscular_disease\tmultiple_system_atrophy\tmovement_disease\tlung_adenoid_cystic_carcinoma\tneurotic_disorder\talcoholic_pancreatitis\tarteriolosclerosis\tschizophrenia\tperipheral_nervous_system_disease\tovarian_serous_cystadenocarcinoma\tparaplegia\tprion_disease\tgastric_pylorus_carcinoma\tprogressive_supranuclear_palsy\tbasal_ganglia_disease\ttauopathy\tmotor_neuritis\tdisease_of_anatomical_entity\taxonal_neuropathy\tchief_cell_adenoma\tepilepsy_with_generalized_tonic-clonic_s...\tC3_deficiency\tretinal_degeneration\tnervous_system_disease\tneuropathy\tamyloidosis\tatrophic_muscular_disease\tWiskott-Aldrich_syndrome\tamino_acid_metabolic_disorder\tfrontotemporal_dementia\tmaple_syrup_urine_disease\tmyopathy_of_extraocular_muscle\torbital_disease\tviral_infectious_disease\tbrain_disease\tencephalitis\tmuscular_dystrophy\t\r\n",
        "\r\n",
        "community\t7\tsize\t50\r\n",
        "Anno\tdisease_of_metabolism\tdisease_by_infectious_agent\tBrugada_syndrome\tlissencephaly\tCarney_complex\thereditary_sensory_neuropathy\t2-hydroxyglutaric_aciduria\tL-2-hydroxyglutaric_aciduria\tD-2-hydroxyglutaric_aciduria\tdistal_hereditary_motor_neuropathy\talternating_hemiplegia_of_childhood\torgan_system_cancer\tcell_type_cancer\telectroclinical_syndrome\tneonatoal_period_electroclinical_syndrom...\tinfancy_electroclinical_syndrome\tOhtahara_syndrome\t3-Methylcrotonyl-CoA_carboxylase_deficie...\tserine_deficiency\tcerebellar_ataxia\tadnexa_disease\tdevelopmental_disorder_of_mental_health\tspecific_developmental_disorder\tpervasive_developmental_disorder\tautism_spectrum_disorder\tperipheral_neuropathy\theavy_chain_disease\tdelta_chain_disease\torganic_acidemia\tbenign_familial_infantile_epilepsy\tgeneralized_epilepsy_with_febrile_seizur...\tfamilial_hemiplegic_migraine\tchromosomal_disease\tspina_bifida\tleukodystrophy\tintellectual_disability\tCharcot-Marie-Tooth_disease\tAlzheimer's_disease\tbubonic_plague\themiplegia\trabies\tschizophreniform_disorder\toculopharyngeal_muscular_dystrophy\tlimb-girdle_muscular_dystrophy\tPick's_disease\tCreutzfeldt-Jakob_syndrome\tLewy_body_dementia\tcascade_stomach\tbeta_thalassemia\tphacogenic_glaucoma\tautistic_disorder\tHuntington's_disease\tneurodegenerative_disease\tdementia\tStiff-Person_syndrome\tDiamond-Blackfan_anemia\texfoliation_syndrome\tpolyneuropathy\tDown_syndrome\tParkinson's_disease\tspinocerebellar_ataxia\tcerebral_degeneration\tdisease_of_cellular_proliferation\tacrodysostosis\tpropionic_acidemia\tolivopontocerebellar_atrophy\tcholera\tdisease_of_mental_health\tcognitive_disorder\tcancer\tepilepsy_syndrome\tidiopathic_generalized_epilepsy\tanxiety_disorder\thepatitis_D\tfocal_epilepsy\ttransient_cerebral_ischemia\tsyndrome\tlateral_sclerosis\tmotor_neuron_disease\tpsychotic_disorder\tmotor_peripheral_neuropathy\tspinocerebellar_degeneration\tcerebellar_disease\tlong_QT_syndrome\tmembranoproliferative_glomerulonephritis\tastrocytoma\tmalignant_glioma\tnervous_system_cancer\tischemia\tvaccinia\tcentral_nervous_system_disease\tbipolar_disorder\tamyotrophic_lateral_sclerosis\tmood_disorder\ttemporal_lobe_epilepsy\tmucolipidosis\tconventional_central_osteosarcoma\ttoxic_encephalopathy\tpyruvate_decarboxylase_deficiency\tdifferentiating_neuroblastoma\tneuromuscular_disease\tmultiple_system_atrophy\tmovement_disease\tlung_adenoid_cystic_carcinoma\tneurotic_disorder\talcoholic_pancreatitis\tarteriolosclerosis\tschizophrenia\tperipheral_nervous_system_disease\tovarian_serous_cystadenocarcinoma\tparaplegia\tprion_disease\tgastric_pylorus_carcinoma\tprogressive_supranuclear_palsy\tbasal_ganglia_disease\ttauopathy\tmotor_neuritis\tdisease_of_anatomical_entity\taxonal_neuropathy\tchief_cell_adenoma\tepilepsy_with_generalized_tonic-clonic_s...\tC3_deficiency\tretinal_degeneration\tnervous_system_disease\tneuropathy\tamyloidosis\tatrophic_muscular_disease\tWiskott-Aldrich_syndrome\tamino_acid_metabolic_disorder\tfrontotemporal_dementia\tmaple_syrup_urine_disease\tmyopathy_of_extraocular_muscle\torbital_disease\tviral_infectious_disease\tbrain_disease\tencephalitis\tmuscular_dystrophy\t\r\n",
        "\r\n",
        "community\t10\tsize\t60\r\n",
        "Anno\tdisease_of_metabolism\tdisease_by_infectious_agent\tBrugada_syndrome\tlissencephaly\tCarney_complex\thereditary_sensory_neuropathy\t2-hydroxyglutaric_aciduria\tL-2-hydroxyglutaric_aciduria\tD-2-hydroxyglutaric_aciduria\tdistal_hereditary_motor_neuropathy\talternating_hemiplegia_of_childhood\torgan_system_cancer\tcell_type_cancer\telectroclinical_syndrome\tneonatoal_period_electroclinical_syndrom...\tinfancy_electroclinical_syndrome\tOhtahara_syndrome\t3-Methylcrotonyl-CoA_carboxylase_deficie...\tserine_deficiency\tcerebellar_ataxia\tadnexa_disease\tdevelopmental_disorder_of_mental_health\tspecific_developmental_disorder\tpervasive_developmental_disorder\tautism_spectrum_disorder\tperipheral_neuropathy\theavy_chain_disease\tdelta_chain_disease\torganic_acidemia\tbenign_familial_infantile_epilepsy\tgeneralized_epilepsy_with_febrile_seizur...\tfamilial_hemiplegic_migraine\tchromosomal_disease\tspina_bifida\tleukodystrophy\tintellectual_disability\tCharcot-Marie-Tooth_disease\tAlzheimer's_disease\tbubonic_plague\themiplegia\trabies\tschizophreniform_disorder\toculopharyngeal_muscular_dystrophy\tlimb-girdle_muscular_dystrophy\tPick's_disease\tCreutzfeldt-Jakob_syndrome\tLewy_body_dementia\tcascade_stomach\tbeta_thalassemia\tphacogenic_glaucoma\tautistic_disorder\tHuntington's_disease\tneurodegenerative_disease\tdementia\tStiff-Person_syndrome\tDiamond-Blackfan_anemia\texfoliation_syndrome\tpolyneuropathy\tDown_syndrome\tParkinson's_disease\tspinocerebellar_ataxia\tcerebral_degeneration\tdisease_of_cellular_proliferation\tacrodysostosis\tpropionic_acidemia\tolivopontocerebellar_atrophy\tcholera\tdisease_of_mental_health\tcognitive_disorder\tcancer\tepilepsy_syndrome\tidiopathic_generalized_epilepsy\tanxiety_disorder\thepatitis_D\tfocal_epilepsy\ttransient_cerebral_ischemia\tsyndrome\tlateral_sclerosis\tmotor_neuron_disease\tpsychotic_disorder\tmotor_peripheral_neuropathy\tspinocerebellar_degeneration\tcerebellar_disease\tlong_QT_syndrome\tmembranoproliferative_glomerulonephritis\tastrocytoma\tmalignant_glioma\tnervous_system_cancer\tischemia\tvaccinia\tcentral_nervous_system_disease\tbipolar_disorder\tamyotrophic_lateral_sclerosis\tmood_disorder\ttemporal_lobe_epilepsy\tmucolipidosis\tconventional_central_osteosarcoma\ttoxic_encephalopathy\tpyruvate_decarboxylase_deficiency\tdifferentiating_neuroblastoma\tneuromuscular_disease\tmultiple_system_atrophy\tmovement_disease\tlung_adenoid_cystic_carcinoma\tneurotic_disorder\talcoholic_pancreatitis\tarteriolosclerosis\tschizophrenia\tperipheral_nervous_system_disease\tovarian_serous_cystadenocarcinoma\tparaplegia\tprion_disease\tgastric_pylorus_carcinoma\tprogressive_supranuclear_palsy\tbasal_ganglia_disease\ttauopathy\tmotor_neuritis\tdisease_of_anatomical_entity\taxonal_neuropathy\tchief_cell_adenoma\tepilepsy_with_generalized_tonic-clonic_s...\tC3_deficiency\tretinal_degeneration\tnervous_system_disease\tneuropathy\tamyloidosis\tatrophic_muscular_disease\tWiskott-Aldrich_syndrome\tamino_acid_metabolic_disorder\tfrontotemporal_dementia\tmaple_syrup_urine_disease\tmyopathy_of_extraocular_muscle\torbital_disease\tviral_infectious_disease\tbrain_disease\tencephalitis\tmuscular_dystrophy\t\r\n",
        "\r\n",
        "community\t11\tsize\t98\r\n",
        "Anno\tdisease_of_metabolism\tdisease_by_infectious_agent\tBrugada_syndrome\tlissencephaly\tCarney_complex\thereditary_sensory_neuropathy\t2-hydroxyglutaric_aciduria\tL-2-hydroxyglutaric_aciduria\tD-2-hydroxyglutaric_aciduria\tdistal_hereditary_motor_neuropathy\talternating_hemiplegia_of_childhood\torgan_system_cancer\tcell_type_cancer\telectroclinical_syndrome\tneonatoal_period_electroclinical_syndrom...\tinfancy_electroclinical_syndrome\tOhtahara_syndrome\t3-Methylcrotonyl-CoA_carboxylase_deficie...\tserine_deficiency\tcerebellar_ataxia\tadnexa_disease\tdevelopmental_disorder_of_mental_health\tspecific_developmental_disorder\tpervasive_developmental_disorder\tautism_spectrum_disorder\tperipheral_neuropathy\theavy_chain_disease\tdelta_chain_disease\torganic_acidemia\tbenign_familial_infantile_epilepsy\tgeneralized_epilepsy_with_febrile_seizur...\tfamilial_hemiplegic_migraine\tchromosomal_disease\tspina_bifida\tleukodystrophy\tintellectual_disability\tCharcot-Marie-Tooth_disease\tAlzheimer's_disease\tbubonic_plague\themiplegia\trabies\tschizophreniform_disorder\toculopharyngeal_muscular_dystrophy\tlimb-girdle_muscular_dystrophy\tPick's_disease\tCreutzfeldt-Jakob_syndrome\tLewy_body_dementia\tcascade_stomach\tbeta_thalassemia\tphacogenic_glaucoma\tautistic_disorder\tHuntington's_disease\tneurodegenerative_disease\tdementia\tStiff-Person_syndrome\tDiamond-Blackfan_anemia\texfoliation_syndrome\tpolyneuropathy\tDown_syndrome\tParkinson's_disease\tspinocerebellar_ataxia\tcerebral_degeneration\tdisease_of_cellular_proliferation\tacrodysostosis\tpropionic_acidemia\tolivopontocerebellar_atrophy\tcholera\tdisease_of_mental_health\tcognitive_disorder\tcancer\tepilepsy_syndrome\tidiopathic_generalized_epilepsy\tanxiety_disorder\thepatitis_D\tfocal_epilepsy\ttransient_cerebral_ischemia\tsyndrome\tlateral_sclerosis\tmotor_neuron_disease\tpsychotic_disorder\tmotor_peripheral_neuropathy\tspinocerebellar_degeneration\tcerebellar_disease\tlong_QT_syndrome\tmembranoproliferative_glomerulonephritis\tastrocytoma\tmalignant_glioma\tnervous_system_cancer\tischemia\tvaccinia\tcentral_nervous_system_disease\tbipolar_disorder\tamyotrophic_lateral_sclerosis\tmood_disorder\ttemporal_lobe_epilepsy\tmucolipidosis\tconventional_central_osteosarcoma\ttoxic_encephalopathy\tpyruvate_decarboxylase_deficiency\tdifferentiating_neuroblastoma\tneuromuscular_disease\tmultiple_system_atrophy\tmovement_disease\tlung_adenoid_cystic_carcinoma\tneurotic_disorder\talcoholic_pancreatitis\tarteriolosclerosis\tschizophrenia\tperipheral_nervous_system_disease\tovarian_serous_cystadenocarcinoma\tparaplegia\tprion_disease\tgastric_pylorus_carcinoma\tprogressive_supranuclear_palsy\tbasal_ganglia_disease\ttauopathy\tmotor_neuritis\tdisease_of_anatomical_entity\taxonal_neuropathy\tchief_cell_adenoma\tepilepsy_with_generalized_tonic-clonic_s...\tC3_deficiency\tretinal_degeneration\tnervous_system_disease\tneuropathy\tamyloidosis\tatrophic_muscular_disease\tWiskott-Aldrich_syndrome\tamino_acid_metabolic_disorder\tfrontotemporal_dementia\tmaple_syrup_urine_disease\tmyopathy_of_extraocular_muscle\torbital_disease\tviral_infectious_disease\tbrain_disease\tencephalitis\tmuscular_dystrophy\t\r\n",
        "\r\n",
        "community\t18\tsize\t164\r\n",
        "Anno\tdisease_of_metabolism\tdisease_by_infectious_agent\tBrugada_syndrome\tlissencephaly\tCarney_complex\thereditary_sensory_neuropathy\t2-hydroxyglutaric_aciduria\tL-2-hydroxyglutaric_aciduria\tD-2-hydroxyglutaric_aciduria\tdistal_hereditary_motor_neuropathy\talternating_hemiplegia_of_childhood\torgan_system_cancer\tcell_type_cancer\telectroclinical_syndrome\tneonatoal_period_electroclinical_syndrom...\tinfancy_electroclinical_syndrome\tOhtahara_syndrome\t3-Methylcrotonyl-CoA_carboxylase_deficie...\tserine_deficiency\tcerebellar_ataxia\tadnexa_disease\tdevelopmental_disorder_of_mental_health\tspecific_developmental_disorder\tpervasive_developmental_disorder\tautism_spectrum_disorder\tperipheral_neuropathy\theavy_chain_disease\tdelta_chain_disease\torganic_acidemia\tbenign_familial_infantile_epilepsy\tgeneralized_epilepsy_with_febrile_seizur...\tfamilial_hemiplegic_migraine\tchromosomal_disease\tspina_bifida\tleukodystrophy\tintellectual_disability\tCharcot-Marie-Tooth_disease\tAlzheimer's_disease\tbubonic_plague\themiplegia\trabies\tschizophreniform_disorder\toculopharyngeal_muscular_dystrophy\tlimb-girdle_muscular_dystrophy\tPick's_disease\tCreutzfeldt-Jakob_syndrome\tLewy_body_dementia\tcascade_stomach\tbeta_thalassemia\tphacogenic_glaucoma\tautistic_disorder\tHuntington's_disease\tneurodegenerative_disease\tdementia\tStiff-Person_syndrome\tDiamond-Blackfan_anemia\texfoliation_syndrome\tpolyneuropathy\tDown_syndrome\tParkinson's_disease\tspinocerebellar_ataxia\tcerebral_degeneration\tdisease_of_cellular_proliferation\tacrodysostosis\tpropionic_acidemia\tolivopontocerebellar_atrophy\tcholera\tdisease_of_mental_health\tcognitive_disorder\tcancer\tepilepsy_syndrome\tidiopathic_generalized_epilepsy\tanxiety_disorder\thepatitis_D\tfocal_epilepsy\ttransient_cerebral_ischemia\tsyndrome\tlateral_sclerosis\tmotor_neuron_disease\tpsychotic_disorder\tmotor_peripheral_neuropathy\tspinocerebellar_degeneration\tcerebellar_disease\tlong_QT_syndrome\tmembranoproliferative_glomerulonephritis\tastrocytoma\tmalignant_glioma\tnervous_system_cancer\tischemia\tvaccinia\tcentral_nervous_system_disease\tbipolar_disorder\tamyotrophic_lateral_sclerosis\tmood_disorder\ttemporal_lobe_epilepsy\tmucolipidosis\tconventional_central_osteosarcoma\ttoxic_encephalopathy\tpyruvate_decarboxylase_deficiency\tdifferentiating_neuroblastoma\tneuromuscular_disease\tmultiple_system_atrophy\tmovement_disease\tlung_adenoid_cystic_carcinoma\tneurotic_disorder\talcoholic_pancreatitis\tarteriolosclerosis\tschizophrenia\tperipheral_nervous_system_disease\tovarian_serous_cystadenocarcinoma\tparaplegia\tprion_disease\tgastric_pylorus_carcinoma\tprogressive_supranuclear_palsy\tbasal_ganglia_disease\ttauopathy\tmotor_neuritis\tdisease_of_anatomical_entity\taxonal_neuropathy\tchief_cell_adenoma\tepilepsy_with_generalized_tonic-clonic_s...\tC3_deficiency\tretinal_degeneration\tnervous_system_disease\tneuropathy\tamyloidosis\tatrophic_muscular_disease\tWiskott-Aldrich_syndrome\tamino_acid_metabolic_disorder\tfrontotemporal_dementia\tmaple_syrup_urine_disease\tmyopathy_of_extraocular_muscle\torbital_disease\tviral_infectious_disease\tbrain_disease\tencephalitis\tmuscular_dystrophy\t\r\n",
        "\r\n",
        "community\t19\tsize\t45\r\n",
        "Anno\tdisease_of_metabolism\tdisease_by_infectious_agent\tBrugada_syndrome\tlissencephaly\tCarney_complex\thereditary_sensory_neuropathy\t2-hydroxyglutaric_aciduria\tL-2-hydroxyglutaric_aciduria\tD-2-hydroxyglutaric_aciduria\tdistal_hereditary_motor_neuropathy\talternating_hemiplegia_of_childhood\torgan_system_cancer\tcell_type_cancer\telectroclinical_syndrome\tneonatoal_period_electroclinical_syndrom...\tinfancy_electroclinical_syndrome\tOhtahara_syndrome\t3-Methylcrotonyl-CoA_carboxylase_deficie...\tserine_deficiency\tcerebellar_ataxia\tadnexa_disease\tdevelopmental_disorder_of_mental_health\tspecific_developmental_disorder\tpervasive_developmental_disorder\tautism_spectrum_disorder\tperipheral_neuropathy\theavy_chain_disease\tdelta_chain_disease\torganic_acidemia\tbenign_familial_infantile_epilepsy\tgeneralized_epilepsy_with_febrile_seizur...\tfamilial_hemiplegic_migraine\tchromosomal_disease\tspina_bifida\tleukodystrophy\tintellectual_disability\tCharcot-Marie-Tooth_disease\tAlzheimer's_disease\tbubonic_plague\themiplegia\trabies\tschizophreniform_disorder\toculopharyngeal_muscular_dystrophy\tlimb-girdle_muscular_dystrophy\tPick's_disease\tCreutzfeldt-Jakob_syndrome\tLewy_body_dementia\tcascade_stomach\tbeta_thalassemia\tphacogenic_glaucoma\tautistic_disorder\tHuntington's_disease\tneurodegenerative_disease\tdementia\tStiff-Person_syndrome\tDiamond-Blackfan_anemia\texfoliation_syndrome\tpolyneuropathy\tDown_syndrome\tParkinson's_disease\tspinocerebellar_ataxia\tcerebral_degeneration\tdisease_of_cellular_proliferation\tacrodysostosis\tpropionic_acidemia\tolivopontocerebellar_atrophy\tcholera\tdisease_of_mental_health\tcognitive_disorder\tcancer\tepilepsy_syndrome\tidiopathic_generalized_epilepsy\tanxiety_disorder\thepatitis_D\tfocal_epilepsy\ttransient_cerebral_ischemia\tsyndrome\tlateral_sclerosis\tmotor_neuron_disease\tpsychotic_disorder\tmotor_peripheral_neuropathy\tspinocerebellar_degeneration\tcerebellar_disease\tlong_QT_syndrome\tmembranoproliferative_glomerulonephritis\tastrocytoma\tmalignant_glioma\tnervous_system_cancer\tischemia\tvaccinia\tcentral_nervous_system_disease\tbipolar_disorder\tamyotrophic_lateral_sclerosis\tmood_disorder\ttemporal_lobe_epilepsy\tmucolipidosis\tconventional_central_osteosarcoma\ttoxic_encephalopathy\tpyruvate_decarboxylase_deficiency\tdifferentiating_neuroblastoma\tneuromuscular_disease\tmultiple_system_atrophy\tmovement_disease\tlung_adenoid_cystic_carcinoma\tneurotic_disorder\talcoholic_pancreatitis\tarteriolosclerosis\tschizophrenia\tperipheral_nervous_system_disease\tovarian_serous_cystadenocarcinoma\tparaplegia\tprion_disease\tgastric_pylorus_carcinoma\tprogressive_supranuclear_palsy\tbasal_ganglia_disease\ttauopathy\tmotor_neuritis\tdisease_of_anatomical_entity\taxonal_neuropathy\tchief_cell_adenoma\tepilepsy_with_generalized_tonic-clonic_s...\tC3_deficiency\tretinal_degeneration\tnervous_system_disease\tneuropathy\tamyloidosis\tatrophic_muscular_disease\tWiskott-Aldrich_syndrome\tamino_acid_metabolic_disorder\tfrontotemporal_dementia\tmaple_syrup_urine_disease\tmyopathy_of_extraocular_muscle\torbital_disease\tviral_infectious_disease\tbrain_disease\tencephalitis\tmuscular_dystrophy\t\r\n",
        "\r\n",
        "community\t20\tsize\t120\r\n",
        "Anno\tdisease_of_metabolism\tdisease_by_infectious_agent\tBrugada_syndrome\tlissencephaly\tCarney_complex\thereditary_sensory_neuropathy\t2-hydroxyglutaric_aciduria\tL-2-hydroxyglutaric_aciduria\tD-2-hydroxyglutaric_aciduria\tdistal_hereditary_motor_neuropathy\talternating_hemiplegia_of_childhood\torgan_system_cancer\tcell_type_cancer\telectroclinical_syndrome\tneonatoal_period_electroclinical_syndrom...\tinfancy_electroclinical_syndrome\tOhtahara_syndrome\t3-Methylcrotonyl-CoA_carboxylase_deficie...\tserine_deficiency\tcerebellar_ataxia\tadnexa_disease\tdevelopmental_disorder_of_mental_health\tspecific_developmental_disorder\tpervasive_developmental_disorder\tautism_spectrum_disorder\tperipheral_neuropathy\theavy_chain_disease\tdelta_chain_disease\torganic_acidemia\tbenign_familial_infantile_epilepsy\tgeneralized_epilepsy_with_febrile_seizur...\tfamilial_hemiplegic_migraine\tchromosomal_disease\tspina_bifida\tleukodystrophy\tintellectual_disability\tCharcot-Marie-Tooth_disease\tAlzheimer's_disease\tbubonic_plague\themiplegia\trabies\tschizophreniform_disorder\toculopharyngeal_muscular_dystrophy\tlimb-girdle_muscular_dystrophy\tPick's_disease\tCreutzfeldt-Jakob_syndrome\tLewy_body_dementia\tcascade_stomach\tbeta_thalassemia\tphacogenic_glaucoma\tautistic_disorder\tHuntington's_disease\tneurodegenerative_disease\tdementia\tStiff-Person_syndrome\tDiamond-Blackfan_anemia\texfoliation_syndrome\tpolyneuropathy\tDown_syndrome\tParkinson's_disease\tspinocerebellar_ataxia\tcerebral_degeneration\tdisease_of_cellular_proliferation\tacrodysostosis\tpropionic_acidemia\tolivopontocerebellar_atrophy\tcholera\tdisease_of_mental_health\tcognitive_disorder\tcancer\tepilepsy_syndrome\tidiopathic_generalized_epilepsy\tanxiety_disorder\thepatitis_D\tfocal_epilepsy\ttransient_cerebral_ischemia\tsyndrome\tlateral_sclerosis\tmotor_neuron_disease\tpsychotic_disorder\tmotor_peripheral_neuropathy\tspinocerebellar_degeneration\tcerebellar_disease\tlong_QT_syndrome\tmembranoproliferative_glomerulonephritis\tastrocytoma\tmalignant_glioma\tnervous_system_cancer\tischemia\tvaccinia\tcentral_nervous_system_disease\tbipolar_disorder\tamyotrophic_lateral_sclerosis\tmood_disorder\ttemporal_lobe_epilepsy\tmucolipidosis\tconventional_central_osteosarcoma\ttoxic_encephalopathy\tpyruvate_decarboxylase_deficiency\tdifferentiating_neuroblastoma\tneuromuscular_disease\tmultiple_system_atrophy\tmovement_disease\tlung_adenoid_cystic_carcinoma\tneurotic_disorder\talcoholic_pancreatitis\tarteriolosclerosis\tschizophrenia\tperipheral_nervous_system_disease\tovarian_serous_cystadenocarcinoma\tparaplegia\tprion_disease\tgastric_pylorus_carcinoma\tprogressive_supranuclear_palsy\tbasal_ganglia_disease\ttauopathy\tmotor_neuritis\tdisease_of_anatomical_entity\taxonal_neuropathy\tchief_cell_adenoma\tepilepsy_with_generalized_tonic-clonic_s...\tC3_deficiency\tretinal_degeneration\tnervous_system_disease\tneuropathy\tamyloidosis\tatrophic_muscular_disease\tWiskott-Aldrich_syndrome\tamino_acid_metabolic_disorder\tfrontotemporal_dementia\tmaple_syrup_urine_disease\tmyopathy_of_extraocular_muscle\torbital_disease\tviral_infectious_disease\tbrain_disease\tencephalitis\tmuscular_dystrophy\t\r\n",
        "\r\n",
        "community\t21\tsize\t80\r\n",
        "Anno\tdisease_of_metabolism\tdisease_by_infectious_agent\tBrugada_syndrome\tlissencephaly\tCarney_complex\thereditary_sensory_neuropathy\t2-hydroxyglutaric_aciduria\tL-2-hydroxyglutaric_aciduria\tD-2-hydroxyglutaric_aciduria\tdistal_hereditary_motor_neuropathy\talternating_hemiplegia_of_childhood\torgan_system_cancer\tcell_type_cancer\telectroclinical_syndrome\tneonatoal_period_electroclinical_syndrom...\tinfancy_electroclinical_syndrome\tOhtahara_syndrome\t3-Methylcrotonyl-CoA_carboxylase_deficie...\tserine_deficiency\tcerebellar_ataxia\tadnexa_disease\tdevelopmental_disorder_of_mental_health\tspecific_developmental_disorder\tpervasive_developmental_disorder\tautism_spectrum_disorder\tperipheral_neuropathy\theavy_chain_disease\tdelta_chain_disease\torganic_acidemia\tbenign_familial_infantile_epilepsy\tgeneralized_epilepsy_with_febrile_seizur...\tfamilial_hemiplegic_migraine\tchromosomal_disease\tspina_bifida\tleukodystrophy\tintellectual_disability\tCharcot-Marie-Tooth_disease\tAlzheimer's_disease\tbubonic_plague\themiplegia\trabies\tschizophreniform_disorder\toculopharyngeal_muscular_dystrophy\tlimb-girdle_muscular_dystrophy\tPick's_disease\tCreutzfeldt-Jakob_syndrome\tLewy_body_dementia\tcascade_stomach\tbeta_thalassemia\tphacogenic_glaucoma\tautistic_disorder\tHuntington's_disease\tneurodegenerative_disease\tdementia\tStiff-Person_syndrome\tDiamond-Blackfan_anemia\texfoliation_syndrome\tpolyneuropathy\tDown_syndrome\tParkinson's_disease\tspinocerebellar_ataxia\tcerebral_degeneration\tdisease_of_cellular_proliferation\tacrodysostosis\tpropionic_acidemia\tolivopontocerebellar_atrophy\tcholera\tdisease_of_mental_health\tcognitive_disorder\tcancer\tepilepsy_syndrome\tidiopathic_generalized_epilepsy\tanxiety_disorder\thepatitis_D\tfocal_epilepsy\ttransient_cerebral_ischemia\tsyndrome\tlateral_sclerosis\tmotor_neuron_disease\tpsychotic_disorder\tmotor_peripheral_neuropathy\tspinocerebellar_degeneration\tcerebellar_disease\tlong_QT_syndrome\tmembranoproliferative_glomerulonephritis\tastrocytoma\tmalignant_glioma\tnervous_system_cancer\tischemia\tvaccinia\tcentral_nervous_system_disease\tbipolar_disorder\tamyotrophic_lateral_sclerosis\tmood_disorder\ttemporal_lobe_epilepsy\tmucolipidosis\tconventional_central_osteosarcoma\ttoxic_encephalopathy\tpyruvate_decarboxylase_deficiency\tdifferentiating_neuroblastoma\tneuromuscular_disease\tmultiple_system_atrophy\tmovement_disease\tlung_adenoid_cystic_carcinoma\tneurotic_disorder\talcoholic_pancreatitis\tarteriolosclerosis\tschizophrenia\tperipheral_nervous_system_disease\tovarian_serous_cystadenocarcinoma\tparaplegia\tprion_disease\tgastric_pylorus_carcinoma\tprogressive_supranuclear_palsy\tbasal_ganglia_disease\ttauopathy\tmotor_neuritis\tdisease_of_anatomical_entity\taxonal_neuropathy\tchief_cell_adenoma\tepilepsy_with_generalized_tonic-clonic_s...\tC3_deficiency\tretinal_degeneration\tnervous_system_disease\tneuropathy\tamyloidosis\tatrophic_muscular_disease\tWiskott-Aldrich_syndrome\tamino_acid_metabolic_disorder\tfrontotemporal_dementia\tmaple_syrup_urine_disease\tmyopathy_of_extraocular_muscle\torbital_disease\tviral_infectious_disease\tbrain_disease\tencephalitis\tmuscular_dystrophy\t\r\n",
        "\r\n",
        "community\t22\tsize\t87\r\n",
        "Anno\tdisease_of_metabolism\tdisease_by_infectious_agent\tBrugada_syndrome\tlissencephaly\tCarney_complex\thereditary_sensory_neuropathy\t2-hydroxyglutaric_aciduria\tL-2-hydroxyglutaric_aciduria\tD-2-hydroxyglutaric_aciduria\tdistal_hereditary_motor_neuropathy\talternating_hemiplegia_of_childhood\torgan_system_cancer\tcell_type_cancer\telectroclinical_syndrome\tneonatoal_period_electroclinical_syndrom...\tinfancy_electroclinical_syndrome\tOhtahara_syndrome\t3-Methylcrotonyl-CoA_carboxylase_deficie...\tserine_deficiency\tcerebellar_ataxia\tadnexa_disease\tdevelopmental_disorder_of_mental_health\tspecific_developmental_disorder\tpervasive_developmental_disorder\tautism_spectrum_disorder\tperipheral_neuropathy\theavy_chain_disease\tdelta_chain_disease\torganic_acidemia\tbenign_familial_infantile_epilepsy\tgeneralized_epilepsy_with_febrile_seizur...\tfamilial_hemiplegic_migraine\tchromosomal_disease\tspina_bifida\tleukodystrophy\tintellectual_disability\tCharcot-Marie-Tooth_disease\tAlzheimer's_disease\tbubonic_plague\themiplegia\trabies\tschizophreniform_disorder\toculopharyngeal_muscular_dystrophy\tlimb-girdle_muscular_dystrophy\tPick's_disease\tCreutzfeldt-Jakob_syndrome\tLewy_body_dementia\tcascade_stomach\tbeta_thalassemia\tphacogenic_glaucoma\tautistic_disorder\tHuntington's_disease\tneurodegenerative_disease\tdementia\tStiff-Person_syndrome\tDiamond-Blackfan_anemia\texfoliation_syndrome\tpolyneuropathy\tDown_syndrome\tParkinson's_disease\tspinocerebellar_ataxia\tcerebral_degeneration\tdisease_of_cellular_proliferation\tacrodysostosis\tpropionic_acidemia\tolivopontocerebellar_atrophy\tcholera\tdisease_of_mental_health\tcognitive_disorder\tcancer\tepilepsy_syndrome\tidiopathic_generalized_epilepsy\tanxiety_disorder\thepatitis_D\tfocal_epilepsy\ttransient_cerebral_ischemia\tsyndrome\tlateral_sclerosis\tmotor_neuron_disease\tpsychotic_disorder\tmotor_peripheral_neuropathy\tspinocerebellar_degeneration\tcerebellar_disease\tlong_QT_syndrome\tmembranoproliferative_glomerulonephritis\tastrocytoma\tmalignant_glioma\tnervous_system_cancer\tischemia\tvaccinia\tcentral_nervous_system_disease\tbipolar_disorder\tamyotrophic_lateral_sclerosis\tmood_disorder\ttemporal_lobe_epilepsy\tmucolipidosis\tconventional_central_osteosarcoma\ttoxic_encephalopathy\tpyruvate_decarboxylase_deficiency\tdifferentiating_neuroblastoma\tneuromuscular_disease\tmultiple_system_atrophy\tmovement_disease\tlung_adenoid_cystic_carcinoma\tneurotic_disorder\talcoholic_pancreatitis\tarteriolosclerosis\tschizophrenia\tperipheral_nervous_system_disease\tovarian_serous_cystadenocarcinoma\tparaplegia\tprion_disease\tgastric_pylorus_carcinoma\tprogressive_supranuclear_palsy\tbasal_ganglia_disease\ttauopathy\tmotor_neuritis\tdisease_of_anatomical_entity\taxonal_neuropathy\tchief_cell_adenoma\tepilepsy_with_generalized_tonic-clonic_s...\tC3_deficiency\tretinal_degeneration\tnervous_system_disease\tneuropathy\tamyloidosis\tatrophic_muscular_disease\tWiskott-Aldrich_syndrome\tamino_acid_metabolic_disorder\tfrontotemporal_dementia\tmaple_syrup_urine_disease\tmyopathy_of_extraocular_muscle\torbital_disease\tviral_infectious_disease\tbrain_disease\tencephalitis\tmuscular_dystrophy\t\r\n",
        "\r\n",
        "community\t23\tsize\t66\r\n",
        "Anno\tdisease_of_metabolism\tdisease_by_infectious_agent\tBrugada_syndrome\tlissencephaly\tCarney_complex\thereditary_sensory_neuropathy\t2-hydroxyglutaric_aciduria\tL-2-hydroxyglutaric_aciduria\tD-2-hydroxyglutaric_aciduria\tdistal_hereditary_motor_neuropathy\talternating_hemiplegia_of_childhood\torgan_system_cancer\tcell_type_cancer\telectroclinical_syndrome\tneonatoal_period_electroclinical_syndrom...\tinfancy_electroclinical_syndrome\tOhtahara_syndrome\t3-Methylcrotonyl-CoA_carboxylase_deficie...\tserine_deficiency\tcerebellar_ataxia\tadnexa_disease\tdevelopmental_disorder_of_mental_health\tspecific_developmental_disorder\tpervasive_developmental_disorder\tautism_spectrum_disorder\tperipheral_neuropathy\theavy_chain_disease\tdelta_chain_disease\torganic_acidemia\tbenign_familial_infantile_epilepsy\tgeneralized_epilepsy_with_febrile_seizur...\tfamilial_hemiplegic_migraine\tchromosomal_disease\tspina_bifida\tleukodystrophy\tintellectual_disability\tCharcot-Marie-Tooth_disease\tAlzheimer's_disease\tbubonic_plague\themiplegia\trabies\tschizophreniform_disorder\toculopharyngeal_muscular_dystrophy\tlimb-girdle_muscular_dystrophy\tPick's_disease\tCreutzfeldt-Jakob_syndrome\tLewy_body_dementia\tcascade_stomach\tbeta_thalassemia\tphacogenic_glaucoma\tautistic_disorder\tHuntington's_disease\tneurodegenerative_disease\tdementia\tStiff-Person_syndrome\tDiamond-Blackfan_anemia\texfoliation_syndrome\tpolyneuropathy\tDown_syndrome\tParkinson's_disease\tspinocerebellar_ataxia\tcerebral_degeneration\tdisease_of_cellular_proliferation\tacrodysostosis\tpropionic_acidemia\tolivopontocerebellar_atrophy\tcholera\tdisease_of_mental_health\tcognitive_disorder\tcancer\tepilepsy_syndrome\tidiopathic_generalized_epilepsy\tanxiety_disorder\thepatitis_D\tfocal_epilepsy\ttransient_cerebral_ischemia\tsyndrome\tlateral_sclerosis\tmotor_neuron_disease\tpsychotic_disorder\tmotor_peripheral_neuropathy\tspinocerebellar_degeneration\tcerebellar_disease\tlong_QT_syndrome\tmembranoproliferative_glomerulonephritis\tastrocytoma\tmalignant_glioma\tnervous_system_cancer\tischemia\tvaccinia\tcentral_nervous_system_disease\tbipolar_disorder\tamyotrophic_lateral_sclerosis\tmood_disorder\ttemporal_lobe_epilepsy\tmucolipidosis\tconventional_central_osteosarcoma\ttoxic_encephalopathy\tpyruvate_decarboxylase_deficiency\tdifferentiating_neuroblastoma\tneuromuscular_disease\tmultiple_system_atrophy\tmovement_disease\tlung_adenoid_cystic_carcinoma\tneurotic_disorder\talcoholic_pancreatitis\tarteriolosclerosis\tschizophrenia\tperipheral_nervous_system_disease\tovarian_serous_cystadenocarcinoma\tparaplegia\tprion_disease\tgastric_pylorus_carcinoma\tprogressive_supranuclear_palsy\tbasal_ganglia_disease\ttauopathy\tmotor_neuritis\tdisease_of_anatomical_entity\taxonal_neuropathy\tchief_cell_adenoma\tepilepsy_with_generalized_tonic-clonic_s...\tC3_deficiency\tretinal_degeneration\tnervous_system_disease\tneuropathy\tamyloidosis\tatrophic_muscular_disease\tWiskott-Aldrich_syndrome\tamino_acid_metabolic_disorder\tfrontotemporal_dementia\tmaple_syrup_urine_disease\tmyopathy_of_extraocular_muscle\torbital_disease\tviral_infectious_disease\tbrain_disease\tencephalitis\tmuscular_dystrophy\t\r\n",
        "\r\n",
        "community\t24\tsize\t20\r\n",
        "Anno\tdisease_of_metabolism\tdisease_by_infectious_agent\tBrugada_syndrome\tlissencephaly\tCarney_complex\thereditary_sensory_neuropathy\t2-hydroxyglutaric_aciduria\tL-2-hydroxyglutaric_aciduria\tD-2-hydroxyglutaric_aciduria\tdistal_hereditary_motor_neuropathy\talternating_hemiplegia_of_childhood\torgan_system_cancer\tcell_type_cancer\telectroclinical_syndrome\tneonatoal_period_electroclinical_syndrom...\tinfancy_electroclinical_syndrome\tOhtahara_syndrome\t3-Methylcrotonyl-CoA_carboxylase_deficie...\tserine_deficiency\tcerebellar_ataxia\tadnexa_disease\tdevelopmental_disorder_of_mental_health\tspecific_developmental_disorder\tpervasive_developmental_disorder\tautism_spectrum_disorder\tperipheral_neuropathy\theavy_chain_disease\tdelta_chain_disease\torganic_acidemia\tbenign_familial_infantile_epilepsy\tgeneralized_epilepsy_with_febrile_seizur...\tfamilial_hemiplegic_migraine\tchromosomal_disease\tspina_bifida\tleukodystrophy\tintellectual_disability\tCharcot-Marie-Tooth_disease\tAlzheimer's_disease\tbubonic_plague\themiplegia\trabies\tschizophreniform_disorder\toculopharyngeal_muscular_dystrophy\tlimb-girdle_muscular_dystrophy\tPick's_disease\tCreutzfeldt-Jakob_syndrome\tLewy_body_dementia\tcascade_stomach\tbeta_thalassemia\tphacogenic_glaucoma\tautistic_disorder\tHuntington's_disease\tneurodegenerative_disease\tdementia\tStiff-Person_syndrome\tDiamond-Blackfan_anemia\texfoliation_syndrome\tpolyneuropathy\tDown_syndrome\tParkinson's_disease\tspinocerebellar_ataxia\tcerebral_degeneration\tdisease_of_cellular_proliferation\tacrodysostosis\tpropionic_acidemia\tolivopontocerebellar_atrophy\tcholera\tdisease_of_mental_health\tcognitive_disorder\tcancer\tepilepsy_syndrome\tidiopathic_generalized_epilepsy\tanxiety_disorder\thepatitis_D\tfocal_epilepsy\ttransient_cerebral_ischemia\tsyndrome\tlateral_sclerosis\tmotor_neuron_disease\tpsychotic_disorder\tmotor_peripheral_neuropathy\tspinocerebellar_degeneration\tcerebellar_disease\tlong_QT_syndrome\tmembranoproliferative_glomerulonephritis\tastrocytoma\tmalignant_glioma\tnervous_system_cancer\tischemia\tvaccinia\tcentral_nervous_system_disease\tbipolar_disorder\tamyotrophic_lateral_sclerosis\tmood_disorder\ttemporal_lobe_epilepsy\tmucolipidosis\tconventional_central_osteosarcoma\ttoxic_encephalopathy\tpyruvate_decarboxylase_deficiency\tdifferentiating_neuroblastoma\tneuromuscular_disease\tmultiple_system_atrophy\tmovement_disease\tlung_adenoid_cystic_carcinoma\tneurotic_disorder\talcoholic_pancreatitis\tarteriolosclerosis\tschizophrenia\tperipheral_nervous_system_disease\tovarian_serous_cystadenocarcinoma\tparaplegia\tprion_disease\tgastric_pylorus_carcinoma\tprogressive_supranuclear_palsy\tbasal_ganglia_disease\ttauopathy\tmotor_neuritis\tdisease_of_anatomical_entity\taxonal_neuropathy\tchief_cell_adenoma\tepilepsy_with_generalized_tonic-clonic_s...\tC3_deficiency\tretinal_degeneration\tnervous_system_disease\tneuropathy\tamyloidosis\tatrophic_muscular_disease\tWiskott-Aldrich_syndrome\tamino_acid_metabolic_disorder\tfrontotemporal_dementia\tmaple_syrup_urine_disease\tmyopathy_of_extraocular_muscle\torbital_disease\tviral_infectious_disease\tbrain_disease\tencephalitis\tmuscular_dystrophy\t\r\n",
        "\r\n",
        "community\t25\tsize\t124\r\n",
        "Anno\tdisease_of_metabolism\tdisease_by_infectious_agent\tBrugada_syndrome\tlissencephaly\tCarney_complex\thereditary_sensory_neuropathy\t2-hydroxyglutaric_aciduria\tL-2-hydroxyglutaric_aciduria\tD-2-hydroxyglutaric_aciduria\tdistal_hereditary_motor_neuropathy\talternating_hemiplegia_of_childhood\torgan_system_cancer\tcell_type_cancer\telectroclinical_syndrome\tneonatoal_period_electroclinical_syndrom...\tinfancy_electroclinical_syndrome\tOhtahara_syndrome\t3-Methylcrotonyl-CoA_carboxylase_deficie...\tserine_deficiency\tcerebellar_ataxia\tadnexa_disease\tdevelopmental_disorder_of_mental_health\tspecific_developmental_disorder\tpervasive_developmental_disorder\tautism_spectrum_disorder\tperipheral_neuropathy\theavy_chain_disease\tdelta_chain_disease\torganic_acidemia\tbenign_familial_infantile_epilepsy\tgeneralized_epilepsy_with_febrile_seizur...\tfamilial_hemiplegic_migraine\tchromosomal_disease\tspina_bifida\tleukodystrophy\tintellectual_disability\tCharcot-Marie-Tooth_disease\tAlzheimer's_disease\tbubonic_plague\themiplegia\trabies\tschizophreniform_disorder\toculopharyngeal_muscular_dystrophy\tlimb-girdle_muscular_dystrophy\tPick's_disease\tCreutzfeldt-Jakob_syndrome\tLewy_body_dementia\tcascade_stomach\tbeta_thalassemia\tphacogenic_glaucoma\tautistic_disorder\tHuntington's_disease\tneurodegenerative_disease\tdementia\tStiff-Person_syndrome\tDiamond-Blackfan_anemia\texfoliation_syndrome\tpolyneuropathy\tDown_syndrome\tParkinson's_disease\tspinocerebellar_ataxia\tcerebral_degeneration\tdisease_of_cellular_proliferation\tacrodysostosis\tpropionic_acidemia\tolivopontocerebellar_atrophy\tcholera\tdisease_of_mental_health\tcognitive_disorder\tcancer\tepilepsy_syndrome\tidiopathic_generalized_epilepsy\tanxiety_disorder\thepatitis_D\tfocal_epilepsy\ttransient_cerebral_ischemia\tsyndrome\tlateral_sclerosis\tmotor_neuron_disease\tpsychotic_disorder\tmotor_peripheral_neuropathy\tspinocerebellar_degeneration\tcerebellar_disease\tlong_QT_syndrome\tmembranoproliferative_glomerulonephritis\tastrocytoma\tmalignant_glioma\tnervous_system_cancer\tischemia\tvaccinia\tcentral_nervous_system_disease\tbipolar_disorder\tamyotrophic_lateral_sclerosis\tmood_disorder\ttemporal_lobe_epilepsy\tmucolipidosis\tconventional_central_osteosarcoma\ttoxic_encephalopathy\tpyruvate_decarboxylase_deficiency\tdifferentiating_neuroblastoma\tneuromuscular_disease\tmultiple_system_atrophy\tmovement_disease\tlung_adenoid_cystic_carcinoma\tneurotic_disorder\talcoholic_pancreatitis\tarteriolosclerosis\tschizophrenia\tperipheral_nervous_system_disease\tovarian_serous_cystadenocarcinoma\tparaplegia\tprion_disease\tgastric_pylorus_carcinoma\tprogressive_supranuclear_palsy\tbasal_ganglia_disease\ttauopathy\tmotor_neuritis\tdisease_of_anatomical_entity\taxonal_neuropathy\tchief_cell_adenoma\tepilepsy_with_generalized_tonic-clonic_s...\tC3_deficiency\tretinal_degeneration\tnervous_system_disease\tneuropathy\tamyloidosis\tatrophic_muscular_disease\tWiskott-Aldrich_syndrome\tamino_acid_metabolic_disorder\tfrontotemporal_dementia\tmaple_syrup_urine_disease\tmyopathy_of_extraocular_muscle\torbital_disease\tviral_infectious_disease\tbrain_disease\tencephalitis\tmuscular_dystrophy\t\r\n",
        "\r\n",
        "community\t27\tsize\t32\r\n",
        "Anno\tdisease_of_metabolism\tdisease_by_infectious_agent\tBrugada_syndrome\tlissencephaly\tCarney_complex\thereditary_sensory_neuropathy\t2-hydroxyglutaric_aciduria\tL-2-hydroxyglutaric_aciduria\tD-2-hydroxyglutaric_aciduria\tdistal_hereditary_motor_neuropathy\talternating_hemiplegia_of_childhood\torgan_system_cancer\tcell_type_cancer\telectroclinical_syndrome\tneonatoal_period_electroclinical_syndrom...\tinfancy_electroclinical_syndrome\tOhtahara_syndrome\t3-Methylcrotonyl-CoA_carboxylase_deficie...\tserine_deficiency\tcerebellar_ataxia\tadnexa_disease\tdevelopmental_disorder_of_mental_health\tspecific_developmental_disorder\tpervasive_developmental_disorder\tautism_spectrum_disorder\tperipheral_neuropathy\theavy_chain_disease\tdelta_chain_disease\torganic_acidemia\tbenign_familial_infantile_epilepsy\tgeneralized_epilepsy_with_febrile_seizur...\tfamilial_hemiplegic_migraine\tchromosomal_disease\tspina_bifida\tleukodystrophy\tintellectual_disability\tCharcot-Marie-Tooth_disease\tAlzheimer's_disease\tbubonic_plague\themiplegia\trabies\tschizophreniform_disorder\toculopharyngeal_muscular_dystrophy\tlimb-girdle_muscular_dystrophy\tPick's_disease\tCreutzfeldt-Jakob_syndrome\tLewy_body_dementia\tcascade_stomach\tbeta_thalassemia\tphacogenic_glaucoma\tautistic_disorder\tHuntington's_disease\tneurodegenerative_disease\tdementia\tStiff-Person_syndrome\tDiamond-Blackfan_anemia\texfoliation_syndrome\tpolyneuropathy\tDown_syndrome\tParkinson's_disease\tspinocerebellar_ataxia\tcerebral_degeneration\tdisease_of_cellular_proliferation\tacrodysostosis\tpropionic_acidemia\tolivopontocerebellar_atrophy\tcholera\tdisease_of_mental_health\tcognitive_disorder\tcancer\tepilepsy_syndrome\tidiopathic_generalized_epilepsy\tanxiety_disorder\thepatitis_D\tfocal_epilepsy\ttransient_cerebral_ischemia\tsyndrome\tlateral_sclerosis\tmotor_neuron_disease\tpsychotic_disorder\tmotor_peripheral_neuropathy\tspinocerebellar_degeneration\tcerebellar_disease\tlong_QT_syndrome\tmembranoproliferative_glomerulonephritis\tastrocytoma\tmalignant_glioma\tnervous_system_cancer\tischemia\tvaccinia\tcentral_nervous_system_disease\tbipolar_disorder\tamyotrophic_lateral_sclerosis\tmood_disorder\ttemporal_lobe_epilepsy\tmucolipidosis\tconventional_central_osteosarcoma\ttoxic_encephalopathy\tpyruvate_decarboxylase_deficiency\tdifferentiating_neuroblastoma\tneuromuscular_disease\tmultiple_system_atrophy\tmovement_disease\tlung_adenoid_cystic_carcinoma\tneurotic_disorder\talcoholic_pancreatitis\tarteriolosclerosis\tschizophrenia\tperipheral_nervous_system_disease\tovarian_serous_cystadenocarcinoma\tparaplegia\tprion_disease\tgastric_pylorus_carcinoma\tprogressive_supranuclear_palsy\tbasal_ganglia_disease\ttauopathy\tmotor_neuritis\tdisease_of_anatomical_entity\taxonal_neuropathy\tchief_cell_adenoma\tepilepsy_with_generalized_tonic-clonic_s...\tC3_deficiency\tretinal_degeneration\tnervous_system_disease\tneuropathy\tamyloidosis\tatrophic_muscular_disease\tWiskott-Aldrich_syndrome\tamino_acid_metabolic_disorder\tfrontotemporal_dementia\tmaple_syrup_urine_disease\tmyopathy_of_extraocular_muscle\torbital_disease\tviral_infectious_disease\tbrain_disease\tencephalitis\tmuscular_dystrophy\t\r\n",
        "\r\n"
       ]
      }
     ],
     "prompt_number": 151
    },
    {
     "cell_type": "markdown",
     "metadata": {},
     "source": [
      "# Weighted case\n",
      "\n",
      "This is the case using the weights generated using the various data sources available:"
     ]
    },
    {
     "cell_type": "code",
     "collapsed": false,
     "input": [
      "cp -r OUT unweightedOUT"
     ],
     "language": "python",
     "metadata": {},
     "outputs": [],
     "prompt_number": 153
    },
    {
     "cell_type": "code",
     "collapsed": false,
     "input": [
      "!./run -file testdata/edgelist_weighted.txt -weighted 1 -algorithm 3 -quite 1"
     ],
     "language": "python",
     "metadata": {},
     "outputs": [
      {
       "output_type": "stream",
       "stream": "stdout",
       "text": [
        "> ---- START ---- \r\n",
        "> Using Spectral Betweenness.\r\n",
        "> Using a weighted network \r\n",
        "> Scanning network_file: testdata/edgelist_weighted.txt\r\n",
        "> Header: None \r\n"
       ]
      },
      {
       "output_type": "stream",
       "stream": "stdout",
       "text": [
        "> Running Spectral Betweenness.\r\n"
       ]
      },
      {
       "output_type": "stream",
       "stream": "stdout",
       "text": [
        "--- DONE ---\r\n"
       ]
      },
      {
       "output_type": "stream",
       "stream": "stdout",
       "text": [
        "> cputime: 221.9 seconds \r\n",
        "> Network (nodes): 1804 (edges): 15618\r\n"
       ]
      },
      {
       "output_type": "stream",
       "stream": "stdout",
       "text": [
        "> ---- END ---- \r\n"
       ]
      }
     ],
     "prompt_number": 154
    },
    {
     "cell_type": "code",
     "collapsed": false,
     "input": [],
     "language": "python",
     "metadata": {},
     "outputs": []
    }
   ],
   "metadata": {}
  }
 ]
}