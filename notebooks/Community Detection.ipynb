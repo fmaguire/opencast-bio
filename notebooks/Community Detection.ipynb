{
 "metadata": {
  "name": "",
  "signature": "sha256:2d00beb5e61705f7daf2b9929c530484de364b14fb6aa8a937c699c61a5e6bbf"
 },
 "nbformat": 3,
 "nbformat_minor": 0,
 "worksheets": [
  {
   "cells": [
    {
     "cell_type": "markdown",
     "metadata": {},
     "source": [
      "Trying out community detection.\n",
      "At this point can only do this on the STRING based weighted edges generated in [this notebook][stredges].\n",
      "\n",
      "[stredges]: http://nbviewer.ipython.org/github/ggray1729/opencast-bio/blob/master/notebooks/Generating%20STRING%20weighted%20edges.ipynb"
     ]
    },
    {
     "cell_type": "code",
     "collapsed": false,
     "input": [
      "cd ../.."
     ],
     "language": "python",
     "metadata": {},
     "outputs": [
      {
       "output_type": "stream",
       "stream": "stdout",
       "text": [
        "/home/gavin/Documents/MRes/forGAVIN/databases\n"
       ]
      }
     ],
     "prompt_number": 1
    },
    {
     "cell_type": "code",
     "collapsed": false,
     "input": [
      "cd forGAVIN/mergecode/"
     ],
     "language": "python",
     "metadata": {},
     "outputs": [
      {
       "output_type": "stream",
       "stream": "stdout",
       "text": [
        "/home/gavin/Documents/MRes/forGAVIN/mergecode\n"
       ]
      }
     ],
     "prompt_number": 6
    },
    {
     "cell_type": "code",
     "collapsed": false,
     "input": [
      "ls"
     ],
     "language": "python",
     "metadata": {},
     "outputs": [
      {
       "output_type": "stream",
       "stream": "stdout",
       "text": [
        "\u001b[0m\u001b[40m\u001b[m\u001b[01;36medge.h\u001b[0m@            \u001b[40m\u001b[m\u001b[01;36medgelist_temp.txt\u001b[0m@  \u001b[40m\u001b[m\u001b[01;36mHeaders.h\u001b[0m@  \u001b[40m\u001b[m\u001b[01;36mMakefile\u001b[0m@  \u001b[40m\u001b[m\u001b[01;36mnode.h\u001b[0m@  \u001b[40m\u001b[m\u001b[01;36mreadInputFile.h\u001b[0m@\r\n",
        "\u001b[40m\u001b[m\u001b[01;36medgelist_new.txt\u001b[0m@  \u001b[40m\u001b[m\u001b[01;34mGENENAMES\u001b[0m/          \u001b[40m\u001b[m\u001b[01;36mHelper.h\u001b[0m@   \u001b[40m\u001b[m\u001b[01;36mmerger.C\u001b[0m@  \u001b[40m\u001b[m\u001b[01;34mOUT\u001b[0m/     \u001b[40m\u001b[m\u001b[01;36mrun\u001b[0m@\r\n"
       ]
      }
     ],
     "prompt_number": 7
    },
    {
     "cell_type": "code",
     "collapsed": false,
     "input": [
      "cd ../../features/"
     ],
     "language": "python",
     "metadata": {},
     "outputs": [
      {
       "output_type": "stream",
       "stream": "stdout",
       "text": [
        "/home/gavin/Documents/MRes/features\n"
       ]
      }
     ],
     "prompt_number": 8
    },
    {
     "cell_type": "code",
     "collapsed": false,
     "input": [
      "ls"
     ],
     "language": "python",
     "metadata": {},
     "outputs": [
      {
       "output_type": "stream",
       "stream": "stdout",
       "text": [
        "\u001b[0m\u001b[40m\u001b[m\u001b[01;36mabundance.Entrez.full.txt\u001b[0m@                          \u001b[40m\u001b[m\u001b[01;36mpulldown.edges.Entrez.txt\u001b[0m@\r\n",
        "\u001b[40m\u001b[m\u001b[01;36mabundance.Entrez.traintest.txt\u001b[0m@                     \u001b[40m\u001b[m\u001b[01;36mpulldown.nolabel.Entrez.vectors.txt\u001b[0m@\r\n",
        "\u001b[40m\u001b[m\u001b[00mautogit.log\u001b[0m                                         \u001b[40m\u001b[m\u001b[00mpulldown.string.edges.tsv\u001b[0m\r\n",
        "\u001b[40m\u001b[m\u001b[01;36mc2s.Entrez.full.txt\u001b[0m@                                \u001b[40m\u001b[m\u001b[00mtraining.nolabel.negative.Entrez.vectors.txt\u001b[0m\r\n",
        "\u001b[40m\u001b[m\u001b[01;36mc2s.Entrez.traintest.txt\u001b[0m@                           \u001b[40m\u001b[m\u001b[00mtraining.nolabel.positive.Entrez.vectors.txt\u001b[0m\r\n",
        "\u001b[40m\u001b[m\u001b[01;36mhead.training.nolabel.negative.Entrez.vectors.txt\u001b[0m@\r\n"
       ]
      }
     ],
     "prompt_number": 9
    },
    {
     "cell_type": "markdown",
     "metadata": {},
     "source": [
      "These are the edges generated in the STRING notebook:"
     ]
    },
    {
     "cell_type": "code",
     "collapsed": false,
     "input": [
      "!head pulldown.string.edges.tsv"
     ],
     "language": "python",
     "metadata": {},
     "outputs": [
      {
       "output_type": "stream",
       "stream": "stdout",
       "text": [
        "114787\t9520\t198.0\r",
        "\r\n",
        "114787\t28964\t163.0\r",
        "\r\n",
        "114787\t546\t369.0\r",
        "\r\n",
        "114787\t7846\t283.0\r",
        "\r\n",
        "114787\t26052\t274.0\r",
        "\r\n",
        "114787\t9024\t231.0\r",
        "\r\n",
        "114787\t4983\t229.0\r",
        "\r\n",
        "114787\t6252\t154.0\r",
        "\r\n",
        "114787\t1212\t180.0\r",
        "\r\n",
        "114787\t10814\t206.0\r",
        "\r\n"
       ]
      }
     ],
     "prompt_number": 10
    },
    {
     "cell_type": "markdown",
     "metadata": {},
     "source": [
      "This is how many there are:"
     ]
    },
    {
     "cell_type": "code",
     "collapsed": false,
     "input": [
      "!wc -l pulldown.string.edges.tsv"
     ],
     "language": "python",
     "metadata": {},
     "outputs": [
      {
       "output_type": "stream",
       "stream": "stdout",
       "text": [
        "42727 pulldown.string.edges.tsv\r\n"
       ]
      }
     ],
     "prompt_number": 11
    },
    {
     "cell_type": "code",
     "collapsed": false,
     "input": [
      "cd .."
     ],
     "language": "python",
     "metadata": {},
     "outputs": [
      {
       "output_type": "stream",
       "stream": "stdout",
       "text": [
        "/home/gavin/Documents/MRes\n"
       ]
      }
     ],
     "prompt_number": 12
    },
    {
     "cell_type": "code",
     "collapsed": false,
     "input": [
      "cd HBP/"
     ],
     "language": "python",
     "metadata": {},
     "outputs": [
      {
       "output_type": "stream",
       "stream": "stdout",
       "text": [
        "/home/gavin/Documents/MRes/HBP\n"
       ]
      }
     ],
     "prompt_number": 15
    },
    {
     "cell_type": "markdown",
     "metadata": {},
     "source": [
      "Community detection code from Colin written in C++:"
     ]
    },
    {
     "cell_type": "code",
     "collapsed": false,
     "input": [
      "!make"
     ],
     "language": "python",
     "metadata": {},
     "outputs": [
      {
       "output_type": "stream",
       "stream": "stdout",
       "text": [
        "Building with option-useomp\r\n",
        "g++     -DUSEOMP -O3 -fopenmp -fomit-frame-pointer -funroll-loops -fforce-addr -fexpensive-optimizations -Wno-deprecated -g3 -o run communityDetection.C \r\n"
       ]
      }
     ],
     "prompt_number": 16
    },
    {
     "cell_type": "markdown",
     "metadata": {},
     "source": [
      "This is how to run it:"
     ]
    },
    {
     "cell_type": "code",
     "collapsed": false,
     "input": [
      "!./run"
     ],
     "language": "python",
     "metadata": {},
     "outputs": [
      {
       "output_type": "stream",
       "stream": "stdout",
       "text": [
        "./run requires 2 arguments: \r\n",
        "-file         : the network file to run \r\n",
        "-quite        : Turn on/off comments to command line\r\n",
        "              : 0 = switch on comments to command line\r\n",
        "              : 1 = switch off comments to command line\r\n",
        "-algorithm    : the type of algorithm to run\r\n",
        "              : 1 = Geodesic edge Betweenness\r\n",
        "              : 2 = Random edge Betweenness\r\n",
        "              : 3 = Spectral Betweenness\r\n",
        "-weighted     : specify if network file is *weighted or not: \r\n",
        "              : 0  = Using a non-weighted network file \r\n",
        "              : 1  = Using a     weighted network file \r\n",
        "-enrichment   : run the enrichment on the clustered network\r\n",
        "              : 0 = run enrichment after clustering - Default\r\n",
        "              : 1 = run enrichment without clustering\r\n",
        "              : 2 = do not run enrichment\r\n",
        "-----\r\n",
        "*             : The structure of the network file is:\r\n",
        "-weighted 1   : A (interactor) \t B (interactor) \t W (weight) \r\n",
        "-weighted 0   : A (interactor) \t B (interactor) \r\n",
        "              : Where A and B are integers (Entrez IDs) and W is a double.\r\n",
        "EXAMPLE 1\r\n",
        "-----\r\n",
        "./run -file testData/edgelist.txt -weighted 0 -algorithm 1\r\n",
        "-----\r\n",
        "EXAMPLE 2\r\n",
        "-----\r\n",
        "./run -file testData/karate.txt -weighted 1 -algorithm 1\r\n",
        "-----\r\n"
       ]
      }
     ],
     "prompt_number": 20
    },
    {
     "cell_type": "markdown",
     "metadata": {},
     "source": [
      "Running one of the examples on the [karate club dataset][karate] (on quiet mode):\n",
      "\n",
      "[karate]: http://networkdata.ics.uci.edu/data.php?id=105"
     ]
    },
    {
     "cell_type": "code",
     "collapsed": false,
     "input": [
      "!./run -file testdata/karate.txt -weighted 1 -algorithm 3 -quite 1"
     ],
     "language": "python",
     "metadata": {},
     "outputs": [
      {
       "output_type": "stream",
       "stream": "stdout",
       "text": [
        "> ---- START ---- \r\n",
        "> Using Spectral Betweenness.\r\n",
        "> Using a weighted network \r\n",
        "> Scanning network_file: testdata/karate.txt\r\n",
        "> Header: None \r\n",
        "> Running Spectral Betweenness.\r\n",
        "--- DONE ---\r\n",
        "> cputime: 0.000687 seconds \r\n",
        "> Network (nodes): 34 (edges): 78\r\n"
       ]
      },
      {
       "output_type": "stream",
       "stream": "stdout",
       "text": [
        "> ---- END ---- \r\n"
       ]
      }
     ],
     "prompt_number": 48
    },
    {
     "cell_type": "markdown",
     "metadata": {},
     "source": [
      "Output is written to the `OUT` file:"
     ]
    },
    {
     "cell_type": "code",
     "collapsed": false,
     "input": [
      "ls OUT/"
     ],
     "language": "python",
     "metadata": {},
     "outputs": [
      {
       "output_type": "stream",
       "stream": "stdout",
       "text": [
        "\u001b[0m\u001b[40m\u001b[m\u001b[00mcommunities_cytoscape.txt\u001b[0m          \u001b[40m\u001b[m\u001b[00mp_significance_tests_disease.csv\u001b[0m\r\n",
        "\u001b[40m\u001b[m\u001b[00mcommunityout.txt\u001b[0m                   \u001b[40m\u001b[m\u001b[00mp_significance_tests_SCH_enriched.csv\u001b[0m\r\n",
        "\u001b[40m\u001b[m\u001b[00mconsensusout.txt\u001b[0m                   \u001b[40m\u001b[m\u001b[00mp_significance_tests_summary_disease.csv\u001b[0m\r\n",
        "\u001b[40m\u001b[m\u001b[00menrichment_disease.csv\u001b[0m             \u001b[40m\u001b[m\u001b[00mp_significance_tests_summary_SCH_enriched.csv\u001b[0m\r\n",
        "\u001b[40m\u001b[m\u001b[00menrichment_SCH_enriched.csv\u001b[0m        \u001b[40m\u001b[m\u001b[00mp_values_disease.csv\u001b[0m\r\n",
        "\u001b[40m\u001b[m\u001b[00moverlap_dis_SCHenriched.csv\u001b[0m        \u001b[40m\u001b[m\u001b[00mp_values_SCH_enriched.csv\u001b[0m\r\n",
        "\u001b[40m\u001b[m\u001b[00mpermute_p_values_disease.csv\u001b[0m       \u001b[40m\u001b[m\u001b[00mremovededges.txt\u001b[0m\r\n",
        "\u001b[40m\u001b[m\u001b[00mpermute_p_values_SCH_enriched.csv\u001b[0m\r\n"
       ]
      }
     ],
     "prompt_number": 30
    },
    {
     "cell_type": "markdown",
     "metadata": {},
     "source": [
      "This file describes the communities produced:"
     ]
    },
    {
     "cell_type": "code",
     "collapsed": false,
     "input": [
      "!head -n 50 OUT/communityout.txt"
     ],
     "language": "python",
     "metadata": {},
     "outputs": [
      {
       "output_type": "stream",
       "stream": "stdout",
       "text": [
        "communityout\r\n",
        "Max Q: 0.485125\r\n",
        "cputime: 0.000655 seconds \r\n",
        "Network (nodes): 34 (edges): 78\r\n",
        "we 0 dist 0 community 1 Degree 3 visited 0 key 5 (5)\r\n",
        "we 0 dist 0 community 1 Degree 4 visited 0 key 6 (6)\r\n",
        "we 0 dist 0 community 1 Degree 4 visited 0 key 7 (7)\r\n",
        "we 0 dist 0 community 1 Degree 3 visited 0 key 11 (11)\r\n",
        "we 0 dist 0 community 1 Degree 2 visited 0 key 17 (17)\r\n",
        "community: 1 size: 5\r\n",
        "we 0 dist 0 community 2 Degree 2 visited 0 key 10 (10)\r\n",
        "we 0 dist 0 community 2 Degree 2 visited 0 key 16 (16)\r\n",
        "we 0 dist 0 community 2 Degree 3 visited 0 key 20 (20)\r\n",
        "we 0 dist 0 community 2 Degree 2 visited 0 key 27 (27)\r\n",
        "we 0 dist 0 community 2 Degree 4 visited 0 key 30 (30)\r\n",
        "we 0 dist 0 community 2 Degree 17 visited 0 key 34 (34)\r\n",
        "community: 2 size: 6\r\n",
        "we 0 dist 0 community 3 Degree 16 visited 0 key 1 (1)\r\n",
        "we 0 dist 0 community 3 Degree 9 visited 0 key 2 (2)\r\n",
        "we 0 dist 0 community 3 Degree 10 visited 0 key 3 (3)\r\n",
        "we 0 dist 0 community 3 Degree 6 visited 0 key 4 (4)\r\n",
        "we 0 dist 0 community 3 Degree 4 visited 0 key 8 (8)\r\n",
        "we 0 dist 0 community 3 Degree 1 visited 0 key 12 (12)\r\n",
        "we 0 dist 0 community 3 Degree 2 visited 0 key 13 (13)\r\n",
        "we 0 dist 0 community 3 Degree 5 visited 0 key 14 (14)\r\n",
        "we 0 dist 0 community 3 Degree 2 visited 0 key 18 (18)\r\n",
        "we 0 dist 0 community 3 Degree 2 visited 0 key 22 (22)\r\n",
        "community: 3 size: 10\r\n",
        "we 0 dist 0 community 4 Degree 5 visited 0 key 24 (24)\r\n",
        "we 0 dist 0 community 4 Degree 3 visited 0 key 25 (25)\r\n",
        "we 0 dist 0 community 4 Degree 3 visited 0 key 26 (26)\r\n",
        "we 0 dist 0 community 4 Degree 4 visited 0 key 28 (28)\r\n",
        "we 0 dist 0 community 4 Degree 3 visited 0 key 29 (29)\r\n",
        "we 0 dist 0 community 4 Degree 6 visited 0 key 32 (32)\r\n",
        "community: 4 size: 6\r\n",
        "we 0 dist 0 community 5 Degree 5 visited 0 key 9 (9)\r\n",
        "we 0 dist 0 community 5 Degree 2 visited 0 key 15 (15)\r\n",
        "we 0 dist 0 community 5 Degree 2 visited 0 key 19 (19)\r\n",
        "we 0 dist 0 community 5 Degree 2 visited 0 key 21 (21)\r\n",
        "we 0 dist 0 community 5 Degree 2 visited 0 key 23 (23)\r\n",
        "we 0 dist 0 community 5 Degree 4 visited 0 key 31 (31)\r\n",
        "we 0 dist 0 community 5 Degree 12 visited 0 key 33 (33)\r\n",
        "community: 5 size: 7\r\n"
       ]
      }
     ],
     "prompt_number": 33
    },
    {
     "cell_type": "markdown",
     "metadata": {},
     "source": [
      "Running the code again taking on the edgelist, which is a real set of protein interactions:"
     ]
    },
    {
     "cell_type": "code",
     "collapsed": false,
     "input": [
      "!./run -file testdata/edgelist.txt -weighted 1 -algorithm 3 -quite 1"
     ],
     "language": "python",
     "metadata": {},
     "outputs": [
      {
       "output_type": "stream",
       "stream": "stdout",
       "text": [
        "> ---- START ---- \r\n",
        "> Using Spectral Betweenness.\r\n",
        "> Using a weighted network \r\n",
        "> Scanning network_file: testdata/edgelist.txt\r\n",
        "> Header: columns 2\r\n"
       ]
      },
      {
       "output_type": "stream",
       "stream": "stdout",
       "text": [
        "> Running Spectral Betweenness.\r\n"
       ]
      },
      {
       "output_type": "stream",
       "stream": "stdout",
       "text": [
        "Warning: Too many iterations in tqli\r\n"
       ]
      },
      {
       "output_type": "stream",
       "stream": "stdout",
       "text": [
        "--- DONE ---\r\n",
        "> cputime: 95.3027 seconds \r\n",
        "> Network (nodes): 1408 (edges): 5899\r\n"
       ]
      },
      {
       "output_type": "stream",
       "stream": "stdout",
       "text": [
        "> ---- END ---- \r\n"
       ]
      }
     ],
     "prompt_number": 35
    },
    {
     "cell_type": "markdown",
     "metadata": {},
     "source": [
      "This is the output of that:"
     ]
    },
    {
     "cell_type": "code",
     "collapsed": false,
     "input": [
      "!head -n 100 OUT/communityout.txt"
     ],
     "language": "python",
     "metadata": {},
     "outputs": [
      {
       "output_type": "stream",
       "stream": "stdout",
       "text": [
        "communityout\r\n",
        "Max Q: 0.407273\r\n",
        "cputime: 95.3027 seconds \r\n",
        "Network (nodes): 1408 (edges): 5899\r\n",
        "we 0 dist 0 community 1 Degree 10 visited 0 key 39 (301)\r\n",
        "we 0 dist 0 community 1 Degree 13 visited 0 key 40 (302)\r\n",
        "we 0 dist 0 community 1 Degree 15 visited 0 key 62 (506)\r\n",
        "we 0 dist 0 community 1 Degree 13 visited 0 key 67 (526)\r\n",
        "we 0 dist 0 community 1 Degree 5 visited 0 key 90 (816)\r\n",
        "we 0 dist 0 community 1 Degree 6 visited 0 key 118 (1159)\r\n",
        "we 0 dist 0 community 1 Degree 1 visited 0 key 132 (1356)\r\n",
        "we 0 dist 0 community 1 Degree 29 visited 0 key 230 (2597)\r\n",
        "we 0 dist 0 community 1 Degree 5 visited 0 key 289 (3098)\r\n",
        "we 0 dist 0 community 1 Degree 6 visited 0 key 345 (3925)\r\n",
        "we 0 dist 0 community 1 Degree 8 visited 0 key 417 (5052)\r\n",
        "we 0 dist 0 community 1 Degree 12 visited 0 key 455 (5340)\r\n",
        "we 0 dist 0 community 1 Degree 29 visited 0 key 488 (5595)\r\n",
        "we 0 dist 0 community 1 Degree 5 visited 0 key 611 (6548)\r\n",
        "we 0 dist 0 community 1 Degree 8 visited 0 key 669 (7170)\r\n",
        "we 0 dist 0 community 1 Degree 21 visited 0 key 694 (7416)\r\n",
        "we 0 dist 0 community 1 Degree 4 visited 0 key 695 (7417)\r\n",
        "we 0 dist 0 community 1 Degree 3 visited 0 key 723 (8030)\r\n",
        "we 0 dist 0 community 1 Degree 1 visited 0 key 811 (9114)\r\n",
        "we 0 dist 0 community 1 Degree 9 visited 0 key 953 (10549)\r\n",
        "we 0 dist 0 community 1 Degree 2 visited 0 key 989 (10878)\r\n",
        "we 0 dist 0 community 1 Degree 6 visited 0 key 996 (10935)\r\n",
        "we 0 dist 0 community 1 Degree 2 visited 0 key 1013 (11076)\r\n",
        "we 0 dist 0 community 1 Degree 2 visited 0 key 1022 (11261)\r\n",
        "we 0 dist 0 community 1 Degree 2 visited 0 key 1030 (22843)\r\n",
        "we 0 dist 0 community 1 Degree 1 visited 0 key 1152 (29767)\r\n",
        "we 0 dist 0 community 1 Degree 1 visited 0 key 1322 (80727)\r\n",
        "community: 1 size: 27\r\n",
        "we 0 dist 0 community 2 Degree 3 visited 0 key 75 (547)\r\n",
        "we 0 dist 0 community 2 Degree 14 visited 0 key 98 (840)\r\n",
        "we 0 dist 0 community 2 Degree 12 visited 0 key 103 (908)\r\n",
        "we 0 dist 0 community 2 Degree 3 visited 0 key 117 (1152)\r\n",
        "we 0 dist 0 community 2 Degree 12 visited 0 key 180 (1832)\r\n",
        "we 0 dist 0 community 2 Degree 6 visited 0 key 209 (2171)\r\n",
        "we 0 dist 0 community 2 Degree 1 visited 0 key 448 (5297)\r\n",
        "we 0 dist 0 community 2 Degree 41 visited 0 key 467 (5515)\r\n",
        "we 0 dist 0 community 2 Degree 29 visited 0 key 468 (5518)\r\n",
        "we 0 dist 0 community 2 Degree 15 visited 0 key 469 (5520)\r\n",
        "we 0 dist 0 community 2 Degree 3 visited 0 key 470 (5527)\r\n",
        "we 0 dist 0 community 2 Degree 4 visited 0 key 471 (5528)\r\n",
        "we 0 dist 0 community 2 Degree 2 visited 0 key 472 (5529)\r\n",
        "we 0 dist 0 community 2 Degree 5 visited 0 key 480 (5577)\r\n",
        "we 0 dist 0 community 2 Degree 5 visited 0 key 515 (5789)\r\n",
        "we 0 dist 0 community 2 Degree 12 visited 0 key 516 (5802)\r\n",
        "we 0 dist 0 community 2 Degree 1 visited 0 key 520 (5832)\r\n",
        "we 0 dist 0 community 2 Degree 21 visited 0 key 639 (6801)\r\n",
        "we 0 dist 0 community 2 Degree 18 visited 0 key 656 (6950)\r\n",
        "we 0 dist 0 community 2 Degree 15 visited 0 key 672 (7203)\r\n",
        "we 0 dist 0 community 2 Degree 10 visited 0 key 717 (7871)\r\n",
        "we 0 dist 0 community 2 Degree 30 visited 0 key 741 (8428)\r\n",
        "we 0 dist 0 community 2 Degree 3 visited 0 key 750 (8497)\r\n",
        "we 0 dist 0 community 2 Degree 10 visited 0 key 751 (8499)\r\n",
        "we 0 dist 0 community 2 Degree 14 visited 0 key 752 (8500)\r\n",
        "we 0 dist 0 community 2 Degree 9 visited 0 key 759 (8541)\r\n",
        "we 0 dist 0 community 2 Degree 4 visited 0 key 797 (8927)\r\n",
        "we 0 dist 0 community 2 Degree 3 visited 0 key 835 (9362)\r\n",
        "we 0 dist 0 community 2 Degree 17 visited 0 key 958 (10574)\r\n",
        "we 0 dist 0 community 2 Degree 12 visited 0 key 959 (10575)\r\n",
        "we 0 dist 0 community 2 Degree 13 visited 0 key 975 (10694)\r\n",
        "we 0 dist 0 community 2 Degree 1 visited 0 key 1043 (22931)\r\n",
        "we 0 dist 0 community 2 Degree 17 visited 0 key 1046 (22948)\r\n",
        "we 0 dist 0 community 2 Degree 3 visited 0 key 1079 (23287)\r\n",
        "we 0 dist 0 community 2 Degree 28 visited 0 key 1115 (25843)\r\n",
        "we 0 dist 0 community 2 Degree 9 visited 0 key 1123 (26059)\r\n",
        "we 0 dist 0 community 2 Degree 3 visited 0 key 1131 (26289)\r\n",
        "we 0 dist 0 community 2 Degree 2 visited 0 key 1132 (26517)\r\n",
        "we 0 dist 0 community 2 Degree 1 visited 0 key 1135 (26521)\r\n",
        "we 0 dist 0 community 2 Degree 3 visited 0 key 1137 (26960)\r\n",
        "we 0 dist 0 community 2 Degree 3 visited 0 key 1148 (27445)\r\n",
        "we 0 dist 0 community 2 Degree 24 visited 0 key 1149 (28964)\r\n",
        "we 0 dist 0 community 2 Degree 24 visited 0 key 1154 (29888)\r\n",
        "we 0 dist 0 community 2 Degree 23 visited 0 key 1158 (29966)\r\n",
        "we 0 dist 0 community 2 Degree 3 visited 0 key 1162 (30968)\r\n",
        "we 0 dist 0 community 2 Degree 2 visited 0 key 1180 (51400)\r\n",
        "we 0 dist 0 community 2 Degree 1 visited 0 key 1184 (51477)\r\n",
        "we 0 dist 0 community 2 Degree 12 visited 0 key 1205 (54764)\r\n",
        "we 0 dist 0 community 2 Degree 5 visited 0 key 1215 (55054)\r\n",
        "we 0 dist 0 community 2 Degree 7 visited 0 key 1231 (55690)\r\n",
        "we 0 dist 0 community 2 Degree 11 visited 0 key 1247 (55917)\r\n",
        "we 0 dist 0 community 2 Degree 8 visited 0 key 1265 (57464)\r\n",
        "we 0 dist 0 community 2 Degree 1 visited 0 key 1292 (64710)\r\n",
        "we 0 dist 0 community 2 Degree 18 visited 0 key 1333 (83992)\r\n",
        "we 0 dist 0 community 2 Degree 13 visited 0 key 1346 (85369)\r\n",
        "we 0 dist 0 community 2 Degree 5 visited 0 key 1400 (347733)\r\n",
        "community: 2 size: 56\r\n",
        "we 0 dist 0 community 3 Degree 96 visited 0 key 12 (60)\r\n",
        "we 0 dist 0 community 3 Degree 3 visited 0 key 74 (546)\r\n",
        "we 0 dist 0 community 3 Degree 9 visited 0 key 158 (1654)\r\n",
        "we 0 dist 0 community 3 Degree 9 visited 0 key 187 (1938)\r\n",
        "we 0 dist 0 community 3 Degree 17 visited 0 key 190 (1974)\r\n",
        "we 0 dist 0 community 3 Degree 16 visited 0 key 191 (1981)\r\n",
        "we 0 dist 0 community 3 Degree 1 visited 0 key 305 (3295)\r\n",
        "we 0 dist 0 community 3 Degree 2 visited 0 key 344 (3921)\r\n",
        "we 0 dist 0 community 3 Degree 10 visited 0 key 350 (4000)\r\n",
        "we 0 dist 0 community 3 Degree 14 visited 0 key 389 (4686)\r\n",
        "we 0 dist 0 community 3 Degree 4 visited 0 key 401 (4736)\r\n"
       ]
      }
     ],
     "prompt_number": 37
    },
    {
     "cell_type": "markdown",
     "metadata": {},
     "source": [
      "Having a look at the disease enrichment now:"
     ]
    },
    {
     "cell_type": "code",
     "collapsed": false,
     "input": [
      "import pandas as pd"
     ],
     "language": "python",
     "metadata": {},
     "outputs": [
      {
       "output_type": "stream",
       "stream": "stderr",
       "text": [
        "/usr/lib/python2.7/site-packages/pandas/io/excel.py:626: UserWarning: Installed openpyxl is not supported at this time. Use >=1.6.1 and <2.0.0.\n",
        "  .format(openpyxl_compat.start_ver, openpyxl_compat.stop_ver))\n"
       ]
      }
     ],
     "prompt_number": 39
    },
    {
     "cell_type": "code",
     "collapsed": false,
     "input": [
      "c =  pd.read_csv(\"OUT/permute_p_values_disease.csv\", delimiter=\"\\t\")"
     ],
     "language": "python",
     "metadata": {},
     "outputs": [],
     "prompt_number": 43
    },
    {
     "cell_type": "markdown",
     "metadata": {},
     "source": [
      "Check papers to read about the hypergeometric disease enrichment test:"
     ]
    },
    {
     "cell_type": "code",
     "collapsed": false,
     "input": [
      "c.head()"
     ],
     "language": "python",
     "metadata": {},
     "outputs": [
      {
       "html": [
        "<div style=\"max-height:1000px;max-width:1500px;overflow:auto;\">\n",
        "<table border=\"1\" class=\"dataframe\">\n",
        "  <thead>\n",
        "    <tr style=\"text-align: right;\">\n",
        "      <th></th>\n",
        "      <th>Community</th>\n",
        "      <th>Size</th>\n",
        "      <th>disease_of_metabolism</th>\n",
        "      <th>p-value</th>\n",
        "      <th>{p-value}</th>\n",
        "      <th>Sig. Level</th>\n",
        "      <th>p_lower (%)</th>\n",
        "      <th>p_upper (%)</th>\n",
        "      <th>disease_by_infectious_agent</th>\n",
        "      <th>p-value.1</th>\n",
        "      <th>...</th>\n",
        "      <th>Sig. Level.135</th>\n",
        "      <th>p_lower (%).135</th>\n",
        "      <th>p_upper (%).135</th>\n",
        "      <th>muscular_dystrophy</th>\n",
        "      <th>p-value.136</th>\n",
        "      <th>{p-value}.136</th>\n",
        "      <th>Sig. Level.136</th>\n",
        "      <th>p_lower (%).136</th>\n",
        "      <th>p_upper (%).136</th>\n",
        "      <th>Unnamed: 824</th>\n",
        "    </tr>\n",
        "  </thead>\n",
        "  <tbody>\n",
        "    <tr>\n",
        "      <th>0</th>\n",
        "      <td> 1</td>\n",
        "      <td> 27</td>\n",
        "      <td>NaN</td>\n",
        "      <td> 0.007155</td>\n",
        "      <td> 0.576295</td>\n",
        "      <td> 0.002665</td>\n",
        "      <td>  0.3</td>\n",
        "      <td> 100.0</td>\n",
        "      <td>NaN</td>\n",
        "      <td> 0.033378</td>\n",
        "      <td>...</td>\n",
        "      <td> 0.000000</td>\n",
        "      <td> 100.0</td>\n",
        "      <td> 70.3</td>\n",
        "      <td>NaN</td>\n",
        "      <td> 0.092656</td>\n",
        "      <td> 0.718025</td>\n",
        "      <td> 0.009169</td>\n",
        "      <td>  10.5</td>\n",
        "      <td>  98.2</td>\n",
        "      <td>NaN</td>\n",
        "    </tr>\n",
        "    <tr>\n",
        "      <th>1</th>\n",
        "      <td> 2</td>\n",
        "      <td> 56</td>\n",
        "      <td>NaN</td>\n",
        "      <td> 0.917253</td>\n",
        "      <td> 0.563634</td>\n",
        "      <td> 0.008712</td>\n",
        "      <td> 91.6</td>\n",
        "      <td>  17.2</td>\n",
        "      <td>NaN</td>\n",
        "      <td> 0.993455</td>\n",
        "      <td>...</td>\n",
        "      <td> 0.000000</td>\n",
        "      <td> 100.0</td>\n",
        "      <td> 44.4</td>\n",
        "      <td>NaN</td>\n",
        "      <td> 1.000000</td>\n",
        "      <td> 0.655420</td>\n",
        "      <td> 0.000000</td>\n",
        "      <td> 100.0</td>\n",
        "      <td>  34.5</td>\n",
        "      <td>NaN</td>\n",
        "    </tr>\n",
        "    <tr>\n",
        "      <th>2</th>\n",
        "      <td> 3</td>\n",
        "      <td> 44</td>\n",
        "      <td>NaN</td>\n",
        "      <td> 0.431470</td>\n",
        "      <td> 0.540893</td>\n",
        "      <td> 0.015662</td>\n",
        "      <td> 44.3</td>\n",
        "      <td>  69.6</td>\n",
        "      <td>NaN</td>\n",
        "      <td> 0.005238</td>\n",
        "      <td>...</td>\n",
        "      <td> 0.015748</td>\n",
        "      <td>  45.7</td>\n",
        "      <td> 86.5</td>\n",
        "      <td>NaN</td>\n",
        "      <td> 0.579100</td>\n",
        "      <td> 0.683451</td>\n",
        "      <td> 0.015612</td>\n",
        "      <td>  56.9</td>\n",
        "      <td>  81.3</td>\n",
        "      <td>NaN</td>\n",
        "    </tr>\n",
        "    <tr>\n",
        "      <th>3</th>\n",
        "      <td> 4</td>\n",
        "      <td> 53</td>\n",
        "      <td>NaN</td>\n",
        "      <td> 0.951028</td>\n",
        "      <td> 0.563207</td>\n",
        "      <td> 0.006825</td>\n",
        "      <td> 93.2</td>\n",
        "      <td>  12.7</td>\n",
        "      <td>NaN</td>\n",
        "      <td> 0.923918</td>\n",
        "      <td>...</td>\n",
        "      <td> 0.000000</td>\n",
        "      <td> 100.0</td>\n",
        "      <td> 46.6</td>\n",
        "      <td>NaN</td>\n",
        "      <td> 1.000000</td>\n",
        "      <td> 0.651972</td>\n",
        "      <td> 0.000000</td>\n",
        "      <td> 100.0</td>\n",
        "      <td>  35.1</td>\n",
        "      <td>NaN</td>\n",
        "    </tr>\n",
        "    <tr>\n",
        "      <th>4</th>\n",
        "      <td> 5</td>\n",
        "      <td>  1</td>\n",
        "      <td>NaN</td>\n",
        "      <td> 0.163352</td>\n",
        "      <td> 0.876176</td>\n",
        "      <td> 0.011690</td>\n",
        "      <td> 14.8</td>\n",
        "      <td> 100.0</td>\n",
        "      <td>NaN</td>\n",
        "      <td> 0.174716</td>\n",
        "      <td>...</td>\n",
        "      <td> 0.000000</td>\n",
        "      <td> 100.0</td>\n",
        "      <td> 98.2</td>\n",
        "      <td>NaN</td>\n",
        "      <td> 0.019176</td>\n",
        "      <td> 0.978422</td>\n",
        "      <td> 0.004337</td>\n",
        "      <td>   2.2</td>\n",
        "      <td> 100.0</td>\n",
        "      <td>NaN</td>\n",
        "    </tr>\n",
        "  </tbody>\n",
        "</table>\n",
        "<p>5 rows \u00d7 825 columns</p>\n",
        "</div>"
       ],
       "metadata": {},
       "output_type": "pyout",
       "prompt_number": 44,
       "text": [
        "   Community  Size  disease_of_metabolism   p-value  {p-value}  Sig. Level  \\\n",
        "0          1    27                    NaN  0.007155   0.576295    0.002665   \n",
        "1          2    56                    NaN  0.917253   0.563634    0.008712   \n",
        "2          3    44                    NaN  0.431470   0.540893    0.015662   \n",
        "3          4    53                    NaN  0.951028   0.563207    0.006825   \n",
        "4          5     1                    NaN  0.163352   0.876176    0.011690   \n",
        "\n",
        "   p_lower (%)  p_upper (%)  disease_by_infectious_agent  p-value.1  \\\n",
        "0          0.3        100.0                          NaN   0.033378   \n",
        "1         91.6         17.2                          NaN   0.993455   \n",
        "2         44.3         69.6                          NaN   0.005238   \n",
        "3         93.2         12.7                          NaN   0.923918   \n",
        "4         14.8        100.0                          NaN   0.174716   \n",
        "\n",
        "     ...      Sig. Level.135  p_lower (%).135  p_upper (%).135  \\\n",
        "0    ...            0.000000            100.0             70.3   \n",
        "1    ...            0.000000            100.0             44.4   \n",
        "2    ...            0.015748             45.7             86.5   \n",
        "3    ...            0.000000            100.0             46.6   \n",
        "4    ...            0.000000            100.0             98.2   \n",
        "\n",
        "   muscular_dystrophy  p-value.136  {p-value}.136  Sig. Level.136  \\\n",
        "0                 NaN     0.092656       0.718025        0.009169   \n",
        "1                 NaN     1.000000       0.655420        0.000000   \n",
        "2                 NaN     0.579100       0.683451        0.015612   \n",
        "3                 NaN     1.000000       0.651972        0.000000   \n",
        "4                 NaN     0.019176       0.978422        0.004337   \n",
        "\n",
        "   p_lower (%).136  p_upper (%).136  Unnamed: 824  \n",
        "0             10.5             98.2           NaN  \n",
        "1            100.0             34.5           NaN  \n",
        "2             56.9             81.3           NaN  \n",
        "3            100.0             35.1           NaN  \n",
        "4              2.2            100.0           NaN  \n",
        "\n",
        "[5 rows x 825 columns]"
       ]
      }
     ],
     "prompt_number": 44
    },
    {
     "cell_type": "markdown",
     "metadata": {},
     "source": [
      "Now running the code again on the karate set for both weighted and unweighted interactions to test the code for looking at __Normalised Mutual Information__:"
     ]
    },
    {
     "cell_type": "code",
     "collapsed": false,
     "input": [
      "!./run -file testdata/karate.txt -weighted 1 -algorithm 3 -quite 1"
     ],
     "language": "python",
     "metadata": {},
     "outputs": [
      {
       "output_type": "stream",
       "stream": "stdout",
       "text": [
        "> ---- START ---- \r\n",
        "> Using Spectral Betweenness.\r\n",
        "> Using a weighted network \r\n",
        "> Scanning network_file: testdata/karate.txt\r\n",
        "> Header: None \r\n",
        "> Running Spectral Betweenness.\r\n",
        "--- DONE ---\r\n",
        "> cputime: 0.000687 seconds \r\n",
        "> Network (nodes): 34 (edges): 78\r\n"
       ]
      },
      {
       "output_type": "stream",
       "stream": "stdout",
       "text": [
        "> ---- END ---- \r\n"
       ]
      }
     ],
     "prompt_number": 48
    },
    {
     "cell_type": "code",
     "collapsed": false,
     "input": [
      "!mv OUT OUTW"
     ],
     "language": "python",
     "metadata": {},
     "outputs": [],
     "prompt_number": 49
    },
    {
     "cell_type": "code",
     "collapsed": false,
     "input": [
      "!mkdir OUT"
     ],
     "language": "python",
     "metadata": {},
     "outputs": [],
     "prompt_number": 50
    },
    {
     "cell_type": "code",
     "collapsed": false,
     "input": [
      "!./run -file testdata/karate.txt -weighted 0 -algorithm 3 -quite 1"
     ],
     "language": "python",
     "metadata": {},
     "outputs": [
      {
       "output_type": "stream",
       "stream": "stdout",
       "text": [
        "> ---- START ---- \r\n",
        "> Using Spectral Betweenness.\r\n",
        "> Using a non-weighted network \r\n",
        "> Scanning network_file: testdata/karate.txt\r\n",
        "> Header: None \r\n",
        "> Running Spectral Betweenness.\r\n",
        "--- DONE ---\r\n",
        "> cputime: 0.000672 seconds \r\n",
        "> Network (nodes): 34 (edges): 78\r\n"
       ]
      },
      {
       "output_type": "stream",
       "stream": "stdout",
       "text": [
        "> ---- END ---- \r\n"
       ]
      }
     ],
     "prompt_number": 51
    },
    {
     "cell_type": "code",
     "collapsed": false,
     "input": [
      "!head OUT/communities_cytoscape.txt"
     ],
     "language": "python",
     "metadata": {},
     "outputs": [
      {
       "output_type": "stream",
       "stream": "stdout",
       "text": [
        "communities\r\n",
        "1 = 1\r\n",
        "2 = 1\r\n",
        "3 = 1\r\n",
        "4 = 1\r\n",
        "5 = 4\r\n",
        "6 = 4\r\n",
        "7 = 4\r\n",
        "8 = 1\r\n",
        "9 = 2\r\n"
       ]
      }
     ],
     "prompt_number": 55
    },
    {
     "cell_type": "markdown",
     "metadata": {},
     "source": [
      "The code below is __not mine__, imported from a python script to run NMI on the two output files generated above:"
     ]
    },
    {
     "cell_type": "code",
     "collapsed": false,
     "input": [
      "from __future__ import division\n",
      "import collections\n",
      "import math\n",
      "import sys\n",
      "import csv"
     ],
     "language": "python",
     "metadata": {},
     "outputs": [],
     "prompt_number": 57
    },
    {
     "cell_type": "code",
     "collapsed": false,
     "input": [
      "import sys"
     ],
     "language": "python",
     "metadata": {},
     "outputs": [],
     "prompt_number": 58
    },
    {
     "cell_type": "code",
     "collapsed": false,
     "input": [
      "import re"
     ],
     "language": "python",
     "metadata": {},
     "outputs": [],
     "prompt_number": 63
    },
    {
     "cell_type": "code",
     "collapsed": false,
     "input": [
      "#--- helper function\n",
      "def convertStr(s):\n",
      "    ret = int(s)\n",
      "    return ret"
     ],
     "language": "python",
     "metadata": {},
     "outputs": [],
     "prompt_number": 71
    },
    {
     "cell_type": "code",
     "collapsed": false,
     "input": [
      "rows, new, dic = [], [], []\n",
      "consensus = \"OUT/communities_cytoscape.txt\"\n",
      "community = \"OUTW/communities_cytoscape.txt\"\n",
      "\n",
      "#--- readin first community file\n",
      "with open(consensus, 'r') as csvfile:\n",
      "    reader = csv.reader(csvfile, delimiter='=')\n",
      "    headerline = reader.next();\n",
      "    for row in reader:\n",
      "        new.append(row)\n",
      "\n",
      "#--- readin second community file\n",
      "with open(community, 'r') as csvfile:\n",
      "    reader = csv.reader(csvfile, delimiter='=')\n",
      "    headerline = reader.next();\n",
      "    for row in reader:\n",
      "        dic.append(row)"
     ],
     "language": "python",
     "metadata": {},
     "outputs": [],
     "prompt_number": 89
    },
    {
     "cell_type": "code",
     "collapsed": false,
     "input": [
      "for i in dic:\n",
      "    for j in new:\n",
      "        if i[0] == j[0]:\n",
      "            i.append(j[1])\n",
      "dic.sort(key=lambda x: int(x[2]))\n",
      "\n",
      "#--- count of nodes in each community in reality and in algorithm\n",
      "realc, algc = [], []\n",
      "for i in dic:\n",
      "    realc.append(convertStr(i[1]))\n",
      "    algc.append(convertStr(i[2]))\n",
      "comcount = dict([(i,realc.count(i)) for i in set(realc)])\n",
      "pcount = dict([(i,algc.count(i)) for i in set(algc)])\n",
      "\n",
      "#--- holds the algorithm community label with the corresponding community labels\n",
      "#    provided e.g., {1:{2:2,3:3}}\n",
      "algcount, tempd = {}, {}\n",
      "templist = []\n",
      "comtrack = 0\n",
      "for key, val in pcount.iteritems():\n",
      "    templist = realc[comtrack:comtrack+val]\n",
      "    comtrack += val\n",
      "    for i in set(templist):\n",
      "        tempd[i] = templist.count(i)\n",
      "    algcount[key] = tempd\n",
      "    tempd = {}\n",
      "\n",
      "#--- finding the node with the maximum label in that community\n",
      "#    key = int, value = dictionary\n",
      "label = {}\n",
      "for key, value in algcount.iteritems():\n",
      "    label[key] = max(value, key = value.get)\n",
      "for i in dic:\n",
      "    for j in label:\n",
      "        if (int)(i[2]) == j:\n",
      "            i.append(label[j])\n",
      "\n",
      "#--- METRICS    \n",
      "#--- Calculate the NMI\n",
      "nt, np, ntp = {}, {}, {}\n",
      "NMI = 0\n",
      "nodes = len(dic)\n",
      "for i in range(1, max(comcount)+1):\n",
      "    for j in range(1, max(pcount)+1):\n",
      "        nt[i] = 0\n",
      "        np[j] = 0\n",
      "        ntp[(str(i)+' '+str(j))] = 0\n",
      "nt = comcount\n",
      "np = pcount\n",
      "for i in dic:\n",
      "    ntp[(str(i[1]).strip()+' '+str(i[2]).strip())] += 1\n",
      "num, den = 0, 0\n",
      "for i, t in nt.iteritems():\n",
      "    for j, p in np.iteritems():\n",
      "        temp, temp2 = 0, 0\n",
      "        if (ntp[(str(i).strip()+' '+str(j).strip())] > 0) and (t > 0) and (p > 0):\n",
      "            temp = ((ntp[(str(i).strip()+' '+str(j).strip())]*nodes)/(t*p))\n",
      "            temp2 = ntp[(str(i).strip()+' '+str(j).strip())]* math.log(temp)\n",
      "        num += temp2\n",
      "d1, d2 = 0, 0\n",
      "for t in nt.values():\n",
      "        d1 += t * math.log(t/nodes)\n",
      "for p in np.values():\n",
      "        d2 += p * math.log(p/nodes)\n",
      "den = d1 + d2\n",
      "NMI = -(2*num)/den\n",
      "\n",
      "\n",
      "#--- print results to screen\n",
      "print 'NMI = %s' %(NMI)\n",
      "f = open ( 'OUT/community-metric_nmi.txt', 'w' )\n",
      "f.writelines(\"node\\treal\\talg\\tnewlabel\\n\")\n",
      "f.writelines(\"%s\\t%s\\t%s\\t%s\\n\" % (i[0],i[1],i[2],i[3]) for i in dic)\n",
      "f.writelines('NMI = %s' %(NMI))\n",
      "f.close()"
     ],
     "language": "python",
     "metadata": {},
     "outputs": [
      {
       "output_type": "stream",
       "stream": "stdout",
       "text": [
        "NMI = 0.820512728232\n"
       ]
      }
     ],
     "prompt_number": 90
    },
    {
     "cell_type": "markdown",
     "metadata": {},
     "source": [
      "So it's detected that these two sets of communities are different, but mostly similar.\n",
      "We can see these differences ourselves:"
     ]
    },
    {
     "cell_type": "code",
     "collapsed": false,
     "input": [
      "!cat OUT/communityout.txt"
     ],
     "language": "python",
     "metadata": {},
     "outputs": [
      {
       "output_type": "stream",
       "stream": "stdout",
       "text": [
        "communityout\r\n",
        "Max Q: 0.407873\r\n",
        "cputime: 0.000672 seconds \r\n",
        "Network (nodes): 34 (edges): 78\r\n",
        "we 0 dist 0 community 1 Degree 16 visited 0 key 1 (1)\r\n",
        "we 0 dist 0 community 1 Degree 9 visited 0 key 2 (2)\r\n",
        "we 0 dist 0 community 1 Degree 10 visited 0 key 3 (3)\r\n",
        "we 0 dist 0 community 1 Degree 6 visited 0 key 4 (4)\r\n",
        "we 0 dist 0 community 1 Degree 4 visited 0 key 8 (8)\r\n",
        "we 0 dist 0 community 1 Degree 2 visited 0 key 13 (13)\r\n",
        "we 0 dist 0 community 1 Degree 5 visited 0 key 14 (14)\r\n",
        "we 0 dist 0 community 1 Degree 2 visited 0 key 18 (18)\r\n",
        "we 0 dist 0 community 1 Degree 3 visited 0 key 20 (20)\r\n",
        "we 0 dist 0 community 1 Degree 2 visited 0 key 22 (22)\r\n",
        "community: 1 size: 10\r\n",
        "we 0 dist 0 community 2 Degree 5 visited 0 key 9 (9)\r\n",
        "we 0 dist 0 community 2 Degree 2 visited 0 key 15 (15)\r\n",
        "we 0 dist 0 community 2 Degree 2 visited 0 key 16 (16)\r\n",
        "we 0 dist 0 community 2 Degree 2 visited 0 key 19 (19)\r\n",
        "we 0 dist 0 community 2 Degree 2 visited 0 key 21 (21)\r\n",
        "we 0 dist 0 community 2 Degree 2 visited 0 key 23 (23)\r\n",
        "we 0 dist 0 community 2 Degree 2 visited 0 key 27 (27)\r\n",
        "we 0 dist 0 community 2 Degree 4 visited 0 key 30 (30)\r\n",
        "we 0 dist 0 community 2 Degree 4 visited 0 key 31 (31)\r\n",
        "we 0 dist 0 community 2 Degree 12 visited 0 key 33 (33)\r\n",
        "we 0 dist 0 community 2 Degree 17 visited 0 key 34 (34)\r\n",
        "community: 2 size: 11\r\n",
        "we 0 dist 0 community 3 Degree 1 visited 0 key 12 (12)\r\n",
        "community: 3 size: 1\r\n",
        "we 0 dist 0 community 4 Degree 3 visited 0 key 5 (5)\r\n",
        "we 0 dist 0 community 4 Degree 4 visited 0 key 6 (6)\r\n",
        "we 0 dist 0 community 4 Degree 4 visited 0 key 7 (7)\r\n",
        "we 0 dist 0 community 4 Degree 3 visited 0 key 11 (11)\r\n",
        "we 0 dist 0 community 4 Degree 2 visited 0 key 17 (17)\r\n",
        "community: 4 size: 5\r\n",
        "we 0 dist 0 community 5 Degree 2 visited 0 key 10 (10)\r\n",
        "community: 5 size: 1\r\n",
        "we 0 dist 0 community 6 Degree 5 visited 0 key 24 (24)\r\n",
        "we 0 dist 0 community 6 Degree 3 visited 0 key 25 (25)\r\n",
        "we 0 dist 0 community 6 Degree 3 visited 0 key 26 (26)\r\n",
        "we 0 dist 0 community 6 Degree 4 visited 0 key 28 (28)\r\n",
        "we 0 dist 0 community 6 Degree 3 visited 0 key 29 (29)\r\n",
        "we 0 dist 0 community 6 Degree 6 visited 0 key 32 (32)\r\n",
        "community: 6 size: 6\r\n"
       ]
      }
     ],
     "prompt_number": 75
    },
    {
     "cell_type": "code",
     "collapsed": false,
     "input": [
      "!cat OUTW/communityout.txt"
     ],
     "language": "python",
     "metadata": {},
     "outputs": [
      {
       "output_type": "stream",
       "stream": "stdout",
       "text": [
        "communityout\r\n",
        "Max Q: 0.485125\r\n",
        "cputime: 0.000687 seconds \r\n",
        "Network (nodes): 34 (edges): 78\r\n",
        "we 0 dist 0 community 1 Degree 3 visited 0 key 5 (5)\r\n",
        "we 0 dist 0 community 1 Degree 4 visited 0 key 6 (6)\r\n",
        "we 0 dist 0 community 1 Degree 4 visited 0 key 7 (7)\r\n",
        "we 0 dist 0 community 1 Degree 3 visited 0 key 11 (11)\r\n",
        "we 0 dist 0 community 1 Degree 2 visited 0 key 17 (17)\r\n",
        "community: 1 size: 5\r\n",
        "we 0 dist 0 community 2 Degree 2 visited 0 key 10 (10)\r\n",
        "we 0 dist 0 community 2 Degree 2 visited 0 key 16 (16)\r\n",
        "we 0 dist 0 community 2 Degree 3 visited 0 key 20 (20)\r\n",
        "we 0 dist 0 community 2 Degree 2 visited 0 key 27 (27)\r\n",
        "we 0 dist 0 community 2 Degree 4 visited 0 key 30 (30)\r\n",
        "we 0 dist 0 community 2 Degree 17 visited 0 key 34 (34)\r\n",
        "community: 2 size: 6\r\n",
        "we 0 dist 0 community 3 Degree 16 visited 0 key 1 (1)\r\n",
        "we 0 dist 0 community 3 Degree 9 visited 0 key 2 (2)\r\n",
        "we 0 dist 0 community 3 Degree 10 visited 0 key 3 (3)\r\n",
        "we 0 dist 0 community 3 Degree 6 visited 0 key 4 (4)\r\n",
        "we 0 dist 0 community 3 Degree 4 visited 0 key 8 (8)\r\n",
        "we 0 dist 0 community 3 Degree 1 visited 0 key 12 (12)\r\n",
        "we 0 dist 0 community 3 Degree 2 visited 0 key 13 (13)\r\n",
        "we 0 dist 0 community 3 Degree 5 visited 0 key 14 (14)\r\n",
        "we 0 dist 0 community 3 Degree 2 visited 0 key 18 (18)\r\n",
        "we 0 dist 0 community 3 Degree 2 visited 0 key 22 (22)\r\n",
        "community: 3 size: 10\r\n",
        "we 0 dist 0 community 4 Degree 5 visited 0 key 24 (24)\r\n",
        "we 0 dist 0 community 4 Degree 3 visited 0 key 25 (25)\r\n",
        "we 0 dist 0 community 4 Degree 3 visited 0 key 26 (26)\r\n",
        "we 0 dist 0 community 4 Degree 4 visited 0 key 28 (28)\r\n",
        "we 0 dist 0 community 4 Degree 3 visited 0 key 29 (29)\r\n",
        "we 0 dist 0 community 4 Degree 6 visited 0 key 32 (32)\r\n",
        "community: 4 size: 6\r\n",
        "we 0 dist 0 community 5 Degree 5 visited 0 key 9 (9)\r\n",
        "we 0 dist 0 community 5 Degree 2 visited 0 key 15 (15)\r\n",
        "we 0 dist 0 community 5 Degree 2 visited 0 key 19 (19)\r\n",
        "we 0 dist 0 community 5 Degree 2 visited 0 key 21 (21)\r\n",
        "we 0 dist 0 community 5 Degree 2 visited 0 key 23 (23)\r\n",
        "we 0 dist 0 community 5 Degree 4 visited 0 key 31 (31)\r\n",
        "we 0 dist 0 community 5 Degree 12 visited 0 key 33 (33)\r\n",
        "community: 5 size: 7\r\n"
       ]
      }
     ],
     "prompt_number": 76
    },
    {
     "cell_type": "code",
     "collapsed": false,
     "input": [
      "ls"
     ],
     "language": "python",
     "metadata": {},
     "outputs": [
      {
       "output_type": "stream",
       "stream": "stdout",
       "text": [
        "\u001b[0m\u001b[40m\u001b[m\u001b[00mcommunityDetection.C\u001b[0m         \u001b[40m\u001b[m\u001b[00medge.h\u001b[0m               \u001b[40m\u001b[m\u001b[00mHeaders.h\u001b[0m  \u001b[40m\u001b[m\u001b[00mMakefile\u001b[0m  \u001b[40m\u001b[m\u001b[01;34mOUT\u001b[0m/   \u001b[40m\u001b[m\u001b[00mreadInputFile.h\u001b[0m  \u001b[40m\u001b[m\u001b[01;34mtestdata\u001b[0m/\r\n",
        "\u001b[40m\u001b[m\u001b[00mcommunityDetection.OpenMP.C\u001b[0m  \u001b[40m\u001b[m\u001b[00meigen_sym.h\u001b[0m          \u001b[40m\u001b[m\u001b[00mHelper.h\u001b[0m   \u001b[40m\u001b[m\u001b[00mnode.h\u001b[0m    \u001b[40m\u001b[m\u001b[01;34mOUTW\u001b[0m/  \u001b[40m\u001b[m\u001b[00mREADME\u001b[0m\r\n",
        "\u001b[40m\u001b[m\u001b[01;34mdata\u001b[0m/                        \u001b[40m\u001b[m\u001b[00menrichmentStudies.h\u001b[0m  \u001b[40m\u001b[m\u001b[00mludcmp.h\u001b[0m   \u001b[40m\u001b[m\u001b[00mnr3.h\u001b[0m     \u001b[40m\u001b[m\u001b[00mran.h\u001b[0m  \u001b[40m\u001b[m\u001b[01;32mrun\u001b[0m*\r\n"
       ]
      }
     ],
     "prompt_number": 78
    },
    {
     "cell_type": "code",
     "collapsed": false,
     "input": [
      "cd data/"
     ],
     "language": "python",
     "metadata": {},
     "outputs": [
      {
       "output_type": "stream",
       "stream": "stdout",
       "text": [
        "/home/gavin/Documents/MRes/HBP/data\n"
       ]
      }
     ],
     "prompt_number": 79
    },
    {
     "cell_type": "code",
     "collapsed": false,
     "input": [
      "ls"
     ],
     "language": "python",
     "metadata": {},
     "outputs": [
      {
       "output_type": "stream",
       "stream": "stdout",
       "text": [
        "\u001b[0m\u001b[40m\u001b[m\u001b[00mflatfile.SCH.csv\u001b[0m  \u001b[40m\u001b[m\u001b[00mflatfile.SYNSYS.csv\u001b[0m\r\n"
       ]
      }
     ],
     "prompt_number": 80
    },
    {
     "cell_type": "markdown",
     "metadata": {},
     "source": [
      "This is an alternative set of annotations for the disease enrichment run above as part of the C++ code, specific to Schizophrenia:"
     ]
    },
    {
     "cell_type": "code",
     "collapsed": false,
     "input": [
      "!head flatfile.SYNSYS.csv"
     ],
     "language": "python",
     "metadata": {},
     "outputs": [
      {
       "output_type": "stream",
       "stream": "stdout",
       "text": [
        "#flatfile\r\n",
        "DOID:5419\tschizophrenia\t12\r\n",
        "DOID:5419\tschizophrenia\t50\r\n",
        "DOID:5419\tschizophrenia\t60\r\n",
        "DOID:5419\tschizophrenia\t71\r\n",
        "DOID:5419\tschizophrenia\t159\r\n",
        "DOID:5419\tschizophrenia\t213\r\n",
        "DOID:5419\tschizophrenia\t217\r\n",
        "DOID:5419\tschizophrenia\t226\r\n",
        "DOID:5419\tschizophrenia\t287\r\n"
       ]
      }
     ],
     "prompt_number": 81
    },
    {
     "cell_type": "code",
     "collapsed": false,
     "input": [
      "cd .."
     ],
     "language": "python",
     "metadata": {},
     "outputs": [
      {
       "output_type": "stream",
       "stream": "stdout",
       "text": [
        "/home/gavin/Documents/MRes/HBP\n"
       ]
      }
     ],
     "prompt_number": 85
    },
    {
     "cell_type": "code",
     "collapsed": false,
     "input": [
      "ls"
     ],
     "language": "python",
     "metadata": {},
     "outputs": [
      {
       "output_type": "stream",
       "stream": "stdout",
       "text": [
        "\u001b[0m\u001b[40m\u001b[m\u001b[00mcommunityDetection.C\u001b[0m         \u001b[40m\u001b[m\u001b[00medge.h\u001b[0m               \u001b[40m\u001b[m\u001b[00mHeaders.h\u001b[0m  \u001b[40m\u001b[m\u001b[00mMakefile\u001b[0m  \u001b[40m\u001b[m\u001b[01;34mOUT\u001b[0m/   \u001b[40m\u001b[m\u001b[00mreadInputFile.h\u001b[0m  \u001b[40m\u001b[m\u001b[01;34mtestdata\u001b[0m/\r\n",
        "\u001b[40m\u001b[m\u001b[00mcommunityDetection.OpenMP.C\u001b[0m  \u001b[40m\u001b[m\u001b[00meigen_sym.h\u001b[0m          \u001b[40m\u001b[m\u001b[00mHelper.h\u001b[0m   \u001b[40m\u001b[m\u001b[00mnode.h\u001b[0m    \u001b[40m\u001b[m\u001b[01;34mOUTW\u001b[0m/  \u001b[40m\u001b[m\u001b[00mREADME\u001b[0m\r\n",
        "\u001b[40m\u001b[m\u001b[01;34mdata\u001b[0m/                        \u001b[40m\u001b[m\u001b[00menrichmentStudies.h\u001b[0m  \u001b[40m\u001b[m\u001b[00mludcmp.h\u001b[0m   \u001b[40m\u001b[m\u001b[00mnr3.h\u001b[0m     \u001b[40m\u001b[m\u001b[00mran.h\u001b[0m  \u001b[40m\u001b[m\u001b[01;32mrun\u001b[0m*\r\n"
       ]
      }
     ],
     "prompt_number": 86
    },
    {
     "cell_type": "markdown",
     "metadata": {},
     "source": [
      "Overlap between disease annotations and the other annotation file (annotations just for schizophrenia):"
     ]
    },
    {
     "cell_type": "code",
     "collapsed": false,
     "input": [
      "!cat OUT/overlap_dis_SCHenriched.csv"
     ],
     "language": "python",
     "metadata": {},
     "outputs": [
      {
       "output_type": "stream",
       "stream": "stdout",
       "text": [
        "community\t1\tsize\t10\r\n",
        "Anno\tdisease_of_metabolism\tdisease_by_infectious_agent\tBrugada_syndrome\tlissencephaly\tCarney_complex\thereditary_sensory_neuropathy\t2-hydroxyglutaric_aciduria\tL-2-hydroxyglutaric_aciduria\tD-2-hydroxyglutaric_aciduria\tdistal_hereditary_motor_neuropathy\talternating_hemiplegia_of_childhood\torgan_system_cancer\tcell_type_cancer\telectroclinical_syndrome\tneonatoal_period_electroclinical_syndrom...\tinfancy_electroclinical_syndrome\tOhtahara_syndrome\t3-Methylcrotonyl-CoA_carboxylase_deficie...\tserine_deficiency\tcerebellar_ataxia\tadnexa_disease\tdevelopmental_disorder_of_mental_health\tspecific_developmental_disorder\tpervasive_developmental_disorder\tautism_spectrum_disorder\tperipheral_neuropathy\theavy_chain_disease\tdelta_chain_disease\torganic_acidemia\tbenign_familial_infantile_epilepsy\tgeneralized_epilepsy_with_febrile_seizur...\tfamilial_hemiplegic_migraine\tchromosomal_disease\tspina_bifida\tleukodystrophy\tintellectual_disability\tCharcot-Marie-Tooth_disease\tAlzheimer's_disease\tbubonic_plague\themiplegia\trabies\tschizophreniform_disorder\toculopharyngeal_muscular_dystrophy\tlimb-girdle_muscular_dystrophy\tPick's_disease\tCreutzfeldt-Jakob_syndrome\tLewy_body_dementia\tcascade_stomach\tbeta_thalassemia\tphacogenic_glaucoma\tautistic_disorder\tHuntington's_disease\tneurodegenerative_disease\tdementia\tStiff-Person_syndrome\tDiamond-Blackfan_anemia\texfoliation_syndrome\tpolyneuropathy\tDown_syndrome\tParkinson's_disease\tspinocerebellar_ataxia\tcerebral_degeneration\tdisease_of_cellular_proliferation\tacrodysostosis\tpropionic_acidemia\tolivopontocerebellar_atrophy\tcholera\tdisease_of_mental_health\tcognitive_disorder\tcancer\tepilepsy_syndrome\tidiopathic_generalized_epilepsy\tanxiety_disorder\thepatitis_D\tfocal_epilepsy\ttransient_cerebral_ischemia\tsyndrome\tlateral_sclerosis\tmotor_neuron_disease\tpsychotic_disorder\tmotor_peripheral_neuropathy\tspinocerebellar_degeneration\tcerebellar_disease\tlong_QT_syndrome\tmembranoproliferative_glomerulonephritis\tastrocytoma\tmalignant_glioma\tnervous_system_cancer\tischemia\tvaccinia\tcentral_nervous_system_disease\tbipolar_disorder\tamyotrophic_lateral_sclerosis\tmood_disorder\ttemporal_lobe_epilepsy\tmucolipidosis\tconventional_central_osteosarcoma\ttoxic_encephalopathy\tpyruvate_decarboxylase_deficiency\tdifferentiating_neuroblastoma\tneuromuscular_disease\tmultiple_system_atrophy\tmovement_disease\tlung_adenoid_cystic_carcinoma\tneurotic_disorder\talcoholic_pancreatitis\tarteriolosclerosis\tschizophrenia\tperipheral_nervous_system_disease\tovarian_serous_cystadenocarcinoma\tparaplegia\tprion_disease\tgastric_pylorus_carcinoma\tprogressive_supranuclear_palsy\tbasal_ganglia_disease\ttauopathy\tmotor_neuritis\tdisease_of_anatomical_entity\taxonal_neuropathy\tchief_cell_adenoma\tepilepsy_with_generalized_tonic-clonic_s...\tC3_deficiency\tretinal_degeneration\tnervous_system_disease\tneuropathy\tamyloidosis\tatrophic_muscular_disease\tWiskott-Aldrich_syndrome\tamino_acid_metabolic_disorder\tfrontotemporal_dementia\tmaple_syrup_urine_disease\tmyopathy_of_extraocular_muscle\torbital_disease\tviral_infectious_disease\tbrain_disease\tencephalitis\tmuscular_dystrophy\t\r\n",
        "\r\n",
        "community\t2\tsize\t11\r\n",
        "Anno\tdisease_of_metabolism\tdisease_by_infectious_agent\tBrugada_syndrome\tlissencephaly\tCarney_complex\thereditary_sensory_neuropathy\t2-hydroxyglutaric_aciduria\tL-2-hydroxyglutaric_aciduria\tD-2-hydroxyglutaric_aciduria\tdistal_hereditary_motor_neuropathy\talternating_hemiplegia_of_childhood\torgan_system_cancer\tcell_type_cancer\telectroclinical_syndrome\tneonatoal_period_electroclinical_syndrom...\tinfancy_electroclinical_syndrome\tOhtahara_syndrome\t3-Methylcrotonyl-CoA_carboxylase_deficie...\tserine_deficiency\tcerebellar_ataxia\tadnexa_disease\tdevelopmental_disorder_of_mental_health\tspecific_developmental_disorder\tpervasive_developmental_disorder\tautism_spectrum_disorder\tperipheral_neuropathy\theavy_chain_disease\tdelta_chain_disease\torganic_acidemia\tbenign_familial_infantile_epilepsy\tgeneralized_epilepsy_with_febrile_seizur...\tfamilial_hemiplegic_migraine\tchromosomal_disease\tspina_bifida\tleukodystrophy\tintellectual_disability\tCharcot-Marie-Tooth_disease\tAlzheimer's_disease\tbubonic_plague\themiplegia\trabies\tschizophreniform_disorder\toculopharyngeal_muscular_dystrophy\tlimb-girdle_muscular_dystrophy\tPick's_disease\tCreutzfeldt-Jakob_syndrome\tLewy_body_dementia\tcascade_stomach\tbeta_thalassemia\tphacogenic_glaucoma\tautistic_disorder\tHuntington's_disease\tneurodegenerative_disease\tdementia\tStiff-Person_syndrome\tDiamond-Blackfan_anemia\texfoliation_syndrome\tpolyneuropathy\tDown_syndrome\tParkinson's_disease\tspinocerebellar_ataxia\tcerebral_degeneration\tdisease_of_cellular_proliferation\tacrodysostosis\tpropionic_acidemia\tolivopontocerebellar_atrophy\tcholera\tdisease_of_mental_health\tcognitive_disorder\tcancer\tepilepsy_syndrome\tidiopathic_generalized_epilepsy\tanxiety_disorder\thepatitis_D\tfocal_epilepsy\ttransient_cerebral_ischemia\tsyndrome\tlateral_sclerosis\tmotor_neuron_disease\tpsychotic_disorder\tmotor_peripheral_neuropathy\tspinocerebellar_degeneration\tcerebellar_disease\tlong_QT_syndrome\tmembranoproliferative_glomerulonephritis\tastrocytoma\tmalignant_glioma\tnervous_system_cancer\tischemia\tvaccinia\tcentral_nervous_system_disease\tbipolar_disorder\tamyotrophic_lateral_sclerosis\tmood_disorder\ttemporal_lobe_epilepsy\tmucolipidosis\tconventional_central_osteosarcoma\ttoxic_encephalopathy\tpyruvate_decarboxylase_deficiency\tdifferentiating_neuroblastoma\tneuromuscular_disease\tmultiple_system_atrophy\tmovement_disease\tlung_adenoid_cystic_carcinoma\tneurotic_disorder\talcoholic_pancreatitis\tarteriolosclerosis\tschizophrenia\tperipheral_nervous_system_disease\tovarian_serous_cystadenocarcinoma\tparaplegia\tprion_disease\tgastric_pylorus_carcinoma\tprogressive_supranuclear_palsy\tbasal_ganglia_disease\ttauopathy\tmotor_neuritis\tdisease_of_anatomical_entity\taxonal_neuropathy\tchief_cell_adenoma\tepilepsy_with_generalized_tonic-clonic_s...\tC3_deficiency\tretinal_degeneration\tnervous_system_disease\tneuropathy\tamyloidosis\tatrophic_muscular_disease\tWiskott-Aldrich_syndrome\tamino_acid_metabolic_disorder\tfrontotemporal_dementia\tmaple_syrup_urine_disease\tmyopathy_of_extraocular_muscle\torbital_disease\tviral_infectious_disease\tbrain_disease\tencephalitis\tmuscular_dystrophy\t\r\n",
        "\r\n",
        "community\t4\tsize\t5\r\n",
        "Anno\tdisease_of_metabolism\tdisease_by_infectious_agent\tBrugada_syndrome\tlissencephaly\tCarney_complex\thereditary_sensory_neuropathy\t2-hydroxyglutaric_aciduria\tL-2-hydroxyglutaric_aciduria\tD-2-hydroxyglutaric_aciduria\tdistal_hereditary_motor_neuropathy\talternating_hemiplegia_of_childhood\torgan_system_cancer\tcell_type_cancer\telectroclinical_syndrome\tneonatoal_period_electroclinical_syndrom...\tinfancy_electroclinical_syndrome\tOhtahara_syndrome\t3-Methylcrotonyl-CoA_carboxylase_deficie...\tserine_deficiency\tcerebellar_ataxia\tadnexa_disease\tdevelopmental_disorder_of_mental_health\tspecific_developmental_disorder\tpervasive_developmental_disorder\tautism_spectrum_disorder\tperipheral_neuropathy\theavy_chain_disease\tdelta_chain_disease\torganic_acidemia\tbenign_familial_infantile_epilepsy\tgeneralized_epilepsy_with_febrile_seizur...\tfamilial_hemiplegic_migraine\tchromosomal_disease\tspina_bifida\tleukodystrophy\tintellectual_disability\tCharcot-Marie-Tooth_disease\tAlzheimer's_disease\tbubonic_plague\themiplegia\trabies\tschizophreniform_disorder\toculopharyngeal_muscular_dystrophy\tlimb-girdle_muscular_dystrophy\tPick's_disease\tCreutzfeldt-Jakob_syndrome\tLewy_body_dementia\tcascade_stomach\tbeta_thalassemia\tphacogenic_glaucoma\tautistic_disorder\tHuntington's_disease\tneurodegenerative_disease\tdementia\tStiff-Person_syndrome\tDiamond-Blackfan_anemia\texfoliation_syndrome\tpolyneuropathy\tDown_syndrome\tParkinson's_disease\tspinocerebellar_ataxia\tcerebral_degeneration\tdisease_of_cellular_proliferation\tacrodysostosis\tpropionic_acidemia\tolivopontocerebellar_atrophy\tcholera\tdisease_of_mental_health\tcognitive_disorder\tcancer\tepilepsy_syndrome\tidiopathic_generalized_epilepsy\tanxiety_disorder\thepatitis_D\tfocal_epilepsy\ttransient_cerebral_ischemia\tsyndrome\tlateral_sclerosis\tmotor_neuron_disease\tpsychotic_disorder\tmotor_peripheral_neuropathy\tspinocerebellar_degeneration\tcerebellar_disease\tlong_QT_syndrome\tmembranoproliferative_glomerulonephritis\tastrocytoma\tmalignant_glioma\tnervous_system_cancer\tischemia\tvaccinia\tcentral_nervous_system_disease\tbipolar_disorder\tamyotrophic_lateral_sclerosis\tmood_disorder\ttemporal_lobe_epilepsy\tmucolipidosis\tconventional_central_osteosarcoma\ttoxic_encephalopathy\tpyruvate_decarboxylase_deficiency\tdifferentiating_neuroblastoma\tneuromuscular_disease\tmultiple_system_atrophy\tmovement_disease\tlung_adenoid_cystic_carcinoma\tneurotic_disorder\talcoholic_pancreatitis\tarteriolosclerosis\tschizophrenia\tperipheral_nervous_system_disease\tovarian_serous_cystadenocarcinoma\tparaplegia\tprion_disease\tgastric_pylorus_carcinoma\tprogressive_supranuclear_palsy\tbasal_ganglia_disease\ttauopathy\tmotor_neuritis\tdisease_of_anatomical_entity\taxonal_neuropathy\tchief_cell_adenoma\tepilepsy_with_generalized_tonic-clonic_s...\tC3_deficiency\tretinal_degeneration\tnervous_system_disease\tneuropathy\tamyloidosis\tatrophic_muscular_disease\tWiskott-Aldrich_syndrome\tamino_acid_metabolic_disorder\tfrontotemporal_dementia\tmaple_syrup_urine_disease\tmyopathy_of_extraocular_muscle\torbital_disease\tviral_infectious_disease\tbrain_disease\tencephalitis\tmuscular_dystrophy\t\r\n",
        "\r\n",
        "community\t6\tsize\t6\r\n",
        "Anno\tdisease_of_metabolism\tdisease_by_infectious_agent\tBrugada_syndrome\tlissencephaly\tCarney_complex\thereditary_sensory_neuropathy\t2-hydroxyglutaric_aciduria\tL-2-hydroxyglutaric_aciduria\tD-2-hydroxyglutaric_aciduria\tdistal_hereditary_motor_neuropathy\talternating_hemiplegia_of_childhood\torgan_system_cancer\tcell_type_cancer\telectroclinical_syndrome\tneonatoal_period_electroclinical_syndrom...\tinfancy_electroclinical_syndrome\tOhtahara_syndrome\t3-Methylcrotonyl-CoA_carboxylase_deficie...\tserine_deficiency\tcerebellar_ataxia\tadnexa_disease\tdevelopmental_disorder_of_mental_health\tspecific_developmental_disorder\tpervasive_developmental_disorder\tautism_spectrum_disorder\tperipheral_neuropathy\theavy_chain_disease\tdelta_chain_disease\torganic_acidemia\tbenign_familial_infantile_epilepsy\tgeneralized_epilepsy_with_febrile_seizur...\tfamilial_hemiplegic_migraine\tchromosomal_disease\tspina_bifida\tleukodystrophy\tintellectual_disability\tCharcot-Marie-Tooth_disease\tAlzheimer's_disease\tbubonic_plague\themiplegia\trabies\tschizophreniform_disorder\toculopharyngeal_muscular_dystrophy\tlimb-girdle_muscular_dystrophy\tPick's_disease\tCreutzfeldt-Jakob_syndrome\tLewy_body_dementia\tcascade_stomach\tbeta_thalassemia\tphacogenic_glaucoma\tautistic_disorder\tHuntington's_disease\tneurodegenerative_disease\tdementia\tStiff-Person_syndrome\tDiamond-Blackfan_anemia\texfoliation_syndrome\tpolyneuropathy\tDown_syndrome\tParkinson's_disease\tspinocerebellar_ataxia\tcerebral_degeneration\tdisease_of_cellular_proliferation\tacrodysostosis\tpropionic_acidemia\tolivopontocerebellar_atrophy\tcholera\tdisease_of_mental_health\tcognitive_disorder\tcancer\tepilepsy_syndrome\tidiopathic_generalized_epilepsy\tanxiety_disorder\thepatitis_D\tfocal_epilepsy\ttransient_cerebral_ischemia\tsyndrome\tlateral_sclerosis\tmotor_neuron_disease\tpsychotic_disorder\tmotor_peripheral_neuropathy\tspinocerebellar_degeneration\tcerebellar_disease\tlong_QT_syndrome\tmembranoproliferative_glomerulonephritis\tastrocytoma\tmalignant_glioma\tnervous_system_cancer\tischemia\tvaccinia\tcentral_nervous_system_disease\tbipolar_disorder\tamyotrophic_lateral_sclerosis\tmood_disorder\ttemporal_lobe_epilepsy\tmucolipidosis\tconventional_central_osteosarcoma\ttoxic_encephalopathy\tpyruvate_decarboxylase_deficiency\tdifferentiating_neuroblastoma\tneuromuscular_disease\tmultiple_system_atrophy\tmovement_disease\tlung_adenoid_cystic_carcinoma\tneurotic_disorder\talcoholic_pancreatitis\tarteriolosclerosis\tschizophrenia\tperipheral_nervous_system_disease\tovarian_serous_cystadenocarcinoma\tparaplegia\tprion_disease\tgastric_pylorus_carcinoma\tprogressive_supranuclear_palsy\tbasal_ganglia_disease\ttauopathy\tmotor_neuritis\tdisease_of_anatomical_entity\taxonal_neuropathy\tchief_cell_adenoma\tepilepsy_with_generalized_tonic-clonic_s...\tC3_deficiency\tretinal_degeneration\tnervous_system_disease\tneuropathy\tamyloidosis\tatrophic_muscular_disease\tWiskott-Aldrich_syndrome\tamino_acid_metabolic_disorder\tfrontotemporal_dementia\tmaple_syrup_urine_disease\tmyopathy_of_extraocular_muscle\torbital_disease\tviral_infectious_disease\tbrain_disease\tencephalitis\tmuscular_dystrophy\t\r\n",
        "\r\n"
       ]
      }
     ],
     "prompt_number": 87
    }
   ],
   "metadata": {}
  }
 ]
}