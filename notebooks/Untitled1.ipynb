{
 "metadata": {
  "name": "",
  "signature": "sha256:28dab0e70dac20e0d8d4a5fcecf2519a5b04a072bb32cfd0d1a65a510acb19b5"
 },
 "nbformat": 3,
 "nbformat_minor": 0,
 "worksheets": []
}