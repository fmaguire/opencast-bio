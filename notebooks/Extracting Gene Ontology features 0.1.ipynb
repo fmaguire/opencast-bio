{
 "metadata": {
  "name": "",
  "signature": "sha256:9ec48db88181a076578792db45d5bf2cb5f0a6040bd5e9ab9b18300eafb31a17"
 },
 "nbformat": 3,
 "nbformat_minor": 0,
 "worksheets": [
  {
   "cells": [
    {
     "cell_type": "markdown",
     "metadata": {},
     "source": [
      "Using the Gene Ontology to generate features for protein interaction prediction was used by [Qi][qiweb].\n",
      "For each annotation a gene has in the Gene Ontology database it can be compared with the other gene in it's pair and if they share it the feature is 1, otherwise it is 0.\n",
      "To do this processing, however, first the annotations for each gene must be obtained from databases online.\n",
      "It appears that the [Entrez gene database's original paper][genepaper] reports that it contains Gene ontology information so all that's required is to use Biopython to query this database.\n",
      "\n",
      "## [Annotating Gene IDs with Biopython][annotatecookbook]\n",
      "\n",
      "The following code is taken from the [Biopython tutorial and cookbook][annotatecookbook].\n",
      "\n",
      "[qiweb]: http://www.cs.cmu.edu/%7Eqyj/papers_sulp/proteins05_pages/features.html\n",
      "[genepaper]: http://www.ncbi.nlm.nih.gov/pmc/articles/PMC3013746/\n",
      "[annotatecookbook]: http://biopython.org/wiki/Annotate_Entrez_Gene_IDs"
     ]
    },
    {
     "cell_type": "code",
     "collapsed": false,
     "input": [
      "import sys\n",
      " \n",
      "from Bio import Entrez\n",
      " \n",
      "# *Always* tell NCBI who you are\n",
      "Entrez.email = \"gavingray1729@gmail.com\"\n",
      " \n",
      "def retrieve_annotation(id_list):\n",
      " \n",
      "    \"\"\"Annotates Entrez Gene IDs using Bio.Entrez, in particular epost (to\n",
      "    submit the data to NCBI) and esummary to retrieve the information. \n",
      "    Returns a list of dictionaries with the annotations.\"\"\"\n",
      " \n",
      "    request = Entrez.epost(\"gene\",id=\",\".join(id_list))\n",
      "    try:\n",
      "        result = Entrez.read(request)\n",
      "    except RuntimeError as e:\n",
      "        #FIXME: How generate NAs instead of causing an error with invalid IDs?\n",
      "        print \"An error occurred while retrieving the annotations.\"\n",
      "        print \"The error returned was %s\" % e\n",
      "        sys.exit(-1)\n",
      " \n",
      "    webEnv = result[\"WebEnv\"]\n",
      "    queryKey = result[\"QueryKey\"]\n",
      "    data = Entrez.esummary(db=\"gene\", webenv=webEnv, query_key =\n",
      "            queryKey)\n",
      "    annotations = Entrez.read(data)\n",
      " \n",
      "    print \"Retrieved %d annotations for %d genes\" % (len(annotations),\n",
      "            len(id_list))\n",
      " \n",
      "    return annotations"
     ],
     "language": "python",
     "metadata": {},
     "outputs": [],
     "prompt_number": 2
    },
    {
     "cell_type": "markdown",
     "metadata": {},
     "source": [
      "Trying this out with some arbitrary gene ID:"
     ]
    },
    {
     "cell_type": "code",
     "collapsed": false,
     "input": [
      "cd /home/gavin/Documents/MRes/DIP/human/"
     ],
     "language": "python",
     "metadata": {},
     "outputs": [
      {
       "output_type": "stream",
       "stream": "stdout",
       "text": [
        "/home/gavin/Documents/MRes/DIP/human\n"
       ]
      }
     ],
     "prompt_number": 3
    },
    {
     "cell_type": "code",
     "collapsed": false,
     "input": [
      "import csv"
     ],
     "language": "python",
     "metadata": {},
     "outputs": [],
     "prompt_number": 4
    },
    {
     "cell_type": "code",
     "collapsed": false,
     "input": [
      "ls"
     ],
     "language": "python",
     "metadata": {},
     "outputs": [
      {
       "output_type": "stream",
       "stream": "stdout",
       "text": [
        "\u001b[0m\u001b[40m\u001b[m\u001b[00mDIPtouniprot.tab\u001b[0m  \u001b[40m\u001b[m\u001b[00mflat.Entrez.txt\u001b[0m   \u001b[40m\u001b[m\u001b[00mHsapi20140427.txt\u001b[0m    \u001b[40m\u001b[m\u001b[00minteracting.Entrez.txt\u001b[0m   \u001b[40m\u001b[m\u001b[00mtraining.negative.Entrez.txt\u001b[0m          \u001b[40m\u001b[m\u001b[00mtraining.nolabel.positive.Entrez.txt\u001b[0m  \u001b[40m\u001b[m\u001b[00muniprottoEntrez.tab\u001b[0m\r\n",
        "\u001b[40m\u001b[m\u001b[00mflat.DIP.txt\u001b[0m      \u001b[40m\u001b[m\u001b[00mflat.uniprot.txt\u001b[0m  \u001b[40m\u001b[m\u001b[00minteracting.DIP.txt\u001b[0m  \u001b[40m\u001b[m\u001b[00minteracting.uniprot.txt\u001b[0m  \u001b[40m\u001b[m\u001b[00mtraining.nolabel.negative.Entrez.txt\u001b[0m  \u001b[40m\u001b[m\u001b[00mtraining.positive.Entrez.txt\u001b[0m\r\n"
       ]
      }
     ],
     "prompt_number": 5
    },
    {
     "cell_type": "code",
     "collapsed": false,
     "input": [
      "dipids = list(flatten(csv.reader(open(\"flat.Entrez.txt\"))))"
     ],
     "language": "python",
     "metadata": {},
     "outputs": [],
     "prompt_number": 6
    },
    {
     "cell_type": "markdown",
     "metadata": {},
     "source": [
      "Testing for the first of these:"
     ]
    },
    {
     "cell_type": "code",
     "collapsed": false,
     "input": [
      "annotation1 = retrieve_annotation(dipids[0])"
     ],
     "language": "python",
     "metadata": {},
     "outputs": [
      {
       "output_type": "stream",
       "stream": "stdout",
       "text": [
        "Retrieved 4 annotations for 4 genes\n"
       ]
      }
     ],
     "prompt_number": 7
    },
    {
     "cell_type": "markdown",
     "metadata": {},
     "source": [
      "Ok, so why is it retrieving for annotations for a single gene identifier?\n",
      "Surely it should only retrieve one annotation?\n",
      "Looking at these annotations using another function from the cookbook:"
     ]
    },
    {
     "cell_type": "code",
     "collapsed": false,
     "input": [
      "def print_data(annotation):\n",
      "    for gene_data in annotation:\n",
      "        gene_id = gene_data[\"Id\"]\n",
      "        gene_symbol = gene_data[\"NomenclatureSymbol\"]\n",
      "        gene_name = gene_data[\"Description\"]\n",
      "        print \"ID: %s - Gene Symbol: %s - Gene Name: %s\" % (gene_id, gene_symbol, gene_name)"
     ],
     "language": "python",
     "metadata": {},
     "outputs": [],
     "prompt_number": 8
    },
    {
     "cell_type": "code",
     "collapsed": false,
     "input": [
      "print_data(annotation1)"
     ],
     "language": "python",
     "metadata": {},
     "outputs": [
      {
       "output_type": "stream",
       "stream": "stdout",
       "text": [
        "ID: 6 - Gene Symbol:  - Gene Name: adenovirus-12 chromosome modification site 1B\n",
        "ID: 3 - Gene Symbol: A2MP1 - Gene Name: alpha-2-macroglobulin pseudogene 1\n",
        "ID: 6 - Gene Symbol:  - Gene Name: adenovirus-12 chromosome modification site 1B\n",
        "ID: 7 - Gene Symbol:  - Gene Name: adenovirus-12 chromosome modification site 17\n"
       ]
      }
     ],
     "prompt_number": 9
    },
    {
     "cell_type": "markdown",
     "metadata": {},
     "source": [
      "Looks like it's not expecting a string, maybe it expects a list?"
     ]
    },
    {
     "cell_type": "code",
     "collapsed": false,
     "input": [
      "annotation1 = retrieve_annotation([dipids[0]])"
     ],
     "language": "python",
     "metadata": {},
     "outputs": [
      {
       "output_type": "stream",
       "stream": "stdout",
       "text": [
        "Retrieved 1 annotations for 1 genes\n"
       ]
      }
     ],
     "prompt_number": 10
    },
    {
     "cell_type": "code",
     "collapsed": false,
     "input": [
      "print_data(annotation1)"
     ],
     "language": "python",
     "metadata": {},
     "outputs": [
      {
       "output_type": "stream",
       "stream": "stdout",
       "text": [
        "ID: 6367 - Gene Symbol: CCL22 - Gene Name: chemokine (C-C motif) ligand 22\n"
       ]
      }
     ],
     "prompt_number": 11
    },
    {
     "cell_type": "markdown",
     "metadata": {},
     "source": [
      "Writing my own function to print out everything nicely:"
     ]
    },
    {
     "cell_type": "code",
     "collapsed": false,
     "input": [
      "def print_data_all(annotation):\n",
      "    for a in annotation:\n",
      "        for k in a.keys():\n",
      "            print k+\" : \"+\"%s\"%a[k]\n",
      "    return None"
     ],
     "language": "python",
     "metadata": {},
     "outputs": [],
     "prompt_number": 12
    },
    {
     "cell_type": "code",
     "collapsed": false,
     "input": [
      "print_data_all(annotation1)"
     ],
     "language": "python",
     "metadata": {},
     "outputs": [
      {
       "output_type": "stream",
       "stream": "stdout",
       "text": [
        "Mim : [602957]\n",
        "Orgname : Homo sapiens\n",
        "TaxID : 9606\n",
        "GeneWeight : 11556\n",
        "GeneticSource : genomic\n",
        "ChrSort : 16\n",
        "Status : 0\n",
        "OtherDesignations : C-C motif chemokine 22|CC chemokine STCP-1|MDC(1-69)|macrophage-derived chemokine|small inducible cytokine A22|small inducible cytokine subfamily A (Cys-Cys), member 22|small-inducible cytokine A22|stimulated T cell chemotactic protein 1|stimulated T-cell chemotactic protein 1\n",
        "Description : chemokine (C-C motif) ligand 22\n",
        "CurrentID : 0\n",
        "GenomicInfo : [{'ChrAccVer': 'NC_000016.10', 'ChrLoc': '16', 'ExonCount': 3, 'ChrStop': 57366189, 'ChrStart': 57358782}]\n",
        "NomenclatureName : chemokine (C-C motif) ligand 22\n",
        "NomenclatureSymbol : CCL22\n",
        "Name : CCL22\n",
        "Summary : This gene is one of several Cys-Cys (CC) cytokine genes clustered on the q arm of chromosome 16. Cytokines are a family of secreted proteins involved in immunoregulatory and inflammatory processes. The CC cytokines are proteins characterized by two adjacent cysteines. The cytokine encoded by this gene displays chemotactic activity for monocytes, dendritic cells, natural killer cells and for chronically activated T lymphocytes. It also displays a mild activity for primary activated T lymphocytes and has no chemoattractant activity for neutrophils, eosinophils and resting T lymphocytes. The product of this gene binds to chemokine receptor CCR4. This chemokine may play a role in the trafficking of activated T lymphocytes to inflammatory sites and other aspects of activated T lymphocyte physiology. [provided by RefSeq, Jul 2008]\n",
        "Item : []\n",
        "ChrStart : 57358782\n",
        "NomenclatureStatus : Official\n",
        "OtherAliases : A-152E5.1, ABCD-1, DC/B-CK, MDC, SCYA22, STCP-1\n",
        "MapLocation : 16q13\n",
        "Id : 6367\n",
        "Chromosome : 16\n"
       ]
      }
     ],
     "prompt_number": 13
    },
    {
     "cell_type": "markdown",
     "metadata": {},
     "source": [
      "Interesting, but don't see anything called \"Gene Ontology\" unfortunately.\n",
      "Must be integrated into here somewhere but I don't really understand where.\n",
      "\n",
      "------------------------------------------------------\n",
      "\n",
      "## Mapping to Gene Ontology identifiers\n",
      "\n",
      "Using a flat file from NBCI on [this ftp server][gene2] can map an Entrez ID to a number of GO IDs:\n",
      "\n",
      "[gene2]: ftp://ftp.ncbi.nlm.nih.gov/gene/DATA/"
     ]
    },
    {
     "cell_type": "code",
     "collapsed": false,
     "input": [
      "cd /home/gavin/Documents/MRes/geneconversion/"
     ],
     "language": "python",
     "metadata": {},
     "outputs": [
      {
       "output_type": "stream",
       "stream": "stdout",
       "text": [
        "/home/gavin/Documents/MRes/geneconversion\n"
       ]
      }
     ],
     "prompt_number": 14
    },
    {
     "cell_type": "code",
     "collapsed": false,
     "input": [
      "# read through this file and make a list of GO IDs for the example gene chosen above\n",
      "c = csv.reader(open(\"gene2go\"), delimiter=\"\\t\")\n",
      "c.next()\n",
      "examplelist=[]\n",
      "for l in c:\n",
      "    if l[1]==dipids[0]:\n",
      "        examplelist.append(l[2])"
     ],
     "language": "python",
     "metadata": {},
     "outputs": [],
     "prompt_number": 15
    },
    {
     "cell_type": "code",
     "collapsed": false,
     "input": [
      "print examplelist"
     ],
     "language": "python",
     "metadata": {},
     "outputs": [
      {
       "output_type": "stream",
       "stream": "stdout",
       "text": [
        "['GO:0005576', 'GO:0005615', 'GO:0006935', 'GO:0006954', 'GO:0006955', 'GO:0007165', 'GO:0007267', 'GO:0008009', 'GO:0009615', 'GO:0060326', 'GO:0060326']\n"
       ]
      }
     ],
     "prompt_number": 16
    },
    {
     "cell_type": "code",
     "collapsed": false,
     "input": [
      "import goatools"
     ],
     "language": "python",
     "metadata": {},
     "outputs": [],
     "prompt_number": 17
    },
    {
     "cell_type": "markdown",
     "metadata": {},
     "source": [
      "Then we can parse the obo file [obtained from here][goobo].\n",
      "\n",
      "[goobo]: http://www.geneontology.org/ontology/obo_format_1_2/gene_ontology.1_2.obo"
     ]
    },
    {
     "cell_type": "code",
     "collapsed": false,
     "input": [
      "cd /home/gavin/Documents/MRes/geneontology/"
     ],
     "language": "python",
     "metadata": {},
     "outputs": [
      {
       "output_type": "stream",
       "stream": "stdout",
       "text": [
        "/home/gavin/Documents/MRes/geneontology\n"
       ]
      }
     ],
     "prompt_number": 18
    },
    {
     "cell_type": "code",
     "collapsed": false,
     "input": [
      "ls"
     ],
     "language": "python",
     "metadata": {},
     "outputs": [
      {
       "output_type": "stream",
       "stream": "stdout",
       "text": [
        "\u001b[0m\u001b[40m\u001b[m\u001b[00mgene_ontology.1_2.obo\u001b[0m\r\n"
       ]
      }
     ],
     "prompt_number": 19
    },
    {
     "cell_type": "code",
     "collapsed": false,
     "input": [
      "parsedobo = goatools.obo_parser.GODag('gene_ontology.1_2.obo')"
     ],
     "language": "python",
     "metadata": {},
     "outputs": [
      {
       "output_type": "stream",
       "stream": "stderr",
       "text": [
        "load obo file gene_ontology.1_2.obo\n",
        "42995"
       ]
      },
      {
       "output_type": "stream",
       "stream": "stderr",
       "text": [
        " nodes imported\n"
       ]
      }
     ],
     "prompt_number": 25
    },
    {
     "cell_type": "code",
     "collapsed": false,
     "input": [
      "for i in examplelist:\n",
      "    print parsedobo[i].namespace\n",
      "    print parsedobo[i].name\n",
      "    print \" \""
     ],
     "language": "python",
     "metadata": {},
     "outputs": [
      {
       "output_type": "stream",
       "stream": "stdout",
       "text": [
        "cellular_component\n",
        "extracellular region\n",
        " \n",
        "cellular_component\n",
        "extracellular space\n",
        " \n",
        "biological_process\n",
        "chemotaxis\n",
        " \n",
        "biological_process\n",
        "inflammatory response\n",
        " \n",
        "biological_process\n",
        "immune response\n",
        " \n",
        "biological_process\n",
        "signal transduction\n",
        " \n",
        "biological_process\n",
        "cell-cell signaling\n",
        " \n",
        "molecular_function\n",
        "chemokine activity\n",
        " \n",
        "biological_process\n",
        "response to virus\n",
        " \n",
        "biological_process\n",
        "cell chemotaxis\n",
        " \n",
        "biological_process\n",
        "cell chemotaxis\n",
        " \n"
       ]
      }
     ],
     "prompt_number": 33
    },
    {
     "cell_type": "code",
     "collapsed": false,
     "input": [
      "dir(parsedobo[id1])"
     ],
     "language": "python",
     "metadata": {},
     "outputs": [
      {
       "metadata": {},
       "output_type": "pyout",
       "prompt_number": 29,
       "text": [
        "['__doc__',\n",
        " '__init__',\n",
        " '__module__',\n",
        " '__repr__',\n",
        " '__str__',\n",
        " '_parents',\n",
        " 'alt_ids',\n",
        " 'children',\n",
        " 'get_all_child_edges',\n",
        " 'get_all_children',\n",
        " 'get_all_parent_edges',\n",
        " 'get_all_parents',\n",
        " 'has_child',\n",
        " 'has_parent',\n",
        " 'id',\n",
        " 'is_obsolete',\n",
        " 'level',\n",
        " 'name',\n",
        " 'namespace',\n",
        " 'parents']"
       ]
      }
     ],
     "prompt_number": 29
    },
    {
     "cell_type": "markdown",
     "metadata": {},
     "source": [
      "So I can retrieve these annotations for arbitrary Entrez IDs.\n",
      "Should then be able to generate the database from this conversion table, using all the gene IDs available in it.\n",
      "I guess the question then is, how many IDs are in it?"
     ]
    },
    {
     "cell_type": "code",
     "collapsed": false,
     "input": [
      "cd /home/gavin/Documents/MRes/geneconversion/"
     ],
     "language": "python",
     "metadata": {},
     "outputs": [
      {
       "output_type": "stream",
       "stream": "stdout",
       "text": [
        "/home/gavin/Documents/MRes/geneconversion\n"
       ]
      }
     ],
     "prompt_number": 35
    },
    {
     "cell_type": "code",
     "collapsed": false,
     "input": [
      "# read through this file and make a list of GO IDs for the example gene chosen above\n",
      "c = csv.reader(open(\"gene2go\"), delimiter=\"\\t\")\n",
      "c.next()\n",
      "#take second column and make it a set\n",
      "EntrezIDs = set(zip(*list(c))[1])"
     ],
     "language": "python",
     "metadata": {},
     "outputs": [],
     "prompt_number": 36
    },
    {
     "cell_type": "code",
     "collapsed": false,
     "input": [
      "import scipy.misc"
     ],
     "language": "python",
     "metadata": {},
     "outputs": [],
     "prompt_number": 41
    },
    {
     "cell_type": "code",
     "collapsed": false,
     "input": [
      "print \"Number of Entrez IDs in the gene2go table: %i\"%(len(EntrezIDs))\n",
      "print \"Number of binary combinations of these genes: %i\"%(scipy.misc.comb(len(EntrezIDs),2))"
     ],
     "language": "python",
     "metadata": {},
     "outputs": [
      {
       "output_type": "stream",
       "stream": "stdout",
       "text": [
        "Number of Entrez IDs in the gene2go table: 215328\n",
        "Number of binary combinations of these genes: 23182966128\n"
       ]
      }
     ],
     "prompt_number": 43
    },
    {
     "cell_type": "markdown",
     "metadata": {},
     "source": [
      "So the resulting database will have 23 billion keys?\n",
      "Could cause problems, but will continue and see if it does."
     ]
    }
   ],
   "metadata": {}
  }
 ]
}