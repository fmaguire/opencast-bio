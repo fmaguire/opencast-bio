{
 "metadata": {
  "name": "",
  "signature": "sha256:bb3007de39b7cebccd360aedbcfe3639b15adc1d55a5b70bfd3d266feb87c9df"
 },
 "nbformat": 3,
 "nbformat_minor": 0,
 "worksheets": [
  {
   "cells": [
    {
     "cell_type": "markdown",
     "metadata": {},
     "source": [
      "# Loading the training and test set\n",
      "\n",
      "The first step is to load the training and set that was saved when running the [Training and test feature set generation notebook][genotes].\n",
      "\n",
      "[genotes]: http://nbviewer.ipython.org/github/ggray1729/opencast-bio/blob/master/notebooks/Training%20and%20test%20featureset%20generation.ipynb"
     ]
    },
    {
     "cell_type": "code",
     "collapsed": false,
     "input": [
      "cd ../../features/"
     ],
     "language": "python",
     "metadata": {},
     "outputs": [
      {
       "output_type": "stream",
       "stream": "stdout",
       "text": [
        "/data/opencast/MRes/features\n"
       ]
      }
     ],
     "prompt_number": 1
    },
    {
     "cell_type": "code",
     "collapsed": false,
     "input": [
      "posdata = loadtxt(\"training.HIPPIE.positive.Entrez.vectors.txt\", delimiter=\"\\t\", dtype=\"str\")"
     ],
     "language": "python",
     "metadata": {},
     "outputs": [],
     "prompt_number": 3
    },
    {
     "cell_type": "markdown",
     "metadata": {},
     "source": [
      "Training with the full negative set is impossible on this computer, it is unable to load the file into RAM.\n",
      "To get around this, can use a negative training set only 10 times larger than the positive training set:"
     ]
    },
    {
     "cell_type": "code",
     "collapsed": false,
     "input": [
      "negdata = loadtxt(\"training.HIPPIE.negative.Entrez.vectors.txt\", delimiter=\"\\t\", dtype=\"str\")"
     ],
     "language": "python",
     "metadata": {},
     "outputs": [],
     "prompt_number": 4
    },
    {
     "cell_type": "markdown",
     "metadata": {},
     "source": [
      "Then we need to process out the \"missing\" label strings and the numerical values should be converted to floats.\n",
      "Also, column 101 must be deleted as it contains string class labels from the ENTS classifier of unknown origin.\n",
      "More information about this can be found in the [previous version of this notebook][prev].\n",
      "\n",
      "[prev]: http://nbviewer.ipython.org/github/ggray1729/opencast-bio/blob/dfc5b8c682e835b733ca671c80f4636ba7ad7081/notebooks/Classifier%20Training.ipynb"
     ]
    },
    {
     "cell_type": "code",
     "collapsed": false,
     "input": [
      "X = np.concatenate((posdata,negdata))"
     ],
     "language": "python",
     "metadata": {},
     "outputs": [],
     "prompt_number": 5
    },
    {
     "cell_type": "code",
     "collapsed": false,
     "input": [
      "plottablerows = X==\"missing\"\n",
      "plottablerows = where(plottablerows.max(axis=1)==False)"
     ],
     "language": "python",
     "metadata": {},
     "outputs": [],
     "prompt_number": 6
    },
    {
     "cell_type": "markdown",
     "metadata": {},
     "source": [
      "Unfortunately, some \"NA\" strings have sneaked in somehow, so we will have to zero these. Appears to be due to a feature in Gene_Ontology:"
     ]
    },
    {
     "cell_type": "code",
     "collapsed": false,
     "input": [
      "NAinds = where(X==\"NA\")"
     ],
     "language": "python",
     "metadata": {},
     "outputs": [],
     "prompt_number": 9
    },
    {
     "cell_type": "code",
     "collapsed": false,
     "input": [
      "X[NAinds] = 0.0"
     ],
     "language": "python",
     "metadata": {},
     "outputs": [],
     "prompt_number": 10
    },
    {
     "cell_type": "code",
     "collapsed": false,
     "input": [
      "X[X==\"missing\"] = np.nan\n",
      "X = X.astype(np.float)"
     ],
     "language": "python",
     "metadata": {},
     "outputs": [],
     "prompt_number": 11
    },
    {
     "cell_type": "markdown",
     "metadata": {},
     "source": [
      "Finally we can create the target vector y from what we know about the lengths of the positive and negative sets:"
     ]
    },
    {
     "cell_type": "code",
     "collapsed": false,
     "input": [
      "#create the target y vector\n",
      "y = array([1]*len(posdata)+[0]*len(negdata))"
     ],
     "language": "python",
     "metadata": {},
     "outputs": [],
     "prompt_number": 12
    },
    {
     "cell_type": "markdown",
     "metadata": {},
     "source": [
      "# Feature Selection\n",
      "\n",
      "We can investigate which features are likely to be useful in a number of ways.\n",
      "This is covered in the Scikit-learn [documentation][].\n",
      "\n",
      "\n",
      "[documentation]: http://scikit-learn.org/stable/modules/feature_selection.html"
     ]
    },
    {
     "cell_type": "code",
     "collapsed": false,
     "input": [
      "import sklearn.metrics"
     ],
     "language": "python",
     "metadata": {},
     "outputs": [],
     "prompt_number": 15
    },
    {
     "cell_type": "code",
     "collapsed": false,
     "input": [
      "#for normalisation\n",
      "maxes = amax(abs(X),axis=0) + 1e-14"
     ],
     "language": "python",
     "metadata": {},
     "outputs": [],
     "prompt_number": 25
    },
    {
     "cell_type": "code",
     "collapsed": false,
     "input": [
      "mutualinfo = map(lambda x: sklearn.metrics.mutual_info_score(X[:,x]/maxes[x],y), range(222))"
     ],
     "language": "python",
     "metadata": {},
     "outputs": [],
     "prompt_number": 27
    },
    {
     "cell_type": "code",
     "collapsed": false,
     "input": [
      "plot(mutualinfo)"
     ],
     "language": "python",
     "metadata": {},
     "outputs": [
      {
       "metadata": {},
       "output_type": "pyout",
       "prompt_number": 28,
       "text": [
        "[<matplotlib.lines.Line2D at 0x516461fd0>]"
       ]
      },
      {
       "metadata": {},
       "output_type": "display_data",
       "png": "[encoded data removed]",
       "text": [
        "<matplotlib.figure.Figure at 0x516506fd0>"
       ]
      }
     ],
     "prompt_number": 28
    },
    {
     "cell_type": "markdown",
     "metadata": {},
     "source": [
      "# Choosing a classifier\n",
      "\n",
      "Each classifier will be tested in the following ways over :\n",
      "\n",
      "* Mean accuracy\n",
      "* Combined ROC curves\n",
      "    * AUC values\n",
      "    * Partial AUC values\n",
      "* Combined Precision vs. Recall curves\n",
      "* Informational loss function\n",
      "* Quadratic loss function\n",
      "* Kappa test?\n",
      "\n",
      "The importance of different features will also be tested through elimination and repeating the tests above.\n",
      "\n",
      "Finally, a sanity check looking at the model's prediction for some well-known protein interactions is the final test.\n",
      "\n",
      "## Logistic Regression\n",
      "\n",
      "Logistic regression is a simple classifier which uses a linear transformation of the input variables through a sigmoid function."
     ]
    },
    {
     "cell_type": "code",
     "collapsed": false,
     "input": [
      "cd tmp/"
     ],
     "language": "python",
     "metadata": {},
     "outputs": [
      {
       "output_type": "stream",
       "stream": "stdout",
       "text": [
        "/data/opencast/MRes/features/tmp\n"
       ]
      }
     ],
     "prompt_number": 48
    },
    {
     "cell_type": "code",
     "collapsed": false,
     "input": [
      "import sklearn.linear_model"
     ],
     "language": "python",
     "metadata": {},
     "outputs": [],
     "prompt_number": 49
    },
    {
     "cell_type": "code",
     "collapsed": false,
     "input": [
      "import sys, os\n",
      "sys.path.append(os.path.abspath(\"../../opencast-bio/\"))"
     ],
     "language": "python",
     "metadata": {},
     "outputs": [],
     "prompt_number": 55
    },
    {
     "cell_type": "code",
     "collapsed": false,
     "input": [
      "import ocbio.model_selection, ocbio.mmap_utils\n",
      "reload(ocbio.model_selection)\n",
      "reload(ocbio.mmap_utils)"
     ],
     "language": "python",
     "metadata": {},
     "outputs": [
      {
       "metadata": {},
       "output_type": "pyout",
       "prompt_number": 384,
       "text": [
        "<module 'ocbio.mmap_utils' from '/data/opencast/MRes/opencast-bio/ocbio/mmap_utils.pyc'>"
       ]
      }
     ],
     "prompt_number": 384
    },
    {
     "cell_type": "code",
     "collapsed": false,
     "input": [
      "#initialise load balanced distributed processing\n",
      "lb_view = client.load_balanced_view()"
     ],
     "language": "python",
     "metadata": {},
     "outputs": [],
     "prompt_number": 278
    },
    {
     "cell_type": "markdown",
     "metadata": {},
     "source": [
      "### Defining pipeline\n",
      "\n",
      "We have to define a pipeline for the data to include two transformations for the data:\n",
      "\n",
      "* Imputing missing values\n",
      "* Standard scaling of the feature vectors\n",
      "\n",
      "Both of these are built in operations of Scikit-learn.\n",
      "And they can be easily integrated to a pipeline in Scikit-learn."
     ]
    },
    {
     "cell_type": "code",
     "collapsed": false,
     "input": [
      "import sklearn.pipeline, sklearn.preprocessing"
     ],
     "language": "python",
     "metadata": {},
     "outputs": [],
     "prompt_number": 180
    },
    {
     "cell_type": "code",
     "collapsed": false,
     "input": [
      "imputer = sklearn.preprocessing.Imputer(strategy='mean',missing_values=\"NaN\")\n",
      "scaler = sklearn.preprocessing.StandardScaler()\n",
      "classifier = sklearn.linear_model.LogisticRegression()\n",
      "model = sklearn.pipeline.Pipeline([('imp',imputer),('scl',scaler),('cls',classifier)])"
     ],
     "language": "python",
     "metadata": {},
     "outputs": [],
     "prompt_number": 183
    },
    {
     "cell_type": "markdown",
     "metadata": {},
     "source": [
      "### Running parallel grid search"
     ]
    },
    {
     "cell_type": "code",
     "collapsed": false,
     "input": [
      "#make sure the processors aren't busy doing anything else:\n",
      "lb_view.abort()\n",
      "#initialise parameters to test:\n",
      "lr_params = {\n",
      "'cls__C':logspace(-2,1,5)\n",
      "}"
     ],
     "language": "python",
     "metadata": {},
     "outputs": [],
     "prompt_number": 310
    },
    {
     "cell_type": "code",
     "collapsed": false,
     "input": [
      "#initialise mmaped data\n",
      "split_filenames = ocbio.mmap_utils.persist_cv_splits(X,y, test_size=10000, train_size=40000,\n",
      "                                                     n_cv_iter=3, name='testfeatures',random_state=42)"
     ],
     "language": "python",
     "metadata": {},
     "outputs": [],
     "prompt_number": 311
    },
    {
     "cell_type": "code",
     "collapsed": false,
     "input": [
      "#initialise and start run\n",
      "search = ocbio.model_selection.RandomizedGridSeach(lb_view)\n",
      "search.launch_for_splits(model,lr_params,split_filenames)"
     ],
     "language": "python",
     "metadata": {},
     "outputs": [
      {
       "metadata": {},
       "output_type": "pyout",
       "prompt_number": 312,
       "text": [
        "Progress: 00% (000/015)"
       ]
      }
     ],
     "prompt_number": 312
    },
    {
     "cell_type": "code",
     "collapsed": false,
     "input": [
      "print search.report()"
     ],
     "language": "python",
     "metadata": {},
     "outputs": [
      {
       "output_type": "stream",
       "stream": "stdout",
       "text": [
        "Progress: 100% (015/015)\n",
        "\n",
        "Rank 1: validation: 0.99960 (+/-0.00006) train: 0.99974 (+/-0.00010):\n",
        " {'cls__C': 0.31622776601683794}\n",
        "Rank 2: validation: 0.99960 (+/-0.00006) train: 0.99969 (+/-0.00010):\n",
        " {'cls__C': 0.056234132519034911}\n",
        "Rank 3: validation: 0.99960 (+/-0.00006) train: 0.99962 (+/-0.00010):\n",
        " {'cls__C': 0.01}\n",
        "Rank 4: validation: 0.99950 (+/-0.00000) train: 0.99979 (+/-0.00010):\n",
        " {'cls__C': 1.7782794100389228}\n",
        "Rank 5: validation: 0.99947 (+/-0.00003) train: 0.99980 (+/-0.00010):\n",
        " {'cls__C': 10.0}\n"
       ]
      }
     ],
     "prompt_number": 329
    },
    {
     "cell_type": "markdown",
     "metadata": {},
     "source": [
      "The model is underfitting here, as the score on the training data is not 1.0.\n",
      "Also, with this data only one in every 600 examples will be positive therefore the expected accuracy of a classifier that only predicts zeros is:\n",
      "\n",
      "$$\n",
      "1 - \\frac{1}{600} = \\frac{599}{600} = 0.998(3)\n",
      "$$\n",
      "\n",
      "So this model is only slightly outperforming the hypothetical all zeros classifier.\n",
      "\n",
      "We can implement this all zeros classifier and use it to create a comparative measure to make it easier to discriminate between classifiers."
     ]
    },
    {
     "cell_type": "code",
     "collapsed": false,
     "input": [
      "print search.find_bests()"
     ],
     "language": "python",
     "metadata": {},
     "outputs": [
      {
       "output_type": "stream",
       "stream": "stdout",
       "text": [
        "[(0.99960000000000004, 5.7735026918956222e-05, 0.99974166666666664, 0.00010240171439535662, {'cls__C': 0.31622776601683794}), (0.99960000000000004, 5.7735026918956222e-05, 0.99969166666666665, 0.00010240171439535662, {'cls__C': 0.056234132519034911}), (0.99960000000000004, 5.7735026918956222e-05, 0.99962499999999999, 0.00010408329997329517, {'cls__C': 0.01}), (0.99949999999999994, 7.8504622934188746e-17, 0.99979166666666675, 0.00010240171439535662, {'cls__C': 1.7782794100389228}), (0.99946666666666673, 3.3333333333366674e-05, 0.99980000000000002, 0.00010408329997329517, {'cls__C': 10.0})]\n"
       ]
      }
     ],
     "prompt_number": 330
    },
    {
     "cell_type": "code",
     "collapsed": false,
     "input": [
      "import sklearn.dummy"
     ],
     "language": "python",
     "metadata": {},
     "outputs": [],
     "prompt_number": 331
    },
    {
     "cell_type": "code",
     "collapsed": false,
     "input": [
      "def dummycompare(X,y,train,test,best_score):\n",
      "    dummy = sklearn.dummy.DummyClassifier(strategy=\"most_frequent\")\n",
      "    dummy.fit(imputer.fit_transform(X[train]),y[train])\n",
      "    score = dummy.score(imputer.fit_transform(X[test]),y[test])\n",
      "    if score > best_score:\n",
      "        return 0.0\n",
      "    else:\n",
      "        #using a logit function here on a biased and scaled best score\n",
      "        best_score = (best_score-score)*(1.0/(1.0-score))\n",
      "        return best_score,log(best_score/(1.0-best_score))"
     ],
     "language": "python",
     "metadata": {},
     "outputs": [],
     "prompt_number": 451
    },
    {
     "cell_type": "code",
     "collapsed": false,
     "input": [
      "results = np.zeros([5,2])\n",
      "for i,(train,test) in enumerate(sklearn.cross_validation.StratifiedShuffleSplit(y,n_iter=5,\n",
      "                                                                  test_size=10000, train_size=40000)):\n",
      "    results[i,:] = dummycompare(X,y,train,test,search.find_bests()[0][0])"
     ],
     "language": "python",
     "metadata": {},
     "outputs": [],
     "prompt_number": 353
    },
    {
     "cell_type": "code",
     "collapsed": false,
     "input": [
      "print mean(results,axis=0)"
     ],
     "language": "python",
     "metadata": {},
     "outputs": [
      {
       "output_type": "stream",
       "stream": "stdout",
       "text": [
        "[ 0.75        1.09861229]\n"
       ]
      }
     ],
     "prompt_number": 366
    },
    {
     "cell_type": "markdown",
     "metadata": {},
     "source": [
      "So the results are always the same.\n",
      "This isn't surprising, if StratifiedShuffleSplit is doing its job correctly."
     ]
    },
    {
     "cell_type": "markdown",
     "metadata": {},
     "source": [
      "### Plotting a learning curve\n",
      "\n",
      "We would like to plot a learning curve to get an idea of the required size of our training set to train a model on k-fold validation steps to get valid results.\n",
      "Until we decide on a final classifier it is preferable to be able to run fast iterations of different parameters for more complex parameters than to absolutely maximimise performance.\n",
      "A learning curve plots the performance of the algorithm on the training and test set for different training set sizes.\n",
      "\n",
      "As with the imported code, much of this code is taken from the excellent [parallel machine learning tutorial][parml] by Oliver Grisel.\n",
      "\n",
      "[parml]: https://github.com/ogrisel/parallel_ml_tutorial"
     ]
    },
    {
     "cell_type": "code",
     "collapsed": false,
     "input": [
      "%matplotlib inline\n",
      "import matplotlib.pyplot as plt\n",
      "import numpy as np\n",
      "# Some nice default configuration for plots\n",
      "plt.rcParams['figure.figsize'] = 10, 7.5\n",
      "plt.rcParams['axes.grid'] = True\n",
      "plt.gray()"
     ],
     "language": "python",
     "metadata": {},
     "outputs": [
      {
       "metadata": {},
       "output_type": "display_data",
       "text": [
        "<matplotlib.figure.Figure at 0x3356c50>"
       ]
      }
     ],
     "prompt_number": 157
    },
    {
     "cell_type": "code",
     "collapsed": false,
     "input": [
      "reload(ocbio.mmap_utils)\n",
      "reload(ocbio.model_selection)"
     ],
     "language": "python",
     "metadata": {},
     "outputs": [
      {
       "metadata": {},
       "output_type": "pyout",
       "prompt_number": 425,
       "text": [
        "<module 'ocbio.model_selection' from '/data/opencast/MRes/opencast-bio/ocbio/model_selection.py'>"
       ]
      }
     ],
     "prompt_number": 425
    },
    {
     "cell_type": "code",
     "collapsed": false,
     "input": [
      "trainsizes=logspace(3,5,5)\n",
      "#initialise and start run\n",
      "lcsearch = ocbio.model_selection.LearningCurve(lb_view)\n",
      "lcsearch.launch_for_arrays(model,X,y,trainsizes,n_cv_iter=3,params={'cls__C':0.316}, name=\"lrlc\")"
     ],
     "language": "python",
     "metadata": {},
     "outputs": [
      {
       "metadata": {},
       "output_type": "pyout",
       "prompt_number": 426,
       "text": [
        "Progress: 00% (000/075)"
       ]
      }
     ],
     "prompt_number": 426
    },
    {
     "cell_type": "code",
     "collapsed": false,
     "input": [
      "print lcsearch"
     ],
     "language": "python",
     "metadata": {},
     "outputs": [
      {
       "output_type": "stream",
       "stream": "stdout",
       "text": [
        "Progress: 100% (075/075)\n",
        "\n"
       ]
      }
     ],
     "prompt_number": 434
    },
    {
     "cell_type": "code",
     "collapsed": false,
     "input": [
      "lrlc = lcsearch.plot_curve()"
     ],
     "language": "python",
     "metadata": {},
     "outputs": [
      {
       "metadata": {},
       "output_type": "display_data",
       "png": "[encoded data removed]",
       "text": [
        "<matplotlib.figure.Figure at 0x51fcd3e10>"
       ]
      }
     ],
     "prompt_number": 433
    },
    {
     "cell_type": "code",
     "collapsed": false,
     "input": [
      "savez(\"../../plots/lrlc.npz\",lrlc)"
     ],
     "language": "python",
     "metadata": {},
     "outputs": [],
     "prompt_number": 435
    },
    {
     "cell_type": "markdown",
     "metadata": {},
     "source": [
      "This shows that we can test the model on a grid search with only 40,000 to 60,000 samples and still get meaningful results.\n",
      "When the grid search returns a best possible combination of parameters we will have to plot this learning curve again to make sure that the results are still valid.\n",
      "In the mean time, this will speed up our grid search considerably."
     ]
    },
    {
     "cell_type": "code",
     "collapsed": false,
     "input": [
      "def plotroc(model,Xtest,ytest):\n",
      "    estimates = model.predict_proba(Xtest)\n",
      "    fpr, tpr, thresholds = sklearn.metrics.roc_curve(ytest,estimates[:,1])\n",
      "    clf()\n",
      "    plot(fpr, tpr)\n",
      "    plot([0, 1], [0, 1], 'k--')\n",
      "    xlim([0.0, 1.0])\n",
      "    ylim([0.0, 1.0])\n",
      "    xlabel('False Positive Rate')\n",
      "    ylabel('True Positive Rate')\n",
      "    title('Receiver operating characteristic')\n",
      "    show()\n",
      "    return fpr,tpr"
     ],
     "language": "python",
     "metadata": {},
     "outputs": [],
     "prompt_number": 305
    },
    {
     "cell_type": "code",
     "collapsed": false,
     "input": [
      "cv = sklearn.cross_validation.StratifiedShuffleSplit(y,n_iter=1,\n",
      "                                                         train_size=400000,test_size=100000)\n",
      "for train,test in cv:\n",
      "    print len(train),len(test)"
     ],
     "language": "python",
     "metadata": {},
     "outputs": [
      {
       "output_type": "stream",
       "stream": "stdout",
       "text": [
        "400000 100000\n"
       ]
      }
     ],
     "prompt_number": 447
    },
    {
     "cell_type": "code",
     "collapsed": false,
     "input": [
      "model.set_params(cls__C=0.316)\n",
      "model.fit(X[train],y[train])\n",
      "fpr,tpr = plotroc(model,X[test],y[test])"
     ],
     "language": "python",
     "metadata": {},
     "outputs": [
      {
       "metadata": {},
       "output_type": "display_data",
       "png": "[encoded data removed]",
       "text": [
        "<matplotlib.figure.Figure at 0x15befba90>"
       ]
      }
     ],
     "prompt_number": 448
    },
    {
     "cell_type": "code",
     "collapsed": false,
     "input": [
      "savez(\"../../lr_roc.npz\",fpr,tpr)"
     ],
     "language": "python",
     "metadata": {},
     "outputs": [],
     "prompt_number": 449
    },
    {
     "cell_type": "code",
     "collapsed": false,
     "input": [
      "print dummycompare(X,y,train,test,model.score(X[test],y[test]))"
     ],
     "language": "python",
     "metadata": {},
     "outputs": [
      {
       "output_type": "stream",
       "stream": "stdout",
       "text": [
        "(0.72151898734177933, 0.95200881447627006)\n"
       ]
      }
     ],
     "prompt_number": 452
    },
    {
     "cell_type": "markdown",
     "metadata": {},
     "source": [
      "### Precision recall curve\n",
      "\n",
      "Precision recall curves plot precision against recall.\n",
      "\n",
      "* Precision is the [\"fraction of retrieved instances which are relevant\"][wkpda]\n",
      "* Recall is the [\"fraction of relevant instances which are retrieved\"][wkpda]\n",
      "\n",
      "These are [implemented][] in Scikit-learn.\n",
      "\n",
      "[wkpda]: http://en.wikipedia.org/wiki/Precision_and_recall\n",
      "[implemented]: http://scikit-learn.org/stable/auto_examples/plot_precision_recall.html"
     ]
    },
    {
     "cell_type": "code",
     "collapsed": false,
     "input": [
      "def drawprecisionrecall(X,y,test):\n",
      "    yscore = model.decision_function(X[test])\n",
      "    precision,recall,_ = sklearn.metrics.precision_recall_curve(y[test],yscore)\n",
      "    average_precision = sklearn.metrics.average_precision_score(y[test], yscore,\n",
      "                                                         average=\"micro\")\n",
      "    plt.clf()\n",
      "    plt.plot(recall,precision)\n",
      "    plt.xlim([0.0, 1.0])\n",
      "    plt.ylim([0.0, 1.05])\n",
      "    plt.xlabel('Recall')\n",
      "    plt.ylabel('Precision')\n",
      "    plt.title('Precision-Recall curve, AUC: {0:0.2f}'.format(average_precision))\n",
      "    plt.show()\n",
      "    return precision, recall\n",
      "precision,recall = drawprecisionrecall(X,y,test)"
     ],
     "language": "python",
     "metadata": {},
     "outputs": [
      {
       "metadata": {},
       "output_type": "display_data",
       "png": "[encoded data removed]",
       "text": [
        "<matplotlib.figure.Figure at 0x15c69ce90>"
       ]
      }
     ],
     "prompt_number": 480
    },
    {
     "cell_type": "code",
     "collapsed": false,
     "input": [
      "savez(\"../../plots/lr_precisionrecall.npz\")"
     ],
     "language": "python",
     "metadata": {},
     "outputs": [],
     "prompt_number": 481
    },
    {
     "cell_type": "markdown",
     "metadata": {},
     "source": [
      "### Classifier coefficients\n",
      "\n",
      "We can also plot the weightings which this model is using to achieve the above performance:"
     ]
    },
    {
     "cell_type": "code",
     "collapsed": false,
     "input": [
      "classifier.set_params(C=0.316)\n",
      "classifier.fit(scaler.fit_transform(imputer.fit_transform(X[train])),y[train])\n",
      "plot(classifier.coef_.T)"
     ],
     "language": "python",
     "metadata": {},
     "outputs": [
      {
       "metadata": {},
       "output_type": "pyout",
       "prompt_number": 317,
       "text": [
        "[<matplotlib.lines.Line2D at 0x3d7a850>]"
       ]
      },
      {
       "metadata": {},
       "output_type": "display_data",
       "png": "[encoded data removed]",
       "text": [
        "<matplotlib.figure.Figure at 0x3bcec50>"
       ]
      }
     ],
     "prompt_number": 317
    },
    {
     "cell_type": "code",
     "collapsed": false,
     "input": [
      "savez(\"../../lr_coef.npz\",classifier.coef_)"
     ],
     "language": "python",
     "metadata": {},
     "outputs": [],
     "prompt_number": 324
    },
    {
     "cell_type": "markdown",
     "metadata": {},
     "source": [
      "Which feature is the largets peak in the above?"
     ]
    },
    {
     "cell_type": "code",
     "collapsed": false,
     "input": [
      "where(classifier.coef_.T==amax(classifier.coef_))"
     ],
     "language": "python",
     "metadata": {},
     "outputs": [
      {
       "metadata": {},
       "output_type": "pyout",
       "prompt_number": 323,
       "text": [
        "(array([201]), array([0]))"
       ]
      }
     ],
     "prompt_number": 323
    },
    {
     "cell_type": "markdown",
     "metadata": {},
     "source": [
      "Looking at the training and test set notebook this feature appears to be the first of the iRefIndex features.\n",
      "It turns out that this actually is the DIP database entry in the iRefIndex database.\n",
      "It's not entirely surprising in that case that it is a good predictor of what is in the DIP database.\n",
      "In fact, the only reason its performance is not perfect is likely due to problems mapping from DIP to Entrez identifiers at the beginning of the project.\n",
      "This result means suggests that the HIPPIE database would be a much better source for training sets and it would probably be a good idea to use only that.\n",
      "\n",
      "Luckily, we've already generated the vectors required for this and it is easy to switch the file names at the start of this notebook."
     ]
    },
    {
     "cell_type": "markdown",
     "metadata": {},
     "source": [
      "## Support Vector Machine\n",
      "\n",
      "__Description of what a support vector machine is and why we might want to use it goes here.__\n",
      "\n",
      "### Building the pipeline\n",
      "\n",
      "Optimal performance of a SVM with the default parameters depends on scaling of the data so we must build a pipeline for the model as before with logistic regression:"
     ]
    },
    {
     "cell_type": "code",
     "collapsed": false,
     "input": [
      "import sklearn.svm"
     ],
     "language": "python",
     "metadata": {},
     "outputs": [],
     "prompt_number": 436
    },
    {
     "cell_type": "code",
     "collapsed": false,
     "input": [
      "imputer = sklearn.preprocessing.Imputer(strategy='mean',missing_values=\"NaN\")\n",
      "scaler = sklearn.preprocessing.StandardScaler()\n",
      "classifier = sklearn.svm.SVC()\n",
      "svmodel = sklearn.pipeline.Pipeline([('imp',imputer),('scl',scaler),('cls',classifier)])"
     ],
     "language": "python",
     "metadata": {},
     "outputs": [],
     "prompt_number": 445
    },
    {
     "cell_type": "markdown",
     "metadata": {},
     "source": [
      "### Plotting a learning curve\n",
      "\n",
      "Again, it would be useful to get an idea of acceptable sample sizes prior to running the grid search to save processing time:"
     ]
    },
    {
     "cell_type": "code",
     "collapsed": false,
     "input": [
      "lb_view = client.load_balanced_view()"
     ],
     "language": "python",
     "metadata": {},
     "outputs": [],
     "prompt_number": 517
    },
    {
     "cell_type": "code",
     "collapsed": false,
     "input": [
      "trainsizes=logspace(3,6,7)\n",
      "#initialise and start run\n",
      "lcsearch = ocbio.model_selection.LearningCurve(lb_view)\n",
      "lcsearch.launch_for_arrays(svmodel,X,y,trainsizes,n_cv_iter=3,params={'cls__C':1.0}, name=\"lrlc\")"
     ],
     "language": "python",
     "metadata": {},
     "outputs": [
      {
       "metadata": {},
       "output_type": "pyout",
       "prompt_number": 519,
       "text": [
        "Progress: 00% (000/147)"
       ]
      }
     ],
     "prompt_number": 519
    },
    {
     "cell_type": "code",
     "collapsed": false,
     "input": [
      "print lcsearch"
     ],
     "language": "python",
     "metadata": {},
     "outputs": [
      {
       "output_type": "stream",
       "stream": "stdout",
       "text": [
        "Progress: 85% (126/147)\n",
        "\n"
       ]
      }
     ],
     "prompt_number": 527
    },
    {
     "cell_type": "markdown",
     "metadata": {},
     "source": [
      "After two days, it was clear that the one million sample cross-validation was not going to run.\n",
      "Removing it to plot the graph."
     ]
    },
    {
     "cell_type": "code",
     "collapsed": false,
     "input": [
      "lcsearch.task_dict.pop(1000000.0)"
     ],
     "language": "python",
     "metadata": {},
     "outputs": [
      {
       "metadata": {},
       "output_type": "pyout",
       "prompt_number": 530,
       "text": [
        "[<AsyncResult: compute_evaluation>,\n",
        " <AsyncResult: compute_evaluation>,\n",
        " <AsyncResult: compute_evaluation>]"
       ]
      }
     ],
     "prompt_number": 530
    },
    {
     "cell_type": "code",
     "collapsed": false,
     "input": [
      "print lcsearch.task_dict.keys()d"
     ],
     "language": "python",
     "metadata": {},
     "outputs": [
      {
       "output_type": "stream",
       "stream": "stdout",
       "text": [
        "[100000.0, 316227.76601683791, 3162.2776601683795, 1000.0, 31622.776601683792, 10000.0, 1000000.0]\n"
       ]
      }
     ],
     "prompt_number": 529
    },
    {
     "cell_type": "code",
     "collapsed": false,
     "input": [
      "svmlc = lcsearch.plot_curve()"
     ],
     "language": "python",
     "metadata": {},
     "outputs": [
      {
       "metadata": {},
       "output_type": "display_data",
       "png": "[encoded data removed]",
       "text": [
        "<matplotlib.figure.Figure at 0x15c158e10>"
       ]
      }
     ],
     "prompt_number": 531
    },
    {
     "cell_type": "code",
     "collapsed": false,
     "input": [
      "savez(\"../../plots/svmlc.npz\",svmlc)"
     ],
     "language": "python",
     "metadata": {},
     "outputs": [],
     "prompt_number": 532
    },
    {
     "cell_type": "markdown",
     "metadata": {},
     "source": [
      "From this curve we can conclude that at least 200,000 training samples are going to be necessary for meaningful results."
     ]
    },
    {
     "cell_type": "code",
     "collapsed": false,
     "input": [
      "client = Client(profile=\"default\")\n",
      "lb_view = client.load_balanced_view()"
     ],
     "language": "python",
     "metadata": {},
     "outputs": [],
     "prompt_number": 503
    },
    {
     "cell_type": "code",
     "collapsed": false,
     "input": [
      "#make sure the processors aren't busy doing anything else:\n",
      "lb_view.abort()\n",
      "#initialise parameters to test:\n",
      "svm_params = {\n",
      "'cls__C':logspace(-1,1,3),\n",
      "'cls__degree':array([1,2,3,4]),\n",
      "'cls__gamma':logspace(-1,1,3)\n",
      "}"
     ],
     "language": "python",
     "metadata": {},
     "outputs": [],
     "prompt_number": 504
    },
    {
     "cell_type": "code",
     "collapsed": false,
     "input": [
      "#initialise mmaped data\n",
      "split_filenames = ocbio.mmap_utils.persist_cv_splits(X,y, test_size=2000, train_size=20000,\n",
      "                                                     n_cv_iter=3, name='testfeatures',random_state=42)"
     ],
     "language": "python",
     "metadata": {},
     "outputs": [],
     "prompt_number": 505
    },
    {
     "cell_type": "code",
     "collapsed": false,
     "input": [
      "#initialise and start run\n",
      "search = ocbio.model_selection.RandomizedGridSeach(lb_view)\n",
      "search.launch_for_splits(svmodel,svm_params,split_filenames)"
     ],
     "language": "python",
     "metadata": {},
     "outputs": [
      {
       "metadata": {},
       "output_type": "pyout",
       "prompt_number": 506,
       "text": [
        "Progress: 00% (000/108)"
       ]
      }
     ],
     "prompt_number": 506
    },
    {
     "cell_type": "code",
     "collapsed": false,
     "input": [
      "print search"
     ],
     "language": "python",
     "metadata": {},
     "outputs": [
      {
       "output_type": "stream",
       "stream": "stdout",
       "text": [
        "Progress: 100% (108/108)\n",
        "\n",
        "Rank 1: validation: 0.99883 (+/-0.00017) train: 0.99998 (+/-0.00002):\n",
        " {'cls__gamma': 10.0, 'cls__degree': 4, 'cls__C': 10.0}\n",
        "Rank 2: validation: 0.99883 (+/-0.00017) train: 0.99998 (+/-0.00002):\n",
        " {'cls__gamma': 1.0, 'cls__degree': 4, 'cls__C': 10.0}\n",
        "Rank 3: validation: 0.99883 (+/-0.00017) train: 0.99998 (+/-0.00002):\n",
        " {'cls__gamma': 0.10000000000000001, 'cls__degree': 4, 'cls__C': 10.0}\n",
        "Rank 4: validation: 0.99883 (+/-0.00017) train: 0.99998 (+/-0.00002):\n",
        " {'cls__gamma': 10.0, 'cls__degree': 3, 'cls__C': 10.0}\n",
        "Rank 5: validation: 0.99883 (+/-0.00017) train: 0.99998 (+/-0.00002):\n",
        " {'cls__gamma': 1.0, 'cls__degree': 3, 'cls__C': 10.0}\n"
       ]
      }
     ],
     "prompt_number": 516
    },
    {
     "cell_type": "markdown",
     "metadata": {},
     "source": [
      "This is taking an _extremely_ long time to train, and is not feasible in the sample sizes above.\n",
      "Quote from Murphy textbook on SVMs:\n",
      "\n",
      "> SVMs also take $O(N^{3})$ time to train...\n",
      "\n",
      "Due to this problem, it does not seem to be well-suited to this data."
     ]
    },
    {
     "cell_type": "markdown",
     "metadata": {},
     "source": [
      "## Random forest classifier\n",
      "\n",
      "Random forest classifiers have proven to be effective in the task of protein interaction prediction in the past.\n",
      "A random forest classifier combines the results of many decision tree classifiers.\n",
      "In this way, it can react to correlations in the data in a way that simpler methods, such as logistic regression, cannot.\n",
      "\n",
      "The combination of decision trees is implemented in [Scikit-learn][rfsklearn] by averaging the results of the individual trees.\n",
      "\n",
      "### Initialising the pipeline\n",
      "\n",
      "As above we will define the pipeline with the same scaling and imputation:\n",
      "\n",
      "[rfsklearn]: http://scikit-learn.org/stable/modules/ensemble.html#random-forests"
     ]
    },
    {
     "cell_type": "code",
     "collapsed": false,
     "input": [
      "import sklearn.enssklearn"
     ],
     "language": "python",
     "metadata": {},
     "outputs": [],
     "prompt_number": 520
    },
    {
     "cell_type": "code",
     "collapsed": false,
     "input": [
      "imputer = sklearn.preprocessing.Imputer(strategy='mean',missing_values=\"NaN\")\n",
      "scaler = sklearn.preprocessing.StandardScaler()\n",
      "classifier = sklearn.ensemble.RandomForestClassifier()\n",
      "rfmodel = sklearn.pipeline.Pipeline([('imp',imputer),('scl',scaler),('cls',classifier)])"
     ],
     "language": "python",
     "metadata": {},
     "outputs": [],
     "prompt_number": 525
    },
    {
     "cell_type": "markdown",
     "metadata": {},
     "source": [
      "### Plotting a learning curve\n",
      "\n",
      "As above, we would like to know how quickly this model will learn in a pipeline with the scaling and imputer defined as with previous models before trying to tune hyper-parameters."
     ]
    },
    {
     "cell_type": "code",
     "collapsed": false,
     "input": [
      "!ipcluster stop"
     ],
     "language": "python",
     "metadata": {},
     "outputs": [
      {
       "output_type": "stream",
       "stream": "stdout",
       "text": [
        "2014-07-27 16:33:58.708 [IPClusterStop] Using existing profile dir: u'/home/fin/.ipython/profile_default'\r\n",
        "2014-07-27 16:33:58.710 [IPClusterStop] CRITICAL | Could not read pid file, cluster is probably not running.\r\n"
       ]
      }
     ],
     "prompt_number": 570
    },
    {
     "cell_type": "code",
     "collapsed": false,
     "input": [
      "!ipcluster start --n=10 --daemon"
     ],
     "language": "python",
     "metadata": {},
     "outputs": [
      {
       "output_type": "stream",
       "stream": "stdout",
       "text": [
        "2014-07-27 16:34:13.708 [IPClusterStart] Using existing profile dir: u'/home/fin/.ipython/profile_default'\r\n"
       ]
      }
     ],
     "prompt_number": 571
    },
    {
     "cell_type": "code",
     "collapsed": false,
     "input": [
      "!ipcluster start --n=10 --profile='altcluster' --daemon"
     ],
     "language": "python",
     "metadata": {},
     "outputs": [
      {
       "output_type": "stream",
       "stream": "stdout",
       "text": [
        "2014-07-27 16:34:18.938 [IPClusterStart] Using existing profile dir: u'/home/fin/.ipython/profile_altcluster'\r\n"
       ]
      }
     ],
     "prompt_number": 572
    },
    {
     "cell_type": "code",
     "collapsed": false,
     "input": [
      "client = Client(profile=\"default\")\n",
      "lb_view = client.load_balanced_view()\n",
      "lb_view.abort()"
     ],
     "language": "python",
     "metadata": {},
     "outputs": [],
     "prompt_number": 603
    },
    {
     "cell_type": "code",
     "collapsed": false,
     "input": [
      "trainsizes=logspace(3,6,7)\n",
      "#initialise and start run\n",
      "rflcsearch = ocbio.model_selection.LearningCurve(lb_view)\n",
      "rflcsearch.launch_for_arrays(rfmodel,X,y,trainsizes,n_cv_iter=3,\n",
      "                             params={'cls__n_estimators':100,'cls__bootstrap':False},\n",
      "                             name=\"lrlc\")"
     ],
     "language": "python",
     "metadata": {},
     "outputs": [
      {
       "metadata": {},
       "output_type": "pyout",
       "prompt_number": 548,
       "text": [
        "Progress: 00% (000/147)"
       ]
      }
     ],
     "prompt_number": 548
    },
    {
     "cell_type": "code",
     "collapsed": false,
     "input": [
      "print rflcsearch"
     ],
     "language": "python",
     "metadata": {},
     "outputs": [
      {
       "output_type": "stream",
       "stream": "stdout",
       "text": [
        "Progress: 85% (126/147)\n",
        "\n"
       ]
      }
     ],
     "prompt_number": 622
    },
    {
     "cell_type": "code",
     "collapsed": false,
     "input": [
      "rflc = rflcsearch.plot_curve()"
     ],
     "language": "python",
     "metadata": {},
     "outputs": [
      {
       "metadata": {},
       "output_type": "display_data",
       "png": "[encoded data removed]",
       "text": [
        "<matplotlib.figure.Figure at 0x15c28a050>"
       ]
      }
     ],
     "prompt_number": 558
    },
    {
     "cell_type": "markdown",
     "metadata": {},
     "source": [
      "Training a single model with 100,000 to see how long each one of these is going to take:"
     ]
    },
    {
     "cell_type": "code",
     "collapsed": false,
     "input": [
      "savez(\"../../plots/rflc.npz\",rflc)"
     ],
     "language": "python",
     "metadata": {},
     "outputs": [],
     "prompt_number": 561
    },
    {
     "cell_type": "markdown",
     "metadata": {},
     "source": [
      "### Running a grid search\n",
      "\n",
      "The major [parameters][] to vary with a Random Forest classifier are:\n",
      "\n",
      "* `n_estimators` - the number of trees in the forest\n",
      "* `max_features` - size of random subsets of features to consider when splitting nodes\n",
      "\n",
      "According the to the [documentation][parameters] a good value for `max_features` is the square root of the number of features, in our case approximately 15.\n",
      "With the number of trees in the forests, the more trees the better the performance will be, but it will take longer to train the model.\n",
      "We will try up to a maximum of 200 estimators to see at which point there are no longer significant gains from increasing the number of estimators.\n",
      "\n",
      "Also the random trees are using bootstrapping by default when training, which is unnecessary on a dataset as large as this.\n",
      "Therefore, we should set `bootstrap=False`.\n",
      "\n",
      "[parameters]: http://scikit-learn.org/stable/modules/ensemble.html#parameters"
     ]
    },
    {
     "cell_type": "code",
     "collapsed": false,
     "input": [
      "split_filenames = ocbio.mmap_utils.persist_cv_splits(X,y, test_size=20000, train_size=100000,\n",
      "                                                     n_cv_iter=3, name='rffeatures',random_state=42)"
     ],
     "language": "python",
     "metadata": {},
     "outputs": [],
     "prompt_number": 574
    },
    {
     "cell_type": "code",
     "collapsed": false,
     "input": [
      "rfparams = {'cls__n_estimators':100,'cls__bootstrap':False}"
     ],
     "language": "python",
     "metadata": {},
     "outputs": [],
     "prompt_number": 588
    },
    {
     "cell_type": "code",
     "collapsed": false,
     "input": [
      "%%time\n",
      "train,test = next(iter(sklearn.cross_validation.StratifiedShuffleSplit(y,\n",
      "                                    test_size=20000,train_size=100000)))\n",
      "rfmodel.set_params(**rfparams)\n",
      "rfmodel.fit(X[train],y[train])\n",
      "print \"Training score: {0}\".format(model.score(X[train],y[train]))\n",
      "print \"Test score: {0}\".format(model.score(X[test],y[test]))"
     ],
     "language": "python",
     "metadata": {},
     "outputs": [
      {
       "output_type": "stream",
       "stream": "stdout",
       "text": [
        "Training score: 0.99957\n",
        "Test score: 0.9994"
       ]
      },
      {
       "output_type": "stream",
       "stream": "stdout",
       "text": [
        "\n",
        "CPU times: user 3min 17s, sys: 1min 10s, total: 4min 28s\n",
        "Wall time: 5min 2s\n"
       ]
      }
     ],
     "prompt_number": 590
    },
    {
     "cell_type": "code",
     "collapsed": false,
     "input": [
      "dummycompare(X,y,train,test, 0.9994)"
     ],
     "language": "python",
     "metadata": {},
     "outputs": [
      {
       "metadata": {},
       "output_type": "pyout",
       "prompt_number": 591,
       "text": [
        "(0.62499999999998268, 0.51082562376591678)"
       ]
      }
     ],
     "prompt_number": 591
    },
    {
     "cell_type": "code",
     "collapsed": false,
     "input": [
      "rf_params = {\n",
      "'cls__n_estimators':logspace(1,2.3,5).astype(np.int),\n",
      "'cls__max_features':arange(5,30,5).astype(np.int),\n",
      "'cls__bootstrap':False\n",
      "}"
     ],
     "language": "python",
     "metadata": {},
     "outputs": [],
     "prompt_number": 612
    },
    {
     "cell_type": "code",
     "collapsed": false,
     "input": [
      "search = ocbio.model_selection.RandomizedGridSeach(lb_view)\n",
      "search.launch_for_splits(rfmodel,rf_params,split_filenames)"
     ],
     "language": "python",
     "metadata": {},
     "outputs": [
      {
       "metadata": {},
       "output_type": "pyout",
       "prompt_number": 613,
       "text": [
        "Progress: 00% (000/075)"
       ]
      }
     ],
     "prompt_number": 613
    },
    {
     "cell_type": "code",
     "collapsed": false,
     "input": [
      "print search"
     ],
     "language": "python",
     "metadata": {},
     "outputs": [
      {
       "output_type": "stream",
       "stream": "stdout",
       "text": [
        "Progress: 100% (075/075)\n",
        "\n",
        "Rank 1: validation: 0.99963 (+/-0.00006) train: 0.99991 (+/-0.00001):\n",
        " {'cls__n_estimators': 94, 'cls__max_features': 25}\n",
        "Rank 2: validation: 0.99963 (+/-0.00006) train: 0.99991 (+/-0.00001):\n",
        " {'cls__n_estimators': 199, 'cls__max_features': 20}\n",
        "Rank 3: validation: 0.99963 (+/-0.00006) train: 0.99991 (+/-0.00001):\n",
        " {'cls__n_estimators': 94, 'cls__max_features': 20}\n",
        "Rank 4: validation: 0.99962 (+/-0.00007) train: 0.99991 (+/-0.00001):\n",
        " {'cls__n_estimators': 199, 'cls__max_features': 15}\n",
        "Rank 5: validation: 0.99962 (+/-0.00004) train: 0.99991 (+/-0.00001):\n",
        " {'cls__n_estimators': 199, 'cls__max_features': 25}\n"
       ]
      }
     ],
     "prompt_number": 621
    },
    {
     "cell_type": "markdown",
     "metadata": {},
     "source": [
      "Training a the model we would like to use on a large training set to get the best possible performance:"
     ]
    },
    {
     "cell_type": "code",
     "collapsed": false,
     "input": [
      "rfparams = {'cls__n_estimators':100,'cls__max_features':,'cls__bootstrap':False}"
     ],
     "language": "python",
     "metadata": {},
     "outputs": [],
     "prompt_number": 588
    },
    {
     "cell_type": "code",
     "collapsed": false,
     "input": [
      "%%time\n",
      "train,test = next(iter(sklearn.cross_validation.StratifiedShuffleSplit(y,\n",
      "                                    test_size=20000,train_size=100000)))\n",
      "rfmodel.set_params(**rfparams)\n",
      "rfmodel.fit(X[train],y[train])\n",
      "print \"Training score: {0}\".format(model.score(X[train],y[train]))\n",
      "print \"Test score: {0}\".format(model.score(X[test],y[test]))"
     ],
     "language": "python",
     "metadata": {},
     "outputs": [
      {
       "output_type": "stream",
       "stream": "stdout",
       "text": [
        "Training score: 0.99957\n",
        "Test score: 0.9994"
       ]
      },
      {
       "output_type": "stream",
       "stream": "stdout",
       "text": [
        "\n",
        "CPU times: user 3min 17s, sys: 1min 10s, total: 4min 28s\n",
        "Wall time: 5min 2s\n"
       ]
      }
     ],
     "prompt_number": 590
    },
    {
     "cell_type": "markdown",
     "metadata": {},
     "source": [
      "### Extremely Randomized Trees\n",
      "\n",
      "In Scikit-learn an alternative random forest in which the thresholds chosen for candidate features are randomly selected.\n",
      "This reduces the variance of the model at the cost of an increase in bias.\n",
      "These are called [Extremely Randomized Trees][etsklearn].\n",
      "\n",
      "[etsklearn]: http://scikit-learn.org/stable/modules/ensemble.html#extremely-randomized-trees"
     ]
    },
    {
     "cell_type": "code",
     "collapsed": false,
     "input": [
      "altclient = Client(profile=\"altcluster\")\n",
      "alb_view = altclient.load_balanced_view()\n",
      "alb_view.abort()"
     ],
     "language": "python",
     "metadata": {},
     "outputs": [],
     "prompt_number": 605
    },
    {
     "cell_type": "code",
     "collapsed": false,
     "input": [
      "imputer = sklearn.preprocessing.Imputer(strategy='mean',missing_values=\"NaN\")\n",
      "scaler = sklearn.preprocessing.StandardScaler()\n",
      "classifier = sklearn.ensemble.ExtraTreesClassifier()\n",
      "erfmodel = sklearn.pipeline.Pipeline([('imp',imputer),('scl',scaler),('cls',classifier)])"
     ],
     "language": "python",
     "metadata": {},
     "outputs": [],
     "prompt_number": 599
    },
    {
     "cell_type": "code",
     "collapsed": false,
     "input": [
      "extrasearch = ocbio.model_selection.RandomizedGridSeach(alb_view)\n",
      "extrasearch.launch_for_splits(erfmodel,rf_params,split_filenames)"
     ],
     "language": "python",
     "metadata": {},
     "outputs": [
      {
       "metadata": {},
       "output_type": "pyout",
       "prompt_number": 615,
       "text": [
        "Progress: 00% (000/075)"
       ]
      }
     ],
     "prompt_number": 615
    },
    {
     "cell_type": "code",
     "collapsed": false,
     "input": [
      "print extrasearch"
     ],
     "language": "python",
     "metadata": {},
     "outputs": [
      {
       "output_type": "stream",
       "stream": "stdout",
       "text": [
        "Progress: 100% (075/075)\n",
        "\n",
        "Rank 1: validation: 0.99963 (+/-0.00006) train: 0.99991 (+/-0.00001):\n",
        " {'cls__n_estimators': 94, 'cls__max_features': 25}\n",
        "Rank 2: validation: 0.99963 (+/-0.00006) train: 0.99991 (+/-0.00001):\n",
        " {'cls__n_estimators': 199, 'cls__max_features': 20}\n",
        "Rank 3: validation: 0.99962 (+/-0.00007) train: 0.99991 (+/-0.00001):\n",
        " {'cls__n_estimators': 199, 'cls__max_features': 25}\n",
        "Rank 4: validation: 0.99962 (+/-0.00007) train: 0.99991 (+/-0.00001):\n",
        " {'cls__n_estimators': 44, 'cls__max_features': 25}\n",
        "Rank 5: validation: 0.99962 (+/-0.00007) train: 0.99991 (+/-0.00001):\n",
        " {'cls__n_estimators': 21, 'cls__max_features': 25}\n"
       ]
      }
     ],
     "prompt_number": 623
    },
    {
     "cell_type": "markdown",
     "metadata": {},
     "source": [
      "# Feature elimination\n",
      "\n",
      "To discover which features are most important to the predictions we will repeat the cross-validated tests after removing different features."
     ]
    },
    {
     "cell_type": "code",
     "collapsed": false,
     "input": [],
     "language": "python",
     "metadata": {},
     "outputs": []
    },
    {
     "cell_type": "markdown",
     "metadata": {},
     "source": [
      "# Classifying Pulldown interactions\n",
      "\n",
      "The reason we train this classifier is to then attempt estimate probabilities that an interaction exists between proteins in the pulldown experiments, specifically those in the bait and prey lists.\n",
      "Therefore, we will apply this classifier to feature vectors corresponding to combinations of these proteins.\n",
      "\n",
      "Unfortunately, the file containing these feature vectors is extremely long, it contains many more lines than used for training as there are so many combinations of the proteins involved:"
     ]
    },
    {
     "cell_type": "code",
     "collapsed": false,
     "input": [
      "!~/qwc.sh pulldown.nolabel.Entrez.vectors.txt"
     ],
     "language": "python",
     "metadata": {},
     "outputs": [
      {
       "output_type": "stream",
       "stream": "stdout",
       "text": [
        "1797054 pulldown.nolabel.Entrez.vectors.txt\r\n"
       ]
      }
     ],
     "prompt_number": 38
    },
    {
     "cell_type": "markdown",
     "metadata": {},
     "source": [
      "What we would like to do is iterate over this entire file and produce a file containing two Entrez Gene IDs corresponding to each protein pair with a likelihood estimate in that interaction from the classifier. To limit the number of edges we have to deal with we place a limit on the probability an interaction must have before it is written to the file."
     ]
    }
   ],
   "metadata": {}
  }
 ]
}