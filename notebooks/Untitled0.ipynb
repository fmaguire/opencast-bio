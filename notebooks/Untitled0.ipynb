{
 "metadata": {
  "name": "",
  "signature": "sha256:35f51242f20755455f1ab6b57e70072345aef07867deeb94b7ff95b70359b001"
 },
 "nbformat": 3,
 "nbformat_minor": 0,
 "worksheets": [
  {
   "cells": [
    {
     "cell_type": "code",
     "collapsed": false,
     "input": [
      "cd ~/Documents/MRes/forGAVIN/pulldown_data/"
     ],
     "language": "python",
     "metadata": {},
     "outputs": [
      {
       "output_type": "stream",
       "stream": "stdout",
       "text": [
        "/home/gavin/Documents/MRes/forGAVIN/pulldown_data\n"
       ]
      }
     ],
     "prompt_number": 1
    },
    {
     "cell_type": "code",
     "collapsed": false,
     "input": [
      "ls"
     ],
     "language": "python",
     "metadata": {},
     "outputs": [
      {
       "output_type": "stream",
       "stream": "stdout",
       "text": [
        "\u001b[0m\u001b[40m\u001b[m\u001b[01;34mBAITS\u001b[0m/  \u001b[40m\u001b[m\u001b[01;34mdataset\u001b[0m/  \u001b[40m\u001b[m\u001b[01;34mPREYS\u001b[0m/\r\n"
       ]
      }
     ],
     "prompt_number": 2
    },
    {
     "cell_type": "code",
     "collapsed": false,
     "input": [
      "cd dataset/"
     ],
     "language": "python",
     "metadata": {},
     "outputs": [
      {
       "output_type": "stream",
       "stream": "stdout",
       "text": [
        "/home/gavin/Documents/MRes/forGAVIN/pulldown_data/dataset\n"
       ]
      }
     ],
     "prompt_number": 3
    },
    {
     "cell_type": "code",
     "collapsed": false,
     "input": [
      "ls"
     ],
     "language": "python",
     "metadata": {},
     "outputs": [
      {
       "output_type": "stream",
       "stream": "stdout",
       "text": [
        "\u001b[0m\u001b[40m\u001b[m\u001b[00mppi_ab_entrez.csv\u001b[0m  \u001b[40m\u001b[m\u001b[00mppi_entrez.csv\u001b[0m  \u001b[40m\u001b[m\u001b[00mppi_interactions_ab.csv\u001b[0m  \u001b[40m\u001b[m\u001b[00mppi_interactions.csv\u001b[0m\r\n"
       ]
      }
     ],
     "prompt_number": 4
    },
    {
     "cell_type": "code",
     "collapsed": false,
     "input": [
      "%%bash\n",
      "head ppi_interactions_ab.csv"
     ],
     "language": "python",
     "metadata": {},
     "outputs": [
      {
       "output_type": "stream",
       "stream": "stdout",
       "text": [
        "#PPI\n",
        "ADAM22\tAdam11\t73203.75\n",
        "ADAM22\tAdam22\t6399937.5\n",
        "ADAM22\tAdam23\t320711.75\n",
        "ADAM22\tAp2a2\t3015.6\n",
        "ADAM22\tAp2b1\t8549.95\n",
        "ADAM22\tAp2m1\t22509\n",
        "ADAM22\tArf1\t24535\n",
        "ADAM22\tArpc4\t20176\n",
        "ADAM22\tAtp1a2\t4322.2\n"
       ]
      }
     ],
     "prompt_number": 5
    },
    {
     "cell_type": "code",
     "collapsed": false,
     "input": [
      "%%bash\n",
      "head ppi_ab_entrez.csv"
     ],
     "language": "python",
     "metadata": {},
     "outputs": [
      {
       "output_type": "stream",
       "stream": "stdout",
       "text": [
        "columns 3\n",
        "53616\t53616\t6399937.5\n",
        "53616\t8745\t320711.75\n",
        "53616\t161\t3015.6\n",
        "53616\t163\t8549.95\n",
        "53616\t1173\t22509\n",
        "53616\t375\t24535\n",
        "53616\t100500810\t24535\n",
        "53616\t10093\t20176\n",
        "53616\t477\t4322.2\n"
       ]
      }
     ],
     "prompt_number": 6
    }
   ],
   "metadata": {}
  }
 ]
}