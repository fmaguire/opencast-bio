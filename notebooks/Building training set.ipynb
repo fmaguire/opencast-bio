{
 "metadata": {
  "name": "",
  "signature": "sha256:1fbb353aaca0390bdfea027e82cf66718821df7220a842b35fb20b132a19895b"
 },
 "nbformat": 3,
 "nbformat_minor": 0,
 "worksheets": [
  {
   "cells": [
    {
     "cell_type": "markdown",
     "metadata": {},
     "source": [
      "###### Gavin Gray 12th June 2014\n",
      "\n",
      "This notebook is to use the full list of interactions between Entrez IDs extracted from the DIP dataset to build a training set with both positive and negative examples.\n",
      "What should be produced are two tables, one with positive interactions in the form of:\n",
      "\n",
      "#### Positive table\n",
      "\n",
      "|  Protein 1  | Protein 2 | Interacting? |\n",
      "| ----------- | --------- | ------------ |\n",
      "| 12345       | 54321     | 1            |\n",
      "| ...         | ...       | 1            |\n",
      "\n",
      "#### Negative table\n",
      "\n",
      "|  Protein 1  | Protein 2 | Interacting? |\n",
      "| ----------- | --------- | ------------ |\n",
      "| 12435       | 43521     | 0            |\n",
      "| ...         | ...       | 0            |"
     ]
    },
    {
     "cell_type": "code",
     "collapsed": false,
     "input": [
      "cd /home/gavin/Documents/MRes/DIP/human/"
     ],
     "language": "python",
     "metadata": {},
     "outputs": [
      {
       "output_type": "stream",
       "stream": "stdout",
       "text": [
        "/home/gavin/Documents/MRes/DIP/human\n"
       ]
      }
     ],
     "prompt_number": 1
    },
    {
     "cell_type": "code",
     "collapsed": false,
     "input": [
      "ls"
     ],
     "language": "python",
     "metadata": {},
     "outputs": [
      {
       "output_type": "stream",
       "stream": "stdout",
       "text": [
        "\u001b[0m\u001b[40m\u001b[m\u001b[00mDIPtouniprot.tab\u001b[0m  \u001b[40m\u001b[m\u001b[00mflat.DIP.txt\u001b[0m  \u001b[40m\u001b[m\u001b[00mflat.Entrez.txt\u001b[0m  \u001b[40m\u001b[m\u001b[00mflat.uniprot.txt\u001b[0m  \u001b[40m\u001b[m\u001b[00mHsapi20140427.txt\u001b[0m  \u001b[40m\u001b[m\u001b[00minteracting.DIP.txt\u001b[0m  \u001b[40m\u001b[m\u001b[00minteracting.Entrez.txt\u001b[0m  \u001b[40m\u001b[m\u001b[00minteracting.uniprot.txt\u001b[0m  \u001b[40m\u001b[m\u001b[00muniprottoEntrez.tab\u001b[0m\r\n"
       ]
      }
     ],
     "prompt_number": 2
    },
    {
     "cell_type": "markdown",
     "metadata": {},
     "source": [
      "Basically, this boils down to taking the flat list of Entrez IDs and using the binary combinations as the negative training set.\n",
      "Obviously, the random combinations that are known to interact from the positive training set will have to be removed from the negative.\n",
      "We may also want to sample a subset of this list of combinations to reflect our belief that the DIP does not contain every interaction for the proteins that it does know about.\n",
      "\n",
      "To find the combinations of these proteins we can use the `itertools` Python package:"
     ]
    },
    {
     "cell_type": "code",
     "collapsed": false,
     "input": [
      "import itertools\n",
      "import csv"
     ],
     "language": "python",
     "metadata": {},
     "outputs": [],
     "prompt_number": 3
    },
    {
     "cell_type": "code",
     "collapsed": false,
     "input": [
      "#load in the flattened list of protein IDs\n",
      "ids = list(flatten(csv.reader(open(\"flat.Entrez.txt\"))))"
     ],
     "language": "python",
     "metadata": {},
     "outputs": [],
     "prompt_number": 4
    },
    {
     "cell_type": "code",
     "collapsed": false,
     "input": [
      "#find all combinations of Entrez protein IDs\n",
      "negids = map(lambda x: x, itertools.combinations(ids,2))"
     ],
     "language": "python",
     "metadata": {},
     "outputs": [],
     "prompt_number": 5
    },
    {
     "cell_type": "code",
     "collapsed": false,
     "input": [
      "#examples\n",
      "print negids[0:10]"
     ],
     "language": "python",
     "metadata": {},
     "outputs": [
      {
       "output_type": "stream",
       "stream": "stdout",
       "text": [
        "[('6367', '207'), ('6367', '60684'), ('6367', '3840'), ('6367', '6616'), ('6367', '908'), ('6367', '7066'), ('6367', '200081'), ('6367', '51010'), ('6367', '56915'), ('6367', '23303')]\n"
       ]
      }
     ],
     "prompt_number": 6
    },
    {
     "cell_type": "code",
     "collapsed": false,
     "input": [
      "#how many combinations are there?\n",
      "print \"Number of combinations of the full human DIP Entrez protein list is %i.\"%len(negids)"
     ],
     "language": "python",
     "metadata": {},
     "outputs": [
      {
       "output_type": "stream",
       "stream": "stdout",
       "text": [
        "Number of combinations of the full human DIP Entrez protein list is 5921961.\n"
       ]
      }
     ],
     "prompt_number": 7
    },
    {
     "cell_type": "markdown",
     "metadata": {},
     "source": [
      "### Removing overlap with positive examples\n",
      "\n",
      "Since this is _every_ combination, all the positive examples must also be in this list.\n",
      "It is therefore a good idea to remove them:"
     ]
    },
    {
     "cell_type": "code",
     "collapsed": false,
     "input": [
      "#first load in the positive examples:\n",
      "posids = list(csv.reader(open(\"interacting.Entrez.txt\"), delimiter=\"\\t\"))\n",
      "print posids[0:10]\n",
      "print \"Number of positive examples: %i\"%len(posids)\n",
      "#remove entries that contain self-interactions:\n",
      "posids = [(x,y) for x,y in posids if x != y]"
     ],
     "language": "python",
     "metadata": {},
     "outputs": [
      {
       "output_type": "stream",
       "stream": "stdout",
       "text": [
        "[['5894', '596'], ['596', '7157'], ['2033', '7157'], ['2118', '2033'], ['1385', '1387'], ['4603', '1387'], ['2033', '7528'], ['6720', '1387'], ['101839559', '6929'], ['4654', '6929']]\n",
        "Number of positive examples: 5498\n"
       ]
      }
     ],
     "prompt_number": 8
    },
    {
     "cell_type": "markdown",
     "metadata": {},
     "source": [
      "The next part is a bit computationally intensive as the number of combinations is so large.\n",
      "Luckily, there is a [stackoverflow post about exactly this](http://stackoverflow.com/questions/4211209/remove-all-the-elements-that-occur-in-1-list-from-another).\n",
      "Turns out Python has a [set][pythonset] type for exactly this kind of operation\n",
      "\n",
      "[pythonset]: https://docs.python.org/2/library/stdtypes.html#set"
     ]
    },
    {
     "cell_type": "code",
     "collapsed": false,
     "input": [
      "#then can remove all the positive entries from the negative list using a the set type\n",
      "posids = set(posids)\n",
      "negids = set(negids)\n",
      "negids = negids - posids"
     ],
     "language": "python",
     "metadata": {},
     "outputs": [],
     "prompt_number": 9
    },
    {
     "cell_type": "markdown",
     "metadata": {},
     "source": [
      "Unfortunately, this operation will only remove __tuples__ that match between the two lists.\n",
      "Since the order is of the protein pair will also have to match between the two lists this will fail to remove elements where the order is reversed.\n",
      "Luckily, we can hack our way round this by reversing all the elements of the posids and repeating:"
     ]
    },
    {
     "cell_type": "code",
     "collapsed": false,
     "input": [
      "rposids = set([(y,x) for x,y in posids])"
     ],
     "language": "python",
     "metadata": {},
     "outputs": [],
     "prompt_number": 10
    },
    {
     "cell_type": "code",
     "collapsed": false,
     "input": [
      "negids = negids - rposids"
     ],
     "language": "python",
     "metadata": {},
     "outputs": [],
     "prompt_number": 11
    },
    {
     "cell_type": "markdown",
     "metadata": {},
     "source": [
      "### Downsampling negative examples\n",
      "\n",
      "How many negative interactions should there be for each positive interaction.\n",
      "The number [used by Qi][qi_evaluation_2006] was 600.\n",
      "Using that here, will define a variable so that it can be easily changed if required:\n",
      "\n",
      "[qi_evaluation_2006]: http://www.cs.cmu.edu/%7Eqyj/papers_sulp/proteins05_PPI.html"
     ]
    },
    {
     "cell_type": "code",
     "collapsed": false,
     "input": [
      "negtoposratio = 600\n",
      "negN = negtoposratio*len(posids)\n",
      "print \"The number of positive examples is %i, therefore we require %i negative examples which can be sampled from the %i combinations available.\"%(len(posids), negN, len(negids))"
     ],
     "language": "python",
     "metadata": {},
     "outputs": [
      {
       "output_type": "stream",
       "stream": "stdout",
       "text": [
        "The number of positive examples is 5103, therefore we require 3061800 negative examples which can be sampled from the 5904050 combinations available.\n"
       ]
      }
     ],
     "prompt_number": 12
    },
    {
     "cell_type": "markdown",
     "metadata": {},
     "source": [
      "Sampling from a large set is possible, but it would require rewriting the set type - there is a [stackoverflow post on this topic](http://stackoverflow.com/questions/12587352/python-set-with-the-ability-to-pop-a-random-element).\n",
      "Worth trying simpler methods that are less efficient to see if they run fast enough.\n",
      "The simplest way would just be shuffle the set as a list then convert back to a set and pop elements off it:"
     ]
    },
    {
     "cell_type": "code",
     "collapsed": false,
     "input": [
      "negids = list(negids)\n",
      "shuffle(negids)"
     ],
     "language": "python",
     "metadata": {},
     "outputs": [],
     "prompt_number": 13
    },
    {
     "cell_type": "code",
     "collapsed": false,
     "input": [
      "#extract negN samples from this for our training set\n",
      "negexamples = negids[0:negN]"
     ],
     "language": "python",
     "metadata": {},
     "outputs": [],
     "prompt_number": 14
    },
    {
     "cell_type": "code",
     "collapsed": false,
     "input": [
      "print negexamples[0:10]"
     ],
     "language": "python",
     "metadata": {},
     "outputs": [
      {
       "output_type": "stream",
       "stream": "stdout",
       "text": [
        "[('5931', '71175'), ('5901', '7862'), ('409', '4055'), ('114803', '7486'), ('26157', '17918'), ('397', '21343'), ('4686', '396766'), ('9231', '2253'), ('14794', '2243'), ('51386', '4205')]\n"
       ]
      }
     ],
     "prompt_number": 15
    },
    {
     "cell_type": "markdown",
     "metadata": {},
     "source": [
      "### Saving both training tables\n",
      "\n",
      "All that is left is to save the training tables.\n",
      "The naming chosen is:\n",
      "\n",
      "* `training.positive.Entrez.txt` is the name of the positive training set table\n",
      "* `training.negative.Entrez.txt` is the name of the negative training set table\n",
      "\n",
      "These are both structured as described above."
     ]
    },
    {
     "cell_type": "code",
     "collapsed": false,
     "input": [
      "csv.writer(open(\"training.positive.Entrez.txt\", \"w\"), delimiter=\"\\t\").writerows(map(lambda x: (x[0],x[1],1), posids))"
     ],
     "language": "python",
     "metadata": {},
     "outputs": [],
     "prompt_number": 16
    },
    {
     "cell_type": "code",
     "collapsed": false,
     "input": [
      "csv.writer(open(\"training.negative.Entrez.txt\", \"w\"), delimiter=\"\\t\").writerows(map(lambda x: (x[0],x[1],0), negexamples))"
     ],
     "language": "python",
     "metadata": {},
     "outputs": [],
     "prompt_number": 17
    }
   ],
   "metadata": {}
  }
 ]
}