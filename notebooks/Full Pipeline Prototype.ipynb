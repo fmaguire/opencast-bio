{
 "metadata": {
  "name": "",
  "signature": "sha256:36f1dd8f7a2be7f2a7d654e43b4dcbf97c7e854bc261b97731a282829298ae5b"
 },
 "nbformat": 3,
 "nbformat_minor": 0,
 "worksheets": [
  {
   "cells": [
    {
     "cell_type": "markdown",
     "metadata": {},
     "source": [
      "This notebook is a prototype of the full pipeline used in this project.\n",
      "It will provide an example of the entire project that is currently spread over multiple notebooks, covering every step.\n",
      "Including:\n",
      "\n",
      "1. Generation of feature vectors\n",
      "2. Training of the classifier\n",
      "3. Classifying Pulldown network\n",
      "4. Community detection\n",
      "5. Comparison of weighted and unweighted graphs\n",
      "\n",
      "# Generating feature vectors\n",
      "\n",
      "There are three files that are generated at this stage.\n",
      "All consist of feature vectors corresponding to protein pairs in the following three sets:\n",
      "\n",
      "1. Positive training set interactions\n",
      "2. Negative training set interactions\n",
      "3. SYNSYS pulldown network interactions\n",
      "\n",
      "This pipeline will take advantage of a prepared list of interactions to build the network rather than trying to classify all possible combinations of the pulldown proteins.\n",
      "\n",
      "## Preparing the assembler\n",
      "\n",
      "To run the assembler a _data source table_ must first be generated.\n",
      "This table describes the data sources to be used to build feature vectors.\n",
      "In this case, we will be using simple features with high coverage to avoid dealing with the missing data problem.\n",
      "This task is also performed in the notebook on [training and test set generation][gennotes].\n",
      "\n",
      "This table must be placed at the __top directory of the feature data__:\n",
      "\n",
      "[gennotes]: http://nbviewer.ipython.org/github/ggray1729/opencast-bio/blob/master/notebooks/Training%20and%20test%20featureset%20generation.ipynb"
     ]
    },
    {
     "cell_type": "code",
     "collapsed": false,
     "input": [
      "cd ../.."
     ],
     "language": "python",
     "metadata": {},
     "outputs": [
      {
       "output_type": "stream",
       "stream": "stdout",
       "text": [
        "/data/opencast/MRes\n"
       ]
      }
     ],
     "prompt_number": 9
    },
    {
     "cell_type": "code",
     "collapsed": false,
     "input": [
      "import csv"
     ],
     "language": "python",
     "metadata": {},
     "outputs": [],
     "prompt_number": 5
    },
    {
     "cell_type": "code",
     "collapsed": false,
     "input": [
      "!git annex unlock datasource.proto.tab"
     ],
     "language": "python",
     "metadata": {},
     "outputs": [
      {
       "output_type": "stream",
       "stream": "stdout",
       "text": [
        "unlock datasource.proto.tab (copying...) ok\r\n"
       ]
      }
     ],
     "prompt_number": 4
    },
    {
     "cell_type": "code",
     "collapsed": false,
     "input": [
      "f = open(\"datasource.proto.tab\",\"w\")\n",
      "c = csv.writer(f,delimiter=\"\\t\")\n",
      "# the HIPPIE feature\n",
      "c.writerow([\"HIPPIE/hippie_current.txt\",\"HIPPIE/feature.HIPPIE.db\",\"protindexes=(1,3);valindexes=(4);zeromissing=1\"])\n",
      "# Gene Ontology features\n",
      "c.writerow([\"Gene_Ontology\",\"Gene_Ontology\",\"generator=geneontology/testgen.pickle\"])\n",
      "# iRefIndex features\n",
      "c.writerow([\"iRefIndex\",\"iRefIndex\",\"generator=iRefIndex/human.iRefIndex.Entrez.1ofk.pickle\"])\n",
      "# STRING features\n",
      "c.writerow([\"STRING\",\"STRING\",\"generator=string/human.Entrez.string.pickle\"])\n",
      "# ENTS summary feature\n",
      "c.writerow(['ENTS_summary','ENTS_summary','generator=ents/human.Entrez.ENTS.summary.pickle'])\n",
      "f.close()"
     ],
     "language": "python",
     "metadata": {},
     "outputs": [],
     "prompt_number": 5
    },
    {
     "cell_type": "markdown",
     "metadata": {},
     "source": [
      "### Importing the ocbio code\n",
      "\n",
      "The code to run the assembler must then be imported, and to import it, it must be added to the path:"
     ]
    },
    {
     "cell_type": "code",
     "collapsed": false,
     "input": [
      "import sys"
     ],
     "language": "python",
     "metadata": {},
     "outputs": [],
     "prompt_number": 4
    },
    {
     "cell_type": "code",
     "collapsed": false,
     "input": [
      "sys.path.append(\"opencast-bio/\")"
     ],
     "language": "python",
     "metadata": {},
     "outputs": [],
     "prompt_number": 7
    },
    {
     "cell_type": "code",
     "collapsed": false,
     "input": [
      "import ocbio.extract"
     ],
     "language": "python",
     "metadata": {},
     "outputs": [],
     "prompt_number": 8
    },
    {
     "cell_type": "code",
     "collapsed": false,
     "input": [
      "reload(ocbio.extract)"
     ],
     "language": "python",
     "metadata": {},
     "outputs": [
      {
       "metadata": {},
       "output_type": "pyout",
       "prompt_number": 13,
       "text": [
        "<module 'ocbio.extract' from 'opencast-bio/ocbio/extract.py'>"
       ]
      }
     ],
     "prompt_number": 13
    },
    {
     "cell_type": "markdown",
     "metadata": {},
     "source": [
      "### Unlocking databases\n",
      "\n",
      "The entire data repository is version controlled with [git annex][annex] and this means that databases must be [unlocked][annexunlock] before they can be opened.\n",
      "\n",
      "[annex]: https://git-annex.branchable.com/\n",
      "[annexunlock]: http://git-annex.branchable.com/walkthrough/modifying_annexed_files/"
     ]
    },
    {
     "cell_type": "code",
     "collapsed": false,
     "input": [
      "!git annex unlock HIPPIE/feature.HIPPIE.db"
     ],
     "language": "python",
     "metadata": {},
     "outputs": [],
     "prompt_number": 10
    },
    {
     "cell_type": "markdown",
     "metadata": {},
     "source": [
      "### Instantiate assembler"
     ]
    },
    {
     "cell_type": "code",
     "collapsed": false,
     "input": [
      "assembler = ocbio.extract.FeatureVectorAssembler(\"datasource.proto.tab\", verbose=True)"
     ],
     "language": "python",
     "metadata": {},
     "outputs": [
      {
       "output_type": "stream",
       "stream": "stdout",
       "text": [
        "Using  from top data directory datasource.proto.tab.\n",
        "Reading data source table:\n",
        "\tData source: HIPPIE/hippie_current.txt to be processed to HIPPIE/feature.HIPPIE.db\n",
        "\tData source: Gene_Ontology to be processed to Gene_Ontology\n",
        "\tData source: iRefIndex to be processed to iRefIndex\n",
        "\tData source: STRING to be processed to STRING\n",
        "\tData source: ENTS_summary to be processed to ENTS_summary\n",
        "Initialising parsers.\n",
        "Database HIPPIE/feature.HIPPIE.db last updated 2014-06-25 12:04:07\n",
        "Finished Initialisation."
       ]
      },
      {
       "output_type": "stream",
       "stream": "stdout",
       "text": [
        "\n"
       ]
      }
     ],
     "prompt_number": 14
    },
    {
     "cell_type": "markdown",
     "metadata": {},
     "source": [
      "### Regenerating databases\n",
      "\n",
      "At this point the method `assembler.regenerate` could be used to make sure the database is up to date, but since there is only one and it is known to be up to date there is no point.\n",
      "\n",
      "## Assembling feature vectors\n",
      "\n",
      "Next we use the `assembler.assemble` method to create the featurem vectors, supplying the method with a list of Entrez Gene ID pairs to match to these vectors:"
     ]
    },
    {
     "cell_type": "code",
     "collapsed": false,
     "input": [
      "assembler.assemble(\"DIP/human/training.nolabel.positive.Entrez.txt\",\n",
      "                   \"features/training.nolabel.proto.positive.Entrez.vectors.txt\", verbose=True)"
     ],
     "language": "python",
     "metadata": {},
     "outputs": [
      {
       "output_type": "stream",
       "stream": "stdout",
       "text": [
        "Reading pairfile: DIP/human/training.nolabel.positive.Entrez.txt\n",
        "Checking feature sizes:\n",
        "\t Data source HIPPIE/hippie_current.txt produces features of size 1."
       ]
      },
      {
       "output_type": "stream",
       "stream": "stdout",
       "text": [
        "\n",
        "\t Data source Gene_Ontology produces features of size 90."
       ]
      },
      {
       "output_type": "stream",
       "stream": "stdout",
       "text": [
        "\n",
        "\t Data source iRefIndex produces features of size 11.\n",
        "\t Data source STRING produces features of size 8."
       ]
      },
      {
       "output_type": "stream",
       "stream": "stdout",
       "text": [
        "\n",
        "\t Data source ENTS_summary produces features of size 1.\n",
        "Writing feature vectors\n"
       ]
      },
      {
       "output_type": "stream",
       "stream": "stdout",
       "text": [
        "Wrote 4857 vectors.\n",
        "Matched 100.00 % of protein pairs in DIP/human/training.nolabel.positive.Entrez.txt to features from HIPPIE/hippie_current.txt\n",
        "Matched 100.00 % of protein pairs in DIP/human/training.nolabel.positive.Entrez.txt to features from Gene_Ontology\n",
        "Matched 100.00 % of protein pairs in DIP/human/training.nolabel.positive.Entrez.txt to features from iRefIndex\n",
        "Matched 100.00 % of protein pairs in DIP/human/training.nolabel.positive.Entrez.txt to features from STRING\n",
        "Matched 100.00 % of protein pairs in DIP/human/training.nolabel.positive.Entrez.txt to features from ENTS_summary\n"
       ]
      }
     ],
     "prompt_number": 20
    },
    {
     "cell_type": "code",
     "collapsed": false,
     "input": [
      "assembler.assemble(\"DIP/human/training.nolabel.negative.Entrez.txt\",\n",
      "                   \"features/training.nolabel.proto.negative.Entrez.vectors.txt\", verbose=True)"
     ],
     "language": "python",
     "metadata": {},
     "outputs": [
      {
       "output_type": "stream",
       "stream": "stdout",
       "text": [
        "Reading pairfile: DIP/human/training.nolabel.negative.Entrez.txt\n",
        "Checking feature sizes:"
       ]
      },
      {
       "output_type": "stream",
       "stream": "stdout",
       "text": [
        "\n",
        "\t Data source HIPPIE/hippie_current.txt produces features of size 1.\n",
        "\t Data source Gene_Ontology produces features of size 90.\n",
        "\t Data source iRefIndex produces features of size 11.\n",
        "\t Data source STRING produces features of size 8.\n",
        "\t Data source ENTS_summary produces features of size 1.\n",
        "Writing feature vectors."
       ]
      },
      {
       "output_type": "stream",
       "stream": "stdout",
       "text": [
        ".."
       ]
      },
      {
       "output_type": "stream",
       "stream": "stdout",
       "text": [
        ".."
       ]
      },
      {
       "output_type": "stream",
       "stream": "stdout",
       "text": [
        ".."
       ]
      },
      {
       "output_type": "stream",
       "stream": "stdout",
       "text": [
        ".."
       ]
      },
      {
       "output_type": "stream",
       "stream": "stdout",
       "text": [
        ".."
       ]
      },
      {
       "output_type": "stream",
       "stream": "stdout",
       "text": [
        ".."
       ]
      },
      {
       "output_type": "stream",
       "stream": "stdout",
       "text": [
        ".."
       ]
      },
      {
       "output_type": "stream",
       "stream": "stdout",
       "text": [
        ".."
       ]
      },
      {
       "output_type": "stream",
       "stream": "stdout",
       "text": [
        ".."
       ]
      },
      {
       "output_type": "stream",
       "stream": "stdout",
       "text": [
        ".."
       ]
      },
      {
       "output_type": "stream",
       "stream": "stdout",
       "text": [
        ".."
       ]
      },
      {
       "output_type": "stream",
       "stream": "stdout",
       "text": [
        ".."
       ]
      },
      {
       "output_type": "stream",
       "stream": "stdout",
       "text": [
        ".."
       ]
      },
      {
       "output_type": "stream",
       "stream": "stdout",
       "text": [
        ".."
       ]
      },
      {
       "output_type": "stream",
       "stream": "stdout",
       "text": [
        ".."
       ]
      },
      {
       "output_type": "stream",
       "stream": "stdout",
       "text": [
        ".."
       ]
      },
      {
       "output_type": "stream",
       "stream": "stdout",
       "text": [
        ".."
       ]
      },
      {
       "output_type": "stream",
       "stream": "stdout",
       "text": [
        ".."
       ]
      },
      {
       "output_type": "stream",
       "stream": "stdout",
       "text": [
        ".."
       ]
      },
      {
       "output_type": "stream",
       "stream": "stdout",
       "text": [
        ".."
       ]
      },
      {
       "output_type": "stream",
       "stream": "stdout",
       "text": [
        ".."
       ]
      },
      {
       "output_type": "stream",
       "stream": "stdout",
       "text": [
        ".."
       ]
      },
      {
       "output_type": "stream",
       "stream": "stdout",
       "text": [
        ".."
       ]
      },
      {
       "output_type": "stream",
       "stream": "stdout",
       "text": [
        ".."
       ]
      },
      {
       "output_type": "stream",
       "stream": "stdout",
       "text": [
        ".."
       ]
      },
      {
       "output_type": "stream",
       "stream": "stdout",
       "text": [
        ".."
       ]
      },
      {
       "output_type": "stream",
       "stream": "stdout",
       "text": [
        ".."
       ]
      },
      {
       "output_type": "stream",
       "stream": "stdout",
       "text": [
        ".."
       ]
      },
      {
       "output_type": "stream",
       "stream": "stdout",
       "text": [
        ".."
       ]
      },
      {
       "output_type": "stream",
       "stream": "stdout",
       "text": [
        ".."
       ]
      },
      {
       "output_type": "stream",
       "stream": "stdout",
       "text": [
        ".."
       ]
      },
      {
       "output_type": "stream",
       "stream": "stdout",
       "text": [
        ".."
       ]
      },
      {
       "output_type": "stream",
       "stream": "stdout",
       "text": [
        ".."
       ]
      },
      {
       "output_type": "stream",
       "stream": "stdout",
       "text": [
        ".."
       ]
      },
      {
       "output_type": "stream",
       "stream": "stdout",
       "text": [
        ".."
       ]
      },
      {
       "output_type": "stream",
       "stream": "stdout",
       "text": [
        ".."
       ]
      },
      {
       "output_type": "stream",
       "stream": "stdout",
       "text": [
        ".."
       ]
      },
      {
       "output_type": "stream",
       "stream": "stdout",
       "text": [
        ".."
       ]
      },
      {
       "output_type": "stream",
       "stream": "stdout",
       "text": [
        ".."
       ]
      },
      {
       "output_type": "stream",
       "stream": "stdout",
       "text": [
        ".."
       ]
      },
      {
       "output_type": "stream",
       "stream": "stdout",
       "text": [
        ".."
       ]
      },
      {
       "output_type": "stream",
       "stream": "stdout",
       "text": [
        ".."
       ]
      },
      {
       "output_type": "stream",
       "stream": "stdout",
       "text": [
        ".."
       ]
      },
      {
       "output_type": "stream",
       "stream": "stdout",
       "text": [
        ".."
       ]
      },
      {
       "output_type": "stream",
       "stream": "stdout",
       "text": [
        ".."
       ]
      },
      {
       "output_type": "stream",
       "stream": "stdout",
       "text": [
        ".."
       ]
      },
      {
       "output_type": "stream",
       "stream": "stdout",
       "text": [
        ".."
       ]
      },
      {
       "output_type": "stream",
       "stream": "stdout",
       "text": [
        ".."
       ]
      },
      {
       "output_type": "stream",
       "stream": "stdout",
       "text": [
        ".."
       ]
      },
      {
       "output_type": "stream",
       "stream": "stdout",
       "text": [
        ".."
       ]
      },
      {
       "output_type": "stream",
       "stream": "stdout",
       "text": [
        ".."
       ]
      },
      {
       "output_type": "stream",
       "stream": "stdout",
       "text": [
        ".."
       ]
      },
      {
       "output_type": "stream",
       "stream": "stdout",
       "text": [
        ".."
       ]
      },
      {
       "output_type": "stream",
       "stream": "stdout",
       "text": [
        ".."
       ]
      },
      {
       "output_type": "stream",
       "stream": "stdout",
       "text": [
        ".."
       ]
      },
      {
       "output_type": "stream",
       "stream": "stdout",
       "text": [
        ".."
       ]
      },
      {
       "output_type": "stream",
       "stream": "stdout",
       "text": [
        ".."
       ]
      },
      {
       "output_type": "stream",
       "stream": "stdout",
       "text": [
        ".."
       ]
      },
      {
       "output_type": "stream",
       "stream": "stdout",
       "text": [
        ".."
       ]
      },
      {
       "output_type": "stream",
       "stream": "stdout",
       "text": [
        ".."
       ]
      },
      {
       "output_type": "stream",
       "stream": "stdout",
       "text": [
        ".."
       ]
      },
      {
       "output_type": "stream",
       "stream": "stdout",
       "text": [
        ".."
       ]
      },
      {
       "output_type": "stream",
       "stream": "stdout",
       "text": [
        ".."
       ]
      },
      {
       "output_type": "stream",
       "stream": "stdout",
       "text": [
        ".."
       ]
      },
      {
       "output_type": "stream",
       "stream": "stdout",
       "text": [
        ".."
       ]
      },
      {
       "output_type": "stream",
       "stream": "stdout",
       "text": [
        ".."
       ]
      },
      {
       "output_type": "stream",
       "stream": "stdout",
       "text": [
        ".."
       ]
      },
      {
       "output_type": "stream",
       "stream": "stdout",
       "text": [
        ".."
       ]
      },
      {
       "output_type": "stream",
       "stream": "stdout",
       "text": [
        ".."
       ]
      },
      {
       "output_type": "stream",
       "stream": "stdout",
       "text": [
        ".."
       ]
      },
      {
       "output_type": "stream",
       "stream": "stdout",
       "text": [
        ".."
       ]
      },
      {
       "output_type": "stream",
       "stream": "stdout",
       "text": [
        ".."
       ]
      },
      {
       "output_type": "stream",
       "stream": "stdout",
       "text": [
        ".."
       ]
      },
      {
       "output_type": "stream",
       "stream": "stdout",
       "text": [
        ".."
       ]
      },
      {
       "output_type": "stream",
       "stream": "stdout",
       "text": [
        ".."
       ]
      },
      {
       "output_type": "stream",
       "stream": "stdout",
       "text": [
        ".."
       ]
      },
      {
       "output_type": "stream",
       "stream": "stdout",
       "text": [
        ".."
       ]
      },
      {
       "output_type": "stream",
       "stream": "stdout",
       "text": [
        ".."
       ]
      },
      {
       "output_type": "stream",
       "stream": "stdout",
       "text": [
        ".."
       ]
      },
      {
       "output_type": "stream",
       "stream": "stdout",
       "text": [
        ".."
       ]
      },
      {
       "output_type": "stream",
       "stream": "stdout",
       "text": [
        ".."
       ]
      },
      {
       "output_type": "stream",
       "stream": "stdout",
       "text": [
        ".."
       ]
      },
      {
       "output_type": "stream",
       "stream": "stdout",
       "text": [
        ".."
       ]
      },
      {
       "output_type": "stream",
       "stream": "stdout",
       "text": [
        ".."
       ]
      },
      {
       "output_type": "stream",
       "stream": "stdout",
       "text": [
        ".."
       ]
      },
      {
       "output_type": "stream",
       "stream": "stdout",
       "text": [
        ".."
       ]
      },
      {
       "output_type": "stream",
       "stream": "stdout",
       "text": [
        ".."
       ]
      },
      {
       "output_type": "stream",
       "stream": "stdout",
       "text": [
        ".."
       ]
      },
      {
       "output_type": "stream",
       "stream": "stdout",
       "text": [
        ".."
       ]
      },
      {
       "output_type": "stream",
       "stream": "stdout",
       "text": [
        ".."
       ]
      },
      {
       "output_type": "stream",
       "stream": "stdout",
       "text": [
        ".."
       ]
      },
      {
       "output_type": "stream",
       "stream": "stdout",
       "text": [
        ".."
       ]
      },
      {
       "output_type": "stream",
       "stream": "stdout",
       "text": [
        ".."
       ]
      },
      {
       "output_type": "stream",
       "stream": "stdout",
       "text": [
        ".."
       ]
      },
      {
       "output_type": "stream",
       "stream": "stdout",
       "text": [
        ".."
       ]
      },
      {
       "output_type": "stream",
       "stream": "stdout",
       "text": [
        ".."
       ]
      },
      {
       "output_type": "stream",
       "stream": "stdout",
       "text": [
        ".."
       ]
      },
      {
       "output_type": "stream",
       "stream": "stdout",
       "text": [
        ".."
       ]
      },
      {
       "output_type": "stream",
       "stream": "stdout",
       "text": [
        ".."
       ]
      },
      {
       "output_type": "stream",
       "stream": "stdout",
       "text": [
        ".."
       ]
      },
      {
       "output_type": "stream",
       "stream": "stdout",
       "text": [
        ".."
       ]
      },
      {
       "output_type": "stream",
       "stream": "stdout",
       "text": [
        ".."
       ]
      },
      {
       "output_type": "stream",
       "stream": "stdout",
       "text": [
        ".."
       ]
      },
      {
       "output_type": "stream",
       "stream": "stdout",
       "text": [
        ".."
       ]
      },
      {
       "output_type": "stream",
       "stream": "stdout",
       "text": [
        ".."
       ]
      },
      {
       "output_type": "stream",
       "stream": "stdout",
       "text": [
        ".."
       ]
      },
      {
       "output_type": "stream",
       "stream": "stdout",
       "text": [
        ".."
       ]
      },
      {
       "output_type": "stream",
       "stream": "stdout",
       "text": [
        ".."
       ]
      },
      {
       "output_type": "stream",
       "stream": "stdout",
       "text": [
        ".."
       ]
      },
      {
       "output_type": "stream",
       "stream": "stdout",
       "text": [
        ".."
       ]
      },
      {
       "output_type": "stream",
       "stream": "stdout",
       "text": [
        ".."
       ]
      },
      {
       "output_type": "stream",
       "stream": "stdout",
       "text": [
        ".."
       ]
      },
      {
       "output_type": "stream",
       "stream": "stdout",
       "text": [
        ".."
       ]
      },
      {
       "output_type": "stream",
       "stream": "stdout",
       "text": [
        ".."
       ]
      },
      {
       "output_type": "stream",
       "stream": "stdout",
       "text": [
        ".."
       ]
      },
      {
       "output_type": "stream",
       "stream": "stdout",
       "text": [
        ".."
       ]
      },
      {
       "output_type": "stream",
       "stream": "stdout",
       "text": [
        ".."
       ]
      },
      {
       "output_type": "stream",
       "stream": "stdout",
       "text": [
        ".."
       ]
      },
      {
       "output_type": "stream",
       "stream": "stdout",
       "text": [
        ".."
       ]
      },
      {
       "output_type": "stream",
       "stream": "stdout",
       "text": [
        ".."
       ]
      },
      {
       "output_type": "stream",
       "stream": "stdout",
       "text": [
        ".."
       ]
      },
      {
       "output_type": "stream",
       "stream": "stdout",
       "text": [
        ".."
       ]
      },
      {
       "output_type": "stream",
       "stream": "stdout",
       "text": [
        ".."
       ]
      },
      {
       "output_type": "stream",
       "stream": "stdout",
       "text": [
        ".."
       ]
      },
      {
       "output_type": "stream",
       "stream": "stdout",
       "text": [
        ".."
       ]
      },
      {
       "output_type": "stream",
       "stream": "stdout",
       "text": [
        ".."
       ]
      },
      {
       "output_type": "stream",
       "stream": "stdout",
       "text": [
        ".."
       ]
      },
      {
       "output_type": "stream",
       "stream": "stdout",
       "text": [
        ".."
       ]
      },
      {
       "output_type": "stream",
       "stream": "stdout",
       "text": [
        ".."
       ]
      },
      {
       "output_type": "stream",
       "stream": "stdout",
       "text": [
        ".."
       ]
      },
      {
       "output_type": "stream",
       "stream": "stdout",
       "text": [
        ".."
       ]
      },
      {
       "output_type": "stream",
       "stream": "stdout",
       "text": [
        ".."
       ]
      },
      {
       "output_type": "stream",
       "stream": "stdout",
       "text": [
        ".."
       ]
      },
      {
       "output_type": "stream",
       "stream": "stdout",
       "text": [
        ".."
       ]
      },
      {
       "output_type": "stream",
       "stream": "stdout",
       "text": [
        ".."
       ]
      },
      {
       "output_type": "stream",
       "stream": "stdout",
       "text": [
        ".."
       ]
      },
      {
       "output_type": "stream",
       "stream": "stdout",
       "text": [
        ".."
       ]
      },
      {
       "output_type": "stream",
       "stream": "stdout",
       "text": [
        ".."
       ]
      },
      {
       "output_type": "stream",
       "stream": "stdout",
       "text": [
        ".."
       ]
      },
      {
       "output_type": "stream",
       "stream": "stdout",
       "text": [
        ".."
       ]
      },
      {
       "output_type": "stream",
       "stream": "stdout",
       "text": [
        ".."
       ]
      },
      {
       "output_type": "stream",
       "stream": "stdout",
       "text": [
        ".."
       ]
      },
      {
       "output_type": "stream",
       "stream": "stdout",
       "text": [
        ".."
       ]
      },
      {
       "output_type": "stream",
       "stream": "stdout",
       "text": [
        ".."
       ]
      },
      {
       "output_type": "stream",
       "stream": "stdout",
       "text": [
        ".."
       ]
      },
      {
       "output_type": "stream",
       "stream": "stdout",
       "text": [
        ".."
       ]
      },
      {
       "output_type": "stream",
       "stream": "stdout",
       "text": [
        ".."
       ]
      },
      {
       "output_type": "stream",
       "stream": "stdout",
       "text": [
        ".."
       ]
      },
      {
       "output_type": "stream",
       "stream": "stdout",
       "text": [
        ".."
       ]
      },
      {
       "output_type": "stream",
       "stream": "stdout",
       "text": [
        ".."
       ]
      },
      {
       "output_type": "stream",
       "stream": "stdout",
       "text": [
        ".."
       ]
      },
      {
       "output_type": "stream",
       "stream": "stdout",
       "text": [
        ".."
       ]
      },
      {
       "output_type": "stream",
       "stream": "stdout",
       "text": [
        ".\n"
       ]
      },
      {
       "output_type": "stream",
       "stream": "stdout",
       "text": [
        "Wrote 3061800 vectors.\n",
        "Matched 100.00 % of protein pairs in DIP/human/training.nolabel.negative.Entrez.txt to features from HIPPIE/hippie_current.txt\n",
        "Matched 100.00 % of protein pairs in DIP/human/training.nolabel.negative.Entrez.txt to features from Gene_Ontology\n",
        "Matched 100.00 % of protein pairs in DIP/human/training.nolabel.negative.Entrez.txt to features from iRefIndex\n",
        "Matched 100.00 % of protein pairs in DIP/human/training.nolabel.negative.Entrez.txt to features from STRING\n",
        "Matched 100.00 % of protein pairs in DIP/human/training.nolabel.negative.Entrez.txt to features from ENTS_summary\n"
       ]
      }
     ],
     "prompt_number": 15
    },
    {
     "cell_type": "code",
     "collapsed": false,
     "input": [
      "assembler.assemble(\"forGAVIN/mergecode/edgelist_new.txt\",\n",
      "                   \"features/edgelist.proto.vectors.txt\", verbose=True)"
     ],
     "language": "python",
     "metadata": {},
     "outputs": [
      {
       "output_type": "stream",
       "stream": "stdout",
       "text": [
        "Reading pairfile: forGAVIN/mergecode/edgelist_new.txt\n",
        "Checking feature sizes:\n",
        "\t Data source HIPPIE/hippie_current.txt produces features of size 1.\n",
        "\t Data source Gene_Ontology produces features of size 90.\n",
        "\t Data source iRefIndex produces features of size 11.\n",
        "\t Data source STRING produces features of size 8.\n",
        "\t Data source ENTS_summary produces features of size 1.\n",
        "Writing feature vectors."
       ]
      },
      {
       "output_type": "stream",
       "stream": "stdout",
       "text": [
        "\n",
        "Wrote 16770 vectors.\n",
        "Matched 100.00 % of protein pairs in forGAVIN/mergecode/edgelist_new.txt to features from HIPPIE/hippie_current.txt\n",
        "Matched 100.00 % of protein pairs in forGAVIN/mergecode/edgelist_new.txt to features from Gene_Ontology\n",
        "Matched 100.00 % of protein pairs in forGAVIN/mergecode/edgelist_new.txt to features from iRefIndex\n",
        "Matched 100.00 % of protein pairs in forGAVIN/mergecode/edgelist_new.txt to features from STRING\n",
        "Matched 100.00 % of protein pairs in forGAVIN/mergecode/edgelist_new.txt to features from ENTS_summary\n"
       ]
      }
     ],
     "prompt_number": 16
    },
    {
     "cell_type": "markdown",
     "metadata": {},
     "source": [
      "# Training the classifier\n",
      "\n",
      "Now that the feature vectors have been written we will use the training vectors to train a classifier which we can apply to the vectors written to `edgelist.proto.vectors.txt`.\n",
      "We will be using an [ensemble classifier][ensemble] to slightly improve performance over a simple classifier such as [logistic regression][logreg].\n",
      "The chosen classifier, as stated in the proposal, is a [random forest classifier][rf] as it has proven to have superior performance in [Qi's 2006 paper][qi2006].\n",
      "\n",
      "### Supervised Binary Classification\n",
      "\n",
      "The task of protein interaction prediction as approached here is a supervised binary classification problem.\n",
      "What do those words actually mean?\n",
      "\n",
      "* Supervised - the classifier is trained on _labeled_ data; there are two sets of vectors used for training:\n",
      "    * One is the _positive_ interactions - assumed to be true interactions taken from the [DIP][] human dataset.\n",
      "    * The other are _negative_ interactions - assumed to be false interactions generated as random binary combinations of human Entrez Gene IDs, each of which are very unlikely to be real interactions.\n",
      "    * _Important note_: the number of negative interactions was chosen to be 600 times the number of positive as this was recommended in [Qi's work][qi2006].\n",
      "* Binary - there are only two options, interacting or not interacting. 1 is interaction, 0 is not interacting.\n",
      "* Classification - there are two main types of machine learning problem:\n",
      "    * Classification - dealing with predicting a discrete random variable, which in this case is either 1 or 0.\n",
      "    * Regression - dealing with predicting a continuous random variable.\n",
      "\n",
      "### Random Forest Classifier\n",
      "\n",
      "A random forest classifier is a combination of large number of generated decision trees.\n",
      "Decision trees are intuitive to understand; the name practically describes what they are.\n",
      "At each node in the tree one of the features is tested and a decision is made on what feature to check next or which output to provide:\n",
      "\n",
      "![Example decision tree from wikipedia][dectree]\n",
      "\n",
      "Random forests simply generate a large number of these trees with varying structures and then combine the results.\n",
      "\n",
      "## Loading the training data\n",
      "\n",
      "The training data is a sparse dataset in that it contains a very large number of zeros.\n",
      "This can be efficiently represented using a [Scipy sparse matrix][scipysparse].\n",
      "The csv can be loaded using the `csv` module of Python:\n",
      "\n",
      "[dectree]: http://upload.wikimedia.org/wikipedia/commons/4/48/DecisionCalcs.jpg\n",
      "[ensemble]: http://en.wikipedia.org/wiki/Ensemble_learning\n",
      "[logreg]: http://www.metacademy.org/graphs/concepts/logistic_regression\n",
      "[rf]: http://www.metacademy.org/graphs/concepts/random_forests\n",
      "[qi2006]: http://onlinelibrary.wiley.com/doi/10.1002/prot.20865/full\n",
      "[dip]: http://dip.doe-mbi.ucla.edu/dip/Main.cgi\n",
      "[scipysparse]: http://docs.scipy.org/doc/scipy/reference/sparse.html"
     ]
    },
    {
     "cell_type": "code",
     "collapsed": false,
     "input": [
      "import csv\n",
      "import scipy.sparse"
     ],
     "language": "python",
     "metadata": {},
     "outputs": [],
     "prompt_number": 17
    },
    {
     "cell_type": "markdown",
     "metadata": {},
     "source": [
      "At the moment we have to read off the rows and columns to initialise this matrix with from above."
     ]
    },
    {
     "cell_type": "code",
     "collapsed": false,
     "input": [
      "#initialising matrices\n",
      "posrows,poscolumns = 4857,111\n",
      "negrows,negcolumns = 3061800,111\n",
      "posvectors = scipy.sparse.lil_matrix((posrows,poscolumns))\n",
      "negvectors = scipy.sparse.lil_matrix((negrows,negcolumns))"
     ],
     "language": "python",
     "metadata": {},
     "outputs": [],
     "prompt_number": 80
    },
    {
     "cell_type": "code",
     "collapsed": false,
     "input": [
      "#loading positive vectors\n",
      "f = open(\"features/training.nolabel.proto.positive.Entrez.vectors.txt\")\n",
      "c = csv.reader(f, delimiter=\"\\t\")\n",
      "lcount = 0\n",
      "for line in c:\n",
      "    line = array(line)\n",
      "    posvectors[lcount,:] = line.astype(np.float)\n",
      "    lcount += 1\n",
      "f.close()"
     ],
     "language": "python",
     "metadata": {},
     "outputs": [],
     "prompt_number": 81
    },
    {
     "cell_type": "code",
     "collapsed": false,
     "input": [
      "#loading negative vectors\n",
      "f = open(\"features/training.nolabel.proto.negative.Entrez.vectors.txt\")\n",
      "c = csv.reader(f, delimiter=\"\\t\")\n",
      "lcount = 0\n",
      "for line in c:\n",
      "    line = array(line)\n",
      "    negvectors[lcount,:] = line.astype(np.float)\n",
      "    lcount += 1\n",
      "f.close()"
     ],
     "language": "python",
     "metadata": {},
     "outputs": [],
     "prompt_number": 82
    },
    {
     "cell_type": "markdown",
     "metadata": {},
     "source": [
      "## Labeling, shuffling and slicing the training data\n",
      "\n",
      "At this point there are two large matrices `posvectors` and `negvectors`.\n",
      "As the names suggest they are the positive and negative feature vectors.\n",
      "Scikit-learn requires binary labels for these vectors.\n",
      "To do this we create a vector of labels the same length as these two matrices combined.\n",
      "These are then shuffled to ensure that the training a test sets both contain a random mixture of positive and negative examples.\n",
      "\n",
      "This task is also shown in the notebook on [training the classifier][classnotes].\n",
      "\n",
      "### What is the difference between the training and test set?\n",
      "\n",
      "When training a classifier there is usually a distinction between the training and test sets.\n",
      "The difference between them is that the training set is actually used to fit the model.\n",
      "To avoid overfitting we test this fitted model on a randomly selected training set as testing the model on the training set will typically produce unrealistic results.\n",
      "This will be demonstrated below.\n",
      "\n",
      "[classnotes]: http://nbviewer.ipython.org/github/ggray1729/opencast-bio/blob/master/notebooks/Classifier%20Training.ipynb"
     ]
    },
    {
     "cell_type": "code",
     "collapsed": false,
     "input": [
      "# making the label vector\n",
      "ylabels = array([1.0]*posvectors.shape[0] + [0.0]*negvectors.shape[0])"
     ],
     "language": "python",
     "metadata": {},
     "outputs": [],
     "prompt_number": 85
    },
    {
     "cell_type": "code",
     "collapsed": false,
     "input": [
      "# shuffling is done using scikit-learn's shuffle\n",
      "import sklearn.utils"
     ],
     "language": "python",
     "metadata": {},
     "outputs": [],
     "prompt_number": 86
    },
    {
     "cell_type": "code",
     "collapsed": false,
     "input": [
      "# concatenate the data together and shuffle\n",
      "X,y = sklearn.utils.shuffle(scipy.sparse.vstack([posvectors,negvectors]),ylabels)"
     ],
     "language": "python",
     "metadata": {},
     "outputs": [],
     "prompt_number": 88
    },
    {
     "cell_type": "code",
     "collapsed": false,
     "input": [
      "#find quarter mark\n",
      "quarter = int(X.shape[0])/4\n",
      "#split into training and test\n",
      "Xtrain, Xtest = X[:3*quarter], X[3*quarter:]\n",
      "ytrain, ytest = y[:3*quarter], y[3*quarter:]"
     ],
     "language": "python",
     "metadata": {},
     "outputs": [],
     "prompt_number": 90
    },
    {
     "cell_type": "markdown",
     "metadata": {},
     "source": [
      "## Fitting the model\n",
      "\n",
      "The bulk of this work is done inside [Scikit-learn's random forest classifier][skrf].\n",
      "All classifiers in Scikit-learn have a similar interface.\n",
      "First, the classifier is instantiated with the relevant options.\n",
      "In this case `n_estimators`, which is the number of trees to use in the forest.\n",
      "\n",
      "Second, the `fit` method is used to fit the model.\n",
      "The training set is used here as the `X` and `y` arguments.\n",
      "\n",
      "[skrf]: http://scikit-learn.org/stable/modules/generated/sklearn.ensemble.RandomForestClassifier.html"
     ]
    },
    {
     "cell_type": "code",
     "collapsed": false,
     "input": [
      "import sklearn.ensemble"
     ],
     "language": "python",
     "metadata": {},
     "outputs": [],
     "prompt_number": 91
    },
    {
     "cell_type": "code",
     "collapsed": false,
     "input": [
      "randomforest = sklearn.ensemble.RandomForestClassifier(n_estimators=10)"
     ],
     "language": "python",
     "metadata": {},
     "outputs": [],
     "prompt_number": 93
    },
    {
     "cell_type": "code",
     "collapsed": false,
     "input": [
      "randomforest.fit(Xtrain.todense(),ytrain)"
     ],
     "language": "python",
     "metadata": {},
     "outputs": [
      {
       "metadata": {},
       "output_type": "pyout",
       "prompt_number": 108,
       "text": [
        "RandomForestClassifier(bootstrap=True, compute_importances=False,\n",
        "            criterion='gini', max_depth=None, max_features='auto',\n",
        "            min_density=0.1, min_split=1, n_estimators=10, n_jobs=1,\n",
        "            random_state=<mtrand.RandomState object at 0x7f8fce12c7f8>)"
       ]
      }
     ],
     "prompt_number": 108
    },
    {
     "cell_type": "markdown",
     "metadata": {},
     "source": [
      "## Testing\n",
      "\n",
      "After we have fit the model, typically we want to know whether our model fits the data well or not.\n",
      "In the task of classification we would like to get an idea of the error rate and accuracy we can expect when we apply this model to our problem.\n",
      "A typical tool to quickly describe the [sensitivity and specificity][sas] of a binary classifier is a ROC curve.\n",
      "\n",
      "### What is a ROC curve?\n",
      "\n",
      "ROC stands for [Receiver Operating Characteristic][roc].\n",
      "It is a plot of the true positive rate against the false positive rate for a classifier as the classification threshold is varied.\n",
      "The [wikipedia page][roc] describes it in more detail if required.\n",
      "\n",
      "We can build ROC curves running the classifier on both the test data and training data to illustrate the overfitting problem mentioned above.\n",
      "First, running the classifier on the training data should give us inflated results:\n",
      "\n",
      "[sas]: http://en.wikipedia.org/wiki/Specificity_(statistics)\n",
      "[roc]: http://en.wikipedia.org/wiki/Receiver_operating_characteristic"
     ]
    },
    {
     "cell_type": "code",
     "collapsed": false,
     "input": [
      "import sklearn.metrics"
     ],
     "language": "python",
     "metadata": {},
     "outputs": [],
     "prompt_number": 96
    },
    {
     "cell_type": "code",
     "collapsed": false,
     "input": [
      "def plotroc(ytest,estimates):\n",
      "    fpr, tpr, thresholds = sklearn.metrics.roc_curve(ytest,estimates[:,1])\n",
      "    clf()\n",
      "    plot(fpr, tpr)\n",
      "    plot([0, 1], [0, 1], 'k--')\n",
      "    xlim([0.0, 1.0])\n",
      "    ylim([0.0, 1.0])\n",
      "    xlabel('False Positive Rate')\n",
      "    ylabel('True Positive Rate')\n",
      "    title('Receiver operating characteristic')\n",
      "    show()\n",
      "    print \"Area under curve (AUC): {0}\".format(sklearn.metrics.auc(fpr,tpr))\n",
      "    return fpr,tpr"
     ],
     "language": "python",
     "metadata": {},
     "outputs": [],
     "prompt_number": 120
    },
    {
     "cell_type": "code",
     "collapsed": false,
     "input": [
      "estimates = randomforest.predict_proba(Xtrain.todense())"
     ],
     "language": "python",
     "metadata": {},
     "outputs": [],
     "prompt_number": 117
    },
    {
     "cell_type": "markdown",
     "metadata": {},
     "source": [
      "### Training data"
     ]
    },
    {
     "cell_type": "code",
     "collapsed": false,
     "input": [
      "trfpr,trtpr = plotroc(ytrain,estimates)"
     ],
     "language": "python",
     "metadata": {},
     "outputs": [
      {
       "metadata": {},
       "output_type": "display_data",
       "png": "[encoded data removed]",
       "text": [
        "<matplotlib.figure.Figure at 0x82bdf750>"
       ]
      },
      {
       "output_type": "stream",
       "stream": "stdout",
       "text": [
        "Area under curve (AUC): 0.970124702687\n"
       ]
      }
     ],
     "prompt_number": 123
    },
    {
     "cell_type": "markdown",
     "metadata": {},
     "source": [
      "Then if we do the same thing with the test data:\n",
      "\n",
      "### Test data"
     ]
    },
    {
     "cell_type": "code",
     "collapsed": false,
     "input": [
      "estimates = randomforest.predict_proba(Xtest.todense())"
     ],
     "language": "python",
     "metadata": {},
     "outputs": [],
     "prompt_number": 124
    },
    {
     "cell_type": "code",
     "collapsed": false,
     "input": [
      "tefpr,tetpr = plotroc(ytest,estimates)"
     ],
     "language": "python",
     "metadata": {},
     "outputs": [
      {
       "metadata": {},
       "output_type": "display_data",
       "png": "[encoded data removed]",
       "text": [
        "<matplotlib.figure.Figure at 0x6a1bc10>"
       ]
      },
      {
       "output_type": "stream",
       "stream": "stdout",
       "text": [
        "Area under curve (AUC): 0.951887435327\n"
       ]
      }
     ],
     "prompt_number": 125
    },
    {
     "cell_type": "markdown",
     "metadata": {},
     "source": [
      "The difference on this case is actually very small, and this is likely a characteristic of the data used to train the model.\n",
      "\n",
      "### Cross-validation\n",
      "\n",
      "[Cross validation][cross] involves taking multiple splits of the training and test data and evaluating the AUC on the test data of each.\n",
      "In the real pipeline this will be the preferred method of testing to avoid outlier test sets which predict unrealistic performance.\n",
      "\n",
      "## AUC values on sparse data\n",
      "\n",
      "AUC values give a single value figure of merit of a ROC curve.\n",
      "The closer the value is to 1, the closer the classifier is to being a perfect predictor for the data.\n",
      "\n",
      "The training labels in this task are very sparsely populated, with 600 zeros for every one.\n",
      "On this kind of data, and as mentioned by [Qi et al][qi2006], it is more common to use a reduced AUC value, which only considers the first portion of the ROC curve.\n",
      "This is because in the later sections of the curve the false positive rate of the predictor is rising and in a practical setting only low false positive rates are acceptable.\n",
      "\n",
      "A value described in [Qi et al (2006)][qi2006] was the R50 value.\n",
      "This is described as being the are under the curve up until there are 50 false positives detected.\n",
      "In their case this is up to a false positive rate of 0.167%.\n",
      "We have 766,665 test examples so our R50 value would be up to a rate of 0.000652%, which is clearly impractical.\n",
      "\n",
      "The description in the paper of this is likely badly worded.\n",
      "It also claims that this value is in widespread use, but apart from in this paper it is very difficult to find any mention of it.\n",
      "In any case, we can find the area under this ROC curve up until reaching a false positive rate of 0.167%.\n",
      "\n",
      "[qi2006]: http://onlinelibrary.wiley.com/doi/10.1002/prot.20865/full\n",
      "[cross]: http://en.wikipedia.org/wiki/Cross-validation_(statistics)"
     ]
    },
    {
     "cell_type": "code",
     "collapsed": false,
     "input": [
      "r50trfpr = trfpr[trfpr<0.00167]\n",
      "r50crv = array([r50trfpr,trtpr[:r50trfpr.shape[0]]])\n",
      "print \"R50 value for Training data {0}\".format(sum(r50crv[1,:])/len(r50crv[1,:]))"
     ],
     "language": "python",
     "metadata": {},
     "outputs": [
      {
       "output_type": "stream",
       "stream": "stdout",
       "text": [
        "R50 value for Training data 0.692875164687\n"
       ]
      }
     ],
     "prompt_number": 171
    },
    {
     "cell_type": "code",
     "collapsed": false,
     "input": [
      "r50tefpr = tefpr[tefpr<0.00167]\n",
      "r50crv = array([r50tefpr,tetpr[:r50tefpr.shape[0]]])\n",
      "print \"R50 value for Test data {0}\".format(sum(r50crv[1,:])/len(r50crv[1,:]))"
     ],
     "language": "python",
     "metadata": {},
     "outputs": [
      {
       "output_type": "stream",
       "stream": "stdout",
       "text": [
        "R50 value for Test data 0.631570349545\n"
       ]
      }
     ],
     "prompt_number": 174
    },
    {
     "cell_type": "markdown",
     "metadata": {},
     "source": [
      "Or up until reaching a false positive rate of 0.000652%:"
     ]
    },
    {
     "cell_type": "code",
     "collapsed": false,
     "input": [
      "r50tefpr = tefpr[tefpr<0.00000652]\n",
      "r50crv = array([r50tefpr,tetpr[:r50tefpr.shape[0]]])\n",
      "print \"R50 value for Test data {0}\".format(sum(r50crv[1,:])/len(r50crv[1,:]))"
     ],
     "language": "python",
     "metadata": {},
     "outputs": [
      {
       "output_type": "stream",
       "stream": "stdout",
       "text": [
        "R50 value for Test data 0.259467037046\n"
       ]
      }
     ],
     "prompt_number": 175
    },
    {
     "cell_type": "markdown",
     "metadata": {},
     "source": [
      "Interestingly, the first value of 0.631 compares well with the performance of the classifiers in the paper by [Qi et al (2006)][qi2006].\n",
      "\n",
      "[qi2006]: http://onlinelibrary.wiley.com/doi/10.1002/prot.20865/full"
     ]
    },
    {
     "cell_type": "markdown",
     "metadata": {},
     "source": [
      "### Which features are being used?\n",
      "\n",
      "We may like to know which features are being weighted more heavily in this prediction over others.\n",
      "This is done by removing features, retraining the classifier and observing the change in performance.\n",
      "This will be done in the full notebook on classifier training."
     ]
    },
    {
     "cell_type": "markdown",
     "metadata": {},
     "source": [
      "# Classifying Pulldown Network\n",
      "\n",
      "Here, we are using a network of pulldown proteins created through merging known interactions from three sources when queried for a list of proteins returned by a pulldown experiment.\n",
      "These three sources were:\n",
      "\n",
      "1. [HIPPIE][]\n",
      "2. HMR - Human-Mouse-Rat database\n",
      "3. [InterologWalk][walk]\n",
      "\n",
      "This list of interactions was then hand-curated by removing some proteins with extremely high numbers of connections to aid the community detection algorithms.\n",
      "The resulting list of interactions defines the protein-protein interaction network of interest.\n",
      "Adding weights to this list of edges is a key part of this project.\n",
      "This will be done using the classifier trained above and the feature vectors created for this list of interactions.\n",
      "\n",
      "[hippie]: http://cbdm.mdc-berlin.de/tools/hippie/information.php\n",
      "[walk]: http://www.biomedcentral.com/1471-2105/12/289"
     ]
    },
    {
     "cell_type": "code",
     "collapsed": false,
     "input": [
      "# using loadtxt now as it's small\n",
      "pulldownvectors = loadtxt(\"features/edgelist.proto.vectors.txt\")"
     ],
     "language": "python",
     "metadata": {},
     "outputs": [],
     "prompt_number": 177
    },
    {
     "cell_type": "code",
     "collapsed": false,
     "input": [
      "cd .."
     ],
     "language": "python",
     "metadata": {},
     "outputs": [
      {
       "output_type": "stream",
       "stream": "stdout",
       "text": [
        "/data/opencast/MRes\n"
       ]
      }
     ],
     "prompt_number": 227
    },
    {
     "cell_type": "code",
     "collapsed": false,
     "input": [
      "pulldownestimates = randomforest.predict_proba(pulldownvectors)"
     ],
     "language": "python",
     "metadata": {},
     "outputs": [],
     "prompt_number": 228
    },
    {
     "cell_type": "code",
     "collapsed": false,
     "input": [
      "# write the results to a file\n",
      "# with the associated protein pairs\n",
      "f,fr = open(\"features/edgelist.proto.predictions.txt\", \"w\"), open(\"forGAVIN/mergecode/edgelist_new.txt\")\n",
      "c,cr = csv.writer(f,delimiter=\"\\t\"),csv.reader(fr,delimiter=\"\\t\")\n",
      "lcount = 0\n",
      "for line in cr:\n",
      "    c.writerow(line+[\"%.5f\"%pulldownestimates[lcount,1]])\n",
      "    lcount += 1\n",
      "f.close()"
     ],
     "language": "python",
     "metadata": {},
     "outputs": [],
     "prompt_number": 229
    },
    {
     "cell_type": "markdown",
     "metadata": {},
     "source": [
      "Unfortunately, because there was a header in the edgelist file, the first \"interaction\" is between the string \"columns\" and the number 2.\n",
      "This must be removed:"
     ]
    },
    {
     "cell_type": "code",
     "collapsed": false,
     "input": [
      "!head -n 1 features/edgelist.proto.predictions.txt"
     ],
     "language": "python",
     "metadata": {},
     "outputs": [
      {
       "output_type": "stream",
       "stream": "stdout",
       "text": [
        "columns 2\t0.00059\r",
        "\r\n"
       ]
      }
     ],
     "prompt_number": 230
    },
    {
     "cell_type": "code",
     "collapsed": false,
     "input": [
      "!tail -n +2 features/edgelist.proto.predictions.txt > features/edgelist.proto.predictions.txt.tmp"
     ],
     "language": "python",
     "metadata": {},
     "outputs": [],
     "prompt_number": 231
    },
    {
     "cell_type": "code",
     "collapsed": false,
     "input": [
      "!mv features/edgelist.proto.predictions.txt.tmp features/edgelist.proto.predictions.txt"
     ],
     "language": "python",
     "metadata": {},
     "outputs": [],
     "prompt_number": 232
    },
    {
     "cell_type": "markdown",
     "metadata": {},
     "source": [
      "# Community Detection\n",
      "\n",
      "The next step is to apply a community detection algorithm to both the weighted and unweighted files.\n",
      "This algorithm has already been written in C++, and all that has to be done is for it to be executed as in the [notes on community detection][comdet].\n",
      "\n",
      "First, it must be compiled:\n",
      "\n",
      "[comdet]: http://nbviewer.ipython.org/github/ggray1729/opencast-bio/blob/master/notebooks/Community%20Detection.ipynb"
     ]
    },
    {
     "cell_type": "code",
     "collapsed": false,
     "input": [
      "cd HBP/"
     ],
     "language": "python",
     "metadata": {},
     "outputs": [
      {
       "output_type": "stream",
       "stream": "stdout",
       "text": [
        "/data/opencast/MRes/HBP\n"
       ]
      }
     ],
     "prompt_number": 10
    },
    {
     "cell_type": "code",
     "collapsed": false,
     "input": [
      "!make"
     ],
     "language": "python",
     "metadata": {},
     "outputs": [
      {
       "output_type": "stream",
       "stream": "stdout",
       "text": [
        "Building with option-useomp\r\n",
        "make: `run' is up to date.\r\n"
       ]
      }
     ],
     "prompt_number": 201
    },
    {
     "cell_type": "markdown",
     "metadata": {},
     "source": [
      "### Unweighted case"
     ]
    },
    {
     "cell_type": "code",
     "collapsed": false,
     "input": [
      "!./run -file ../features/edgelist.proto.predictions.txt -weighted 0 -algorithm 2 -quite 1"
     ],
     "language": "python",
     "metadata": {},
     "outputs": [
      {
       "output_type": "stream",
       "stream": "stdout",
       "text": [
        "> ---- START ---- \r\n",
        "> Using Spectral Betweenness.\r\n",
        "> Using a non-weighted network \r\n",
        "> Scanning network_file: ../features/edgelist.proto.predictions.txt\r\n",
        "> Header: None \r\n"
       ]
      },
      {
       "output_type": "stream",
       "stream": "stdout",
       "text": [
        "> Running Spectral Betweenness.\r\n"
       ]
      },
      {
       "output_type": "stream",
       "stream": "stdout",
       "text": [
        "Warning: Too many iterations in tqli\r\n"
       ]
      },
      {
       "output_type": "stream",
       "stream": "stdout",
       "text": [
        "Warning: Too many iterations in tqli\r\n"
       ]
      },
      {
       "output_type": "stream",
       "stream": "stdout",
       "text": [
        "Warning: Too many iterations in tqli\r\n"
       ]
      },
      {
       "output_type": "stream",
       "stream": "stdout",
       "text": [
        "Warning: Too many iterations in tqli\r\n"
       ]
      },
      {
       "output_type": "stream",
       "stream": "stdout",
       "text": [
        "Warning: Too many iterations in tqli\r\n"
       ]
      },
      {
       "output_type": "stream",
       "stream": "stdout",
       "text": [
        "Warning: Too many iterations in tqli\r\n"
       ]
      },
      {
       "output_type": "stream",
       "stream": "stdout",
       "text": [
        "--- DONE ---\r\n",
        "> cputime: 391.54 seconds \r\n",
        "> Network (nodes): 1804 (edges): 15618\r\n"
       ]
      },
      {
       "output_type": "stream",
       "stream": "stdout",
       "text": [
        "> ---- END ---- \r\n"
       ]
      }
     ],
     "prompt_number": 206
    },
    {
     "cell_type": "markdown",
     "metadata": {},
     "source": [
      "The output is always written to the `OUT` file, so moving it before running again."
     ]
    },
    {
     "cell_type": "code",
     "collapsed": false,
     "input": [
      "!mv OUT protounweighted"
     ],
     "language": "python",
     "metadata": {},
     "outputs": [],
     "prompt_number": 207
    },
    {
     "cell_type": "markdown",
     "metadata": {},
     "source": [
      "### Weighted case"
     ]
    },
    {
     "cell_type": "code",
     "collapsed": false,
     "input": [
      "!mkdir OUT"
     ],
     "language": "python",
     "metadata": {},
     "outputs": [],
     "prompt_number": 13
    },
    {
     "cell_type": "code",
     "collapsed": false,
     "input": [
      "!./run -file ../features/edgelist.proto.predictions.txt -weighted 1 -algorithm 3 -quite 1"
     ],
     "language": "python",
     "metadata": {},
     "outputs": [
      {
       "output_type": "stream",
       "stream": "stdout",
       "text": [
        "> ---- START ---- \r\n",
        "> Using Spectral Betweenness.\r\n",
        "> Using a weighted network \r\n",
        "> Scanning network_file: ../features/edgelist.proto.predictions.txt\r\n",
        "> Header: None \r\n"
       ]
      },
      {
       "output_type": "stream",
       "stream": "stdout",
       "text": [
        "> Running Spectral Betweenness.\r\n"
       ]
      },
      {
       "output_type": "stream",
       "stream": "stdout",
       "text": [
        "Warning: Too many iterations in tqli\r\n"
       ]
      },
      {
       "output_type": "stream",
       "stream": "stdout",
       "text": [
        "Warning: Too many iterations in tqli\r\n"
       ]
      },
      {
       "output_type": "stream",
       "stream": "stdout",
       "text": [
        "Warning: Too many iterations in tqli\r\n"
       ]
      },
      {
       "output_type": "stream",
       "stream": "stdout",
       "text": [
        "Warning: Too many iterations in tqli\r\n"
       ]
      },
      {
       "output_type": "stream",
       "stream": "stdout",
       "text": [
        "Warning: Too many iterations in tqli\r\n"
       ]
      },
      {
       "output_type": "stream",
       "stream": "stdout",
       "text": [
        "Warning: Too many iterations in tqli\r\n"
       ]
      },
      {
       "output_type": "stream",
       "stream": "stdout",
       "text": [
        "Warning: Too many iterations in tqli\r\n"
       ]
      },
      {
       "output_type": "stream",
       "stream": "stdout",
       "text": [
        "Warning: Too many iterations in tqli\r\n"
       ]
      },
      {
       "output_type": "stream",
       "stream": "stdout",
       "text": [
        "Warning: Too many iterations in tqli\r\n"
       ]
      },
      {
       "output_type": "stream",
       "stream": "stdout",
       "text": [
        "Warning: Too many iterations in tqli\r\n"
       ]
      },
      {
       "output_type": "stream",
       "stream": "stdout",
       "text": [
        "Warning: Too many iterations in tqli\r\n"
       ]
      },
      {
       "output_type": "stream",
       "stream": "stdout",
       "text": [
        "Warning: Too many iterations in tqli\r\n"
       ]
      },
      {
       "output_type": "stream",
       "stream": "stdout",
       "text": [
        "Warning: Too many iterations in tqli\r\n"
       ]
      },
      {
       "output_type": "stream",
       "stream": "stdout",
       "text": [
        "Warning: Too many iterations in tqli\r\n"
       ]
      },
      {
       "output_type": "stream",
       "stream": "stdout",
       "text": [
        "Warning: Too many iterations in tqli\r\n"
       ]
      },
      {
       "output_type": "stream",
       "stream": "stdout",
       "text": [
        "Warning: Too many iterations in tqli\r\n"
       ]
      },
      {
       "output_type": "stream",
       "stream": "stdout",
       "text": [
        "Warning: Too many iterations in tqli\r\n"
       ]
      },
      {
       "output_type": "stream",
       "stream": "stdout",
       "text": [
        "Warning: Too many iterations in tqli\r\n"
       ]
      },
      {
       "output_type": "stream",
       "stream": "stdout",
       "text": [
        "Warning: Too many iterations in tqli\r\n"
       ]
      },
      {
       "output_type": "stream",
       "stream": "stdout",
       "text": [
        "Warning: Too many iterations in tqli\r\n"
       ]
      },
      {
       "output_type": "stream",
       "stream": "stdout",
       "text": [
        "Warning: Too many iterations in tqli\r\n"
       ]
      },
      {
       "output_type": "stream",
       "stream": "stdout",
       "text": [
        "Warning: Too many iterations in tqli\r\n"
       ]
      },
      {
       "output_type": "stream",
       "stream": "stdout",
       "text": [
        "Warning: Too many iterations in tqli\r\n"
       ]
      },
      {
       "output_type": "stream",
       "stream": "stdout",
       "text": [
        "Warning: Too many iterations in tqli\r\n"
       ]
      },
      {
       "output_type": "stream",
       "stream": "stdout",
       "text": [
        "Warning: Too many iterations in tqli\r\n"
       ]
      },
      {
       "output_type": "stream",
       "stream": "stdout",
       "text": [
        "Warning: Too many iterations in tqli\r\n"
       ]
      },
      {
       "output_type": "stream",
       "stream": "stdout",
       "text": [
        "Warning: Too many iterations in tqli\r\n"
       ]
      },
      {
       "output_type": "stream",
       "stream": "stdout",
       "text": [
        "Warning: Too many iterations in tqli\r\n"
       ]
      },
      {
       "output_type": "stream",
       "stream": "stdout",
       "text": [
        "Warning: Too many iterations in tqli\r\n"
       ]
      },
      {
       "output_type": "stream",
       "stream": "stdout",
       "text": [
        "Warning: Too many iterations in tqli\r\n"
       ]
      },
      {
       "output_type": "stream",
       "stream": "stdout",
       "text": [
        "Warning: Too many iterations in tqli\r\n"
       ]
      },
      {
       "output_type": "stream",
       "stream": "stdout",
       "text": [
        "Warning: Too many iterations in tqli\r\n"
       ]
      },
      {
       "output_type": "stream",
       "stream": "stdout",
       "text": [
        "Warning: Too many iterations in tqli\r\n"
       ]
      },
      {
       "output_type": "stream",
       "stream": "stdout",
       "text": [
        "Warning: Too many iterations in tqli\r\n"
       ]
      },
      {
       "output_type": "stream",
       "stream": "stdout",
       "text": [
        "Warning: Too many iterations in tqli\r\n"
       ]
      },
      {
       "output_type": "stream",
       "stream": "stdout",
       "text": [
        "Warning: Too many iterations in tqli\r\n"
       ]
      },
      {
       "output_type": "stream",
       "stream": "stdout",
       "text": [
        "Warning: Too many iterations in tqli\r\n"
       ]
      },
      {
       "output_type": "stream",
       "stream": "stdout",
       "text": [
        "Warning: Too many iterations in tqli\r\n"
       ]
      },
      {
       "output_type": "stream",
       "stream": "stdout",
       "text": [
        "Warning: Too many iterations in tqli\r\n"
       ]
      },
      {
       "output_type": "stream",
       "stream": "stdout",
       "text": [
        "Warning: Too many iterations in tqli\r\n"
       ]
      },
      {
       "output_type": "stream",
       "stream": "stdout",
       "text": [
        "Warning: Too many iterations in tqli\r\n"
       ]
      },
      {
       "output_type": "stream",
       "stream": "stdout",
       "text": [
        "Warning: Too many iterations in tqli\r\n"
       ]
      },
      {
       "output_type": "stream",
       "stream": "stdout",
       "text": [
        "Warning: Too many iterations in tqli\r\n"
       ]
      },
      {
       "output_type": "stream",
       "stream": "stdout",
       "text": [
        "Warning: Too many iterations in tqli\r\n"
       ]
      },
      {
       "output_type": "stream",
       "stream": "stdout",
       "text": [
        "Warning: Too many iterations in tqli\r\n"
       ]
      },
      {
       "output_type": "stream",
       "stream": "stdout",
       "text": [
        "Warning: Too many iterations in tqli\r\n"
       ]
      },
      {
       "output_type": "stream",
       "stream": "stdout",
       "text": [
        "Warning: Too many iterations in tqli\r\n"
       ]
      },
      {
       "output_type": "stream",
       "stream": "stdout",
       "text": [
        "Warning: Too many iterations in tqli\r\n"
       ]
      },
      {
       "output_type": "stream",
       "stream": "stdout",
       "text": [
        "Warning: Too many iterations in tqli\r\n"
       ]
      },
      {
       "output_type": "stream",
       "stream": "stdout",
       "text": [
        "Warning: Too many iterations in tqli\r\n"
       ]
      },
      {
       "output_type": "stream",
       "stream": "stdout",
       "text": [
        "Warning: Too many iterations in tqli\r\n"
       ]
      },
      {
       "output_type": "stream",
       "stream": "stdout",
       "text": [
        "Warning: Too many iterations in tqli\r\n"
       ]
      },
      {
       "output_type": "stream",
       "stream": "stdout",
       "text": [
        "Warning: Too many iterations in tqli\r\n"
       ]
      },
      {
       "output_type": "stream",
       "stream": "stdout",
       "text": [
        "Warning: Too many iterations in tqli\r\n"
       ]
      },
      {
       "output_type": "stream",
       "stream": "stdout",
       "text": [
        "Warning: Too many iterations in tqli\r\n"
       ]
      },
      {
       "output_type": "stream",
       "stream": "stdout",
       "text": [
        "Warning: Too many iterations in tqli\r\n"
       ]
      },
      {
       "output_type": "stream",
       "stream": "stdout",
       "text": [
        "Warning: Too many iterations in tqli\r\n"
       ]
      },
      {
       "output_type": "stream",
       "stream": "stdout",
       "text": [
        "Warning: Too many iterations in tqli\r\n"
       ]
      },
      {
       "output_type": "stream",
       "stream": "stdout",
       "text": [
        "Warning: Too many iterations in tqli\r\n"
       ]
      },
      {
       "output_type": "stream",
       "stream": "stdout",
       "text": [
        "Warning: Too many iterations in tqli\r\n"
       ]
      },
      {
       "output_type": "stream",
       "stream": "stdout",
       "text": [
        "Warning: Too many iterations in tqli\r\n"
       ]
      },
      {
       "output_type": "stream",
       "stream": "stdout",
       "text": [
        "Warning: Too many iterations in tqli\r\n"
       ]
      },
      {
       "output_type": "stream",
       "stream": "stdout",
       "text": [
        "Warning: Too many iterations in tqli\r\n"
       ]
      },
      {
       "output_type": "stream",
       "stream": "stdout",
       "text": [
        "Warning: Too many iterations in tqli\r\n"
       ]
      },
      {
       "output_type": "stream",
       "stream": "stdout",
       "text": [
        "Warning: Too many iterations in tqli\r\n"
       ]
      },
      {
       "output_type": "stream",
       "stream": "stdout",
       "text": [
        "Warning: Too many iterations in tqli\r\n"
       ]
      },
      {
       "output_type": "stream",
       "stream": "stdout",
       "text": [
        "Warning: Too many iterations in tqli\r\n"
       ]
      },
      {
       "output_type": "stream",
       "stream": "stdout",
       "text": [
        "Warning: Too many iterations in tqli\r\n"
       ]
      },
      {
       "output_type": "stream",
       "stream": "stdout",
       "text": [
        "Warning: Too many iterations in tqli\r\n"
       ]
      },
      {
       "output_type": "stream",
       "stream": "stdout",
       "text": [
        "Warning: Too many iterations in tqli\r\n"
       ]
      },
      {
       "output_type": "stream",
       "stream": "stdout",
       "text": [
        "Warning: Too many iterations in tqli\r\n"
       ]
      },
      {
       "output_type": "stream",
       "stream": "stdout",
       "text": [
        "Warning: Too many iterations in tqli\r\n"
       ]
      },
      {
       "output_type": "stream",
       "stream": "stdout",
       "text": [
        "Warning: Too many iterations in tqli\r\n"
       ]
      },
      {
       "output_type": "stream",
       "stream": "stdout",
       "text": [
        "Warning: Too many iterations in tqli\r\n"
       ]
      },
      {
       "output_type": "stream",
       "stream": "stdout",
       "text": [
        "Warning: Too many iterations in tqli\r\n"
       ]
      },
      {
       "output_type": "stream",
       "stream": "stdout",
       "text": [
        "Warning: Too many iterations in tqli\r\n"
       ]
      },
      {
       "output_type": "stream",
       "stream": "stdout",
       "text": [
        "Warning: Too many iterations in tqli\r\n"
       ]
      },
      {
       "output_type": "stream",
       "stream": "stdout",
       "text": [
        "Warning: Too many iterations in tqli\r\n"
       ]
      },
      {
       "output_type": "stream",
       "stream": "stdout",
       "text": [
        "Warning: Too many iterations in tqli\r\n"
       ]
      },
      {
       "output_type": "stream",
       "stream": "stdout",
       "text": [
        "Warning: Too many iterations in tqli\r\n"
       ]
      },
      {
       "output_type": "stream",
       "stream": "stdout",
       "text": [
        "Warning: Too many iterations in tqli\r\n"
       ]
      },
      {
       "output_type": "stream",
       "stream": "stdout",
       "text": [
        "Warning: Too many iterations in tqli\r\n"
       ]
      },
      {
       "output_type": "stream",
       "stream": "stdout",
       "text": [
        "Warning: Too many iterations in tqli\r\n"
       ]
      },
      {
       "output_type": "stream",
       "stream": "stdout",
       "text": [
        "Warning: Too many iterations in tqli\r\n"
       ]
      },
      {
       "output_type": "stream",
       "stream": "stdout",
       "text": [
        "Warning: Too many iterations in tqli\r\n"
       ]
      },
      {
       "output_type": "stream",
       "stream": "stdout",
       "text": [
        "Warning: Too many iterations in tqli\r\n"
       ]
      },
      {
       "output_type": "stream",
       "stream": "stdout",
       "text": [
        "Warning: Too many iterations in tqli\r\n"
       ]
      },
      {
       "output_type": "stream",
       "stream": "stdout",
       "text": [
        "Warning: Too many iterations in tqli\r\n"
       ]
      },
      {
       "output_type": "stream",
       "stream": "stdout",
       "text": [
        "Warning: Too many iterations in tqli\r\n"
       ]
      },
      {
       "output_type": "stream",
       "stream": "stdout",
       "text": [
        "Warning: Too many iterations in tqli\r\n"
       ]
      },
      {
       "output_type": "stream",
       "stream": "stdout",
       "text": [
        "Warning: Too many iterations in tqli\r\n"
       ]
      },
      {
       "output_type": "stream",
       "stream": "stdout",
       "text": [
        "Warning: Too many iterations in tqli\r\n"
       ]
      },
      {
       "output_type": "stream",
       "stream": "stdout",
       "text": [
        "Warning: Too many iterations in tqli\r\n"
       ]
      },
      {
       "output_type": "stream",
       "stream": "stdout",
       "text": [
        "Warning: Too many iterations in tqli\r\n"
       ]
      },
      {
       "output_type": "stream",
       "stream": "stdout",
       "text": [
        "Warning: Too many iterations in tqli\r\n"
       ]
      },
      {
       "output_type": "stream",
       "stream": "stdout",
       "text": [
        "Warning: Too many iterations in tqli\r\n"
       ]
      },
      {
       "output_type": "stream",
       "stream": "stdout",
       "text": [
        "Warning: Too many iterations in tqli\r\n"
       ]
      },
      {
       "output_type": "stream",
       "stream": "stdout",
       "text": [
        "Warning: Too many iterations in tqli\r\n"
       ]
      },
      {
       "output_type": "stream",
       "stream": "stdout",
       "text": [
        "Warning: Too many iterations in tqli\r\n"
       ]
      },
      {
       "output_type": "stream",
       "stream": "stdout",
       "text": [
        "Warning: Too many iterations in tqli\r\n"
       ]
      },
      {
       "output_type": "stream",
       "stream": "stdout",
       "text": [
        "Warning: Too many iterations in tqli\r\n"
       ]
      },
      {
       "output_type": "stream",
       "stream": "stdout",
       "text": [
        "Warning: Too many iterations in tqli\r\n"
       ]
      },
      {
       "output_type": "stream",
       "stream": "stdout",
       "text": [
        "Warning: Too many iterations in tqli\r\n"
       ]
      },
      {
       "output_type": "stream",
       "stream": "stdout",
       "text": [
        "Warning: Too many iterations in tqli\r\n"
       ]
      },
      {
       "output_type": "stream",
       "stream": "stdout",
       "text": [
        "Warning: Too many iterations in tqli\r\n"
       ]
      },
      {
       "output_type": "stream",
       "stream": "stdout",
       "text": [
        "Warning: Too many iterations in tqli\r\n"
       ]
      },
      {
       "output_type": "stream",
       "stream": "stdout",
       "text": [
        "Warning: Too many iterations in tqli\r\n"
       ]
      },
      {
       "output_type": "stream",
       "stream": "stdout",
       "text": [
        "Warning: Too many iterations in tqli\r\n"
       ]
      },
      {
       "output_type": "stream",
       "stream": "stdout",
       "text": [
        "Warning: Too many iterations in tqli\r\n"
       ]
      },
      {
       "output_type": "stream",
       "stream": "stdout",
       "text": [
        "Warning: Too many iterations in tqli\r\n"
       ]
      },
      {
       "output_type": "stream",
       "stream": "stdout",
       "text": [
        "Warning: Too many iterations in tqli\r\n"
       ]
      },
      {
       "output_type": "stream",
       "stream": "stdout",
       "text": [
        "Warning: Too many iterations in tqli\r\n"
       ]
      },
      {
       "output_type": "stream",
       "stream": "stdout",
       "text": [
        "Warning: Too many iterations in tqli\r\n"
       ]
      },
      {
       "output_type": "stream",
       "stream": "stdout",
       "text": [
        "Warning: Too many iterations in tqli\r\n"
       ]
      },
      {
       "output_type": "stream",
       "stream": "stdout",
       "text": [
        "Warning: Too many iterations in tqli\r\n"
       ]
      },
      {
       "output_type": "stream",
       "stream": "stdout",
       "text": [
        "Warning: Too many iterations in tqli\r\n"
       ]
      },
      {
       "output_type": "stream",
       "stream": "stdout",
       "text": [
        "Warning: Too many iterations in tqli\r\n"
       ]
      },
      {
       "output_type": "stream",
       "stream": "stdout",
       "text": [
        "Warning: Too many iterations in tqli\r\n"
       ]
      },
      {
       "output_type": "stream",
       "stream": "stdout",
       "text": [
        "Warning: Too many iterations in tqli\r\n"
       ]
      },
      {
       "output_type": "stream",
       "stream": "stdout",
       "text": [
        "Warning: Too many iterations in tqli\r\n"
       ]
      },
      {
       "output_type": "stream",
       "stream": "stdout",
       "text": [
        "Warning: Too many iterations in tqli\r\n"
       ]
      },
      {
       "output_type": "stream",
       "stream": "stdout",
       "text": [
        "Warning: Too many iterations in tqli\r\n"
       ]
      },
      {
       "output_type": "stream",
       "stream": "stdout",
       "text": [
        "Warning: Too many iterations in tqli\r\n"
       ]
      },
      {
       "output_type": "stream",
       "stream": "stdout",
       "text": [
        "Warning: Too many iterations in tqli\r\n"
       ]
      },
      {
       "output_type": "stream",
       "stream": "stdout",
       "text": [
        "Warning: Too many iterations in tqli\r\n"
       ]
      },
      {
       "output_type": "stream",
       "stream": "stdout",
       "text": [
        "Warning: Too many iterations in tqli\r\n"
       ]
      },
      {
       "output_type": "stream",
       "stream": "stdout",
       "text": [
        "Warning: Too many iterations in tqli\r\n"
       ]
      },
      {
       "output_type": "stream",
       "stream": "stdout",
       "text": [
        "Warning: Too many iterations in tqli\r\n"
       ]
      },
      {
       "output_type": "stream",
       "stream": "stdout",
       "text": [
        "Warning: Too many iterations in tqli\r\n"
       ]
      },
      {
       "output_type": "stream",
       "stream": "stdout",
       "text": [
        "Warning: Too many iterations in tqli\r\n"
       ]
      },
      {
       "output_type": "stream",
       "stream": "stdout",
       "text": [
        "Warning: Too many iterations in tqli\r\n"
       ]
      },
      {
       "output_type": "stream",
       "stream": "stdout",
       "text": [
        "Warning: Too many iterations in tqli\r\n"
       ]
      },
      {
       "output_type": "stream",
       "stream": "stdout",
       "text": [
        "Warning: Too many iterations in tqli\r\n"
       ]
      },
      {
       "output_type": "stream",
       "stream": "stdout",
       "text": [
        "Warning: Too many iterations in tqli\r\n"
       ]
      },
      {
       "output_type": "stream",
       "stream": "stdout",
       "text": [
        "Warning: Too many iterations in tqli\r\n"
       ]
      },
      {
       "output_type": "stream",
       "stream": "stdout",
       "text": [
        "Warning: Too many iterations in tqli\r\n"
       ]
      },
      {
       "output_type": "stream",
       "stream": "stdout",
       "text": [
        "Warning: Too many iterations in tqli\r\n"
       ]
      },
      {
       "output_type": "stream",
       "stream": "stdout",
       "text": [
        "Warning: Too many iterations in tqli\r\n"
       ]
      },
      {
       "output_type": "stream",
       "stream": "stdout",
       "text": [
        "Warning: Too many iterations in tqli\r\n"
       ]
      },
      {
       "output_type": "stream",
       "stream": "stdout",
       "text": [
        "Warning: Too many iterations in tqli\r\n"
       ]
      },
      {
       "output_type": "stream",
       "stream": "stdout",
       "text": [
        "Warning: Too many iterations in tqli\r\n"
       ]
      },
      {
       "output_type": "stream",
       "stream": "stdout",
       "text": [
        "Warning: Too many iterations in tqli\r\n"
       ]
      },
      {
       "output_type": "stream",
       "stream": "stdout",
       "text": [
        "Warning: Too many iterations in tqli\r\n"
       ]
      },
      {
       "output_type": "stream",
       "stream": "stdout",
       "text": [
        "Warning: Too many iterations in tqli\r\n"
       ]
      },
      {
       "output_type": "stream",
       "stream": "stdout",
       "text": [
        "Warning: Too many iterations in tqli\r\n"
       ]
      },
      {
       "output_type": "stream",
       "stream": "stdout",
       "text": [
        "Warning: Too many iterations in tqli\r\n"
       ]
      },
      {
       "output_type": "stream",
       "stream": "stdout",
       "text": [
        "Warning: Too many iterations in tqli\r\n"
       ]
      },
      {
       "output_type": "stream",
       "stream": "stdout",
       "text": [
        "Warning: Too many iterations in tqli\r\n"
       ]
      },
      {
       "output_type": "stream",
       "stream": "stdout",
       "text": [
        "Warning: Too many iterations in tqli\r\n"
       ]
      },
      {
       "output_type": "stream",
       "stream": "stdout",
       "text": [
        "Warning: Too many iterations in tqli\r\n"
       ]
      },
      {
       "output_type": "stream",
       "stream": "stdout",
       "text": [
        "Warning: Too many iterations in tqli\r\n"
       ]
      },
      {
       "output_type": "stream",
       "stream": "stdout",
       "text": [
        "Warning: Too many iterations in tqli\r\n"
       ]
      },
      {
       "output_type": "stream",
       "stream": "stdout",
       "text": [
        "Warning: Too many iterations in tqli\r\n"
       ]
      },
      {
       "output_type": "stream",
       "stream": "stdout",
       "text": [
        "Warning: Too many iterations in tqli\r\n"
       ]
      },
      {
       "output_type": "stream",
       "stream": "stdout",
       "text": [
        "Warning: Too many iterations in tqli\r\n"
       ]
      },
      {
       "output_type": "stream",
       "stream": "stdout",
       "text": [
        "Warning: Too many iterations in tqli\r\n"
       ]
      },
      {
       "output_type": "stream",
       "stream": "stdout",
       "text": [
        "Warning: Too many iterations in tqli\r\n"
       ]
      },
      {
       "output_type": "stream",
       "stream": "stdout",
       "text": [
        "Warning: Too many iterations in tqli\r\n"
       ]
      },
      {
       "output_type": "stream",
       "stream": "stdout",
       "text": [
        "Warning: Too many iterations in tqli\r\n"
       ]
      },
      {
       "output_type": "stream",
       "stream": "stdout",
       "text": [
        "Warning: Too many iterations in tqli\r\n"
       ]
      },
      {
       "output_type": "stream",
       "stream": "stdout",
       "text": [
        "Warning: Too many iterations in tqli\r\n"
       ]
      },
      {
       "output_type": "stream",
       "stream": "stdout",
       "text": [
        "Warning: Too many iterations in tqli\r\n"
       ]
      },
      {
       "output_type": "stream",
       "stream": "stdout",
       "text": [
        "Warning: Too many iterations in tqli\r\n"
       ]
      },
      {
       "output_type": "stream",
       "stream": "stdout",
       "text": [
        "Warning: Too many iterations in tqli\r\n"
       ]
      },
      {
       "output_type": "stream",
       "stream": "stdout",
       "text": [
        "Warning: Too many iterations in tqli\r\n"
       ]
      },
      {
       "output_type": "stream",
       "stream": "stdout",
       "text": [
        "Warning: Too many iterations in tqli\r\n"
       ]
      },
      {
       "output_type": "stream",
       "stream": "stdout",
       "text": [
        "Warning: Too many iterations in tqli\r\n"
       ]
      },
      {
       "output_type": "stream",
       "stream": "stdout",
       "text": [
        "Warning: Too many iterations in tqli\r\n"
       ]
      },
      {
       "output_type": "stream",
       "stream": "stdout",
       "text": [
        "Warning: Too many iterations in tqli\r\n"
       ]
      },
      {
       "output_type": "stream",
       "stream": "stdout",
       "text": [
        "Warning: Too many iterations in tqli\r\n"
       ]
      },
      {
       "output_type": "stream",
       "stream": "stdout",
       "text": [
        "Warning: Too many iterations in tqli\r\n"
       ]
      },
      {
       "output_type": "stream",
       "stream": "stdout",
       "text": [
        "Warning: Too many iterations in tqli\r\n"
       ]
      },
      {
       "output_type": "stream",
       "stream": "stdout",
       "text": [
        "Warning: Too many iterations in tqli\r\n"
       ]
      },
      {
       "output_type": "stream",
       "stream": "stdout",
       "text": [
        "Warning: Too many iterations in tqli\r\n"
       ]
      },
      {
       "output_type": "stream",
       "stream": "stdout",
       "text": [
        "--- DONE ---\r\n",
        "> cputime: 3946.31 seconds \r\n",
        "> Network (nodes): 1804 (edges): 15618\r\n"
       ]
      },
      {
       "output_type": "stream",
       "stream": "stdout",
       "text": [
        "> ---- END ---- \r\n"
       ]
      }
     ],
     "prompt_number": 14
    },
    {
     "cell_type": "code",
     "collapsed": false,
     "input": [
      "!mv OUT protoweighted"
     ],
     "language": "python",
     "metadata": {},
     "outputs": [],
     "prompt_number": 15
    },
    {
     "cell_type": "markdown",
     "metadata": {},
     "source": [
      "The above warning may be a problem: `Warning: Too many iterations in tqli`.\n",
      "Will have to ask about it."
     ]
    },
    {
     "cell_type": "markdown",
     "metadata": {},
     "source": [
      "## Comparison of results\n",
      "\n",
      "The results using weighted an unweighted can be compared in terms of their similarity or in terms of their disease enrichment results.\n",
      "The similarity between the results can be summarised by Normalised Mutual Information, which returns a summary value between 0 and 1 which indicates how similar the communities are.\n",
      "Results of the disease enrichment test require interpretation by eye.\n",
      "\n",
      "### Normalised Mutual Information (NMI)"
     ]
    },
    {
     "cell_type": "markdown",
     "metadata": {},
     "source": [
      "Unfortunately, having problems running the code below at the moment.\n",
      "Need to look into it."
     ]
    },
    {
     "cell_type": "markdown",
     "metadata": {},
     "source": [
      "### Disease Enrichment\n",
      "\n",
      "When running the above community detection code the communities found are compared in terms of a disease enrichment test which indicates the likelihood a given community is involved in a given disease.\n",
      "This is also targeted by default on a specific set of markers for Schizophrenia.\n",
      "Looking at the differences between these two results will take place in a more detailed treatment of the community detection part of this project and will probably be found in the future in the [community detection notebook][comdet].\n",
      "\n",
      "[comdet]: http://nbviewer.ipython.org/github/ggray1729/opencast-bio/blob/master/notebooks/Community%20Detection.ipynb"
     ]
    },
    {
     "cell_type": "markdown",
     "metadata": {},
     "source": [
      "# Appendices\n",
      "\n",
      "Defining some functions here used above to calculate NMI.\n",
      "The following code is __not mine__, it was adapted from code provided by my supervisor:"
     ]
    },
    {
     "cell_type": "code",
     "collapsed": false,
     "input": [
      "from __future__ import division\n",
      "import collections\n",
      "import math"
     ],
     "language": "python",
     "metadata": {},
     "outputs": [],
     "prompt_number": 1
    },
    {
     "cell_type": "code",
     "collapsed": false,
     "input": [
      "#--- helper function\n",
      "def convertStr(s):\n",
      "    ret = int(s)\n",
      "    return ret"
     ],
     "language": "python",
     "metadata": {},
     "outputs": [],
     "prompt_number": 2
    },
    {
     "cell_type": "code",
     "collapsed": false,
     "input": [
      "import pdb"
     ],
     "language": "python",
     "metadata": {},
     "outputs": [],
     "prompt_number": 22
    },
    {
     "cell_type": "code",
     "collapsed": false,
     "input": [
      "def NMI(fname1,fname2):\n",
      "    rows, new, dic = [], [], []\n",
      "    consensus = fname1\n",
      "    community = fname2\n",
      "    \n",
      "    #--- readin first community file\n",
      "    with open(consensus, 'r') as csvfile:\n",
      "        reader = csv.reader(csvfile, delimiter='=')\n",
      "        headerline = reader.next();\n",
      "        for row in reader:\n",
      "            new.append(row)\n",
      "\n",
      "    #--- readin second community file\n",
      "    with open(community, 'r') as csvfile:\n",
      "        reader = csv.reader(csvfile, delimiter='=')\n",
      "        headerline = reader.next();\n",
      "        for row in reader:\n",
      "            dic.append(row)\n",
      "    for i in dic:\n",
      "        for j in new:\n",
      "            if i[0] == j[0]:\n",
      "                i.append(j[1])\n",
      "    pdb.set_trace()\n",
      "    dic.sort(key=lambda x: int(x[2]))\n",
      "\n",
      "    #--- count of nodes in each community in reality and in algorithm\n",
      "    realc, algc = [], []\n",
      "    for i in dic:\n",
      "        realc.append(convertStr(i[1]))\n",
      "        algc.append(convertStr(i[2]))\n",
      "    comcount = dict([(i,realc.count(i)) for i in set(realc)])\n",
      "    pcount = dict([(i,algc.count(i)) for i in set(algc)])\n",
      "\n",
      "    #--- holds the algorithm community label with the corresponding community labels\n",
      "    #    provided e.g., {1:{2:2,3:3}}\n",
      "    algcount, tempd = {}, {}\n",
      "    templist = []\n",
      "    comtrack = 0\n",
      "    for key, val in pcount.iteritems():\n",
      "        templist = realc[comtrack:comtrack+val]\n",
      "        comtrack += val\n",
      "        for i in set(templist):\n",
      "            tempd[i] = templist.count(i)\n",
      "        algcount[key] = tempd\n",
      "        tempd = {}\n",
      "\n",
      "    #--- finding the node with the maximum label in that community\n",
      "    #    key = int, value = dictionary\n",
      "    label = {}\n",
      "    for key, value in algcount.iteritems():\n",
      "        label[key] = max(value, key = value.get)\n",
      "    for i in dic:\n",
      "        for j in label:\n",
      "            if (int)(i[2]) == j:\n",
      "                i.append(label[j])\n",
      "\n",
      "    #--- METRICS    \n",
      "    #--- Calculate the NMI\n",
      "    nt, np, ntp = {}, {}, {}\n",
      "    NMI = 0\n",
      "    nodes = len(dic)\n",
      "    for i in range(1, max(comcount)+1):\n",
      "        for j in range(1, max(pcount)+1):\n",
      "            nt[i] = 0\n",
      "            np[j] = 0\n",
      "            ntp[(str(i)+' '+str(j))] = 0\n",
      "    nt = comcount\n",
      "    np = pcount\n",
      "    for i in dic:\n",
      "        ntp[(str(i[1]).strip()+' '+str(i[2]).strip())] += 1\n",
      "    num, den = 0, 0\n",
      "    for i, t in nt.iteritems():\n",
      "        for j, p in np.iteritems():\n",
      "            temp, temp2 = 0, 0\n",
      "            if (ntp[(str(i).strip()+' '+str(j).strip())] > 0) and (t > 0) and (p > 0):\n",
      "                temp = ((ntp[(str(i).strip()+' '+str(j).strip())]*nodes)/(t*p))\n",
      "                temp2 = ntp[(str(i).strip()+' '+str(j).strip())]* math.log(temp)\n",
      "            num += temp2\n",
      "    d1, d2 = 0, 0\n",
      "    for t in nt.values():\n",
      "            d1 += t * math.log(t/nodes)\n",
      "    for p in np.values():\n",
      "            d2 += p * math.log(p/nodes)\n",
      "    den = d1 + d2\n",
      "    NMI = -(2*num)/den\n",
      "\n",
      "\n",
      "    #--- print results to screen\n",
      "    print 'NMI = %s' %(NMI)\n",
      "    f = open ( 'OUT/community-metric_nmi.txt', 'w' )\n",
      "    f.writelines(\"node\\treal\\talg\\tnewlabel\\n\")\n",
      "    f.writelines(\"%s\\t%s\\t%s\\t%s\\n\" % (i[0],i[1],i[2],i[3]) for i in dic)\n",
      "    f.writelines('NMI = %s' %(NMI))\n",
      "    f.close()\n",
      "    return None"
     ],
     "language": "python",
     "metadata": {},
     "outputs": [],
     "prompt_number": 23
    }
   ],
   "metadata": {}
  }
 ]
}