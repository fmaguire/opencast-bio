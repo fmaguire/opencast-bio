{
 "metadata": {
  "name": "",
  "signature": "sha256:22fa79b5fdb1e85fdab8b580acb4e33543bc5a0a6f844393c2601a57d8825a0c"
 },
 "nbformat": 3,
 "nbformat_minor": 0,
 "worksheets": [
  {
   "cells": [
    {
     "cell_type": "markdown",
     "metadata": {},
     "source": [
      "The abundances reported by a [purification affinity experiment][promega] can be used to infer if two proteins interact.\n",
      "This data takes the form of an abundance measured across a number of experiments for every protein involved in the experiment.\n",
      "If a protein is abundant it is [more likely to interact][ivanic_influence_2009] with other proteins.\n",
      "\n",
      "__How was this abundance value calculated?__ Have to ask about this, I was just supplied it.\n",
      "\n",
      "Anyway, the table after processing will take the form:\n",
      "\n",
      "| Protein A | Protein B | Abundance | interacting |\n",
      "| --------- | --------- | --------- | ----------- |\n",
      "| 1234      | 4312      | 342.1     |     1       |\n",
      "| ...       | ...       | ...       |     ...     |\n",
      "\n",
      "With missing values treated as they were treated for the [affinity feature extraction][affinitynotebook].\n",
      "\n",
      "## Opening the files\n",
      "\n",
      "The first step is to open the necessary files.\n",
      "These include:\n",
      "\n",
      "* The training and test set protein pair lists\n",
      "* The pulldown abundance table\n",
      "\n",
      "[promega]: http://www.promega.com/~/media/files/resources/product%20guides/protein%20interaction/chap3.pdf?la=en\n",
      "[ivanic_influence_2009]: http://www.plosone.org/article/info%3Adoi%2F10.1371%2Fjournal.pone.0005815\n",
      "[affinitynotebook]: http://nbviewer.ipython.org/github/ggray1729/opencast-bio/blob/master/notebooks/Pulldown%20affinity%20feature%20extraction.ipynb"
     ]
    },
    {
     "cell_type": "code",
     "collapsed": false,
     "input": [
      "cd /home/gavin/Documents/MRes/forGAVIN/pulldown_data/dataset/"
     ],
     "language": "python",
     "metadata": {},
     "outputs": [
      {
       "output_type": "stream",
       "stream": "stdout",
       "text": [
        "/home/gavin/Documents/MRes/forGAVIN/pulldown_data/dataset\n"
       ]
      }
     ],
     "prompt_number": 40
    },
    {
     "cell_type": "code",
     "collapsed": false,
     "input": [
      "ls"
     ],
     "language": "python",
     "metadata": {},
     "outputs": [
      {
       "output_type": "stream",
       "stream": "stdout",
       "text": [
        "\u001b[0m\u001b[40m\u001b[m\u001b[00mppi_ab_entrez.csv\u001b[0m  \u001b[40m\u001b[m\u001b[00mppi_entrez.csv\u001b[0m  \u001b[40m\u001b[m\u001b[00mppi_interactions_ab.csv\u001b[0m  \u001b[40m\u001b[m\u001b[00mppi_interactions.csv\u001b[0m\r\n"
       ]
      }
     ],
     "prompt_number": 41
    },
    {
     "cell_type": "code",
     "collapsed": false,
     "input": [
      "import csv"
     ],
     "language": "python",
     "metadata": {},
     "outputs": [],
     "prompt_number": 42
    },
    {
     "cell_type": "code",
     "collapsed": false,
     "input": [
      "#first the pulldown abundance table\n",
      "ppiab = list(csv.reader(open(\"ppi_ab_entrez.csv\"), delimiter=\"\\t\"))\n",
      "#discard first line\n",
      "ppiab = ppiab[1:]\n",
      "# protein pair to frozenset\n",
      "ppiab = map(lambda x: (frozenset([x[0],x[1]]),x[2]), ppiab)"
     ],
     "language": "python",
     "metadata": {},
     "outputs": [],
     "prompt_number": 43
    },
    {
     "cell_type": "code",
     "collapsed": false,
     "input": [
      "cd /home/gavin/Documents/MRes/DIP/human/"
     ],
     "language": "python",
     "metadata": {},
     "outputs": [
      {
       "output_type": "stream",
       "stream": "stdout",
       "text": [
        "/home/gavin/Documents/MRes/DIP/human\n"
       ]
      }
     ],
     "prompt_number": 33
    },
    {
     "cell_type": "code",
     "collapsed": false,
     "input": [
      "ls"
     ],
     "language": "python",
     "metadata": {},
     "outputs": [
      {
       "output_type": "stream",
       "stream": "stdout",
       "text": [
        "\u001b[0m\u001b[40m\u001b[m\u001b[00mDIPtouniprot.tab\u001b[0m  \u001b[40m\u001b[m\u001b[00mflat.Entrez.txt\u001b[0m   \u001b[40m\u001b[m\u001b[00mHsapi20140427.txt\u001b[0m    \u001b[40m\u001b[m\u001b[00minteracting.Entrez.txt\u001b[0m   \u001b[40m\u001b[m\u001b[00mtraining.negative.Entrez.txt\u001b[0m  \u001b[40m\u001b[m\u001b[00muniprottoEntrez.tab\u001b[0m\r\n",
        "\u001b[40m\u001b[m\u001b[00mflat.DIP.txt\u001b[0m      \u001b[40m\u001b[m\u001b[00mflat.uniprot.txt\u001b[0m  \u001b[40m\u001b[m\u001b[00minteracting.DIP.txt\u001b[0m  \u001b[40m\u001b[m\u001b[00minteracting.uniprot.txt\u001b[0m  \u001b[40m\u001b[m\u001b[00mtraining.positive.Entrez.txt\u001b[0m\r\n"
       ]
      }
     ],
     "prompt_number": 34
    },
    {
     "cell_type": "code",
     "collapsed": false,
     "input": [
      "#second the training and test set protein pairs\n",
      "posids = list(csv.reader(open(\"training.positive.Entrez.txt\"), delimiter=\"\\t\"))\n",
      "negids = list(csv.reader(open(\"training.negative.Entrez.txt\"), delimiter=\"\\t\"))"
     ],
     "language": "python",
     "metadata": {},
     "outputs": [],
     "prompt_number": 35
    },
    {
     "cell_type": "code",
     "collapsed": false,
     "input": [
      "cd /home/gavin/Documents/MRes/features/"
     ],
     "language": "python",
     "metadata": {},
     "outputs": [
      {
       "output_type": "stream",
       "stream": "stdout",
       "text": [
        "/home/gavin/Documents/MRes/features\n"
       ]
      }
     ],
     "prompt_number": 44
    },
    {
     "cell_type": "code",
     "collapsed": false,
     "input": [
      "# building the dictionary:\n",
      "traintestdict = {}\n",
      "for line in posids+negids:\n",
      "    traintestdict[frozenset([line[0],line[1]])] = line[2]"
     ],
     "language": "python",
     "metadata": {},
     "outputs": [],
     "prompt_number": 45
    },
    {
     "cell_type": "code",
     "collapsed": false,
     "input": [
      "#create a dictionary using frozensets from ppiab as keys\n",
      "ppiabdict = {}\n",
      "for line in ppiab:\n",
      "    ppiabdict[line[0]] = line[1]"
     ],
     "language": "python",
     "metadata": {},
     "outputs": [],
     "prompt_number": 46
    },
    {
     "cell_type": "markdown",
     "metadata": {},
     "source": [
      "## Saving the features\n",
      "\n",
      "This will be done in the same way as with the [affinity features][affinitynotebook].\n",
      "There will be two files:\n",
      "\n",
      "1. abundance.Entrez.full.txt - includes all protein pairs, with \"missing\" placeholders for unknown pairs.\n",
      "2. abundance.Entrez.traintest.txt - includes only protein pairs the training and test sets knows of.\n",
      "\n",
      "Both will be of the form defined above:\n",
      "\n",
      "[affinitynotebook]: http://nbviewer.ipython.org/github/ggray1729/opencast-bio/blob/master/notebooks/Pulldown%20affinity%20feature%20extraction.ipynb"
     ]
    },
    {
     "cell_type": "code",
     "collapsed": false,
     "input": [
      "#write the resulting table to a file\n",
      "cfull = csv.writer(open(\"abundance.Entrez.full.txt\",\"w\"), delimiter=\"\\t\")\n",
      "ctraintest = csv.writer(open(\"abundance.Entrez.traintest.txt\",\"w\"), delimiter=\"\\t\")\n",
      "#iterate over the keys\n",
      "for key in ppiabdict.keys():\n",
      "    pair = list(key)\n",
      "    try:\n",
      "        #index both dictionaries to build a row in the file\n",
      "        row = [pair[0],pair[1],ppiabdict[key],traintestdict[key]]\n",
      "        #write this row to the file\n",
      "        cfull.writerow(row)\n",
      "        ctraintest.writerow(row)\n",
      "    except KeyError:\n",
      "        #failed to find a training set entry for this value \n",
      "        #print \"missing\" to indicate this\n",
      "        row = [pair[0],pair[1], ppiabdict[key], \"missing\"]\n",
      "        cfull.writerow(row)\n",
      "    except IndexError:\n",
      "        #ignore self-interactions\n",
      "        pass"
     ],
     "language": "python",
     "metadata": {},
     "outputs": [],
     "prompt_number": 48
    },
    {
     "cell_type": "code",
     "collapsed": false,
     "input": [
      "%%bash\n",
      "head abundance.Entrez.traintest.txt"
     ],
     "language": "python",
     "metadata": {},
     "outputs": [
      {
       "output_type": "stream",
       "stream": "stdout",
       "text": [
        "55605\t273\t443441.25\t0\r\n",
        "6712\t1759\t1188.7\t0\r\n",
        "6453\t5594\t103691\t0\r\n",
        "1495\t8294\t184860\t0\r\n",
        "3320\t6616\t262589.9\t0\r\n",
        "4137\t7415\t1883\t0\r\n",
        "4131\t4905\t52021.4333333333\t0\r\n",
        "6844\t4155\t576249.25\t0\r\n",
        "23451\t6453\t13286\t0\r\n",
        "23215\t7415\t3921.9\t0\r\n"
       ]
      }
     ],
     "prompt_number": 51
    }
   ],
   "metadata": {}
  }
 ]
}