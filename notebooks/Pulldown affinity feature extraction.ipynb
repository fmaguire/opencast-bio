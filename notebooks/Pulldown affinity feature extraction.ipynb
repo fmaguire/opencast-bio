{
 "metadata": {
  "name": "",
  "signature": "sha256:38122e0d394da305c5c90645fa945a645b73f0953fa92c329d546f11dc8aad58"
 },
 "nbformat": 3,
 "nbformat_minor": 0,
 "worksheets": [
  {
   "cells": [
    {
     "cell_type": "markdown",
     "metadata": {},
     "source": [
      "The pulldown experiments let us identify proteins that are localised to the presynaptic active zone which we are interested in studying.\n",
      "Other than just identifying the proteins it also results in a couple of measures which can be useful for predicting whether proteins interact:\n",
      "\n",
      "* Protein abundances\n",
      "* Affinity measures\n",
      "\n",
      "This notebook looks at the second of these two:\n",
      "\n",
      "## Affinity measures\n",
      "\n",
      "The affinity measure which has already been extracted from this is based on [this paper][xie_construction_2011] by Xie et al.\n",
      "They call their co-complexed score a C2S score and has a probabilistic basis, which is ideal for our use.\n",
      "All we need to do is extract a value for each protein pair we're looking at and see what kind of coverage these values give us.\n",
      "\n",
      "Due to the convenient structure of the file we are using we can extract the feature with the functionality of `ocbio.extract`.\n",
      "Each protein pair is in a row in Entrez Gene ID format with the corresponding C2S value.\n",
      "\n",
      "[xie_construction_2011]: http://bioinformatics.oxfordjournals.org/content/27/13/i159.abstract"
     ]
    },
    {
     "cell_type": "code",
     "collapsed": false,
     "input": [
      "cd ../../"
     ],
     "language": "python",
     "metadata": {},
     "outputs": [
      {
       "output_type": "stream",
       "stream": "stdout",
       "text": [
        "/home/gavin/Documents/MRes\n"
       ]
      }
     ],
     "prompt_number": 19
    },
    {
     "cell_type": "markdown",
     "metadata": {},
     "source": [
      "# Improving coverage\n",
      "\n",
      "Unfortunately, when running the ocbio.extract code naively we \n",
      "To improve the coverage we will first use the `zeromissinginternal` option in the FeatureVectorAssembler.\n",
      "This will replace any interactions between proteins which the database knows about but doesn't have a value stored with zeros.\n",
      "\n",
      "Secondly, we will interpolate the expected value for this feature based on the values of other features with better coverage.\n",
      "To do this, first we will generate a set of feature vectors over the bait and prey combinations.\n",
      "Using this, we will train a linear regression algorithm.\n",
      "\n",
      "Then, we can pickle the trained linear regressor and store the table to create the feature vectors it must use.\n",
      "These can then be passed as options for the parser in the code to generate the feature vectors for the classification task.\n",
      "\n",
      "## Loading regression features\n",
      "\n",
      "Loading the features which were used for classification in the [pipeline prototype notebook][protonotes]:\n",
      "\n",
      "[protonotes]: http://nbviewer.ipython.org/github/ggray1729/opencast-bio/blob/master/notebooks/Full%20Pipeline%20Prototype.ipynb"
     ]
    },
    {
     "cell_type": "code",
     "collapsed": false,
     "input": [
      "import sys,csv"
     ],
     "language": "python",
     "metadata": {},
     "outputs": [],
     "prompt_number": 28
    },
    {
     "cell_type": "code",
     "collapsed": false,
     "input": [
      "sys.path.append(\"opencast-bio/\")"
     ],
     "language": "python",
     "metadata": {},
     "outputs": [],
     "prompt_number": 21
    },
    {
     "cell_type": "code",
     "collapsed": false,
     "input": [
      "import ocbio.extract"
     ],
     "language": "python",
     "metadata": {},
     "outputs": [],
     "prompt_number": 22
    },
    {
     "cell_type": "code",
     "collapsed": false,
     "input": [
      "reload(ocbio.extract)"
     ],
     "language": "python",
     "metadata": {},
     "outputs": [
      {
       "metadata": {},
       "output_type": "pyout",
       "prompt_number": 31,
       "text": [
        "<module 'ocbio.extract' from 'opencast-bio/ocbio/extract.py'>"
       ]
      }
     ],
     "prompt_number": 31
    },
    {
     "cell_type": "code",
     "collapsed": false,
     "input": [
      "!git annex unlock datasource.proto.tab"
     ],
     "language": "python",
     "metadata": {},
     "outputs": [
      {
       "output_type": "stream",
       "stream": "stdout",
       "text": [
        "unlock datasource.proto.tab (copying...) "
       ]
      },
      {
       "output_type": "stream",
       "stream": "stdout",
       "text": [
        "ok\r\n"
       ]
      }
     ],
     "prompt_number": 26
    },
    {
     "cell_type": "code",
     "collapsed": false,
     "input": [
      "f = open(\"datasource.proto.tab\",\"w\")\n",
      "c = csv.writer(f,delimiter=\"\\t\")\n",
      "# the HIPPIE feature\n",
      "c.writerow([\"HIPPIE/hippie_current.txt\",\"HIPPIE/feature.HIPPIE.2.db\",\"protindexes=(1,3);valindexes=(4);zeromissing=1\"])\n",
      "# Gene Ontology features\n",
      "c.writerow([\"Gene_Ontology\",\"Gene_Ontology\",\"generator=geneontology/testgen.pickle\"])\n",
      "# iRefIndex features\n",
      "c.writerow([\"iRefIndex\",\"iRefIndex\",\"generator=iRefIndex/human.iRefIndex.Entrez.1ofk.pickle\"])\n",
      "# STRING features\n",
      "c.writerow([\"STRING\",\"STRING\",\"generator=string/human.Entrez.string.pickle\"])\n",
      "# ENTS summary feature\n",
      "c.writerow(['ENTS_summary','ENTS_summary','generator=ents/human.Entrez.ENTS.summary.pickle'])\n",
      "f.close()"
     ],
     "language": "python",
     "metadata": {},
     "outputs": [],
     "prompt_number": 32
    },
    {
     "cell_type": "code",
     "collapsed": false,
     "input": [
      "assembler = ocbio.extract.FeatureVectorAssembler(\"datasource.proto.tab\", verbose=True)"
     ],
     "language": "python",
     "metadata": {},
     "outputs": [
      {
       "output_type": "stream",
       "stream": "stdout",
       "text": [
        "Using  from top data directory datasource.proto.tab.\n",
        "Reading data source table:\n",
        "\tData source: HIPPIE/hippie_current.txt to be processed to HIPPIE/feature.HIPPIE.2.db\n",
        "\tData source: Gene_Ontology to be processed to Gene_Ontology\n",
        "\tData source: iRefIndex to be processed to iRefIndex\n",
        "\tData source: STRING to be processed to STRING\n",
        "\tData source: ENTS_summary to be processed to ENTS_summary\n",
        "Initialising parsers.\n",
        "Database HIPPIE/feature.HIPPIE.2.db may be empty, must be updated, please run regenerate."
       ]
      },
      {
       "output_type": "stream",
       "stream": "stdout",
       "text": [
        "\n"
       ]
      },
      {
       "ename": "IOError",
       "evalue": "[Errno 2] No such file or directory: 'ents/human.Entrez.ENTS.summary.pickle'",
       "output_type": "pyerr",
       "traceback": [
        "\u001b[1;31m---------------------------------------------------------------------------\u001b[0m\n\u001b[1;31mIOError\u001b[0m                                   Traceback (most recent call last)",
        "\u001b[1;32m<ipython-input-33-026fe9010d8c>\u001b[0m in \u001b[0;36m<module>\u001b[1;34m()\u001b[0m\n\u001b[1;32m----> 1\u001b[1;33m \u001b[0massembler\u001b[0m \u001b[1;33m=\u001b[0m \u001b[0mocbio\u001b[0m\u001b[1;33m.\u001b[0m\u001b[0mextract\u001b[0m\u001b[1;33m.\u001b[0m\u001b[0mFeatureVectorAssembler\u001b[0m\u001b[1;33m(\u001b[0m\u001b[1;34m\"datasource.proto.tab\"\u001b[0m\u001b[1;33m,\u001b[0m \u001b[0mverbose\u001b[0m\u001b[1;33m=\u001b[0m\u001b[0mTrue\u001b[0m\u001b[1;33m)\u001b[0m\u001b[1;33m\u001b[0m\u001b[0m\n\u001b[0m",
        "\u001b[1;32m/home/gavin/Documents/MRes/opencast-bio/ocbio/extract.py\u001b[0m in \u001b[0;36m__init__\u001b[1;34m(self, sourcetab, verbose)\u001b[0m\n\u001b[0;32m     90\u001b[0m                                                      \u001b[0mparser\u001b[0m\u001b[1;33m[\u001b[0m\u001b[1;34m\"output path\"\u001b[0m\u001b[1;33m]\u001b[0m\u001b[1;33m,\u001b[0m\u001b[1;33m\u001b[0m\u001b[0m\n\u001b[0;32m     91\u001b[0m                                                      \u001b[0mverbose\u001b[0m\u001b[1;33m=\u001b[0m\u001b[0mverbose\u001b[0m\u001b[1;33m,\u001b[0m\u001b[1;33m\u001b[0m\u001b[0m\n\u001b[1;32m---> 92\u001b[1;33m                                                      **parser[\"options\"]))\n\u001b[0m\u001b[0;32m     93\u001b[0m         \u001b[1;31m# have to initialise mcount here\u001b[0m\u001b[1;33m\u001b[0m\u001b[1;33m\u001b[0m\u001b[0m\n\u001b[0;32m     94\u001b[0m         \u001b[0mself\u001b[0m\u001b[1;33m.\u001b[0m\u001b[0mmcount\u001b[0m \u001b[1;33m=\u001b[0m \u001b[0mNone\u001b[0m\u001b[1;33m\u001b[0m\u001b[0m\n",
        "\u001b[1;32m/home/gavin/Documents/MRes/opencast-bio/ocbio/extract.py\u001b[0m in \u001b[0;36m__init__\u001b[1;34m(self, datadir, outdir, protindexes, valindexes, script, csvdelim, ignoreheader, generator, verbose, zeromissing, zeromissinginternal, interpolator, interpolatordata)\u001b[0m\n\u001b[0;32m    277\u001b[0m         \u001b[1;32mif\u001b[0m \u001b[0mgenerator\u001b[0m\u001b[1;33m:\u001b[0m\u001b[1;33m\u001b[0m\u001b[0m\n\u001b[0;32m    278\u001b[0m             \u001b[1;31m#then open up this pickle file\u001b[0m\u001b[1;33m\u001b[0m\u001b[1;33m\u001b[0m\u001b[0m\n\u001b[1;32m--> 279\u001b[1;33m             \u001b[0mf\u001b[0m \u001b[1;33m=\u001b[0m \u001b[0mopen\u001b[0m\u001b[1;33m(\u001b[0m\u001b[0mgenerator\u001b[0m\u001b[1;33m)\u001b[0m\u001b[1;33m\u001b[0m\u001b[0m\n\u001b[0m\u001b[0;32m    280\u001b[0m             \u001b[0mself\u001b[0m\u001b[1;33m.\u001b[0m\u001b[0mgenerator\u001b[0m \u001b[1;33m=\u001b[0m \u001b[0mpickle\u001b[0m\u001b[1;33m.\u001b[0m\u001b[0mload\u001b[0m\u001b[1;33m(\u001b[0m\u001b[0mf\u001b[0m\u001b[1;33m)\u001b[0m\u001b[1;33m\u001b[0m\u001b[0m\n\u001b[0;32m    281\u001b[0m             \u001b[0mf\u001b[0m\u001b[1;33m.\u001b[0m\u001b[0mclose\u001b[0m\u001b[1;33m(\u001b[0m\u001b[1;33m)\u001b[0m\u001b[1;33m\u001b[0m\u001b[0m\n",
        "\u001b[1;31mIOError\u001b[0m: [Errno 2] No such file or directory: 'ents/human.Entrez.ENTS.summary.pickle'"
       ]
      }
     ],
     "prompt_number": 33
    },
    {
     "cell_type": "code",
     "collapsed": false,
     "input": [
      "assembler.regenerate(verbose=True)"
     ],
     "language": "python",
     "metadata": {},
     "outputs": []
    },
    {
     "cell_type": "code",
     "collapsed": false,
     "input": [
      "asssembler.assemble(\"forGAVIN/pulldown_data/pulldown.interactions.Entrez.tsv\",\n",
      "                   \"features/pulldown.interactions.interpolate.vectors.txt\", verbose=True)"
     ],
     "language": "python",
     "metadata": {},
     "outputs": []
    },
    {
     "cell_type": "code",
     "collapsed": false,
     "input": [],
     "language": "python",
     "metadata": {},
     "outputs": []
    }
   ],
   "metadata": {}
  }
 ]
}