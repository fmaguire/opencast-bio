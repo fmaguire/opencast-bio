{
 "metadata": {
  "name": "",
  "signature": "sha256:c59b41f2bd0f681fa9d1d344516db0de3a2eeeb82c9d2b624c3e729c0eef5de7"
 },
 "nbformat": 3,
 "nbformat_minor": 0,
 "worksheets": [
  {
   "cells": [
    {
     "cell_type": "markdown",
     "metadata": {},
     "source": [
      "##### Gavin Gray 12th June 2014\n",
      "\n",
      "The pulldown experiments let us identify proteins that are localised to the presynaptic active zone which we are interested in studying.\n",
      "Other than just identifying the proteins it also results in a couple of measures which can be useful for predicting whether proteins interact:\n",
      "\n",
      "* Protein abundances\n",
      "* Affinity measures\n",
      "\n",
      "This notebook looks at the second of these two:\n",
      "\n",
      "## Affinity measures\n",
      "\n",
      "The affinity measure which has already been extracted from this is based on [this paper][xie_construction_2011] by Xie et al.\n",
      "They call their co-complexed score a C2S score and has a probabilistic basis, which is ideal for our use.\n",
      "All we need to do is extract a value for each protein pair we're looking at and see what kind of coverage these values give us."
     ]
    },
    {
     "cell_type": "code",
     "collapsed": false,
     "input": [
      "cd /home/gavin/Documents/MRes/affinityresults/results2/"
     ],
     "language": "python",
     "metadata": {},
     "outputs": [
      {
       "output_type": "stream",
       "stream": "stdout",
       "text": [
        "/home/gavin/Documents/MRes/affinityresults/results2\n"
       ]
      }
     ],
     "prompt_number": 1
    },
    {
     "cell_type": "code",
     "collapsed": false,
     "input": [
      "import csv"
     ],
     "language": "python",
     "metadata": {},
     "outputs": [],
     "prompt_number": 2
    },
    {
     "cell_type": "markdown",
     "metadata": {},
     "source": [
      "For reference, the second results file (results2) contains _only unique interactions_ while the first does not.\n",
      "\n",
      "Having a look at this file:"
     ]
    },
    {
     "cell_type": "code",
     "collapsed": false,
     "input": [
      "ls"
     ],
     "language": "python",
     "metadata": {},
     "outputs": [
      {
       "output_type": "stream",
       "stream": "stdout",
       "text": [
        "\u001b[0m\u001b[40m\u001b[m\u001b[00munique_data_ppi_coor_C2S_entrez.csv\u001b[0m\r\n"
       ]
      }
     ],
     "prompt_number": 3
    },
    {
     "cell_type": "code",
     "collapsed": false,
     "input": [
      "%%bash\n",
      "wc -l unique_data_ppi_coor_C2S_entrez.csv\n",
      "head -n 1 unique_data_ppi_coor_C2S_entrez.csv"
     ],
     "language": "python",
     "metadata": {},
     "outputs": [
      {
       "output_type": "stream",
       "stream": "stdout",
       "text": [
        "1871145 unique_data_ppi_coor_C2S_entrez.csv\n",
        "83636\t83636\t0.42194\n"
       ]
      }
     ],
     "prompt_number": 4
    },
    {
     "cell_type": "code",
     "collapsed": false,
     "input": [
      "#load in the table\n",
      "c2sEntrez = list(csv.reader(open(\"unique_data_ppi_coor_C2S_entrez.csv\"), delimiter=\"\\t\"))"
     ],
     "language": "python",
     "metadata": {},
     "outputs": [],
     "prompt_number": 5
    },
    {
     "cell_type": "markdown",
     "metadata": {},
     "source": [
      "Loading in the training and test set Entrez IDs:"
     ]
    },
    {
     "cell_type": "code",
     "collapsed": false,
     "input": [
      "cd /home/gavin/Documents/MRes/DIP/human/"
     ],
     "language": "python",
     "metadata": {},
     "outputs": [
      {
       "output_type": "stream",
       "stream": "stdout",
       "text": [
        "/home/gavin/Documents/MRes/DIP/human\n"
       ]
      }
     ],
     "prompt_number": 6
    },
    {
     "cell_type": "code",
     "collapsed": false,
     "input": [
      "#load in the training and test set (the whole table is both)\n",
      "posids = list(csv.reader(open(\"training.positive.Entrez.txt\"), delimiter=\"\\t\"))\n",
      "negids = list(csv.reader(open(\"training.negative.Entrez.txt\"), delimiter=\"\\t\"))"
     ],
     "language": "python",
     "metadata": {},
     "outputs": [],
     "prompt_number": 7
    },
    {
     "cell_type": "code",
     "collapsed": false,
     "input": [
      "cd /home/gavin/Documents/MRes/features/"
     ],
     "language": "python",
     "metadata": {},
     "outputs": [
      {
       "output_type": "stream",
       "stream": "stdout",
       "text": [
        "/home/gavin/Documents/MRes/features\n"
       ]
      }
     ],
     "prompt_number": 8
    },
    {
     "cell_type": "markdown",
     "metadata": {},
     "source": [
      "For each of the pairs of protein IDs in the `c2sEntrez` table we would like to match that with either a 1 or a 0 to indicate whether it truly interacts or not.\n",
      "However, some won't map (which is expected otherwise there wouldn't be anything to predict).\n",
      "\n",
      "An easy way to do this is to use the protein pairs as keys in a dictionary by converting them to frozensets.\n",
      "Then can quickly query this dictionary to find if a protein pair is known to interact or is asserted not to interact."
     ]
    },
    {
     "cell_type": "code",
     "collapsed": false,
     "input": [
      "# building the dictionary:\n",
      "traintestdict = {}\n",
      "for line in posids+negids:\n",
      "    traintestdict[frozenset([line[0],line[1]])] = line[2]"
     ],
     "language": "python",
     "metadata": {},
     "outputs": [],
     "prompt_number": 9
    },
    {
     "cell_type": "code",
     "collapsed": false,
     "input": [
      "#create a dictionary of frozensets for the c2sEntrez values:\n",
      "c2sEntrezdict = {}\n",
      "for line in c2sEntrez:\n",
      "    c2sEntrezdict[frozenset([line[0],line[1]])] = line[2]"
     ],
     "language": "python",
     "metadata": {},
     "outputs": [],
     "prompt_number": 10
    },
    {
     "cell_type": "markdown",
     "metadata": {},
     "source": [
      "### Writing the results to a file\n",
      "\n",
      "The results can be written to a file as a table.\n",
      "All entries in the original `c2sEntrez` table will be present, but with an extra entry in each row indicating the training and test set's belief in whether the protein interacts.\n",
      "Two files will be produced:\n",
      "\n",
      "* `c2s.Entrez.full.txt` - includes protein pairs which the training and test set knows nothing about. Indicated with an entry \"missing\" in the row.\n",
      "* `c2s.Entrez.traintest.txt` - doe not include these entries.\n",
      "\n",
      "Both will be of the form:\n",
      "\n",
      "| Protein 1 | Protein 2 | C2S value | Interacting? |\n",
      "| --------- | --------- | --------- | ------------ |\n",
      "| 12435      | 43521    | 123.45    | 1            |\n",
      "| ...        | ...      | ...       | ...          |\n",
      "\n",
      "The file `c2s.Entrez.full.txt`, however will contain missing value markers:\n",
      "\n",
      "| Protein 1 | Protein 2 | C2S value | Interacting? |\n",
      "| --------- | --------- | --------- | ------------ |\n",
      "| 12435      | 43521    | 123.45    | 1            |\n",
      "| 12345      | 54321    | 43.23     | missing      |\n",
      "| ...        | ...      | ...       | ...          |"
     ]
    },
    {
     "cell_type": "code",
     "collapsed": false,
     "input": [
      "#write the resulting table to a file\n",
      "cfull = csv.writer(open(\"c2s.Entrez.full.txt\",\"w\"), delimiter=\"\\t\")\n",
      "ctraintest = csv.writer(open(\"c2s.Entrez.traintest.txt\",\"w\"), delimiter=\"\\t\")\n",
      "#iterate over the keys in the c2sEntrezdict and use them to index the traintestdict\n",
      "for key in c2sEntrezdict.keys():\n",
      "    pair = list(key)\n",
      "    try:\n",
      "        #index both dictionaries to build a row in the file\n",
      "        row = [pair[0],pair[1],c2sEntrezdict[key],traintestdict[key]]\n",
      "        #write this row to the file\n",
      "        cfull.writerow(row)\n",
      "        ctraintest.writerow(row)\n",
      "    except KeyError:\n",
      "        #failed to find a training set entry for this value \n",
      "        #print \"missing\" to indicate this\n",
      "        row = [pair[0],pair[1], c2sEntrezdict[key], \"missing\"]\n",
      "        cfull.writerow(row)\n",
      "    except IndexError:\n",
      "        #ignore self-interactions\n",
      "        pass"
     ],
     "language": "python",
     "metadata": {},
     "outputs": [],
     "prompt_number": 11
    },
    {
     "cell_type": "markdown",
     "metadata": {},
     "source": [
      "### Coverage\n",
      "\n",
      "The coverage of this feature can then be found by looking at the files:"
     ]
    },
    {
     "cell_type": "code",
     "collapsed": false,
     "input": [
      "%%bash\n",
      "wc -l c2s.Entrez.full.txt\n",
      "wc -l c2s.Entrez.traintest.txt"
     ],
     "language": "python",
     "metadata": {},
     "outputs": [
      {
       "output_type": "stream",
       "stream": "stdout",
       "text": [
        "1869173 c2s.Entrez.full.txt\n",
        "68675 c2s.Entrez.traintest.txt\n"
       ]
      }
     ],
     "prompt_number": 12
    },
    {
     "cell_type": "markdown",
     "metadata": {},
     "source": [
      "So 68675 out of 1869173 interactions are known in the training and test set.\n",
      "We can compare this to the number of interactions in the training and test set which we would like to cover:"
     ]
    },
    {
     "cell_type": "code",
     "collapsed": false,
     "input": [
      "print \"Coverage of the affinity feature on the training and test set is %.2f\"%(100.0*(68675.0/len(traintestdict.keys()))) +\"%\""
     ],
     "language": "python",
     "metadata": {},
     "outputs": [
      {
       "output_type": "stream",
       "stream": "stdout",
       "text": [
        "Coverage of the affinity feature on the training and test set is 2.24%\n"
       ]
      }
     ],
     "prompt_number": 13
    },
    {
     "cell_type": "markdown",
     "metadata": {},
     "source": [
      "Which isn't great, but it's coverage of the data set we want to apply the classifier to is 100% so it is probably worth using."
     ]
    }
   ],
   "metadata": {}
  }
 ]
}