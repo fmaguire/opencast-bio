{
 "metadata": {
  "name": "",
  "signature": "sha256:c0156623f6db78628d31b790606dbe8ce1df3f8b1470375f2bd039e18ed07234"
 },
 "nbformat": 3,
 "nbformat_minor": 0,
 "worksheets": [
  {
   "cells": [
    {
     "cell_type": "markdown",
     "metadata": {},
     "source": [
      "The HMR (Human-Mouse-Rat) database is a combination of BioGrid, CCSB, HPRD, Intact and MDC databases developed at the University of Edinburgh.\n",
      "If you are on the Informatics local network the web service to query this database can be found [here][].\n",
      "The web service requires a list of proteins, which it will then return interactions between.\n",
      "\n",
      "## Loading Entrez IDs\n",
      "\n",
      "To get coverage over as many proteins as possible we would like to simply use all human Entrez IDs which we know map to Ensembl IDs.\n",
      "The first step is to load this dictionary:\n",
      "\n",
      "[here]: https://nrg.inf.ed.ac.uk/tools/ppi/"
     ]
    },
    {
     "cell_type": "code",
     "collapsed": false,
     "input": [
      "import csv"
     ],
     "language": "python",
     "metadata": {},
     "outputs": [],
     "prompt_number": 20
    },
    {
     "cell_type": "code",
     "collapsed": false,
     "input": [
      "cd ../geneconversion/"
     ],
     "language": "python",
     "metadata": {},
     "outputs": [
      {
       "output_type": "stream",
       "stream": "stdout",
       "text": [
        "/home/gavin/Documents/MRes/geneconversion\n"
       ]
      }
     ],
     "prompt_number": 35
    },
    {
     "cell_type": "code",
     "collapsed": false,
     "input": [
      "f = open(\"human.gene2ensemble.pickle\")\n",
      "gene2ensembl = pickle.load(f)\n",
      "f.close()"
     ],
     "language": "python",
     "metadata": {},
     "outputs": [],
     "prompt_number": 33
    },
    {
     "cell_type": "markdown",
     "metadata": {},
     "source": [
      "## Writing protein list\n",
      "\n",
      "Then we can take the keys from this dictionary and write them to a file, which we can then paste into the web service form.\n",
      "The list was submitted with the _global_ option, to return the maximum number of interactions."
     ]
    },
    {
     "cell_type": "code",
     "collapsed": false,
     "input": [
      "f=open(\"human.entrez.mapstoensembl.flat.txt\",\"w\")\n",
      "csv.writer(f,delimiter=\"\\n\").writerow(gene2ensembl.keys())\n",
      "f.close()"
     ],
     "language": "python",
     "metadata": {},
     "outputs": [],
     "prompt_number": 36
    },
    {
     "cell_type": "markdown",
     "metadata": {},
     "source": [
      "## Copying into web service\n",
      "\n",
      "Using `xclip` we can copy the file into the web service, which returns the file `webformoutput` which has been saved to the `HMR` directory.\n",
      "Looking at this file, it is simply a list of Entrez ID pairs:"
     ]
    },
    {
     "cell_type": "code",
     "collapsed": false,
     "input": [
      "cd ../HMR/"
     ],
     "language": "python",
     "metadata": {},
     "outputs": [
      {
       "output_type": "stream",
       "stream": "stdout",
       "text": [
        "/home/gavin/Documents/MRes/HMR\n"
       ]
      }
     ],
     "prompt_number": 37
    },
    {
     "cell_type": "code",
     "collapsed": false,
     "input": [
      "!head webformoutput.csv"
     ],
     "language": "python",
     "metadata": {},
     "outputs": [
      {
       "output_type": "stream",
       "stream": "stdout",
       "text": [
        "1,10321\r\n",
        "2,140545\r\n",
        "2,126003\r\n",
        "2,124912\r\n",
        "2,84106\r\n",
        "2,64223\r\n",
        "2,55729\r\n",
        "2,51295\r\n",
        "2,51013\r\n",
        "2,26085\r\n"
       ]
      }
     ],
     "prompt_number": 38
    },
    {
     "cell_type": "markdown",
     "metadata": {},
     "source": [
      "## Creating a useable feature\n",
      "\n",
      "The fastest way to create a useable feature from this will be to do the same as was done in the [STRING notebook][string] and pickle an object which will return a 1 if the pair is present and a 0 otherwise.\n",
      "This is slightly sub-optimal in that any Entrez IDs which we have not supplied to the web form won't be represented, but the list we provided to the web form was fairly comprehensive so almost all human IDs should have been mined.\n"
     ]
    },
    {
     "cell_type": "code",
     "collapsed": false,
     "input": [
      "import sys"
     ],
     "language": "python",
     "metadata": {},
     "outputs": [],
     "prompt_number": 39
    },
    {
     "cell_type": "code",
     "collapsed": false,
     "input": [
      "sys.path.append(\"../opencast-bio/\")"
     ],
     "language": "python",
     "metadata": {},
     "outputs": [],
     "prompt_number": 40
    },
    {
     "cell_type": "code",
     "collapsed": false,
     "input": [
      "import ocbio.ppipred"
     ],
     "language": "python",
     "metadata": {},
     "outputs": [],
     "prompt_number": 41
    },
    {
     "cell_type": "markdown",
     "metadata": {},
     "source": [
      "### Loading the interactions as a dictionary"
     ]
    },
    {
     "cell_type": "code",
     "collapsed": false,
     "input": [
      "featuredict = {}\n",
      "f = open(\"webformoutput.csv\")\n",
      "for line in csv.reader(f):\n",
      "    featuredict[frozenset(line)] = ['1']\n",
      "f.close()"
     ],
     "language": "python",
     "metadata": {},
     "outputs": [],
     "prompt_number": 55
    },
    {
     "cell_type": "markdown",
     "metadata": {},
     "source": [
      "### Instantiating features object"
     ]
    },
    {
     "cell_type": "code",
     "collapsed": false,
     "input": [
      "features = ocbio.ppipred.features(featuredict,1)"
     ],
     "language": "python",
     "metadata": {},
     "outputs": [],
     "prompt_number": 56
    },
    {
     "cell_type": "markdown",
     "metadata": {},
     "source": [
      "### Testing"
     ]
    },
    {
     "cell_type": "code",
     "collapsed": false,
     "input": [
      "realkey = featuredict.keys()[0]\n",
      "fakekey = frozenset([\"1275\",\"4124\"])"
     ],
     "language": "python",
     "metadata": {},
     "outputs": [],
     "prompt_number": 57
    },
    {
     "cell_type": "code",
     "collapsed": false,
     "input": [
      "features[realkey]"
     ],
     "language": "python",
     "metadata": {},
     "outputs": [
      {
       "metadata": {},
       "output_type": "pyout",
       "prompt_number": 58,
       "text": [
        "['1']"
       ]
      }
     ],
     "prompt_number": 58
    },
    {
     "cell_type": "code",
     "collapsed": false,
     "input": [
      "features[fakekey]"
     ],
     "language": "python",
     "metadata": {},
     "outputs": [
      {
       "metadata": {},
       "output_type": "pyout",
       "prompt_number": 59,
       "text": [
        "['0']"
       ]
      }
     ],
     "prompt_number": 59
    },
    {
     "cell_type": "markdown",
     "metadata": {},
     "source": [
      "### Pickling\n",
      "\n",
      "The object is then pickled so it can be easily added to the data source table using the \"generator\" option."
     ]
    },
    {
     "cell_type": "code",
     "collapsed": false,
     "input": [
      "f = open(\"human.HMR.features.pickle\",\"wb\")\n",
      "pickle.dump(features,f)\n",
      "f.close()"
     ],
     "language": "python",
     "metadata": {},
     "outputs": [],
     "prompt_number": 60
    }
   ],
   "metadata": {}
  }
 ]
}