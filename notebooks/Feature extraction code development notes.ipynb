{
 "metadata": {
  "name": "",
  "signature": "sha256:99963135e9db5421c0dd976e3e77715da8d93d5be0e615a91e2dca46f25cf92d"
 },
 "nbformat": 3,
 "nbformat_minor": 0,
 "worksheets": [
  {
   "cells": [
    {
     "cell_type": "markdown",
     "metadata": {},
     "source": [
      "These are the notes on the development of the code described in the [Feature vector assembly][featureassembly] page of the wiki.\n",
      "First, the protein pair parser class will be written and tested on a dataset that has already been extracted.\n",
      "This will be the HIPPIE dataset.\n",
      "\n",
      "Initialisation currently involves loading in the three command line options and saving them to the object.\n",
      "It must also involve parsing of the options.\n",
      "Testing the initialisation:\n",
      "\n",
      "[featureassembly]: https://github.com/ggray1729/opencast-bio/wiki/Feature-vector-assembly"
     ]
    },
    {
     "cell_type": "code",
     "collapsed": false,
     "input": [
      "import os, time, subprocess, csv, shelve"
     ],
     "language": "python",
     "metadata": {},
     "outputs": [],
     "prompt_number": 27
    },
    {
     "cell_type": "code",
     "collapsed": false,
     "input": [
      "cd /home/gavin/Documents/MRes/HIPPIE/"
     ],
     "language": "python",
     "metadata": {},
     "outputs": [
      {
       "output_type": "stream",
       "stream": "stdout",
       "text": [
        "/home/gavin/Documents/MRes/HIPPIE\n"
       ]
      }
     ],
     "prompt_number": 1
    },
    {
     "cell_type": "code",
     "collapsed": false,
     "input": [
      "(mode, ino, dev, nlink, uid, gid, size, atime, mtime, ctime) = os.stat(\"training.negative.HIPPIE.txt\")\n",
      "print mtime"
     ],
     "language": "python",
     "metadata": {},
     "outputs": [
      {
       "output_type": "stream",
       "stream": "stdout",
       "text": [
        "1402919540\n"
       ]
      }
     ],
     "prompt_number": 8
    },
    {
     "cell_type": "code",
     "collapsed": false,
     "input": [
      "(mode, ino, dev, nlink, uid, gid, size, atime, mtime, ctime) = os.stat(\"training.positive.HIPPIE.txt\")\n",
      "print mtime"
     ],
     "language": "python",
     "metadata": {},
     "outputs": [
      {
       "output_type": "stream",
       "stream": "stdout",
       "text": [
        "1402916019\n"
       ]
      }
     ],
     "prompt_number": 9
    },
    {
     "cell_type": "code",
     "collapsed": false,
     "input": [
      "print os.stat(\"training.positive.HIPPIE.txt\")[-1]"
     ],
     "language": "python",
     "metadata": {},
     "outputs": [
      {
       "output_type": "stream",
       "stream": "stdout",
       "text": [
        "1402916019\n"
       ]
      }
     ],
     "prompt_number": 6
    },
    {
     "cell_type": "code",
     "collapsed": false,
     "input": [
      "#define the class\n",
      "class ProteinPairParser():\n",
      "    '''Does simple parsing on data files to produce protein pair files with feature values'''\n",
      "    def __init__(self,datadir,outdir,protindexes=(1,2),valindex=3,script=None,csvdelim=\"\\t\"):\n",
      "        #first, store the initialisation\n",
      "        self.datadir = datadir\n",
      "        self.outdir = outdir\n",
      "        self.protindexes=protindexes\n",
      "        self.valindex=valindex\n",
      "        self.script=script\n",
      "        self.csvdelim=csvdelim\n",
      "        return None\n",
      "    \n",
      "    def regenerate(self):\n",
      "        '''Regenerate the pair file from the data source\n",
      "        if the data source is newer than the pair file'''\n",
      "        # so first check the ages of both files\n",
      "        datamtime = os.stat(self.datadir)[-2]\n",
      "        if os.path.isfile(self.outdir):\n",
      "            pairmtime = os.stat(self.outdir)[-2]\n",
      "        else:\n",
      "            #bit of a hack\n",
      "            pairmtime = 0\n",
      "        #if the data modification time is greater than output modification time\n",
      "        if datamtime > pairmtime:\n",
      "            # now regenerate the data file according to the options defined above:\n",
      "            print \"data file is newer than pair file\"\n",
      "            #if there's a script to run\n",
      "            if self.script != None:\n",
      "                #then execute the script\n",
      "                retcode=subprocess.call(\"python2 %s\"%self.script, shell=True)\n",
      "            #first delete out of date file, if it's there\n",
      "            if os.path.isfile(self.outdir):\n",
      "                os.remove(self.outdir)\n",
      "            #perform simple parsing to make a file of just protein pairs and the value we care about\n",
      "            #and save these using shelve\n",
      "            db = openpairshelf(self.outdir)\n",
      "            #open the data file\n",
      "            c = csv.reader(open(self.datadir), delimiter=self.csvdelim)\n",
      "            for line in c:\n",
      "                #each line use the protein pair as a key\n",
      "                #by formatting it as a frozenset\n",
      "                pair = frozenset([line[self.protindexes[0]],line[self.protindexes[1]]])\n",
      "                #and the value is indexed by valindex\n",
      "                db[pair] = line[self.valindex]\n",
      "            db.close()\n",
      "        return None"
     ],
     "language": "python",
     "metadata": {},
     "outputs": [],
     "prompt_number": 95
    },
    {
     "cell_type": "code",
     "collapsed": false,
     "input": [
      "print os.path.isfile(\"training.negative.HIPPIE.txt\")"
     ],
     "language": "python",
     "metadata": {},
     "outputs": [
      {
       "output_type": "stream",
       "stream": "stdout",
       "text": [
        "True\n"
       ]
      }
     ],
     "prompt_number": 62
    },
    {
     "cell_type": "markdown",
     "metadata": {},
     "source": [
      "We have to rerun the script to generate a pre-processed HIPPIE file:"
     ]
    },
    {
     "cell_type": "code",
     "collapsed": false,
     "input": [
      "%%bash\n",
      "java -jar HIPPIE_NC.jar -i=../DIP/human/training.nolabel.positive.Entrez.txt -t=e -l=0 -o=prematch.positive.HIPPIE.txt"
     ],
     "language": "python",
     "metadata": {},
     "outputs": [],
     "prompt_number": 82
    },
    {
     "cell_type": "code",
     "collapsed": false,
     "input": [
      "x = ProteinPairParser(\"prematch.positive.HIPPIE.txt\",\"training.positive.HIPPIE.txt\",protindexes=(1,3),valindex=4)"
     ],
     "language": "python",
     "metadata": {},
     "outputs": [],
     "prompt_number": 102
    },
    {
     "cell_type": "code",
     "collapsed": false,
     "input": [
      "x.regenerate()"
     ],
     "language": "python",
     "metadata": {},
     "outputs": [
      {
       "output_type": "stream",
       "stream": "stdout",
       "text": [
        "data file is newer than pair file\n"
       ]
      }
     ],
     "prompt_number": 105
    },
    {
     "cell_type": "code",
     "collapsed": false,
     "input": [
      "os.remove(\"training.positive.HIPPIE.txt\")"
     ],
     "language": "python",
     "metadata": {},
     "outputs": [],
     "prompt_number": 104
    },
    {
     "cell_type": "code",
     "collapsed": false,
     "input": [
      "test = openpairshelf(\"training.positive.HIPPIE.txt\")"
     ],
     "language": "python",
     "metadata": {},
     "outputs": [],
     "prompt_number": 106
    },
    {
     "cell_type": "code",
     "collapsed": false,
     "input": [
      "test.keys()[0:10]"
     ],
     "language": "python",
     "metadata": {},
     "outputs": [
      {
       "metadata": {},
       "output_type": "pyout",
       "prompt_number": 107,
       "text": [
        "['10013\\t55031',\n",
        " '10094\\t2885',\n",
        " '10399\\t8364',\n",
        " '10971\\t8452',\n",
        " '1109111091',\n",
        " '11198\\t142',\n",
        " '1326\\t9020',\n",
        " '13917118\\t7322',\n",
        " '1869\\t142',\n",
        " '2\\t2885']"
       ]
      }
     ],
     "prompt_number": 107
    },
    {
     "cell_type": "code",
     "collapsed": false,
     "input": [
      "test.close()"
     ],
     "language": "python",
     "metadata": {},
     "outputs": [],
     "prompt_number": 90
    },
    {
     "cell_type": "markdown",
     "metadata": {},
     "source": [
      "The problem is that a shelve (shelf?) database can't take the frozenset as a key.\n",
      "The [recommended way to deal with this][stackshelve] is to make a wrapper.\n",
      "Since I'm being object-oriented today I'll do this with a class.\n",
      "\n",
      "Essentially, it will use a string of the two protein identifiers separated by a tab as the key.\n",
      "To index though it will take a frozenset and convert it to two strings which are the two iterations of the two strings.\n",
      "\n",
      "[stackshelve]: http://stackoverflow.com/questions/19734821/why-does-pythons-shelve-require-that-all-keys-be-strings"
     ]
    },
    {
     "cell_type": "code",
     "collapsed": false,
     "input": [
      "class ProteinPairDB(shelve.DbfilenameShelf):\n",
      "    '''A simple database for protein pairs using shelve.'''\n",
      "    def __setitem__(self,key,value):\n",
      "        #key will be frozenset so make it a list first\n",
      "        key = list(key)\n",
      "        #then make it a string\n",
      "        if len(key) == 1:\n",
      "            key = key[0]*2\n",
      "        else:\n",
      "            key = key[0] + \"\\t\" + key[1]\n",
      "        shelve.DbfilenameShelf.__setitem__(self,key,value)\n",
      "        return None\n",
      "    \n",
      "    def __getitem__(self,key):\n",
      "        #make two strings from the key\n",
      "        key = list(key)\n",
      "        if len(key) == 1:\n",
      "            key1 = key[0]*2\n",
      "            key1 = key[0]*2\n",
      "        else:\n",
      "            key1 = key[0] + \"\\t\" + key[1]\n",
      "            key2 = key[1] + \"\\t\" + key[0]\n",
      "        #try the first one\n",
      "        try:\n",
      "            value = shelve.DbfilenameShelf.__getitem__(key1)\n",
      "        except KeyError:\n",
      "            #couldn't find the first key, try the second\n",
      "            value = shelve.DbfilenameShelf.__getitem__(key2)\n",
      "            #if we don't find this one then error out as usual\n",
      "        return value"
     ],
     "language": "python",
     "metadata": {},
     "outputs": [],
     "prompt_number": 101
    },
    {
     "cell_type": "code",
     "collapsed": false,
     "input": [
      "def openpairshelf(filename, flag='c', protocol=None, writeback=False):\n",
      "    return ProteinPairDB(filename, flag, protocol, writeback)"
     ],
     "language": "python",
     "metadata": {},
     "outputs": [],
     "prompt_number": 57
    },
    {
     "cell_type": "code",
     "collapsed": false,
     "input": [
      "shelve.open??"
     ],
     "language": "python",
     "metadata": {},
     "outputs": [],
     "prompt_number": 56
    },
    {
     "cell_type": "code",
     "collapsed": false,
     "input": [
      "test.__setitem__??"
     ],
     "language": "python",
     "metadata": {},
     "outputs": [],
     "prompt_number": 55
    }
   ],
   "metadata": {}
  }
 ]
}