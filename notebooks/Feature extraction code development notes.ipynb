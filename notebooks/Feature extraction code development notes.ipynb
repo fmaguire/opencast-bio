{
 "metadata": {
  "name": "",
  "signature": "sha256:f43c3a757e0180f126fe58ff39f5dd36323689f52d81530cca1eb20615e0c40d"
 },
 "nbformat": 3,
 "nbformat_minor": 0,
 "worksheets": [
  {
   "cells": [
    {
     "cell_type": "markdown",
     "metadata": {},
     "source": [
      "These are the notes on the development of the code described in the [Feature vector assembly][featureassembly] page of the wiki.\n",
      "First, the protein pair parser class will be written and tested on a dataset that has already been extracted.\n",
      "This will be the HIPPIE dataset.\n",
      "\n",
      "Initialisation currently involves loading in the three command line options and saving them to the object.\n",
      "It must also involve parsing of the options.\n",
      "Testing the initialisation:\n",
      "\n",
      "[featureassembly]: https://github.com/ggray1729/opencast-bio/wiki/Feature-vector-assembly"
     ]
    },
    {
     "cell_type": "code",
     "collapsed": false,
     "input": [
      "import os, time, subprocess, csv, shelve"
     ],
     "language": "python",
     "metadata": {},
     "outputs": [],
     "prompt_number": 27
    },
    {
     "cell_type": "code",
     "collapsed": false,
     "input": [
      "cd /home/gavin/Documents/MRes/HIPPIE/"
     ],
     "language": "python",
     "metadata": {},
     "outputs": [
      {
       "output_type": "stream",
       "stream": "stdout",
       "text": [
        "/home/gavin/Documents/MRes/HIPPIE\n"
       ]
      }
     ],
     "prompt_number": 1
    },
    {
     "cell_type": "code",
     "collapsed": false,
     "input": [
      "(mode, ino, dev, nlink, uid, gid, size, atime, mtime, ctime) = os.stat(\"training.negative.HIPPIE.txt\")\n",
      "print mtime"
     ],
     "language": "python",
     "metadata": {},
     "outputs": [
      {
       "output_type": "stream",
       "stream": "stdout",
       "text": [
        "1402919540\n"
       ]
      }
     ],
     "prompt_number": 8
    },
    {
     "cell_type": "code",
     "collapsed": false,
     "input": [
      "(mode, ino, dev, nlink, uid, gid, size, atime, mtime, ctime) = os.stat(\"training.positive.HIPPIE.txt\")\n",
      "print mtime"
     ],
     "language": "python",
     "metadata": {},
     "outputs": [
      {
       "output_type": "stream",
       "stream": "stdout",
       "text": [
        "1402916019\n"
       ]
      }
     ],
     "prompt_number": 9
    },
    {
     "cell_type": "code",
     "collapsed": false,
     "input": [
      "print os.stat(\"training.positive.HIPPIE.txt\")[-1]"
     ],
     "language": "python",
     "metadata": {},
     "outputs": [
      {
       "output_type": "stream",
       "stream": "stdout",
       "text": [
        "1402916019\n"
       ]
      }
     ],
     "prompt_number": 6
    },
    {
     "cell_type": "code",
     "collapsed": false,
     "input": [
      "#define the class\n",
      "class ProteinPairParser():\n",
      "    '''Does simple parsing on data files to produce protein pair files with feature values'''\n",
      "    def __init__(self,datadir,outdir,protindexes=(1,2),valindex=3,script=None,csvdelim=\"\\t\"):\n",
      "        #first, store the initialisation\n",
      "        self.datadir = datadir\n",
      "        self.outdir = outdir\n",
      "        self.protindexes=protindexes\n",
      "        self.valindex=valindex\n",
      "        self.script=script\n",
      "        self.csvdelim=csvdelim\n",
      "        return None\n",
      "    \n",
      "    def regenerate(self):\n",
      "        '''Regenerate the pair file from the data source\n",
      "        if the data source is newer than the pair file'''\n",
      "        # so first check the ages of both files\n",
      "        datamtime = os.stat(self.datadir)[-2]\n",
      "        if os.path.isfile(self.outdir):\n",
      "            pairmtime = os.stat(self.outdir)[-2]\n",
      "        else:\n",
      "            #bit of a hack\n",
      "            pairmtime = 0\n",
      "        #if the data modification time is greater than output modification time\n",
      "        if datamtime > pairmtime:\n",
      "            # now regenerate the data file according to the options defined above:\n",
      "            print \"data file is newer than pair file\"\n",
      "            #if there's a script to run\n",
      "            if self.script != None:\n",
      "                #then execute the script\n",
      "                retcode=subprocess.call(\"python2 %s\"%self.script, shell=True)\n",
      "            #first delete out of date file, if it's there\n",
      "            if os.path.isfile(self.outdir):\n",
      "                os.remove(self.outdir)\n",
      "            #perform simple parsing to make a file of just protein pairs and the value we care about\n",
      "            #and save these using shelve\n",
      "            db = openpairshelf(self.outdir)\n",
      "            #open the data file\n",
      "            c = csv.reader(open(self.datadir), delimiter=self.csvdelim)\n",
      "            for line in c:\n",
      "                #each line use the protein pair as a key\n",
      "                #by formatting it as a frozenset\n",
      "                pair = frozenset([line[self.protindexes[0]],line[self.protindexes[1]]])\n",
      "                #and the value is indexed by valindex\n",
      "                db[pair] = line[self.valindex]\n",
      "            db.close()\n",
      "        return None"
     ],
     "language": "python",
     "metadata": {},
     "outputs": [],
     "prompt_number": 95
    },
    {
     "cell_type": "code",
     "collapsed": false,
     "input": [
      "print os.path.isfile(\"training.negative.HIPPIE.txt\")"
     ],
     "language": "python",
     "metadata": {},
     "outputs": [
      {
       "output_type": "stream",
       "stream": "stdout",
       "text": [
        "True\n"
       ]
      }
     ],
     "prompt_number": 62
    },
    {
     "cell_type": "markdown",
     "metadata": {},
     "source": [
      "We have to rerun the script to generate a pre-processed HIPPIE file:"
     ]
    },
    {
     "cell_type": "code",
     "collapsed": false,
     "input": [
      "%%bash\n",
      "java -jar HIPPIE_NC.jar -i=../DIP/human/training.nolabel.positive.Entrez.txt -t=e -l=0 -o=prematch.positive.HIPPIE.txt"
     ],
     "language": "python",
     "metadata": {},
     "outputs": [],
     "prompt_number": 82
    },
    {
     "cell_type": "code",
     "collapsed": false,
     "input": [
      "x = ProteinPairParser(\"prematch.positive.HIPPIE.txt\",\"training.positive.HIPPIE.txt\",protindexes=(1,3),valindex=4)"
     ],
     "language": "python",
     "metadata": {},
     "outputs": [],
     "prompt_number": 113
    },
    {
     "cell_type": "code",
     "collapsed": false,
     "input": [
      "x.regenerate()"
     ],
     "language": "python",
     "metadata": {},
     "outputs": [
      {
       "output_type": "stream",
       "stream": "stdout",
       "text": [
        "data file is newer than pair file\n"
       ]
      }
     ],
     "prompt_number": 114
    },
    {
     "cell_type": "code",
     "collapsed": false,
     "input": [
      "os.remove(\"training.positive.HIPPIE.txt\")"
     ],
     "language": "python",
     "metadata": {},
     "outputs": [],
     "prompt_number": 112
    },
    {
     "cell_type": "code",
     "collapsed": false,
     "input": [
      "test = openpairshelf(\"training.positive.HIPPIE.txt\")"
     ],
     "language": "python",
     "metadata": {},
     "outputs": [],
     "prompt_number": 115
    },
    {
     "cell_type": "code",
     "collapsed": false,
     "input": [
      "test.keys()[0:10]"
     ],
     "language": "python",
     "metadata": {},
     "outputs": [
      {
       "metadata": {},
       "output_type": "pyout",
       "prompt_number": 116,
       "text": [
        "['10013\\t55031',\n",
        " '10094\\t2885',\n",
        " '10399\\t8364',\n",
        " '10971\\t8452',\n",
        " '1109111091',\n",
        " '11198\\t142',\n",
        " '1326\\t9020',\n",
        " '13917118\\t7322',\n",
        " '1869\\t142',\n",
        " '2\\t2885']"
       ]
      }
     ],
     "prompt_number": 116
    },
    {
     "cell_type": "code",
     "collapsed": false,
     "input": [
      "testkey = test.keys()[0]\n",
      "testkey = frozenset(testkey.split(\"\\t\"))\n",
      "print testkey\n",
      "test[testkey]"
     ],
     "language": "python",
     "metadata": {},
     "outputs": [
      {
       "output_type": "stream",
       "stream": "stdout",
       "text": [
        "frozenset(['10013', '55031'])\n"
       ]
      },
      {
       "metadata": {},
       "output_type": "pyout",
       "prompt_number": 117,
       "text": [
        "'0.72'"
       ]
      }
     ],
     "prompt_number": 117
    },
    {
     "cell_type": "code",
     "collapsed": false,
     "input": [
      "test.close()"
     ],
     "language": "python",
     "metadata": {},
     "outputs": [],
     "prompt_number": 118
    },
    {
     "cell_type": "markdown",
     "metadata": {},
     "source": [
      "The problem is that a shelve (shelf?) database can't take the frozenset as a key.\n",
      "The [recommended way to deal with this][stackshelve] is to make a wrapper.\n",
      "Since I'm being object-oriented today I'll do this with a class.\n",
      "\n",
      "Essentially, it will use a string of the two protein identifiers separated by a tab as the key.\n",
      "To index though it will take a frozenset and convert it to two strings which are the two iterations of the two strings.\n",
      "\n",
      "[stackshelve]: http://stackoverflow.com/questions/19734821/why-does-pythons-shelve-require-that-all-keys-be-strings"
     ]
    },
    {
     "cell_type": "code",
     "collapsed": false,
     "input": [
      "class ProteinPairDB(shelve.DbfilenameShelf):\n",
      "    '''A simple database for protein pairs using shelve.'''\n",
      "    def __setitem__(self,key,value):\n",
      "        #key will be frozenset so make it a list first\n",
      "        key = list(key)\n",
      "        #then make it a string\n",
      "        if len(key) == 1:\n",
      "            key = key[0]*2\n",
      "        else:\n",
      "            key = key[0] + \"\\t\" + key[1]\n",
      "        shelve.DbfilenameShelf.__setitem__(self,key,value)\n",
      "        return None\n",
      "    \n",
      "    def __getitem__(self,key):\n",
      "        #make two strings from the key\n",
      "        key = list(key)\n",
      "        if len(key) == 1:\n",
      "            key1 = key[0]*2\n",
      "            key1 = key[0]*2\n",
      "        else:\n",
      "            key1 = key[0] + \"\\t\" + key[1]\n",
      "            key2 = key[1] + \"\\t\" + key[0]\n",
      "        #try the first one\n",
      "        try:\n",
      "            value = shelve.DbfilenameShelf.__getitem__(self,key1)\n",
      "        except KeyError:\n",
      "            #couldn't find the first key, try the second\n",
      "            value = shelve.DbfilenameShelf.__getitem__(self,key2)\n",
      "            #if we don't find this one then error out as usual\n",
      "        return value"
     ],
     "language": "python",
     "metadata": {},
     "outputs": [],
     "prompt_number": 110
    },
    {
     "cell_type": "code",
     "collapsed": false,
     "input": [
      "def openpairshelf(filename, flag='c', protocol=None, writeback=False):\n",
      "    return ProteinPairDB(filename, flag, protocol, writeback)"
     ],
     "language": "python",
     "metadata": {},
     "outputs": [],
     "prompt_number": 57
    },
    {
     "cell_type": "markdown",
     "metadata": {},
     "source": [
      "The next thing to do is write the code for the feature vector assembler.\n",
      "This is another class, with methods:\n",
      "\n",
      "1. Regenerate protein pairs:\n",
      "    * Sends a signal to all instantiated protein pair parsers to regenerate the pair file if required (if the data source has been updated).\n",
      "2. Initialise protein pairs from data source table.\n",
      "3. Assemble feature vector files from protein pair files.\n",
      "\n",
      "And at initialisation it is expected to do:\n",
      "\n",
      "1. Loading in the Data source table and instantiating all required protein pair parsers.\n",
      "2. Loading in the gold standard protein pairs files, or loading the file names.\n",
      "\n",
      "To do this it must parse the data source table.\n",
      "It assumes that the data source table is provided as a __full path__ and that this path is __the top directory for the data__.\n",
      "ie all of the data paths in the data source will be __relative to the path of the table itself__.\n",
      "The table itself will have structure:\n",
      "\n",
      "| Data source directory | Output database directory | Options |\n",
      "| --------- | --------- | ------- |\n",
      "| `/relative/path/to/data` | `/relative/path/to/output/database` | protindexes=1,3;valindex=4;script=`/path/to/script`;csvdelim=`\\t` |\n",
      "\n",
      "The available options are given in the options column of the table above."
     ]
    },
    {
     "cell_type": "code",
     "collapsed": false,
     "input": [
      "class FeatureVectorAssembler():\n",
      "    '''Assembles feature vectors from protein pair files, data source lists and gold standard protein pair lists.'''\n",
      "    def __init__(self,sourcetab,goldpos,goldneg):\n",
      "        #store the initialisation\n",
      "        # directories for positive and negative gold standard data files\n",
      "        self.goldpos = goldpos\n",
      "        self.goldneg = goldneg\n",
      "        \n",
      "        #check if the gold standard data directories exist\n",
      "        # throw an error if they don't\n",
      "        \n",
      "        #instantiate protein pair parsers\n",
      "        # first parse the data source table\n",
      "        # store the directory of the table and it's name\n",
      "        self.sourcetabdir,self.tabfile = os.path.split(sourcetab)\n",
      "        # open the table and parse for initialisation options\n",
      "        c = csv.reader(open(sourcetab), delimiter=\"\\t\")\n",
      "        # iterate over lines adding to list of protein pair parsers\n",
      "        self.parserinitlist = []\n",
      "        for line in c:\n",
      "            #store the information in a dictionary\n",
      "            d = {}\n",
      "            d[\"data path\"] = line[0]\n",
      "            d[\"output path\"] = line[1]\n",
      "            #store options in a dictionary in the dictionary\n",
      "            d[\"options\"] = {}\n",
      "            options = line[2].split(\";\")\n",
      "            for x in options:\n",
      "                #split each option to find out which option it is:\n",
      "                x = x.split(\"=\")\n",
      "                #store it in the dictionary\n",
      "                # if there are invalid options this code WILL NOT DETECT THEM\n",
      "                d[\"options\"][x[0]]= x[1]\n",
      "            #copy the dictionary into the list\n",
      "            self.parserinitlist.append(d.copy())\n",
      "        #then initialise each of these parsers and keep them in a list\n",
      "        self.parserlist = []\n",
      "        for parser in self.parserinitlist:\n",
      "            self.parserlist.append(ProteinPairParser(parser[\"data path\"],\n",
      "                                                     parser[\"output path\"],\n",
      "                                                     **parser[\"options\"]))\n",
      "        return None"
     ],
     "language": "python",
     "metadata": {},
     "outputs": [],
     "prompt_number": 147
    },
    {
     "cell_type": "markdown",
     "metadata": {},
     "source": [
      "Testing initialisation requires a data source table file:"
     ]
    },
    {
     "cell_type": "code",
     "collapsed": false,
     "input": [
      "cd /home/gavin/Documents/MRes/"
     ],
     "language": "python",
     "metadata": {},
     "outputs": [
      {
       "output_type": "stream",
       "stream": "stdout",
       "text": [
        "/home/gavin/Documents/MRes\n"
       ]
      }
     ],
     "prompt_number": 139
    },
    {
     "cell_type": "code",
     "collapsed": false,
     "input": [
      "f = open(\"datasource.tab\", \"w\")\n",
      "f.write(\"HIPPIE/prematch.positive.HIPPIE.txt\" + \"\\t\" + \"HIPPIE/training.positive.HIPPIE.txt\" + \"\\t\" + \"protindexes=(1,3);valindex=4\")\n",
      "f.close()"
     ],
     "language": "python",
     "metadata": {},
     "outputs": [],
     "prompt_number": 141
    },
    {
     "cell_type": "code",
     "collapsed": false,
     "input": [
      "%%bash\n",
      "cat datasource.tab"
     ],
     "language": "python",
     "metadata": {},
     "outputs": [
      {
       "output_type": "stream",
       "stream": "stdout",
       "text": [
        "HIPPIE/prematch.positive.HIPPIE.txt\tHIPPIE/training.positive.HIPPIE.txt\tprotindexes=(1,3);valindex=4"
       ]
      }
     ],
     "prompt_number": 143
    },
    {
     "cell_type": "code",
     "collapsed": false,
     "input": [
      "test = FeatureVectorAssembler(\"datasource.tab\",\n",
      "                              \"DIP/human/training.nolabel.positive.Entrez.txt\",\n",
      "                              \"DIP/human/training.nolabel.negative.Entrez.txt\")"
     ],
     "language": "python",
     "metadata": {},
     "outputs": [],
     "prompt_number": 148
    },
    {
     "cell_type": "markdown",
     "metadata": {},
     "source": [
      "So now initialises ok.\n",
      "Adding the methods defined above:"
     ]
    },
    {
     "cell_type": "code",
     "collapsed": false,
     "input": [
      "class FeatureVectorAssembler():\n",
      "    '''Assembles feature vectors from protein pair files, data source lists and gold standard protein pair lists.'''\n",
      "    def __init__(self,sourcetab):\n",
      "        #instantiate protein pair parsers\n",
      "        # first parse the data source table\n",
      "        # store the directory of the table and it's name\n",
      "        self.sourcetabdir,self.tabfile = os.path.split(sourcetab)\n",
      "        # open the table and parse for initialisation options\n",
      "        c = csv.reader(open(sourcetab), delimiter=\"\\t\")\n",
      "        # iterate over lines adding to list of protein pair parsers\n",
      "        self.parserinitlist = []\n",
      "        for line in c:\n",
      "            #store the information in a dictionary\n",
      "            d = {}\n",
      "            d[\"data path\"] = os.path.join(self.sourcetabdir,line[0])\n",
      "            d[\"output path\"] = os.path.join(self.sourcetabdir,line[1])\n",
      "            #store options in a dictionary in the dictionary\n",
      "            d[\"options\"] = {}\n",
      "            options = line[2].split(\";\")\n",
      "            for x in options:\n",
      "                #split each option to find out which option it is:\n",
      "                x = x.split(\"=\")\n",
      "                #store it in the dictionary\n",
      "                # if there are invalid options this code WILL NOT DETECT THEM\n",
      "                d[\"options\"][x[0]]= x[1]\n",
      "            #update the script directory\n",
      "            if \"script\" in d[\"options\"].keys():\n",
      "                d[\"options\"][\"script\"] = os.path.join(self.sourcetabdir,d[\"options\"][\"script\"])\n",
      "            #copy the dictionary into the list\n",
      "            self.parserinitlist.append(d.copy())\n",
      "        #then initialise each of these parsers and keep them in a list\n",
      "        self.parserlist = []\n",
      "        for parser in self.parserinitlist:\n",
      "            self.parserlist.append(ProteinPairParser(parser[\"data path\"],\n",
      "                                                     parser[\"output path\"],\n",
      "                                                     **parser[\"options\"]))\n",
      "        return None\n",
      "    \n",
      "    def regenerate(self):\n",
      "        '''Calls all known protein parsers and gets them to regenerate their output, if they have to.'''\n",
      "        for parser in self.parserlist:\n",
      "            parser.regenerate()\n",
      "        return None\n",
      "    \n",
      "    def assemble(self, pairfile, outputfile):\n",
      "        '''Assembles a file of feature vectors for each protein pair in a protein pair file supplied.\n",
      "        \n",
      "        Assumes the pairfile is tab delimited.'''\n",
      "        # first parse the pairfile into a list of frozensets\n",
      "        pairs = map(lambda l: frozenset(l),csv.reader(open(pairfile), delimiter=\"\\t\"))\n",
      "        # open the file to put the feature vector in\n",
      "        c = csv.writer(open(outputfile, \"w\"), delimiter=\"\\t\")\n",
      "        #open all the databases and put them in a dictionary\n",
      "        dbdict = {}\n",
      "        for parser in self.parserinitlist:\n",
      "            dbdict[parser[\"output path\"]] = openpairshelf(parser[\"output path\"])\n",
      "        \n",
      "        # then iterate through the pairs, querying all parser databases\n",
      "        for pair in pairs:\n",
      "            row = []\n",
      "            lpair = list(pair)\n",
      "            row = row + lpair\n",
      "            for parser in self.parserinitlist:\n",
      "                row.append(dbdict[parser[\"output path\"]][pair])\n",
      "            c.writerow(row)\n",
      "            \n",
      "        #close all the databases\n",
      "        for parser in self.parserinitlist:\n",
      "            dbdict[parser[\"output path\"]].close()\n",
      "        \n",
      "        return None"
     ],
     "language": "python",
     "metadata": {},
     "outputs": [],
     "prompt_number": 174
    },
    {
     "cell_type": "code",
     "collapsed": false,
     "input": [
      "test = FeatureVectorAssembler(\"/home/gavin/Documents/MRes/datasource.tab\")"
     ],
     "language": "python",
     "metadata": {},
     "outputs": [],
     "prompt_number": 175
    },
    {
     "cell_type": "code",
     "collapsed": false,
     "input": [
      "test.regenerate()"
     ],
     "language": "python",
     "metadata": {},
     "outputs": [],
     "prompt_number": 176
    },
    {
     "cell_type": "code",
     "collapsed": false,
     "input": [
      "test.assemble(\"DIP/human/training.nolabel.positive.Entrez.txt\", \"testoutput\")"
     ],
     "language": "python",
     "metadata": {},
     "outputs": [],
     "prompt_number": 177
    },
    {
     "cell_type": "code",
     "collapsed": false,
     "input": [
      "os.path.join?"
     ],
     "language": "python",
     "metadata": {},
     "outputs": [],
     "prompt_number": 149
    },
    {
     "cell_type": "code",
     "collapsed": false,
     "input": [
      "pwd"
     ],
     "language": "python",
     "metadata": {},
     "outputs": [
      {
       "metadata": {},
       "output_type": "pyout",
       "prompt_number": 150,
       "text": [
        "u'/home/gavin/Documents/MRes'"
       ]
      }
     ],
     "prompt_number": 150
    },
    {
     "cell_type": "code",
     "collapsed": false,
     "input": [
      "os.path.join('/home/gavin/Documents/MRes','datasource.tab')"
     ],
     "language": "python",
     "metadata": {},
     "outputs": [
      {
       "metadata": {},
       "output_type": "pyout",
       "prompt_number": 151,
       "text": [
        "'/home/gavin/Documents/MRes/datasource.tab'"
       ]
      }
     ],
     "prompt_number": 151
    }
   ],
   "metadata": {}
  }
 ]
}