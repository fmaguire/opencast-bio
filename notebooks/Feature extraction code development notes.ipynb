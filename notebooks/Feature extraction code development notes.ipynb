{
 "metadata": {
  "name": "",
  "signature": "sha256:8991bbcaa0e2d5bfbcd54a2a3e0930ed6eaf3257748769e8277622b61b40b0a0"
 },
 "nbformat": 3,
 "nbformat_minor": 0,
 "worksheets": [
  {
   "cells": [
    {
     "cell_type": "markdown",
     "metadata": {},
     "source": [
      "# Iteration 2\n",
      "\n",
      "Due to the problem of extremely large database files being produced when extracting features with extremely good coverage, such as Gene Ontology, a new version of the code is required to deal with this problem.\n",
      "The new code will store the ProteinPairParser objects as pickle files and the features will be indexed from these objects through a `__getitem__` method with the ProteinPairParser only interacting with it's database, if it has one.\n",
      "\n",
      "Each ProteinPairParser will have it's own generator function which will either be created using the options handed to it or loaded from another pickle file.\n",
      "The default generator will act as the code currently does, by creating a database then indexing said database to retrieve files.\n",
      "According to the Python documentation if the Parser opens the database at initialisation and then is pickled the database will be closed and opened again at unpickling time: [pickle documentation][pickledocs] - see the TextReader example.\n",
      "\n",
      "\n",
      "\n",
      "[pickledocs]: https://docs.python.org/2/library/pickle.html#example"
     ]
    },
    {
     "cell_type": "code",
     "collapsed": false,
     "input": [
      "cd /home/gavin/Documents/MRes/"
     ],
     "language": "python",
     "metadata": {},
     "outputs": [
      {
       "output_type": "stream",
       "stream": "stdout",
       "text": [
        "/home/gavin/Documents/MRes\n"
       ]
      }
     ],
     "prompt_number": 8
    },
    {
     "cell_type": "markdown",
     "metadata": {},
     "source": [
      "Going to step through the changes I'm making to the code and list them using git.\n",
      "After making changes I'll run a test case to make sure it's still working."
     ]
    },
    {
     "cell_type": "code",
     "collapsed": false,
     "input": [
      "import sys\n",
      "sys.path.append(\"/home/gavin/Documents/MRes/opencast-bio/\")\n",
      "import ocbio.extract"
     ],
     "language": "python",
     "metadata": {},
     "outputs": [],
     "prompt_number": 9
    },
    {
     "cell_type": "code",
     "collapsed": false,
     "input": [
      "reload(ocbio.extract)"
     ],
     "language": "python",
     "metadata": {},
     "outputs": [
      {
       "metadata": {},
       "output_type": "pyout",
       "prompt_number": 65,
       "text": [
        "<module 'ocbio.extract' from '/home/gavin/Documents/MRes/opencast-bio/ocbio/extract.pyc'>"
       ]
      }
     ],
     "prompt_number": 65
    },
    {
     "cell_type": "markdown",
     "metadata": {},
     "source": [
      "## Changing parsers to use `__getitem__`\n",
      "\n",
      "This involves ensuring that at initialisation the parser will define a function to return values by default from the database it's going to create when `regenerate` is run.\n",
      "There must also be an option to load an arbitrary pickled object to return items.\n",
      "\n",
      "Also, the databases must now be opened and closed with the parsers and the opened databases stored within the parser objects.\n",
      "The assembler will have to be modified to deal with this and close the databases when it's done.\n",
      "\n",
      "Showing these changes:"
     ]
    },
    {
     "cell_type": "code",
     "collapsed": false,
     "input": [
      "!git -C opencast-bio/ show HEAD"
     ],
     "language": "python",
     "metadata": {},
     "outputs": [
      {
       "output_type": "stream",
       "stream": "stdout",
       "text": [
        "\u001b[33mcommit 1101122b2bba125e6c318e04fb6e52d7f81097e0\u001b[m\r\n",
        "Author: Gavin <gavingray1729@gmail.com>\r\n",
        "Date:   Sun Jun 22 13:35:53 2014 +0100\r\n",
        "\r\n",
        "    added functionality for gene ontology to protein pair parser\r\n",
        "\r\n",
        "\u001b[1mdiff --git a/ocbio/extract.py b/ocbio/extract.py\u001b[m\r\n",
        "\u001b[1mindex 0bb7db8..fc604d0 100644\u001b[m\r\n",
        "\u001b[1m--- a/ocbio/extract.py\u001b[m\r\n",
        "\u001b[1m+++ b/ocbio/extract.py\u001b[m\r\n",
        "\u001b[36m@@ -1,4 +1,5 @@\u001b[m\r\n",
        " # Feature extraction code\u001b[m\r\n",
        "\u001b[32m+\u001b[m\u001b[32m# Header pending\u001b[m\r\n",
        " \u001b[m\r\n",
        " import os\u001b[m\r\n",
        " import time\u001b[m\r\n",
        "\u001b[36m@@ -7,6 +8,8 @@\u001b[m \u001b[mimport csv\u001b[m\r\n",
        " import shelve\u001b[m\r\n",
        " import re\u001b[m\r\n",
        " import sys\u001b[m\r\n",
        "\u001b[32m+\u001b[m\u001b[32mimport pickle\u001b[m\r\n",
        "\u001b[32m+\u001b[m\u001b[32mimport geneontology\u001b[m\r\n",
        " \u001b[m\r\n",
        " def verbosecheck(verbose):\u001b[m\r\n",
        "     '''returns a function depending on the state of the verbose flag'''\u001b[m\r\n",
        "\u001b[36m@@ -214,7 +217,8 @@\u001b[m \u001b[mclass ProteinPairParser():\u001b[m\r\n",
        "                  valindexes=[2],\u001b[m\r\n",
        "                  script=None,\u001b[m\r\n",
        "                  csvdelim=\"\\t\",\u001b[m\r\n",
        "\u001b[31m-                 ignoreheader=0):\u001b[m\r\n",
        "\u001b[32m+\u001b[m\u001b[32m                 ignoreheader=0,\u001b[m\r\n",
        "\u001b[32m+\u001b[m\u001b[32m                 generator=False):\u001b[m\r\n",
        "         # first, store the initialisation\u001b[m\r\n",
        "         self.datadir = datadir\u001b[m\r\n",
        "         self.outdir = outdir\u001b[m\r\n",
        "\u001b[36m@@ -225,76 +229,95 @@\u001b[m \u001b[mclass ProteinPairParser():\u001b[m\r\n",
        "         self.script = script\u001b[m\r\n",
        "         self.csvdelim = csvdelim\u001b[m\r\n",
        "         self.ignoreheader = ignoreheader\u001b[m\r\n",
        "\u001b[32m+\u001b[m\u001b[32m        if generator:\u001b[m\r\n",
        "\u001b[32m+\u001b[m\u001b[32m            #then open up this pickle file\u001b[m\r\n",
        "\u001b[32m+\u001b[m\u001b[32m            f = open(generator)\u001b[m\r\n",
        "\u001b[32m+\u001b[m\u001b[32m            self.generator = pickle.load(f)\u001b[m\r\n",
        "\u001b[32m+\u001b[m\u001b[32m            f.close()\u001b[m\r\n",
        "\u001b[32m+\u001b[m\u001b[32m        else:\u001b[m\r\n",
        "\u001b[32m+\u001b[m\u001b[32m            self.generator == None\u001b[m\r\n",
        "\u001b[32m+\u001b[m\u001b[32m            self.db = openpairshelf(self.outdir)\u001b[m\r\n",
        "         return None\u001b[m\r\n",
        " \u001b[m\r\n",
        "     def regenerate(self, force=False, verbose=False):\u001b[m\r\n",
        "         '''Regenerate the pair file from the data source\u001b[m\r\n",
        "         if the data source is newer than the pair file'''\u001b[m\r\n",
        "         v_print = verbosecheck(verbose)\u001b[m\r\n",
        "\u001b[31m-        # so first check the ages of both files\u001b[m\r\n",
        "\u001b[31m-        datamtime = os.stat(self.datadir)[-2]\u001b[m\r\n",
        "\u001b[31m-        if os.path.isfile(self.outdir):\u001b[m\r\n",
        "\u001b[31m-            pairmtime = os.stat(self.outdir)[-2]\u001b[m\r\n",
        "\u001b[31m-        else:\u001b[m\r\n",
        "\u001b[31m-            # bit of a hack\u001b[m\r\n",
        "\u001b[31m-            pairmtime = 0\u001b[m\r\n",
        "\u001b[31m-        # if the data modification time is greater than output modification time\u001b[m\r\n",
        "\u001b[31m-        if datamtime > pairmtime or force is True:\u001b[m\r\n",
        "\u001b[31m-            # now regenerate the data file according to the options defined above:\u001b[m\r\n",
        "\u001b[31m-            if verbose and datamtime > pairmtime:\u001b[m\r\n",
        "\u001b[31m-                if pairmtime == 0:\u001b[m\r\n",
        "\u001b[31m-                    print \"Database file not found, regenerating at {0} from {1}.\".format(self.outdir, self.datadir)\u001b[m\r\n",
        "\u001b[31m-                else:\u001b[m\r\n",
        "\u001b[31m-                    print \"Data file {0} is newer than processed database {1}, regenerating.\".format(self.datadir, self.outdir)\u001b[m\r\n",
        "\u001b[31m-            if verbose and force:\u001b[m\r\n",
        "\u001b[31m-                print \"Forcing regeneration of database {0} from data file {1}.\".format(self.outdir, self.datadir)\u001b[m\r\n",
        "\u001b[31m-            # if there's a script to run\u001b[m\r\n",
        "\u001b[31m-            if self.script is not None:\u001b[m\r\n",
        "\u001b[31m-                v_print(\"Executing script: {0}.\".format(self.script))\u001b[m\r\n",
        "\u001b[31m-                # then execute the script\u001b[m\r\n",
        "\u001b[31m-                retcode = subprocess.call(\"python2 {0}\".format(self.script), shell=True)\u001b[m\r\n",
        "\u001b[31m-\u001b[m\r\n",
        "\u001b[31m-                v_print(\"Script returned: {0}\".format(retcode))\u001b[m\r\n",
        "\u001b[31m-            # first delete out of date file, if it's there\u001b[m\r\n",
        "\u001b[32m+\u001b[m\u001b[32m        if self.generator != None:\u001b[m\r\n",
        "\u001b[32m+\u001b[m\u001b[32m            # so first check the ages of both files\u001b[m\r\n",
        "\u001b[32m+\u001b[m\u001b[32m            datamtime = os.stat(self.datadir)[-2]\u001b[m\r\n",
        "             if os.path.isfile(self.outdir):\u001b[m\r\n",
        "\u001b[31m-                os.remove(self.outdir)\u001b[m\r\n",
        "\u001b[31m-            # perform simple parsing to make a file of just protein pairs and the value we care about\u001b[m\r\n",
        "\u001b[31m-            # and save these using shelve\u001b[m\r\n",
        "\u001b[31m-            db = openpairshelf(self.outdir)\u001b[m\r\n",
        "\u001b[31m-            # open the data file\u001b[m\r\n",
        "\u001b[31m-            c = csv.reader(open(self.datadir), delimiter=self.csvdelim)\u001b[m\r\n",
        "\u001b[31m-            # if the header should be ignored then ignore it\u001b[m\r\n",
        "\u001b[31m-\u001b[m\r\n",
        "\u001b[31m-            if self.ignoreheader == \"1\":\u001b[m\r\n",
        "\u001b[31m-                v_print(\"Ignoring header.\")\u001b[m\r\n",
        "\u001b[31m-                c.next()\u001b[m\r\n",
        "\u001b[32m+\u001b[m\u001b[32m                pairmtime = os.stat(self.outdir)[-2]\u001b[m\r\n",
        "\u001b[32m+\u001b[m\u001b[32m            else:\u001b[m\r\n",
        "\u001b[32m+\u001b[m\u001b[32m                # bit of a hack\u001b[m\r\n",
        "\u001b[32m+\u001b[m\u001b[32m                pairmtime = 0\u001b[m\r\n",
        "\u001b[32m+\u001b[m\u001b[32m            # if the data modification time is greater than output modification time\u001b[m\r\n",
        "\u001b[32m+\u001b[m\u001b[32m            if datamtime > pairmtime or force is True:\u001b[m\r\n",
        "\u001b[32m+\u001b[m\u001b[32m                # now regenerate the data file according to the options defined above:\u001b[m\r\n",
        "\u001b[32m+\u001b[m\u001b[32m                if verbose and datamtime > pairmtime:\u001b[m\r\n",
        "\u001b[32m+\u001b[m\u001b[32m                    if pairmtime == 0:\u001b[m\r\n",
        "\u001b[32m+\u001b[m\u001b[32m                        print \"Database file not found, regenerating at {0} from {1}.\".format(self.outdir, self.datadir)\u001b[m\r\n",
        "\u001b[32m+\u001b[m\u001b[32m                    else:\u001b[m\r\n",
        "\u001b[32m+\u001b[m\u001b[32m                        print \"Data file {0} is newer than processed database {1}, regenerating.\".format(self.datadir, self.outdir)\u001b[m\r\n",
        "\u001b[32m+\u001b[m\u001b[32m                if verbose and force:\u001b[m\r\n",
        "\u001b[32m+\u001b[m\u001b[32m                    print \"Forcing regeneration of database {0} from data file {1}.\".format(self.outdir, self.datadir)\u001b[m\r\n",
        "\u001b[32m+\u001b[m\u001b[32m                # if there's a script to run\u001b[m\r\n",
        "\u001b[32m+\u001b[m\u001b[32m                if self.script is not None:\u001b[m\r\n",
        "\u001b[32m+\u001b[m\u001b[32m                    v_print(\"Executing script: {0}.\".format(self.script))\u001b[m\r\n",
        "\u001b[32m+\u001b[m\u001b[32m                    # then execute the script\u001b[m\r\n",
        "\u001b[32m+\u001b[m\u001b[32m                    retcode = subprocess.call(\"python2 {0}\".format(self.script), shell=True)\u001b[m\r\n",
        "\u001b[32m+\u001b[m\r\n",
        "\u001b[32m+\u001b[m\u001b[32m                    v_print(\"Script returned: {0}\".format(retcode))\u001b[m\r\n",
        "\u001b[32m+\u001b[m\u001b[32m                # first delete out of date file, if it's there\u001b[m\r\n",
        "\u001b[32m+\u001b[m\u001b[32m                if os.path.isfile(self.outdir):\u001b[m\r\n",
        "\u001b[32m+\u001b[m\u001b[32m                    os.remove(self.outdir)\u001b[m\r\n",
        "\u001b[32m+\u001b[m\u001b[32m                # open the data file\u001b[m\r\n",
        "\u001b[32m+\u001b[m\u001b[32m                c = csv.reader(open(self.datadir), delimiter=self.csvdelim)\u001b[m\r\n",
        "\u001b[32m+\u001b[m\u001b[32m                # if the header should be ignored then ignore it\u001b[m\r\n",
        "\u001b[32m+\u001b[m\r\n",
        "\u001b[32m+\u001b[m\u001b[32m                if self.ignoreheader == \"1\":\u001b[m\r\n",
        "\u001b[32m+\u001b[m\u001b[32m                    v_print(\"Ignoring header.\")\u001b[m\r\n",
        "\u001b[32m+\u001b[m\u001b[32m                    c.next()\u001b[m\r\n",
        " \u001b[m\r\n",
        "\u001b[31m-            if verbose:\u001b[m\r\n",
        "\u001b[31m-                sys.stdout.write(\"Filling database\")\u001b[m\r\n",
        "\u001b[31m-                lcount = 0\u001b[m\r\n",
        "\u001b[32m+\u001b[m\u001b[32m                if verbose:\u001b[m\r\n",
        "\u001b[32m+\u001b[m\u001b[32m                    sys.stdout.write(\"Filling database\")\u001b[m\r\n",
        "\u001b[32m+\u001b[m\u001b[32m                    lcount = 0\u001b[m\r\n",
        "\u001b[32m+\u001b[m\r\n",
        "\u001b[32m+\u001b[m\u001b[32m                for line in c:\u001b[m\r\n",
        "\u001b[32m+\u001b[m\u001b[32m                    # each line use the protein pair as a key\u001b[m\r\n",
        "\u001b[32m+\u001b[m\u001b[32m                    # by formatting it as a frozenset\u001b[m\r\n",
        "\u001b[32m+\u001b[m\u001b[32m                    pair = frozenset([line[self.protindexes[0]], line[self.protindexes[1]]])\u001b[m\r\n",
        "\u001b[32m+\u001b[m\u001b[32m                    # and the value is indexed by valindexes\u001b[m\r\n",
        "\u001b[32m+\u001b[m\u001b[32m                    values = []\u001b[m\r\n",
        " \u001b[m\r\n",
        "\u001b[31m-            for line in c:\u001b[m\r\n",
        "\u001b[31m-                # each line use the protein pair as a key\u001b[m\r\n",
        "\u001b[31m-                # by formatting it as a frozenset\u001b[m\r\n",
        "\u001b[31m-                pair = frozenset([line[self.protindexes[0]], line[self.protindexes[1]]])\u001b[m\r\n",
        "\u001b[31m-                # and the value is indexed by valindexes\u001b[m\r\n",
        "\u001b[31m-                values = []\u001b[m\r\n",
        "\u001b[32m+\u001b[m\u001b[32m                    for i in self.valindexes:\u001b[m\r\n",
        "\u001b[32m+\u001b[m\u001b[32m                        values.append(line[i])\u001b[m\r\n",
        " \u001b[m\r\n",
        "\u001b[31m-                for i in self.valindexes:\u001b[m\r\n",
        "\u001b[31m-                    values.append(line[i])\u001b[m\r\n",
        "\u001b[32m+\u001b[m\u001b[32m                    self.db[pair] = values[:]\u001b[m\r\n",
        " \u001b[m\r\n",
        "\u001b[31m-                db[pair] = values[:]\u001b[m\r\n",
        "\u001b[32m+\u001b[m\u001b[32m                    if verbose:\u001b[m\r\n",
        "\u001b[32m+\u001b[m\u001b[32m                        lcount = lcount + 1\u001b[m\r\n",
        "\u001b[32m+\u001b[m\u001b[32m                        if lcount % 1000 == 0:\u001b[m\r\n",
        "\u001b[32m+\u001b[m\u001b[32m                            sys.stdout.write(\".\")\u001b[m\r\n",
        " \u001b[m\r\n",
        "                 if verbose:\u001b[m\r\n",
        "\u001b[31m-                    lcount = lcount + 1\u001b[m\r\n",
        "\u001b[31m-                    if lcount % 1000 == 0:\u001b[m\r\n",
        "\u001b[31m-                        sys.stdout.write(\".\")\u001b[m\r\n",
        "\u001b[32m+\u001b[m\u001b[32m                    sys.stdout.write(\"\\n\")\u001b[m\r\n",
        "\u001b[32m+\u001b[m\u001b[32m                    print \"Parsed {0} lines.\".format(lcount)\u001b[m\r\n",
        "\u001b[32m+\u001b[m\u001b[32m            else:\u001b[m\r\n",
        "\u001b[32m+\u001b[m\u001b[32m                v_print(\"Custom generator function, no database to regenerate.\")\u001b[m\r\n",
        " \u001b[m\r\n",
        "\u001b[31m-            if verbose:\u001b[m\r\n",
        "\u001b[31m-                sys.stdout.write(\"\\n\")\u001b[m\r\n",
        "\u001b[31m-                print \"Parsed {0} lines.\".format(lcount)\u001b[m\r\n",
        "\u001b[31m-            db.close()\u001b[m\r\n",
        "\u001b[32m+\u001b[m\u001b[32m        return None\u001b[m\r\n",
        "\u001b[32m+\u001b[m\r\n",
        "\u001b[32m+\u001b[m\u001b[32m    def __getitem__(self,key):\u001b[m\r\n",
        "\u001b[32m+\u001b[m\u001b[32m        if self.generator != None:\u001b[m\r\n",
        "\u001b[32m+\u001b[m\u001b[32m            #try and read a key from the custom generator\u001b[m\r\n",
        "\u001b[32m+\u001b[m\u001b[32m            return self.generator[key]\u001b[m\r\n",
        "\u001b[32m+\u001b[m\u001b[32m        else:\u001b[m\r\n",
        "\u001b[32m+\u001b[m\u001b[32m            #read key from database\u001b[m\r\n",
        "\u001b[32m+\u001b[m\u001b[32m            return self.db[key]\u001b[m\r\n",
        " \u001b[m\r\n",
        "\u001b[32m+\u001b[m\u001b[32m    def close(self):\u001b[m\r\n",
        "\u001b[32m+\u001b[m\u001b[32m        self.db.close()\u001b[m\r\n",
        "         return None\u001b[m\r\n",
        " \u001b[m\r\n",
        " \u001b[m\r\n",
        "\u001b[1mdiff --git a/ocbio/geneontology.py b/ocbio/geneontology.py\u001b[m\r\n",
        "\u001b[1mnew file mode 100644\u001b[m\r\n",
        "\u001b[1mindex 0000000..6a73307\u001b[m\r\n",
        "\u001b[1m--- /dev/null\u001b[m\r\n",
        "\u001b[1m+++ b/ocbio/geneontology.py\u001b[m\r\n",
        "\u001b[36m@@ -0,0 +1,35 @@\u001b[m\r\n",
        "\u001b[32m+\u001b[m\u001b[32m# coding: utf-8\u001b[m\r\n",
        "\u001b[32m+\u001b[m\u001b[32mimport numpy as np\u001b[m\r\n",
        "\u001b[32m+\u001b[m\r\n",
        "\u001b[32m+\u001b[m\u001b[32mclass GOfvectors():\u001b[m\r\n",
        "\u001b[32m+\u001b[m\u001b[32m    def __init__(self,goEntrezdict,terms):\u001b[m\r\n",
        "\u001b[32m+\u001b[m\u001b[32m        self.goEntrezdict = goEntrezdict\u001b[m\r\n",
        "\u001b[32m+\u001b[m\u001b[32m        self.terms = terms\u001b[m\r\n",
        "\u001b[32m+\u001b[m\u001b[32m        return None\u001b[m\r\n",
        "\u001b[32m+\u001b[m\u001b[41m    \u001b[m\r\n",
        "\u001b[32m+\u001b[m\u001b[32m    def __getitem__(self,key):\u001b[m\r\n",
        "\u001b[32m+\u001b[m\u001b[32m        pair = list(key)\u001b[m\r\n",
        "\u001b[32m+\u001b[m\u001b[32m        if len(pair)==1:\u001b[m\r\n",
        "\u001b[32m+\u001b[m\u001b[32m            pair = pair*2\u001b[m\r\n",
        "\u001b[32m+\u001b[m\u001b[32m        # First define the domains, I'm guessing they're not changing\u001b[m\r\n",
        "\u001b[32m+\u001b[m\u001b[32m        domains = ['molecular_function','cellular_component','biological_process']\u001b[m\r\n",
        "\u001b[32m+\u001b[m\u001b[32m        # initialise the vectors we're going to be using:\u001b[m\r\n",
        "\u001b[32m+\u001b[m\u001b[32m        govectordict= {}\u001b[m\r\n",
        "\u001b[32m+\u001b[m\u001b[32m        for entrezID in pair:\u001b[m\r\n",
        "\u001b[32m+\u001b[m\u001b[32m            vec = []\u001b[m\r\n",
        "\u001b[32m+\u001b[m\u001b[32m            for domain in domains:\u001b[m\r\n",
        "\u001b[32m+\u001b[m\u001b[32m                for term in self.terms[domain]:\u001b[m\r\n",
        "\u001b[32m+\u001b[m\u001b[32m                    try:\u001b[m\r\n",
        "\u001b[32m+\u001b[m\u001b[32m                        if term in self.goEntrezdict[entrezID][domain]:\u001b[m\r\n",
        "\u001b[32m+\u001b[m\u001b[32m                            vec.append(1)\u001b[m\r\n",
        "\u001b[32m+\u001b[m\u001b[32m                        else:\u001b[m\r\n",
        "\u001b[32m+\u001b[m\u001b[32m                            vec.append(0)\u001b[m\r\n",
        "\u001b[32m+\u001b[m\u001b[32m                    except KeyError:\u001b[m\r\n",
        "\u001b[32m+\u001b[m\u001b[32m                        vec.append(0)\u001b[m\r\n",
        "\u001b[32m+\u001b[m\u001b[32m            #save to dictionary\u001b[m\r\n",
        "\u001b[32m+\u001b[m\u001b[32m            govectordict[entrezID] = np.array(vec[:])\u001b[m\r\n",
        "\u001b[32m+\u001b[m\u001b[32m        #iterate over combinations of Entrez pairs\u001b[m\r\n",
        "\u001b[32m+\u001b[m\u001b[32m        #building the line as it goes\u001b[m\r\n",
        "\u001b[32m+\u001b[m\u001b[32m        line = list(govectordict[pair[0]]*govectordict[pair[1]])\u001b[m\r\n",
        "\u001b[32m+\u001b[m\u001b[32m        #yield this feature vector\u001b[m\r\n",
        "\u001b[32m+\u001b[m\u001b[32m        return line\u001b[m\r\n"
       ]
      }
     ],
     "prompt_number": 51
    },
    {
     "cell_type": "markdown",
     "metadata": {},
     "source": [
      "Testing initialisation:"
     ]
    },
    {
     "cell_type": "code",
     "collapsed": false,
     "input": [
      "testparser = ocbio.extract.ProteinPairParser(\"none\",\"none\",generator=\"geneontology/testgen.pickle\")"
     ],
     "language": "python",
     "metadata": {},
     "outputs": [],
     "prompt_number": 46
    },
    {
     "cell_type": "code",
     "collapsed": false,
     "input": [
      "testpair = frozenset(('114787', '114785'))"
     ],
     "language": "python",
     "metadata": {},
     "outputs": [],
     "prompt_number": 47
    },
    {
     "cell_type": "code",
     "collapsed": false,
     "input": [
      "print testparser[testpair]"
     ],
     "language": "python",
     "metadata": {},
     "outputs": [
      {
       "output_type": "stream",
       "stream": "stdout",
       "text": [
        "[0, 0, 0, 0, 0, 0, 0, 0, 0, 0, 0, 0, 0, 0, 0, 0, 0, 0, 0, 0, 0, 0, 0, 0, 0, 0, 0, 0, 0, 0, 0, 0, 0, 0, 0, 0, 0, 0, 0, 0, 0, 0, 0, 0, 0, 0, 0, 0, 0, 0, 0, 0, 0, 0, 0, 0, 0, 0, 0, 0, 0, 0, 0, 0, 0, 0, 0, 0, 0, 0, 0, 0, 0, 0, 0, 0, 0, 0, 0, 0, 0, 0, 0, 0, 0, 0, 0, 0, 0, 0]\n"
       ]
      }
     ],
     "prompt_number": 48
    },
    {
     "cell_type": "markdown",
     "metadata": {},
     "source": [
      "## Updating assembler to query parsers for vector entries\n",
      "\n",
      "The assembler currently looks at the databases the parsers produce and pulls out the values itself.\n",
      "Now that the parsers can do that there's no reason for this.\n",
      "The assembler just needs to iterate through parsers and index for the pair it's working on at that time:"
     ]
    },
    {
     "cell_type": "code",
     "collapsed": false,
     "input": [
      "!git -C opencast-bio/ show HEAD"
     ],
     "language": "python",
     "metadata": {},
     "outputs": [
      {
       "output_type": "stream",
       "stream": "stdout",
       "text": [
        "\u001b[33mcommit 7de0c23b12a57caf544cc538cf737029a306d2f1\u001b[m\r\n",
        "Author: Gavin <gavingray1729@gmail.com>\r\n",
        "Date:   Sun Jun 22 16:25:24 2014 +0100\r\n",
        "\r\n",
        "    updated assembler for gene ontology\r\n",
        "\r\n",
        "\u001b[1mdiff --git a/ocbio/extract.py b/ocbio/extract.py\u001b[m\r\n",
        "\u001b[1mindex fc604d0..c2d856d 100644\u001b[m\r\n",
        "\u001b[1m--- a/ocbio/extract.py\u001b[m\r\n",
        "\u001b[1m+++ b/ocbio/extract.py\u001b[m\r\n",
        "\u001b[36m@@ -10,6 +10,7 @@\u001b[m \u001b[mimport re\u001b[m\r\n",
        " import sys\u001b[m\r\n",
        " import pickle\u001b[m\r\n",
        " import geneontology\u001b[m\r\n",
        "\u001b[32m+\u001b[m\u001b[32mimport pdb\u001b[m\r\n",
        " \u001b[m\r\n",
        " def verbosecheck(verbose):\u001b[m\r\n",
        "     '''returns a function depending on the state of the verbose flag'''\u001b[m\r\n",
        "\u001b[36m@@ -66,7 +67,7 @@\u001b[m \u001b[mclass FeatureVectorAssembler():\u001b[m\r\n",
        "                 if \"script\" in d[\"options\"].keys():\u001b[m\r\n",
        "                     d[\"options\"][\"script\"] = os.path.join(self.sourcetabdir,\u001b[m\r\n",
        "                                                           d[\"options\"][\"script\"])\u001b[m\r\n",
        "\u001b[31m-                # parse protindexes and validexes:\u001b[m\r\n",
        "\u001b[32m+\u001b[m\u001b[32m                # parse protindexes and valindexes:\u001b[m\r\n",
        "                 if \"protindexes\" in d[\"options\"].keys():\u001b[m\r\n",
        "                     d[\"options\"][\"protindexes\"] = tuple(int(v) for v in re.findall(\"[0-9]+\", d[\"options\"][\"protindexes\"]))\u001b[m\r\n",
        "                 if \"valindexes\" in d[\"options\"].keys():\u001b[m\r\n",
        "\u001b[36m@@ -108,30 +109,39 @@\u001b[m \u001b[mclass FeatureVectorAssembler():\u001b[m\r\n",
        "         pairs = map(lambda l: frozenset(l), csv.reader(open(pairfile), delimiter=\"\\t\"))\u001b[m\r\n",
        "         # open the file to put the feature vector in\u001b[m\r\n",
        "         c = csv.writer(open(outputfile, \"w\"), delimiter=delim)\u001b[m\r\n",
        "\u001b[31m-        # open all the databases and put them in a dictionary\u001b[m\r\n",
        "\u001b[31m-        dbdict = {}\u001b[m\r\n",
        "\u001b[31m-\u001b[m\r\n",
        "\u001b[31m-        v_print(\"Opening databases:\")\u001b[m\r\n",
        "\u001b[31m-        for parser in self.parserinitlist:\u001b[m\r\n",
        "\u001b[31m-            dbdict[parser[\"output path\"]] = openpairshelf(parser[\"output path\"])\u001b[m\r\n",
        "\u001b[31m-            v_print(\"\\t {0} open\".format(parser[\"output path\"]))\u001b[m\r\n",
        " \u001b[m\r\n",
        "         v_print(\"Checking feature sizes:\")\u001b[m\r\n",
        "         # check size of feature in each file\u001b[m\r\n",
        "         # will be important later\u001b[m\r\n",
        "         featuresizes = {}\u001b[m\r\n",
        "\u001b[31m-        for parser in self.parserinitlist:\u001b[m\r\n",
        "\u001b[31m-            k = dbdict[parser[\"output path\"]].keys()[0]\u001b[m\r\n",
        "\u001b[31m-            featuresizes[parser[\"output path\"]] = len(dbdict[parser[\"output path\"]][k])\u001b[m\r\n",
        "\u001b[31m-            v_print(\"\\t Database {0} contains features of size {1}.\".format(parser[\"output path\"],\u001b[m\r\n",
        "\u001b[31m-                                                                            featuresizes[parser[\"output path\"]]))\u001b[m\r\n",
        "\u001b[32m+\u001b[m\u001b[32m        for parser, i in zip(self.parserlist, range(len(self.parserlist))):\u001b[m\r\n",
        "\u001b[32m+\u001b[m\u001b[32m            #try to get an example feature\u001b[m\r\n",
        "\u001b[32m+\u001b[m\u001b[32m            examplefeature = None\u001b[m\r\n",
        "\u001b[32m+\u001b[m\u001b[32m            for pair in pairs:\u001b[m\r\n",
        "\u001b[32m+\u001b[m\u001b[32m                try:\u001b[m\r\n",
        "\u001b[32m+\u001b[m\u001b[32m                    examplefeature = parser[pair]\u001b[m\r\n",
        "\u001b[32m+\u001b[m\u001b[32m                except KeyError:\u001b[m\r\n",
        "\u001b[32m+\u001b[m\u001b[32m                    #keep trying\u001b[m\r\n",
        "\u001b[32m+\u001b[m\u001b[32m                    pass\u001b[m\r\n",
        "\u001b[32m+\u001b[m\u001b[32m                #if examplefeature != None:\u001b[m\r\n",
        "\u001b[32m+\u001b[m\u001b[32m                #    break\u001b[m\r\n",
        "\u001b[32m+\u001b[m\u001b[32m            #check we actually got an example feature\u001b[m\r\n",
        "\u001b[32m+\u001b[m\u001b[32m            if examplefeature == None:\u001b[m\r\n",
        "\u001b[32m+\u001b[m\u001b[32m                # should probably not include a feature that's going to be all missing values\u001b[m\r\n",
        "\u001b[32m+\u001b[m\u001b[32m                del self.parserlist[i]\u001b[m\r\n",
        "\u001b[32m+\u001b[m\u001b[32m                v_print(\"\\t Feature from {0} does not map to these protein pairs.\".format(parser.datadir))\u001b[m\r\n",
        "\u001b[32m+\u001b[m\u001b[32m            else:\u001b[m\r\n",
        "\u001b[32m+\u001b[m\u001b[32m                #then we've got a feature so we should see what size it is\u001b[m\r\n",
        "\u001b[32m+\u001b[m\u001b[32m                featuresizes[parser.datadir] = len(examplefeature)\u001b[m\r\n",
        "\u001b[32m+\u001b[m\u001b[32m                v_print(\"\\t Data source {0} produces features of size {1}.\".format(parser.datadir,\u001b[m\r\n",
        "\u001b[32m+\u001b[m\u001b[32m                                                                            featuresizes[parser.datadir]))\u001b[m\r\n",
        "         if verbose:\u001b[m\r\n",
        "             sys.stdout.write(\"Writing feature vectors\")\u001b[m\r\n",
        "             lcount = 0\u001b[m\r\n",
        "             # counters for each database reporting numbers of missing values\u001b[m\r\n",
        "             mcount = {}\u001b[m\r\n",
        "\u001b[31m-            for parser in self.parserinitlist:\u001b[m\r\n",
        "\u001b[31m-                mcount[parser[\"output path\"]] = 0\u001b[m\r\n",
        "\u001b[32m+\u001b[m\u001b[32m            for parser in self.parserlist:\u001b[m\r\n",
        "\u001b[32m+\u001b[m\u001b[32m                mcount[parser.datadir] = 0\u001b[m\r\n",
        "         # then iterate through the pairs, querying all parser databases and building a list of rows\u001b[m\r\n",
        "         rows = []\u001b[m\r\n",
        "         for pair in pairs:\u001b[m\r\n",
        "\u001b[36m@@ -141,31 +151,35 @@\u001b[m \u001b[mclass FeatureVectorAssembler():\u001b[m\r\n",
        "                 if len(lpair) == 1:\u001b[m\r\n",
        "                     lpair = lpair * 2\u001b[m\r\n",
        "                 row = row + lpair\u001b[m\r\n",
        "\u001b[31m-            for parser in self.parserinitlist:\u001b[m\r\n",
        "\u001b[32m+\u001b[m\u001b[32m            for parser in self.parserlist:\u001b[m\r\n",
        "                 # if there are features there then append them to the row\u001b[m\r\n",
        "                 try:\u001b[m\r\n",
        "\u001b[31m-                    row = row + dbdict[parser[\"output path\"]][pair]\u001b[m\r\n",
        "\u001b[32m+\u001b[m\u001b[32m                    row = row + parser[pair]\u001b[m\r\n",
        "                 except KeyError:\u001b[m\r\n",
        "\u001b[31m-                    row = row + [missinglabel] * featuresizes[parser[\"output path\"]]\u001b[m\r\n",
        "\u001b[32m+\u001b[m\u001b[32m                    row = row + [missinglabel] * featuresizes[parser.datadir]\u001b[m\r\n",
        "                     if verbose:\u001b[m\r\n",
        "\u001b[31m-                        mcount[parser[\"output path\"]] += 1\u001b[m\r\n",
        "\u001b[32m+\u001b[m\u001b[32m                        mcount[parser.datadir] += 1\u001b[m\r\n",
        "             c.writerow(row)\u001b[m\r\n",
        "             if verbose:\u001b[m\r\n",
        "                 lcount = lcount+1\u001b[m\r\n",
        "\u001b[31m-                if lcount % 1000 == 0:\u001b[m\r\n",
        "\u001b[32m+\u001b[m\u001b[32m                if lcount % 10000 == 0:\u001b[m\r\n",
        "                     sys.stdout.write(\".\")\u001b[m\r\n",
        "         if verbose:\u001b[m\r\n",
        "             sys.stdout.write(\"\\n\")\u001b[m\r\n",
        "             print \"Wrote {0} vectors.\".format(lcount)\u001b[m\r\n",
        "\u001b[31m-            for parser in self.parserinitlist:\u001b[m\r\n",
        "\u001b[31m-                percentage_match = 100.0 - 100.0 * mcount[parser[\"output path\"]] / lcount\u001b[m\r\n",
        "\u001b[31m-                print \"Matched {0:.2f} % of protein pairs in {1} to {2}\".format(percentage_match,\u001b[m\r\n",
        "\u001b[32m+\u001b[m\u001b[32m            for parser in self.parserlist:\u001b[m\r\n",
        "\u001b[32m+\u001b[m\u001b[32m                percentage_match = 100.0 - 100.0 * mcount[parser.datadir] / lcount\u001b[m\r\n",
        "\u001b[32m+\u001b[m\u001b[32m                print \"Matched {0:.2f} % of protein pairs in {1} to features from {2}\".format(percentage_match,\u001b[m\r\n",
        "                                                                                 pairfile,\u001b[m\r\n",
        "\u001b[31m-                                                                                parser[\"output path\"])\u001b[m\r\n",
        "\u001b[31m-        # close all the databases\u001b[m\r\n",
        "\u001b[31m-        for parser in self.parserinitlist:\u001b[m\r\n",
        "\u001b[31m-            dbdict[parser[\"output path\"]].close()\u001b[m\r\n",
        "\u001b[32m+\u001b[m\u001b[32m                                                                                parser.datadir)\u001b[m\r\n",
        "\u001b[32m+\u001b[m\u001b[32m        return None\u001b[m\r\n",
        " \u001b[m\r\n",
        "\u001b[32m+\u001b[m\u001b[32m    def close(self, verbose=False):\u001b[m\r\n",
        "\u001b[32m+\u001b[m\u001b[32m        v_print = verbosecheck(verbose)\u001b[m\r\n",
        "\u001b[32m+\u001b[m\u001b[32m        for parser in self.parserlist:\u001b[m\r\n",
        "\u001b[32m+\u001b[m\u001b[32m            if parser.db != None:\u001b[m\r\n",
        "\u001b[32m+\u001b[m\u001b[32m                parser.close()\u001b[m\r\n",
        "\u001b[32m+\u001b[m\u001b[32m                v_print(\"{0} closed\".format(parser.outdir))\u001b[m\r\n",
        "         return None\u001b[m\r\n",
        " \u001b[m\r\n",
        " \u001b[m\r\n",
        "\u001b[36m@@ -234,8 +248,10 @@\u001b[m \u001b[mclass ProteinPairParser():\u001b[m\r\n",
        "             f = open(generator)\u001b[m\r\n",
        "             self.generator = pickle.load(f)\u001b[m\r\n",
        "             f.close()\u001b[m\r\n",
        "\u001b[32m+\u001b[m\u001b[32m            self.db = None\u001b[m\r\n",
        "         else:\u001b[m\r\n",
        "\u001b[31m-            self.generator == None\u001b[m\r\n",
        "\u001b[32m+\u001b[m\u001b[32m            #otherwise open the database that is assumed to exist\u001b[m\u001b[41m \u001b[m\r\n",
        "\u001b[32m+\u001b[m\u001b[32m            self.generator = None\u001b[m\r\n",
        "             self.db = openpairshelf(self.outdir)\u001b[m\r\n",
        "         return None\u001b[m\r\n",
        " \u001b[m\r\n",
        "\u001b[36m@@ -243,7 +259,7 @@\u001b[m \u001b[mclass ProteinPairParser():\u001b[m\r\n",
        "         '''Regenerate the pair file from the data source\u001b[m\r\n",
        "         if the data source is newer than the pair file'''\u001b[m\r\n",
        "         v_print = verbosecheck(verbose)\u001b[m\r\n",
        "\u001b[31m-        if self.generator != None:\u001b[m\r\n",
        "\u001b[32m+\u001b[m\u001b[32m        if self.generator == None:\u001b[m\r\n",
        "             # so first check the ages of both files\u001b[m\r\n",
        "             datamtime = os.stat(self.datadir)[-2]\u001b[m\r\n",
        "             if os.path.isfile(self.outdir):\u001b[m\r\n",
        "\u001b[36m@@ -268,9 +284,6 @@\u001b[m \u001b[mclass ProteinPairParser():\u001b[m\r\n",
        "                     retcode = subprocess.call(\"python2 {0}\".format(self.script), shell=True)\u001b[m\r\n",
        " \u001b[m\r\n",
        "                     v_print(\"Script returned: {0}\".format(retcode))\u001b[m\r\n",
        "\u001b[31m-                # first delete out of date file, if it's there\u001b[m\r\n",
        "\u001b[31m-                if os.path.isfile(self.outdir):\u001b[m\r\n",
        "\u001b[31m-                    os.remove(self.outdir)\u001b[m\r\n",
        "                 # open the data file\u001b[m\r\n",
        "                 c = csv.reader(open(self.datadir), delimiter=self.csvdelim)\u001b[m\r\n",
        "                 # if the header should be ignored then ignore it\u001b[m\r\n",
        "\u001b[36m@@ -303,8 +316,8 @@\u001b[m \u001b[mclass ProteinPairParser():\u001b[m\r\n",
        "                 if verbose:\u001b[m\r\n",
        "                     sys.stdout.write(\"\\n\")\u001b[m\r\n",
        "                     print \"Parsed {0} lines.\".format(lcount)\u001b[m\r\n",
        "\u001b[31m-            else:\u001b[m\r\n",
        "\u001b[31m-                v_print(\"Custom generator function, no database to regenerate.\")\u001b[m\r\n",
        "\u001b[32m+\u001b[m\u001b[32m        else:\u001b[m\r\n",
        "\u001b[32m+\u001b[m\u001b[32m            v_print(\"Custom generator function, no database to regenerate.\")\u001b[m\r\n",
        " \u001b[m\r\n",
        "         return None\u001b[m\r\n",
        " \u001b[m\r\n"
       ]
      }
     ],
     "prompt_number": 219
    },
    {
     "cell_type": "markdown",
     "metadata": {},
     "source": [
      "Regenerating data source table to test with:"
     ]
    },
    {
     "cell_type": "code",
     "collapsed": false,
     "input": [
      "f = open(\"datasource.tab\", \"w\")\n",
      "# the HIPPIE feature\n",
      "f.write(\"HIPPIE/hippie_current.txt\"+\"\\t\"+\"HIPPIE/feature.HIPPIE.db\"+\"\\t\"+\"protindexes=(1,3);valindexes=(4)\"+\"\\n\")\n",
      "# the abundance feature\n",
      "f.write(\"forGAVIN/pulldown_data/dataset/ppi_ab_entrez.csv\"+\"\\t\"+\"forGAVIN/pulldown_data/dataset/abundance.Entrez.db\"+\"\\t\"+\"ignoreheader=1\"+\"\\n\")\n",
      "# the affinity feature\n",
      "f.write(\"affinityresults/results2/unique_data_ppi_coor_C2S_entrez.csv\"+\"\\t\"+\"affinityresults/results2/affinity.Entrez.db\"+\"\\t\"+\"\"+\"\\n\")\n",
      "# gene ontology features\n",
      "f.write(\"Gene_Ontology\"+\"\\t\"+\"Gene_Ontology\"+\"\\t\"+\"generator=geneontology/testgen.pickle\")\n",
      "f.close()"
     ],
     "language": "python",
     "metadata": {},
     "outputs": [],
     "prompt_number": 209
    },
    {
     "cell_type": "code",
     "collapsed": false,
     "input": [
      "reload(ocbio.extract)"
     ],
     "language": "python",
     "metadata": {},
     "outputs": [
      {
       "metadata": {},
       "output_type": "pyout",
       "prompt_number": 214,
       "text": [
        "<module 'ocbio.extract' from '/home/gavin/Documents/MRes/opencast-bio/ocbio/extract.py'>"
       ]
      }
     ],
     "prompt_number": 214
    },
    {
     "cell_type": "code",
     "collapsed": false,
     "input": [
      "assembler = ocbio.extract.FeatureVectorAssembler(\"/home/gavin/Documents/MRes/datasource.tab\")"
     ],
     "language": "python",
     "metadata": {},
     "outputs": [],
     "prompt_number": 215
    },
    {
     "cell_type": "code",
     "collapsed": false,
     "input": [
      "assembler.regenerate(force=True, verbose=True)"
     ],
     "language": "python",
     "metadata": {},
     "outputs": [
      {
       "output_type": "stream",
       "stream": "stdout",
       "text": [
        "Regenerating parsers:\n",
        "\t parser 0\n",
        "Forcing regeneration of database /home/gavin/Documents/MRes/HIPPIE/feature.HIPPIE.db from data file /home/gavin/Documents/MRes/HIPPIE/hippie_current.txt.\n",
        "Filling database.."
       ]
      },
      {
       "output_type": "stream",
       "stream": "stdout",
       "text": [
        "..."
       ]
      },
      {
       "output_type": "stream",
       "stream": "stdout",
       "text": [
        "..."
       ]
      },
      {
       "output_type": "stream",
       "stream": "stdout",
       "text": [
        "..."
       ]
      },
      {
       "output_type": "stream",
       "stream": "stdout",
       "text": [
        "..."
       ]
      },
      {
       "output_type": "stream",
       "stream": "stdout",
       "text": [
        "..."
       ]
      },
      {
       "output_type": "stream",
       "stream": "stdout",
       "text": [
        "..."
       ]
      },
      {
       "output_type": "stream",
       "stream": "stdout",
       "text": [
        "..."
       ]
      },
      {
       "output_type": "stream",
       "stream": "stdout",
       "text": [
        "..."
       ]
      },
      {
       "output_type": "stream",
       "stream": "stdout",
       "text": [
        "..."
       ]
      },
      {
       "output_type": "stream",
       "stream": "stdout",
       "text": [
        "..."
       ]
      },
      {
       "output_type": "stream",
       "stream": "stdout",
       "text": [
        "..."
       ]
      },
      {
       "output_type": "stream",
       "stream": "stdout",
       "text": [
        "..."
       ]
      },
      {
       "output_type": "stream",
       "stream": "stdout",
       "text": [
        "..."
       ]
      },
      {
       "output_type": "stream",
       "stream": "stdout",
       "text": [
        "..."
       ]
      },
      {
       "output_type": "stream",
       "stream": "stdout",
       "text": [
        "..."
       ]
      },
      {
       "output_type": "stream",
       "stream": "stdout",
       "text": [
        "..."
       ]
      },
      {
       "output_type": "stream",
       "stream": "stdout",
       "text": [
        "..."
       ]
      },
      {
       "output_type": "stream",
       "stream": "stdout",
       "text": [
        "..."
       ]
      },
      {
       "output_type": "stream",
       "stream": "stdout",
       "text": [
        "..."
       ]
      },
      {
       "output_type": "stream",
       "stream": "stdout",
       "text": [
        "..."
       ]
      },
      {
       "output_type": "stream",
       "stream": "stdout",
       "text": [
        "..."
       ]
      },
      {
       "output_type": "stream",
       "stream": "stdout",
       "text": [
        "..."
       ]
      },
      {
       "output_type": "stream",
       "stream": "stdout",
       "text": [
        "..."
       ]
      },
      {
       "output_type": "stream",
       "stream": "stdout",
       "text": [
        "..."
       ]
      },
      {
       "output_type": "stream",
       "stream": "stdout",
       "text": [
        "..."
       ]
      },
      {
       "output_type": "stream",
       "stream": "stdout",
       "text": [
        "..."
       ]
      },
      {
       "output_type": "stream",
       "stream": "stdout",
       "text": [
        "..."
       ]
      },
      {
       "output_type": "stream",
       "stream": "stdout",
       "text": [
        "..."
       ]
      },
      {
       "output_type": "stream",
       "stream": "stdout",
       "text": [
        "..."
       ]
      },
      {
       "output_type": "stream",
       "stream": "stdout",
       "text": [
        "..."
       ]
      },
      {
       "output_type": "stream",
       "stream": "stdout",
       "text": [
        "..."
       ]
      },
      {
       "output_type": "stream",
       "stream": "stdout",
       "text": [
        "..."
       ]
      },
      {
       "output_type": "stream",
       "stream": "stdout",
       "text": [
        "..."
       ]
      },
      {
       "output_type": "stream",
       "stream": "stdout",
       "text": [
        "..."
       ]
      },
      {
       "output_type": "stream",
       "stream": "stdout",
       "text": [
        "..."
       ]
      },
      {
       "output_type": "stream",
       "stream": "stdout",
       "text": [
        "..."
       ]
      },
      {
       "output_type": "stream",
       "stream": "stdout",
       "text": [
        "..."
       ]
      },
      {
       "output_type": "stream",
       "stream": "stdout",
       "text": [
        "..."
       ]
      },
      {
       "output_type": "stream",
       "stream": "stdout",
       "text": [
        "..."
       ]
      },
      {
       "output_type": "stream",
       "stream": "stdout",
       "text": [
        "..."
       ]
      },
      {
       "output_type": "stream",
       "stream": "stdout",
       "text": [
        "..."
       ]
      },
      {
       "output_type": "stream",
       "stream": "stdout",
       "text": [
        "..."
       ]
      },
      {
       "output_type": "stream",
       "stream": "stdout",
       "text": [
        "..."
       ]
      },
      {
       "output_type": "stream",
       "stream": "stdout",
       "text": [
        "..."
       ]
      },
      {
       "output_type": "stream",
       "stream": "stdout",
       "text": [
        "..."
       ]
      },
      {
       "output_type": "stream",
       "stream": "stdout",
       "text": [
        "..."
       ]
      },
      {
       "output_type": "stream",
       "stream": "stdout",
       "text": [
        "..."
       ]
      },
      {
       "output_type": "stream",
       "stream": "stdout",
       "text": [
        "..."
       ]
      },
      {
       "output_type": "stream",
       "stream": "stdout",
       "text": [
        "..."
       ]
      },
      {
       "output_type": "stream",
       "stream": "stdout",
       "text": [
        "..."
       ]
      },
      {
       "output_type": "stream",
       "stream": "stdout",
       "text": [
        "..."
       ]
      },
      {
       "output_type": "stream",
       "stream": "stdout",
       "text": [
        "..."
       ]
      },
      {
       "output_type": "stream",
       "stream": "stdout",
       "text": [
        "..."
       ]
      },
      {
       "output_type": "stream",
       "stream": "stdout",
       "text": [
        "..."
       ]
      },
      {
       "output_type": "stream",
       "stream": "stdout",
       "text": [
        "..."
       ]
      },
      {
       "output_type": "stream",
       "stream": "stdout",
       "text": [
        "..\n"
       ]
      },
      {
       "output_type": "stream",
       "stream": "stdout",
       "text": [
        "Parsed 169626 lines.\n",
        "\t parser 1\n",
        "Forcing regeneration of database /home/gavin/Documents/MRes/forGAVIN/pulldown_data/dataset/abundance.Entrez.db from data file /home/gavin/Documents/MRes/forGAVIN/pulldown_data/dataset/ppi_ab_entrez.csv.\n",
        "Ignoring header.\n",
        "Filling database.."
       ]
      },
      {
       "output_type": "stream",
       "stream": "stdout",
       "text": [
        "..."
       ]
      },
      {
       "output_type": "stream",
       "stream": "stdout",
       "text": [
        "..."
       ]
      },
      {
       "output_type": "stream",
       "stream": "stdout",
       "text": [
        "..."
       ]
      },
      {
       "output_type": "stream",
       "stream": "stdout",
       "text": [
        "..."
       ]
      },
      {
       "output_type": "stream",
       "stream": "stdout",
       "text": [
        "..."
       ]
      },
      {
       "output_type": "stream",
       "stream": "stdout",
       "text": [
        "\n",
        "Parsed 17777 lines.\n",
        "\t parser 2\n",
        "Forcing regeneration of database /home/gavin/Documents/MRes/affinityresults/results2/affinity.Entrez.db from data file /home/gavin/Documents/MRes/affinityresults/results2/unique_data_ppi_coor_C2S_entrez.csv.\n",
        "Filling database.."
       ]
      },
      {
       "output_type": "stream",
       "stream": "stdout",
       "text": [
        "..."
       ]
      },
      {
       "output_type": "stream",
       "stream": "stdout",
       "text": [
        "..."
       ]
      },
      {
       "output_type": "stream",
       "stream": "stdout",
       "text": [
        "..."
       ]
      },
      {
       "output_type": "stream",
       "stream": "stdout",
       "text": [
        "..."
       ]
      },
      {
       "output_type": "stream",
       "stream": "stdout",
       "text": [
        "..."
       ]
      },
      {
       "output_type": "stream",
       "stream": "stdout",
       "text": [
        "..."
       ]
      },
      {
       "output_type": "stream",
       "stream": "stdout",
       "text": [
        "..."
       ]
      },
      {
       "output_type": "stream",
       "stream": "stdout",
       "text": [
        "..."
       ]
      },
      {
       "output_type": "stream",
       "stream": "stdout",
       "text": [
        "..."
       ]
      },
      {
       "output_type": "stream",
       "stream": "stdout",
       "text": [
        "..."
       ]
      },
      {
       "output_type": "stream",
       "stream": "stdout",
       "text": [
        "..."
       ]
      },
      {
       "output_type": "stream",
       "stream": "stdout",
       "text": [
        "..."
       ]
      },
      {
       "output_type": "stream",
       "stream": "stdout",
       "text": [
        "..."
       ]
      },
      {
       "output_type": "stream",
       "stream": "stdout",
       "text": [
        "..."
       ]
      },
      {
       "output_type": "stream",
       "stream": "stdout",
       "text": [
        "..."
       ]
      },
      {
       "output_type": "stream",
       "stream": "stdout",
       "text": [
        "..."
       ]
      },
      {
       "output_type": "stream",
       "stream": "stdout",
       "text": [
        "..."
       ]
      },
      {
       "output_type": "stream",
       "stream": "stdout",
       "text": [
        "..."
       ]
      },
      {
       "output_type": "stream",
       "stream": "stdout",
       "text": [
        "..."
       ]
      },
      {
       "output_type": "stream",
       "stream": "stdout",
       "text": [
        "..."
       ]
      },
      {
       "output_type": "stream",
       "stream": "stdout",
       "text": [
        "..."
       ]
      },
      {
       "output_type": "stream",
       "stream": "stdout",
       "text": [
        "..."
       ]
      },
      {
       "output_type": "stream",
       "stream": "stdout",
       "text": [
        "..."
       ]
      },
      {
       "output_type": "stream",
       "stream": "stdout",
       "text": [
        "..."
       ]
      },
      {
       "output_type": "stream",
       "stream": "stdout",
       "text": [
        "..."
       ]
      },
      {
       "output_type": "stream",
       "stream": "stdout",
       "text": [
        "..."
       ]
      },
      {
       "output_type": "stream",
       "stream": "stdout",
       "text": [
        "..."
       ]
      },
      {
       "output_type": "stream",
       "stream": "stdout",
       "text": [
        "..."
       ]
      },
      {
       "output_type": "stream",
       "stream": "stdout",
       "text": [
        "..."
       ]
      },
      {
       "output_type": "stream",
       "stream": "stdout",
       "text": [
        "..."
       ]
      },
      {
       "output_type": "stream",
       "stream": "stdout",
       "text": [
        "..."
       ]
      },
      {
       "output_type": "stream",
       "stream": "stdout",
       "text": [
        "..."
       ]
      },
      {
       "output_type": "stream",
       "stream": "stdout",
       "text": [
        "..."
       ]
      },
      {
       "output_type": "stream",
       "stream": "stdout",
       "text": [
        "..."
       ]
      },
      {
       "output_type": "stream",
       "stream": "stdout",
       "text": [
        "..."
       ]
      },
      {
       "output_type": "stream",
       "stream": "stdout",
       "text": [
        "..."
       ]
      },
      {
       "output_type": "stream",
       "stream": "stdout",
       "text": [
        "..."
       ]
      },
      {
       "output_type": "stream",
       "stream": "stdout",
       "text": [
        "..."
       ]
      },
      {
       "output_type": "stream",
       "stream": "stdout",
       "text": [
        "..."
       ]
      },
      {
       "output_type": "stream",
       "stream": "stdout",
       "text": [
        "..."
       ]
      },
      {
       "output_type": "stream",
       "stream": "stdout",
       "text": [
        "..."
       ]
      },
      {
       "output_type": "stream",
       "stream": "stdout",
       "text": [
        "..."
       ]
      },
      {
       "output_type": "stream",
       "stream": "stdout",
       "text": [
        "..."
       ]
      },
      {
       "output_type": "stream",
       "stream": "stdout",
       "text": [
        "..."
       ]
      },
      {
       "output_type": "stream",
       "stream": "stdout",
       "text": [
        "..."
       ]
      },
      {
       "output_type": "stream",
       "stream": "stdout",
       "text": [
        "..."
       ]
      },
      {
       "output_type": "stream",
       "stream": "stdout",
       "text": [
        "..."
       ]
      },
      {
       "output_type": "stream",
       "stream": "stdout",
       "text": [
        "..."
       ]
      },
      {
       "output_type": "stream",
       "stream": "stdout",
       "text": [
        "..."
       ]
      },
      {
       "output_type": "stream",
       "stream": "stdout",
       "text": [
        "..."
       ]
      },
      {
       "output_type": "stream",
       "stream": "stdout",
       "text": [
        "..."
       ]
      },
      {
       "output_type": "stream",
       "stream": "stdout",
       "text": [
        "..."
       ]
      },
      {
       "output_type": "stream",
       "stream": "stdout",
       "text": [
        "..."
       ]
      },
      {
       "output_type": "stream",
       "stream": "stdout",
       "text": [
        "..."
       ]
      },
      {
       "output_type": "stream",
       "stream": "stdout",
       "text": [
        "..."
       ]
      },
      {
       "output_type": "stream",
       "stream": "stdout",
       "text": [
        "..."
       ]
      },
      {
       "output_type": "stream",
       "stream": "stdout",
       "text": [
        "..."
       ]
      },
      {
       "output_type": "stream",
       "stream": "stdout",
       "text": [
        "..."
       ]
      },
      {
       "output_type": "stream",
       "stream": "stdout",
       "text": [
        "..."
       ]
      },
      {
       "output_type": "stream",
       "stream": "stdout",
       "text": [
        "..."
       ]
      },
      {
       "output_type": "stream",
       "stream": "stdout",
       "text": [
        "..."
       ]
      },
      {
       "output_type": "stream",
       "stream": "stdout",
       "text": [
        "..."
       ]
      },
      {
       "output_type": "stream",
       "stream": "stdout",
       "text": [
        "..."
       ]
      },
      {
       "output_type": "stream",
       "stream": "stdout",
       "text": [
        "..."
       ]
      },
      {
       "output_type": "stream",
       "stream": "stdout",
       "text": [
        "..."
       ]
      },
      {
       "output_type": "stream",
       "stream": "stdout",
       "text": [
        "..."
       ]
      },
      {
       "output_type": "stream",
       "stream": "stdout",
       "text": [
        "..."
       ]
      },
      {
       "output_type": "stream",
       "stream": "stdout",
       "text": [
        "..."
       ]
      },
      {
       "output_type": "stream",
       "stream": "stdout",
       "text": [
        "..."
       ]
      },
      {
       "output_type": "stream",
       "stream": "stdout",
       "text": [
        "..."
       ]
      },
      {
       "output_type": "stream",
       "stream": "stdout",
       "text": [
        "..."
       ]
      },
      {
       "output_type": "stream",
       "stream": "stdout",
       "text": [
        "..."
       ]
      },
      {
       "output_type": "stream",
       "stream": "stdout",
       "text": [
        "..."
       ]
      },
      {
       "output_type": "stream",
       "stream": "stdout",
       "text": [
        "..."
       ]
      },
      {
       "output_type": "stream",
       "stream": "stdout",
       "text": [
        "..."
       ]
      },
      {
       "output_type": "stream",
       "stream": "stdout",
       "text": [
        "..."
       ]
      },
      {
       "output_type": "stream",
       "stream": "stdout",
       "text": [
        "..."
       ]
      },
      {
       "output_type": "stream",
       "stream": "stdout",
       "text": [
        "..."
       ]
      },
      {
       "output_type": "stream",
       "stream": "stdout",
       "text": [
        "..."
       ]
      },
      {
       "output_type": "stream",
       "stream": "stdout",
       "text": [
        "..."
       ]
      },
      {
       "output_type": "stream",
       "stream": "stdout",
       "text": [
        "..."
       ]
      },
      {
       "output_type": "stream",
       "stream": "stdout",
       "text": [
        "..."
       ]
      },
      {
       "output_type": "stream",
       "stream": "stdout",
       "text": [
        "..."
       ]
      },
      {
       "output_type": "stream",
       "stream": "stdout",
       "text": [
        "..."
       ]
      },
      {
       "output_type": "stream",
       "stream": "stdout",
       "text": [
        "..."
       ]
      },
      {
       "output_type": "stream",
       "stream": "stdout",
       "text": [
        "..."
       ]
      },
      {
       "output_type": "stream",
       "stream": "stdout",
       "text": [
        "..."
       ]
      },
      {
       "output_type": "stream",
       "stream": "stdout",
       "text": [
        "..."
       ]
      },
      {
       "output_type": "stream",
       "stream": "stdout",
       "text": [
        "..."
       ]
      },
      {
       "output_type": "stream",
       "stream": "stdout",
       "text": [
        "..."
       ]
      },
      {
       "output_type": "stream",
       "stream": "stdout",
       "text": [
        "..."
       ]
      },
      {
       "output_type": "stream",
       "stream": "stdout",
       "text": [
        "..."
       ]
      },
      {
       "output_type": "stream",
       "stream": "stdout",
       "text": [
        "..."
       ]
      },
      {
       "output_type": "stream",
       "stream": "stdout",
       "text": [
        "..."
       ]
      },
      {
       "output_type": "stream",
       "stream": "stdout",
       "text": [
        "..."
       ]
      },
      {
       "output_type": "stream",
       "stream": "stdout",
       "text": [
        "..."
       ]
      },
      {
       "output_type": "stream",
       "stream": "stdout",
       "text": [
        "..."
       ]
      },
      {
       "output_type": "stream",
       "stream": "stdout",
       "text": [
        "..."
       ]
      },
      {
       "output_type": "stream",
       "stream": "stdout",
       "text": [
        "..."
       ]
      },
      {
       "output_type": "stream",
       "stream": "stdout",
       "text": [
        "..."
       ]
      },
      {
       "output_type": "stream",
       "stream": "stdout",
       "text": [
        "..."
       ]
      },
      {
       "output_type": "stream",
       "stream": "stdout",
       "text": [
        "..."
       ]
      },
      {
       "output_type": "stream",
       "stream": "stdout",
       "text": [
        "..."
       ]
      },
      {
       "output_type": "stream",
       "stream": "stdout",
       "text": [
        "..."
       ]
      },
      {
       "output_type": "stream",
       "stream": "stdout",
       "text": [
        "..."
       ]
      },
      {
       "output_type": "stream",
       "stream": "stdout",
       "text": [
        "..."
       ]
      },
      {
       "output_type": "stream",
       "stream": "stdout",
       "text": [
        "..."
       ]
      },
      {
       "output_type": "stream",
       "stream": "stdout",
       "text": [
        "..."
       ]
      },
      {
       "output_type": "stream",
       "stream": "stdout",
       "text": [
        "..."
       ]
      },
      {
       "output_type": "stream",
       "stream": "stdout",
       "text": [
        "..."
       ]
      },
      {
       "output_type": "stream",
       "stream": "stdout",
       "text": [
        "..."
       ]
      },
      {
       "output_type": "stream",
       "stream": "stdout",
       "text": [
        "..."
       ]
      },
      {
       "output_type": "stream",
       "stream": "stdout",
       "text": [
        "..."
       ]
      },
      {
       "output_type": "stream",
       "stream": "stdout",
       "text": [
        "..."
       ]
      },
      {
       "output_type": "stream",
       "stream": "stdout",
       "text": [
        "..."
       ]
      },
      {
       "output_type": "stream",
       "stream": "stdout",
       "text": [
        "..."
       ]
      },
      {
       "output_type": "stream",
       "stream": "stdout",
       "text": [
        "..."
       ]
      },
      {
       "output_type": "stream",
       "stream": "stdout",
       "text": [
        "..."
       ]
      },
      {
       "output_type": "stream",
       "stream": "stdout",
       "text": [
        "..."
       ]
      },
      {
       "output_type": "stream",
       "stream": "stdout",
       "text": [
        "..."
       ]
      },
      {
       "output_type": "stream",
       "stream": "stdout",
       "text": [
        "..."
       ]
      },
      {
       "output_type": "stream",
       "stream": "stdout",
       "text": [
        "..."
       ]
      },
      {
       "output_type": "stream",
       "stream": "stdout",
       "text": [
        "..."
       ]
      },
      {
       "output_type": "stream",
       "stream": "stdout",
       "text": [
        "..."
       ]
      },
      {
       "output_type": "stream",
       "stream": "stdout",
       "text": [
        "..."
       ]
      },
      {
       "output_type": "stream",
       "stream": "stdout",
       "text": [
        "..."
       ]
      },
      {
       "output_type": "stream",
       "stream": "stdout",
       "text": [
        "..."
       ]
      },
      {
       "output_type": "stream",
       "stream": "stdout",
       "text": [
        "..."
       ]
      },
      {
       "output_type": "stream",
       "stream": "stdout",
       "text": [
        "..."
       ]
      },
      {
       "output_type": "stream",
       "stream": "stdout",
       "text": [
        "..."
       ]
      },
      {
       "output_type": "stream",
       "stream": "stdout",
       "text": [
        "..."
       ]
      },
      {
       "output_type": "stream",
       "stream": "stdout",
       "text": [
        "..."
       ]
      },
      {
       "output_type": "stream",
       "stream": "stdout",
       "text": [
        "..."
       ]
      },
      {
       "output_type": "stream",
       "stream": "stdout",
       "text": [
        "..."
       ]
      },
      {
       "output_type": "stream",
       "stream": "stdout",
       "text": [
        "..."
       ]
      },
      {
       "output_type": "stream",
       "stream": "stdout",
       "text": [
        "..."
       ]
      },
      {
       "output_type": "stream",
       "stream": "stdout",
       "text": [
        "..."
       ]
      },
      {
       "output_type": "stream",
       "stream": "stdout",
       "text": [
        "..."
       ]
      },
      {
       "output_type": "stream",
       "stream": "stdout",
       "text": [
        "..."
       ]
      },
      {
       "output_type": "stream",
       "stream": "stdout",
       "text": [
        "..."
       ]
      },
      {
       "output_type": "stream",
       "stream": "stdout",
       "text": [
        "..."
       ]
      },
      {
       "output_type": "stream",
       "stream": "stdout",
       "text": [
        "..."
       ]
      },
      {
       "output_type": "stream",
       "stream": "stdout",
       "text": [
        "..."
       ]
      },
      {
       "output_type": "stream",
       "stream": "stdout",
       "text": [
        "..."
       ]
      },
      {
       "output_type": "stream",
       "stream": "stdout",
       "text": [
        "..."
       ]
      },
      {
       "output_type": "stream",
       "stream": "stdout",
       "text": [
        "..."
       ]
      },
      {
       "output_type": "stream",
       "stream": "stdout",
       "text": [
        "..."
       ]
      },
      {
       "output_type": "stream",
       "stream": "stdout",
       "text": [
        "..."
       ]
      },
      {
       "output_type": "stream",
       "stream": "stdout",
       "text": [
        "..."
       ]
      },
      {
       "output_type": "stream",
       "stream": "stdout",
       "text": [
        "..."
       ]
      },
      {
       "output_type": "stream",
       "stream": "stdout",
       "text": [
        "..."
       ]
      },
      {
       "output_type": "stream",
       "stream": "stdout",
       "text": [
        "..."
       ]
      },
      {
       "output_type": "stream",
       "stream": "stdout",
       "text": [
        "..."
       ]
      },
      {
       "output_type": "stream",
       "stream": "stdout",
       "text": [
        "..."
       ]
      },
      {
       "output_type": "stream",
       "stream": "stdout",
       "text": [
        "..."
       ]
      },
      {
       "output_type": "stream",
       "stream": "stdout",
       "text": [
        "..."
       ]
      },
      {
       "output_type": "stream",
       "stream": "stdout",
       "text": [
        "..."
       ]
      },
      {
       "output_type": "stream",
       "stream": "stdout",
       "text": [
        "..."
       ]
      },
      {
       "output_type": "stream",
       "stream": "stdout",
       "text": [
        "..."
       ]
      },
      {
       "output_type": "stream",
       "stream": "stdout",
       "text": [
        "..."
       ]
      },
      {
       "output_type": "stream",
       "stream": "stdout",
       "text": [
        "..."
       ]
      },
      {
       "output_type": "stream",
       "stream": "stdout",
       "text": [
        "..."
       ]
      },
      {
       "output_type": "stream",
       "stream": "stdout",
       "text": [
        "..."
       ]
      },
      {
       "output_type": "stream",
       "stream": "stdout",
       "text": [
        "..."
       ]
      },
      {
       "output_type": "stream",
       "stream": "stdout",
       "text": [
        "..."
       ]
      },
      {
       "output_type": "stream",
       "stream": "stdout",
       "text": [
        "..."
       ]
      },
      {
       "output_type": "stream",
       "stream": "stdout",
       "text": [
        "..."
       ]
      },
      {
       "output_type": "stream",
       "stream": "stdout",
       "text": [
        "..."
       ]
      },
      {
       "output_type": "stream",
       "stream": "stdout",
       "text": [
        "..."
       ]
      },
      {
       "output_type": "stream",
       "stream": "stdout",
       "text": [
        "..."
       ]
      },
      {
       "output_type": "stream",
       "stream": "stdout",
       "text": [
        "..."
       ]
      },
      {
       "output_type": "stream",
       "stream": "stdout",
       "text": [
        "..."
       ]
      },
      {
       "output_type": "stream",
       "stream": "stdout",
       "text": [
        "..."
       ]
      },
      {
       "output_type": "stream",
       "stream": "stdout",
       "text": [
        "..."
       ]
      },
      {
       "output_type": "stream",
       "stream": "stdout",
       "text": [
        "..."
       ]
      },
      {
       "output_type": "stream",
       "stream": "stdout",
       "text": [
        "..."
       ]
      },
      {
       "output_type": "stream",
       "stream": "stdout",
       "text": [
        "..."
       ]
      },
      {
       "output_type": "stream",
       "stream": "stdout",
       "text": [
        "..."
       ]
      },
      {
       "output_type": "stream",
       "stream": "stdout",
       "text": [
        "..."
       ]
      },
      {
       "output_type": "stream",
       "stream": "stdout",
       "text": [
        "..."
       ]
      },
      {
       "output_type": "stream",
       "stream": "stdout",
       "text": [
        "..."
       ]
      },
      {
       "output_type": "stream",
       "stream": "stdout",
       "text": [
        "..."
       ]
      },
      {
       "output_type": "stream",
       "stream": "stdout",
       "text": [
        "..."
       ]
      },
      {
       "output_type": "stream",
       "stream": "stdout",
       "text": [
        "..."
       ]
      },
      {
       "output_type": "stream",
       "stream": "stdout",
       "text": [
        "..."
       ]
      },
      {
       "output_type": "stream",
       "stream": "stdout",
       "text": [
        "..."
       ]
      },
      {
       "output_type": "stream",
       "stream": "stdout",
       "text": [
        "..."
       ]
      },
      {
       "output_type": "stream",
       "stream": "stdout",
       "text": [
        "..."
       ]
      },
      {
       "output_type": "stream",
       "stream": "stdout",
       "text": [
        "..."
       ]
      },
      {
       "output_type": "stream",
       "stream": "stdout",
       "text": [
        "..."
       ]
      },
      {
       "output_type": "stream",
       "stream": "stdout",
       "text": [
        "..."
       ]
      },
      {
       "output_type": "stream",
       "stream": "stdout",
       "text": [
        "..."
       ]
      },
      {
       "output_type": "stream",
       "stream": "stdout",
       "text": [
        "..."
       ]
      },
      {
       "output_type": "stream",
       "stream": "stdout",
       "text": [
        "..."
       ]
      },
      {
       "output_type": "stream",
       "stream": "stdout",
       "text": [
        "..."
       ]
      },
      {
       "output_type": "stream",
       "stream": "stdout",
       "text": [
        "..."
       ]
      },
      {
       "output_type": "stream",
       "stream": "stdout",
       "text": [
        "..."
       ]
      },
      {
       "output_type": "stream",
       "stream": "stdout",
       "text": [
        "..."
       ]
      },
      {
       "output_type": "stream",
       "stream": "stdout",
       "text": [
        ".."
       ]
      },
      {
       "output_type": "stream",
       "stream": "stdout",
       "text": [
        "..."
       ]
      },
      {
       "output_type": "stream",
       "stream": "stdout",
       "text": [
        "..."
       ]
      },
      {
       "output_type": "stream",
       "stream": "stdout",
       "text": [
        "..."
       ]
      },
      {
       "output_type": "stream",
       "stream": "stdout",
       "text": [
        "..."
       ]
      },
      {
       "output_type": "stream",
       "stream": "stdout",
       "text": [
        "..."
       ]
      },
      {
       "output_type": "stream",
       "stream": "stdout",
       "text": [
        "..."
       ]
      },
      {
       "output_type": "stream",
       "stream": "stdout",
       "text": [
        "..."
       ]
      },
      {
       "output_type": "stream",
       "stream": "stdout",
       "text": [
        "..."
       ]
      },
      {
       "output_type": "stream",
       "stream": "stdout",
       "text": [
        "..."
       ]
      },
      {
       "output_type": "stream",
       "stream": "stdout",
       "text": [
        "..."
       ]
      },
      {
       "output_type": "stream",
       "stream": "stdout",
       "text": [
        "..."
       ]
      },
      {
       "output_type": "stream",
       "stream": "stdout",
       "text": [
        "..."
       ]
      },
      {
       "output_type": "stream",
       "stream": "stdout",
       "text": [
        "..."
       ]
      },
      {
       "output_type": "stream",
       "stream": "stdout",
       "text": [
        "..."
       ]
      },
      {
       "output_type": "stream",
       "stream": "stdout",
       "text": [
        "..."
       ]
      },
      {
       "output_type": "stream",
       "stream": "stdout",
       "text": [
        "..."
       ]
      },
      {
       "output_type": "stream",
       "stream": "stdout",
       "text": [
        "..."
       ]
      },
      {
       "output_type": "stream",
       "stream": "stdout",
       "text": [
        "..."
       ]
      },
      {
       "output_type": "stream",
       "stream": "stdout",
       "text": [
        "..."
       ]
      },
      {
       "output_type": "stream",
       "stream": "stdout",
       "text": [
        "..."
       ]
      },
      {
       "output_type": "stream",
       "stream": "stdout",
       "text": [
        "..."
       ]
      },
      {
       "output_type": "stream",
       "stream": "stdout",
       "text": [
        "..."
       ]
      },
      {
       "output_type": "stream",
       "stream": "stdout",
       "text": [
        "..."
       ]
      },
      {
       "output_type": "stream",
       "stream": "stdout",
       "text": [
        "..."
       ]
      },
      {
       "output_type": "stream",
       "stream": "stdout",
       "text": [
        "..."
       ]
      },
      {
       "output_type": "stream",
       "stream": "stdout",
       "text": [
        "..."
       ]
      },
      {
       "output_type": "stream",
       "stream": "stdout",
       "text": [
        "..."
       ]
      },
      {
       "output_type": "stream",
       "stream": "stdout",
       "text": [
        "..."
       ]
      },
      {
       "output_type": "stream",
       "stream": "stdout",
       "text": [
        "..."
       ]
      },
      {
       "output_type": "stream",
       "stream": "stdout",
       "text": [
        "..."
       ]
      },
      {
       "output_type": "stream",
       "stream": "stdout",
       "text": [
        "..."
       ]
      },
      {
       "output_type": "stream",
       "stream": "stdout",
       "text": [
        "..."
       ]
      },
      {
       "output_type": "stream",
       "stream": "stdout",
       "text": [
        "..."
       ]
      },
      {
       "output_type": "stream",
       "stream": "stdout",
       "text": [
        "..."
       ]
      },
      {
       "output_type": "stream",
       "stream": "stdout",
       "text": [
        "..."
       ]
      },
      {
       "output_type": "stream",
       "stream": "stdout",
       "text": [
        "..."
       ]
      },
      {
       "output_type": "stream",
       "stream": "stdout",
       "text": [
        "..."
       ]
      },
      {
       "output_type": "stream",
       "stream": "stdout",
       "text": [
        "..."
       ]
      },
      {
       "output_type": "stream",
       "stream": "stdout",
       "text": [
        "..."
       ]
      },
      {
       "output_type": "stream",
       "stream": "stdout",
       "text": [
        "..."
       ]
      },
      {
       "output_type": "stream",
       "stream": "stdout",
       "text": [
        "..."
       ]
      },
      {
       "output_type": "stream",
       "stream": "stdout",
       "text": [
        "..."
       ]
      },
      {
       "output_type": "stream",
       "stream": "stdout",
       "text": [
        "..."
       ]
      },
      {
       "output_type": "stream",
       "stream": "stdout",
       "text": [
        "..."
       ]
      },
      {
       "output_type": "stream",
       "stream": "stdout",
       "text": [
        "..."
       ]
      },
      {
       "output_type": "stream",
       "stream": "stdout",
       "text": [
        "..."
       ]
      },
      {
       "output_type": "stream",
       "stream": "stdout",
       "text": [
        "..."
       ]
      },
      {
       "output_type": "stream",
       "stream": "stdout",
       "text": [
        "..."
       ]
      },
      {
       "output_type": "stream",
       "stream": "stdout",
       "text": [
        "..."
       ]
      },
      {
       "output_type": "stream",
       "stream": "stdout",
       "text": [
        "..."
       ]
      },
      {
       "output_type": "stream",
       "stream": "stdout",
       "text": [
        "..."
       ]
      },
      {
       "output_type": "stream",
       "stream": "stdout",
       "text": [
        "..."
       ]
      },
      {
       "output_type": "stream",
       "stream": "stdout",
       "text": [
        "..."
       ]
      },
      {
       "output_type": "stream",
       "stream": "stdout",
       "text": [
        "..."
       ]
      },
      {
       "output_type": "stream",
       "stream": "stdout",
       "text": [
        "..."
       ]
      },
      {
       "output_type": "stream",
       "stream": "stdout",
       "text": [
        "..."
       ]
      },
      {
       "output_type": "stream",
       "stream": "stdout",
       "text": [
        "..."
       ]
      },
      {
       "output_type": "stream",
       "stream": "stdout",
       "text": [
        "..."
       ]
      },
      {
       "output_type": "stream",
       "stream": "stdout",
       "text": [
        "..."
       ]
      },
      {
       "output_type": "stream",
       "stream": "stdout",
       "text": [
        "..."
       ]
      },
      {
       "output_type": "stream",
       "stream": "stdout",
       "text": [
        "..."
       ]
      },
      {
       "output_type": "stream",
       "stream": "stdout",
       "text": [
        "..."
       ]
      },
      {
       "output_type": "stream",
       "stream": "stdout",
       "text": [
        "..."
       ]
      },
      {
       "output_type": "stream",
       "stream": "stdout",
       "text": [
        "..."
       ]
      },
      {
       "output_type": "stream",
       "stream": "stdout",
       "text": [
        "..."
       ]
      },
      {
       "output_type": "stream",
       "stream": "stdout",
       "text": [
        "..."
       ]
      },
      {
       "output_type": "stream",
       "stream": "stdout",
       "text": [
        "..."
       ]
      },
      {
       "output_type": "stream",
       "stream": "stdout",
       "text": [
        "..."
       ]
      },
      {
       "output_type": "stream",
       "stream": "stdout",
       "text": [
        "..."
       ]
      },
      {
       "output_type": "stream",
       "stream": "stdout",
       "text": [
        "..."
       ]
      },
      {
       "output_type": "stream",
       "stream": "stdout",
       "text": [
        "..."
       ]
      },
      {
       "output_type": "stream",
       "stream": "stdout",
       "text": [
        "..."
       ]
      },
      {
       "output_type": "stream",
       "stream": "stdout",
       "text": [
        "..."
       ]
      },
      {
       "output_type": "stream",
       "stream": "stdout",
       "text": [
        "..."
       ]
      },
      {
       "output_type": "stream",
       "stream": "stdout",
       "text": [
        "..."
       ]
      },
      {
       "output_type": "stream",
       "stream": "stdout",
       "text": [
        "..."
       ]
      },
      {
       "output_type": "stream",
       "stream": "stdout",
       "text": [
        "..."
       ]
      },
      {
       "output_type": "stream",
       "stream": "stdout",
       "text": [
        "..."
       ]
      },
      {
       "output_type": "stream",
       "stream": "stdout",
       "text": [
        "..."
       ]
      },
      {
       "output_type": "stream",
       "stream": "stdout",
       "text": [
        "..."
       ]
      },
      {
       "output_type": "stream",
       "stream": "stdout",
       "text": [
        "..."
       ]
      },
      {
       "output_type": "stream",
       "stream": "stdout",
       "text": [
        "..."
       ]
      },
      {
       "output_type": "stream",
       "stream": "stdout",
       "text": [
        "..."
       ]
      },
      {
       "output_type": "stream",
       "stream": "stdout",
       "text": [
        "..."
       ]
      },
      {
       "output_type": "stream",
       "stream": "stdout",
       "text": [
        "..."
       ]
      },
      {
       "output_type": "stream",
       "stream": "stdout",
       "text": [
        "..."
       ]
      },
      {
       "output_type": "stream",
       "stream": "stdout",
       "text": [
        "..."
       ]
      },
      {
       "output_type": "stream",
       "stream": "stdout",
       "text": [
        "..."
       ]
      },
      {
       "output_type": "stream",
       "stream": "stdout",
       "text": [
        "..."
       ]
      },
      {
       "output_type": "stream",
       "stream": "stdout",
       "text": [
        "..."
       ]
      },
      {
       "output_type": "stream",
       "stream": "stdout",
       "text": [
        "..."
       ]
      },
      {
       "output_type": "stream",
       "stream": "stdout",
       "text": [
        "..."
       ]
      },
      {
       "output_type": "stream",
       "stream": "stdout",
       "text": [
        "..."
       ]
      },
      {
       "output_type": "stream",
       "stream": "stdout",
       "text": [
        ".."
       ]
      },
      {
       "output_type": "stream",
       "stream": "stdout",
       "text": [
        "..."
       ]
      },
      {
       "output_type": "stream",
       "stream": "stdout",
       "text": [
        "..."
       ]
      },
      {
       "output_type": "stream",
       "stream": "stdout",
       "text": [
        "..."
       ]
      },
      {
       "output_type": "stream",
       "stream": "stdout",
       "text": [
        "..."
       ]
      },
      {
       "output_type": "stream",
       "stream": "stdout",
       "text": [
        "..."
       ]
      },
      {
       "output_type": "stream",
       "stream": "stdout",
       "text": [
        "..."
       ]
      },
      {
       "output_type": "stream",
       "stream": "stdout",
       "text": [
        "..."
       ]
      },
      {
       "output_type": "stream",
       "stream": "stdout",
       "text": [
        "..."
       ]
      },
      {
       "output_type": "stream",
       "stream": "stdout",
       "text": [
        "..."
       ]
      },
      {
       "output_type": "stream",
       "stream": "stdout",
       "text": [
        "..."
       ]
      },
      {
       "output_type": "stream",
       "stream": "stdout",
       "text": [
        "..."
       ]
      },
      {
       "output_type": "stream",
       "stream": "stdout",
       "text": [
        "..."
       ]
      },
      {
       "output_type": "stream",
       "stream": "stdout",
       "text": [
        "..."
       ]
      },
      {
       "output_type": "stream",
       "stream": "stdout",
       "text": [
        "..."
       ]
      },
      {
       "output_type": "stream",
       "stream": "stdout",
       "text": [
        "..."
       ]
      },
      {
       "output_type": "stream",
       "stream": "stdout",
       "text": [
        "..."
       ]
      },
      {
       "output_type": "stream",
       "stream": "stdout",
       "text": [
        "..."
       ]
      },
      {
       "output_type": "stream",
       "stream": "stdout",
       "text": [
        "..."
       ]
      },
      {
       "output_type": "stream",
       "stream": "stdout",
       "text": [
        "..."
       ]
      },
      {
       "output_type": "stream",
       "stream": "stdout",
       "text": [
        "..."
       ]
      },
      {
       "output_type": "stream",
       "stream": "stdout",
       "text": [
        "..."
       ]
      },
      {
       "output_type": "stream",
       "stream": "stdout",
       "text": [
        "..."
       ]
      },
      {
       "output_type": "stream",
       "stream": "stdout",
       "text": [
        "..."
       ]
      },
      {
       "output_type": "stream",
       "stream": "stdout",
       "text": [
        "..."
       ]
      },
      {
       "output_type": "stream",
       "stream": "stdout",
       "text": [
        "..."
       ]
      },
      {
       "output_type": "stream",
       "stream": "stdout",
       "text": [
        "..."
       ]
      },
      {
       "output_type": "stream",
       "stream": "stdout",
       "text": [
        "..."
       ]
      },
      {
       "output_type": "stream",
       "stream": "stdout",
       "text": [
        "..."
       ]
      },
      {
       "output_type": "stream",
       "stream": "stdout",
       "text": [
        "..."
       ]
      },
      {
       "output_type": "stream",
       "stream": "stdout",
       "text": [
        "..."
       ]
      },
      {
       "output_type": "stream",
       "stream": "stdout",
       "text": [
        "..."
       ]
      },
      {
       "output_type": "stream",
       "stream": "stdout",
       "text": [
        "..."
       ]
      },
      {
       "output_type": "stream",
       "stream": "stdout",
       "text": [
        "..."
       ]
      },
      {
       "output_type": "stream",
       "stream": "stdout",
       "text": [
        "..."
       ]
      },
      {
       "output_type": "stream",
       "stream": "stdout",
       "text": [
        "..."
       ]
      },
      {
       "output_type": "stream",
       "stream": "stdout",
       "text": [
        "..."
       ]
      },
      {
       "output_type": "stream",
       "stream": "stdout",
       "text": [
        "..."
       ]
      },
      {
       "output_type": "stream",
       "stream": "stdout",
       "text": [
        "..."
       ]
      },
      {
       "output_type": "stream",
       "stream": "stdout",
       "text": [
        "..."
       ]
      },
      {
       "output_type": "stream",
       "stream": "stdout",
       "text": [
        "..."
       ]
      },
      {
       "output_type": "stream",
       "stream": "stdout",
       "text": [
        "..."
       ]
      },
      {
       "output_type": "stream",
       "stream": "stdout",
       "text": [
        "..."
       ]
      },
      {
       "output_type": "stream",
       "stream": "stdout",
       "text": [
        "..."
       ]
      },
      {
       "output_type": "stream",
       "stream": "stdout",
       "text": [
        "..."
       ]
      },
      {
       "output_type": "stream",
       "stream": "stdout",
       "text": [
        "..."
       ]
      },
      {
       "output_type": "stream",
       "stream": "stdout",
       "text": [
        "..."
       ]
      },
      {
       "output_type": "stream",
       "stream": "stdout",
       "text": [
        "..."
       ]
      },
      {
       "output_type": "stream",
       "stream": "stdout",
       "text": [
        "..."
       ]
      },
      {
       "output_type": "stream",
       "stream": "stdout",
       "text": [
        "..."
       ]
      },
      {
       "output_type": "stream",
       "stream": "stdout",
       "text": [
        "..."
       ]
      },
      {
       "output_type": "stream",
       "stream": "stdout",
       "text": [
        "..."
       ]
      },
      {
       "output_type": "stream",
       "stream": "stdout",
       "text": [
        "..."
       ]
      },
      {
       "output_type": "stream",
       "stream": "stdout",
       "text": [
        "..."
       ]
      },
      {
       "output_type": "stream",
       "stream": "stdout",
       "text": [
        "..."
       ]
      },
      {
       "output_type": "stream",
       "stream": "stdout",
       "text": [
        "..."
       ]
      },
      {
       "output_type": "stream",
       "stream": "stdout",
       "text": [
        "..."
       ]
      },
      {
       "output_type": "stream",
       "stream": "stdout",
       "text": [
        "..."
       ]
      },
      {
       "output_type": "stream",
       "stream": "stdout",
       "text": [
        "..."
       ]
      },
      {
       "output_type": "stream",
       "stream": "stdout",
       "text": [
        "..."
       ]
      },
      {
       "output_type": "stream",
       "stream": "stdout",
       "text": [
        "..."
       ]
      },
      {
       "output_type": "stream",
       "stream": "stdout",
       "text": [
        "..."
       ]
      },
      {
       "output_type": "stream",
       "stream": "stdout",
       "text": [
        "..."
       ]
      },
      {
       "output_type": "stream",
       "stream": "stdout",
       "text": [
        "..."
       ]
      },
      {
       "output_type": "stream",
       "stream": "stdout",
       "text": [
        "..."
       ]
      },
      {
       "output_type": "stream",
       "stream": "stdout",
       "text": [
        "..."
       ]
      },
      {
       "output_type": "stream",
       "stream": "stdout",
       "text": [
        "..."
       ]
      },
      {
       "output_type": "stream",
       "stream": "stdout",
       "text": [
        "..."
       ]
      },
      {
       "output_type": "stream",
       "stream": "stdout",
       "text": [
        "..."
       ]
      },
      {
       "output_type": "stream",
       "stream": "stdout",
       "text": [
        "..."
       ]
      },
      {
       "output_type": "stream",
       "stream": "stdout",
       "text": [
        "..."
       ]
      },
      {
       "output_type": "stream",
       "stream": "stdout",
       "text": [
        "..."
       ]
      },
      {
       "output_type": "stream",
       "stream": "stdout",
       "text": [
        "..."
       ]
      },
      {
       "output_type": "stream",
       "stream": "stdout",
       "text": [
        "..."
       ]
      },
      {
       "output_type": "stream",
       "stream": "stdout",
       "text": [
        "..."
       ]
      },
      {
       "output_type": "stream",
       "stream": "stdout",
       "text": [
        "..."
       ]
      },
      {
       "output_type": "stream",
       "stream": "stdout",
       "text": [
        "..."
       ]
      },
      {
       "output_type": "stream",
       "stream": "stdout",
       "text": [
        "..."
       ]
      },
      {
       "output_type": "stream",
       "stream": "stdout",
       "text": [
        "..."
       ]
      },
      {
       "output_type": "stream",
       "stream": "stdout",
       "text": [
        "..."
       ]
      },
      {
       "output_type": "stream",
       "stream": "stdout",
       "text": [
        "..."
       ]
      },
      {
       "output_type": "stream",
       "stream": "stdout",
       "text": [
        "..."
       ]
      },
      {
       "output_type": "stream",
       "stream": "stdout",
       "text": [
        "..."
       ]
      },
      {
       "output_type": "stream",
       "stream": "stdout",
       "text": [
        "..."
       ]
      },
      {
       "output_type": "stream",
       "stream": "stdout",
       "text": [
        "..."
       ]
      },
      {
       "output_type": "stream",
       "stream": "stdout",
       "text": [
        "..."
       ]
      },
      {
       "output_type": "stream",
       "stream": "stdout",
       "text": [
        "..."
       ]
      },
      {
       "output_type": "stream",
       "stream": "stdout",
       "text": [
        "..."
       ]
      },
      {
       "output_type": "stream",
       "stream": "stdout",
       "text": [
        "..."
       ]
      },
      {
       "output_type": "stream",
       "stream": "stdout",
       "text": [
        "..."
       ]
      },
      {
       "output_type": "stream",
       "stream": "stdout",
       "text": [
        "..."
       ]
      },
      {
       "output_type": "stream",
       "stream": "stdout",
       "text": [
        "..."
       ]
      },
      {
       "output_type": "stream",
       "stream": "stdout",
       "text": [
        "..."
       ]
      },
      {
       "output_type": "stream",
       "stream": "stdout",
       "text": [
        "..."
       ]
      },
      {
       "output_type": "stream",
       "stream": "stdout",
       "text": [
        "..."
       ]
      },
      {
       "output_type": "stream",
       "stream": "stdout",
       "text": [
        "..."
       ]
      },
      {
       "output_type": "stream",
       "stream": "stdout",
       "text": [
        "..."
       ]
      },
      {
       "output_type": "stream",
       "stream": "stdout",
       "text": [
        "..."
       ]
      },
      {
       "output_type": "stream",
       "stream": "stdout",
       "text": [
        "..."
       ]
      },
      {
       "output_type": "stream",
       "stream": "stdout",
       "text": [
        "..."
       ]
      },
      {
       "output_type": "stream",
       "stream": "stdout",
       "text": [
        "..."
       ]
      },
      {
       "output_type": "stream",
       "stream": "stdout",
       "text": [
        "..."
       ]
      },
      {
       "output_type": "stream",
       "stream": "stdout",
       "text": [
        "..."
       ]
      },
      {
       "output_type": "stream",
       "stream": "stdout",
       "text": [
        "..."
       ]
      },
      {
       "output_type": "stream",
       "stream": "stdout",
       "text": [
        "..."
       ]
      },
      {
       "output_type": "stream",
       "stream": "stdout",
       "text": [
        "..."
       ]
      },
      {
       "output_type": "stream",
       "stream": "stdout",
       "text": [
        "..."
       ]
      },
      {
       "output_type": "stream",
       "stream": "stdout",
       "text": [
        "..."
       ]
      },
      {
       "output_type": "stream",
       "stream": "stdout",
       "text": [
        "..."
       ]
      },
      {
       "output_type": "stream",
       "stream": "stdout",
       "text": [
        "..."
       ]
      },
      {
       "output_type": "stream",
       "stream": "stdout",
       "text": [
        "..."
       ]
      },
      {
       "output_type": "stream",
       "stream": "stdout",
       "text": [
        "..."
       ]
      },
      {
       "output_type": "stream",
       "stream": "stdout",
       "text": [
        "..."
       ]
      },
      {
       "output_type": "stream",
       "stream": "stdout",
       "text": [
        "..."
       ]
      },
      {
       "output_type": "stream",
       "stream": "stdout",
       "text": [
        "..."
       ]
      },
      {
       "output_type": "stream",
       "stream": "stdout",
       "text": [
        "..."
       ]
      },
      {
       "output_type": "stream",
       "stream": "stdout",
       "text": [
        "..."
       ]
      },
      {
       "output_type": "stream",
       "stream": "stdout",
       "text": [
        "..."
       ]
      },
      {
       "output_type": "stream",
       "stream": "stdout",
       "text": [
        "..."
       ]
      },
      {
       "output_type": "stream",
       "stream": "stdout",
       "text": [
        "..."
       ]
      },
      {
       "output_type": "stream",
       "stream": "stdout",
       "text": [
        "..."
       ]
      },
      {
       "output_type": "stream",
       "stream": "stdout",
       "text": [
        "..."
       ]
      },
      {
       "output_type": "stream",
       "stream": "stdout",
       "text": [
        "..."
       ]
      },
      {
       "output_type": "stream",
       "stream": "stdout",
       "text": [
        "..."
       ]
      },
      {
       "output_type": "stream",
       "stream": "stdout",
       "text": [
        "..."
       ]
      },
      {
       "output_type": "stream",
       "stream": "stdout",
       "text": [
        "..."
       ]
      },
      {
       "output_type": "stream",
       "stream": "stdout",
       "text": [
        "..."
       ]
      },
      {
       "output_type": "stream",
       "stream": "stdout",
       "text": [
        "..."
       ]
      },
      {
       "output_type": "stream",
       "stream": "stdout",
       "text": [
        "..."
       ]
      },
      {
       "output_type": "stream",
       "stream": "stdout",
       "text": [
        "..."
       ]
      },
      {
       "output_type": "stream",
       "stream": "stdout",
       "text": [
        "..."
       ]
      },
      {
       "output_type": "stream",
       "stream": "stdout",
       "text": [
        "..."
       ]
      },
      {
       "output_type": "stream",
       "stream": "stdout",
       "text": [
        "..."
       ]
      },
      {
       "output_type": "stream",
       "stream": "stdout",
       "text": [
        "..."
       ]
      },
      {
       "output_type": "stream",
       "stream": "stdout",
       "text": [
        "..."
       ]
      },
      {
       "output_type": "stream",
       "stream": "stdout",
       "text": [
        "..."
       ]
      },
      {
       "output_type": "stream",
       "stream": "stdout",
       "text": [
        "..."
       ]
      },
      {
       "output_type": "stream",
       "stream": "stdout",
       "text": [
        "..."
       ]
      },
      {
       "output_type": "stream",
       "stream": "stdout",
       "text": [
        "..."
       ]
      },
      {
       "output_type": "stream",
       "stream": "stdout",
       "text": [
        "..."
       ]
      },
      {
       "output_type": "stream",
       "stream": "stdout",
       "text": [
        "..."
       ]
      },
      {
       "output_type": "stream",
       "stream": "stdout",
       "text": [
        "..."
       ]
      },
      {
       "output_type": "stream",
       "stream": "stdout",
       "text": [
        "..."
       ]
      },
      {
       "output_type": "stream",
       "stream": "stdout",
       "text": [
        "..."
       ]
      },
      {
       "output_type": "stream",
       "stream": "stdout",
       "text": [
        "..."
       ]
      },
      {
       "output_type": "stream",
       "stream": "stdout",
       "text": [
        "..."
       ]
      },
      {
       "output_type": "stream",
       "stream": "stdout",
       "text": [
        "..."
       ]
      },
      {
       "output_type": "stream",
       "stream": "stdout",
       "text": [
        "..."
       ]
      },
      {
       "output_type": "stream",
       "stream": "stdout",
       "text": [
        "..."
       ]
      },
      {
       "output_type": "stream",
       "stream": "stdout",
       "text": [
        "..."
       ]
      },
      {
       "output_type": "stream",
       "stream": "stdout",
       "text": [
        "..."
       ]
      },
      {
       "output_type": "stream",
       "stream": "stdout",
       "text": [
        "..."
       ]
      },
      {
       "output_type": "stream",
       "stream": "stdout",
       "text": [
        "..."
       ]
      },
      {
       "output_type": "stream",
       "stream": "stdout",
       "text": [
        "..."
       ]
      },
      {
       "output_type": "stream",
       "stream": "stdout",
       "text": [
        "..."
       ]
      },
      {
       "output_type": "stream",
       "stream": "stdout",
       "text": [
        "..."
       ]
      },
      {
       "output_type": "stream",
       "stream": "stdout",
       "text": [
        "..."
       ]
      },
      {
       "output_type": "stream",
       "stream": "stdout",
       "text": [
        "..."
       ]
      },
      {
       "output_type": "stream",
       "stream": "stdout",
       "text": [
        "..."
       ]
      },
      {
       "output_type": "stream",
       "stream": "stdout",
       "text": [
        "..."
       ]
      },
      {
       "output_type": "stream",
       "stream": "stdout",
       "text": [
        "..."
       ]
      },
      {
       "output_type": "stream",
       "stream": "stdout",
       "text": [
        "..."
       ]
      },
      {
       "output_type": "stream",
       "stream": "stdout",
       "text": [
        "..."
       ]
      },
      {
       "output_type": "stream",
       "stream": "stdout",
       "text": [
        "..."
       ]
      },
      {
       "output_type": "stream",
       "stream": "stdout",
       "text": [
        "..."
       ]
      },
      {
       "output_type": "stream",
       "stream": "stdout",
       "text": [
        "..."
       ]
      },
      {
       "output_type": "stream",
       "stream": "stdout",
       "text": [
        "..."
       ]
      },
      {
       "output_type": "stream",
       "stream": "stdout",
       "text": [
        "..."
       ]
      },
      {
       "output_type": "stream",
       "stream": "stdout",
       "text": [
        "..."
       ]
      },
      {
       "output_type": "stream",
       "stream": "stdout",
       "text": [
        "..."
       ]
      },
      {
       "output_type": "stream",
       "stream": "stdout",
       "text": [
        "..."
       ]
      },
      {
       "output_type": "stream",
       "stream": "stdout",
       "text": [
        "..."
       ]
      },
      {
       "output_type": "stream",
       "stream": "stdout",
       "text": [
        "..."
       ]
      },
      {
       "output_type": "stream",
       "stream": "stdout",
       "text": [
        "..."
       ]
      },
      {
       "output_type": "stream",
       "stream": "stdout",
       "text": [
        "..."
       ]
      },
      {
       "output_type": "stream",
       "stream": "stdout",
       "text": [
        "..."
       ]
      },
      {
       "output_type": "stream",
       "stream": "stdout",
       "text": [
        "..."
       ]
      },
      {
       "output_type": "stream",
       "stream": "stdout",
       "text": [
        "..."
       ]
      },
      {
       "output_type": "stream",
       "stream": "stdout",
       "text": [
        "..."
       ]
      },
      {
       "output_type": "stream",
       "stream": "stdout",
       "text": [
        "..."
       ]
      },
      {
       "output_type": "stream",
       "stream": "stdout",
       "text": [
        "..."
       ]
      },
      {
       "output_type": "stream",
       "stream": "stdout",
       "text": [
        "..."
       ]
      },
      {
       "output_type": "stream",
       "stream": "stdout",
       "text": [
        "..."
       ]
      },
      {
       "output_type": "stream",
       "stream": "stdout",
       "text": [
        "..."
       ]
      },
      {
       "output_type": "stream",
       "stream": "stdout",
       "text": [
        "..."
       ]
      },
      {
       "output_type": "stream",
       "stream": "stdout",
       "text": [
        "..."
       ]
      },
      {
       "output_type": "stream",
       "stream": "stdout",
       "text": [
        "..."
       ]
      },
      {
       "output_type": "stream",
       "stream": "stdout",
       "text": [
        "..."
       ]
      },
      {
       "output_type": "stream",
       "stream": "stdout",
       "text": [
        "..."
       ]
      },
      {
       "output_type": "stream",
       "stream": "stdout",
       "text": [
        "..."
       ]
      },
      {
       "output_type": "stream",
       "stream": "stdout",
       "text": [
        "..."
       ]
      },
      {
       "output_type": "stream",
       "stream": "stdout",
       "text": [
        "..."
       ]
      },
      {
       "output_type": "stream",
       "stream": "stdout",
       "text": [
        "..."
       ]
      },
      {
       "output_type": "stream",
       "stream": "stdout",
       "text": [
        "..."
       ]
      },
      {
       "output_type": "stream",
       "stream": "stdout",
       "text": [
        "..."
       ]
      },
      {
       "output_type": "stream",
       "stream": "stdout",
       "text": [
        "..."
       ]
      },
      {
       "output_type": "stream",
       "stream": "stdout",
       "text": [
        "..."
       ]
      },
      {
       "output_type": "stream",
       "stream": "stdout",
       "text": [
        "..."
       ]
      },
      {
       "output_type": "stream",
       "stream": "stdout",
       "text": [
        "..."
       ]
      },
      {
       "output_type": "stream",
       "stream": "stdout",
       "text": [
        "..."
       ]
      },
      {
       "output_type": "stream",
       "stream": "stdout",
       "text": [
        "..."
       ]
      },
      {
       "output_type": "stream",
       "stream": "stdout",
       "text": [
        "..."
       ]
      },
      {
       "output_type": "stream",
       "stream": "stdout",
       "text": [
        "..."
       ]
      },
      {
       "output_type": "stream",
       "stream": "stdout",
       "text": [
        "..."
       ]
      },
      {
       "output_type": "stream",
       "stream": "stdout",
       "text": [
        "..."
       ]
      },
      {
       "output_type": "stream",
       "stream": "stdout",
       "text": [
        "..."
       ]
      },
      {
       "output_type": "stream",
       "stream": "stdout",
       "text": [
        "..."
       ]
      },
      {
       "output_type": "stream",
       "stream": "stdout",
       "text": [
        "..."
       ]
      },
      {
       "output_type": "stream",
       "stream": "stdout",
       "text": [
        "..."
       ]
      },
      {
       "output_type": "stream",
       "stream": "stdout",
       "text": [
        "..."
       ]
      },
      {
       "output_type": "stream",
       "stream": "stdout",
       "text": [
        "..."
       ]
      },
      {
       "output_type": "stream",
       "stream": "stdout",
       "text": [
        "..."
       ]
      },
      {
       "output_type": "stream",
       "stream": "stdout",
       "text": [
        "..."
       ]
      },
      {
       "output_type": "stream",
       "stream": "stdout",
       "text": [
        "..."
       ]
      },
      {
       "output_type": "stream",
       "stream": "stdout",
       "text": [
        "..."
       ]
      },
      {
       "output_type": "stream",
       "stream": "stdout",
       "text": [
        "..."
       ]
      },
      {
       "output_type": "stream",
       "stream": "stdout",
       "text": [
        "..."
       ]
      },
      {
       "output_type": "stream",
       "stream": "stdout",
       "text": [
        "..."
       ]
      },
      {
       "output_type": "stream",
       "stream": "stdout",
       "text": [
        "..."
       ]
      },
      {
       "output_type": "stream",
       "stream": "stdout",
       "text": [
        "..."
       ]
      },
      {
       "output_type": "stream",
       "stream": "stdout",
       "text": [
        "..."
       ]
      },
      {
       "output_type": "stream",
       "stream": "stdout",
       "text": [
        "..."
       ]
      },
      {
       "output_type": "stream",
       "stream": "stdout",
       "text": [
        "..."
       ]
      },
      {
       "output_type": "stream",
       "stream": "stdout",
       "text": [
        "..."
       ]
      },
      {
       "output_type": "stream",
       "stream": "stdout",
       "text": [
        "..."
       ]
      },
      {
       "output_type": "stream",
       "stream": "stdout",
       "text": [
        "..."
       ]
      },
      {
       "output_type": "stream",
       "stream": "stdout",
       "text": [
        "..."
       ]
      },
      {
       "output_type": "stream",
       "stream": "stdout",
       "text": [
        "..."
       ]
      },
      {
       "output_type": "stream",
       "stream": "stdout",
       "text": [
        "..."
       ]
      },
      {
       "output_type": "stream",
       "stream": "stdout",
       "text": [
        "..."
       ]
      },
      {
       "output_type": "stream",
       "stream": "stdout",
       "text": [
        "..."
       ]
      },
      {
       "output_type": "stream",
       "stream": "stdout",
       "text": [
        "..."
       ]
      },
      {
       "output_type": "stream",
       "stream": "stdout",
       "text": [
        "..."
       ]
      },
      {
       "output_type": "stream",
       "stream": "stdout",
       "text": [
        "..."
       ]
      },
      {
       "output_type": "stream",
       "stream": "stdout",
       "text": [
        "..."
       ]
      },
      {
       "output_type": "stream",
       "stream": "stdout",
       "text": [
        "..."
       ]
      },
      {
       "output_type": "stream",
       "stream": "stdout",
       "text": [
        "..."
       ]
      },
      {
       "output_type": "stream",
       "stream": "stdout",
       "text": [
        "..."
       ]
      },
      {
       "output_type": "stream",
       "stream": "stdout",
       "text": [
        "..."
       ]
      },
      {
       "output_type": "stream",
       "stream": "stdout",
       "text": [
        "..."
       ]
      },
      {
       "output_type": "stream",
       "stream": "stdout",
       "text": [
        "..."
       ]
      },
      {
       "output_type": "stream",
       "stream": "stdout",
       "text": [
        "..."
       ]
      },
      {
       "output_type": "stream",
       "stream": "stdout",
       "text": [
        "..."
       ]
      },
      {
       "output_type": "stream",
       "stream": "stdout",
       "text": [
        "..."
       ]
      },
      {
       "output_type": "stream",
       "stream": "stdout",
       "text": [
        "..."
       ]
      },
      {
       "output_type": "stream",
       "stream": "stdout",
       "text": [
        "..."
       ]
      },
      {
       "output_type": "stream",
       "stream": "stdout",
       "text": [
        "..."
       ]
      },
      {
       "output_type": "stream",
       "stream": "stdout",
       "text": [
        "..."
       ]
      },
      {
       "output_type": "stream",
       "stream": "stdout",
       "text": [
        "..."
       ]
      },
      {
       "output_type": "stream",
       "stream": "stdout",
       "text": [
        "..."
       ]
      },
      {
       "output_type": "stream",
       "stream": "stdout",
       "text": [
        "..."
       ]
      },
      {
       "output_type": "stream",
       "stream": "stdout",
       "text": [
        "..."
       ]
      },
      {
       "output_type": "stream",
       "stream": "stdout",
       "text": [
        "..."
       ]
      },
      {
       "output_type": "stream",
       "stream": "stdout",
       "text": [
        "..."
       ]
      },
      {
       "output_type": "stream",
       "stream": "stdout",
       "text": [
        "..."
       ]
      },
      {
       "output_type": "stream",
       "stream": "stdout",
       "text": [
        "..."
       ]
      },
      {
       "output_type": "stream",
       "stream": "stdout",
       "text": [
        "..."
       ]
      },
      {
       "output_type": "stream",
       "stream": "stdout",
       "text": [
        "..."
       ]
      },
      {
       "output_type": "stream",
       "stream": "stdout",
       "text": [
        "..."
       ]
      },
      {
       "output_type": "stream",
       "stream": "stdout",
       "text": [
        "..."
       ]
      },
      {
       "output_type": "stream",
       "stream": "stdout",
       "text": [
        "..."
       ]
      },
      {
       "output_type": "stream",
       "stream": "stdout",
       "text": [
        "..."
       ]
      },
      {
       "output_type": "stream",
       "stream": "stdout",
       "text": [
        "..."
       ]
      },
      {
       "output_type": "stream",
       "stream": "stdout",
       "text": [
        "..."
       ]
      },
      {
       "output_type": "stream",
       "stream": "stdout",
       "text": [
        "..."
       ]
      },
      {
       "output_type": "stream",
       "stream": "stdout",
       "text": [
        "..."
       ]
      },
      {
       "output_type": "stream",
       "stream": "stdout",
       "text": [
        "..."
       ]
      },
      {
       "output_type": "stream",
       "stream": "stdout",
       "text": [
        "..."
       ]
      },
      {
       "output_type": "stream",
       "stream": "stdout",
       "text": [
        "..."
       ]
      },
      {
       "output_type": "stream",
       "stream": "stdout",
       "text": [
        "..."
       ]
      },
      {
       "output_type": "stream",
       "stream": "stdout",
       "text": [
        "..."
       ]
      },
      {
       "output_type": "stream",
       "stream": "stdout",
       "text": [
        "..."
       ]
      },
      {
       "output_type": "stream",
       "stream": "stdout",
       "text": [
        "..."
       ]
      },
      {
       "output_type": "stream",
       "stream": "stdout",
       "text": [
        "..."
       ]
      },
      {
       "output_type": "stream",
       "stream": "stdout",
       "text": [
        "..."
       ]
      },
      {
       "output_type": "stream",
       "stream": "stdout",
       "text": [
        "..."
       ]
      },
      {
       "output_type": "stream",
       "stream": "stdout",
       "text": [
        "..."
       ]
      },
      {
       "output_type": "stream",
       "stream": "stdout",
       "text": [
        "..."
       ]
      },
      {
       "output_type": "stream",
       "stream": "stdout",
       "text": [
        "..."
       ]
      },
      {
       "output_type": "stream",
       "stream": "stdout",
       "text": [
        "..."
       ]
      },
      {
       "output_type": "stream",
       "stream": "stdout",
       "text": [
        "..."
       ]
      },
      {
       "output_type": "stream",
       "stream": "stdout",
       "text": [
        "..."
       ]
      },
      {
       "output_type": "stream",
       "stream": "stdout",
       "text": [
        "..."
       ]
      },
      {
       "output_type": "stream",
       "stream": "stdout",
       "text": [
        "..."
       ]
      },
      {
       "output_type": "stream",
       "stream": "stdout",
       "text": [
        "..."
       ]
      },
      {
       "output_type": "stream",
       "stream": "stdout",
       "text": [
        "..."
       ]
      },
      {
       "output_type": "stream",
       "stream": "stdout",
       "text": [
        "..."
       ]
      },
      {
       "output_type": "stream",
       "stream": "stdout",
       "text": [
        "..."
       ]
      },
      {
       "output_type": "stream",
       "stream": "stdout",
       "text": [
        "..."
       ]
      },
      {
       "output_type": "stream",
       "stream": "stdout",
       "text": [
        "..."
       ]
      },
      {
       "output_type": "stream",
       "stream": "stdout",
       "text": [
        "..."
       ]
      },
      {
       "output_type": "stream",
       "stream": "stdout",
       "text": [
        "..."
       ]
      },
      {
       "output_type": "stream",
       "stream": "stdout",
       "text": [
        "..."
       ]
      },
      {
       "output_type": "stream",
       "stream": "stdout",
       "text": [
        "..."
       ]
      },
      {
       "output_type": "stream",
       "stream": "stdout",
       "text": [
        "..."
       ]
      },
      {
       "output_type": "stream",
       "stream": "stdout",
       "text": [
        "..."
       ]
      },
      {
       "output_type": "stream",
       "stream": "stdout",
       "text": [
        "..."
       ]
      },
      {
       "output_type": "stream",
       "stream": "stdout",
       "text": [
        "..."
       ]
      },
      {
       "output_type": "stream",
       "stream": "stdout",
       "text": [
        "..."
       ]
      },
      {
       "output_type": "stream",
       "stream": "stdout",
       "text": [
        "..."
       ]
      },
      {
       "output_type": "stream",
       "stream": "stdout",
       "text": [
        "..."
       ]
      },
      {
       "output_type": "stream",
       "stream": "stdout",
       "text": [
        "..."
       ]
      },
      {
       "output_type": "stream",
       "stream": "stdout",
       "text": [
        "..."
       ]
      },
      {
       "output_type": "stream",
       "stream": "stdout",
       "text": [
        "..."
       ]
      },
      {
       "output_type": "stream",
       "stream": "stdout",
       "text": [
        "..."
       ]
      },
      {
       "output_type": "stream",
       "stream": "stdout",
       "text": [
        "..."
       ]
      },
      {
       "output_type": "stream",
       "stream": "stdout",
       "text": [
        "..."
       ]
      },
      {
       "output_type": "stream",
       "stream": "stdout",
       "text": [
        "..."
       ]
      },
      {
       "output_type": "stream",
       "stream": "stdout",
       "text": [
        "..."
       ]
      },
      {
       "output_type": "stream",
       "stream": "stdout",
       "text": [
        "..."
       ]
      },
      {
       "output_type": "stream",
       "stream": "stdout",
       "text": [
        "..."
       ]
      },
      {
       "output_type": "stream",
       "stream": "stdout",
       "text": [
        "..."
       ]
      },
      {
       "output_type": "stream",
       "stream": "stdout",
       "text": [
        "..."
       ]
      },
      {
       "output_type": "stream",
       "stream": "stdout",
       "text": [
        "..."
       ]
      },
      {
       "output_type": "stream",
       "stream": "stdout",
       "text": [
        "..."
       ]
      },
      {
       "output_type": "stream",
       "stream": "stdout",
       "text": [
        "..."
       ]
      },
      {
       "output_type": "stream",
       "stream": "stdout",
       "text": [
        "..."
       ]
      },
      {
       "output_type": "stream",
       "stream": "stdout",
       "text": [
        "..."
       ]
      },
      {
       "output_type": "stream",
       "stream": "stdout",
       "text": [
        "..."
       ]
      },
      {
       "output_type": "stream",
       "stream": "stdout",
       "text": [
        "..."
       ]
      },
      {
       "output_type": "stream",
       "stream": "stdout",
       "text": [
        "..."
       ]
      },
      {
       "output_type": "stream",
       "stream": "stdout",
       "text": [
        "..."
       ]
      },
      {
       "output_type": "stream",
       "stream": "stdout",
       "text": [
        "..."
       ]
      },
      {
       "output_type": "stream",
       "stream": "stdout",
       "text": [
        "..."
       ]
      },
      {
       "output_type": "stream",
       "stream": "stdout",
       "text": [
        "..."
       ]
      },
      {
       "output_type": "stream",
       "stream": "stdout",
       "text": [
        "..."
       ]
      },
      {
       "output_type": "stream",
       "stream": "stdout",
       "text": [
        "..."
       ]
      },
      {
       "output_type": "stream",
       "stream": "stdout",
       "text": [
        "..."
       ]
      },
      {
       "output_type": "stream",
       "stream": "stdout",
       "text": [
        "..."
       ]
      },
      {
       "output_type": "stream",
       "stream": "stdout",
       "text": [
        "..."
       ]
      },
      {
       "output_type": "stream",
       "stream": "stdout",
       "text": [
        "..."
       ]
      },
      {
       "output_type": "stream",
       "stream": "stdout",
       "text": [
        "..\n",
        "Parsed 1871145 lines.\n",
        "\t parser 3\n",
        "Custom generator function, no database to regenerate.\n"
       ]
      }
     ],
     "prompt_number": 216
    },
    {
     "cell_type": "code",
     "collapsed": false,
     "input": [
      "assembler.assemble(\"DIP/human/training.nolabel.positive.Entrez.txt\",\n",
      "                   \"features/training.nolabel.positive.Entrez.vectors.txt\", verbose=True)"
     ],
     "language": "python",
     "metadata": {},
     "outputs": [
      {
       "output_type": "stream",
       "stream": "stdout",
       "text": [
        "Reading pairfile: DIP/human/training.nolabel.positive.Entrez.txt\n",
        "Checking feature sizes:\n",
        "\t Data source /home/gavin/Documents/MRes/HIPPIE/hippie_current.txt produces features of size 1."
       ]
      },
      {
       "output_type": "stream",
       "stream": "stdout",
       "text": [
        "\n",
        "\t Data source /home/gavin/Documents/MRes/forGAVIN/pulldown_data/dataset/ppi_ab_entrez.csv produces features of size 1."
       ]
      },
      {
       "output_type": "stream",
       "stream": "stdout",
       "text": [
        "\n",
        "\t Data source /home/gavin/Documents/MRes/affinityresults/results2/unique_data_ppi_coor_C2S_entrez.csv produces features of size 1."
       ]
      },
      {
       "output_type": "stream",
       "stream": "stdout",
       "text": [
        "\n",
        "\t Data source /home/gavin/Documents/MRes/Gene_Ontology produces features of size 90."
       ]
      },
      {
       "output_type": "stream",
       "stream": "stdout",
       "text": [
        "\n",
        "Writing feature vectors\n"
       ]
      },
      {
       "output_type": "stream",
       "stream": "stdout",
       "text": [
        "Wrote 4857 vectors.\n",
        "Matched 60.08 % of protein pairs in DIP/human/training.nolabel.positive.Entrez.txt to features from /home/gavin/Documents/MRes/HIPPIE/hippie_current.txt\n",
        "Matched 0.29 % of protein pairs in DIP/human/training.nolabel.positive.Entrez.txt to features from /home/gavin/Documents/MRes/forGAVIN/pulldown_data/dataset/ppi_ab_entrez.csv\n",
        "Matched 3.69 % of protein pairs in DIP/human/training.nolabel.positive.Entrez.txt to features from /home/gavin/Documents/MRes/affinityresults/results2/unique_data_ppi_coor_C2S_entrez.csv\n",
        "Matched 100.00 % of protein pairs in DIP/human/training.nolabel.positive.Entrez.txt to features from /home/gavin/Documents/MRes/Gene_Ontology\n"
       ]
      }
     ],
     "prompt_number": 217
    },
    {
     "cell_type": "code",
     "collapsed": false,
     "input": [
      "assembler.close()"
     ],
     "language": "python",
     "metadata": {},
     "outputs": [],
     "prompt_number": 218
    },
    {
     "cell_type": "markdown",
     "metadata": {},
     "source": [
      "# Iteration 1\n",
      "\n",
      "These are the notes on the development of the code described in the [Feature vector assembly][featureassembly] page of the wiki.\n",
      "First, the protein pair parser class will be written and tested on a dataset that has already been extracted.\n",
      "This will be the HIPPIE dataset.\n",
      "\n",
      "Initialisation currently involves loading in the three command line options and saving them to the object.\n",
      "It must also involve parsing of the options.\n",
      "Testing the initialisation:\n",
      "\n",
      "[featureassembly]: https://github.com/ggray1729/opencast-bio/wiki/Feature-vector-assembly"
     ]
    },
    {
     "cell_type": "code",
     "collapsed": false,
     "input": [
      "import os, time, subprocess, csv, shelve"
     ],
     "language": "python",
     "metadata": {},
     "outputs": [],
     "prompt_number": 27
    },
    {
     "cell_type": "code",
     "collapsed": false,
     "input": [
      "cd /home/gavin/Documents/MRes/HIPPIE/"
     ],
     "language": "python",
     "metadata": {},
     "outputs": [
      {
       "output_type": "stream",
       "stream": "stdout",
       "text": [
        "/home/gavin/Documents/MRes/HIPPIE\n"
       ]
      }
     ],
     "prompt_number": 1
    },
    {
     "cell_type": "code",
     "collapsed": false,
     "input": [
      "#define the class\n",
      "class ProteinPairParser():\n",
      "    '''Does simple parsing on data files to produce protein pair files with feature values'''\n",
      "    def __init__(self,datadir,outdir,protindexes=(1,2),valindex=3,script=None,csvdelim=\"\\t\"):\n",
      "        #first, store the initialisation\n",
      "        self.datadir = datadir\n",
      "        self.outdir = outdir\n",
      "        self.protindexes=protindexes\n",
      "        self.valindex=valindex\n",
      "        self.script=script\n",
      "        self.csvdelim=csvdelim\n",
      "        return None\n",
      "    \n",
      "    def regenerate(self):\n",
      "        '''Regenerate the pair file from the data source\n",
      "        if the data source is newer than the pair file'''\n",
      "        # so first check the ages of both files\n",
      "        datamtime = os.stat(self.datadir)[-2]\n",
      "        if os.path.isfile(self.outdir):\n",
      "            pairmtime = os.stat(self.outdir)[-2]\n",
      "        else:\n",
      "            #bit of a hack\n",
      "            pairmtime = 0\n",
      "        #if the data modification time is greater than output modification time\n",
      "        if datamtime > pairmtime:\n",
      "            # now regenerate the data file according to the options defined above:\n",
      "            print \"data file is newer than pair file\"\n",
      "            #if there's a script to run\n",
      "            if self.script != None:\n",
      "                #then execute the script\n",
      "                retcode=subprocess.call(\"python2 %s\"%self.script, shell=True)\n",
      "            #first delete out of date file, if it's there\n",
      "            if os.path.isfile(self.outdir):\n",
      "                os.remove(self.outdir)\n",
      "            #perform simple parsing to make a file of just protein pairs and the value we care about\n",
      "            #and save these using shelve\n",
      "            db = openpairshelf(self.outdir)\n",
      "            #open the data file\n",
      "            c = csv.reader(open(self.datadir), delimiter=self.csvdelim)\n",
      "            for line in c:\n",
      "                #each line use the protein pair as a key\n",
      "                #by formatting it as a frozenset\n",
      "                pair = frozenset([line[self.protindexes[0]],line[self.protindexes[1]]])\n",
      "                #and the value is indexed by valindex\n",
      "                db[pair] = line[self.valindex]\n",
      "            db.close()\n",
      "        return None"
     ],
     "language": "python",
     "metadata": {},
     "outputs": [],
     "prompt_number": 95
    },
    {
     "cell_type": "markdown",
     "metadata": {},
     "source": [
      "We have to rerun the script to generate a pre-processed HIPPIE file:"
     ]
    },
    {
     "cell_type": "code",
     "collapsed": false,
     "input": [
      "%%bash\n",
      "java -jar HIPPIE_NC.jar -i=../DIP/human/training.nolabel.positive.Entrez.txt -t=e -l=0 -o=prematch.positive.HIPPIE.txt"
     ],
     "language": "python",
     "metadata": {},
     "outputs": [],
     "prompt_number": 82
    },
    {
     "cell_type": "markdown",
     "metadata": {},
     "source": [
      "Then we can use the parser to quickly perform what is done in the notebook previously used to extract the features:"
     ]
    },
    {
     "cell_type": "code",
     "collapsed": false,
     "input": [
      "x = ProteinPairParser(\"prematch.positive.HIPPIE.txt\",\"training.positive.HIPPIE.txt\",protindexes=(1,3),valindex=4)"
     ],
     "language": "python",
     "metadata": {},
     "outputs": [],
     "prompt_number": 113
    },
    {
     "cell_type": "code",
     "collapsed": false,
     "input": [
      "x.regenerate()"
     ],
     "language": "python",
     "metadata": {},
     "outputs": [
      {
       "output_type": "stream",
       "stream": "stdout",
       "text": [
        "data file is newer than pair file\n"
       ]
      }
     ],
     "prompt_number": 114
    },
    {
     "cell_type": "markdown",
     "metadata": {},
     "source": [
      "The function reports that the data file is newer than the pair file and regenerates the pair files as a persistent dictionary object.\n",
      "This is useful because it means that this can later be indexed quickly for building feature vectors.\n",
      "\n",
      "We can open this database to show this functionality:"
     ]
    },
    {
     "cell_type": "code",
     "collapsed": false,
     "input": [
      "test = openpairshelf(\"training.positive.HIPPIE.txt\")"
     ],
     "language": "python",
     "metadata": {},
     "outputs": [],
     "prompt_number": 115
    },
    {
     "cell_type": "markdown",
     "metadata": {},
     "source": [
      "If we look at the keys that this database uses we can see that it is using strings internally.\n",
      "It could be useful to modify the `.keys()` method of this function so that this would produce the list of frozenset keys instead."
     ]
    },
    {
     "cell_type": "code",
     "collapsed": false,
     "input": [
      "test.keys()[0:10]"
     ],
     "language": "python",
     "metadata": {},
     "outputs": [
      {
       "metadata": {},
       "output_type": "pyout",
       "prompt_number": 116,
       "text": [
        "['10013\\t55031',\n",
        " '10094\\t2885',\n",
        " '10399\\t8364',\n",
        " '10971\\t8452',\n",
        " '1109111091',\n",
        " '11198\\t142',\n",
        " '1326\\t9020',\n",
        " '13917118\\t7322',\n",
        " '1869\\t142',\n",
        " '2\\t2885']"
       ]
      }
     ],
     "prompt_number": 116
    },
    {
     "cell_type": "markdown",
     "metadata": {},
     "source": [
      "And taking one of these keys and turning it into a frozenset, we can then index the database using that as a key."
     ]
    },
    {
     "cell_type": "code",
     "collapsed": false,
     "input": [
      "testkey = test.keys()[0]\n",
      "testkey = frozenset(testkey.split(\"\\t\"))\n",
      "print testkey\n",
      "test[testkey]"
     ],
     "language": "python",
     "metadata": {},
     "outputs": [
      {
       "output_type": "stream",
       "stream": "stdout",
       "text": [
        "frozenset(['10013', '55031'])\n"
       ]
      },
      {
       "metadata": {},
       "output_type": "pyout",
       "prompt_number": 117,
       "text": [
        "'0.72'"
       ]
      }
     ],
     "prompt_number": 117
    },
    {
     "cell_type": "code",
     "collapsed": false,
     "input": [
      "test.close()"
     ],
     "language": "python",
     "metadata": {},
     "outputs": [],
     "prompt_number": 118
    },
    {
     "cell_type": "markdown",
     "metadata": {},
     "source": [
      "The problem is that a shelve (shelf?) database can't take the frozenset as a key.\n",
      "The [recommended way to deal with this][stackshelve] is to make a wrapper.\n",
      "As the database used by shelf is a class we can build a child class from this, modifying the functions to deal with protein pairs stored in frozensets as keys.\n",
      "This code will not deal with arbitrary frozensets as keys.\n",
      "\n",
      "Essentially, it will use a string of the two protein identifiers separated by a tab as the key.\n",
      "To index though it will take a frozenset and convert it to two strings which are the two iterations of the two strings.\n",
      "\n",
      "[stackshelve]: http://stackoverflow.com/questions/19734821/why-does-pythons-shelve-require-that-all-keys-be-strings"
     ]
    },
    {
     "cell_type": "code",
     "collapsed": false,
     "input": [
      "class ProteinPairDB(shelve.DbfilenameShelf):\n",
      "    '''A simple database for protein pairs using shelve.'''\n",
      "    def __setitem__(self,key,value):\n",
      "        #key will be frozenset so make it a list first\n",
      "        key = list(key)\n",
      "        #then make it a string\n",
      "        if len(key) == 1:\n",
      "            key = key[0]*2\n",
      "        else:\n",
      "            key = key[0] + \"\\t\" + key[1]\n",
      "        shelve.DbfilenameShelf.__setitem__(self,key,value)\n",
      "        return None\n",
      "    \n",
      "    def __getitem__(self,key):\n",
      "        #make two strings from the key\n",
      "        key = list(key)\n",
      "        if len(key) == 1:\n",
      "            key1 = key[0]*2\n",
      "            key1 = key[0]*2\n",
      "        else:\n",
      "            key1 = key[0] + \"\\t\" + key[1]\n",
      "            key2 = key[1] + \"\\t\" + key[0]\n",
      "        #try the first one\n",
      "        try:\n",
      "            value = shelve.DbfilenameShelf.__getitem__(self,key1)\n",
      "        except KeyError:\n",
      "            #couldn't find the first key, try the second\n",
      "            value = shelve.DbfilenameShelf.__getitem__(self,key2)\n",
      "            #if we don't find this one then error out as usual\n",
      "        return value"
     ],
     "language": "python",
     "metadata": {},
     "outputs": [],
     "prompt_number": 110
    },
    {
     "cell_type": "markdown",
     "metadata": {},
     "source": [
      "We also have to define a function to apply default arguments to have similar functionality to shelve:"
     ]
    },
    {
     "cell_type": "code",
     "collapsed": false,
     "input": [
      "def openpairshelf(filename, flag='c', protocol=None, writeback=False):\n",
      "    return ProteinPairDB(filename, flag, protocol, writeback)"
     ],
     "language": "python",
     "metadata": {},
     "outputs": [],
     "prompt_number": 57
    },
    {
     "cell_type": "markdown",
     "metadata": {},
     "source": [
      "The next thing to do is write the code for the feature vector assembler.\n",
      "This is another class, with methods:\n",
      "\n",
      "1. Regenerate protein pairs:\n",
      "    * Sends a signal to all instantiated protein pair parsers to regenerate the pair file if required (if the data source has been updated).\n",
      "2. Initialise protein pairs from data source table.\n",
      "3. Assemble feature vector files from protein pair files.\n",
      "\n",
      "And at initialisation it is expected to do:\n",
      "\n",
      "1. Loading in the Data source table and instantiating all required protein pair parsers.\n",
      "2. Loading in the gold standard protein pairs files, or loading the file names.\n",
      "\n",
      "To do this it must parse the data source table.\n",
      "It assumes that the data source table is provided as a __full path__ and that this path is __the top directory for the data__.\n",
      "ie all of the data paths in the data source will be __relative to the path of the table itself__.\n",
      "The table itself will have structure:\n",
      "\n",
      "| Data source directory | Output database directory | Options |\n",
      "| --------- | --------- | ------- |\n",
      "| `/relative/path/to/data` | `/relative/path/to/output/database` | protindexes=1,3;valindex=4;script=`/path/to/script`;csvdelim=`\\t` |\n",
      "\n",
      "The available options are given in the options column of the table above.\n",
      "\n",
      "To test initialisation a first draft of the code is given below:"
     ]
    },
    {
     "cell_type": "code",
     "collapsed": false,
     "input": [
      "class FeatureVectorAssembler():\n",
      "    '''Assembles feature vectors from protein pair files, data source lists and gold standard protein pair lists.'''\n",
      "    def __init__(self,sourcetab,goldpos,goldneg):\n",
      "        #store the initialisation\n",
      "        # directories for positive and negative gold standard data files\n",
      "        self.goldpos = goldpos\n",
      "        self.goldneg = goldneg\n",
      "        \n",
      "        #check if the gold standard data directories exist\n",
      "        # throw an error if they don't\n",
      "        \n",
      "        #instantiate protein pair parsers\n",
      "        # first parse the data source table\n",
      "        # store the directory of the table and it's name\n",
      "        self.sourcetabdir,self.tabfile = os.path.split(sourcetab)\n",
      "        # open the table and parse for initialisation options\n",
      "        c = csv.reader(open(sourcetab), delimiter=\"\\t\")\n",
      "        # iterate over lines adding to list of protein pair parsers\n",
      "        self.parserinitlist = []\n",
      "        for line in c:\n",
      "            #store the information in a dictionary\n",
      "            d = {}\n",
      "            d[\"data path\"] = line[0]\n",
      "            d[\"output path\"] = line[1]\n",
      "            #store options in a dictionary in the dictionary\n",
      "            d[\"options\"] = {}\n",
      "            options = line[2].split(\";\")\n",
      "            for x in options:\n",
      "                #split each option to find out which option it is:\n",
      "                x = x.split(\"=\")\n",
      "                #store it in the dictionary\n",
      "                # if there are invalid options this code WILL NOT DETECT THEM\n",
      "                d[\"options\"][x[0]]= x[1]\n",
      "            #copy the dictionary into the list\n",
      "            self.parserinitlist.append(d.copy())\n",
      "        #then initialise each of these parsers and keep them in a list\n",
      "        self.parserlist = []\n",
      "        for parser in self.parserinitlist:\n",
      "            self.parserlist.append(ProteinPairParser(parser[\"data path\"],\n",
      "                                                     parser[\"output path\"],\n",
      "                                                     **parser[\"options\"]))\n",
      "        return None"
     ],
     "language": "python",
     "metadata": {},
     "outputs": [],
     "prompt_number": 147
    },
    {
     "cell_type": "markdown",
     "metadata": {},
     "source": [
      "Testing initialisation requires a data source table file so this file is created below at the top directory for the data files."
     ]
    },
    {
     "cell_type": "code",
     "collapsed": false,
     "input": [
      "cd /home/gavin/Documents/MRes/"
     ],
     "language": "python",
     "metadata": {},
     "outputs": [
      {
       "output_type": "stream",
       "stream": "stdout",
       "text": [
        "/home/gavin/Documents/MRes\n"
       ]
      }
     ],
     "prompt_number": 139
    },
    {
     "cell_type": "code",
     "collapsed": false,
     "input": [
      "f = open(\"datasource.tab\", \"w\")\n",
      "f.write(\"HIPPIE/prematch.positive.HIPPIE.txt\" + \"\\t\" + \"HIPPIE/training.positive.HIPPIE.txt\" + \"\\t\" + \"protindexes=(1,3);valindex=4\")\n",
      "f.close()"
     ],
     "language": "python",
     "metadata": {},
     "outputs": [],
     "prompt_number": 141
    },
    {
     "cell_type": "markdown",
     "metadata": {},
     "source": [
      "Checking this file has written properly:"
     ]
    },
    {
     "cell_type": "code",
     "collapsed": false,
     "input": [
      "%%bash\n",
      "cat datasource.tab"
     ],
     "language": "python",
     "metadata": {},
     "outputs": [
      {
       "output_type": "stream",
       "stream": "stdout",
       "text": [
        "HIPPIE/prematch.positive.HIPPIE.txt\tHIPPIE/training.positive.HIPPIE.txt\tprotindexes=(1,3);valindex=4"
       ]
      }
     ],
     "prompt_number": 143
    },
    {
     "cell_type": "markdown",
     "metadata": {},
     "source": [
      "Then attempt to initialise the above version from that.\n",
      "Notice here that the FeatureVectorAssembler requires gold standard data sources at initialisation in this version.\n",
      "This is removed in the second version as it made more sense to allow arbitrary protein pair lists in the feature vector assemble method."
     ]
    },
    {
     "cell_type": "code",
     "collapsed": false,
     "input": [
      "test = FeatureVectorAssembler(\"datasource.tab\",\n",
      "                              \"DIP/human/training.nolabel.positive.Entrez.txt\",\n",
      "                              \"DIP/human/training.nolabel.negative.Entrez.txt\")"
     ],
     "language": "python",
     "metadata": {},
     "outputs": [],
     "prompt_number": 148
    },
    {
     "cell_type": "markdown",
     "metadata": {},
     "source": [
      "It initialises ok, so the second draft of the code with the required methods is given below:"
     ]
    },
    {
     "cell_type": "code",
     "collapsed": false,
     "input": [
      "class FeatureVectorAssembler():\n",
      "    '''Assembles feature vectors from protein pair files, data source lists and gold standard protein pair lists.'''\n",
      "    def __init__(self,sourcetab):\n",
      "        #instantiate protein pair parsers\n",
      "        # first parse the data source table\n",
      "        # store the directory of the table and it's name\n",
      "        self.sourcetabdir,self.tabfile = os.path.split(sourcetab)\n",
      "        # open the table and parse for initialisation options\n",
      "        c = csv.reader(open(sourcetab), delimiter=\"\\t\")\n",
      "        # iterate over lines adding to list of protein pair parsers\n",
      "        self.parserinitlist = []\n",
      "        for line in c:\n",
      "            #store the information in a dictionary\n",
      "            d = {}\n",
      "            d[\"data path\"] = os.path.join(self.sourcetabdir,line[0])\n",
      "            d[\"output path\"] = os.path.join(self.sourcetabdir,line[1])\n",
      "            #store options in a dictionary in the dictionary\n",
      "            d[\"options\"] = {}\n",
      "            options = line[2].split(\";\")\n",
      "            for x in options:\n",
      "                #split each option to find out which option it is:\n",
      "                x = x.split(\"=\")\n",
      "                #store it in the dictionary\n",
      "                # if there are invalid options this code WILL NOT DETECT THEM\n",
      "                d[\"options\"][x[0]]= x[1]\n",
      "            #update the script directory\n",
      "            if \"script\" in d[\"options\"].keys():\n",
      "                d[\"options\"][\"script\"] = os.path.join(self.sourcetabdir,d[\"options\"][\"script\"])\n",
      "            #copy the dictionary into the list\n",
      "            self.parserinitlist.append(d.copy())\n",
      "        #then initialise each of these parsers and keep them in a list\n",
      "        self.parserlist = []\n",
      "        for parser in self.parserinitlist:\n",
      "            self.parserlist.append(ProteinPairParser(parser[\"data path\"],\n",
      "                                                     parser[\"output path\"],\n",
      "                                                     **parser[\"options\"]))\n",
      "        return None\n",
      "    \n",
      "    def regenerate(self):\n",
      "        '''Calls all known protein parsers and gets them to regenerate their output, if they have to.'''\n",
      "        for parser in self.parserlist:\n",
      "            parser.regenerate()\n",
      "        return None\n",
      "    \n",
      "    def assemble(self, pairfile, outputfile):\n",
      "        '''Assembles a file of feature vectors for each protein pair in a protein pair file supplied.\n",
      "        \n",
      "        Assumes the pairfile is tab delimited.'''\n",
      "        # first parse the pairfile into a list of frozensets\n",
      "        pairs = map(lambda l: frozenset(l),csv.reader(open(pairfile), delimiter=\"\\t\"))\n",
      "        # open the file to put the feature vector in\n",
      "        c = csv.writer(open(outputfile, \"w\"), delimiter=\"\\t\")\n",
      "        #open all the databases and put them in a dictionary\n",
      "        dbdict = {}\n",
      "        for parser in self.parserinitlist:\n",
      "            dbdict[parser[\"output path\"]] = openpairshelf(parser[\"output path\"])\n",
      "        \n",
      "        # then iterate through the pairs, querying all parser databases\n",
      "        for pair in pairs:\n",
      "            row = []\n",
      "            lpair = list(pair)\n",
      "            row = row + lpair\n",
      "            for parser in self.parserinitlist:\n",
      "                row.append(dbdict[parser[\"output path\"]][pair])\n",
      "            c.writerow(row)\n",
      "            \n",
      "        #close all the databases\n",
      "        for parser in self.parserinitlist:\n",
      "            dbdict[parser[\"output path\"]].close()\n",
      "        \n",
      "        return None"
     ],
     "language": "python",
     "metadata": {},
     "outputs": [],
     "prompt_number": 174
    },
    {
     "cell_type": "markdown",
     "metadata": {},
     "source": [
      "Testing initialisation of this code again:"
     ]
    },
    {
     "cell_type": "code",
     "collapsed": false,
     "input": [
      "test = FeatureVectorAssembler(\"/home/gavin/Documents/MRes/datasource.tab\")"
     ],
     "language": "python",
     "metadata": {},
     "outputs": [],
     "prompt_number": 175
    },
    {
     "cell_type": "markdown",
     "metadata": {},
     "source": [
      "Regenerating the data sources.\n",
      "It does not report that any of the data sources require regeneration so nothing is done this time:"
     ]
    },
    {
     "cell_type": "code",
     "collapsed": false,
     "input": [
      "test.regenerate()"
     ],
     "language": "python",
     "metadata": {},
     "outputs": [],
     "prompt_number": 176
    },
    {
     "cell_type": "markdown",
     "metadata": {},
     "source": [
      "Then testing the assembly of a feature vector file:"
     ]
    },
    {
     "cell_type": "code",
     "collapsed": false,
     "input": [
      "test.assemble(\"DIP/human/training.nolabel.positive.Entrez.txt\", \"testoutput\")"
     ],
     "language": "python",
     "metadata": {},
     "outputs": [],
     "prompt_number": 177
    },
    {
     "cell_type": "markdown",
     "metadata": {},
     "source": [
      "Looking at this file we can see that it has produced a feature vector with only one feature.\n",
      "It also reports the associated protein pairs next to this feature.\n",
      "This is removed from later versions as it makes later classification more complicated."
     ]
    },
    {
     "cell_type": "code",
     "collapsed": false,
     "input": [
      "%%bash\n",
      "head testoutput"
     ],
     "language": "python",
     "metadata": {},
     "outputs": [
      {
       "output_type": "stream",
       "stream": "stdout",
       "text": [
        "4084\t207\t0.86\r\n",
        "8360\t8356\t0.97\r\n",
        "5914\t9612\t0.9\r\n",
        "79833\t6634\t0.62\r\n",
        "29102\t4090\t0\r\n",
        "7074\t6382\t0\r\n",
        "7159\t22059\t0\r\n",
        "1869\t7029\t0.96\r\n",
        "801\t817\t0\r\n",
        "207\t1786\t0.7\r\n"
       ]
      }
     ],
     "prompt_number": 178
    }
   ],
   "metadata": {}
  }
 ]
}