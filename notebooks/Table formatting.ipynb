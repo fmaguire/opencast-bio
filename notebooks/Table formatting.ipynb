{
 "metadata": {
  "name": "",
  "signature": "sha256:d11984df21ede6ce4536e5df34d508a76b4d5b6f2de6d4d1246e6883793b777b"
 },
 "nbformat": 3,
 "nbformat_minor": 0,
 "worksheets": [
  {
   "cells": [
    {
     "cell_type": "markdown",
     "metadata": {},
     "source": [
      "There are some table we would like to include in the latex document, but we first have to format them to meet the requirements.\n",
      "Specifically, these are the tables of significant disease enrichment results."
     ]
    },
    {
     "cell_type": "code",
     "collapsed": false,
     "input": [
      "cd ../../HBP/"
     ],
     "language": "python",
     "metadata": {},
     "outputs": [
      {
       "output_type": "stream",
       "stream": "stdout",
       "text": [
        "/home/gavin/Documents/MRes/HBP\n"
       ]
      }
     ],
     "prompt_number": 1
    },
    {
     "cell_type": "code",
     "collapsed": false,
     "input": [
      "import csv"
     ],
     "language": "python",
     "metadata": {},
     "outputs": [],
     "prompt_number": 2
    },
    {
     "cell_type": "code",
     "collapsed": false,
     "input": [
      "import numpy as np"
     ],
     "language": "python",
     "metadata": {},
     "outputs": [],
     "prompt_number": 9
    },
    {
     "cell_type": "code",
     "collapsed": false,
     "input": [
      "from pylab import *"
     ],
     "language": "python",
     "metadata": {},
     "outputs": [],
     "prompt_number": 66
    },
    {
     "cell_type": "code",
     "collapsed": false,
     "input": [
      "ls"
     ],
     "language": "python",
     "metadata": {},
     "outputs": [
      {
       "output_type": "stream",
       "stream": "stdout",
       "text": [
        "\u001b[0m\u001b[40m\u001b[m\u001b[01;36mcommunityDetection.C\u001b[0m@         \u001b[40m\u001b[m\u001b[01;36mMakefile\u001b[0m@         \u001b[40m\u001b[m\u001b[01;36mREADME\u001b[0m@\r\n",
        "\u001b[40m\u001b[m\u001b[01;36mcommunityDetection.OpenMP.C\u001b[0m@  \u001b[40m\u001b[m\u001b[01;36mnode.h\u001b[0m@           \u001b[40m\u001b[m\u001b[01;36mrun\u001b[0m@\r\n",
        "\u001b[40m\u001b[m\u001b[01;34mdata\u001b[0m/                         \u001b[40m\u001b[m\u001b[01;36mnr3.h\u001b[0m@            \u001b[40m\u001b[m\u001b[01;34mtestdata\u001b[0m/\r\n",
        "\u001b[40m\u001b[m\u001b[01;36medge.h\u001b[0m@                       \u001b[40m\u001b[m\u001b[01;34mOUT\u001b[0m/              \u001b[40m\u001b[m\u001b[01;34munweightedOUT\u001b[0m/\r\n",
        "\u001b[40m\u001b[m\u001b[01;36meigen_sym.h\u001b[0m@                  \u001b[40m\u001b[m\u001b[01;34mOUTW\u001b[0m/             \u001b[40m\u001b[m\u001b[01;36munweighted_significant_disease_communities.tsv\u001b[0m@\r\n",
        "\u001b[40m\u001b[m\u001b[01;36menrichmentStudies.h\u001b[0m@          \u001b[40m\u001b[m\u001b[01;34mprotounweighted\u001b[0m/  \u001b[40m\u001b[m\u001b[01;36munweighted_significant_SCH_communities.tsv\u001b[0m@\r\n",
        "\u001b[40m\u001b[m\u001b[01;36mHeaders.h\u001b[0m@                    \u001b[40m\u001b[m\u001b[01;34mprotoweighted\u001b[0m/    \u001b[40m\u001b[m\u001b[01;36mweighted_significant_disease_communities.tsv\u001b[0m@\r\n",
        "\u001b[40m\u001b[m\u001b[01;36mHelper.h\u001b[0m@                     \u001b[40m\u001b[m\u001b[01;36mran.h\u001b[0m@            \u001b[40m\u001b[m\u001b[01;36mweighted_significant_SCH_communities.tsv\u001b[0m@\r\n",
        "\u001b[40m\u001b[m\u001b[01;36mludcmp.h\u001b[0m@                     \u001b[40m\u001b[m\u001b[01;36mreadInputFile.h\u001b[0m@\r\n"
       ]
      }
     ],
     "prompt_number": 3
    },
    {
     "cell_type": "code",
     "collapsed": false,
     "input": [
      "with open(\"unweighted_significant_disease_communities.tsv\") as f:\n",
      "    c = csv.reader(f,delimiter=\"\\t\")\n",
      "    tabstrings = list(c)"
     ],
     "language": "python",
     "metadata": {},
     "outputs": [],
     "prompt_number": 7
    },
    {
     "cell_type": "code",
     "collapsed": false,
     "input": [
      "t = tabstrings[1][3]"
     ],
     "language": "python",
     "metadata": {},
     "outputs": [],
     "prompt_number": 19
    },
    {
     "cell_type": "code",
     "collapsed": false,
     "input": [
      "def texSI(t):\n",
      "    t = \"{:.2e}\".format(float(t))\n",
      "    t = t.split(\"e\")\n",
      "    t = r\"$\" + t[0] + r\"\\e{\" + t[1] + r\"}\" + \"$\"\n",
      "    return t"
     ],
     "language": "python",
     "metadata": {},
     "outputs": [],
     "prompt_number": 67
    },
    {
     "cell_type": "code",
     "collapsed": false,
     "input": [
      "with open(\"unweighted_significant_disease_communities.tex\",\"w\") as f:\n",
      "    for i,l in enumerate(tabstrings):\n",
      "        if i==0:\n",
      "            f.write(\" \".join([r\" & \".join(l[:4]+[l[-2]]), r\"\\\\\", \"\\n\"]))\n",
      "        else:\n",
      "            l = l[:3] + map(texSI,l[3:6]) + l[6:]\n",
      "            f.write(\" \".join([r\" & \".join(l[:4]+[l[-2]]), r\"\\\\\", \"\\n\"]))"
     ],
     "language": "python",
     "metadata": {},
     "outputs": [],
     "prompt_number": 85
    },
    {
     "cell_type": "code",
     "collapsed": false,
     "input": [
      "!head unweighted_significant_disease_communities.tex"
     ],
     "language": "python",
     "metadata": {},
     "outputs": [
      {
       "output_type": "stream",
       "stream": "stdout",
       "text": [
        "Community & Size & disease & p-value & p_lower (%) \\\\ \r\n",
        "29 & 88 & schizophrenia & $1.69\\e{-03}$ & 0.2 \\\\ \r\n",
        "2 & 99 & schizophrenia & $4.32\\e{-03}$ & 0.5 \\\\ \r\n",
        "30 & 26 & Alzheimer's_disease & $5.37\\e{-03}$ & 0.7 \\\\ \r\n",
        "61 & 24 & schizophrenia & $1.96\\e{-02}$ & 1.5 \\\\ \r\n",
        "63 & 23 & Alzheimer's_disease & $3.50\\e{-02}$ & 4.3 \\\\ \r\n",
        "61 & 24 & Alzheimer's_disease & $4.25\\e{-02}$ & 4.5 \\\\ \r\n",
        "63 & 23 & schizophrenia & $4.62\\e{-02}$ & 4.3 \\\\ \r\n"
       ]
      }
     ],
     "prompt_number": 86
    },
    {
     "cell_type": "code",
     "collapsed": false,
     "input": [
      "with open(\"weighted_significant_disease_communities.tsv\") as f:\n",
      "    c = csv.reader(f,delimiter=\"\\t\")\n",
      "    tabstrings = list(c)"
     ],
     "language": "python",
     "metadata": {},
     "outputs": [],
     "prompt_number": 87
    },
    {
     "cell_type": "code",
     "collapsed": false,
     "input": [
      "with open(\"weighted_significant_disease_communities.tex\",\"w\") as f:\n",
      "    for i,l in enumerate(tabstrings):\n",
      "        if i==0:\n",
      "            f.write(\" \".join([r\" & \".join(l[:4]+[l[-2]]), r\"\\\\\", \"\\n\"]))\n",
      "        else:\n",
      "            l = l[:3] + map(texSI,l[3:6]) + l[6:]\n",
      "            f.write(\" \".join([r\" & \".join(l[:4]+[l[-2]]), r\"\\\\\", \"\\n\"]))"
     ],
     "language": "python",
     "metadata": {},
     "outputs": [],
     "prompt_number": 88
    }
   ],
   "metadata": {}
  }
 ]
}