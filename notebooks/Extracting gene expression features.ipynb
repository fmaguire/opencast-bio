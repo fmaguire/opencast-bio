{
 "metadata": {
  "name": "",
  "signature": "sha256:f11711f38fbbed7cb8cfa1a375d8014b3df45dd7fa4f1e7ae5356ab8c9ec1ad4"
 },
 "nbformat": 3,
 "nbformat_minor": 0,
 "worksheets": [
  {
   "cells": [
    {
     "cell_type": "markdown",
     "metadata": {},
     "source": [
      "## Looking at Qi method\n",
      "\n",
      "In the repository from the Qi experiment there is a file which it appears is used to extract the features:"
     ]
    },
    {
     "cell_type": "code",
     "collapsed": false,
     "input": [
      "cd 1gene-expression/"
     ],
     "language": "python",
     "metadata": {},
     "outputs": [
      {
       "output_type": "stream",
       "stream": "stdout",
       "text": [
        "/home/gavin/Documents/MRes/YeastPPI-shared-08/1gene-expression\n"
       ]
      }
     ],
     "prompt_number": 1
    },
    {
     "cell_type": "code",
     "collapsed": false,
     "input": [
      "ls"
     ],
     "language": "python",
     "metadata": {},
     "outputs": [
      {
       "output_type": "stream",
       "stream": "stdout",
       "text": [
        "\u001b[0m\u001b[40m\u001b[m\u001b[00mall_expression_fixed_s4_csv.txt\u001b[0m  \u001b[40m\u001b[m\u001b[00mget_gene_expression_summary.pl\u001b[0m\r\n",
        "\u001b[40m\u001b[m\u001b[00mexpressionYanjunSplit.txt\u001b[0m        \u001b[40m\u001b[m\u001b[00mYeastGeneListOrfGeneName-106_pval_v9.0.txt\u001b[0m\r\n",
        "\u001b[40m\u001b[m\u001b[00mget_gene_expression.pl\u001b[0m\r\n"
       ]
      }
     ],
     "prompt_number": 2
    },
    {
     "cell_type": "markdown",
     "metadata": {},
     "source": [
      "Using pandas to read in the large csv."
     ]
    },
    {
     "cell_type": "code",
     "collapsed": false,
     "input": [
      "import pandas as pd\n",
      "d = pd.read_csv(\"all_expression_fixed_s4_csv.txt\", header=None)"
     ],
     "language": "python",
     "metadata": {},
     "outputs": [],
     "prompt_number": 3
    },
    {
     "cell_type": "code",
     "collapsed": false,
     "input": [
      "d.head()"
     ],
     "language": "python",
     "metadata": {},
     "outputs": [
      {
       "html": [
        "<div style=\"max-height:1000px;max-width:1500px;overflow:auto;\">\n",
        "<table border=\"1\" class=\"dataframe\">\n",
        "  <thead>\n",
        "    <tr style=\"text-align: right;\">\n",
        "      <th></th>\n",
        "      <th>0</th>\n",
        "      <th>1</th>\n",
        "      <th>2</th>\n",
        "      <th>3</th>\n",
        "      <th>4</th>\n",
        "      <th>5</th>\n",
        "      <th>6</th>\n",
        "      <th>7</th>\n",
        "      <th>8</th>\n",
        "      <th>9</th>\n",
        "      <th>10</th>\n",
        "      <th>11</th>\n",
        "      <th>12</th>\n",
        "      <th>13</th>\n",
        "      <th>14</th>\n",
        "      <th>15</th>\n",
        "      <th>16</th>\n",
        "      <th>17</th>\n",
        "      <th>18</th>\n",
        "      <th>19</th>\n",
        "      <th></th>\n",
        "    </tr>\n",
        "  </thead>\n",
        "  <tbody>\n",
        "    <tr>\n",
        "      <th>0</th>\n",
        "      <td> 100.0000</td>\n",
        "      <td> 100.0000</td>\n",
        "      <td> 100.0000</td>\n",
        "      <td>-0.2863</td>\n",
        "      <td>-0.3406</td>\n",
        "      <td>-0.4024</td>\n",
        "      <td>-0.1797</td>\n",
        "      <td> 0.1388</td>\n",
        "      <td>-0.1517</td>\n",
        "      <td>-0.0726</td>\n",
        "      <td>-0.1706</td>\n",
        "      <td>-0.2401</td>\n",
        "      <td> 0.0215</td>\n",
        "      <td>-0.7169</td>\n",
        "      <td> 0.5261</td>\n",
        "      <td>-0.1176</td>\n",
        "      <td>-2.9434</td>\n",
        "      <td>-2.0589</td>\n",
        "      <td> 0.0000</td>\n",
        "      <td>-0.3896</td>\n",
        "      <td>...</td>\n",
        "    </tr>\n",
        "    <tr>\n",
        "      <th>1</th>\n",
        "      <td> 100.0000</td>\n",
        "      <td> 100.0000</td>\n",
        "      <td> 100.0000</td>\n",
        "      <td>-0.4344</td>\n",
        "      <td>-0.3649</td>\n",
        "      <td> 0.5499</td>\n",
        "      <td>-0.2179</td>\n",
        "      <td> 0.4916</td>\n",
        "      <td> 0.8639</td>\n",
        "      <td> 0.2618</td>\n",
        "      <td>-0.3876</td>\n",
        "      <td>-0.2067</td>\n",
        "      <td>-0.3094</td>\n",
        "      <td>-0.5649</td>\n",
        "      <td> 0.7748</td>\n",
        "      <td> 0.0370</td>\n",
        "      <td> 0.6041</td>\n",
        "      <td>-0.1203</td>\n",
        "      <td> 0.0893</td>\n",
        "      <td> 0.3771</td>\n",
        "      <td>...</td>\n",
        "    </tr>\n",
        "    <tr>\n",
        "      <th>2</th>\n",
        "      <td>  -0.0291</td>\n",
        "      <td>   0.0847</td>\n",
        "      <td>  -0.2109</td>\n",
        "      <td> 0.2265</td>\n",
        "      <td>-0.1345</td>\n",
        "      <td>-0.2375</td>\n",
        "      <td>-0.2146</td>\n",
        "      <td> 0.2833</td>\n",
        "      <td>-0.2026</td>\n",
        "      <td> 0.1966</td>\n",
        "      <td>-0.2074</td>\n",
        "      <td>-0.3692</td>\n",
        "      <td>-0.4525</td>\n",
        "      <td>-1.1016</td>\n",
        "      <td> 0.3369</td>\n",
        "      <td> 0.5370</td>\n",
        "      <td>-0.6215</td>\n",
        "      <td>-0.8890</td>\n",
        "      <td> 0.2863</td>\n",
        "      <td>-1.9523</td>\n",
        "      <td>...</td>\n",
        "    </tr>\n",
        "    <tr>\n",
        "      <th>3</th>\n",
        "      <td>   0.0827</td>\n",
        "      <td>   0.0108</td>\n",
        "      <td>   0.0683</td>\n",
        "      <td> 0.1243</td>\n",
        "      <td> 0.1467</td>\n",
        "      <td> 0.1110</td>\n",
        "      <td>-0.2683</td>\n",
        "      <td> 0.5898</td>\n",
        "      <td> 0.1953</td>\n",
        "      <td> 0.3242</td>\n",
        "      <td>-0.3806</td>\n",
        "      <td>-0.0268</td>\n",
        "      <td>-0.2718</td>\n",
        "      <td>-0.3720</td>\n",
        "      <td> 0.4636</td>\n",
        "      <td> 0.6041</td>\n",
        "      <td> 0.3103</td>\n",
        "      <td>-0.2688</td>\n",
        "      <td> 0.4540</td>\n",
        "      <td>-0.5361</td>\n",
        "      <td>...</td>\n",
        "    </tr>\n",
        "    <tr>\n",
        "      <th>4</th>\n",
        "      <td>   0.0321</td>\n",
        "      <td>   0.1661</td>\n",
        "      <td>  -0.2645</td>\n",
        "      <td> 0.0976</td>\n",
        "      <td> 0.0257</td>\n",
        "      <td> 0.1097</td>\n",
        "      <td>-0.1205</td>\n",
        "      <td> 0.4751</td>\n",
        "      <td> 0.0000</td>\n",
        "      <td> 0.5008</td>\n",
        "      <td> 0.0014</td>\n",
        "      <td>-0.0493</td>\n",
        "      <td>-0.0870</td>\n",
        "      <td>-0.2985</td>\n",
        "      <td> 0.9411</td>\n",
        "      <td> 0.1865</td>\n",
        "      <td>-2.0000</td>\n",
        "      <td>-1.7859</td>\n",
        "      <td> 0.6666</td>\n",
        "      <td>-0.2265</td>\n",
        "      <td>...</td>\n",
        "    </tr>\n",
        "  </tbody>\n",
        "</table>\n",
        "<p>5 rows \u00d7 501 columns</p>\n",
        "</div>"
       ],
       "metadata": {},
       "output_type": "pyout",
       "prompt_number": 4,
       "text": [
        "         0         1         2       3       4       5       6       7   \\\n",
        "0  100.0000  100.0000  100.0000 -0.2863 -0.3406 -0.4024 -0.1797  0.1388   \n",
        "1  100.0000  100.0000  100.0000 -0.4344 -0.3649  0.5499 -0.2179  0.4916   \n",
        "2   -0.0291    0.0847   -0.2109  0.2265 -0.1345 -0.2375 -0.2146  0.2833   \n",
        "3    0.0827    0.0108    0.0683  0.1243  0.1467  0.1110 -0.2683  0.5898   \n",
        "4    0.0321    0.1661   -0.2645  0.0976  0.0257  0.1097 -0.1205  0.4751   \n",
        "\n",
        "       8       9       10      11      12      13      14      15      16  \\\n",
        "0 -0.1517 -0.0726 -0.1706 -0.2401  0.0215 -0.7169  0.5261 -0.1176 -2.9434   \n",
        "1  0.8639  0.2618 -0.3876 -0.2067 -0.3094 -0.5649  0.7748  0.0370  0.6041   \n",
        "2 -0.2026  0.1966 -0.2074 -0.3692 -0.4525 -1.1016  0.3369  0.5370 -0.6215   \n",
        "3  0.1953  0.3242 -0.3806 -0.0268 -0.2718 -0.3720  0.4636  0.6041  0.3103   \n",
        "4  0.0000  0.5008  0.0014 -0.0493 -0.0870 -0.2985  0.9411  0.1865 -2.0000   \n",
        "\n",
        "       17      18      19      \n",
        "0 -2.0589  0.0000 -0.3896 ...  \n",
        "1 -0.1203  0.0893  0.3771 ...  \n",
        "2 -0.8890  0.2863 -1.9523 ...  \n",
        "3 -0.2688  0.4540 -0.5361 ...  \n",
        "4 -1.7859  0.6666 -0.2265 ...  \n",
        "\n",
        "[5 rows x 501 columns]"
       ]
      }
     ],
     "prompt_number": 4
    },
    {
     "cell_type": "code",
     "collapsed": false,
     "input": [
      "d.shape"
     ],
     "language": "python",
     "metadata": {},
     "outputs": [
      {
       "metadata": {},
       "output_type": "pyout",
       "prompt_number": 5,
       "text": [
        "(6270, 501)"
       ]
      }
     ],
     "prompt_number": 5
    },
    {
     "cell_type": "markdown",
     "metadata": {},
     "source": [
      "So maybe every row corresponds to a protein in the YeastGeneList file?\n",
      "Then, the two files should have the same number of columns."
     ]
    },
    {
     "cell_type": "code",
     "collapsed": false,
     "input": [
      "%%bash\n",
      "wc -l YeastGeneListOrfGeneName-106_pval_v9.0.txt"
     ],
     "language": "python",
     "metadata": {},
     "outputs": [
      {
       "output_type": "stream",
       "stream": "stdout",
       "text": [
        "6270 YeastGeneListOrfGeneName-106_pval_v9.0.txt\n"
       ]
      }
     ],
     "prompt_number": 8
    },
    {
     "cell_type": "markdown",
     "metadata": {},
     "source": [
      "Ok, so that's actually possible then. So are each of these gene expression profiles then? Varying expression levels over time. Trying plotting one of them to see if it looks like a timebase plot of some value:"
     ]
    },
    {
     "cell_type": "code",
     "collapsed": false,
     "input": [
      "plot(d.iloc[1,:])"
     ],
     "language": "python",
     "metadata": {},
     "outputs": [
      {
       "metadata": {},
       "output_type": "pyout",
       "prompt_number": 9,
       "text": [
        "[<matplotlib.lines.Line2D at 0x3d977d0>]"
       ]
      },
      {
       "metadata": {},
       "output_type": "display_data",
       "png": "[encoded data removed]",
       "text": [
        "<matplotlib.figure.Figure at 0x3d245d0>"
       ]
      }
     ],
     "prompt_number": 9
    },
    {
     "cell_type": "markdown",
     "metadata": {},
     "source": [
      "Strange, what's going on with those occasional 100s or 110s?"
     ]
    },
    {
     "cell_type": "code",
     "collapsed": false,
     "input": [
      "drow1 = d.iloc[1,:]\n",
      "drow1[drow1>60]"
     ],
     "language": "python",
     "metadata": {},
     "outputs": [
      {
       "metadata": {},
       "output_type": "pyout",
       "prompt_number": 19,
       "text": [
        "0      100\n",
        "1      100\n",
        "2      100\n",
        "73     100\n",
        "235    100\n",
        "237    100\n",
        "240    100\n",
        "243    100\n",
        "244    100\n",
        "245    100\n",
        "246    100\n",
        "252    100\n",
        "253    100\n",
        "446    110\n",
        "447    110\n",
        "448    110\n",
        "461    110\n",
        "468    110\n",
        "469    110\n",
        "484    110\n",
        "Name: 1, dtype: float64"
       ]
      }
     ],
     "prompt_number": 19
    },
    {
     "cell_type": "markdown",
     "metadata": {},
     "source": [
      "What happens if we plot without those?"
     ]
    },
    {
     "cell_type": "code",
     "collapsed": false,
     "input": [
      "plot(drow1[drow1<60])"
     ],
     "language": "python",
     "metadata": {},
     "outputs": [
      {
       "metadata": {},
       "output_type": "pyout",
       "prompt_number": 17,
       "text": [
        "[<matplotlib.lines.Line2D at 0x406e650>]"
       ]
      },
      {
       "metadata": {},
       "output_type": "display_data",
       "png": "[encoded data removed]",
       "text": [
        "<matplotlib.figure.Figure at 0x3e50a50>"
       ]
      }
     ],
     "prompt_number": 17
    },
    {
     "cell_type": "code",
     "collapsed": true,
     "input": [
      "h= hist(drow1[drow1<60].values, bins=50)"
     ],
     "language": "python",
     "metadata": {},
     "outputs": [
      {
       "metadata": {},
       "output_type": "display_data",
       "png": "[encoded data removed]",
       "text": [
        "<matplotlib.figure.Figure at 0x40e0290>"
       ]
      }
     ],
     "prompt_number": 22
    },
    {
     "cell_type": "markdown",
     "metadata": {},
     "source": [
      "Looks more like a real signal, surely those numbers above must be artefacts or something?\n",
      "\n",
      "Maybe the perl script will tell us something about them?"
     ]
    },
    {
     "cell_type": "code",
     "collapsed": false,
     "input": [
      "%load get_gene_expression.pl"
     ],
     "language": "python",
     "metadata": {},
     "outputs": [],
     "prompt_number": 27
    },
    {
     "cell_type": "code",
     "collapsed": false,
     "input": [
      "%%perl\n",
      "######################################################################3\n",
      "#\n",
      "# copyright @ Yanjun Qi , qyj@cs.cmu.edu\n",
      "# Please cite: \n",
      "# Y. Qi, Z. Bar-Joseph, J. Klein-Seetharaman, \"Evaluation of different biological data and computational classification methods for use in protein interaction prediction\", PROTEINS: Structure, Function, and Bioinformatics. 63(3):490-500. 2006\n",
      "# Y. Qi, J. Klein-Seetharaman, Z. Bar-Joseph, \"A mixture of feature experts approach for protein-protein interaction prediction\", BMC Bioinformatics 8 (S10):S6, 2007 \n",
      "# Y. Qi, J. Klein-Seetharaman, Z. Bar-Joseph, \u0093Random Forest Similarity for Protein-Protein Interaction Prediction from Multiple source\u0094, Pacific Symposium on Biocomputing 10: (PSB 2005) Jan. 2005. \n",
      "# \n",
      "######################################################################3\n",
      "\n",
      "\n",
      "# Program to get gene expression (abundance) for protein pair list \n",
      "# Based on the gene expression data given by Ziv published by \n",
      "# Computational discovery of gene modules and regulatory networks. \n",
      "# Nature Biotechnology, 21(11) pp. 1337-42, 2003  \n",
      "# \n",
      "# perl get_gene_expression.pl ./lists/Science03PPI.sublist.txt YeastGeneListOrfGeneName-106_pval_v9.0.txt all_expression_fixed_s4_csv.txt expressionYanjunSplit.txt 0.7 ./lists/Science03PPI.sublist.genexp\n",
      "#\n",
      "# Note: \n",
      "# - in the protein pair list file, \n",
      "# - for each protein pair, we have a flag representing the class label: \"1\" means postive pair, \"0\" means random pairs\n",
      "#\"\tThe input pair list file format: ORF1 ORF2 Flag\n",
      "#\t\t\t( flag is either 0 rand or 1 postive)\n",
      "#\"\tThe out put file format: 20 gene expression features separated by \",\", the last one is the class flag\n",
      "\n",
      "\n",
      "#use strict; \n",
      "\n",
      "die \"Usage: command yeast_pr_pair_file_name yeast_name_list gene_expression_file expression_split_file percent_miss out_file_name\\n\" if scalar(@ARGV) < 5;\n",
      "\n",
      "my ($pr_pair_file, $gene_list_file, $gene_expression_file, $expression_split_file, $percent_miss, $out_file_name) = @ARGV;\n",
      "\n",
      "\n",
      "\n",
      "#--------------------- read in the gene name list  file -------------------------------\n",
      "\n",
      "open(GENLIST, $gene_list_file) || die(\" Can not open file(\\\"$gene_list_file\\\").\\n\"); \n",
      "my ( %gene_name ); \n",
      "\n",
      "%gene_name = (); \n",
      "\n",
      "$indexnum = 0; \n",
      "while (<GENLIST>)\t\n",
      "{\n",
      "\tchomp $_;\n",
      "\tchop $_; \n",
      "\tnext if /^#/;\t\t\t#ignore comments\n",
      "\tnext if /^$/; \t\t\t#ignore blank lines\n",
      "\t\n",
      "\tmy @cur_per_line = (); \n",
      "\t@cur_per_line = split('\\t', $_);\n",
      "\n",
      "\t$indexnum = $indexnum + 1; \t\n",
      "\t$gene_name{\"$cur_per_line[0]\"} = $indexnum; \n",
      "}\n",
      "close(GENLIST);\n",
      "\n",
      "\n",
      "\n",
      "#--------------------- read in the gene expression file -------------------------------\n",
      "\n",
      "open(GEN, $gene_expression_file) || die(\" Can not open file(\\\"$gene_expression_file\\\").\\n\"); \n",
      "my ( %gene_exp, $indexnum ); \n",
      "\n",
      "%gene_exp = (); \n",
      "$indexnum = 0; \n",
      "while (<GEN>)\t\n",
      "{\n",
      "\tchomp $_;\n",
      "\tchop $_; \n",
      "\tnext if /^#/;\t\t\t#ignore comments\n",
      "\tnext if /^$/; \t\t\t#ignore blank lines\n",
      "\t\n",
      "\tmy @cur_per_line = (); \n",
      "\t@cur_per_line = split(',', $_);\n",
      "\t$indexnum = $indexnum + 1; \n",
      "\t$gene_exp{$indexnum} = \\@cur_per_line; \n",
      "}\n",
      "close(GEN);\n",
      "\n",
      "\n",
      "\n",
      "#--------------------- read in the gene expression list split file -------------------------------\n",
      "\n",
      "my @splitlist = (); \n",
      "open(LIST, $expression_split_file) || die(\" Can not open file(\\\"$expression_split_file\\\").\\n\"); \n",
      "while (<LIST>)\t\n",
      "{\n",
      "\tchomp $_; \n",
      "\tnext if /^#/;\t\t\t#ignore comments\n",
      "\tnext if /^$/; \t\t\t#ignore blank lines\n",
      "\t\t\n",
      "\tmy $curline = substr($_, 0, -1);\n",
      "\tpush(@splitlist, $curline); ; \n",
      "}\n",
      "close(LIST); \n",
      "\n",
      "\n",
      "\n",
      "#--------------------- Begin to generate ~20 gene expression feature  -------------------------------\n",
      "\n",
      "open(INT, $pr_pair_file) || die(\" Can not open file(\\\"$pr_pair_file\\\").\\n\"); \n",
      "open(OUT, \"> $out_file_name\") || die(\" Can not open file(\\\"$out_file_name\\\").\\n\");\n",
      "\n",
      "my $count = 0; \n",
      "my $feaCount = 0; \n",
      "\n",
      "my ( $orfs1, $orfs2, $orf1, $orf2, @exp1, @exp2, $flag); \n",
      "while (<INT>)\t\n",
      "{\n",
      "\tchomp $_; \n",
      "\tnext if /^#/;\t\t\t#ignore comments\n",
      "\tnext if /^$/; \t\t\t#ignore blank lines\n",
      "\n",
      "\t($orfs1, $orfs2, $flag) = split('\\s', $_);\n",
      "\n",
      "\t$orf1 = $gene_name{\"$orfs1\"} ; \n",
      "\t$orf2 = $gene_name{\"$orfs2\"} ; \n",
      "\n",
      "\tif (( ! (defined $orf1)  )||( ! (defined $orf2 )) )\n",
      "\t{\n",
      "\t\tfor($feaCount = 0 ; $feaCount <= $#splitlist ; $feaCount++)\n",
      "\t\t{\tprint OUT \"-100,\";  }\n",
      "\t\tprint OUT \"$flag\\n\"; \n",
      "\t}\n",
      "\telse {\n",
      "\t\t$exp1 = $gene_exp{$orf1};\n",
      "\t\t$exp2 = $gene_exp{$orf2};\n",
      "\t\n",
      "\t\tfor($feaCount = 0 ; $feaCount < $#splitlist ; $feaCount++)\n",
      "\t\t{\n",
      "\t\t\tmy $start = $splitlist[$feaCount] - 1; \n",
      "\t\t\tmy $endi = $splitlist[$feaCount + 1 ] - 1; \n",
      "\t\t\t\n",
      "\t\t\tmy @expf1 = (); \n",
      "\t\t\tmy @expf2 = ();  \n",
      "\t\t\tmy $j=0; \n",
      "\t\t\tfor($j = $start ; $j < $endi ; $j++)\n",
      "\t\t\t{\n",
      "\t\t\t\tpush(@expf1, $exp1->[$j]); \n",
      "\t\t\t\tpush(@expf2, $exp2->[$j]); \n",
      "\t\t\t}\n",
      "\t\t\t\n",
      "\t\t\tmy $temp =  &pearsoncc(\\@expf1, \\@expf2, $percent_miss); \n",
      "\t\t\tprint OUT \"$temp,\";  \n",
      "\t\t}\n",
      "\t\tmy $start = $splitlist[$#splitlist] - 1; \n",
      "\t\tmy $endi = scalar @$exp2 - 1; \n",
      "\n",
      "\t\tmy @expf1 = (); \n",
      "\t\tmy @expf2 = ();  \n",
      "\t\tmy $j=0; \n",
      "\t\tfor($j = $start ; $j < $endi ; $j++)\n",
      "\t\t{\n",
      "\t\t\tpush(@expf1, $exp1->[$j]); \n",
      "\t\t\tpush(@expf2, $exp2->[$j]); \n",
      "\t\t}\n",
      "\n",
      "\t\tmy $temp =  &pearsoncc(\\@expf1, \\@expf2, $percent_miss); \n",
      "\t\tprint OUT \"$temp,$flag\\n\";  \n",
      "\t}\n",
      "\t\n",
      "\t$count = $count + 1;\n",
      "\t\n",
      "\tif ( $count % 5000 == 0)\n",
      "\t\t{print \"$count \";} \n",
      "}\n",
      "print \"\\n\\n ==> $count pairs !\"; \n",
      "\n",
      "close(INT);\t\t\t\t\t\n",
      "close(OUT);\n",
      "\n",
      "\n",
      "# ==================================================================================\n",
      "# here we define the subroutine to get pearson correlation coefficients\n",
      "\n",
      "\n",
      "sub pearsoncc \n",
      "{\n",
      "   my(@a) = @{$_[0]};\n",
      "   my(@b) = @{$_[1]};\n",
      "   my($percent) = $_[2];\n",
      "\n",
      "   my $i = 0;        \n",
      "   my $revalue = 0; \n",
      "   \n",
      "   my @af = (); \n",
      "   my @bf = (); \n",
      "   \n",
      "   for($i = 0 ; $i <= $#a ; $i ++)\n",
      "   {\n",
      "\tif (( $a[$i] < 90 ) && ( $b[$i] < 90))\n",
      "\t{\n",
      "\t\tpush(@af, $a[$i]); \n",
      "\t\tpush(@bf, $b[$i]);\n",
      "\t}\t\n",
      "   }\n",
      "   \n",
      "   my $n = $#af + 1; \n",
      "   if (( $#af < $#a * ( 1- $percent )) || ($n <= 1))\n",
      "   { \n",
      "   \t$revalue =  -100;\n",
      "   }    \n",
      "   else \n",
      "   {\n",
      "\t   \tmy $sum_xy = 0; \n",
      "   \t\tmy $sum_x = 0; \n",
      "\t\tmy $sum_x2 = 0;    \t\n",
      "   \t\tmy $sum_y = 0; \n",
      "   \t\tmy $sum_y2 = 0; \n",
      "   \t\n",
      "   \t\tfor($i = 0 ; $i <= $#af ; $i ++)\n",
      "   \t\t{\n",
      "   \t\t\t$sum_xy = $sum_xy + $af[$i] * $bf[$i] ; \n",
      "   \t\t\t$sum_x = $sum_x + $af[$i] ; \n",
      "\t\t\t$sum_x2 = $sum_x2 + $af[$i] * $af[$i] ;\n",
      "   \t\t\t$sum_y = $sum_y + $bf[$i] ;\n",
      "   \t\t\t$sum_y2 = $sum_y2 + $bf[$i] * $bf[$i];  \n",
      "   \t\t}\n",
      "\t\tmy $up = $sum_xy - $sum_x * $sum_y / $n ; \n",
      "        \tmy $low = ($sum_x2 - ($sum_x * $sum_x)/$n)*( $sum_y2 - ($sum_y * $sum_y)/$n);   \t\n",
      "   \t\t$revalue = $up/sqrt($low + 0.00001); \n",
      "   } \n",
      "   return($revalue); \n",
      "}\n"
     ],
     "language": "python",
     "metadata": {},
     "outputs": []
    }
   ],
   "metadata": {}
  }
 ]
}