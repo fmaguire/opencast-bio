{
 "metadata": {
  "name": "",
  "signature": "sha256:cc9574bcbf2755b644351aa593ffc377fa98eadd9aaf24fec18b6a84e4aea3c0"
 },
 "nbformat": 3,
 "nbformat_minor": 0,
 "worksheets": [
  {
   "cells": [
    {
     "cell_type": "markdown",
     "metadata": {},
     "source": [
      "# Loading the training and test set\n",
      "\n",
      "The first step is to load the training and set that was saved when running the [Training and test feature set generation notebook][genotes].\n",
      "\n",
      "[genotes]: http://nbviewer.ipython.org/github/ggray1729/opencast-bio/blob/master/notebooks/Training%20and%20test%20featureset%20generation.ipynb"
     ]
    },
    {
     "cell_type": "code",
     "collapsed": false,
     "input": [
      "cd ../../features/"
     ],
     "language": "python",
     "metadata": {},
     "outputs": [
      {
       "output_type": "stream",
       "stream": "stdout",
       "text": [
        "/data/opencast/MRes/features\n"
       ]
      }
     ],
     "prompt_number": 2
    },
    {
     "cell_type": "code",
     "collapsed": false,
     "input": [
      "!du -Dh *"
     ],
     "language": "python",
     "metadata": {},
     "outputs": [
      {
       "output_type": "stream",
       "stream": "stdout",
       "text": [
        "428K\tabundance.Entrez.full.txt\r\n",
        "8.0K\tabundance.Entrez.traintest.txt\r\n",
        "51M\tc2s.Entrez.full.txt\r\n",
        "1.5M\tc2s.Entrez.traintest.txt\r\n",
        "320K\tedgelist.proto.predictions.txt\r\n",
        "3.6M\tedgelist.proto.vectors.txt\r\n",
        "48M\thead.training.nolabel.negative.Entrez.vectors.txt\r\n",
        "1.6G\tpulldown.DIP.Entrez.vectors.txt\r\n",
        "43M\tpulldown.edges.Entrez.txt\r\n",
        "5.0M\tpulldown.interactions.interpolate.abundance.targets.txt\r\n",
        "16M\tpulldown.interactions.interpolate.affinity.targets.txt\r\n",
        "362M\tpulldown.interactions.interpolate.vectors.txt\r\n",
        "1.8G\tpulldown.nolabel.Entrez.vectors.txt\r\n",
        "724K\tpulldown.string.edges.tsv\r\n",
        "27M\ttraining.DIP.negative.affinity.txt\r\n",
        "44K\ttraining.DIP.positive.affinity.txt\r\n",
        "3.1G\ttraining.HIPPIE.negative.Entrez.vectors.txt\r\n",
        "174M\ttraining.HIPPIE.positive.Entrez.vectors.txt\r\n",
        "1.5M\ttraining.HIPPIE.positive.affinity.txt\r\n",
        "3.2G\ttraining.nolabel.negative.Entrez.vectors.txt\r\n",
        "5.1M\ttraining.nolabel.positive.Entrez.vectors.txt\r\n",
        "652M\ttraining.nolabel.proto.negative.Entrez.vectors.txt\r\n",
        "1.1M\ttraining.nolabel.proto.positive.Entrez.vectors.txt\r\n"
       ]
      }
     ],
     "prompt_number": 3
    },
    {
     "cell_type": "code",
     "collapsed": false,
     "input": [
      "posdata = loadtxt(\"training.nolabel.positive.Entrez.vectors.txt\", delimiter=\"\\t\", dtype=\"str\")"
     ],
     "language": "python",
     "metadata": {},
     "outputs": [],
     "prompt_number": 4
    },
    {
     "cell_type": "markdown",
     "metadata": {},
     "source": [
      "Training with the full negative set is impossible on this computer, it is unable to load the file into RAM.\n",
      "To get around this, can use a negative training set only 10 times larger than the positive training set:"
     ]
    },
    {
     "cell_type": "code",
     "collapsed": false,
     "input": [
      "negdata = loadtxt(\"training.nolabel.negative.Entrez.vectors.txt\", delimiter=\"\\t\", dtype=\"str\")"
     ],
     "language": "python",
     "metadata": {},
     "outputs": [],
     "prompt_number": 6
    },
    {
     "cell_type": "markdown",
     "metadata": {},
     "source": [
      "Then we need to process out the \"missing\" label strings and the numerical values should be converted to floats.\n",
      "Also, column 101 must be deleted as it contains string class labels from the ENTS classifier of unknown origin.\n",
      "More information about this can be found in the [previous version of this notebook][prev].\n",
      "\n",
      "[prev]: http://nbviewer.ipython.org/github/ggray1729/opencast-bio/blob/dfc5b8c682e835b733ca671c80f4636ba7ad7081/notebooks/Classifier%20Training.ipynb"
     ]
    },
    {
     "cell_type": "code",
     "collapsed": false,
     "input": [
      "X = np.concatenate((posdata,negdata))"
     ],
     "language": "python",
     "metadata": {},
     "outputs": [],
     "prompt_number": 7
    },
    {
     "cell_type": "code",
     "collapsed": false,
     "input": [
      "X[X==\"missing\"] = np.nan\n",
      "X = X.astype(np.float)"
     ],
     "language": "python",
     "metadata": {},
     "outputs": [],
     "prompt_number": 8
    },
    {
     "cell_type": "markdown",
     "metadata": {},
     "source": [
      "Finally we can create the target vector y from what we know about the lengths of the positive and negative sets:"
     ]
    },
    {
     "cell_type": "code",
     "collapsed": false,
     "input": [
      "#create the target y vector\n",
      "y = array([1]*len(posdata)+[0]*len(negdata))"
     ],
     "language": "python",
     "metadata": {},
     "outputs": [],
     "prompt_number": 9
    },
    {
     "cell_type": "markdown",
     "metadata": {},
     "source": [
      "# Dealing with missing data\n",
      "\n",
      "Scikit-learn has [tools specifically to deal with missing data][scikitmissing].\n",
      "We would like to impute the values for the detailed features from ENTS, as these are the only missing values we have not already dealt with.\n",
      "\n",
      "[scikitmissing]: http://scikit-learn.org/stable/modules/preprocessing.html\n",
      "[replqi]: http://nbviewer.ipython.org/github/ggray1729/opencast-bio/blob/master/notebooks/Replicating%20Qi%202006.ipynb"
     ]
    },
    {
     "cell_type": "code",
     "collapsed": false,
     "input": [
      "import sklearn.preprocessing"
     ],
     "language": "python",
     "metadata": {},
     "outputs": [],
     "prompt_number": 10
    },
    {
     "cell_type": "code",
     "collapsed": false,
     "input": [
      "imp = sklearn.preprocessing.Imputer(missing_values='NaN', strategy='mean',axis=0)"
     ],
     "language": "python",
     "metadata": {},
     "outputs": [],
     "prompt_number": 11
    },
    {
     "cell_type": "code",
     "collapsed": false,
     "input": [
      "imp.fit(X)"
     ],
     "language": "python",
     "metadata": {},
     "outputs": [
      {
       "metadata": {},
       "output_type": "pyout",
       "prompt_number": 12,
       "text": [
        "Imputer(axis=0, copy=True, missing_values='NaN', strategy='mean', verbose=0)"
       ]
      }
     ],
     "prompt_number": 12
    },
    {
     "cell_type": "code",
     "collapsed": false,
     "input": [
      "X = imp.transform(X)"
     ],
     "language": "python",
     "metadata": {},
     "outputs": [],
     "prompt_number": 13
    },
    {
     "cell_type": "code",
     "collapsed": false,
     "input": [
      "from sklearn.utils import shuffle as skshuffle"
     ],
     "language": "python",
     "metadata": {},
     "outputs": [],
     "prompt_number": 16
    },
    {
     "cell_type": "code",
     "collapsed": false,
     "input": [
      "#shuffle them together\n",
      "X,y = skshuffle(X,y)"
     ],
     "language": "python",
     "metadata": {},
     "outputs": [],
     "prompt_number": 17
    },
    {
     "cell_type": "markdown",
     "metadata": {},
     "source": [
      "# Initialising parallel processing\n",
      "\n",
      "To use parallel processing in an ipython notebook as described in the [rough notes on this][rough] first we must __start the cluster__ in the cluster tab on the home page of this ipython notebook.\n",
      "Once this is done we can initialise the client as below:\n",
      "\n",
      "[rough]: http://nbviewer.ipython.org/github/ggray1729/opencast-bio/blob/master/notebooks/Parallel%20processing%20notes.ipynb"
     ]
    },
    {
     "cell_type": "code",
     "collapsed": false,
     "input": [
      "from IPython.parallel import *"
     ],
     "language": "python",
     "metadata": {},
     "outputs": [],
     "prompt_number": 14
    },
    {
     "cell_type": "code",
     "collapsed": false,
     "input": [
      "client = Client(profile=\"default\")"
     ],
     "language": "python",
     "metadata": {},
     "outputs": [],
     "prompt_number": 15
    },
    {
     "cell_type": "markdown",
     "metadata": {},
     "source": [
      "# Visualizing the data\n",
      "\n",
      "The data has extremely high dimensionality is therefore difficult to plot.\n",
      "Options that have been identified are:\n",
      "\n",
      "* [Parallel coordinates plot][parcor]\n",
      "* [Andrews Curves][ac]\n",
      "* [Chernoff faces][faces]\n",
      "\n",
      "Alternatively, we can try to reduce the dimensionality before plotting, such as using:\n",
      "\n",
      "* [tSNE][]\n",
      "\n",
      "## Parallel coordinates plot\n",
      "\n",
      "This is implemented in [pandas][] and the documentation for it can be found [here][pcpandas].\n",
      "Using the example code on a sub-sample of the data.\n",
      "\n",
      "Can't use the pandas implementation though due to problems with the pandas version installed.\n",
      "Was unable to update it either.\n",
      "Just going to plot rows:\n",
      "\n",
      "[parcor]: http://en.wikipedia.org/wiki/Parallel_coordinates\n",
      "[ac]: http://en.wikipedia.org/wiki/Andrews_plot\n",
      "[faces]: http://en.wikipedia.org/wiki/Chernoff_face\n",
      "[pandas]: http://pandas.pydata.org/\n",
      "[pcpandas]: http://pandas.pydata.org/pandas-docs/dev/visualization.html#parallel-coordinates\n",
      "[tsne]: http://homepage.tudelft.nl/19j49/t-SNE.html"
     ]
    },
    {
     "cell_type": "code",
     "collapsed": false,
     "input": [
      "maxes = amax(abs(X),axis=0) + 1e-14"
     ],
     "language": "python",
     "metadata": {},
     "outputs": [],
     "prompt_number": 87
    },
    {
     "cell_type": "code",
     "collapsed": false,
     "input": [
      "nrows = 500\n",
      "oneindexes = where(y>0.5)\n",
      "zeroindexes = where(y<0.5)\n",
      "for rowi in list(oneindexes[0][:int(nrows/2)])+list(zeroindexes[0][:int(nrows/2)]):\n",
      "    #normalise row values\n",
      "    row = X[rowi,:]/(maxes)\n",
      "    #then just plot it\n",
      "    if y[rowi] > 0.5:\n",
      "        plot(row,color='green',alpha=0.1)\n",
      "    else:\n",
      "        plot(row,color='red',alpha=0.1)"
     ],
     "language": "python",
     "metadata": {},
     "outputs": [
      {
       "metadata": {},
       "output_type": "display_data",
       "png": "[encoded data removed]",
       "text": [
        "<matplotlib.figure.Figure at 0x5675d12d0>"
       ]
      }
     ],
     "prompt_number": 97
    },
    {
     "cell_type": "markdown",
     "metadata": {},
     "source": [
      "In the above graph green corresponds to positive training examples and red corresponds to negative training examples.\n",
      "\n",
      "Unfortunately, due to the extreme dimensionality this cannot be interpreted in as much detail as a parallel co-ordinate plot could normally be interpreted.\n",
      "As the spaces between features are very small it is difficult to discern correlations between adjacent features.\n",
      "However, we can see that some features are more useful in discriminating between positive and negative classes than others.\n",
      "\n",
      "## Andrews Curves\n",
      "\n",
      "Andrews curve plots are also [implemented in pandas][pdac].\n",
      "\n",
      "\n",
      "\n",
      "[pdac]: http://pandas.pydata.org/pandas-docs/dev/visualization.html#andrews-curves"
     ]
    },
    {
     "cell_type": "code",
     "collapsed": false,
     "input": [
      "dd"
     ],
     "language": "python",
     "metadata": {},
     "outputs": []
    },
    {
     "cell_type": "markdown",
     "metadata": {},
     "source": [
      "## Saving the results\n",
      "\n",
      "The plots should be saved as svg format so that they can be scaled or otherwise edited for the report more easily."
     ]
    },
    {
     "cell_type": "markdown",
     "metadata": {},
     "source": [
      "# Choosing a classifier\n",
      "\n",
      "Each classifier will be tested in the following ways over :\n",
      "\n",
      "* Mean accuracy\n",
      "* Combined ROC curves\n",
      "    * AUC values\n",
      "    * Partial AUC values\n",
      "* Combined Precision vs. Recall curves\n",
      "* Informational loss function\n",
      "* Quadratic loss function\n",
      "* Kappa test?\n",
      "\n",
      "The importance of different features will also be tested through elimination and repeating the tests above.\n",
      "\n",
      "Finally, a sanity check looking at the model's prediction for some well-known protein interactions is the final test.\n",
      "\n",
      "## Logistic Regression\n",
      "\n",
      "Logistic regression is a simple classifier which uses a linear transformation of the input variables through a sigmoid function."
     ]
    },
    {
     "cell_type": "code",
     "collapsed": false,
     "input": [
      "import sklearn.cross_validation"
     ],
     "language": "python",
     "metadata": {},
     "outputs": []
    },
    {
     "cell_type": "code",
     "collapsed": false,
     "input": [
      "#cross-validation\n",
      "kf = sklearn.cross_validation.KFold(y.shape[0],10)"
     ],
     "language": "python",
     "metadata": {},
     "outputs": []
    },
    {
     "cell_type": "code",
     "collapsed": false,
     "input": [
      "import sklearn.linear_model"
     ],
     "language": "python",
     "metadata": {},
     "outputs": [],
     "prompt_number": 23
    },
    {
     "cell_type": "code",
     "collapsed": false,
     "input": [
      "#defining function to run cross-validated training and tests\n",
      "def traintest(model,Xtrain,Xtest,ytrain,ytest):\n",
      "    # train the model\n",
      "    model = model.fit(Xtrain,ytrain)\n",
      "    # run scikit-learn's test\n",
      "    score = model.score(Xtest,ytest)\n",
      "    # roc curve tp and fp arrays\n",
      "    tp,fp = \n",
      "    # precision recall curve\n",
      "    "
     ],
     "language": "python",
     "metadata": {},
     "outputs": []
    },
    {
     "cell_type": "code",
     "collapsed": false,
     "input": [
      "logmodel = sklearn.linear_model.LogisticRegression()"
     ],
     "language": "python",
     "metadata": {},
     "outputs": [],
     "prompt_number": 24
    },
    {
     "cell_type": "code",
     "collapsed": false,
     "input": [
      "logmodel.fit(Xtrain,ytrain)"
     ],
     "language": "python",
     "metadata": {},
     "outputs": [
      {
       "metadata": {},
       "output_type": "pyout",
       "prompt_number": 25,
       "text": [
        "LogisticRegression(C=1.0, class_weight=None, dual=False, fit_intercept=True,\n",
        "          intercept_scaling=1, penalty='l2', random_state=None, tol=0.0001)"
       ]
      }
     ],
     "prompt_number": 25
    },
    {
     "cell_type": "code",
     "collapsed": false,
     "input": [
      "import sklearn.metrics"
     ],
     "language": "python",
     "metadata": {},
     "outputs": [],
     "prompt_number": 26
    },
    {
     "cell_type": "code",
     "collapsed": false,
     "input": [
      "def plotroc(ytest,estimates):\n",
      "    fpr, tpr, thresholds = sklearn.metrics.roc_curve(ytest,estimates[:,1])\n",
      "    clf()\n",
      "    plot(fpr, tpr)\n",
      "    plot([0, 1], [0, 1], 'k--')\n",
      "    xlim([0.0, 1.0])\n",
      "    ylim([0.0, 1.0])\n",
      "    xlabel('False Positive Rate')\n",
      "    ylabel('True Positive Rate')\n",
      "    title('Receiver operating characteristic')\n",
      "    show()\n",
      "    return None"
     ],
     "language": "python",
     "metadata": {},
     "outputs": [],
     "prompt_number": 27
    },
    {
     "cell_type": "code",
     "collapsed": false,
     "input": [
      "estimates = logmodel.predict_proba(Xtest)\n",
      "plotroc(ytest,estimates)"
     ],
     "language": "python",
     "metadata": {},
     "outputs": [
      {
       "metadata": {},
       "output_type": "display_data",
       "png": "[encoded data removed]",
       "text": [
        "<matplotlib.figure.Figure at 0x7fda38040990>"
       ]
      }
     ],
     "prompt_number": 28
    },
    {
     "cell_type": "markdown",
     "metadata": {},
     "source": [
      "The classifier has been trained at this point on a very limited dataset and there are likely to be problems with the way missing data was dealt with above.\n",
      "That probably accounts for the above extremely poor performance.\n",
      "This will be fixed in later versions."
     ]
    },
    {
     "cell_type": "markdown",
     "metadata": {},
     "source": [
      "## Ensemble classifier\n",
      "\n",
      "Trying a more complicated classifier on exactly the same data to see how much more performance I can get out of it.\n",
      "Scikit-learn supports an [Adaboost][] classifier which should be more effective than logistic regression.\n",
      "\n",
      "[adaboost]: http://scikit-learn.org/stable/modules/ensemble.html#adaboost"
     ]
    },
    {
     "cell_type": "code",
     "collapsed": false,
     "input": [
      "import sklearn.ensemble"
     ],
     "language": "python",
     "metadata": {},
     "outputs": [],
     "prompt_number": 29
    },
    {
     "cell_type": "code",
     "collapsed": false,
     "input": [
      "boostclf = sklearn.ensemble.AdaBoostClassifier(n_estimators=100)"
     ],
     "language": "python",
     "metadata": {},
     "outputs": [],
     "prompt_number": 30
    },
    {
     "cell_type": "code",
     "collapsed": false,
     "input": [
      "boostclf.fit(Xtrain,ytrain)"
     ],
     "language": "python",
     "metadata": {},
     "outputs": [
      {
       "metadata": {},
       "output_type": "pyout",
       "prompt_number": 31,
       "text": [
        "AdaBoostClassifier(algorithm='SAMME.R',\n",
        "          base_estimator=DecisionTreeClassifier(compute_importances=None, criterion='gini',\n",
        "            max_depth=1, max_features=None, min_density=None,\n",
        "            min_samples_leaf=1, min_samples_split=2, random_state=None,\n",
        "            splitter='best'),\n",
        "          learning_rate=1.0, n_estimators=100, random_state=None)"
       ]
      }
     ],
     "prompt_number": 31
    },
    {
     "cell_type": "code",
     "collapsed": false,
     "input": [
      "boostestimates = boostclf.predict_proba(Xtest)\n",
      "plotroc(ytest,boostestimates)"
     ],
     "language": "python",
     "metadata": {},
     "outputs": [
      {
       "metadata": {},
       "output_type": "display_data",
       "png": "[encoded data removed]",
       "text": [
        "<matplotlib.figure.Figure at 0x7fda37f7add0>"
       ]
      }
     ],
     "prompt_number": 32
    },
    {
     "cell_type": "markdown",
     "metadata": {},
     "source": [
      "# Feature elimination\n",
      "\n",
      "To discover which features are most important to the predictions we will repeat the cross-validated tests after removing different features."
     ]
    },
    {
     "cell_type": "code",
     "collapsed": false,
     "input": [],
     "language": "python",
     "metadata": {},
     "outputs": []
    },
    {
     "cell_type": "markdown",
     "metadata": {},
     "source": [
      "# Classifying Pulldown interactions\n",
      "\n",
      "The reason we train this classifier is to then attempt estimate probabilities that an interaction exists between proteins in the pulldown experiments, specifically those in the bait and prey lists.\n",
      "Therefore, we will apply this classifier to feature vectors corresponding to combinations of these proteins.\n",
      "\n",
      "Unfortunately, the file containing these feature vectors is extremely long, it contains many more lines than used for training as there are so many combinations of the proteins involved:"
     ]
    },
    {
     "cell_type": "code",
     "collapsed": false,
     "input": [
      "!~/qwc.sh pulldown.nolabel.Entrez.vectors.txt"
     ],
     "language": "python",
     "metadata": {},
     "outputs": [
      {
       "output_type": "stream",
       "stream": "stdout",
       "text": [
        "1797054 pulldown.nolabel.Entrez.vectors.txt\r\n"
       ]
      }
     ],
     "prompt_number": 38
    },
    {
     "cell_type": "markdown",
     "metadata": {},
     "source": [
      "What we would like to do is iterate over this entire file and produce a file containing two Entrez Gene IDs corresponding to each protein pair with a likelihood estimate in that interaction from the classifier. To limit the number of edges we have to deal with we place a limit on the probability an interaction must have before it is written to the file."
     ]
    }
   ],
   "metadata": {}
  }
 ]
}