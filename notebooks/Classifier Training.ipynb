{
 "metadata": {
  "name": "",
  "signature": "sha256:7184da0435ec32ad4a8366e6be79f935a2f5a12cd02eab2e287ecf47e6fa6a4e"
 },
 "nbformat": 3,
 "nbformat_minor": 0,
 "worksheets": [
  {
   "cells": [
    {
     "cell_type": "markdown",
     "metadata": {},
     "source": [
      "# Loading the training and test set\n",
      "\n",
      "The first step is to load the training and set that was saved when running the [Training and test feature set generation notebook][genotes].\n",
      "\n",
      "[genotes]: http://nbviewer.ipython.org/github/ggray1729/opencast-bio/blob/master/notebooks/Training%20and%20test%20featureset%20generation.ipynb"
     ]
    },
    {
     "cell_type": "code",
     "collapsed": false,
     "input": [
      "cd ../../features/"
     ],
     "language": "python",
     "metadata": {},
     "outputs": [
      {
       "output_type": "stream",
       "stream": "stdout",
       "text": [
        "/home/gavin/Documents/MRes/features\n"
       ]
      }
     ],
     "prompt_number": 6
    },
    {
     "cell_type": "code",
     "collapsed": false,
     "input": [
      "ls"
     ],
     "language": "python",
     "metadata": {},
     "outputs": [
      {
       "output_type": "stream",
       "stream": "stdout",
       "text": [
        "\u001b[0m\u001b[40m\u001b[m\u001b[01;36mabundance.Entrez.full.txt\u001b[0m@       \u001b[40m\u001b[m\u001b[00mhead.training.nolabel.negative.Entrez.vectors.txt\u001b[0m\r\n",
        "\u001b[40m\u001b[m\u001b[01;36mabundance.Entrez.traintest.txt\u001b[0m@  \u001b[40m\u001b[m\u001b[00mpulldown.edges.Entrez.txt\u001b[0m\r\n",
        "\u001b[40m\u001b[m\u001b[00mautogit.log\u001b[0m                      \u001b[40m\u001b[m\u001b[00mpulldown.nolabel.Entrez.vectors.txt\u001b[0m\r\n",
        "\u001b[40m\u001b[m\u001b[01;36mc2s.Entrez.full.txt\u001b[0m@             \u001b[40m\u001b[m\u001b[01;36mtraining.nolabel.negative.Entrez.vectors.txt\u001b[0m@\r\n",
        "\u001b[40m\u001b[m\u001b[01;36mc2s.Entrez.traintest.txt\u001b[0m@        \u001b[40m\u001b[m\u001b[01;36mtraining.nolabel.positive.Entrez.vectors.txt\u001b[0m@\r\n"
       ]
      }
     ],
     "prompt_number": 7
    },
    {
     "cell_type": "code",
     "collapsed": false,
     "input": [
      "!du -Dh *"
     ],
     "language": "python",
     "metadata": {},
     "outputs": [
      {
       "output_type": "stream",
       "stream": "stdout",
       "text": [
        "428K\tabundance.Entrez.full.txt\r\n",
        "8.0K\tabundance.Entrez.traintest.txt\r\n",
        "4.0K\tautogit.log\r\n",
        "51M\tc2s.Entrez.full.txt\r\n",
        "1.5M\tc2s.Entrez.traintest.txt\r\n",
        "48M\thead.training.nolabel.negative.Entrez.vectors.txt\r\n",
        "0\tpulldown.edges.Entrez.txt\r\n",
        "1.8G\tpulldown.nolabel.Entrez.vectors.txt\r\n",
        "2.9G\ttraining.nolabel.negative.Entrez.vectors.txt\r\n",
        "4.7M\ttraining.nolabel.positive.Entrez.vectors.txt\r\n"
       ]
      }
     ],
     "prompt_number": 8
    },
    {
     "cell_type": "code",
     "collapsed": false,
     "input": [
      "posdata = loadtxt(\"training.nolabel.positive.Entrez.vectors.txt\", delimiter=\"\\t\", dtype=\"str\")"
     ],
     "language": "python",
     "metadata": {},
     "outputs": [],
     "prompt_number": 9
    },
    {
     "cell_type": "markdown",
     "metadata": {},
     "source": [
      "Training with the full negative set is impossible on this computer, it is unable to load the file into RAM.\n",
      "To get around this, can use a negative training set only 10 times larger than the positive training set:"
     ]
    },
    {
     "cell_type": "code",
     "collapsed": false,
     "input": [
      "len(posdata)"
     ],
     "language": "python",
     "metadata": {},
     "outputs": [
      {
       "metadata": {},
       "output_type": "pyout",
       "prompt_number": 10,
       "text": [
        "4857"
       ]
      }
     ],
     "prompt_number": 10
    },
    {
     "cell_type": "code",
     "collapsed": false,
     "input": [
      "!head -n 48570 training.nolabel.negative.Entrez.vectors.txt > head.training.nolabel.negative.Entrez.vectors.txt"
     ],
     "language": "python",
     "metadata": {},
     "outputs": [],
     "prompt_number": 11
    },
    {
     "cell_type": "code",
     "collapsed": false,
     "input": [
      "negdata = loadtxt(\"head.training.nolabel.negative.Entrez.vectors.txt\", delimiter=\"\\t\", dtype=\"str\")"
     ],
     "language": "python",
     "metadata": {},
     "outputs": [],
     "prompt_number": 12
    },
    {
     "cell_type": "markdown",
     "metadata": {},
     "source": [
      "Then we need to process out the \"missing\" label strings and the numerical values should be converted to floats.\n",
      "Also, column 101 must be deleted as it contains string class labels from the ENTS classifier of unknown origin.\n",
      "More information about this can be found in the [previous version of this notebook][prev].\n",
      "\n",
      "[prev]: http://nbviewer.ipython.org/github/ggray1729/opencast-bio/blob/dfc5b8c682e835b733ca671c80f4636ba7ad7081/notebooks/Classifier%20Training.ipynb"
     ]
    },
    {
     "cell_type": "code",
     "collapsed": false,
     "input": [
      "X = np.concatenate((posdata,negdata))"
     ],
     "language": "python",
     "metadata": {},
     "outputs": [],
     "prompt_number": 13
    },
    {
     "cell_type": "code",
     "collapsed": false,
     "input": [
      "X[X==\"missing\"] = np.nan\n",
      "X = np.delete(X,101,1)\n",
      "X = X.astype(np.float)"
     ],
     "language": "python",
     "metadata": {},
     "outputs": [],
     "prompt_number": 14
    },
    {
     "cell_type": "markdown",
     "metadata": {},
     "source": [
      "Finally we can create the target vector y from what we know about the lengths of the positive and negative sets:"
     ]
    },
    {
     "cell_type": "code",
     "collapsed": false,
     "input": [
      "#create the target y vector\n",
      "y = array([1]*len(posdata)+[0]*len(negdata))"
     ],
     "language": "python",
     "metadata": {},
     "outputs": [],
     "prompt_number": 15
    },
    {
     "cell_type": "markdown",
     "metadata": {},
     "source": [
      "# Dealing with missing data\n",
      "\n",
      "Scikit-learn has [tools specifically to deal with missing data][scikitmissing].\n",
      "First, though we must get the data into the form of a large matrix with corresponding target vector as done in the notebook [Replicating Qi 2006][replqi].\n",
      "\n",
      "[scikitmissing]: http://scikit-learn.org/stable/modules/preprocessing.html\n",
      "[replqi]: http://nbviewer.ipython.org/github/ggray1729/opencast-bio/blob/master/notebooks/Replicating%20Qi%202006.ipynb"
     ]
    },
    {
     "cell_type": "markdown",
     "metadata": {},
     "source": [
      "Then we can ignorantly apply the Imputer and see what we get out of it:"
     ]
    },
    {
     "cell_type": "code",
     "collapsed": false,
     "input": [
      "import sklearn.preprocessing"
     ],
     "language": "python",
     "metadata": {},
     "outputs": [],
     "prompt_number": 16
    },
    {
     "cell_type": "code",
     "collapsed": false,
     "input": [
      "imp = sklearn.preprocessing.Imputer(missing_values='NaN', strategy='mean',axis=0)"
     ],
     "language": "python",
     "metadata": {},
     "outputs": [],
     "prompt_number": 17
    },
    {
     "cell_type": "code",
     "collapsed": false,
     "input": [
      "imp.fit(X)"
     ],
     "language": "python",
     "metadata": {},
     "outputs": [
      {
       "metadata": {},
       "output_type": "pyout",
       "prompt_number": 18,
       "text": [
        "Imputer(axis=0, copy=True, missing_values='NaN', strategy='mean', verbose=0)"
       ]
      }
     ],
     "prompt_number": 18
    },
    {
     "cell_type": "code",
     "collapsed": false,
     "input": [
      "X = imp.transform(X)"
     ],
     "language": "python",
     "metadata": {},
     "outputs": [],
     "prompt_number": 19
    },
    {
     "cell_type": "code",
     "collapsed": false,
     "input": [
      "from sklearn.utils import shuffle as skshuffle"
     ],
     "language": "python",
     "metadata": {},
     "outputs": [],
     "prompt_number": 20
    },
    {
     "cell_type": "code",
     "collapsed": false,
     "input": [
      "#shuffle them together\n",
      "X,y = skshuffle(X,y)"
     ],
     "language": "python",
     "metadata": {},
     "outputs": [],
     "prompt_number": 21
    },
    {
     "cell_type": "markdown",
     "metadata": {},
     "source": [
      "# Logistic Regression\n",
      "\n",
      "Logistic regression is a simple classifier which uses a linear transformation of the input variables through a sigmoid function.\n",
      "Fitting this model in scikit-learn is very simple, but first the data must be split into training and test:"
     ]
    },
    {
     "cell_type": "code",
     "collapsed": false,
     "input": [
      "#find the midpoint\n",
      "half = int(len(X))/2\n",
      "#split it into test and train\n",
      "Xtrain, Xtest = X[:half], X[half:]\n",
      "ytrain, ytest = y[:half], y[half:]"
     ],
     "language": "python",
     "metadata": {},
     "outputs": [],
     "prompt_number": 22
    },
    {
     "cell_type": "code",
     "collapsed": false,
     "input": [
      "import sklearn.linear_model"
     ],
     "language": "python",
     "metadata": {},
     "outputs": [],
     "prompt_number": 23
    },
    {
     "cell_type": "code",
     "collapsed": false,
     "input": [
      "logmodel = sklearn.linear_model.LogisticRegression()"
     ],
     "language": "python",
     "metadata": {},
     "outputs": [],
     "prompt_number": 24
    },
    {
     "cell_type": "code",
     "collapsed": false,
     "input": [
      "logmodel.fit(Xtrain,ytrain)"
     ],
     "language": "python",
     "metadata": {},
     "outputs": [
      {
       "metadata": {},
       "output_type": "pyout",
       "prompt_number": 25,
       "text": [
        "LogisticRegression(C=1.0, class_weight=None, dual=False, fit_intercept=True,\n",
        "          intercept_scaling=1, penalty='l2', random_state=None, tol=0.0001)"
       ]
      }
     ],
     "prompt_number": 25
    },
    {
     "cell_type": "code",
     "collapsed": false,
     "input": [
      "import sklearn.metrics"
     ],
     "language": "python",
     "metadata": {},
     "outputs": [],
     "prompt_number": 26
    },
    {
     "cell_type": "code",
     "collapsed": false,
     "input": [
      "def plotroc(ytest,estimates):\n",
      "    fpr, tpr, thresholds = sklearn.metrics.roc_curve(ytest,estimates[:,1])\n",
      "    clf()\n",
      "    plot(fpr, tpr)\n",
      "    plot([0, 1], [0, 1], 'k--')\n",
      "    xlim([0.0, 1.0])\n",
      "    ylim([0.0, 1.0])\n",
      "    xlabel('False Positive Rate')\n",
      "    ylabel('True Positive Rate')\n",
      "    title('Receiver operating characteristic')\n",
      "    show()\n",
      "    return None"
     ],
     "language": "python",
     "metadata": {},
     "outputs": [],
     "prompt_number": 27
    },
    {
     "cell_type": "code",
     "collapsed": false,
     "input": [
      "estimates = logmodel.predict_proba(Xtest)\n",
      "plotroc(ytest,estimates)"
     ],
     "language": "python",
     "metadata": {},
     "outputs": [
      {
       "metadata": {},
       "output_type": "display_data",
       "png": "[encoded data removed]",
       "text": [
        "<matplotlib.figure.Figure at 0x7fda38040990>"
       ]
      }
     ],
     "prompt_number": 28
    },
    {
     "cell_type": "markdown",
     "metadata": {},
     "source": [
      "The classifier has been trained at this point on a very limited dataset and there are likely to be problems with the way missing data was dealt with above.\n",
      "That probably accounts for the above extremely poor performance.\n",
      "This will be fixed in later versions."
     ]
    },
    {
     "cell_type": "markdown",
     "metadata": {},
     "source": [
      "## Ensemble classifier\n",
      "\n",
      "Trying a more complicated classifier on exactly the same data to see how much more performance I can get out of it.\n",
      "Scikit-learn supports an [Adaboost][] classifier which should be more effective than logistic regression.\n",
      "\n",
      "[adaboost]: http://scikit-learn.org/stable/modules/ensemble.html#adaboost"
     ]
    },
    {
     "cell_type": "code",
     "collapsed": false,
     "input": [
      "import sklearn.ensemble"
     ],
     "language": "python",
     "metadata": {},
     "outputs": [],
     "prompt_number": 29
    },
    {
     "cell_type": "code",
     "collapsed": false,
     "input": [
      "boostclf = sklearn.ensemble.AdaBoostClassifier(n_estimators=100)"
     ],
     "language": "python",
     "metadata": {},
     "outputs": [],
     "prompt_number": 30
    },
    {
     "cell_type": "code",
     "collapsed": false,
     "input": [
      "boostclf.fit(Xtrain,ytrain)"
     ],
     "language": "python",
     "metadata": {},
     "outputs": [
      {
       "metadata": {},
       "output_type": "pyout",
       "prompt_number": 31,
       "text": [
        "AdaBoostClassifier(algorithm='SAMME.R',\n",
        "          base_estimator=DecisionTreeClassifier(compute_importances=None, criterion='gini',\n",
        "            max_depth=1, max_features=None, min_density=None,\n",
        "            min_samples_leaf=1, min_samples_split=2, random_state=None,\n",
        "            splitter='best'),\n",
        "          learning_rate=1.0, n_estimators=100, random_state=None)"
       ]
      }
     ],
     "prompt_number": 31
    },
    {
     "cell_type": "code",
     "collapsed": false,
     "input": [
      "boostestimates = boostclf.predict_proba(Xtest)\n",
      "plotroc(ytest,boostestimates)"
     ],
     "language": "python",
     "metadata": {},
     "outputs": [
      {
       "metadata": {},
       "output_type": "display_data",
       "png": "[encoded data removed]",
       "text": [
        "<matplotlib.figure.Figure at 0x7fda37f7add0>"
       ]
      }
     ],
     "prompt_number": 32
    },
    {
     "cell_type": "markdown",
     "metadata": {},
     "source": [
      "# Classifying Pulldown interactions\n",
      "\n",
      "The reason we train this classifier is to then attempt estimate probabilities that an interaction exists between proteins in the pulldown experiments, specifically those in the bait and prey lists.\n",
      "Therefore, we will apply this classifier to feature vectors corresponding to combinations of these proteins.\n",
      "\n",
      "Unfortunately, the file containing these feature vectors is extremely long, it contains many more lines than used for training as there are so many combinations of the proteins involved:"
     ]
    },
    {
     "cell_type": "code",
     "collapsed": false,
     "input": [
      "!~/qwc.sh pulldown.nolabel.Entrez.vectors.txt"
     ],
     "language": "python",
     "metadata": {},
     "outputs": [
      {
       "output_type": "stream",
       "stream": "stdout",
       "text": [
        "1797054 pulldown.nolabel.Entrez.vectors.txt\r\n"
       ]
      }
     ],
     "prompt_number": 38
    },
    {
     "cell_type": "markdown",
     "metadata": {},
     "source": [
      "What we would like to do is iterate over this entire file and produce a file containing two Entrez Gene IDs corresponding to each protein pair with a likelihood estimate in that interaction from the classifier. To limit the number of edges we have to deal with we place a limit on the probability an interaction must have before it is written to the file."
     ]
    },
    {
     "cell_type": "code",
     "collapsed": false,
     "input": [
      "plimit = 0.1"
     ],
     "language": "python",
     "metadata": {},
     "outputs": [],
     "prompt_number": 33
    },
    {
     "cell_type": "code",
     "collapsed": false,
     "input": [
      "import csv"
     ],
     "language": "python",
     "metadata": {},
     "outputs": [],
     "prompt_number": 34
    },
    {
     "cell_type": "code",
     "collapsed": false,
     "input": [
      "import pdb"
     ],
     "language": "python",
     "metadata": {},
     "outputs": [],
     "prompt_number": 50
    },
    {
     "cell_type": "code",
     "collapsed": false,
     "input": [
      "f = open(\"pulldown.nolabel.Entrez.vectors.txt\")\n",
      "cr = csv.reader(f,delimiter=\"\\t\")\n",
      "fw = open(\"pulldown.edges.Entrez.txt\",\"w\")\n",
      "cw = csv.writer(fw,delimiter=\"\\t\")\n",
      "genefile = open(\"../forGAVIN/pulldown_data/pulldown.interactions.Entrez.tsv\")\n",
      "gener = csv.reader(genefile, delimiter=\"\\t\")\n",
      "lcount = 0\n",
      "for l in cr:\n",
      "    #read the vector, find the probability of interaction\n",
      "    #and write the corresponding pair with the probability of interaction\n",
      "    #if above a threshold (plimit)\n",
      "    gid = gener.next()\n",
      "    l = array(l)\n",
      "    l[l==\"missing\"] = np.nan\n",
      "    l = np.delete(l,101,0)\n",
      "    try:\n",
      "        l = l.astype(np.float)\n",
      "    except ValueError:\n",
      "        pdb.set_trace()\n",
      "    l = imp.transform(l)\n",
      "    prob = boostclf.predict_proba(l)\n",
      "    if prob[:,1] > plimit:\n",
      "        cw.writerow(gid + [\"{0}\".format(prob[:,1])])\n",
      "    if lcount%100000 == 0:\n",
      "        print \"Reached line {0}\".format(lcount)\n",
      "    lcount += 1\n",
      "genefile.close()\n",
      "fw.close()\n",
      "f.close()"
     ],
     "language": "python",
     "metadata": {},
     "outputs": [
      {
       "output_type": "stream",
       "stream": "stdout",
       "text": [
        "Reached line 0\n",
        ">"
       ]
      },
      {
       "output_type": "stream",
       "stream": "stdout",
       "text": [
        " <ipython-input-51-8e3798003382>(20)<module>()\n",
        "-> l = imp.transform(l)\n"
       ]
      },
      {
       "name": "stdout",
       "output_type": "stream",
       "stream": "stdout",
       "text": [
        "(Pdb) print l\n"
       ]
      },
      {
       "output_type": "stream",
       "stream": "stdout",
       "text": [
        "['0.63' '166545000' '34.143' '1' '0' '0' '0' '0' '0' '0' '0' '0' '0' '0'\n",
        " '1' '0' '0' '0' '0' '0' '0' '0' '0' '0' '0' '0' '0' '0' '0' '0' '0' '0'\n",
        " '0' '0' '1' '0' '1' '0' '1' '0' '0' '0' '1' '0' '0' '0' '0' '0' '0' '0'\n",
        " '0' '0' '0' '1' '0' '0' '1' '0' '1' '0' '0' '0' '0' '0' '0' '0' '1' '0'\n",
        " '0' '0' '0' '0' '0' '0' '0' '1' '0' '0' '0' '0' '0' '0' '0' '0' '0' '0'\n",
        " '0' '0' '0' '0' '0' '0' '0' 'NA' 'nan' 'nan' 'nan' 'nan' 'nan' 'nan' 'nan'\n",
        " 'nan' 'nan' 'nan' 'nan' 'nan' 'nan' 'nan' 'nan' 'nan' 'nan' 'nan' 'nan'\n",
        " 'nan' 'nan' 'nan' 'nan' 'nan' 'nan' 'nan' 'nan' 'nan' 'nan' 'nan' 'nan'\n",
        " 'nan' 'nan' 'nan' 'nan' 'nan' 'nan' 'nan' 'nan' 'nan' 'nan' 'nan' 'nan'\n",
        " 'nan' 'nan' 'nan' 'nan' 'nan' 'nan' 'nan' 'nan' 'nan' 'nan' 'nan' 'nan'\n",
        " 'nan' 'nan' 'nan' 'nan' 'nan' 'nan' 'nan' 'nan' 'nan' 'nan' 'nan' 'nan'\n",
        " 'nan' 'nan' 'nan' 'nan' 'nan' 'nan' 'nan' 'nan' 'nan' 'nan' 'nan' 'nan'\n",
        " 'nan' 'nan' 'nan' 'nan' 'nan' 'nan' 'nan' 'nan' 'nan' 'nan' 'nan' 'nan'\n",
        " 'nan' 'nan' 'nan' 'nan' 'nan' 'nan' 'nan' 'nan' 'nan' 'nan' 'nan' 'nan']\n"
       ]
      },
      {
       "name": "stdout",
       "output_type": "stream",
       "stream": "stdout",
       "text": [
        "(Pdb) l[l==\"NA\"] = np.nan\n"
       ]
      },
      {
       "output_type": "stream",
       "stream": "stdout",
       "text": [
        "*** Error in argument: '[l==\"NA\"] = np.nan'\n"
       ]
      },
      {
       "name": "stdout",
       "output_type": "stream",
       "stream": "stdout",
       "text": [
        "(Pdb) print l\n"
       ]
      },
      {
       "output_type": "stream",
       "stream": "stdout",
       "text": [
        "['0.63' '166545000' '34.143' '1' '0' '0' '0' '0' '0' '0' '0' '0' '0' '0'\n",
        " '1' '0' '0' '0' '0' '0' '0' '0' '0' '0' '0' '0' '0' '0' '0' '0' '0' '0'\n",
        " '0' '0' '1' '0' '1' '0' '1' '0' '0' '0' '1' '0' '0' '0' '0' '0' '0' '0'\n",
        " '0' '0' '0' '1' '0' '0' '1' '0' '1' '0' '0' '0' '0' '0' '0' '0' '1' '0'\n",
        " '0' '0' '0' '0' '0' '0' '0' '1' '0' '0' '0' '0' '0' '0' '0' '0' '0' '0'\n",
        " '0' '0' '0' '0' '0' '0' '0' 'NA' 'nan' 'nan' 'nan' 'nan' 'nan' 'nan' 'nan'\n",
        " 'nan' 'nan' 'nan' 'nan' 'nan' 'nan' 'nan' 'nan' 'nan' 'nan' 'nan' 'nan'\n",
        " 'nan' 'nan' 'nan' 'nan' 'nan' 'nan' 'nan' 'nan' 'nan' 'nan' 'nan' 'nan'\n",
        " 'nan' 'nan' 'nan' 'nan' 'nan' 'nan' 'nan' 'nan' 'nan' 'nan' 'nan' 'nan'\n",
        " 'nan' 'nan' 'nan' 'nan' 'nan' 'nan' 'nan' 'nan' 'nan' 'nan' 'nan' 'nan'\n",
        " 'nan' 'nan' 'nan' 'nan' 'nan' 'nan' 'nan' 'nan' 'nan' 'nan' 'nan' 'nan'\n",
        " 'nan' 'nan' 'nan' 'nan' 'nan' 'nan' 'nan' 'nan' 'nan' 'nan' 'nan' 'nan'\n",
        " 'nan' 'nan' 'nan' 'nan' 'nan' 'nan' 'nan' 'nan' 'nan' 'nan' 'nan' 'nan'\n",
        " 'nan' 'nan' 'nan' 'nan' 'nan' 'nan' 'nan' 'nan' 'nan' 'nan' 'nan' 'nan']\n"
       ]
      },
      {
       "name": "stdout",
       "output_type": "stream",
       "stream": "stdout",
       "text": [
        "(Pdb) l[l=='NA] = np.nan\n"
       ]
      },
      {
       "output_type": "stream",
       "stream": "stdout",
       "text": [
        "*** Error in argument: \"[l=='NA] = np.nan\"\n"
       ]
      },
      {
       "name": "stdout",
       "output_type": "stream",
       "stream": "stdout",
       "text": [
        "(Pdb) print type(l)\n"
       ]
      },
      {
       "output_type": "stream",
       "stream": "stdout",
       "text": [
        "<type 'numpy.ndarray'>\n"
       ]
      },
      {
       "name": "stdout",
       "output_type": "stream",
       "stream": "stdout",
       "text": [
        "(Pdb) l[l=='NA'] = np.nan\n"
       ]
      },
      {
       "output_type": "stream",
       "stream": "stdout",
       "text": [
        "*** Error in argument: \"[l=='NA'] = np.nan\"\n"
       ]
      },
      {
       "name": "stdout",
       "output_type": "stream",
       "stream": "stdout",
       "text": [
        "(Pdb) np.where(l,'NA')\n"
       ]
      },
      {
       "output_type": "stream",
       "stream": "stdout",
       "text": [
        "*** ValueError: either both or neither of x and y should be given\n"
       ]
      },
      {
       "name": "stdout",
       "output_type": "stream",
       "stream": "stdout",
       "text": [
        "(Pdb) l.where('NA')\n"
       ]
      },
      {
       "output_type": "stream",
       "stream": "stdout",
       "text": [
        "*** Error in argument: \".where('NA')\""
       ]
      },
      {
       "output_type": "stream",
       "stream": "stdout",
       "text": [
        "\n"
       ]
      },
      {
       "name": "stdout",
       "output_type": "stream",
       "stream": "stdout",
       "text": [
        "(Pdb) print lcount\n"
       ]
      },
      {
       "output_type": "stream",
       "stream": "stdout",
       "text": [
        "55713\n"
       ]
      },
      {
       "name": "stdout",
       "output_type": "stream",
       "stream": "stdout",
       "text": [
        "(Pdb) !l[l=='NA'] = np.nan\n"
       ]
      },
      {
       "name": "stdout",
       "output_type": "stream",
       "stream": "stdout",
       "text": [
        "(Pdb) print l\n"
       ]
      },
      {
       "output_type": "stream",
       "stream": "stdout",
       "text": [
        "['0.63' '166545000' '34.143' '1' '0' '0' '0' '0' '0' '0' '0' '0' '0' '0'\n",
        " '1' '0' '0' '0' '0' '0' '0' '0' '0' '0' '0' '0' '0' '0' '0' '0' '0' '0'\n",
        " '0' '0' '1' '0' '1' '0' '1' '0' '0' '0' '1' '0' '0' '0' '0' '0' '0' '0'\n",
        " '0' '0' '0' '1' '0' '0' '1' '0' '1' '0' '0' '0' '0' '0' '0' '0' '1' '0'\n",
        " '0' '0' '0' '0' '0' '0' '0' '1' '0' '0' '0' '0' '0' '0' '0' '0' '0' '0'\n",
        " '0' '0' '0' '0' '0' '0' '0' 'nan' 'nan' 'nan' 'nan' 'nan' 'nan' 'nan'\n",
        " 'nan' 'nan' 'nan' 'nan' 'nan' 'nan' 'nan' 'nan' 'nan' 'nan' 'nan' 'nan'\n",
        " 'nan' 'nan' 'nan' 'nan' 'nan' 'nan' 'nan' 'nan' 'nan' 'nan' 'nan' 'nan'\n",
        " 'nan' 'nan' 'nan' 'nan' 'nan' 'nan' 'nan' 'nan' 'nan' 'nan' 'nan' 'nan'\n",
        " 'nan' 'nan' 'nan' 'nan' 'nan' 'nan' 'nan' 'nan' 'nan' 'nan' 'nan' 'nan'\n",
        " 'nan' 'nan' 'nan' 'nan' 'nan' 'nan' 'nan' 'nan' 'nan' 'nan' 'nan' 'nan'\n",
        " 'nan' 'nan' 'nan' 'nan' 'nan' 'nan' 'nan' 'nan' 'nan' 'nan' 'nan' 'nan'\n",
        " 'nan' 'nan' 'nan' 'nan' 'nan' 'nan' 'nan' 'nan' 'nan' 'nan' 'nan' 'nan'\n",
        " 'nan' 'nan' 'nan' 'nan' 'nan' 'nan' 'nan' 'nan' 'nan' 'nan' 'nan' 'nan'\n",
        " 'nan']\n"
       ]
      },
      {
       "name": "stdout",
       "output_type": "stream",
       "stream": "stdout",
       "text": [
        "(Pdb) c\n"
       ]
      },
      {
       "output_type": "stream",
       "stream": "stdout",
       "text": [
        "Reached line 100000\n",
        ">"
       ]
      },
      {
       "output_type": "stream",
       "stream": "stdout",
       "text": [
        " <ipython-input-51-8e3798003382>(19)<module>()\n",
        "-> pdb.set_trace()\n"
       ]
      },
      {
       "name": "stdout",
       "output_type": "stream",
       "stream": "stdout",
       "text": [
        "(Pdb) print l\n"
       ]
      },
      {
       "output_type": "stream",
       "stream": "stdout",
       "text": [
        "['nan' '55467600' '21.484' '0' '1' '0' '0' '1' '0' '0' '0' '0' '0' '0' '1'\n",
        " '0' '0' '0' '0' '0' '0' '0' '0' '0' '0' '1' '0' '0' '0' '0' '0' '0' '0'\n",
        " '1' '1' '0' '1' '1' '1' '0' '0' '0' '0' '0' '0' '0' '0' '0' '0' '0' '0'\n",
        " '0' '0' '0' '0' '0' '0' '0' '0' '1' '0' '0' '0' '1' '0' '0' '0' '0' '1'\n",
        " '0' '0' '0' '0' '0' '0' '0' '0' '0' '0' '0' '0' '0' '0' '0' '0' '0' '0'\n",
        " '0' '0' '0' '0' '0' '0' 'NA' 'nan' 'nan' 'nan' 'nan' 'nan' 'nan' 'nan'\n",
        " 'nan' 'nan' 'nan' 'nan' 'nan' 'nan' 'nan' 'nan' 'nan' 'nan' 'nan' 'nan'\n",
        " 'nan' 'nan' 'nan' 'nan' 'nan' 'nan' 'nan' 'nan' 'nan' 'nan' 'nan' 'nan'\n",
        " 'nan' 'nan' 'nan' 'nan' 'nan' 'nan' 'nan' 'nan' 'nan' 'nan' 'nan' 'nan'\n",
        " 'nan' 'nan' 'nan' 'nan' 'nan' 'nan' 'nan' 'nan' 'nan' 'nan' 'nan' 'nan'\n",
        " 'nan' 'nan' 'nan' 'nan' 'nan' 'nan' 'nan' 'nan' 'nan' 'nan' 'nan' 'nan'\n",
        " 'nan' 'nan' 'nan' 'nan' 'nan' 'nan' 'nan' 'nan' 'nan' 'nan' 'nan' 'nan'\n",
        " 'nan' 'nan' 'nan' 'nan' 'nan' 'nan' 'nan' 'nan' 'nan' 'nan' 'nan' 'nan'\n",
        " 'nan' 'nan' 'nan' 'nan' 'nan' 'nan' 'nan' 'nan' 'nan' 'nan' 'nan' 'nan']\n"
       ]
      },
      {
       "name": "stdout",
       "output_type": "stream",
       "stream": "stdout",
       "text": [
        "(Pdb) print lcount\n"
       ]
      },
      {
       "output_type": "stream",
       "stream": "stdout",
       "text": [
        "137040\n"
       ]
      },
      {
       "name": "stdout",
       "output_type": "stream",
       "stream": "stdout",
       "text": [
        "(Pdb) !l[l=='NA'] = np.nan\n"
       ]
      },
      {
       "name": "stdout",
       "output_type": "stream",
       "stream": "stdout",
       "text": [
        "(Pdb) c\n"
       ]
      },
      {
       "output_type": "stream",
       "stream": "stdout",
       "text": [
        "Reached line 200000\n",
        "Reached line 300000"
       ]
      },
      {
       "output_type": "stream",
       "stream": "stdout",
       "text": [
        "\n",
        "Reached line 400000"
       ]
      },
      {
       "output_type": "stream",
       "stream": "stdout",
       "text": [
        "\n",
        "Reached line 500000"
       ]
      },
      {
       "output_type": "stream",
       "stream": "stdout",
       "text": [
        "\n",
        "Reached line 600000"
       ]
      },
      {
       "output_type": "stream",
       "stream": "stdout",
       "text": [
        "\n",
        "Reached line 700000"
       ]
      }
     ]
    }
   ],
   "metadata": {}
  }
 ]
}