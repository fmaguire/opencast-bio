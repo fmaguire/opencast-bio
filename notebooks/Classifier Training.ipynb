{
 "metadata": {
  "name": "",
  "signature": "sha256:bab03cc07c3db79f8548a130acde12c3c94de4e08d5a3a979ae50fcc68e9aa8d"
 },
 "nbformat": 3,
 "nbformat_minor": 0,
 "worksheets": [
  {
   "cells": [
    {
     "cell_type": "markdown",
     "metadata": {},
     "source": [
      "# Loading the training and test set\n",
      "\n",
      "The first step is to load the training and set that was saved when running the [Training and test feature set generation notebook][genotes].\n",
      "\n",
      "[genotes]: http://nbviewer.ipython.org/github/ggray1729/opencast-bio/blob/master/notebooks/Training%20and%20test%20featureset%20generation.ipynb"
     ]
    },
    {
     "cell_type": "code",
     "collapsed": false,
     "input": [
      "cd ../../features/"
     ],
     "language": "python",
     "metadata": {},
     "outputs": [
      {
       "output_type": "stream",
       "stream": "stdout",
       "text": [
        "/home/gavin/Documents/MRes/features\n"
       ]
      }
     ],
     "prompt_number": 1
    },
    {
     "cell_type": "code",
     "collapsed": false,
     "input": [
      "ls"
     ],
     "language": "python",
     "metadata": {},
     "outputs": [
      {
       "output_type": "stream",
       "stream": "stdout",
       "text": [
        "\u001b[0m\u001b[40m\u001b[m\u001b[01;36mabundance.Entrez.full.txt\u001b[0m@       \u001b[40m\u001b[m\u001b[01;36mc2s.Entrez.traintest.txt\u001b[0m@\r\n",
        "\u001b[40m\u001b[m\u001b[01;36mabundance.Entrez.traintest.txt\u001b[0m@  \u001b[40m\u001b[m\u001b[01;36mtraining.nolabel.negative.Entrez.vectors.txt\u001b[0m@\r\n",
        "\u001b[40m\u001b[m\u001b[00mautogit.log\u001b[0m                      \u001b[40m\u001b[m\u001b[01;36mtraining.nolabel.positive.Entrez.vectors.txt\u001b[0m@\r\n",
        "\u001b[40m\u001b[m\u001b[01;36mc2s.Entrez.full.txt\u001b[0m@\r\n"
       ]
      }
     ],
     "prompt_number": 2
    },
    {
     "cell_type": "code",
     "collapsed": false,
     "input": [
      "!du -Dh *"
     ],
     "language": "python",
     "metadata": {},
     "outputs": [
      {
       "output_type": "stream",
       "stream": "stdout",
       "text": [
        "428K\tabundance.Entrez.full.txt\r\n"
       ]
      },
      {
       "output_type": "stream",
       "stream": "stdout",
       "text": [
        "8.0K\tabundance.Entrez.traintest.txt\r\n",
        "4.0K\tautogit.log\r\n"
       ]
      },
      {
       "output_type": "stream",
       "stream": "stdout",
       "text": [
        "51M\tc2s.Entrez.full.txt\r\n"
       ]
      },
      {
       "output_type": "stream",
       "stream": "stdout",
       "text": [
        "1.5M\tc2s.Entrez.traintest.txt\r\n",
        "2.9G\ttraining.nolabel.negative.Entrez.vectors.txt\r\n",
        "4.7M\ttraining.nolabel.positive.Entrez.vectors.txt\r\n"
       ]
      }
     ],
     "prompt_number": 3
    },
    {
     "cell_type": "markdown",
     "metadata": {},
     "source": [
      "Unfortunately, those files are too big to load with pandas on this computer.\n",
      "In the mean time, to get the code written we will use a shortened version:"
     ]
    },
    {
     "cell_type": "code",
     "collapsed": false,
     "input": [
      "!head -n 100 training.nolabel.positive.Entrez.vectors.txt > head.training.nolabel.positive.Entrez.vectors.txt"
     ],
     "language": "python",
     "metadata": {},
     "outputs": [],
     "prompt_number": 4
    },
    {
     "cell_type": "markdown",
     "metadata": {},
     "source": [
      "Approximately 600 more negative training examples than positive required:"
     ]
    },
    {
     "cell_type": "code",
     "collapsed": false,
     "input": [
      "!head -n 60000 training.nolabel.negative.Entrez.vectors.txt > head.training.nolabel.negative.Entrez.vectors.txt"
     ],
     "language": "python",
     "metadata": {},
     "outputs": [],
     "prompt_number": 5
    },
    {
     "cell_type": "code",
     "collapsed": false,
     "input": [
      "import pandas as pd"
     ],
     "language": "python",
     "metadata": {},
     "outputs": [
      {
       "output_type": "stream",
       "stream": "stderr",
       "text": [
        "/usr/lib/python2.7/site-packages/pandas/io/excel.py:626: UserWarning: Installed openpyxl is not supported at this time. Use >=1.6.1 and <2.0.0.\n",
        "  .format(openpyxl_compat.start_ver, openpyxl_compat.stop_ver))\n"
       ]
      }
     ],
     "prompt_number": 6
    },
    {
     "cell_type": "code",
     "collapsed": false,
     "input": [
      "posdata = pd.read_csv(\"head.training.nolabel.positive.Entrez.vectors.txt\", delimiter=\"\\t\",header=None)"
     ],
     "language": "python",
     "metadata": {},
     "outputs": [],
     "prompt_number": 7
    },
    {
     "cell_type": "code",
     "collapsed": false,
     "input": [
      "negdata = pd.read_csv(\"head.training.nolabel.negative.Entrez.vectors.txt\", delimiter=\"\\t\",header=None)"
     ],
     "language": "python",
     "metadata": {},
     "outputs": [],
     "prompt_number": 8
    },
    {
     "cell_type": "code",
     "collapsed": false,
     "input": [
      "posdata.head()"
     ],
     "language": "python",
     "metadata": {},
     "outputs": [
      {
       "html": [
        "<div style=\"max-height:1000px;max-width:1500px;overflow:auto;\">\n",
        "<table border=\"1\" class=\"dataframe\">\n",
        "  <thead>\n",
        "    <tr style=\"text-align: right;\">\n",
        "      <th></th>\n",
        "      <th>0</th>\n",
        "      <th>1</th>\n",
        "      <th>2</th>\n",
        "      <th>3</th>\n",
        "      <th>4</th>\n",
        "      <th>5</th>\n",
        "      <th>6</th>\n",
        "      <th>7</th>\n",
        "      <th>8</th>\n",
        "      <th>9</th>\n",
        "      <th>...</th>\n",
        "      <th>188</th>\n",
        "      <th>189</th>\n",
        "      <th>190</th>\n",
        "      <th>191</th>\n",
        "      <th>192</th>\n",
        "      <th>193</th>\n",
        "      <th>194</th>\n",
        "      <th>195</th>\n",
        "      <th>196</th>\n",
        "      <th>197</th>\n",
        "    </tr>\n",
        "  </thead>\n",
        "  <tbody>\n",
        "    <tr>\n",
        "      <th>0</th>\n",
        "      <td>    0.86</td>\n",
        "      <td> missing</td>\n",
        "      <td> missing</td>\n",
        "      <td> 0</td>\n",
        "      <td> 0</td>\n",
        "      <td> 0</td>\n",
        "      <td> 0</td>\n",
        "      <td> 0</td>\n",
        "      <td> 0</td>\n",
        "      <td> 0</td>\n",
        "      <td>...</td>\n",
        "      <td> missing</td>\n",
        "      <td> missing</td>\n",
        "      <td> missing</td>\n",
        "      <td> missing</td>\n",
        "      <td> missing</td>\n",
        "      <td> missing</td>\n",
        "      <td> missing</td>\n",
        "      <td>  missing</td>\n",
        "      <td>  missing</td>\n",
        "      <td>  missing</td>\n",
        "    </tr>\n",
        "    <tr>\n",
        "      <th>1</th>\n",
        "      <td>    0.97</td>\n",
        "      <td> missing</td>\n",
        "      <td> missing</td>\n",
        "      <td> 0</td>\n",
        "      <td> 0</td>\n",
        "      <td> 0</td>\n",
        "      <td> 0</td>\n",
        "      <td> 0</td>\n",
        "      <td> 0</td>\n",
        "      <td> 0</td>\n",
        "      <td>...</td>\n",
        "      <td>       0</td>\n",
        "      <td>       0</td>\n",
        "      <td>       0</td>\n",
        "      <td>       1</td>\n",
        "      <td>       0</td>\n",
        "      <td>       0</td>\n",
        "      <td>       0</td>\n",
        "      <td> 0.011168</td>\n",
        "      <td> 0.023816</td>\n",
        "      <td> 0.002476</td>\n",
        "    </tr>\n",
        "    <tr>\n",
        "      <th>2</th>\n",
        "      <td>     0.9</td>\n",
        "      <td> missing</td>\n",
        "      <td> missing</td>\n",
        "      <td> 1</td>\n",
        "      <td> 0</td>\n",
        "      <td> 0</td>\n",
        "      <td> 0</td>\n",
        "      <td> 0</td>\n",
        "      <td> 0</td>\n",
        "      <td> 0</td>\n",
        "      <td>...</td>\n",
        "      <td> missing</td>\n",
        "      <td> missing</td>\n",
        "      <td> missing</td>\n",
        "      <td> missing</td>\n",
        "      <td> missing</td>\n",
        "      <td> missing</td>\n",
        "      <td> missing</td>\n",
        "      <td>  missing</td>\n",
        "      <td>  missing</td>\n",
        "      <td>  missing</td>\n",
        "    </tr>\n",
        "    <tr>\n",
        "      <th>3</th>\n",
        "      <td>    0.62</td>\n",
        "      <td> missing</td>\n",
        "      <td> missing</td>\n",
        "      <td> 1</td>\n",
        "      <td> 0</td>\n",
        "      <td> 0</td>\n",
        "      <td> 0</td>\n",
        "      <td> 0</td>\n",
        "      <td> 0</td>\n",
        "      <td> 0</td>\n",
        "      <td>...</td>\n",
        "      <td> missing</td>\n",
        "      <td> missing</td>\n",
        "      <td> missing</td>\n",
        "      <td> missing</td>\n",
        "      <td> missing</td>\n",
        "      <td> missing</td>\n",
        "      <td> missing</td>\n",
        "      <td>  missing</td>\n",
        "      <td>  missing</td>\n",
        "      <td>  missing</td>\n",
        "    </tr>\n",
        "    <tr>\n",
        "      <th>4</th>\n",
        "      <td> missing</td>\n",
        "      <td> missing</td>\n",
        "      <td> missing</td>\n",
        "      <td> 1</td>\n",
        "      <td> 0</td>\n",
        "      <td> 0</td>\n",
        "      <td> 1</td>\n",
        "      <td> 0</td>\n",
        "      <td> 0</td>\n",
        "      <td> 0</td>\n",
        "      <td>...</td>\n",
        "      <td> missing</td>\n",
        "      <td> missing</td>\n",
        "      <td> missing</td>\n",
        "      <td> missing</td>\n",
        "      <td> missing</td>\n",
        "      <td> missing</td>\n",
        "      <td> missing</td>\n",
        "      <td>  missing</td>\n",
        "      <td>  missing</td>\n",
        "      <td>  missing</td>\n",
        "    </tr>\n",
        "  </tbody>\n",
        "</table>\n",
        "<p>5 rows \u00d7 198 columns</p>\n",
        "</div>"
       ],
       "metadata": {},
       "output_type": "pyout",
       "prompt_number": 11,
       "text": [
        "       0        1        2    3    4    5    6    7    8    9   ...       188  \\\n",
        "0     0.86  missing  missing    0    0    0    0    0    0    0 ...   missing   \n",
        "1     0.97  missing  missing    0    0    0    0    0    0    0 ...         0   \n",
        "2      0.9  missing  missing    1    0    0    0    0    0    0 ...   missing   \n",
        "3     0.62  missing  missing    1    0    0    0    0    0    0 ...   missing   \n",
        "4  missing  missing  missing    1    0    0    1    0    0    0 ...   missing   \n",
        "\n",
        "       189      190      191      192      193      194       195       196  \\\n",
        "0  missing  missing  missing  missing  missing  missing   missing   missing   \n",
        "1        0        0        1        0        0        0  0.011168  0.023816   \n",
        "2  missing  missing  missing  missing  missing  missing   missing   missing   \n",
        "3  missing  missing  missing  missing  missing  missing   missing   missing   \n",
        "4  missing  missing  missing  missing  missing  missing   missing   missing   \n",
        "\n",
        "        197  \n",
        "0   missing  \n",
        "1  0.002476  \n",
        "2   missing  \n",
        "3   missing  \n",
        "4   missing  \n",
        "\n",
        "[5 rows x 198 columns]"
       ]
      }
     ],
     "prompt_number": 11
    },
    {
     "cell_type": "markdown",
     "metadata": {},
     "source": [
      "# Dealing with missing data\n",
      "\n",
      "Scikit-learn has [tools specifically to deal with missing data][scikitmissing].\n",
      "First, though we must get the data into the form of a large matrix with corresponding target vector as done in the notebook [Replicating Qi 2006][replqi].\n",
      "\n",
      "[scikitmissing]: http://scikit-learn.org/stable/modules/preprocessing.html\n",
      "[replqi]: http://nbviewer.ipython.org/github/ggray1729/opencast-bio/blob/master/notebooks/Replicating%20Qi%202006.ipynb"
     ]
    },
    {
     "cell_type": "code",
     "collapsed": false,
     "input": [
      "from sklearn.utils import shuffle as skshuffle"
     ],
     "language": "python",
     "metadata": {},
     "outputs": [],
     "prompt_number": 19
    },
    {
     "cell_type": "code",
     "collapsed": false,
     "input": [
      "#concat negative and positive datasets together:\n",
      "X = pd.concat((posdata.iloc[:],negdata.iloc[:]))\n",
      "#create the target y vector\n",
      "y = array([1]*len(posdata)+[0]*len(negdata))\n",
      "#shuffle them together\n",
      "X,y = skshuffle(X.values,y)"
     ],
     "language": "python",
     "metadata": {},
     "outputs": [],
     "prompt_number": 20
    },
    {
     "cell_type": "markdown",
     "metadata": {},
     "source": [
      "Then we can ignorantly apply the Imputer and see what we get out of it:"
     ]
    },
    {
     "cell_type": "code",
     "collapsed": false,
     "input": [
      "import sklearn.preprocessing"
     ],
     "language": "python",
     "metadata": {},
     "outputs": [],
     "prompt_number": 23
    },
    {
     "cell_type": "code",
     "collapsed": false,
     "input": [
      "imp = sklearn.preprocessing.Imputer(missing_values='NaN', strategy='mean',axis=0)"
     ],
     "language": "python",
     "metadata": {},
     "outputs": [],
     "prompt_number": 28
    },
    {
     "cell_type": "code",
     "collapsed": false,
     "input": [
      "X[X == 'missing'] = np.nan"
     ],
     "language": "python",
     "metadata": {},
     "outputs": [],
     "prompt_number": 30
    },
    {
     "cell_type": "markdown",
     "metadata": {},
     "source": [
      "Unfortunately, was still unable to fit the Imputer as I was finding a \"MC\" string in the data.\n",
      "It appears that this is something to do with the encoding of the data from ENTS.\n",
      "The 101th column is encoded in string form.\n",
      "Unfortunately, the [table describing these features is not indexed][entsfeaturetable] so I don't know what these different classes mean.\n",
      "\n",
      "The easiest way to continue will therefore be to [remove this column][npdelete]:\n",
      "\n",
      "[entsfeaturetable]: http://www.biomedcentral.com/content/supplementary/1471-2164-14-608-s1.pdf\n",
      "[npdelete]: http://docs.scipy.org/doc/numpy/reference/generated/numpy.delete.html"
     ]
    },
    {
     "cell_type": "code",
     "collapsed": false,
     "input": [
      "X = np.delete(X,101,1)"
     ],
     "language": "python",
     "metadata": {},
     "outputs": [],
     "prompt_number": 39
    },
    {
     "cell_type": "code",
     "collapsed": false,
     "input": [
      "imp.fit(X)"
     ],
     "language": "python",
     "metadata": {},
     "outputs": [
      {
       "metadata": {},
       "output_type": "pyout",
       "prompt_number": 42,
       "text": [
        "Imputer(axis=0, copy=True, missing_values='NaN', strategy='mean', verbose=0)"
       ]
      }
     ],
     "prompt_number": 42
    },
    {
     "cell_type": "code",
     "collapsed": false,
     "input": [
      "X = imp.transform(X)"
     ],
     "language": "python",
     "metadata": {},
     "outputs": [],
     "prompt_number": 43
    },
    {
     "cell_type": "markdown",
     "metadata": {},
     "source": [
      "# Logistic Regression\n",
      "\n",
      "Logistic regression is a simple classifier which uses a linear transformation of the input variables through a sigmoid function.\n",
      "Fitting this model in scikit-learn is very simple, but first the data must be split into training and test:"
     ]
    },
    {
     "cell_type": "code",
     "collapsed": false,
     "input": [
      "#find the midpoint\n",
      "half = int(len(X))/2\n",
      "#split it into test and train\n",
      "Xtrain, Xtest = X[:half], X[half:]\n",
      "ytrain, ytest = y[:half], y[half:]"
     ],
     "language": "python",
     "metadata": {},
     "outputs": [],
     "prompt_number": 45
    },
    {
     "cell_type": "code",
     "collapsed": false,
     "input": [
      "import sklearn.linear_model"
     ],
     "language": "python",
     "metadata": {},
     "outputs": [],
     "prompt_number": 47
    },
    {
     "cell_type": "code",
     "collapsed": false,
     "input": [
      "logmodel = sklearn.linear_model.LogisticRegression()"
     ],
     "language": "python",
     "metadata": {},
     "outputs": [],
     "prompt_number": 48
    },
    {
     "cell_type": "code",
     "collapsed": false,
     "input": [
      "logmodel.fit(Xtrain,ytrain)"
     ],
     "language": "python",
     "metadata": {},
     "outputs": [
      {
       "metadata": {},
       "output_type": "pyout",
       "prompt_number": 49,
       "text": [
        "LogisticRegression(C=1.0, class_weight=None, dual=False, fit_intercept=True,\n",
        "          intercept_scaling=1, penalty='l2', random_state=None, tol=0.0001)"
       ]
      }
     ],
     "prompt_number": 49
    },
    {
     "cell_type": "code",
     "collapsed": false,
     "input": [
      "import sklearn.metrics"
     ],
     "language": "python",
     "metadata": {},
     "outputs": [],
     "prompt_number": 50
    },
    {
     "cell_type": "code",
     "collapsed": false,
     "input": [
      "def plotroc(ytest,estimates):\n",
      "    fpr, tpr, thresholds = sklearn.metrics.roc_curve(ytest,estimates[:,1])\n",
      "    clf()\n",
      "    plot(fpr, tpr)\n",
      "    plot([0, 1], [0, 1], 'k--')\n",
      "    xlim([0.0, 1.0])\n",
      "    ylim([0.0, 1.0])\n",
      "    xlabel('False Positive Rate')\n",
      "    ylabel('True Positive Rate')\n",
      "    title('Receiver operating characteristic')\n",
      "    show()\n",
      "    return None"
     ],
     "language": "python",
     "metadata": {},
     "outputs": [],
     "prompt_number": 51
    },
    {
     "cell_type": "code",
     "collapsed": false,
     "input": [
      "estimates = logmodel.predict_proba(Xtest)\n",
      "plotroc(ytest,estimates)"
     ],
     "language": "python",
     "metadata": {},
     "outputs": [
      {
       "metadata": {},
       "output_type": "display_data",
       "png": "[encoded data removed]",
       "text": [
        "<matplotlib.figure.Figure at 0x7fa9c248e050>"
       ]
      }
     ],
     "prompt_number": 52
    },
    {
     "cell_type": "markdown",
     "metadata": {},
     "source": [
      "The classifier has been trained at this point on a very limited dataset and there are likely to be problems with the way missing data was dealt with above.\n",
      "That probably accounts for the above extremely poor performance."
     ]
    }
   ],
   "metadata": {}
  }
 ]
}