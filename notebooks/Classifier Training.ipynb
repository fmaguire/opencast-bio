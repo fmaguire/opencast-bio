{
 "metadata": {
  "name": "",
  "signature": "sha256:99771a5a10ff74c31c187f8074835a1bee5544d1054e13c429dc17447cfb2fd9"
 },
 "nbformat": 3,
 "nbformat_minor": 0,
 "worksheets": [
  {
   "cells": [
    {
     "cell_type": "code",
     "collapsed": false,
     "input": [
      "%matplotlib inline\n",
      "import matplotlib.pyplot as plt\n",
      "import numpy as np\n",
      "# Some nice default configuration for plots\n",
      "plt.rcParams['figure.figsize'] = 10, 7.5\n",
      "plt.rcParams['axes.grid'] = True\n",
      "plt.gray()"
     ],
     "language": "python",
     "metadata": {},
     "outputs": [
      {
       "metadata": {},
       "output_type": "display_data",
       "text": [
        "<matplotlib.figure.Figure at 0x2b8fc50>"
       ]
      }
     ],
     "prompt_number": 1
    },
    {
     "cell_type": "markdown",
     "metadata": {},
     "source": [
      "# Loading the training and test set\n",
      "\n",
      "The first step is to load the training and set that was saved when running the [Training and test feature set generation notebook][genotes].\n",
      "\n",
      "[genotes]: http://nbviewer.ipython.org/github/ggray1729/opencast-bio/blob/master/notebooks/Training%20and%20test%20featureset%20generation.ipynb"
     ]
    },
    {
     "cell_type": "code",
     "collapsed": false,
     "input": [
      "cd ../../features/"
     ],
     "language": "python",
     "metadata": {},
     "outputs": [
      {
       "output_type": "stream",
       "stream": "stdout",
       "text": [
        "/data/opencast/MRes/features\n"
       ]
      }
     ],
     "prompt_number": 2
    },
    {
     "cell_type": "code",
     "collapsed": false,
     "input": [
      "posdata = loadtxt(\"human.iRefIndex.positive.vectors.txt\", delimiter=\"\\t\", dtype=\"str\")"
     ],
     "language": "python",
     "metadata": {},
     "outputs": [],
     "prompt_number": 4
    },
    {
     "cell_type": "markdown",
     "metadata": {},
     "source": [
      "Training with the full negative set is impossible on this computer, it is unable to load the file into RAM.\n",
      "To get around this, can use a negative training set only 10 times larger than the positive training set:"
     ]
    },
    {
     "cell_type": "code",
     "collapsed": false,
     "input": [
      "negdata = loadtxt(\"human.iRefIndex.negative.vectors.txt\", delimiter=\"\\t\", dtype=\"str\")"
     ],
     "language": "python",
     "metadata": {},
     "outputs": [],
     "prompt_number": 5
    },
    {
     "cell_type": "markdown",
     "metadata": {},
     "source": [
      "There are some conflicting entries in this notebook detected in the [training and test set generation][traintest].\n",
      "These can be removed using their indexes:\n",
      "\n",
      "[traintest]: http://nbviewer.ipython.org/github/ggray1729/opencast-bio/blob/master/notebooks/Classifier%20Training%20HIPPIE.ipynb"
     ]
    },
    {
     "cell_type": "code",
     "collapsed": false,
     "input": [
      "X = np.concatenate((posdata,negdata))"
     ],
     "language": "python",
     "metadata": {},
     "outputs": [],
     "prompt_number": 8
    },
    {
     "cell_type": "code",
     "collapsed": false,
     "input": [
      "plottablerows = X==\"missing\"\n",
      "plottablerows = where(plottablerows.max(axis=1)==False)"
     ],
     "language": "python",
     "metadata": {},
     "outputs": [],
     "prompt_number": 9
    },
    {
     "cell_type": "markdown",
     "metadata": {},
     "source": [
      "Unfortunately, some \"NA\" strings have sneaked in somehow, so we will have to zero these. Appears to be due to a feature in Gene_Ontology:"
     ]
    },
    {
     "cell_type": "code",
     "collapsed": false,
     "input": [
      "NAinds = where(X==\"NA\")"
     ],
     "language": "python",
     "metadata": {},
     "outputs": [],
     "prompt_number": 10
    },
    {
     "cell_type": "code",
     "collapsed": false,
     "input": [
      "X[NAinds] = 0.0"
     ],
     "language": "python",
     "metadata": {},
     "outputs": [],
     "prompt_number": 11
    },
    {
     "cell_type": "code",
     "collapsed": true,
     "input": [
      "X[X==\"missing\"] = np.nan\n",
      "X = X.astype(np.float)"
     ],
     "language": "python",
     "metadata": {},
     "outputs": [],
     "prompt_number": 12
    },
    {
     "cell_type": "markdown",
     "metadata": {},
     "source": [
      "Finally we can create the target vector y from what we know about the lengths of the positive and negative sets:"
     ]
    },
    {
     "cell_type": "code",
     "collapsed": false,
     "input": [
      "#create the target y vector\n",
      "y = array([1]*len(posdata)+[0]*len(negdata))"
     ],
     "language": "python",
     "metadata": {},
     "outputs": [],
     "prompt_number": 13
    },
    {
     "cell_type": "markdown",
     "metadata": {},
     "source": [
      "## Creating a proportional training set\n",
      "\n",
      "We would like the training set we use to reflect our prior estimation that only one in every 600 combinations of protein identifiers is a true interaction. To ensure that our training set also reflects this we need to sample from it to maintain this proportion of positive to negative.\n",
      "\n",
      "An efficient way to do this is to create a modified y vector which is in proportion and maps back to the original y vector.\n",
      "Then, after calling StatifiedShuffleSplit the returned indices can be transformed back to the correct indices on the original y vector:"
     ]
    },
    {
     "cell_type": "code",
     "collapsed": false,
     "input": [
      "def propy(y,samplesize=20000):\n",
      "    \"\"\"Function to produce proportional samples of y from the full dataset.\n",
      "    Takes as an input: y - the vector of class labels, samplesize - size of sample \n",
      "    Outputs: mody - modified y vector, transformdict - dictionary to map between indices\"\"\"\n",
      "    enuy = list(enumerate(y))\n",
      "    shuffle(enuy)\n",
      "    nones = int(samplesize/600)\n",
      "    nzeros = int((samplesize*599)/600)\n",
      "    transformdict = {}\n",
      "    mody = []\n",
      "    #iterate over this list and pull out the required number of ones and zeros\n",
      "    for j,(i,label) in enumerate(enuy):\n",
      "        if label == 1 and nones > 0:\n",
      "            transformdict[j] = i\n",
      "            mody.append(label)\n",
      "            nones += -1\n",
      "        elif label == 0 and nzeros > 0:\n",
      "            transformdict[j] = i\n",
      "            mody.append(label)\n",
      "            nzeros += -1\n",
      "        if nzeros == 0 and nones == 0:\n",
      "            break\n",
      "    return mody, transformdict"
     ],
     "language": "python",
     "metadata": {},
     "outputs": [],
     "prompt_number": 28
    },
    {
     "cell_type": "markdown",
     "metadata": {},
     "source": [
      "Then all that's required is to create a sub-sampled, but still large, version of the X and y vectors:"
     ]
    },
    {
     "cell_type": "code",
     "collapsed": false,
     "input": [
      "mody,tfdict = propy(y,samplesize=400000)"
     ],
     "language": "python",
     "metadata": {},
     "outputs": [],
     "prompt_number": 32
    },
    {
     "cell_type": "code",
     "collapsed": false,
     "input": [
      "propindexes = array(tfdict.values())\n",
      "X,y = X[propindexes],y[propindexes]"
     ],
     "language": "python",
     "metadata": {},
     "outputs": [],
     "prompt_number": 33
    },
    {
     "cell_type": "code",
     "collapsed": false,
     "input": [
      "len(X),len(y)"
     ],
     "language": "python",
     "metadata": {},
     "outputs": [
      {
       "metadata": {},
       "output_type": "pyout",
       "prompt_number": 34,
       "text": [
        "(399999, 399999)"
       ]
      }
     ],
     "prompt_number": 34
    },
    {
     "cell_type": "markdown",
     "metadata": {},
     "source": [
      "# Choosing a classifier\n",
      "\n",
      "Each classifier will be tested in the following ways over :\n",
      "\n",
      "* Mean accuracy\n",
      "* Combined ROC curves\n",
      "    * AUC values\n",
      "    * Partial AUC values\n",
      "* Combined Precision vs. Recall curves\n",
      "* Informational loss function\n",
      "* Quadratic loss function\n",
      "* Kappa test?\n",
      "\n",
      "The importance of different features will also be tested through elimination and repeating the tests above.\n",
      "\n",
      "Finally, a sanity check looking at the model's prediction for some well-known protein interactions is the final test.\n",
      "\n",
      "## Logistic Regression\n",
      "\n",
      "Logistic regression is a simple classifier which uses a linear transformation of the input variables through a sigmoid function."
     ]
    },
    {
     "cell_type": "code",
     "collapsed": false,
     "input": [
      "cd tmp/"
     ],
     "language": "python",
     "metadata": {},
     "outputs": [
      {
       "output_type": "stream",
       "stream": "stdout",
       "text": [
        "/data/opencast/MRes/features/tmp\n"
       ]
      }
     ],
     "prompt_number": 38
    },
    {
     "cell_type": "code",
     "collapsed": false,
     "input": [
      "import sklearn.linear_model"
     ],
     "language": "python",
     "metadata": {},
     "outputs": [],
     "prompt_number": 39
    },
    {
     "cell_type": "code",
     "collapsed": false,
     "input": [
      "import sys, os\n",
      "sys.path.append(os.path.abspath(\"../../opencast-bio/\"))"
     ],
     "language": "python",
     "metadata": {},
     "outputs": [],
     "prompt_number": 40
    },
    {
     "cell_type": "code",
     "collapsed": false,
     "input": [
      "import ocbio.model_selection, ocbio.mmap_utils\n",
      "reload(ocbio.model_selection)\n",
      "reload(ocbio.mmap_utils)"
     ],
     "language": "python",
     "metadata": {},
     "outputs": [
      {
       "metadata": {},
       "output_type": "pyout",
       "prompt_number": 41,
       "text": [
        "<module 'ocbio.mmap_utils' from '/data/opencast/MRes/opencast-bio/ocbio/mmap_utils.pyc'>"
       ]
      }
     ],
     "prompt_number": 41
    },
    {
     "cell_type": "code",
     "collapsed": false,
     "input": [
      "!ipcluster stop"
     ],
     "language": "python",
     "metadata": {},
     "outputs": [
      {
       "output_type": "stream",
       "stream": "stdout",
       "text": [
        "2014-08-04 18:14:13.824 [IPClusterStop] Using existing profile dir: u'/home/fin/.ipython/profile_default'\r\n",
        "2014-08-04 18:14:13.855 [IPClusterStop] Stopping cluster [pid=64652] with [signal=2]\r\n"
       ]
      }
     ],
     "prompt_number": 42
    },
    {
     "cell_type": "code",
     "collapsed": false,
     "input": [
      "!ipcluster start -n=10 --daemon"
     ],
     "language": "python",
     "metadata": {},
     "outputs": [
      {
       "output_type": "stream",
       "stream": "stdout",
       "text": [
        "2014-08-04 18:30:38.221 [IPClusterStart] Using existing profile dir: u'/home/fin/.ipython/profile_default'\r\n"
       ]
      }
     ],
     "prompt_number": 57
    },
    {
     "cell_type": "code",
     "collapsed": false,
     "input": [
      "from IPython.parallel import *"
     ],
     "language": "python",
     "metadata": {},
     "outputs": [],
     "prompt_number": 58
    },
    {
     "cell_type": "code",
     "collapsed": false,
     "input": [
      "client = Client(profile='default')"
     ],
     "language": "python",
     "metadata": {},
     "outputs": [],
     "prompt_number": 59
    },
    {
     "cell_type": "code",
     "collapsed": false,
     "input": [
      "#initialise load balanced distributed processing\n",
      "lb_view = client.load_balanced_view()"
     ],
     "language": "python",
     "metadata": {},
     "outputs": [],
     "prompt_number": 60
    },
    {
     "cell_type": "markdown",
     "metadata": {},
     "source": [
      "### Defining pipeline\n",
      "\n",
      "We have to define a pipeline for the data to include two transformations for the data:\n",
      "\n",
      "* Imputing missing values\n",
      "* Standard scaling of the feature vectors\n",
      "\n",
      "Both of these are built in operations of Scikit-learn.\n",
      "And they can be easily integrated to a pipeline in Scikit-learn."
     ]
    },
    {
     "cell_type": "code",
     "collapsed": false,
     "input": [
      "import sklearn.pipeline, sklearn.preprocessing"
     ],
     "language": "python",
     "metadata": {},
     "outputs": [],
     "prompt_number": 47
    },
    {
     "cell_type": "code",
     "collapsed": false,
     "input": [
      "imputer = sklearn.preprocessing.Imputer(strategy='mean',missing_values=\"NaN\")\n",
      "scaler = sklearn.preprocessing.StandardScaler()\n",
      "classifier = sklearn.linear_model.LogisticRegression()\n",
      "model = sklearn.pipeline.Pipeline([('imp',imputer),('scl',scaler),('cls',classifier)])"
     ],
     "language": "python",
     "metadata": {},
     "outputs": [],
     "prompt_number": 48
    },
    {
     "cell_type": "markdown",
     "metadata": {},
     "source": [
      "### Plotting a learning curve\n",
      "\n",
      "We would like to plot a learning curve to get an idea of the required size of our training set to train a model on k-fold validation steps to get valid results.\n",
      "Until we decide on a final classifier it is preferable to be able to run fast iterations of different parameters for more complex parameters than to absolutely maximimise performance.\n",
      "A learning curve plots the performance of the algorithm on the training and test set for different training set sizes.\n",
      "\n",
      "As with the imported code, much of this code is taken from the excellent [parallel machine learning tutorial][parml] by Oliver Grisel.\n",
      "\n",
      "[parml]: https://github.com/ogrisel/parallel_ml_tutorial"
     ]
    },
    {
     "cell_type": "code",
     "collapsed": false,
     "input": [
      "trainsizes=logspace(3,5,5)\n",
      "#initialise and start run\n",
      "lcsearch = ocbio.model_selection.LearningCurve(lb_view)\n",
      "lcsearch.launch_for_arrays(model,X,y,trainsizes,n_cv_iter=5,params={'cls__C':0.316}, name=\"lrlc\")"
     ],
     "language": "python",
     "metadata": {},
     "outputs": [
      {
       "metadata": {},
       "output_type": "pyout",
       "prompt_number": 49,
       "text": [
        "Progress: 00% (000/125)"
       ]
      }
     ],
     "prompt_number": 49
    },
    {
     "cell_type": "code",
     "collapsed": false,
     "input": [
      "print lcsearch"
     ],
     "language": "python",
     "metadata": {},
     "outputs": [
      {
       "output_type": "stream",
       "stream": "stdout",
       "text": [
        "Progress: 100% (125/125)\n",
        "\n"
       ]
      }
     ],
     "prompt_number": 53
    },
    {
     "cell_type": "code",
     "collapsed": false,
     "input": [
      "lrlc = lcsearch.plot_curve()"
     ],
     "language": "python",
     "metadata": {},
     "outputs": [
      {
       "metadata": {},
       "output_type": "display_data",
       "png": "[encoded data removed]",
       "text": [
        "<matplotlib.figure.Figure at 0x171ec210>"
       ]
      }
     ],
     "prompt_number": 54
    },
    {
     "cell_type": "code",
     "collapsed": false,
     "input": [
      "savez(\"../../plots/bayes/logistic.regression.learning.curve.npz\",lrlc)"
     ],
     "language": "python",
     "metadata": {},
     "outputs": [],
     "prompt_number": 55
    },
    {
     "cell_type": "markdown",
     "metadata": {},
     "source": [
      "This shows that we can test the model on a grid search with only 40,000 to 60,000 samples and still get meaningful results.\n",
      "When the grid search returns a best possible combination of parameters we will have to plot this learning curve again to make sure that the results are still valid.\n",
      "In the mean time, this will speed up our grid search considerably."
     ]
    },
    {
     "cell_type": "markdown",
     "metadata": {},
     "source": [
      "### Running parallel grid search"
     ]
    },
    {
     "cell_type": "code",
     "collapsed": false,
     "input": [
      "!ipcluster stop --profile=altcluster"
     ],
     "language": "python",
     "metadata": {},
     "outputs": [
      {
       "output_type": "stream",
       "stream": "stdout",
       "text": [
        "2014-08-04 18:31:33.634 [IPClusterStop] Using existing profile dir: u'/home/fin/.ipython/profile_altcluster'\r\n"
       ]
      },
      {
       "output_type": "stream",
       "stream": "stdout",
       "text": [
        "2014-08-04 18:31:33.692 [IPClusterStop] Stopping cluster [pid=27917] with [signal=2]\r\n"
       ]
      }
     ],
     "prompt_number": 63
    },
    {
     "cell_type": "code",
     "collapsed": false,
     "input": [
      "!ipcluster start -n=10 --profile=altcluster --daemon"
     ],
     "language": "python",
     "metadata": {},
     "outputs": [
      {
       "output_type": "stream",
       "stream": "stdout",
       "text": [
        "2014-08-04 18:32:15.324 [IPClusterStart] Using existing profile dir: u'/home/fin/.ipython/profile_altcluster'\r\n"
       ]
      }
     ],
     "prompt_number": 64
    },
    {
     "cell_type": "code",
     "collapsed": false,
     "input": [
      "altclient = Client(profile='altcluster')"
     ],
     "language": "python",
     "metadata": {},
     "outputs": [],
     "prompt_number": 65
    },
    {
     "cell_type": "code",
     "collapsed": false,
     "input": [
      "alb_view = altclient.load_balanced_view()"
     ],
     "language": "python",
     "metadata": {},
     "outputs": [],
     "prompt_number": 66
    },
    {
     "cell_type": "code",
     "collapsed": false,
     "input": [
      "#make sure the processors aren't busy doing anything else:\n",
      "alb_view.abort()\n",
      "#initialise parameters to test:\n",
      "lr_params = {\n",
      "'cls__C':logspace(-3,1,7)\n",
      "}"
     ],
     "language": "python",
     "metadata": {},
     "outputs": [],
     "prompt_number": 67
    },
    {
     "cell_type": "code",
     "collapsed": false,
     "input": [
      "#initialise mmaped data -  had to increase CV iterations to reduce output variance\n",
      "split_filenames = ocbio.mmap_utils.persist_cv_splits(X,y, test_size=10000, train_size=40000,\n",
      "                                            n_cv_iter=10, name='testfeatures',random_state=42)"
     ],
     "language": "python",
     "metadata": {},
     "outputs": [],
     "prompt_number": 68
    },
    {
     "cell_type": "code",
     "collapsed": false,
     "input": [
      "#initialise and start run\n",
      "lrsearch = ocbio.model_selection.RandomizedGridSearch(alb_view)\n",
      "lrsearch.launch_for_splits(model,lr_params,split_filenames)"
     ],
     "language": "python",
     "metadata": {},
     "outputs": [
      {
       "metadata": {},
       "output_type": "pyout",
       "prompt_number": 69,
       "text": [
        "Progress: 00% (000/070)"
       ]
      }
     ],
     "prompt_number": 69
    },
    {
     "cell_type": "code",
     "collapsed": false,
     "input": [
      "print lrsearch.report()"
     ],
     "language": "python",
     "metadata": {},
     "outputs": [
      {
       "output_type": "stream",
       "stream": "stdout",
       "text": [
        "Progress: 100% (070/070)\n",
        "\n",
        "Rank 1: validation: 0.99840 (+/-0.00003) train: 0.99847 (+/-0.00002):\n",
        " {'cls__C': 0.021544346900318832}\n",
        "Rank 2: validation: 0.99839 (+/-0.00003) train: 0.99846 (+/-0.00001):\n",
        " {'cls__C': 0.0046415888336127772}\n",
        "Rank 3: validation: 0.99839 (+/-0.00003) train: 0.99845 (+/-0.00001):\n",
        " {'cls__C': 0.001}\n",
        "Rank 4: validation: 0.99836 (+/-0.00004) train: 0.99850 (+/-0.00002):\n",
        " {'cls__C': 0.10000000000000001}\n",
        "Rank 5: validation: 0.99836 (+/-0.00006) train: 0.99854 (+/-0.00002):\n",
        " {'cls__C': 0.46415888336127775}\n"
       ]
      }
     ],
     "prompt_number": 76
    },
    {
     "cell_type": "markdown",
     "metadata": {},
     "source": [
      "With this data only one in every 18 examples will be positive therefore the expected accuracy of a classifier that only predicts zeros is:\n",
      "\n",
      "$$\n",
      "1 - \\frac{1}{18} = \\frac{17}{18} = 0.9(4)\n",
      "$$\n",
      "\n",
      "So this model is outperforming the hypothetical all zeros classifier.\n",
      "\n",
      "We can implement this all zeros classifier and use it to create a comparative measure to make it easier to discriminate between classifiers."
     ]
    },
    {
     "cell_type": "code",
     "collapsed": false,
     "input": [
      "import sklearn.dummy"
     ],
     "language": "python",
     "metadata": {},
     "outputs": [],
     "prompt_number": 81
    },
    {
     "cell_type": "code",
     "collapsed": false,
     "input": [
      "def dummycompare(X,y,train,test,best_score):\n",
      "    dummy = sklearn.dummy.DummyClassifier(strategy=\"most_frequent\")\n",
      "    dummy.fit(imputer.fit_transform(X[train]),y[train])\n",
      "    score = dummy.score(imputer.fit_transform(X[test]),y[test])\n",
      "    if score > best_score:\n",
      "        return 0.0\n",
      "    else:\n",
      "        #using a logit function here on a biased and scaled best score\n",
      "        best_score = (best_score-score)*(1.0/(1.0-score))\n",
      "        return best_score,log(best_score/(1.0-best_score))"
     ],
     "language": "python",
     "metadata": {},
     "outputs": [],
     "prompt_number": 82
    },
    {
     "cell_type": "code",
     "collapsed": false,
     "input": [
      "results = np.zeros([5,2])\n",
      "for i,(train,test) in enumerate(sklearn.cross_validation.StratifiedShuffleSplit(y,n_iter=5,\n",
      "                                                                  test_size=10000, train_size=40000)):\n",
      "    results[i,:] = dummycompare(X,y,train,test,lrsearch.find_bests()[0][0])"
     ],
     "language": "python",
     "metadata": {},
     "outputs": [],
     "prompt_number": 83
    },
    {
     "cell_type": "code",
     "collapsed": false,
     "input": [
      "print mean(results,axis=0)"
     ],
     "language": "python",
     "metadata": {},
     "outputs": [
      {
       "output_type": "stream",
       "stream": "stdout",
       "text": [
        "[ 0.05882353 -2.77258872]\n"
       ]
      }
     ],
     "prompt_number": 84
    },
    {
     "cell_type": "markdown",
     "metadata": {},
     "source": [
      "### Plotting a ROC curve\n",
      "\n",
      "A ROC curve indicates the tradeoffs possible with this classifier in terms of true positive versus false positive rate when setting the decision threshold.\n",
      "In some applications the price of a high false positive rate is acceptable to obtain a high true positive rate.\n",
      "As the false positive rate grows to 1.0 though, the true positive rate also grows to 1.0 inevitably for any classifier as all samples are being classified as positive."
     ]
    },
    {
     "cell_type": "code",
     "collapsed": false,
     "input": [
      "def plotroc(model,Xtest,ytest):\n",
      "    estimates = model.predict_proba(Xtest)\n",
      "    fpr, tpr, thresholds = sklearn.metrics.roc_curve(ytest,estimates[:,1])\n",
      "    clf()\n",
      "    plot(fpr, tpr)\n",
      "    plot([0, 1], [0, 1], 'k--')\n",
      "    xlim([0.0, 1.0])\n",
      "    ylim([0.0, 1.0])\n",
      "    xlabel('False Positive Rate')\n",
      "    ylabel('True Positive Rate')\n",
      "    title('Receiver operating characteristic AUC: {0}'.format(sklearn.metrics.roc_auc_score(ytest,estimates[:,1])))\n",
      "    show()\n",
      "    return fpr,tpr"
     ],
     "language": "python",
     "metadata": {},
     "outputs": [],
     "prompt_number": 85
    },
    {
     "cell_type": "code",
     "collapsed": false,
     "input": [
      "train,test = next(iter(sklearn.cross_validation.StratifiedShuffleSplit(y,\n",
      "                                    test_size=0.25)))"
     ],
     "language": "python",
     "metadata": {},
     "outputs": [],
     "prompt_number": 88
    },
    {
     "cell_type": "code",
     "collapsed": false,
     "input": [
      "bestparams = lrsearch.find_bests()[0][-1]"
     ],
     "language": "python",
     "metadata": {},
     "outputs": [],
     "prompt_number": 89
    },
    {
     "cell_type": "code",
     "collapsed": false,
     "input": [
      "%%time\n",
      "model.set_params(**bestparams)\n",
      "model.fit(X[train],y[train])\n",
      "fpr,tpr = plotroc(model,X[test],y[test])"
     ],
     "language": "python",
     "metadata": {},
     "outputs": [
      {
       "metadata": {},
       "output_type": "display_data",
       "png": "[encoded data removed]",
       "text": [
        "<matplotlib.figure.Figure at 0x17d3b0d0>"
       ]
      },
      {
       "output_type": "stream",
       "stream": "stdout",
       "text": [
        "CPU times: user 1min 59s, sys: 3.19 s, total: 2min 2s\n",
        "Wall time: 2min 3s\n"
       ]
      }
     ],
     "prompt_number": 90
    },
    {
     "cell_type": "markdown",
     "metadata": {},
     "source": [
      "We can see that the AUC score is positive, which means that the classifier is performing better than chance."
     ]
    },
    {
     "cell_type": "code",
     "collapsed": false,
     "input": [
      "dummy = sklearn.dummy.DummyClassifier(strategy=\"most_frequent\")\n",
      "dummy.fit(imputer.fit_transform(X[train]),y[train])\n",
      "_ = plotroc(dummy,imputer.fit_transform(X[test]),y[test])"
     ],
     "language": "python",
     "metadata": {},
     "outputs": [
      {
       "ename": "KeyboardInterrupt",
       "evalue": "",
       "output_type": "pyerr",
       "traceback": [
        "\u001b[1;31m---------------------------------------------------------------------------\u001b[0m\n\u001b[1;31mKeyboardInterrupt\u001b[0m                         Traceback (most recent call last)",
        "\u001b[1;32m<ipython-input-97-3ff8dba4c43d>\u001b[0m in \u001b[0;36m<module>\u001b[1;34m()\u001b[0m\n\u001b[0;32m      1\u001b[0m \u001b[0mdummy\u001b[0m \u001b[1;33m=\u001b[0m \u001b[0msklearn\u001b[0m\u001b[1;33m.\u001b[0m\u001b[0mdummy\u001b[0m\u001b[1;33m.\u001b[0m\u001b[0mDummyClassifier\u001b[0m\u001b[1;33m(\u001b[0m\u001b[0mstrategy\u001b[0m\u001b[1;33m=\u001b[0m\u001b[1;34m\"most_frequent\"\u001b[0m\u001b[1;33m)\u001b[0m\u001b[1;33m\u001b[0m\u001b[0m\n\u001b[0;32m      2\u001b[0m \u001b[0mdummy\u001b[0m\u001b[1;33m.\u001b[0m\u001b[0mfit\u001b[0m\u001b[1;33m(\u001b[0m\u001b[0mimputer\u001b[0m\u001b[1;33m.\u001b[0m\u001b[0mfit_transform\u001b[0m\u001b[1;33m(\u001b[0m\u001b[0mX\u001b[0m\u001b[1;33m[\u001b[0m\u001b[0mtrain\u001b[0m\u001b[1;33m]\u001b[0m\u001b[1;33m)\u001b[0m\u001b[1;33m,\u001b[0m\u001b[0my\u001b[0m\u001b[1;33m[\u001b[0m\u001b[0mtrain\u001b[0m\u001b[1;33m]\u001b[0m\u001b[1;33m)\u001b[0m\u001b[1;33m\u001b[0m\u001b[0m\n\u001b[1;32m----> 3\u001b[1;33m \u001b[0m_\u001b[0m\u001b[1;33m,\u001b[0m\u001b[0m_\u001b[0m \u001b[1;33m=\u001b[0m \u001b[0mplotroc\u001b[0m\u001b[1;33m(\u001b[0m\u001b[0mdummy\u001b[0m\u001b[1;33m,\u001b[0m\u001b[0mimputer\u001b[0m\u001b[1;33m.\u001b[0m\u001b[0mfit_transform\u001b[0m\u001b[1;33m(\u001b[0m\u001b[0mX\u001b[0m\u001b[1;33m[\u001b[0m\u001b[0mtest\u001b[0m\u001b[1;33m]\u001b[0m\u001b[1;33m)\u001b[0m\u001b[1;33m,\u001b[0m\u001b[0my\u001b[0m\u001b[1;33m[\u001b[0m\u001b[0mtest\u001b[0m\u001b[1;33m]\u001b[0m\u001b[1;33m)\u001b[0m\u001b[1;33m\u001b[0m\u001b[0m\n\u001b[0m",
        "\u001b[1;32m<ipython-input-85-ef971672438e>\u001b[0m in \u001b[0;36mplotroc\u001b[1;34m(model, Xtest, ytest)\u001b[0m\n\u001b[0;32m      1\u001b[0m \u001b[1;32mdef\u001b[0m \u001b[0mplotroc\u001b[0m\u001b[1;33m(\u001b[0m\u001b[0mmodel\u001b[0m\u001b[1;33m,\u001b[0m\u001b[0mXtest\u001b[0m\u001b[1;33m,\u001b[0m\u001b[0mytest\u001b[0m\u001b[1;33m)\u001b[0m\u001b[1;33m:\u001b[0m\u001b[1;33m\u001b[0m\u001b[0m\n\u001b[1;32m----> 2\u001b[1;33m     \u001b[0mestimates\u001b[0m \u001b[1;33m=\u001b[0m \u001b[0mmodel\u001b[0m\u001b[1;33m.\u001b[0m\u001b[0mpredict_proba\u001b[0m\u001b[1;33m(\u001b[0m\u001b[0mXtest\u001b[0m\u001b[1;33m)\u001b[0m\u001b[1;33m\u001b[0m\u001b[0m\n\u001b[0m\u001b[0;32m      3\u001b[0m     \u001b[0mfpr\u001b[0m\u001b[1;33m,\u001b[0m \u001b[0mtpr\u001b[0m\u001b[1;33m,\u001b[0m \u001b[0mthresholds\u001b[0m \u001b[1;33m=\u001b[0m \u001b[0msklearn\u001b[0m\u001b[1;33m.\u001b[0m\u001b[0mmetrics\u001b[0m\u001b[1;33m.\u001b[0m\u001b[0mroc_curve\u001b[0m\u001b[1;33m(\u001b[0m\u001b[0mytest\u001b[0m\u001b[1;33m,\u001b[0m\u001b[0mestimates\u001b[0m\u001b[1;33m[\u001b[0m\u001b[1;33m:\u001b[0m\u001b[1;33m,\u001b[0m\u001b[1;36m1\u001b[0m\u001b[1;33m]\u001b[0m\u001b[1;33m)\u001b[0m\u001b[1;33m\u001b[0m\u001b[0m\n\u001b[0;32m      4\u001b[0m     \u001b[0mclf\u001b[0m\u001b[1;33m(\u001b[0m\u001b[1;33m)\u001b[0m\u001b[1;33m\u001b[0m\u001b[0m\n\u001b[0;32m      5\u001b[0m     \u001b[0mplot\u001b[0m\u001b[1;33m(\u001b[0m\u001b[0mfpr\u001b[0m\u001b[1;33m,\u001b[0m \u001b[0mtpr\u001b[0m\u001b[1;33m)\u001b[0m\u001b[1;33m\u001b[0m\u001b[0m\n",
        "\u001b[1;32m/usr/local/lib/python2.7/dist-packages/sklearn/dummy.pyc\u001b[0m in \u001b[0;36mpredict_proba\u001b[1;34m(self, X)\u001b[0m\n\u001b[0;32m    233\u001b[0m                 \u001b[0mind\u001b[0m \u001b[1;33m=\u001b[0m \u001b[0mnp\u001b[0m\u001b[1;33m.\u001b[0m\u001b[0mones\u001b[0m\u001b[1;33m(\u001b[0m\u001b[0mn_samples\u001b[0m\u001b[1;33m,\u001b[0m \u001b[0mdtype\u001b[0m\u001b[1;33m=\u001b[0m\u001b[0mint\u001b[0m\u001b[1;33m)\u001b[0m \u001b[1;33m*\u001b[0m \u001b[0mclass_prior_\u001b[0m\u001b[1;33m[\u001b[0m\u001b[0mk\u001b[0m\u001b[1;33m]\u001b[0m\u001b[1;33m.\u001b[0m\u001b[0margmax\u001b[0m\u001b[1;33m(\u001b[0m\u001b[1;33m)\u001b[0m\u001b[1;33m\u001b[0m\u001b[0m\n\u001b[0;32m    234\u001b[0m                 \u001b[0mout\u001b[0m \u001b[1;33m=\u001b[0m \u001b[0mnp\u001b[0m\u001b[1;33m.\u001b[0m\u001b[0mzeros\u001b[0m\u001b[1;33m(\u001b[0m\u001b[1;33m(\u001b[0m\u001b[0mn_samples\u001b[0m\u001b[1;33m,\u001b[0m \u001b[0mn_classes_\u001b[0m\u001b[1;33m[\u001b[0m\u001b[0mk\u001b[0m\u001b[1;33m]\u001b[0m\u001b[1;33m)\u001b[0m\u001b[1;33m,\u001b[0m \u001b[0mdtype\u001b[0m\u001b[1;33m=\u001b[0m\u001b[0mnp\u001b[0m\u001b[1;33m.\u001b[0m\u001b[0mfloat64\u001b[0m\u001b[1;33m)\u001b[0m\u001b[1;33m\u001b[0m\u001b[0m\n\u001b[1;32m--> 235\u001b[1;33m                 \u001b[0mout\u001b[0m\u001b[1;33m[\u001b[0m\u001b[1;33m:\u001b[0m\u001b[1;33m,\u001b[0m \u001b[0mind\u001b[0m\u001b[1;33m]\u001b[0m \u001b[1;33m=\u001b[0m \u001b[1;36m1.0\u001b[0m\u001b[1;33m\u001b[0m\u001b[0m\n\u001b[0m\u001b[0;32m    236\u001b[0m \u001b[1;33m\u001b[0m\u001b[0m\n\u001b[0;32m    237\u001b[0m             \u001b[1;32melif\u001b[0m \u001b[0mself\u001b[0m\u001b[1;33m.\u001b[0m\u001b[0mstrategy\u001b[0m \u001b[1;33m==\u001b[0m \u001b[1;34m\"stratified\"\u001b[0m\u001b[1;33m:\u001b[0m\u001b[1;33m\u001b[0m\u001b[0m\n",
        "\u001b[1;31mKeyboardInterrupt\u001b[0m: "
       ]
      }
     ],
     "prompt_number": 97
    },
    {
     "cell_type": "code",
     "collapsed": false,
     "input": [
      "savez(\"../../plots/bayes/logistic.regression.roc.npz\",fpr,tpr)"
     ],
     "language": "python",
     "metadata": {},
     "outputs": [],
     "prompt_number": 91
    },
    {
     "cell_type": "code",
     "collapsed": false,
     "input": [
      "print dummycompare(X,y,train,test,model.score(X[test],y[test]))"
     ],
     "language": "python",
     "metadata": {},
     "outputs": [
      {
       "output_type": "stream",
       "stream": "stdout",
       "text": [
        "(0.071856287425090787, -2.5585184671321297)\n"
       ]
      }
     ],
     "prompt_number": 92
    },
    {
     "cell_type": "markdown",
     "metadata": {},
     "source": [
      "### Precision recall curve\n",
      "\n",
      "Precision recall curves plot precision against recall.\n",
      "\n",
      "* Precision is the [\"fraction of retrieved instances which are relevant\"][wkpda]\n",
      "* Recall is the [\"fraction of relevant instances which are retrieved\"][wkpda]\n",
      "\n",
      "These are [implemented][] in Scikit-learn.\n",
      "\n",
      "[wkpda]: http://en.wikipedia.org/wiki/Precision_and_recall\n",
      "[implemented]: http://scikit-learn.org/stable/auto_examples/plot_precision_recall.html"
     ]
    },
    {
     "cell_type": "code",
     "collapsed": false,
     "input": [
      "def drawprecisionrecall(X,y,test,model):\n",
      "    try:\n",
      "        yscore = model.decision_function(X[test])\n",
      "    except AttributeError:\n",
      "        yscore = model.predict_proba(X[test])[:,1]\n",
      "    precision,recall,_ = sklearn.metrics.precision_recall_curve(y[test],yscore)\n",
      "    average_precision = sklearn.metrics.average_precision_score(y[test], yscore,\n",
      "                                                         average=\"micro\")\n",
      "    plt.clf()\n",
      "    plt.plot(recall,precision)\n",
      "    plt.xlim([0.0, 1.0])\n",
      "    plt.ylim([0.0, 1.05])\n",
      "    plt.xlabel('Recall')\n",
      "    plt.ylabel('Precision')\n",
      "    plt.title('Precision-Recall curve, AUC: {0:0.2f}'.format(average_precision))\n",
      "    plt.show()\n",
      "    return precision, recall"
     ],
     "language": "python",
     "metadata": {},
     "outputs": [],
     "prompt_number": 98
    },
    {
     "cell_type": "code",
     "collapsed": false,
     "input": [
      "precision,recall = drawprecisionrecall(X,y,test,model)"
     ],
     "language": "python",
     "metadata": {},
     "outputs": [
      {
       "metadata": {},
       "output_type": "display_data",
       "png": "[encoded data removed]",
       "text": [
        "<matplotlib.figure.Figure at 0x2ebbf10>"
       ]
      }
     ],
     "prompt_number": 99
    },
    {
     "cell_type": "markdown",
     "metadata": {},
     "source": [
      "This shows that it is not possible, even with loss of precision, to recall all of the positive training examples.\n",
      "Unfortunately, it is only possible to recall less than 10% with perfect precision."
     ]
    },
    {
     "cell_type": "code",
     "collapsed": false,
     "input": [
      "savez(\"../../plots/bayes/lr_precisionrecall.npz\",precision,recall)"
     ],
     "language": "python",
     "metadata": {},
     "outputs": [],
     "prompt_number": 100
    },
    {
     "cell_type": "markdown",
     "metadata": {},
     "source": [
      "### Classifier coefficients\n",
      "\n",
      "We can also plot the weightings which this model is using to achieve the above performance:"
     ]
    },
    {
     "cell_type": "code",
     "collapsed": false,
     "input": [
      "plot(model.named_steps['cls'].coef_.T)"
     ],
     "language": "python",
     "metadata": {},
     "outputs": [
      {
       "metadata": {},
       "output_type": "pyout",
       "prompt_number": 101,
       "text": [
        "[<matplotlib.lines.Line2D at 0x176de310>]"
       ]
      },
      {
       "metadata": {},
       "output_type": "display_data",
       "png": "[encoded data removed]",
       "text": [
        "<matplotlib.figure.Figure at 0x2ebbf10>"
       ]
      }
     ],
     "prompt_number": 101
    },
    {
     "cell_type": "code",
     "collapsed": false,
     "input": [
      "savez(\"../../plots/bayes/logistic.regression.coef.npz\",model.named_steps['cls'].coef_.T)"
     ],
     "language": "python",
     "metadata": {},
     "outputs": [],
     "prompt_number": 102
    },
    {
     "cell_type": "markdown",
     "metadata": {},
     "source": [
      "Which feature is the largest peak in the above plot?"
     ]
    },
    {
     "cell_type": "code",
     "collapsed": false,
     "input": [
      "where(model.named_steps['cls'].coef_.T==amax(model.named_steps['cls'].coef_.T))"
     ],
     "language": "python",
     "metadata": {},
     "outputs": [
      {
       "metadata": {},
       "output_type": "pyout",
       "prompt_number": 103,
       "text": [
        "(array([0]), array([0]))"
       ]
      }
     ],
     "prompt_number": 103
    },
    {
     "cell_type": "markdown",
     "metadata": {},
     "source": [
      "The largest peak in the above corresponds to a Gene Ontology feature.\n",
      "However, many of the features are almost as strongly weighted, showing that the classifier is not relying on a single feature."
     ]
    },
    {
     "cell_type": "markdown",
     "metadata": {},
     "source": [
      "## Support Vector Machine\n",
      "\n",
      "A support vector machine is a kernel-based classifier which aims to fit a hyperplane between training examples to separate the examples into different classes.\n",
      "The algorithm aims to maximise the distance from any given training point to the hyperplane in the high-dimensional space of the training vectors.\n",
      "\n",
      "### Building the pipeline\n",
      "\n",
      "Optimal performance of a SVM with the default parameters depends on scaling of the data so we must build a pipeline for the model as before with logistic regression:"
     ]
    },
    {
     "cell_type": "code",
     "collapsed": false,
     "input": [
      "import sklearn.svm"
     ],
     "language": "python",
     "metadata": {},
     "outputs": [],
     "prompt_number": 72
    },
    {
     "cell_type": "code",
     "collapsed": false,
     "input": [
      "imputer = sklearn.preprocessing.Imputer(strategy='mean',missing_values=\"NaN\")\n",
      "scaler = sklearn.preprocessing.StandardScaler()\n",
      "classifier = sklearn.svm.SVC()\n",
      "svmodel = sklearn.pipeline.Pipeline([('imp',imputer),('scl',scaler),('cls',classifier)])"
     ],
     "language": "python",
     "metadata": {},
     "outputs": [],
     "prompt_number": 73
    },
    {
     "cell_type": "markdown",
     "metadata": {},
     "source": [
      "### Plotting a learning curve\n",
      "\n",
      "Again, it would be useful to get an idea of acceptable sample sizes prior to running the grid search to save processing time:"
     ]
    },
    {
     "cell_type": "code",
     "collapsed": false,
     "input": [
      "trainsizes=logspace(3,5,5)\n",
      "#initialise and start run\n",
      "lcsearch = ocbio.model_selection.LearningCurve(lb_view)\n",
      "lcsearch.launch_for_arrays(svmodel,X,y,trainsizes,n_cv_iter=3,params={'cls__C':1.0}, name=\"lrlc\")"
     ],
     "language": "python",
     "metadata": {},
     "outputs": [
      {
       "metadata": {},
       "output_type": "pyout",
       "prompt_number": 74,
       "text": [
        "Progress: 00% (000/075)"
       ]
      }
     ],
     "prompt_number": 74
    },
    {
     "cell_type": "code",
     "collapsed": false,
     "input": [
      "print lcsearch"
     ],
     "language": "python",
     "metadata": {},
     "outputs": [
      {
       "output_type": "stream",
       "stream": "stdout",
       "text": [
        "Progress: 100% (075/075)\n",
        "\n"
       ]
      }
     ],
     "prompt_number": 118
    },
    {
     "cell_type": "code",
     "collapsed": false,
     "input": [
      "lb_view.abort()"
     ],
     "language": "python",
     "metadata": {},
     "outputs": [],
     "prompt_number": 114
    },
    {
     "cell_type": "code",
     "collapsed": false,
     "input": [
      "svmlc = lcsearch.plot_curve()"
     ],
     "language": "python",
     "metadata": {},
     "outputs": [
      {
       "metadata": {},
       "output_type": "display_data",
       "png": "[encoded data removed]",
       "text": [
        "<matplotlib.figure.Figure at 0x19bb4590>"
       ]
      }
     ],
     "prompt_number": 120
    },
    {
     "cell_type": "code",
     "collapsed": false,
     "input": [
      "savez(\"../../plots/bayes/svmlc.npz\",svmlc)"
     ],
     "language": "python",
     "metadata": {},
     "outputs": [],
     "prompt_number": 108
    },
    {
     "cell_type": "markdown",
     "metadata": {},
     "source": [
      "From this curve we can conclude that at least 20,000 training samples are going to be necessary for meaningful results."
     ]
    },
    {
     "cell_type": "code",
     "collapsed": false,
     "input": [
      "#initialise parameters to test:\n",
      "svm_params = {\n",
      "'cls__C':logspace(-1,1,3),\n",
      "'cls__kernel':['rbf','poly','sigmoid'],\n",
      "'cls__gamma':logspace(-1,1,3)\n",
      "}"
     ],
     "language": "python",
     "metadata": {},
     "outputs": [],
     "prompt_number": 127
    },
    {
     "cell_type": "code",
     "collapsed": false,
     "input": [
      "#initialise mmaped data\n",
      "split_filenames = ocbio.mmap_utils.persist_cv_splits(X,y, test_size=2000, train_size=10000,\n",
      "                                                     n_cv_iter=3, name='testfeatures',random_state=42)"
     ],
     "language": "python",
     "metadata": {},
     "outputs": [],
     "prompt_number": 110
    },
    {
     "cell_type": "code",
     "collapsed": false,
     "input": [
      "#initialise and start run\n",
      "search = ocbio.model_selection.RandomizedGridSearch(lb_view)\n",
      "search.launch_for_splits(svmodel,svm_params,split_filenames)"
     ],
     "language": "python",
     "metadata": {},
     "outputs": [
      {
       "metadata": {},
       "output_type": "pyout",
       "prompt_number": 128,
       "text": [
        "Progress: 00% (000/081)"
       ]
      }
     ],
     "prompt_number": 128
    },
    {
     "cell_type": "code",
     "collapsed": false,
     "input": [
      "print search"
     ],
     "language": "python",
     "metadata": {},
     "outputs": []
    },
    {
     "cell_type": "markdown",
     "metadata": {},
     "source": [
      "This is taking an _extremely_ long time to train, and is not feasible in the sample sizes above.\n",
      "Quote from Murphy textbook on SVMs:\n",
      "\n",
      "> SVMs also take $O(N^{3})$ time to train...\n",
      "\n",
      "Which is also repeated in the [documentation for the Scikit-learn SVM classifier][skdocs].\n",
      "\n",
      "Due to this problem, it does not seem to be well-suited to this data, where we will primarily be working with very large sample sizes.\n",
      "\n",
      "[skdocs]: http://scikit-learn.org/stable/modules/generated/sklearn.svm.SVC.html#sklearn.svm.SVC"
     ]
    },
    {
     "cell_type": "code",
     "collapsed": false,
     "input": [
      "train,test = next(iter(sklearn.cross_validation.StratifiedShuffleSplit(y,\n",
      "                                    test_size=2000,train_size=10000)))\n",
      "print len(train),len(test)"
     ],
     "language": "python",
     "metadata": {},
     "outputs": [
      {
       "output_type": "stream",
       "stream": "stdout",
       "text": [
        "10000 2000\n"
       ]
      }
     ],
     "prompt_number": 24
    },
    {
     "cell_type": "code",
     "collapsed": false,
     "input": [
      "svmparams = search.find_bests()[0][-1]\n",
      "svmparams['cls__probability'] =True"
     ],
     "language": "python",
     "metadata": {},
     "outputs": [],
     "prompt_number": 237
    },
    {
     "cell_type": "code",
     "collapsed": false,
     "input": [
      "%%time\n",
      "svmodel.set_params(**svmparams)\n",
      "svmodel.fit(X[train],y[train])\n",
      "fpr,tpr = plotroc(svmodel,X[test],y[test])"
     ],
     "language": "python",
     "metadata": {},
     "outputs": [
      {
       "metadata": {},
       "output_type": "display_data",
       "png": "[encoded data removed]",
       "text": [
        "<matplotlib.figure.Figure at 0x5a67410>"
       ]
      },
      {
       "output_type": "stream",
       "stream": "stdout",
       "text": [
        "CPU times: user 2min 4s, sys: 1min 11s, total: 3min 16s\n",
        "Wall time: 3min 50s\n"
       ]
      }
     ],
     "prompt_number": 25
    },
    {
     "cell_type": "code",
     "collapsed": false,
     "input": [
      "savez(\"../../plots/bayes/svm.roc.npz\",fpr,tpr)"
     ],
     "language": "python",
     "metadata": {},
     "outputs": [],
     "prompt_number": 28
    },
    {
     "cell_type": "code",
     "collapsed": false,
     "input": [
      "svmprecision,svmrecall = drawprecisionrecall(X,y,test,svmodel)"
     ],
     "language": "python",
     "metadata": {},
     "outputs": [
      {
       "metadata": {},
       "output_type": "display_data",
       "png": "[encoded data removed]",
       "text": [
        "<matplotlib.figure.Figure at 0x5a674d0>"
       ]
      }
     ],
     "prompt_number": 30
    },
    {
     "cell_type": "code",
     "collapsed": false,
     "input": [
      "savez(\"../../plots/bayes/svm.precisionrecall.npz\",svmprecision,svmrecall)"
     ],
     "language": "python",
     "metadata": {},
     "outputs": [],
     "prompt_number": 32
    },
    {
     "cell_type": "markdown",
     "metadata": {},
     "source": [
      "## Random forest classifier\n",
      "\n",
      "Random forest classifiers have proven to be effective in the task of protein interaction prediction in the past.\n",
      "A random forest classifier combines the results of many decision tree classifiers.\n",
      "In this way, it can react to correlations in the data in a way that simpler methods, such as logistic regression, cannot.\n",
      "\n",
      "The combination of decision trees is implemented in [Scikit-learn][rfsklearn] by averaging the results of the individual trees.\n",
      "\n",
      "### Initialising the pipeline\n",
      "\n",
      "As above we will define the pipeline with the same scaling and imputation:\n",
      "\n",
      "[rfsklearn]: http://scikit-learn.org/stable/modules/ensemble.html#random-forests"
     ]
    },
    {
     "cell_type": "code",
     "collapsed": false,
     "input": [
      "import sklearn.ensemble"
     ],
     "language": "python",
     "metadata": {},
     "outputs": [],
     "prompt_number": 122
    },
    {
     "cell_type": "code",
     "collapsed": false,
     "input": [
      "imputer = sklearn.preprocessing.Imputer(strategy='mean',missing_values=\"NaN\")\n",
      "scaler = sklearn.preprocessing.StandardScaler()\n",
      "classifier = sklearn.ensemble.RandomForestClassifier()\n",
      "rfmodel = sklearn.pipeline.Pipeline([('imp',imputer),('scl',scaler),('cls',classifier)])"
     ],
     "language": "python",
     "metadata": {},
     "outputs": [],
     "prompt_number": 123
    },
    {
     "cell_type": "markdown",
     "metadata": {},
     "source": [
      "### Plotting a learning curve\n",
      "\n",
      "As above, we would like to know how quickly this model will learn in a pipeline with the scaling and imputer defined as with previous models before trying to tune hyper-parameters."
     ]
    },
    {
     "cell_type": "code",
     "collapsed": false,
     "input": [
      "trainsizes=logspace(3,5,7)\n",
      "#initialise and start run\n",
      "rflcsearch = ocbio.model_selection.LearningCurve(alb_view)\n",
      "rflcsearch.launch_for_arrays(rfmodel,X,y,trainsizes,n_cv_iter=3,\n",
      "                             params={'cls__n_estimators':100,'cls__bootstrap':False},\n",
      "                             name=\"lrlc\")"
     ],
     "language": "python",
     "metadata": {},
     "outputs": [
      {
       "metadata": {},
       "output_type": "pyout",
       "prompt_number": 125,
       "text": [
        "Progress: 00% (000/147)"
       ]
      }
     ],
     "prompt_number": 125
    },
    {
     "cell_type": "code",
     "collapsed": false,
     "input": [
      "print rflcsearch"
     ],
     "language": "python",
     "metadata": {},
     "outputs": [
      {
       "output_type": "stream",
       "stream": "stdout",
       "text": [
        "Progress: 100% (147/147)\n",
        "\n"
       ]
      }
     ],
     "prompt_number": 135
    },
    {
     "cell_type": "code",
     "collapsed": false,
     "input": [
      "rflc = rflcsearch.plot_curve()"
     ],
     "language": "python",
     "metadata": {},
     "outputs": [
      {
       "metadata": {},
       "output_type": "display_data",
       "png": "[encoded data removed]",
       "text": [
        "<matplotlib.figure.Figure at 0x133563d0>"
       ]
      }
     ],
     "prompt_number": 136
    },
    {
     "cell_type": "markdown",
     "metadata": {},
     "source": [
      "Training a single model with 100,000 to see how long each one of these is going to take:"
     ]
    },
    {
     "cell_type": "code",
     "collapsed": false,
     "input": [
      "savez(\"../../plots/bayes/random.forest.learning.curve.npz\",rflc)"
     ],
     "language": "python",
     "metadata": {},
     "outputs": [],
     "prompt_number": 137
    },
    {
     "cell_type": "markdown",
     "metadata": {},
     "source": [
      "### Running a grid search\n",
      "\n",
      "The major [parameters][] to vary with a Random Forest classifier are:\n",
      "\n",
      "* `n_estimators` - the number of trees in the forest\n",
      "* `max_features` - size of random subsets of features to consider when splitting nodes\n",
      "\n",
      "According the to the [documentation][parameters] a good value for `max_features` is the square root of the number of features, in our case approximately 15.\n",
      "With the number of trees in the forests, the more trees the better the performance will be, but it will take longer to train the model.\n",
      "We will try up to a maximum of 200 estimators to see at which point there are no longer significant gains from increasing the number of estimators.\n",
      "\n",
      "Also the random trees are using bootstrapping by default when training, which is unnecessary on a dataset as large as this.\n",
      "Therefore, we should set `bootstrap=False`.\n",
      "\n",
      "[parameters]: http://scikit-learn.org/stable/modules/ensemble.html#parameters"
     ]
    },
    {
     "cell_type": "code",
     "collapsed": false,
     "input": [
      "split_filenames = ocbio.mmap_utils.persist_cv_splits(X,y, test_size=20000, train_size=100000,\n",
      "                                                     n_cv_iter=3, name='rffeatures',random_state=42)"
     ],
     "language": "python",
     "metadata": {},
     "outputs": [],
     "prompt_number": 138
    },
    {
     "cell_type": "code",
     "collapsed": false,
     "input": [
      "rfparams = {'cls__n_estimators':100,'cls__bootstrap':False}"
     ],
     "language": "python",
     "metadata": {},
     "outputs": [],
     "prompt_number": 139
    },
    {
     "cell_type": "code",
     "collapsed": false,
     "input": [
      "%%time\n",
      "train,test = next(iter(sklearn.cross_validation.StratifiedShuffleSplit(y,\n",
      "                                    test_size=20000,train_size=100000)))\n",
      "rfmodel.set_params(**rfparams)\n",
      "rfmodel.fit(X[train],y[train])\n",
      "print \"Training score: {0}\".format(model.score(X[train],y[train]))\n",
      "print \"Test score: {0}\".format(model.score(X[test],y[test]))"
     ],
     "language": "python",
     "metadata": {},
     "outputs": [
      {
       "output_type": "stream",
       "stream": "stdout",
       "text": [
        "Training score: 0.99842\n",
        "Test score: 0.9986"
       ]
      },
      {
       "output_type": "stream",
       "stream": "stdout",
       "text": [
        "\n",
        "CPU times: user 3min 55s, sys: 1min 6s, total: 5min 1s\n",
        "Wall time: 5min 17s\n"
       ]
      }
     ],
     "prompt_number": 140
    },
    {
     "cell_type": "code",
     "collapsed": false,
     "input": [
      "rf_params = {\n",
      "'cls__n_estimators':logspace(1,2.3,5).astype(np.int),\n",
      "'cls__max_features':arange(5,30,5).astype(np.int),\n",
      "'cls__bootstrap':[False]\n",
      "}"
     ],
     "language": "python",
     "metadata": {},
     "outputs": []
    },
    {
     "cell_type": "code",
     "collapsed": false,
     "input": [
      "rfsearch = ocbio.model_selection.RandomizedGridSearch(alb_view)\n",
      "rfsearch.launch_for_splits(rfmodel,rf_params,split_filenames)"
     ],
     "language": "python",
     "metadata": {},
     "outputs": []
    },
    {
     "cell_type": "code",
     "collapsed": false,
     "input": [
      "print rfsearch"
     ],
     "language": "python",
     "metadata": {},
     "outputs": [
      {
       "output_type": "stream",
       "stream": "stdout",
       "text": [
        "Progress: 100% (075/075)\n",
        "\n",
        "Rank 1: validation: 0.99367 (+/-0.00033) train: 0.99732 (+/-0.00034):\n",
        " {'cls__n_estimators': 44, 'cls__max_features': 20, 'cls__bootstrap': False}\n",
        "Rank 2: validation: 0.99367 (+/-0.00017) train: 0.99732 (+/-0.00034):\n",
        " {'cls__n_estimators': 199, 'cls__max_features': 25, 'cls__bootstrap': False}\n",
        "Rank 3: validation: 0.99367 (+/-0.00017) train: 0.99732 (+/-0.00034):\n",
        " {'cls__n_estimators': 44, 'cls__max_features': 25, 'cls__bootstrap': False}\n",
        "Rank 4: validation: 0.99367 (+/-0.00017) train: 0.99732 (+/-0.00034):\n",
        " {'cls__n_estimators': 21, 'cls__max_features': 20, 'cls__bootstrap': False}\n",
        "Rank 5: validation: 0.99350 (+/-0.00029) train: 0.99732 (+/-0.00034):\n",
        " {'cls__n_estimators': 10, 'cls__max_features': 25, 'cls__bootstrap': False}\n"
       ]
      }
     ],
     "prompt_number": 187
    },
    {
     "cell_type": "markdown",
     "metadata": {},
     "source": [
      "Training a the model we would like to use on a large training set to get the best possible performance:"
     ]
    },
    {
     "cell_type": "code",
     "collapsed": false,
     "input": [
      "rfparams = rfsearch.find_bests()[0][-1]"
     ],
     "language": "python",
     "metadata": {},
     "outputs": [],
     "prompt_number": 190
    },
    {
     "cell_type": "code",
     "collapsed": false,
     "input": [
      "%%time\n",
      "train,test = next(iter(sklearn.cross_validation.StratifiedShuffleSplit(y,\n",
      "                                    test_size=20000,train_size=100000)))\n",
      "rfmodel.set_params(**rfparams)\n",
      "rfmodel.fit(X[train],y[train])\n",
      "print \"Training score: {0}\".format(model.score(X[train],y[train]))\n",
      "print \"Test score: {0}\".format(model.score(X[test],y[test]))"
     ],
     "language": "python",
     "metadata": {},
     "outputs": [
      {
       "output_type": "stream",
       "stream": "stdout",
       "text": [
        "Training score: 0.99275\n",
        "Test score: 0.9934"
       ]
      },
      {
       "output_type": "stream",
       "stream": "stdout",
       "text": [
        "\n",
        "CPU times: user 5min 1s, sys: 58.4 s, total: 5min 59s\n",
        "Wall time: 6min 14s\n"
       ]
      }
     ],
     "prompt_number": 191
    },
    {
     "cell_type": "code",
     "collapsed": false,
     "input": [
      "rfroc = plotroc(rfmodel,X[test],y[test])"
     ],
     "language": "python",
     "metadata": {},
     "outputs": [
      {
       "metadata": {},
       "output_type": "display_data",
       "png": "[encoded data removed]",
       "text": [
        "<matplotlib.figure.Figure at 0x58b4a90>"
       ]
      }
     ],
     "prompt_number": 192
    },
    {
     "cell_type": "code",
     "collapsed": false,
     "input": [
      "savez(\"../../plots/bayes/random.forest.roc.npz\",rfroc)"
     ],
     "language": "python",
     "metadata": {},
     "outputs": [],
     "prompt_number": 193
    },
    {
     "cell_type": "code",
     "collapsed": false,
     "input": [
      "rfprec,rfrecall = drawprecisionrecall(X,y,test,rfmodel)"
     ],
     "language": "python",
     "metadata": {},
     "outputs": [
      {
       "metadata": {},
       "output_type": "display_data",
       "png": "[encoded data removed]",
       "text": [
        "<matplotlib.figure.Figure at 0x4ec4110>"
       ]
      }
     ],
     "prompt_number": 198
    },
    {
     "cell_type": "code",
     "collapsed": false,
     "input": [
      "savez(\"../../plots/bayes/random.forest.precisionrecall.npz\")"
     ],
     "language": "python",
     "metadata": {},
     "outputs": [],
     "prompt_number": 199
    },
    {
     "cell_type": "markdown",
     "metadata": {},
     "source": [
      "Finally, we can compare accuracy to the dummy case:"
     ]
    },
    {
     "cell_type": "code",
     "collapsed": false,
     "input": [
      "rftrain,rftest = next(iter(sklearn.cross_validation.StratifiedShuffleSplit(y,\n",
      "                                    test_size=20000,train_size=100000)))"
     ],
     "language": "python",
     "metadata": {},
     "outputs": [],
     "prompt_number": 244
    },
    {
     "cell_type": "code",
     "collapsed": false,
     "input": [
      "dummycompare(X,y,rftrain,rftest,rfsearch.find_bests()[0][0])"
     ],
     "language": "python",
     "metadata": {},
     "outputs": [
      {
       "metadata": {},
       "output_type": "pyout",
       "prompt_number": 245,
       "text": [
        "(0.8801639861242494, 1.9939839808158752)"
       ]
      }
     ],
     "prompt_number": 245
    },
    {
     "cell_type": "markdown",
     "metadata": {},
     "source": [
      "### Extremely Randomized Trees\n",
      "\n",
      "In Scikit-learn an alternative random forest in which the thresholds chosen for candidate features are randomly selected.\n",
      "This reduces the variance of the model at the cost of an increase in bias.\n",
      "These are called [Extremely Randomized Trees][etsklearn].\n",
      "\n",
      "[etsklearn]: http://scikit-learn.org/stable/modules/ensemble.html#extremely-randomized-trees"
     ]
    },
    {
     "cell_type": "code",
     "collapsed": false,
     "input": [
      "imputer = sklearn.preprocessing.Imputer(strategy='mean',missing_values=\"NaN\")\n",
      "scaler = sklearn.preprocessing.StandardScaler()\n",
      "classifier = sklearn.ensemble.ExtraTreesClassifier()\n",
      "erfmodel = sklearn.pipeline.Pipeline([('imp',imputer),('scl',scaler),('cls',classifier)])"
     ],
     "language": "python",
     "metadata": {},
     "outputs": [],
     "prompt_number": 201
    },
    {
     "cell_type": "code",
     "collapsed": false,
     "input": [
      "extrasearch = ocbio.model_selection.RandomizedGridSearch(lb_view)\n",
      "extrasearch.launch_for_splits(erfmodel,rf_params,split_filenames)"
     ],
     "language": "python",
     "metadata": {},
     "outputs": [
      {
       "metadata": {},
       "output_type": "pyout",
       "prompt_number": 203,
       "text": [
        "Progress: 00% (000/075)"
       ]
      }
     ],
     "prompt_number": 203
    },
    {
     "cell_type": "code",
     "collapsed": false,
     "input": [
      "print extrasearch"
     ],
     "language": "python",
     "metadata": {},
     "outputs": [
      {
       "output_type": "stream",
       "stream": "stdout",
       "text": [
        "Progress: 100% (075/075)\n",
        "\n",
        "Rank 1: validation: 0.99350 (+/-0.00029) train: 0.99732 (+/-0.00034):\n",
        " {'cls__n_estimators': 199, 'cls__max_features': 25, 'cls__bootstrap': False}\n",
        "Rank 2: validation: 0.99350 (+/-0.00029) train: 0.99732 (+/-0.00034):\n",
        " {'cls__n_estimators': 44, 'cls__max_features': 20, 'cls__bootstrap': False}\n",
        "Rank 3: validation: 0.99350 (+/-0.00029) train: 0.99732 (+/-0.00034):\n",
        " {'cls__n_estimators': 44, 'cls__max_features': 15, 'cls__bootstrap': False}\n",
        "Rank 4: validation: 0.99333 (+/-0.00033) train: 0.99732 (+/-0.00034):\n",
        " {'cls__n_estimators': 94, 'cls__max_features': 15, 'cls__bootstrap': False}\n",
        "Rank 5: validation: 0.99317 (+/-0.00017) train: 0.99732 (+/-0.00034):\n",
        " {'cls__n_estimators': 44, 'cls__max_features': 25, 'cls__bootstrap': False}\n"
       ]
      }
     ],
     "prompt_number": 205
    },
    {
     "cell_type": "markdown",
     "metadata": {},
     "source": [
      "### Feature Importances\n",
      "\n",
      "We can find the feature importances for a random forest model simply by querying the model:"
     ]
    },
    {
     "cell_type": "code",
     "collapsed": false,
     "input": [
      "importances = rfmodel.named_steps['cls'].feature_importances_"
     ],
     "language": "python",
     "metadata": {},
     "outputs": [],
     "prompt_number": 206
    },
    {
     "cell_type": "code",
     "collapsed": false,
     "input": [
      "plot(importances)"
     ],
     "language": "python",
     "metadata": {},
     "outputs": [
      {
       "metadata": {},
       "output_type": "pyout",
       "prompt_number": 207,
       "text": [
        "[<matplotlib.lines.Line2D at 0x62f8810>]"
       ]
      },
      {
       "metadata": {},
       "output_type": "display_data",
       "png": "[encoded data removed]",
       "text": [
        "<matplotlib.figure.Figure at 0x478a2d0>"
       ]
      }
     ],
     "prompt_number": 207
    },
    {
     "cell_type": "code",
     "collapsed": false,
     "input": [
      "savez(\"../../plots/bayes/random.forest.importances.npz\",importances)"
     ],
     "language": "python",
     "metadata": {},
     "outputs": [],
     "prompt_number": 208
    },
    {
     "cell_type": "markdown",
     "metadata": {},
     "source": [
      "# Training pulldown classifier\n",
      "\n",
      "As the pulldown results are particularly suited to our classification problem, and have been gathered specifically for us we have to include them in our algorithm.\n",
      "Unfortunately, as described in the the notebook on [extracting pulldown features][affinitynotes], we were not able to impute the features using regression.\n",
      "The solution is to train the model on a subset of the training data which the pulldown data covers.\n",
      "The indexes of these training examples have been saved in the [training and test set generation notebook][traintest].\n",
      "\n",
      "[affinitynotes]: http://nbviewer.ipython.org/github/ggray1729/opencast-bio/blob/master/notebooks/Pulldown%20affinity%20feature%20extraction.ipynb\n",
      "[traintest]: http://nbviewer.ipython.org/github/ggray1729/opencast-bio/blob/master/notebooks/Training%20and%20test%20featureset%20generation.ipynb"
     ]
    },
    {
     "cell_type": "code",
     "collapsed": false,
     "input": [
      "posindexes = loadtxt(\"../hippie.positive.pulldownindexes.txt\",dtype=int)\n",
      "negindexes = loadtxt(\"../hippie.negative.pulldownindexes.txt\",dtype=int)"
     ],
     "language": "python",
     "metadata": {},
     "outputs": [],
     "prompt_number": 64
    },
    {
     "cell_type": "markdown",
     "metadata": {},
     "source": [
      "After removing conflicting entries above the indexes in the negative training set will no longer be correct.\n",
      "For each index we must ensure that it still points to the correct feature vector.\n",
      "We can do this by subtracting the number of conflict indexes that are smaller than each of the these indexes."
     ]
    },
    {
     "cell_type": "code",
     "collapsed": false,
     "input": [
      "conflictindexes = array(conflicts.keys())\n",
      "def fixoffset(negindex):\n",
      "    Nlower = where(conflictindexes<negindex)[0].shape[0]\n",
      "    return negindex - Nlower"
     ],
     "language": "python",
     "metadata": {},
     "outputs": [],
     "prompt_number": 59
    },
    {
     "cell_type": "code",
     "collapsed": false,
     "input": [
      "negindexes = map(fixoffset, negindexes)"
     ],
     "language": "python",
     "metadata": {},
     "outputs": [],
     "prompt_number": 65
    },
    {
     "cell_type": "code",
     "collapsed": false,
     "input": [
      "negindexes = array(negindexes)"
     ],
     "language": "python",
     "metadata": {},
     "outputs": [],
     "prompt_number": 69
    },
    {
     "cell_type": "markdown",
     "metadata": {},
     "source": [
      "To index the full X matrix, we will have to offset the index of the negative indexes again to take into account the leading positive entries:"
     ]
    },
    {
     "cell_type": "code",
     "collapsed": false,
     "input": [
      "negindexes = negindexes + posdata.shape[0]"
     ],
     "language": "python",
     "metadata": {},
     "outputs": [],
     "prompt_number": 70
    },
    {
     "cell_type": "markdown",
     "metadata": {},
     "source": [
      "The ratio of positive to negative examples should be the same as with the full training data above, which is 1:18."
     ]
    },
    {
     "cell_type": "code",
     "collapsed": true,
     "input": [
      "float(negindexes.shape[0])/float(posindexes.shape[0])"
     ],
     "language": "python",
     "metadata": {},
     "outputs": [
      {
       "metadata": {},
       "output_type": "pyout",
       "prompt_number": 216,
       "text": [
        "4.168306801736613"
       ]
      }
     ],
     "prompt_number": 216
    },
    {
     "cell_type": "markdown",
     "metadata": {},
     "source": [
      "Unfortunately, this means we do not have enough negative training examples.\n",
      "A simple solution to this problem is just to include more random negative training examples."
     ]
    },
    {
     "cell_type": "code",
     "collapsed": false,
     "input": [
      "reqN = (18-float(negindexes.shape[0])/float(posindexes.shape[0]))*float(posindexes.shape[0])"
     ],
     "language": "python",
     "metadata": {},
     "outputs": [],
     "prompt_number": 225
    },
    {
     "cell_type": "code",
     "collapsed": false,
     "input": [
      "plusneg = []\n",
      "while len(plusneg) < reqN:\n",
      "    sample = random_integers(0,negdata.shape[0]) + posdata.shape[0]\n",
      "    if sample not in plusneg:\n",
      "        if sample not in negindexes:\n",
      "            plusneg.append(sample)"
     ],
     "language": "python",
     "metadata": {},
     "outputs": [],
     "prompt_number": 232
    },
    {
     "cell_type": "code",
     "collapsed": false,
     "input": [
      "negindexes = list(negindexes) + plusneg"
     ],
     "language": "python",
     "metadata": {},
     "outputs": [],
     "prompt_number": 238
    },
    {
     "cell_type": "code",
     "collapsed": false,
     "input": [
      "float(len(negindexes))/float(posindexes.shape[0])"
     ],
     "language": "python",
     "metadata": {},
     "outputs": [
      {
       "metadata": {},
       "output_type": "pyout",
       "prompt_number": 240,
       "text": [
        "18.000072358900145"
       ]
      }
     ],
     "prompt_number": 240
    },
    {
     "cell_type": "code",
     "collapsed": false,
     "input": [
      "posindexes = list(posindexes)\n",
      "pdX = X[posindexes + negindexes]\n",
      "pdy = y[posindexes + negindexes]"
     ],
     "language": "python",
     "metadata": {},
     "outputs": [],
     "prompt_number": 241
    },
    {
     "cell_type": "markdown",
     "metadata": {},
     "source": [
      "Looking above we can see that the most successful classifier on accuracy using the dummycompare function is the random forest algorithm, which is marginally better than Logistic Regression.\n",
      "Training this model again, but on this training set:"
     ]
    },
    {
     "cell_type": "code",
     "collapsed": false,
     "input": [
      "cd features/tmp/"
     ],
     "language": "python",
     "metadata": {},
     "outputs": [
      {
       "output_type": "stream",
       "stream": "stdout",
       "text": [
        "/data/opencast/MRes/features/tmp\n"
       ]
      }
     ],
     "prompt_number": 250
    },
    {
     "cell_type": "code",
     "collapsed": false,
     "input": [
      "split_filenames = ocbio.mmap_utils.persist_cv_splits(pdX,pdy, test_size=0.25,\n",
      "                                                     n_cv_iter=10, name='pdfeatures',random_state=42)"
     ],
     "language": "python",
     "metadata": {},
     "outputs": [],
     "prompt_number": 251
    },
    {
     "cell_type": "code",
     "collapsed": false,
     "input": [
      "#making dummy iterable keys\n",
      "ditrfparams = {}\n",
      "for k in rfparams:\n",
      "    ditrfparams[k] = [rfparams[k]]"
     ],
     "language": "python",
     "metadata": {},
     "outputs": [],
     "prompt_number": 249
    },
    {
     "cell_type": "code",
     "collapsed": false,
     "input": [
      "pdrfsearch = ocbio.model_selection.RandomizedGridSearch(lb_view)\n",
      "pdrfsearch.launch_for_splits(rfmodel,ditrfparams,split_filenames)"
     ],
     "language": "python",
     "metadata": {},
     "outputs": [
      {
       "metadata": {},
       "output_type": "pyout",
       "prompt_number": 261,
       "text": [
        "Progress: 00% (000/003)"
       ]
      }
     ],
     "prompt_number": 261
    },
    {
     "cell_type": "code",
     "collapsed": false,
     "input": [
      "print pdrfsearch"
     ],
     "language": "python",
     "metadata": {},
     "outputs": [
      {
       "output_type": "stream",
       "stream": "stdout",
       "text": [
        "Progress: 100% (003/003)\n",
        "\n",
        "Rank 1: validation: 0.99462 (+/-0.00005) train: 0.99846 (+/-0.00002):\n",
        " {'cls__n_estimators': 44, 'cls__max_features': 20, 'cls__bootstrap': False}\n"
       ]
      }
     ],
     "prompt_number": 266
    },
    {
     "cell_type": "code",
     "collapsed": false,
     "input": [
      "%%time\n",
      "train,test = next(iter(sklearn.cross_validation.StratifiedShuffleSplit(pdy, test_size=0.1)))\n",
      "rfmodel.set_params(**rfparams)\n",
      "rfmodel.fit(pdX[train],pdy[train])\n",
      "print \"Training score: {0}\".format(model.score(pdX[train],pdy[train]))\n",
      "print \"Test score: {0}\".format(model.score(pdX[test],pdy[test]))"
     ],
     "language": "python",
     "metadata": {},
     "outputs": [
      {
       "output_type": "stream",
       "stream": "stdout",
       "text": [
        "Training score: 0.992984148746\n",
        "Test score: 0.993030960813"
       ]
      },
      {
       "output_type": "stream",
       "stream": "stdout",
       "text": [
        "\n",
        "CPU times: user 5min 9s, sys: 56.7 s, total: 6min 5s\n",
        "Wall time: 6min 19s\n"
       ]
      }
     ],
     "prompt_number": 268
    },
    {
     "cell_type": "code",
     "collapsed": false,
     "input": [
      "cd .."
     ],
     "language": "python",
     "metadata": {},
     "outputs": [
      {
       "output_type": "stream",
       "stream": "stdout",
       "text": [
        "/data/opencast/MRes/features\n"
       ]
      }
     ],
     "prompt_number": 267
    },
    {
     "cell_type": "code",
     "collapsed": false,
     "input": [
      "fpr,tpr = plotroc(rfmodel,pdX[test],pdy[test])"
     ],
     "language": "python",
     "metadata": {},
     "outputs": [
      {
       "metadata": {},
       "output_type": "display_data",
       "png": "[encoded data removed]",
       "text": [
        "<matplotlib.figure.Figure at 0x58b4b50>"
       ]
      }
     ],
     "prompt_number": 281
    },
    {
     "cell_type": "code",
     "collapsed": false,
     "input": [
      "savez(\"../plots/bayes/pulldown.roc.rf.npz\",fpr,tpr)"
     ],
     "language": "python",
     "metadata": {},
     "outputs": [],
     "prompt_number": 280
    },
    {
     "cell_type": "code",
     "collapsed": false,
     "input": [
      "import pickle"
     ],
     "language": "python",
     "metadata": {},
     "outputs": [],
     "prompt_number": 282
    },
    {
     "cell_type": "code",
     "collapsed": false,
     "input": [
      "f = open(\"random.forest.pulldown.classifier.pickle\",\"wb\")\n",
      "pickle.dump(rfmodel,f)\n",
      "f.close()"
     ],
     "language": "python",
     "metadata": {},
     "outputs": [],
     "prompt_number": 283
    },
    {
     "cell_type": "markdown",
     "metadata": {},
     "source": [
      "# Classifying Pulldown interactions\n",
      "\n",
      "The reason we train this classifier is to then attempt estimate probabilities that an interaction exists between proteins in the pulldown experiments, specifically those in the bait and prey lists.\n",
      "Therefore, we will apply this classifier to feature vectors corresponding to combinations of these proteins.\n",
      "\n",
      "Unfortunately, the file containing these feature vectors is extremely long, it contains many more lines than used for training as there are so many combinations of the proteins involved:"
     ]
    },
    {
     "cell_type": "code",
     "collapsed": false,
     "input": [
      "!~/qwc.sh pulldown.nolabel.Entrez.vectors.txt"
     ],
     "language": "python",
     "metadata": {},
     "outputs": [
      {
       "output_type": "stream",
       "stream": "stdout",
       "text": [
        "1797054 pulldown.nolabel.Entrez.vectors.txt\r\n"
       ]
      }
     ],
     "prompt_number": 38
    },
    {
     "cell_type": "markdown",
     "metadata": {},
     "source": [
      "What we would like to do is iterate over this entire file and produce a file containing two Entrez Gene IDs corresponding to each protein pair with a likelihood estimate in that interaction from the classifier. To limit the number of edges we have to deal with we place a limit on the probability an interaction must have before it is written to the file."
     ]
    },
    {
     "cell_type": "code",
     "collapsed": false,
     "input": [
      "import csv"
     ],
     "language": "python",
     "metadata": {},
     "outputs": [],
     "prompt_number": 271
    },
    {
     "cell_type": "code",
     "collapsed": false,
     "input": [
      "f,fl,fw = (open(\"pulldown.nolabel.Entrez.vectors.txt\"),\n",
      "           open(\"../forGAVIN/pulldown_data/pulldown.interactions.Entrez.tsv\"),\n",
      "           open(\"../forGAVIN/pulldown_data/pulldown.interactions.Entrez.weighted.tsv\",\"w\"))\n",
      "c,cl,fw = \n",
      "_ = f.close(),fl.close(),fw.close()"
     ],
     "language": "python",
     "metadata": {},
     "outputs": [],
     "prompt_number": 278
    },
    {
     "cell_type": "markdown",
     "metadata": {},
     "source": [
      "## Classifying active zone network\n",
      "\n",
      "A prepared network that is currently used at Edinburgh is available.\n",
      "To make the task of processing weighted edges easier we can apply our classifier to only these feature vectors and write the resulting feature vectors."
     ]
    },
    {
     "cell_type": "code",
     "collapsed": false,
     "input": [
      "edgelist = loadtxt(\"pulldown.edgelist.vectors.txt\",dtype=str)\n",
      "NAinds = where(edgelist==\"NA\")\n",
      "edgelist[NAinds] = 0.0\n",
      "edgelist[edgelist==\"missing\"] = np.nan\n",
      "edgelist = edgelist.astype(np.float)"
     ],
     "language": "python",
     "metadata": {},
     "outputs": [],
     "prompt_number": 270
    },
    {
     "cell_type": "code",
     "collapsed": false,
     "input": [
      "estimates = rfmodel.predict_proba(edgelist)"
     ],
     "language": "python",
     "metadata": {},
     "outputs": [],
     "prompt_number": 272
    },
    {
     "cell_type": "code",
     "collapsed": false,
     "input": [
      "print estimates[5,1]"
     ],
     "language": "python",
     "metadata": {},
     "outputs": [
      {
       "output_type": "stream",
       "stream": "stdout",
       "text": [
        "0.0\n"
       ]
      }
     ],
     "prompt_number": 274
    },
    {
     "cell_type": "code",
     "collapsed": false,
     "input": [
      "f,fw = open(\"../forGAVIN/mergecode/edgelist_new.txt\"), open(\"../forGAVIN/mergecode/edgelist_weighted.txt\",\"w\")\n",
      "c,cw = csv.reader(f, delimiter=\"\\t\"), csv.writer(fw, delimiter=\"\\t\")\n",
      "c.next()\n",
      "for i,l in enumerate(c):\n",
      "    cw.writerow(l + [estimates[i,1]])\n",
      "f.close(),fw.close()"
     ],
     "language": "python",
     "metadata": {},
     "outputs": [
      {
       "metadata": {},
       "output_type": "pyout",
       "prompt_number": 275,
       "text": [
        "(None, None)"
       ]
      }
     ],
     "prompt_number": 275
    },
    {
     "cell_type": "markdown",
     "metadata": {},
     "source": [
      "# Pickling the class-conditional distributions\n",
      "\n",
      "We would like to be able to update our Bayesian probability of interaction using these predictions,\n",
      "so we will pickle the ingredients needed to build a class-conditional beta distribution for the results of this classifier."
     ]
    },
    {
     "cell_type": "code",
     "collapsed": false,
     "input": [],
     "language": "python",
     "metadata": {},
     "outputs": []
    }
   ],
   "metadata": {}
  }
 ]
}