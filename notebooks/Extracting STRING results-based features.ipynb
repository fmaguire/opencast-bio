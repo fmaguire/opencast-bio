{
 "metadata": {
  "name": "",
  "signature": "sha256:706b9a1b395fb2ad66ffcc760c97fa23954ff5b792d889c95a41090e9aa18cba"
 },
 "nbformat": 3,
 "nbformat_minor": 0,
 "worksheets": [
  {
   "cells": [
    {
     "cell_type": "markdown",
     "metadata": {},
     "source": [
      "The [STRING][] database is a protein-protein interaction prediction database which uses a number of data sources we do not have access to to make protein-protein interaction predictions.\n",
      "Until we have access to these data sources we have to make do with reduced information which can be extracted from publicly available files on the STRING website [downloads page][stringdownloads].\n",
      "Specifically we will be using the detailed predictions file for homo sapiens:\n",
      "\n",
      "[string]: http://string-db.org/\n",
      "[stringdownloads]: http://string-db.org/newstring_cgi/show_download_page.pl?UserId=D3MKtgHqZ62Q&sessionId=K__apyKupQO_"
     ]
    },
    {
     "cell_type": "code",
     "collapsed": false,
     "input": [
      "cd ../../"
     ],
     "language": "python",
     "metadata": {},
     "outputs": [
      {
       "output_type": "stream",
       "stream": "stdout",
       "text": [
        "/home/gavin/Documents/MRes\n"
       ]
      }
     ],
     "prompt_number": 3
    },
    {
     "cell_type": "code",
     "collapsed": false,
     "input": [
      "!mkdir string"
     ],
     "language": "python",
     "metadata": {},
     "outputs": [],
     "prompt_number": 4
    },
    {
     "cell_type": "code",
     "collapsed": false,
     "input": [
      "cd string/"
     ],
     "language": "python",
     "metadata": {},
     "outputs": [
      {
       "output_type": "stream",
       "stream": "stdout",
       "text": [
        "/home/gavin/Documents/MRes/string\n"
       ]
      }
     ],
     "prompt_number": 5
    },
    {
     "cell_type": "code",
     "collapsed": false,
     "input": [
      "!wget http://string-db.org/newstring_download/protein.links.detailed.v9.1/9606.protein.links.detailed.v9.1.txt.gz"
     ],
     "language": "python",
     "metadata": {},
     "outputs": [
      {
       "output_type": "stream",
       "stream": "stdout",
       "text": [
        "--2014-07-04 15:17:21--  http://string-db.org/newstring_download/protein.links.detailed.v9.1/9606.protein.links.detailed.v9.1.txt.gz\r\n",
        "Resolving string-db.org (string-db.org)... "
       ]
      },
      {
       "output_type": "stream",
       "stream": "stdout",
       "text": [
        "194.94.44.34\r\n",
        "Connecting to string-db.org (string-db.org)|194.94.44.34|:80... "
       ]
      },
      {
       "output_type": "stream",
       "stream": "stdout",
       "text": [
        "connected.\r\n",
        "HTTP request sent, awaiting response... "
       ]
      },
      {
       "output_type": "stream",
       "stream": "stdout",
       "text": [
        "200 OK\r\n",
        "Length: 37667622 (36M) [application/x-gzip]\r\n",
        "Saving to: \u20189606.protein.links.detailed.v9.1.txt.gz\u2019\r\n",
        "\r\n",
        "\r",
        " 0% [                                       ] 0           --.-K/s              "
       ]
      },
      {
       "output_type": "stream",
       "stream": "stdout",
       "text": [
        "\r",
        " 0% [                                       ] 186,492      844KB/s             "
       ]
      },
      {
       "output_type": "stream",
       "stream": "stdout",
       "text": [
        "\r",
        " 4% [>                                      ] 1,589,604   3.51MB/s             "
       ]
      },
      {
       "output_type": "stream",
       "stream": "stdout",
       "text": [
        "\r",
        "15% [=====>                                 ] 6,006,004   9.05MB/s             "
       ]
      },
      {
       "output_type": "stream",
       "stream": "stdout",
       "text": [
        "\r",
        "33% [============>                          ] 12,671,148  14.4MB/s             "
       ]
      },
      {
       "output_type": "stream",
       "stream": "stdout",
       "text": [
        "\r",
        "55% [====================>                  ] 20,797,324  19.1MB/s             "
       ]
      },
      {
       "output_type": "stream",
       "stream": "stdout",
       "text": [
        "\r",
        "72% [===========================>           ] 27,129,428  20.8MB/s             "
       ]
      },
      {
       "output_type": "stream",
       "stream": "stdout",
       "text": [
        "\r",
        "100%[======================================>] 37,667,622  25.5MB/s   in 1.4s   \r\n",
        "\r\n"
       ]
      },
      {
       "output_type": "stream",
       "stream": "stdout",
       "text": [
        "2014-07-04 15:17:23 (25.5 MB/s) - \u20189606.protein.links.detailed.v9.1.txt.gz\u2019 saved [37667622/37667622]\r\n",
        "\r\n"
       ]
      }
     ],
     "prompt_number": 6
    },
    {
     "cell_type": "code",
     "collapsed": false,
     "input": [
      "!gunzip 9606.protein.links.detailed.v9.1.txt.gz"
     ],
     "language": "python",
     "metadata": {},
     "outputs": [],
     "prompt_number": 8
    },
    {
     "cell_type": "code",
     "collapsed": false,
     "input": [
      "!head 9606.protein.links.detailed.v9.1.txt"
     ],
     "language": "python",
     "metadata": {},
     "outputs": [
      {
       "output_type": "stream",
       "stream": "stdout",
       "text": [
        "protein1 protein2 neighborhood fusion cooccurence coexpression experimental database textmining combined_score\r\n",
        "9606.ENSP00000000233 9606.ENSP00000020673 0 0 0 0 0 0 176 176\r\n",
        "9606.ENSP00000000233 9606.ENSP00000054666 0 0 0 0 88 0 309 327\r\n",
        "9606.ENSP00000000233 9606.ENSP00000158762 0 0 0 0 0 0 718 718\r\n",
        "9606.ENSP00000000233 9606.ENSP00000203407 0 0 0 272 0 0 0 272\r\n",
        "9606.ENSP00000000233 9606.ENSP00000203630 0 0 0 241 0 0 0 241\r\n",
        "9606.ENSP00000000233 9606.ENSP00000215071 0 0 0 130 0 0 105 170\r\n",
        "9606.ENSP00000000233 9606.ENSP00000215115 0 0 0 196 0 0 0 196\r\n",
        "9606.ENSP00000000233 9606.ENSP00000215375 0 0 0 279 0 0 0 279\r\n",
        "9606.ENSP00000000233 9606.ENSP00000215565 0 0 0 151 0 0 0 151\r\n"
       ]
      }
     ],
     "prompt_number": 12
    },
    {
     "cell_type": "markdown",
     "metadata": {},
     "source": [
      "By inspection we can see that the protein identifiers here are Ensembl protein IDs.\n",
      "In the [InterologWalk Notebook][walk] a dictionary was saved to map between our Entrez IDs and these IDs.\n",
      "We can reuse this dictionary:\n",
      "\n",
      "[walk]: http://nbviewer.ipython.org/github/ggray1729/opencast-bio/blob/dfc5b8c682e835b733ca671c80f4636ba7ad7081/notebooks/Extracting%20InterologWalk%20features.ipynb"
     ]
    },
    {
     "cell_type": "code",
     "collapsed": false,
     "input": [
      "cd ../geneconversion/"
     ],
     "language": "python",
     "metadata": {},
     "outputs": [
      {
       "output_type": "stream",
       "stream": "stdout",
       "text": [
        "/home/gavin/Documents/MRes/geneconversion\n"
       ]
      }
     ],
     "prompt_number": 13
    },
    {
     "cell_type": "code",
     "collapsed": false,
     "input": [
      "import pickle"
     ],
     "language": "python",
     "metadata": {},
     "outputs": [],
     "prompt_number": 14
    },
    {
     "cell_type": "code",
     "collapsed": false,
     "input": [
      "f = open(\"human.gene2ensemble.pickle\")\n",
      "gene2ensembl = pickle.load(f)\n",
      "f.close()"
     ],
     "language": "python",
     "metadata": {},
     "outputs": [],
     "prompt_number": 16
    },
    {
     "cell_type": "markdown",
     "metadata": {},
     "source": [
      "What we would like to do is create a class which stores each of these pairs as keys and each of these feature vectors as values.\n",
      "If it is unable to retreive a feature vector then it should return an empty vector, as that would correspond to each of these evidence terms being zero."
     ]
    },
    {
     "cell_type": "code",
     "collapsed": false,
     "input": [],
     "language": "python",
     "metadata": {},
     "outputs": []
    }
   ],
   "metadata": {}
  }
 ]
}