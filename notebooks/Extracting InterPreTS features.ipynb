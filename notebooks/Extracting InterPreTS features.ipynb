{
 "metadata": {
  "name": "",
  "signature": "sha256:b62b5cbb7dc4bc2ef3ca9b78133f9b17a87ac16fcc0d152fa5831e447fb7e50d"
 },
 "nbformat": 3,
 "nbformat_minor": 0,
 "worksheets": [
  {
   "cells": [
    {
     "cell_type": "markdown",
     "metadata": {},
     "source": [
      "[InterPreTS][] is a tool designed to predict interaction based on the tertiary structure of proteins.\n",
      "To use it, we require FASTA files for each of the proteins we're interested in using.\n",
      "The greedy approach would be to attempt to get data for all the known human proteins from the gene database.\n",
      "These were already found when working on the Gene Ontology features.\n",
      "\n",
      "Again, using the NCBI gene database and Biopython it's possible to find FASTA formatted records for each of these proteins.\n",
      "Then the tool can be downloaded from the [InterPreTS][] website and predictions found that can be used as features.\n",
      "\n",
      "## Finding FASTA record for human proteins\n",
      "\n",
      "Loading in the list of known human proteins:\n",
      "\n",
      "[interprets]: http://www.russelllab.org/cgi-bin/tools/interprets.pl"
     ]
    },
    {
     "cell_type": "code",
     "collapsed": false,
     "input": [
      "cd ../../geneconversion/"
     ],
     "language": "python",
     "metadata": {},
     "outputs": [
      {
       "output_type": "stream",
       "stream": "stdout",
       "text": [
        "/home/gavin/Documents/MRes/geneconversion\n"
       ]
      }
     ],
     "prompt_number": 1
    },
    {
     "cell_type": "markdown",
     "metadata": {},
     "source": [
      "It turns out that [other people have tried to do this before][biostars] and it can be done using the `gene2refseq` conversion table and the batch Entrez tool [here][batchentrez].\n",
      "Instead of using the script defined there using Python to do the mapping from Entrez Gene ID to protein accession number:\n",
      "\n",
      "[biostars]: https://www.biostars.org/p/52652/\n",
      "[batchentrez]: http://www.ncbi.nlm.nih.gov/sites/batchentrez"
     ]
    },
    {
     "cell_type": "code",
     "collapsed": false,
     "input": [
      "import csv"
     ],
     "language": "python",
     "metadata": {},
     "outputs": [],
     "prompt_number": 3
    },
    {
     "cell_type": "code",
     "collapsed": false,
     "input": [
      "#open file and filter line by tax id, then match to the human id to the protein id\n",
      "f = open(\"gene2refseq\")\n",
      "c = csv.reader(f, delimiter=\"\\t\")\n",
      "geneidtoprotein = {}\n",
      "for line in c:\n",
      "    # make sure they're human proteins\n",
      "    if line[0] == \"9606\":\n",
      "        try:\n",
      "            geneidtoprotein[line[1]] += [line[6]]\n",
      "        except KeyError:\n",
      "            geneidtoprotein[line[1]] = [line[6]]\n",
      "f.close()"
     ],
     "language": "python",
     "metadata": {},
     "outputs": [],
     "prompt_number": 4
    },
    {
     "cell_type": "markdown",
     "metadata": {},
     "source": [
      "### Distribution of protein IDs for each Gene ID\n",
      "\n",
      "There are multiple protein IDs for each Gene ID due to isoforms, duplicate entries and invalid entries:"
     ]
    },
    {
     "cell_type": "code",
     "collapsed": false,
     "input": [
      "counts = []\n",
      "for k in geneidtoprotein.keys():\n",
      "    counts.append(len(geneidtoprotein[k]))"
     ],
     "language": "python",
     "metadata": {},
     "outputs": [],
     "prompt_number": 5
    },
    {
     "cell_type": "code",
     "collapsed": false,
     "input": [
      "h=hist(counts, bins=arange(0,50)+0.5, range=(0,50))"
     ],
     "language": "python",
     "metadata": {},
     "outputs": [
      {
       "metadata": {},
       "output_type": "display_data",
       "png": "[encoded data removed]",
       "text": [
        "<matplotlib.figure.Figure at 0x7f67e2210890>"
       ]
      }
     ],
     "prompt_number": 6
    },
    {
     "cell_type": "markdown",
     "metadata": {},
     "source": [
      "### Retrieving protein accession numbers\n",
      "\n",
      "First, all the protein accession numbers, minus duplicates must be saved to a file:"
     ]
    },
    {
     "cell_type": "code",
     "collapsed": false,
     "input": [
      "proteinids = list(flatten(geneidtoprotein.values()))\n",
      "print \"Before removing duplicates %i protein gi IDs\"%len(proteinids)\n",
      "proteinids = set(proteinids)\n",
      "print \"After removing duplicates %i protein gi IDs\"%len(proteinids)"
     ],
     "language": "python",
     "metadata": {},
     "outputs": [
      {
       "output_type": "stream",
       "stream": "stdout",
       "text": [
        "Before removing duplicates 484877 protein gi IDs\n",
        "After removing duplicates 72927 protein gi IDs\n"
       ]
      }
     ],
     "prompt_number": 12
    },
    {
     "cell_type": "code",
     "collapsed": false,
     "input": [
      "f = open(\"human.proteingi.txt\",\"w\")\n",
      "for p in proteinids:\n",
      "    f.write(\"{0}\\n\".format(p))\n",
      "f.close()"
     ],
     "language": "python",
     "metadata": {},
     "outputs": [],
     "prompt_number": 13
    },
    {
     "cell_type": "markdown",
     "metadata": {},
     "source": [
      "Then this file is submitted to the [batch Entrez service, specifying Protein as the database.\n",
      "Tried this, but 72927 is _too large_ for the service.\n",
      "It recommends downloading all proteins from the NCBI ftp service.\n",
      "Looking around it appears what we want is the file [here][ncbihsapiensproteins].\n",
      "\n",
      "It's described in the README as:\n",
      "\n",
      "> The RNA and protein directories provide sequence files in three\n",
      "formats representing all of the mRNA, non-coding transcript, and\n",
      "protein model reference sequences (RefSeq) exported as part of the\n",
      "genome annotation process.\n",
      "\n",
      "Downloaded this and gunzipped it.\n",
      "Now have to parse this FASTA file with Biopython and match it to the protein database accession number:\n",
      "\n",
      "[ncbihsapiensproteins]: ftp://ftp.ncbi.nih.gov/genomes/H_sapiens/protein/protein.fa.gz"
     ]
    },
    {
     "cell_type": "code",
     "collapsed": false,
     "input": [
      "from Bio import Entrez,SeqIO\n",
      "Entrez.email = \"gavingray1729@gmail.com\""
     ],
     "language": "python",
     "metadata": {},
     "outputs": [],
     "prompt_number": 17
    },
    {
     "cell_type": "code",
     "collapsed": false,
     "input": [
      "proteinrecords = list(SeqIO.parse(\"protein.fa\",\"fasta\"))"
     ],
     "language": "python",
     "metadata": {},
     "outputs": [],
     "prompt_number": 50
    },
    {
     "cell_type": "code",
     "collapsed": false,
     "input": [
      "print proteinrecords[0]"
     ],
     "language": "python",
     "metadata": {},
     "outputs": [
      {
       "output_type": "stream",
       "stream": "stdout",
       "text": [
        "ID: gi|53828740|ref|NP_001005484.1|\n",
        "Name: gi|53828740|ref|NP_001005484.1|\n",
        "Description: gi|53828740|ref|NP_001005484.1| olfactory receptor 4F5 [Homo sapiens]\n",
        "Number of features: 0\n",
        "Seq('MVTEFIFLGLSDSQELQTFLFMLFFVFYGGIVFGNLLIVITVVSDSHLHSPMYF...VKF', SingleLetterAlphabet())\n"
       ]
      }
     ],
     "prompt_number": 40
    },
    {
     "cell_type": "code",
     "collapsed": false,
     "input": [
      "proteintorecord = {}\n",
      "for r in proteinrecords:\n",
      "    #get the accession number\n",
      "    accnum = r.id.split(\"|\")[1]\n",
      "    #use that to index this record\n",
      "    proteintorecord[accnum] = r"
     ],
     "language": "python",
     "metadata": {},
     "outputs": [],
     "prompt_number": 52
    },
    {
     "cell_type": "code",
     "collapsed": false,
     "input": [
      "genetorecord = {}\n",
      "for k in geneidtoprotein.keys():\n",
      "    for p in geneidtoprotein[k]:\n",
      "        try:\n",
      "            genetorecord[k] += [proteintorecord[p]]\n",
      "        except KeyError:\n",
      "            try:\n",
      "                genetorecord[k] = [proteintorecord[p]]\n",
      "            except KeyError:\n",
      "                #ignore invalid keys\n",
      "                pass"
     ],
     "language": "python",
     "metadata": {},
     "outputs": [],
     "prompt_number": 56
    },
    {
     "cell_type": "code",
     "collapsed": false,
     "input": [
      "# add Entrez annotations to FASTA files\n",
      "for k in genetorecord.keys():\n",
      "    for r in genetorecord[k]:\n",
      "        r.description += \" Gene ID: {0}\".format(k)"
     ],
     "language": "python",
     "metadata": {},
     "outputs": [],
     "prompt_number": 59
    },
    {
     "cell_type": "code",
     "collapsed": false,
     "input": [
      "# write new FASTA file\n",
      "SeqIO.write(flatten(genetorecord.values()),\"human.protein.fasta\",\"fasta\")"
     ],
     "language": "python",
     "metadata": {},
     "outputs": [
      {
       "metadata": {},
       "output_type": "pyout",
       "prompt_number": 62,
       "text": [
        "295326"
       ]
      }
     ],
     "prompt_number": 62
    },
    {
     "cell_type": "markdown",
     "metadata": {},
     "source": [
      "## Mapping Gene ID pairs to FASTA pairs\n",
      "\n",
      "Each Gene ID pair will map to multiple FASTA pairs and each of these will have to be evaluated by the InterPreTS tool.\n",
      "These different isoforms are likely to interact differently, as shown in [this paper][ellis_tissue_2012].\n",
      "Trying an example pair:\n",
      "\n",
      "[ellis_tissue_2012]: http://www.sciencedirect.com/science/article/pii/S1097276512004820"
     ]
    },
    {
     "cell_type": "code",
     "collapsed": false,
     "input": [
      "pair = (genetorecord.keys()[0],genetorecord.keys()[100])"
     ],
     "language": "python",
     "metadata": {},
     "outputs": [],
     "prompt_number": 67
    },
    {
     "cell_type": "code",
     "collapsed": false,
     "input": [
      "print pair"
     ],
     "language": "python",
     "metadata": {},
     "outputs": [
      {
       "output_type": "stream",
       "stream": "stdout",
       "text": [
        "('114787', '55839')\n"
       ]
      }
     ],
     "prompt_number": 68
    },
    {
     "cell_type": "markdown",
     "metadata": {},
     "source": [
      "Writing a record from each of these identifiers to file:"
     ]
    },
    {
     "cell_type": "code",
     "collapsed": false,
     "input": [
      "SeqIO.write([genetorecord[pair[0]][0], genetorecord[pair[1]][0]],\"example.pair.fasta\",\"fasta\")"
     ],
     "language": "python",
     "metadata": {},
     "outputs": [
      {
       "metadata": {},
       "output_type": "pyout",
       "prompt_number": 76,
       "text": [
        "2"
       ]
      }
     ],
     "prompt_number": 76
    },
    {
     "cell_type": "markdown",
     "metadata": {},
     "source": [
      "Web tool did not return anything, no hits.\n",
      "Trying with more proteins."
     ]
    },
    {
     "cell_type": "code",
     "collapsed": false,
     "input": [
      "examplelist = []\n",
      "for k in genetorecord.keys()[:20]:\n",
      "    examplelist.append(genetorecord[k][0])"
     ],
     "language": "python",
     "metadata": {},
     "outputs": [],
     "prompt_number": 73
    },
    {
     "cell_type": "code",
     "collapsed": false,
     "input": [
      "SeqIO.write(examplelist,\"example.group.fasta\",\"fasta\")"
     ],
     "language": "python",
     "metadata": {},
     "outputs": [
      {
       "metadata": {},
       "output_type": "pyout",
       "prompt_number": 75,
       "text": [
        "20"
       ]
      }
     ],
     "prompt_number": 75
    },
    {
     "cell_type": "markdown",
     "metadata": {},
     "source": [
      "This produces some results which will be viewable for the next six weeks [here][interpretsresults].\n",
      "\n",
      "\n",
      "[interpretsresults]: http://www.russelllab.org/tools/tmp/1403622287_0/index.html"
     ]
    },
    {
     "cell_type": "code",
     "collapsed": false,
     "input": [
      "import scipy.misc"
     ],
     "language": "python",
     "metadata": {},
     "outputs": [],
     "prompt_number": 77
    },
    {
     "cell_type": "code",
     "collapsed": false,
     "input": [
      "scipy.misc.comb(len(genetorecord.keys()),2)"
     ],
     "language": "python",
     "metadata": {},
     "outputs": [
      {
       "metadata": {},
       "output_type": "pyout",
       "prompt_number": 78,
       "text": [
        "202055253.0"
       ]
      }
     ],
     "prompt_number": 78
    }
   ],
   "metadata": {}
  }
 ]
}