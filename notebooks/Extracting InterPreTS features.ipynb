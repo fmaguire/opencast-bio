{
 "metadata": {
  "name": "",
  "signature": "sha256:cb2766931b5c047660afb0c66f37de8c39172f531cf6b8b68816bc1583e20ffb"
 },
 "nbformat": 3,
 "nbformat_minor": 0,
 "worksheets": [
  {
   "cells": [
    {
     "cell_type": "markdown",
     "metadata": {},
     "source": [
      "[InterPreTS][] is a tool designed to predict interaction based on the tertiary structure of proteins.\n",
      "To use it, we require FASTA files for each of the proteins we're interested in using.\n",
      "The greedy approach would be to attempt to get data for all the known human proteins from the gene database.\n",
      "These were already found when working on the Gene Ontology features.\n",
      "\n",
      "Again, using the NCBI gene database and Biopython it's possible to find FASTA formatted records for each of these proteins.\n",
      "Then the tool can be downloaded from the [InterPreTS][] website and predictions found that can be used as features.\n",
      "\n",
      "## Finding FASTA record for human proteins\n",
      "\n",
      "Loading in the list of known human proteins:\n",
      "\n",
      "[interprets]: http://www.russelllab.org/cgi-bin/tools/interprets.pl"
     ]
    },
    {
     "cell_type": "code",
     "collapsed": false,
     "input": [
      "cd ../../geneconversion/"
     ],
     "language": "python",
     "metadata": {},
     "outputs": [
      {
       "output_type": "stream",
       "stream": "stdout",
       "text": [
        "/home/gavin/Documents/MRes/geneconversion\n"
       ]
      }
     ],
     "prompt_number": 9
    },
    {
     "cell_type": "code",
     "collapsed": false,
     "input": [
      "import pickle"
     ],
     "language": "python",
     "metadata": {},
     "outputs": [],
     "prompt_number": 2
    },
    {
     "cell_type": "code",
     "collapsed": false,
     "input": [
      "f = open(\"human.Entrez.pickle\")\n",
      "humanids = pickle.load(f)\n",
      "f.close()"
     ],
     "language": "python",
     "metadata": {},
     "outputs": [],
     "prompt_number": 3
    },
    {
     "cell_type": "code",
     "collapsed": false,
     "input": [
      "cd ../"
     ],
     "language": "python",
     "metadata": {},
     "outputs": [
      {
       "output_type": "stream",
       "stream": "stdout",
       "text": [
        "/home/gavin/Documents/MRes\n"
       ]
      }
     ],
     "prompt_number": 11
    },
    {
     "cell_type": "code",
     "collapsed": false,
     "input": [
      "!mkdir InterPreTS"
     ],
     "language": "python",
     "metadata": {},
     "outputs": [],
     "prompt_number": 12
    },
    {
     "cell_type": "code",
     "collapsed": false,
     "input": [
      "cd InterPreTS/"
     ],
     "language": "python",
     "metadata": {},
     "outputs": [
      {
       "output_type": "stream",
       "stream": "stdout",
       "text": [
        "/home/gavin/Documents/MRes/InterPreTS\n"
       ]
      }
     ],
     "prompt_number": 13
    },
    {
     "cell_type": "markdown",
     "metadata": {},
     "source": [
      "Next loading Biopython and retrieving FASTA records:"
     ]
    },
    {
     "cell_type": "code",
     "collapsed": false,
     "input": [
      "from Bio import Entrez,SeqIO\n",
      "Entrez.email = \"gavingray1729@gmail.com\""
     ],
     "language": "python",
     "metadata": {},
     "outputs": [],
     "prompt_number": 20
    },
    {
     "cell_type": "markdown",
     "metadata": {},
     "source": [
      "For each ID, we would like to find a FASTA record.\n",
      "[Chapter 9][biopythonch9] covers how to access the Entrez records that should be used to retrieve these.\n",
      "It appears what we want to use is the [Efetch][] service.\n",
      "Trying this with an example gene:\n",
      "\n",
      "[biopythonch9]: http://biopython.org/DIST/docs/tutorial/Tutorial.html#chapter%3Aentrez\n",
      "[efetch]: http://www.ncbi.nlm.nih.gov/books/NBK25499/#chapter4.EFetch"
     ]
    },
    {
     "cell_type": "code",
     "collapsed": false,
     "input": [
      "examplegene = list(humanids)[0]\n",
      "print examplegene"
     ],
     "language": "python",
     "metadata": {},
     "outputs": [
      {
       "output_type": "stream",
       "stream": "stdout",
       "text": [
        "114787\n"
       ]
      }
     ],
     "prompt_number": 17
    },
    {
     "cell_type": "markdown",
     "metadata": {},
     "source": [
      "First a handle is defined:"
     ]
    },
    {
     "cell_type": "code",
     "collapsed": false,
     "input": [
      "handle = Entrez.efetch(db=\"gene\", id=examplegene, rettype=\"fasta\", retmode=\"text\")"
     ],
     "language": "python",
     "metadata": {},
     "outputs": [],
     "prompt_number": 35
    },
    {
     "cell_type": "code",
     "collapsed": false,
     "input": [
      "links = Entrez.elink(dbfrom=\"gene\",db=\"nucleotide\",id=examplegene,linkname=\"gene_nuccore_refseqrna\")"
     ],
     "language": "python",
     "metadata": {},
     "outputs": [],
     "prompt_number": 48
    },
    {
     "cell_type": "code",
     "collapsed": false,
     "input": [
      "print Entrez.read(links)"
     ],
     "language": "python",
     "metadata": {},
     "outputs": [
      {
       "output_type": "stream",
       "stream": "stdout",
       "text": [
        "[{u'LinkSetDb': [{u'DbTo': 'nuccore', u'Link': [{u'Id': '578810995'}, {u'Id': '112821680'}], u'LinkName': 'gene_nuccore_refseqrna'}], u'DbFrom': 'gene', u'IdList': ['114787'], u'LinkSetDbHistory': [], u'ERROR': []}]\n"
       ]
      }
     ],
     "prompt_number": 49
    },
    {
     "cell_type": "code",
     "collapsed": false,
     "input": [
      "print links.readline()"
     ],
     "language": "python",
     "metadata": {},
     "outputs": [
      {
       "output_type": "stream",
       "stream": "stdout",
       "text": [
        "\n"
       ]
      }
     ],
     "prompt_number": 45
    },
    {
     "cell_type": "markdown",
     "metadata": {},
     "source": [
      "Then we can see what this handle points to:"
     ]
    },
    {
     "cell_type": "code",
     "collapsed": false,
     "input": [
      "print handle.read()"
     ],
     "language": "python",
     "metadata": {},
     "outputs": [
      {
       "output_type": "stream",
       "stream": "stdout",
       "text": [
        "\n",
        "1. GPRIN1\n",
        "Official Symbol: GPRIN1 and Name: G protein regulated inducer of neurite outgrowth 1[Homo sapiens]\n",
        "Other Aliases: GRIN1\n",
        "Other Designations: G protein-regulated inducer of neurite outgrowth 1\n",
        "Chromosome: 5; Location: 5q35.2\n",
        "Annotation: Chromosome 5NC_000005.10 (176595802..176617357, complement)\n",
        "MIM: 611239\n",
        "ID: 114787\n",
        "\n",
        "\n"
       ]
      }
     ],
     "prompt_number": 36
    },
    {
     "cell_type": "markdown",
     "metadata": {},
     "source": [
      "It turns out that [other people have tried to do this before][biostars] and it can be done using the `gene2refseq` conversion table and the batch Entrez tool [here][batchentrez].\n",
      "\n",
      "[biostars]: https://www.biostars.org/p/52652/\n",
      "[batchentrez]: http://www.ncbi.nlm.nih.gov/sites/batchentrez"
     ]
    },
    {
     "cell_type": "code",
     "collapsed": false,
     "input": [
      "cd ../geneconversion/"
     ],
     "language": "python",
     "metadata": {},
     "outputs": [
      {
       "output_type": "stream",
       "stream": "stdout",
       "text": [
        "/home/gavin/Documents/MRes/geneconversion\n"
       ]
      }
     ],
     "prompt_number": 50
    },
    {
     "cell_type": "markdown",
     "metadata": {},
     "source": [
      "To use the shell script provided in that [biostars post][biostars] we first have to write the Gene IDs to a file:\n",
      "\n",
      "[biostars]: https://www.biostars.org/p/52652/"
     ]
    },
    {
     "cell_type": "code",
     "collapsed": false,
     "input": [
      "f = open(\"human.Entrez.txt\", \"w\")\n",
      "for i in humanids:\n",
      "    f.write(\"{0}\\n\".format(i))\n",
      "f.close()"
     ],
     "language": "python",
     "metadata": {},
     "outputs": [],
     "prompt_number": 8
    },
    {
     "cell_type": "code",
     "collapsed": false,
     "input": [
      "!sort -k1,1 human.Entrez.txt | uniq > ordered.human.Entrez.txt"
     ],
     "language": "python",
     "metadata": {},
     "outputs": [],
     "prompt_number": 9
    },
    {
     "cell_type": "code",
     "collapsed": false,
     "input": [
      "%%bash\n",
      "curl -s \"ftp://ftp.ncbi.nih.gov/gene/DATA/gene2refseq.gz\" | gunzip -c | cut -d $'\\t' -f2,7 |\\\n",
      "        grep -v \"-\" | fgrep -w -f human.Entrez.txt | sort -t $'\\t' -k1,1 -k2,2 -u  |\\\n",
      "            join -t $'\\t' -1 1 -2 1 ordered.human.Entrez.txt - | cut -d $'\\t' -f2 > protein_gi.txt"
     ],
     "language": "python",
     "metadata": {},
     "outputs": [
      {
       "output_type": "stream",
       "stream": "stdout",
       "text": [
        "Process is terminated.\n"
       ]
      }
     ],
     "prompt_number": 11
    },
    {
     "cell_type": "markdown",
     "metadata": {},
     "source": [
      "Edited the above to get it to run, but takes too long to execute.\n",
      "Also, not sure if it's actually going to work now.\n",
      "Can't trust it so will have to write my own Python version:"
     ]
    },
    {
     "cell_type": "code",
     "collapsed": false,
     "input": [
      "import csv"
     ],
     "language": "python",
     "metadata": {},
     "outputs": [],
     "prompt_number": 5
    },
    {
     "cell_type": "code",
     "collapsed": false,
     "input": [
      "#open file and filter line by tax id, then match to the human id to the protein id\n",
      "f = open(\"gene2refseq\")\n",
      "c = csv.reader(f, delimiter=\"\\t\")\n",
      "geneidtoprotein = {}\n",
      "for line in c:\n",
      "    if line[0] == \"9606\":\n",
      "        try:\n",
      "            geneidtoprotein[line[1]] += [line[6]]\n",
      "        except KeyError:\n",
      "            geneidtoprotein[line[1]] = [line[6]]\n",
      "f.close()"
     ],
     "language": "python",
     "metadata": {},
     "outputs": [],
     "prompt_number": 10
    },
    {
     "cell_type": "markdown",
     "metadata": {},
     "source": [
      "What's the distribution of the number of proteins IDs per gene ID?"
     ]
    },
    {
     "cell_type": "code",
     "collapsed": false,
     "input": [
      "counts = []\n",
      "for k in geneidtoprotein.keys():\n",
      "    counts.append(len(geneidtoprotein[k]))"
     ],
     "language": "python",
     "metadata": {},
     "outputs": [],
     "prompt_number": 11
    },
    {
     "cell_type": "code",
     "collapsed": false,
     "input": [
      "h=hist(counts, bins=arange(0,50)+0.5, range=(0,50))"
     ],
     "language": "python",
     "metadata": {},
     "outputs": [
      {
       "metadata": {},
       "output_type": "display_data",
       "png": "[encoded data removed]",
       "text": [
        "<matplotlib.figure.Figure at 0x7fe841717650>"
       ]
      }
     ],
     "prompt_number": 23
    },
    {
     "cell_type": "markdown",
     "metadata": {},
     "source": [
      "So there can be very large numbers of protein IDs per gene ID but usually its around 5 or 6?\n",
      "\n",
      "This isn't a problem if each of these protein IDs map to _the same sequence_.\n",
      "Can check this using the batch Entrez service with an example protein.\n",
      "Picking one with many protein IDs:"
     ]
    },
    {
     "cell_type": "code",
     "collapsed": false,
     "input": [
      "exampleid = geneidtoprotein.keys()[0]\n",
      "for k in geneidtoprotein.keys():\n",
      "    if len(geneidtoprotein[exampleid]) < len(geneidtoprotein[k]):\n",
      "        exampleid = k"
     ],
     "language": "python",
     "metadata": {},
     "outputs": [],
     "prompt_number": 32
    },
    {
     "cell_type": "code",
     "collapsed": false,
     "input": [
      "f = open(\"exampleid.proteingi.txt\",\"w\")\n",
      "for l in geneidtoprotein[exampleid]:\n",
      "    f.write(\"{0}\\n\".format(l))\n",
      "f.close()"
     ],
     "language": "python",
     "metadata": {},
     "outputs": [],
     "prompt_number": 34
    },
    {
     "cell_type": "markdown",
     "metadata": {},
     "source": [
      "Putting this file into the service gets the following output:\n",
      "\n",
      "> Received lines: 314\n",
      ">\n",
      "> Rejected lines: 208\n",
      ">\n",
      "> Removed duplicates: 78\n",
      ">\n",
      "> Passed to Entrez: 28\n",
      ">\n",
      "> Retrieve records for 28 UID(s)\n",
      "\n",
      "And those 28 records do produce _different sequences_:"
     ]
    },
    {
     "cell_type": "code",
     "collapsed": false,
     "input": [
      "!head -n 37 exampleid.sequence.fasta"
     ],
     "language": "python",
     "metadata": {},
     "outputs": [
      {
       "output_type": "stream",
       "stream": "stdout",
       "text": [
        ">gi|33188427|ref|NP_872600.1| histone demethylase UTY isoform 2 [Homo sapiens]\r\n",
        "MKSCAVSLTTAAVAFGDEAKKMAEGKASRESEEESVSLTVEEREALGGMDSRLFGFVRLHEDGARTKTLL\r\n",
        "GKAVRCYESLILKAEGKVESDFFCQLGHFNLLLEDYSKALSAYQRYYSLQADYWKNAAFLYGLGLVYFYY\r\n",
        "NAFHWAIKAFQDVLYVDPSFCRAKEIHLRLGLMFKVNTDYKSSLKHFQLALIDCNPCTLSNAEIQFHIAH\r\n",
        "LYETQRKYHSAKEAYEQLLQTENLPAQVKATVLQQLGWMHHNMDLVGDKATKESYAIQYLQKSLEADPNS\r\n",
        "GQSWYFLGRCYSSIGKVQDAFISYRQSIDKSEASADTWCSIGVLYQQQNQPMDALQAYICAVQLDHGHAA\r\n",
        "AWMDLGTLYESCNQPQDAIKCYLNAARSKRCSNTSTLAARIKFLQNGSDNWNGGQSLSHHPVQQVYSLCL\r\n",
        "TPQKLQHLEQLRANRDNLNPAQKHQLEQLESQFVLMQQMRHKEVAQVRTTGIHNGAITDSSLPTNSVSNR\r\n",
        "QPHGALTRVSSVSQPGVRPACVEKLLSSGAFSAGCIPCGTSKILGSTDTILLGSNCIAGSESNGNVPYLQ\r\n",
        "QNTHTLPHNHTDLNSSTEEPWRKQLSNSAQGLHKSQSSCLSGPNEEQPLFSTGSAQYHQATSTGIKKANE\r\n",
        "HLTLPSNSVPQGDADSHLSCHTATSGGQQGIMFTKESKPSKNRSLVPETSRHTGDTSNGCADVKGLSNHV\r\n",
        "HQLIADAVSSPNHGDSPNLLIADNPQLSALLIGKANGNVGTGTCDKVNNIHPAVHTKTDHSVASSPSSAI\r\n",
        "STATPSPKSTEQRSINSVTSLNSPHSGLHTVNGEGLGKSQSSTKVDLPLASHRSTSQILPSMSVSICPSS\r\n",
        "TEVLKACRNPGKNGLSNSCILLDKCPPPRPPTSPYPPLPKDKLNPPTPSIYLENKRDAFFPPLHQFCTNP\r\n",
        "KNPVTVIRGLAGALKLDLGLFSTKTLVEANNEHMVEVRTQLLQPADENWDPTGTKKIWRCESNRSHTTIA\r\n",
        "KYAQYQASSFQESLREENEKRTQHKDHSDNESTSSENSGRRRKGPFKTIKFGTNIDLSDNKKWKLQLHEL\r\n",
        "TKLPAFARVVSAGNLLTHVGHTILGMNTVQLYMKVPGSRTPGHQENNNFCSVNINIGPGDCEWFVVPEDY\r\n",
        "WGVLNDFCEKNNLNFLMSSWWPNLEDLYEANVPVYRFIQRPGDLVWINAGTVHWVQAVGWCNNIAWNVGP\r\n",
        "LTACQYKLAVERYEWNKLKSVKSPVPMVHLSWNMARNIKVSDPKLFEMIK\r\n",
        "\r\n",
        ">gi|33188429|ref|NP_872601.1| histone demethylase UTY isoform 1 [Homo sapiens]\r\n",
        "MKSCAVSLTTAAVAFGDEAKKMAEGKASRESEEESVSLTVEEREALGGMDSRLFGFVRLHEDGARTKTLL\r\n",
        "GKAVRCYESLILKAEGKVESDFFCQLGHFNLLLEDYSKALSAYQRYYSLQADYWKNAAFLYGLGLVYFYY\r\n",
        "NAFHWAIKAFQDVLYVDPSFCRAKEIHLRLGLMFKVNTDYKSSLKHFQLALIDCNPCTLSNAEIQFHIAH\r\n",
        "LYETQRKYHSAKEAYEQLLQTENLPAQVKATVLQQLGWMHHNMDLVGDKATKESYAIQYLQKSLEADPNS\r\n",
        "GQSWYFLGRCYSSIGKVQDAFISYRQSIDKSEASADTWCSIGVLYQQQNQPMDALQAYICAVQLDHGHAA\r\n",
        "AWMDLGTLYESCNQPQDAIKCYLNAARSKRCSNTSTLAARIKFLQNGSDNWNGGQSLSHHPVQQVYSLCL\r\n",
        "TPQKLQHLEQLRANRDNLNPAQKHQLEQLESQFVLMQQMRHKEVAQVRTTGIHNGAITDSSLPTNSVSNR\r\n",
        "QPHGALTRVSSVSQPGVRPACVEKLLSSGAFSAGCIPCGTSKILGSTDTILLGSNCIAGSESNGNVPYLQ\r\n",
        "QNTHTLPHNHTDLNSSTEEPWRKQLSNSAQGLHKSQSSCLSGPNEEQPLFSTGSAQYHQATSTGIKKANE\r\n",
        "HLTLPSNSVPQGDADSHLSCHTATSGGQQGIMFTKESKPSKNRSLVPETSRHTGDTSNGCADVKGLSNHV\r\n",
        "HQLIADAVSSPNHGDSPNLLIADNPQLSALLIGKANGNVGTGTCDKVNNIHPAVHTKTDHSVASSPSSAI\r\n",
        "STATPSPKSTEQRSINSVTSLNSPHSGLHTVNGEGLGKSQSSTKVDLPLASHRSTSQILPSMSVSICPSS\r\n",
        "TEVLKACRNPGKNGLSNSCILLDKCPPPRPPTSPYPPLPKDKLNPPTPSIYLENKRDAFFPPLHQFCTNP\r\n",
        "KNPVTVIRGLAGALKLDLGLFSTKTLVEANNEHMVEVRTQLLQPADENWDPTGTKKIWRCESNRSHTTIA\r\n",
        "KYAQYQASSFQESLRAGMQWCDLSSLQPPPPGFKRFSHLSLPNSWNYRHLPSCPTNFCIFVETGFHHVGQ\r\n",
        "ACLELLTSGGLLASASQSAGITGVSHHAR\r\n"
       ]
      }
     ],
     "prompt_number": 40
    },
    {
     "cell_type": "markdown",
     "metadata": {},
     "source": [
      "But maybe we don't care that they're different? These appear to be isoforms anyway."
     ]
    }
   ],
   "metadata": {}
  }
 ]
}