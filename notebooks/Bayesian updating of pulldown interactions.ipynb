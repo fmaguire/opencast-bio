{
 "metadata": {
  "name": "",
  "signature": "sha256:321efe87a81f52f4e8f64bd1f89cd82a35597f3fcaf2d011bbedd8c42130710e"
 },
 "nbformat": 3,
 "nbformat_minor": 0,
 "worksheets": [
  {
   "cells": [
    {
     "cell_type": "code",
     "collapsed": false,
     "input": [
      "%matplotlib inline\n",
      "import matplotlib.pyplot as plt\n",
      "import numpy as np\n",
      "# Some nice default configuration for plots\n",
      "plt.rcParams['figure.figsize'] = 10, 7.5\n",
      "plt.rcParams['axes.grid'] = True\n",
      "plt.gray()"
     ],
     "language": "python",
     "metadata": {},
     "outputs": [
      {
       "metadata": {},
       "output_type": "display_data",
       "text": [
        "<matplotlib.figure.Figure at 0x3087910>"
       ]
      }
     ],
     "prompt_number": 10
    },
    {
     "cell_type": "markdown",
     "metadata": {},
     "source": [
      "The problem with weighting the interactions in the curated edgelist we are using to build our protein-protein interaction network is that the classifier is not perfect and is supplying extremely low probabilities for interactions which we expect to exist.\n",
      "We can encode this prior into our model by considering inclusion in a database, the edgelist and the result of classification to both be events that are dependent on an underlying interaction event.\n",
      "If we assume the events are also conditionally independent then we have a Naive Bayes model.\n",
      "\n",
      "To define the conditional distributions we can use KDE, as implemented in Weka's Naive Bayes model.\n",
      "For binary variables we can simply use Bernoulli distributions with explicitly defined parameters corresponding to true positive and false positive rate estimates.\n",
      "Including various interaction databases through iRefIndex is also possible, by explicitly defining conservative true positive and false positive rates.\n",
      "\n",
      "First we have to load the data:\n",
      "\n",
      "[bml]: http://en.wikipedia.org/wiki/Beta_distribution#Maximum_likelihood\n",
      "[scbt]: http://docs.scipy.org/doc/scipy/reference/generated/scipy.stats.beta.html"
     ]
    },
    {
     "cell_type": "code",
     "collapsed": false,
     "input": [
      "import scipy.stats"
     ],
     "language": "python",
     "metadata": {},
     "outputs": [],
     "prompt_number": 1
    },
    {
     "cell_type": "code",
     "collapsed": false,
     "input": [
      "import sklearn.neighbors"
     ],
     "language": "python",
     "metadata": {},
     "outputs": [],
     "prompt_number": 68
    },
    {
     "cell_type": "code",
     "collapsed": false,
     "input": [
      "cd ../../forGAVIN/mergecode/OUT/"
     ],
     "language": "python",
     "metadata": {},
     "outputs": [
      {
       "output_type": "stream",
       "stream": "stdout",
       "text": [
        "/data/opencast/MRes/forGAVIN/mergecode/OUT\n"
       ]
      }
     ],
     "prompt_number": 2
    },
    {
     "cell_type": "code",
     "collapsed": false,
     "input": [
      "interactions = loadtxt(\"edgelist_weighted.txt\",dtype=str)"
     ],
     "language": "python",
     "metadata": {},
     "outputs": [],
     "prompt_number": 3
    },
    {
     "cell_type": "code",
     "collapsed": false,
     "input": [
      "interactions = interactions[1:]"
     ],
     "language": "python",
     "metadata": {},
     "outputs": [],
     "prompt_number": 4
    },
    {
     "cell_type": "code",
     "collapsed": false,
     "input": [
      "weights = interactions[:,2]\n",
      "weights = weights.astype(np.float)"
     ],
     "language": "python",
     "metadata": {},
     "outputs": [],
     "prompt_number": 5
    },
    {
     "cell_type": "markdown",
     "metadata": {},
     "source": [
      "Now, finding the indexes of positive and negative examples:"
     ]
    },
    {
     "cell_type": "code",
     "collapsed": false,
     "input": [
      "import pickle"
     ],
     "language": "python",
     "metadata": {},
     "outputs": [],
     "prompt_number": 6
    },
    {
     "cell_type": "code",
     "collapsed": false,
     "input": [
      "#unpickle classifier's samples\n",
      "f = open(\"../../../features/random.forest.bayes.dist.samples.pickle\")\n",
      "samples = pickle.load(f)\n",
      "f.close()"
     ],
     "language": "python",
     "metadata": {},
     "outputs": [],
     "prompt_number": 7
    },
    {
     "cell_type": "code",
     "collapsed": false,
     "input": [
      "h = hist(samples[1][:,1],bins=50)"
     ],
     "language": "python",
     "metadata": {},
     "outputs": [
      {
       "metadata": {},
       "output_type": "display_data",
       "png": "[encoded data removed]",
       "text": [
        "<matplotlib.figure.Figure at 0x3087450>"
       ]
      }
     ],
     "prompt_number": 11
    },
    {
     "cell_type": "code",
     "collapsed": false,
     "input": [
      "h = hist(samples[0][:,1],bins=100)"
     ],
     "language": "python",
     "metadata": {},
     "outputs": [
      {
       "metadata": {},
       "output_type": "display_data",
       "png": "[encoded data removed]",
       "text": [
        "<matplotlib.figure.Figure at 0x3078b50>"
       ]
      }
     ],
     "prompt_number": 12
    },
    {
     "cell_type": "code",
     "collapsed": false,
     "input": [
      "x = linspace(0,1,500)"
     ],
     "language": "python",
     "metadata": {},
     "outputs": [],
     "prompt_number": 83
    },
    {
     "cell_type": "code",
     "collapsed": false,
     "input": [
      "def scotts_factor(X):\n",
      "    \"\"\"Only for 1d data\"\"\"\n",
      "    return float(len(X))**(-1./(5))"
     ],
     "language": "python",
     "metadata": {},
     "outputs": [],
     "prompt_number": 77
    },
    {
     "cell_type": "code",
     "collapsed": false,
     "input": [
      "kernel_1 = sklearn.neighbors.KernelDensity(bandwidth=scotts_factor(samples[1][:,1]))\n",
      "kernel_1.fit(samples[1][:,1][:, np.newaxis])"
     ],
     "language": "python",
     "metadata": {},
     "outputs": [
      {
       "metadata": {},
       "output_type": "pyout",
       "prompt_number": 79,
       "text": [
        "KernelDensity(algorithm='auto', atol=0, bandwidth=0.272461506854,\n",
        "       breadth_first=True, kernel='gaussian', leaf_size=40,\n",
        "       metric='euclidean', metric_params=None, rtol=0)"
       ]
      }
     ],
     "prompt_number": 79
    },
    {
     "cell_type": "code",
     "collapsed": false,
     "input": [
      "# high bandwidth for smooth distribution\n",
      "kernel_0 = sklearn.neighbors.KernelDensity(bandwidth=0.4)\n",
      "kernel_0.fit(samples[0][:,1][:, np.newaxis])"
     ],
     "language": "python",
     "metadata": {},
     "outputs": [
      {
       "metadata": {},
       "output_type": "pyout",
       "prompt_number": 85,
       "text": [
        "KernelDensity(algorithm='auto', atol=0, bandwidth=0.4, breadth_first=True,\n",
        "       kernel='gaussian', leaf_size=40, metric='euclidean',\n",
        "       metric_params=None, rtol=0)"
       ]
      }
     ],
     "prompt_number": 85
    },
    {
     "cell_type": "code",
     "collapsed": false,
     "input": [
      "plot(x,exp(kernel_1.score_samples(x[:, np.newaxis])),label=\"interaction\")\n",
      "plot(x,exp(kernel_0.score_samples(x[:, np.newaxis])),label=\"non-interaction\")\n",
      "yscale('log')\n",
      "legend(loc=0)"
     ],
     "language": "python",
     "metadata": {},
     "outputs": [
      {
       "metadata": {},
       "output_type": "pyout",
       "prompt_number": 86,
       "text": [
        "<matplotlib.legend.Legend at 0x30201610>"
       ]
      },
      {
       "metadata": {},
       "output_type": "display_data",
       "png": "[encoded data removed]",
       "text": [
        "<matplotlib.figure.Figure at 0x52549910>"
       ]
      }
     ],
     "prompt_number": 86
    },
    {
     "cell_type": "code",
     "collapsed": false,
     "input": [
      "import os"
     ],
     "language": "python",
     "metadata": {},
     "outputs": [],
     "prompt_number": 21
    },
    {
     "cell_type": "code",
     "collapsed": false,
     "input": [
      "plotpath = os.path.abspath(\"../../../plots/bayes/\")"
     ],
     "language": "python",
     "metadata": {},
     "outputs": [],
     "prompt_number": 22
    },
    {
     "cell_type": "code",
     "collapsed": false,
     "input": [
      "savez(os.path.join(plotpath,\"rf.kde.npz\"),x,\n",
      "      kernel_1.score_samples(x[:, np.newaxis]),kernel_0.score_samples(x[:, np.newaxis]))"
     ],
     "language": "python",
     "metadata": {},
     "outputs": [],
     "prompt_number": 113
    },
    {
     "cell_type": "markdown",
     "metadata": {},
     "source": [
      "## Loading STRING\n",
      "\n",
      "STRING is pickled, we can load it and retreive the internal database to obtain the probabilities.\n"
     ]
    },
    {
     "cell_type": "code",
     "collapsed": false,
     "input": [
      "import pickle"
     ],
     "language": "python",
     "metadata": {},
     "outputs": [],
     "prompt_number": 25
    },
    {
     "cell_type": "code",
     "collapsed": false,
     "input": [
      "sys.path.append(\"../../../opencast-bio/\")"
     ],
     "language": "python",
     "metadata": {},
     "outputs": [],
     "prompt_number": 26
    },
    {
     "cell_type": "code",
     "collapsed": false,
     "input": [
      "import ocbio.extract"
     ],
     "language": "python",
     "metadata": {},
     "outputs": [],
     "prompt_number": 27
    },
    {
     "cell_type": "code",
     "collapsed": false,
     "input": [
      "f = open(\"../../../string/human.Entrez.string.pickle\")\n",
      "stringdb = pickle.load(f)\n",
      "f.close()"
     ],
     "language": "python",
     "metadata": {},
     "outputs": [],
     "prompt_number": 28
    },
    {
     "cell_type": "markdown",
     "metadata": {},
     "source": [
      "## Loading iRefIndex\n",
      "\n",
      "Similarly, we must do this for iRefIndex:"
     ]
    },
    {
     "cell_type": "code",
     "collapsed": false,
     "input": [
      "f = open(\"../../../iRefIndex/human.iRefIndex.Entrez.1ofk.pickle\")\n",
      "irefdb = pickle.load(f)\n",
      "f.close()"
     ],
     "language": "python",
     "metadata": {},
     "outputs": [],
     "prompt_number": 29
    },
    {
     "cell_type": "markdown",
     "metadata": {},
     "source": [
      "# Fitting STRING KDE distribution\n",
      "\n",
      "As was done above with our classifier's results, we must build a beta distribution for the results from STRING. This will involve using iRefIndex as class labels, as before."
     ]
    },
    {
     "cell_type": "code",
     "collapsed": false,
     "input": [
      "stringlabelled = {}\n",
      "for k in stringdb.featuredict:\n",
      "    try:\n",
      "        stringlabelled[max(irefdb[k])] += [float(stringdb[k][-1])/1000]\n",
      "    except KeyError:\n",
      "        stringlabelled[max(irefdb[k])] = [float(stringdb[k][-1])/1000]"
     ],
     "language": "python",
     "metadata": {},
     "outputs": [],
     "prompt_number": 50
    },
    {
     "cell_type": "code",
     "collapsed": false,
     "input": [
      "# padding in zero confidence non-interactions\n",
      "nmissing = 500000\n",
      "stringlabelled['0'] = concatenate([stringlabelled['0'],zeros(int(nmissing))])"
     ],
     "language": "python",
     "metadata": {},
     "outputs": [],
     "prompt_number": 52
    },
    {
     "cell_type": "code",
     "collapsed": false,
     "input": [
      "# convert to arrays\n",
      "stringlabelled['1'] = array(stringlabelled['1'])\n",
      "stringlabelled['0'] = array(stringlabelled['0'])"
     ],
     "language": "python",
     "metadata": {},
     "outputs": [],
     "prompt_number": 94
    },
    {
     "cell_type": "code",
     "collapsed": false,
     "input": [
      "h=hist(stringlabelled['1'],bins=50,label='interaction')\n",
      "h=hist(stringlabelled['0'],bins=50,label='non-interaction')\n",
      "l=legend()"
     ],
     "language": "python",
     "metadata": {},
     "outputs": [
      {
       "metadata": {},
       "output_type": "display_data",
       "png": "[encoded data removed]",
       "text": [
        "<matplotlib.figure.Figure at 0x301dcd0>"
       ]
      }
     ],
     "prompt_number": 53
    },
    {
     "cell_type": "code",
     "collapsed": false,
     "input": [
      "strkernel_1 = sklearn.neighbors.KernelDensity(bandwidth=scotts_factor(stringlabelled['1']))\n",
      "strkernel_1.fit(stringlabelled['1'][:,np.newaxis])"
     ],
     "language": "python",
     "metadata": {},
     "outputs": [
      {
       "metadata": {},
       "output_type": "pyout",
       "prompt_number": 110,
       "text": [
        "KernelDensity(algorithm='auto', atol=0, bandwidth=0.110355295889,\n",
        "       breadth_first=True, kernel='gaussian', leaf_size=40,\n",
        "       metric='euclidean', metric_params=None, rtol=0)"
       ]
      }
     ],
     "prompt_number": 110
    },
    {
     "cell_type": "code",
     "collapsed": false,
     "input": [
      "strkernel_0 = sklearn.neighbors.KernelDensity(bandwidth=scotts_factor(stringlabelled['0']))\n",
      "strkernel_0.fit(stringlabelled['0'][:,np.newaxis])"
     ],
     "language": "python",
     "metadata": {},
     "outputs": [
      {
       "metadata": {},
       "output_type": "pyout",
       "prompt_number": 111,
       "text": [
        "KernelDensity(algorithm='auto', atol=0, bandwidth=0.0563252579132,\n",
        "       breadth_first=True, kernel='gaussian', leaf_size=40,\n",
        "       metric='euclidean', metric_params=None, rtol=0)"
       ]
      }
     ],
     "prompt_number": 111
    },
    {
     "cell_type": "code",
     "collapsed": false,
     "input": [
      "plot(x,exp(strkernel_1.score_samples(x[:,np.newaxis])),label=\"interaction\")\n",
      "plot(x,exp(strkernel_0.score_samples(x[:,np.newaxis])),label=\"non-interaction\")\n",
      "yscale('log')\n",
      "legend(loc=0)"
     ],
     "language": "python",
     "metadata": {},
     "outputs": [
      {
       "metadata": {},
       "output_type": "pyout",
       "prompt_number": 112,
       "text": [
        "<matplotlib.legend.Legend at 0xc713f50>"
       ]
      },
      {
       "metadata": {},
       "output_type": "display_data",
       "png": "[encoded data removed]",
       "text": [
        "<matplotlib.figure.Figure at 0x79b8c10>"
       ]
      }
     ],
     "prompt_number": 112
    },
    {
     "cell_type": "code",
     "collapsed": false,
     "input": [
      "savez(os.path.join(plotpath,\"rf.kde.npz\"),x,\n",
      "      strkernel_1.score_samples(x[:, np.newaxis]),kernel_0.score_samples(x[:, np.newaxis]))"
     ],
     "language": "python",
     "metadata": {},
     "outputs": [],
     "prompt_number": 114
    },
    {
     "cell_type": "markdown",
     "metadata": {},
     "source": [
      "# Posterior probabilities\n",
      "\n",
      "Using the distributions defined by KDE we can find the resulting \n",
      "Therefore, we can solve for the posterior for arbitrary points:"
     ]
    },
    {
     "cell_type": "code",
     "collapsed": false,
     "input": [
      "def posterior(prior,logprobdict):\n",
      "    \"\"\"Takes dictionary of class-conditional log probabilities and log prior\n",
      "    produces the corresponding posterior probability\"\"\"\n",
      "    #dictionary should have keys 0 and 1\n",
      "    post = []\n",
      "    for l1,l0 in zip(logprobdict[1],logprobdict[0]):\n",
      "        numerator = sum(l1) + prior\n",
      "        denominator = logaddexp(numerator,sum(l0))\n",
      "        post.append(exp(numerator-denominator))\n",
      "    return post"
     ],
     "language": "python",
     "metadata": {},
     "outputs": [],
     "prompt_number": 115
    },
    {
     "cell_type": "markdown",
     "metadata": {},
     "source": [
      "In the below cell we will be explicitly defining various probabilities for the different data sources.\n",
      "The values used will be estimates, aiming to be conservative.\n",
      "For each database two different probabilties must be defined:\n",
      "\n",
      "* For class 1:\n",
      "    * Probability that the database inclusion event occurs - true positive rate\n",
      "    * Probability that it does not occur - false negative rate\n",
      "* For class 0:\n",
      "    * Probability that the database inclusion event occurs - false positive rate\n",
      "    * Probability that it does not occur - true negative rate\n",
      "    \n",
      "This only equates to two probabilities as these probabilities are related within each class:\n",
      "\n",
      "$$\n",
      "TPR = 1 - FPR\n",
      "$$\n",
      "\n",
      "We can define these probabilities for each of these databases before we begin for iRefIndex and edgelist inclusion."
     ]
    },
    {
     "cell_type": "code",
     "collapsed": false,
     "input": [
      "irefprob = {'tpr':0.9,'tnr':0.9,'fpr':0.1,'fnr':0.1}\n",
      "edgelistprob = {'tpr':0.9,'tnr':0.9,'fpr':0.1,'fnr':0.1}"
     ],
     "language": "python",
     "metadata": {},
     "outputs": [],
     "prompt_number": 116
    },
    {
     "cell_type": "code",
     "collapsed": false,
     "input": [
      "rfkernel = {0:kernel_0,1:kernel_1}\n",
      "strkernel = {0:strkernel_0,1:strkernel_1}"
     ],
     "language": "python",
     "metadata": {},
     "outputs": [],
     "prompt_number": 117
    },
    {
     "cell_type": "code",
     "collapsed": false,
     "input": [
      "%%time\n",
      "#making logprobdict from classifier, STRING and iRefIndex\n",
      "logprobdict = {}\n",
      "ninter = len(interactions)\n",
      "for cls in [0,1]:\n",
      "    for i,l in enumerate(interactions,1):\n",
      "        pair = frozenset(l[:2])\n",
      "        weight = float(l[2])\n",
      "        pclass = rfkernel[cls].score(weight)\n",
      "        wstring = (float(stringdb[pair][-1]))\n",
      "        pstring = strkernel[cls].score(wstring)\n",
      "        irefresponse = max(map(float,irefdb[pair]))\n",
      "        if cls == 1:\n",
      "            piref = log(irefresponse*irefprob['tpr'] + (1.0-irefresponse)*irefprob['fnr'])\n",
      "            pedgelist = log(edgelistprob['tpr'])\n",
      "        else:\n",
      "            piref = log(irefresponse*irefprob['fpr'] + (1.0-irefresponse)*irefprob['tnr'])\n",
      "            pedgelist = log(edgelistprob['fpr'])\n",
      "        try:\n",
      "            logprobdict[cls] += [sum([pclass,pstring,pedgelist,piref])]\n",
      "        except KeyError:\n",
      "            logprobdict[cls] = [sum([pclass,pstring,pedgelist,piref])]\n",
      "        if int(ninter/10.)%i==0:\n",
      "            print \"{0}% done\".format((i*100)/ninter)"
     ],
     "language": "python",
     "metadata": {},
     "outputs": [
      {
       "output_type": "stream",
       "stream": "stdout",
       "text": [
        "0% done\n",
        "9% done"
       ]
      },
      {
       "output_type": "stream",
       "stream": "stdout",
       "text": [
        "\n",
        "0% done"
       ]
      },
      {
       "output_type": "stream",
       "stream": "stdout",
       "text": [
        "\n",
        "9% done"
       ]
      },
      {
       "output_type": "stream",
       "stream": "stdout",
       "text": [
        "\n",
        "CPU times: user 59min 37s, sys: 24.2 s, total: 1h 2s"
       ]
      },
      {
       "output_type": "stream",
       "stream": "stdout",
       "text": [
        "\n",
        "Wall time: 1h 6s\n"
       ]
      }
     ],
     "prompt_number": 136
    },
    {
     "cell_type": "code",
     "collapsed": false,
     "input": [
      "postweightings = posterior(1.0/600,logprobdict)"
     ],
     "language": "python",
     "metadata": {},
     "outputs": [],
     "prompt_number": 137
    },
    {
     "cell_type": "code",
     "collapsed": false,
     "input": [
      "h=hist(postweightings,bins=100)"
     ],
     "language": "python",
     "metadata": {},
     "outputs": [
      {
       "metadata": {},
       "output_type": "display_data",
       "png": "[encoded data removed]",
       "text": [
        "<matplotlib.figure.Figure at 0x15dc6090>"
       ]
      }
     ],
     "prompt_number": 138
    },
    {
     "cell_type": "code",
     "collapsed": false,
     "input": [
      "#save the data from this histogram\n",
      "savez(os.path.join(plotpath,\"postweightings.npz\"),postweightings)"
     ],
     "language": "python",
     "metadata": {},
     "outputs": [],
     "prompt_number": 139
    },
    {
     "cell_type": "markdown",
     "metadata": {},
     "source": [
      "Quite a discrete set of weights, probably due to all these binary features we're using."
     ]
    },
    {
     "cell_type": "markdown",
     "metadata": {},
     "source": [
      "## Writing these weights\n",
      "\n",
      "We will now write these weights to a file so that the community detection code can be run."
     ]
    },
    {
     "cell_type": "code",
     "collapsed": false,
     "input": [
      "import csv"
     ],
     "language": "python",
     "metadata": {},
     "outputs": [],
     "prompt_number": 142
    },
    {
     "cell_type": "code",
     "collapsed": false,
     "input": [
      "!git annex unlock edgelist_update_weighted.txt"
     ],
     "language": "python",
     "metadata": {},
     "outputs": [
      {
       "output_type": "stream",
       "stream": "stdout",
       "text": [
        "unlock edgelist_update_weighted.txt (copying...) ok\r\n"
       ]
      }
     ],
     "prompt_number": 140
    },
    {
     "cell_type": "code",
     "collapsed": false,
     "input": [
      "f = open(\"edgelist_update_weighted.txt\",\"w\")\n",
      "c = csv.writer(f, delimiter=\"\\t\")\n",
      "for i,p in enumerate(interactions[:,:2]):\n",
      "    c.writerow(list(p)+[postweightings[i]])\n",
      "f.close()"
     ],
     "language": "python",
     "metadata": {},
     "outputs": [],
     "prompt_number": 143
    }
   ],
   "metadata": {}
  }
 ]
}