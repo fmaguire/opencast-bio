{
 "metadata": {
  "name": "",
  "signature": "sha256:4e863288bc7d54861f3150009a894196bd78ae64f9b8d8a5f86b36ad232731fa"
 },
 "nbformat": 3,
 "nbformat_minor": 0,
 "worksheets": [
  {
   "cells": [
    {
     "cell_type": "markdown",
     "metadata": {},
     "source": [
      "The problem with weighting the interactions in the curated edgelist we are using to build our protein-protein interaction network is that the classifier is not perfect and is supplying extremely low probabilities for interactions which we expect to exist.\n",
      "We can encode this prior into our model by considering inclusion in the edgelist and the result of classification to both be events that are dependent on an underlying interaction event.\n",
      "This describes the following Bayesian network:\n",
      "\n",
      "![Bayesian network of interaction as class label][]\n",
      "\n",
      "By continuing with our assumption that any interaction given more than 50% confidence by the HIPPIE database is a real interaction we can then solve for the parameters that describe the conditional distributions.\n",
      "Specifically, if we have $I$ as interaction $c$ as classifier result and $e$ as edgelist inclusion result the joint can be expressed:\n",
      "\n",
      "$$\n",
      "p(I,e,c) = p(I) p(e|I) p(c|I)\n",
      "$$\n",
      "\n",
      "Where the individual distributions are:\n",
      "\n",
      "$$\n",
      "p(I) = Bernoulli(I;\\theta_{I}) = \\theta_{I}^{I}(1-\\theta_{I})^{1-I}\n",
      "$$\n",
      "\n",
      "$$\n",
      "p(e|I) = Bernoulli(e;\\theta_{e}) = \\theta_{e}^{e}(1-\\theta_{e})^{1-e}\n",
      "$$\n",
      "\n",
      "$$\n",
      "p(c|I) = Beta(c;\\alpha,\\beta) = \\frac{1}{B(\\alpha,\\beta)} c^{\\alpha-1}(1-c)^{\\beta-1}\n",
      "$$\n",
      "\n",
      "There are four parameters we need to find to be able to use this model: $\\alpha, \\beta, \\theta_{I}, \\theta_{e}$.\n",
      "We can easily get two of these:\n",
      "\n",
      "* $\\theta_{I}$ - We know that the frequency of interactions to non-interactions is approximately one in 600, so we will simply set this to $\\frac{1}{600}$.\n",
      "* $\\theta_{e}$ - We can solve for this by finding the Maximum Likelihood solutions for the Bernoulli distribution.\n",
      "* $\\beta$ and $\\alpha$ - We cannot easily solve to get the [Maximum Likelihood][bml] for a Beta distribution from first principles. However, this is implemented in [scipy.stats][scbt].\n",
      "\n",
      "\n",
      "\n",
      "[bml]: http://en.wikipedia.org/wiki/Beta_distribution#Maximum_likelihood\n",
      "[scbt]: http://docs.scipy.org/doc/scipy/reference/generated/scipy.stats.beta.html"
     ]
    },
    {
     "cell_type": "code",
     "collapsed": false,
     "input": [],
     "language": "python",
     "metadata": {},
     "outputs": []
    }
   ],
   "metadata": {}
  }
 ]
}