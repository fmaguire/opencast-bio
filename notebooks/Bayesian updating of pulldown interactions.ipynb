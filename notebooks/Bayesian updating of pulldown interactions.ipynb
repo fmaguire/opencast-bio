{
 "metadata": {
  "name": "",
  "signature": "sha256:62faaf877a867b99d9c743f3cb81f5e7621557a97be1050d944d9cd7272e1219"
 },
 "nbformat": 3,
 "nbformat_minor": 0,
 "worksheets": [
  {
   "cells": [
    {
     "cell_type": "code",
     "collapsed": false,
     "input": [
      "%matplotlib inline\n",
      "import matplotlib.pyplot as plt\n",
      "import numpy as np\n",
      "# Some nice default configuration for plots\n",
      "plt.rcParams['figure.figsize'] = 10, 7.5\n",
      "plt.rcParams['axes.grid'] = True\n",
      "plt.gray()"
     ],
     "language": "python",
     "metadata": {},
     "outputs": [
      {
       "metadata": {},
       "output_type": "display_data",
       "text": [
        "<matplotlib.figure.Figure at 0x22c3ad0>"
       ]
      }
     ],
     "prompt_number": 10
    },
    {
     "cell_type": "markdown",
     "metadata": {},
     "source": [
      "The problem with weighting the interactions in the curated edgelist we are using to build our protein-protein interaction network is that the classifier is not perfect and is supplying extremely low probabilities for interactions which we expect to exist.\n",
      "We can encode this prior into our model by considering inclusion in a database, the edgelist and the result of classification to both be events that are dependent on an underlying interaction event.\n",
      "If we assume the events are also conditionally independent then we have a Naive Bayes model.\n",
      "\n",
      "Specifically, if we have $I$ as interaction $c$ as classifier result and $e$ as edgelist inclusion result the joint can be expressed:\n",
      "\n",
      "$$\n",
      "p(I,e,c) = p(I) p(e|I) p(c|I)\n",
      "$$\n",
      "\n",
      "Where the individual distributions are:\n",
      "\n",
      "$$\n",
      "p(I=1) = Bernoulli(I=1;\\theta_{I}) = \\theta_{I}\n",
      "$$\n",
      "\n",
      "$$\n",
      "p(e|I=1) = Bernoulli(e;\\theta_{e}) = \\theta_{e}^{e}(1-\\theta_{e})^{1-e}\n",
      "$$\n",
      "\n",
      "$$\n",
      "p(c|I=1) = Beta(c;\\alpha,\\beta) = \\frac{1}{B(\\alpha,\\beta)} c^{\\alpha-1}(1-c)^{\\beta-1}\n",
      "$$\n",
      "\n",
      "There are parameters we need to find to be able to use this model: $\\alpha, \\beta, \\theta_{I}, \\pmb{\\theta_{e}}$.\n",
      "We can easily get two of these:\n",
      "\n",
      "* $\\theta_{I}$ - We know that the frequency of interactions to non-interactions is approximately one in 600, so we will simply set this to $\\frac{1}{600}$.\n",
      "* $\\pmb{\\theta_{e}}$ - This is a set of values corresponding to the different databases we will be including in our estimate:\n",
      "    * STRING - provides confidence value\n",
      "    * iRefIndex - can use conservative estimate of $1-1/100$ to estimate that at most every one in 100 interactions are incorrectly classified\n",
      "    * edgelist inclusion - the edgelist itself is constructed from various databases, so we can again use a conservative estimate of $1 - 1/100$\n",
      "* $\\beta$ and $\\alpha$ - We cannot easily solve to get the [Maximum Likelihood][bml] for a Beta distribution from first principles. However, this is implemented in [scipy.stats][scbt].\n",
      "\n",
      "First we have to load the data:\n",
      "\n",
      "[bml]: http://en.wikipedia.org/wiki/Beta_distribution#Maximum_likelihood\n",
      "[scbt]: http://docs.scipy.org/doc/scipy/reference/generated/scipy.stats.beta.html"
     ]
    },
    {
     "cell_type": "code",
     "collapsed": false,
     "input": [
      "import scipy.stats"
     ],
     "language": "python",
     "metadata": {},
     "outputs": [],
     "prompt_number": 1
    },
    {
     "cell_type": "code",
     "collapsed": false,
     "input": [
      "cd ../../forGAVIN/mergecode/OUT/"
     ],
     "language": "python",
     "metadata": {},
     "outputs": [
      {
       "output_type": "stream",
       "stream": "stdout",
       "text": [
        "/data/opencast/MRes/forGAVIN/mergecode/OUT\n"
       ]
      }
     ],
     "prompt_number": 3
    },
    {
     "cell_type": "code",
     "collapsed": false,
     "input": [
      "interactions = loadtxt(\"edgelist_weighted.txt\",dtype=str)"
     ],
     "language": "python",
     "metadata": {},
     "outputs": [],
     "prompt_number": 4
    },
    {
     "cell_type": "code",
     "collapsed": false,
     "input": [
      "interactions = interactions[1:]"
     ],
     "language": "python",
     "metadata": {},
     "outputs": [],
     "prompt_number": 5
    },
    {
     "cell_type": "code",
     "collapsed": false,
     "input": [
      "weights = interactions[:,2]\n",
      "weights = weights.astype(np.float)"
     ],
     "language": "python",
     "metadata": {},
     "outputs": [],
     "prompt_number": 6
    },
    {
     "cell_type": "markdown",
     "metadata": {},
     "source": [
      "Now, finding the indexes of positive and negative examples:"
     ]
    },
    {
     "cell_type": "code",
     "collapsed": false,
     "input": [
      "import pickle"
     ],
     "language": "python",
     "metadata": {},
     "outputs": [],
     "prompt_number": 7
    },
    {
     "cell_type": "code",
     "collapsed": false,
     "input": [
      "#unpickle classifier's samples\n",
      "f = open(\"../../../features/random.forest.bayes.dist.samples.pickle\")\n",
      "samples = pickle.load(f)\n",
      "f.close()"
     ],
     "language": "python",
     "metadata": {},
     "outputs": [],
     "prompt_number": 8
    },
    {
     "cell_type": "code",
     "collapsed": false,
     "input": [
      "h = hist(samples[1][:,1],bins=50)"
     ],
     "language": "python",
     "metadata": {},
     "outputs": [
      {
       "metadata": {},
       "output_type": "display_data",
       "png": "[encoded data removed]",
       "text": [
        "<matplotlib.figure.Figure at 0x35af250>"
       ]
      }
     ],
     "prompt_number": 12
    },
    {
     "cell_type": "code",
     "collapsed": false,
     "input": [
      "h = hist(samples[0][:,1],bins=100)"
     ],
     "language": "python",
     "metadata": {},
     "outputs": [
      {
       "metadata": {},
       "output_type": "display_data",
       "png": "[encoded data removed]",
       "text": [
        "<matplotlib.figure.Figure at 0x3305510>"
       ]
      }
     ],
     "prompt_number": 13
    },
    {
     "cell_type": "code",
     "collapsed": false,
     "input": [
      "#regularisation samples\n",
      "posregsamp = scipy.stats.beta.rvs(1,1,size=10)\n",
      "negregsamp = scipy.stats.beta.rvs(1,1,size=10)"
     ],
     "language": "python",
     "metadata": {},
     "outputs": [],
     "prompt_number": 82
    },
    {
     "cell_type": "code",
     "collapsed": false,
     "input": [
      "idx1 = random_integers(0,len(samples[1][:,1])-1,size=1000)\n",
      "idx0 = random_integers(0,len(samples[0][:,1])-1,size=1000)"
     ],
     "language": "python",
     "metadata": {},
     "outputs": [],
     "prompt_number": 90
    },
    {
     "cell_type": "code",
     "collapsed": false,
     "input": [
      "alpha_1,beta_1,_,_ = scipy.stats.beta.fit(hstack([samples[1][:,1][idx1],posregsamp]))"
     ],
     "language": "python",
     "metadata": {},
     "outputs": [],
     "prompt_number": 91
    },
    {
     "cell_type": "code",
     "collapsed": false,
     "input": [
      "alpha_0,beta_0,_,_ = scipy.stats.beta.fit(hstack([samples[0][:,1][idx0],negregsamp]))"
     ],
     "language": "python",
     "metadata": {},
     "outputs": [
      {
       "output_type": "stream",
       "stream": "stderr",
       "text": [
        "/usr/local/lib/python2.7/dist-packages/scipy/optimize/minpack.py:237: RuntimeWarning: The iteration is not making good progress, as measured by the \n",
        "  improvement from the last ten iterations.\n",
        "  warnings.warn(msg, RuntimeWarning)\n"
       ]
      }
     ],
     "prompt_number": 92
    },
    {
     "cell_type": "code",
     "collapsed": false,
     "input": [
      "x = linspace(0,1,500)"
     ],
     "language": "python",
     "metadata": {},
     "outputs": [],
     "prompt_number": 93
    },
    {
     "cell_type": "code",
     "collapsed": false,
     "input": [
      "b1 = scipy.stats.beta.pdf(x,alpha_1,beta_1)\n",
      "b0 = scipy.stats.beta.pdf(x,alpha_0,beta_0)"
     ],
     "language": "python",
     "metadata": {},
     "outputs": [],
     "prompt_number": 94
    },
    {
     "cell_type": "markdown",
     "metadata": {},
     "source": [
      "Have to use logarithmic scaling in the following plot to yield a readable graph:"
     ]
    },
    {
     "cell_type": "code",
     "collapsed": false,
     "input": [
      "plot(x,b1,label=\"interaction\")\n",
      "plot(x,b0,label=\"non-interaction\")\n",
      "legend(loc=0)"
     ],
     "language": "python",
     "metadata": {},
     "outputs": [
      {
       "metadata": {},
       "output_type": "pyout",
       "prompt_number": 95,
       "text": [
        "<matplotlib.legend.Legend at 0x5e4c490>"
       ]
      },
      {
       "metadata": {},
       "output_type": "display_data",
       "png": "[encoded data removed]",
       "text": [
        "<matplotlib.figure.Figure at 0x306261d0>"
       ]
      }
     ],
     "prompt_number": 95
    },
    {
     "cell_type": "code",
     "collapsed": false,
     "input": [
      "import os"
     ],
     "language": "python",
     "metadata": {},
     "outputs": [],
     "prompt_number": 76
    },
    {
     "cell_type": "code",
     "collapsed": false,
     "input": [
      "plotpath = os.path.abspath(\"../../../plots/bayes/\")"
     ],
     "language": "python",
     "metadata": {},
     "outputs": [],
     "prompt_number": 77
    },
    {
     "cell_type": "code",
     "collapsed": false,
     "input": [
      "savez(os.path.join(plotpath,\"rf.beta.npz\"),x,b1,b0)"
     ],
     "language": "python",
     "metadata": {},
     "outputs": [],
     "prompt_number": 78
    },
    {
     "cell_type": "markdown",
     "metadata": {},
     "source": [
      "## Loading STRING\n",
      "\n",
      "STRING is pickled, we can load it and retreive the internal database to obtain the probabilities.\n"
     ]
    },
    {
     "cell_type": "code",
     "collapsed": false,
     "input": [
      "import pickle"
     ],
     "language": "python",
     "metadata": {},
     "outputs": [],
     "prompt_number": 26
    },
    {
     "cell_type": "code",
     "collapsed": false,
     "input": [
      "sys.path.append(\"../../../opencast-bio/\")"
     ],
     "language": "python",
     "metadata": {},
     "outputs": [],
     "prompt_number": 27
    },
    {
     "cell_type": "code",
     "collapsed": false,
     "input": [
      "import ocbio.extract"
     ],
     "language": "python",
     "metadata": {},
     "outputs": [],
     "prompt_number": 28
    },
    {
     "cell_type": "code",
     "collapsed": false,
     "input": [
      "f = open(\"../../../string/human.Entrez.string.pickle\")\n",
      "stringdb = pickle.load(f)\n",
      "f.close()"
     ],
     "language": "python",
     "metadata": {},
     "outputs": [],
     "prompt_number": 29
    },
    {
     "cell_type": "markdown",
     "metadata": {},
     "source": [
      "## Loading iRefIndex\n",
      "\n",
      "Similarly, we must do this for iRefIndex:"
     ]
    },
    {
     "cell_type": "code",
     "collapsed": false,
     "input": [
      "f = open(\"../../../iRefIndex/human.iRefIndex.Entrez.1ofk.pickle\")\n",
      "irefdb = pickle.load(f)\n",
      "f.close()"
     ],
     "language": "python",
     "metadata": {},
     "outputs": [],
     "prompt_number": 30
    },
    {
     "cell_type": "markdown",
     "metadata": {},
     "source": [
      "# Fitting STRING beta distribution\n",
      "\n",
      "As was done above with our classifier's results, we must build a beta distribution for the results from STRING. This will involve using iRefIndex as class labels, as before."
     ]
    },
    {
     "cell_type": "code",
     "collapsed": false,
     "input": [
      "stringlabelled = {}\n",
      "for k in stringdb.featuredict:\n",
      "    try:\n",
      "        stringlabelled[max(irefdb[k])] += [float(stringdb[k][-1])/1000]\n",
      "    except KeyError:\n",
      "        stringlabelled[max(irefdb[k])] = [float(stringdb[k][-1])/1000]"
     ],
     "language": "python",
     "metadata": {},
     "outputs": [],
     "prompt_number": 31
    },
    {
     "cell_type": "code",
     "collapsed": false,
     "input": [
      "h=hist(stringlabelled['1'],bins=50,label='interaction')\n",
      "h=hist(stringlabelled['0'],bins=50,label='non-interaction')\n",
      "l=legend()"
     ],
     "language": "python",
     "metadata": {},
     "outputs": [
      {
       "metadata": {},
       "output_type": "display_data",
       "png": "[encoded data removed]",
       "text": [
        "<matplotlib.figure.Figure at 0x35a99d0>"
       ]
      }
     ],
     "prompt_number": 32
    },
    {
     "cell_type": "code",
     "collapsed": false,
     "input": [
      "#regularisation samples\n",
      "posregsamp = scipy.stats.beta.rvs(1,1,size=10)\n",
      "negregsamp = scipy.stats.beta.rvs(1,1,size=10)"
     ],
     "language": "python",
     "metadata": {},
     "outputs": [],
     "prompt_number": 85
    },
    {
     "cell_type": "code",
     "collapsed": false,
     "input": [
      "stringlabelled['1'] = array(stringlabelled['1'])\n",
      "stringlabelled['0'] = array(stringlabelled['0'])"
     ],
     "language": "python",
     "metadata": {},
     "outputs": [],
     "prompt_number": 58
    },
    {
     "cell_type": "code",
     "collapsed": false,
     "input": [
      "N1 = len(stringlabelled['1'])\n",
      "N2 = len(stringlabelled['0'])"
     ],
     "language": "python",
     "metadata": {},
     "outputs": [],
     "prompt_number": 46
    },
    {
     "cell_type": "code",
     "collapsed": false,
     "input": [
      "s1idx = random_integers(0,N1,size=1000)\n",
      "s2idx = random_integers(0,N2,size=1000)"
     ],
     "language": "python",
     "metadata": {},
     "outputs": [],
     "prompt_number": 86
    },
    {
     "cell_type": "code",
     "collapsed": false,
     "input": [
      "stralpha_1,strbeta_1,_,_ = scipy.stats.beta.fit(hstack([stringlabelled['1'][s1idx],posregsamp]))\n",
      "stralpha_0,strbeta_0,_,_ = scipy.stats.beta.fit(hstack([stringlabelled['0'][s2idx],negregsamp]))"
     ],
     "language": "python",
     "metadata": {},
     "outputs": [],
     "prompt_number": 87
    },
    {
     "cell_type": "code",
     "collapsed": false,
     "input": [
      "b1 = scipy.stats.beta.pdf(x,stralpha_1,strbeta_1)\n",
      "b0 = scipy.stats.beta.pdf(x,stralpha_0,strbeta_0)"
     ],
     "language": "python",
     "metadata": {},
     "outputs": [],
     "prompt_number": 111
    },
    {
     "cell_type": "code",
     "collapsed": false,
     "input": [
      "plot(x,b1,label=\"interaction\")\n",
      "plot(x,b0,label=\"non-interaction\")\n",
      "l=legend(loc=0)"
     ],
     "language": "python",
     "metadata": {},
     "outputs": [
      {
       "metadata": {},
       "output_type": "display_data",
       "png": "[encoded data removed]",
       "text": [
        "<matplotlib.figure.Figure at 0x3552850>"
       ]
      }
     ],
     "prompt_number": 112
    },
    {
     "cell_type": "code",
     "collapsed": false,
     "input": [
      "savez(os.path.join(plotpath,\"string.beta.npz\"),x,b1,b0)"
     ],
     "language": "python",
     "metadata": {},
     "outputs": [],
     "prompt_number": 113
    },
    {
     "cell_type": "markdown",
     "metadata": {},
     "source": [
      "# Posterior probabilities\n",
      "\n",
      "Using these distributions we can find the posterior probabilities for each of the interactions in this edgelist:\n",
      "\n",
      "$$\n",
      "p(I=1|e,c;\\theta_{e},\\alpha,\\beta) = \\frac{p(I=1,e,c;\\theta_{e},\\alpha,\\beta)}{p(e,c;\\theta_{e},\\alpha,\\beta)} = \\frac{p(I=1)p(e|I=1;\\theta_{e})p(c|I=1;\\alpha,\\beta)}{p(e,c;\\theta_{e},\\alpha,\\beta)}\n",
      "$$\n",
      "\n",
      "Where we find the denominator by marginalising the joint:\n",
      "\n",
      "$$\n",
      "p(e,c;\\theta_{e},\\alpha,\\beta) = \\sum_{I} p(I,e,c;\\theta_{e},\\alpha,\\beta)\n",
      "$$\n",
      "\n",
      "Which requires using the distributions of:\n",
      "\n",
      "$$\n",
      "p(I=0) = Bernoulli(I=1;\\theta_{I}) = 1-\\theta_{I}\n",
      "$$\n",
      "\n",
      "$$\n",
      "p(e|I=0) = Bernoulli(e;\\theta_{e}) = \\theta_{e0}^{e}(1-\\theta_{e0})^{1-e}\n",
      "$$\n",
      "\n",
      "$$\n",
      "p(c|I=0) = Beta(c;\\alpha_{0},\\beta_{0}) = \\frac{1}{B(\\alpha_{0},\\beta_{0})} c^{\\alpha_{0}-1}(1-c)^{\\beta_{0}-1}\n",
      "$$\n",
      "\n",
      "In this case, as $e$ is always one (all examples are elements of the edgelist) $\\theta_{e0}$ is simply $1 - \\theta_{e}$.\n",
      "Therefore, we can solve for the posterior for arbitrary points:"
     ]
    },
    {
     "cell_type": "code",
     "collapsed": false,
     "input": [
      "def posterior(prior,logprobdict):\n",
      "    \"\"\"Takes dictionary of class-conditional log probabilities and log prior\n",
      "    produces the corresponding posterior probability\"\"\"\n",
      "    #dictionary should have keys 0 and 1\n",
      "    post = []\n",
      "    for l1,l0 in zip(logprobdict[1],logprobdict[0]):\n",
      "        numerator = sum(l1) + prior\n",
      "        denominator = logaddexp(numerator,sum(l0))\n",
      "        post.append(exp(numerator-denominator))\n",
      "    return post"
     ],
     "language": "python",
     "metadata": {},
     "outputs": [],
     "prompt_number": 38
    },
    {
     "cell_type": "code",
     "collapsed": false,
     "input": [
      "alpha = {0:alpha_0,1:alpha_1}\n",
      "beta = {0:beta_0,1:beta_1}"
     ],
     "language": "python",
     "metadata": {},
     "outputs": [],
     "prompt_number": 39
    },
    {
     "cell_type": "code",
     "collapsed": false,
     "input": [
      "stralpha = {0:stralpha_0,1:stralpha_1}\n",
      "strbeta = {0:strbeta_0,1:strbeta_1}"
     ],
     "language": "python",
     "metadata": {},
     "outputs": [],
     "prompt_number": 40
    },
    {
     "cell_type": "markdown",
     "metadata": {},
     "source": [
      "In the below cell we will be explicitly defining various probabilities for the different data sources.\n",
      "The values used will be estimates, aiming to be conservative.\n",
      "For each database two different probabilties must be defined:\n",
      "\n",
      "* For class 1:\n",
      "    * Probability that the database inclusion event occurs - true positive rate\n",
      "    * Probability that it does not occur - false negative rate\n",
      "* For class 0:\n",
      "    * Probability that the database inclusion event occurs - false positive rate\n",
      "    * Probability that it does not occur - true negative rate\n",
      "    \n",
      "This only equates to two probabilities as these probabilities are related within each class:\n",
      "\n",
      "$$\n",
      "TPR = 1 - FPR\n",
      "$$\n",
      "\n",
      "We can define these probabilities for each of these databases before we begin for iRefIndex and edgelist inclusion."
     ]
    },
    {
     "cell_type": "code",
     "collapsed": false,
     "input": [
      "irefprob = {'tpr':0.9,'tnr':0.5,'fpr':0.1,'fnr':0.5}\n",
      "edgelistprob = {'tpr':0.9,'tnr':0.5,'fpr':0.1,'fnr':0.5}"
     ],
     "language": "python",
     "metadata": {},
     "outputs": [],
     "prompt_number": 103
    },
    {
     "cell_type": "code",
     "collapsed": false,
     "input": [
      "#making logprobdict from classifier, STRING and iRefIndex\n",
      "logprobdict = {}\n",
      "for cls in [0,1]:\n",
      "    for l in interactions:\n",
      "        pair = frozenset(l[:2])\n",
      "        #rounding problems\n",
      "        weight = float(l[2])*0.9 + 0.01\n",
      "        pclass = scipy.stats.beta.logpdf(weight,alpha[cls],beta[cls])\n",
      "        wstring = (float(stringdb[pair][-1])/1000)*0.9 + 0.09999\n",
      "        pstring = scipy.stats.beta.logpdf(wstring,stralpha[cls],strbeta[cls])\n",
      "        irefresponse = max(map(float,irefdb[pair]))\n",
      "        if cls == 1:\n",
      "            piref = log(irefresponse*irefprob['tpr'] + (1.0-irefresponse)*irefprob['fnr'])\n",
      "            pedgelist = log(edgelistprob['tpr'])\n",
      "        else:\n",
      "            piref = log(irefresponse*irefprob['fpr'] + (1.0-irefresponse)*irefprob['tnr'])\n",
      "            pedgelist = log(edgelistprob['fpr'])\n",
      "        try:\n",
      "            logprobdict[cls] += [sum([pclass,pstring,pedgelist,piref])]\n",
      "        except KeyError:\n",
      "            logprobdict[cls] = [sum([pclass,pstring,pedgelist,piref])]"
     ],
     "language": "python",
     "metadata": {},
     "outputs": [],
     "prompt_number": 104
    },
    {
     "cell_type": "code",
     "collapsed": false,
     "input": [
      "postweightings = posterior(1.0/600,logprobdict)"
     ],
     "language": "python",
     "metadata": {},
     "outputs": [],
     "prompt_number": 105
    },
    {
     "cell_type": "code",
     "collapsed": false,
     "input": [
      "h=hist(postweightings,bins=100)"
     ],
     "language": "python",
     "metadata": {},
     "outputs": [
      {
       "metadata": {},
       "output_type": "display_data",
       "png": "[encoded data removed]",
       "text": [
        "<matplotlib.figure.Figure at 0x528d190>"
       ]
      }
     ],
     "prompt_number": 106
    },
    {
     "cell_type": "markdown",
     "metadata": {},
     "source": [
      "Quite a discrete set of weights, probably due to all these binary features we're using."
     ]
    },
    {
     "cell_type": "markdown",
     "metadata": {},
     "source": [
      "## Writing these weights\n",
      "\n",
      "We will now write these weights to a file so that the community detection code can be run."
     ]
    },
    {
     "cell_type": "code",
     "collapsed": false,
     "input": [
      "import csv"
     ],
     "language": "python",
     "metadata": {},
     "outputs": [],
     "prompt_number": 107
    },
    {
     "cell_type": "code",
     "collapsed": false,
     "input": [
      "!git annex unlock edgelist_update_weighted.txt"
     ],
     "language": "python",
     "metadata": {},
     "outputs": [
      {
       "output_type": "stream",
       "stream": "stdout",
       "text": [
        "unlock edgelist_update_weighted.txt (copying...) "
       ]
      },
      {
       "output_type": "stream",
       "stream": "stdout",
       "text": [
        "ok\r\n"
       ]
      }
     ],
     "prompt_number": 109
    },
    {
     "cell_type": "code",
     "collapsed": false,
     "input": [
      "f = open(\"edgelist_update_weighted.txt\",\"w\")\n",
      "c = csv.writer(f, delimiter=\"\\t\")\n",
      "for i,p in enumerate(interactions[:,:2]):\n",
      "    c.writerow(list(p)+[postweightings[i]])\n",
      "f.close()"
     ],
     "language": "python",
     "metadata": {},
     "outputs": [],
     "prompt_number": 110
    }
   ],
   "metadata": {}
  }
 ]
}