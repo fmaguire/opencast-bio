{
 "metadata": {
  "name": "",
  "signature": "sha256:8850d6b292e0b86e655bef329aa63c22546498562d31610a909ea6b594ec7216"
 },
 "nbformat": 3,
 "nbformat_minor": 0,
 "worksheets": [
  {
   "cells": [
    {
     "cell_type": "markdown",
     "metadata": {},
     "source": [
      "The problem with weighting the interactions in the curated edgelist we are using to build our protein-protein interaction network is that the classifier is not perfect and is supplying extremely low probabilities for interactions which we expect to exist.\n",
      "We can encode this prior into our model by considering inclusion in the edgelist and the result of classification to both be events that are dependent on an underlying interaction event.\n",
      "This describes the following Bayesian network:\n",
      "\n",
      "![Bayesian network of interaction as class label][]\n",
      "\n",
      "By continuing with our assumption that any interaction given more than 50% confidence by the HIPPIE database is a real interaction we can then solve for the parameters that describe the conditional distributions.\n",
      "Specifically, if we have $I$ as interaction $c$ as classifier result and $e$ as edgelist inclusion result the joint can be expressed:\n",
      "\n",
      "$$\n",
      "p(I,e,c) = p(I) p(e|I) p(c|I)\n",
      "$$\n",
      "\n",
      "Where the individual distributions are:\n",
      "\n",
      "$$\n",
      "p(I=1) = Bernoulli(I=1;\\theta_{I}) = \\theta_{I}\n",
      "$$\n",
      "\n",
      "$$\n",
      "p(e|I=1) = Bernoulli(e;\\theta_{e}) = \\theta_{e}^{e}(1-\\theta_{e})^{1-e}\n",
      "$$\n",
      "\n",
      "$$\n",
      "p(c|I=1) = Beta(c;\\alpha,\\beta) = \\frac{1}{B(\\alpha,\\beta)} c^{\\alpha-1}(1-c)^{\\beta-1}\n",
      "$$\n",
      "\n",
      "There are four parameters we need to find to be able to use this model: $\\alpha, \\beta, \\theta_{I}, \\theta_{e}$.\n",
      "We can easily get two of these:\n",
      "\n",
      "* $\\theta_{I}$ - We know that the frequency of interactions to non-interactions is approximately one in 600, so we will simply set this to $\\frac{1}{600}$.\n",
      "* $\\theta_{e}$ - We can solve for this by finding the Maximum Likelihood solutions for the Bernoulli distribution.\n",
      "* $\\beta$ and $\\alpha$ - We cannot easily solve to get the [Maximum Likelihood][bml] for a Beta distribution from first principles. However, this is implemented in [scipy.stats][scbt].\n",
      "\n",
      "__Description of the solution for $\\theta_{e}$ here__.\n",
      "\n",
      "First we have to load the data:\n",
      "\n",
      "[bml]: http://en.wikipedia.org/wiki/Beta_distribution#Maximum_likelihood\n",
      "[scbt]: http://docs.scipy.org/doc/scipy/reference/generated/scipy.stats.beta.html"
     ]
    },
    {
     "cell_type": "code",
     "collapsed": false,
     "input": [
      "import scipy.stats"
     ],
     "language": "python",
     "metadata": {},
     "outputs": [],
     "prompt_number": 1
    },
    {
     "cell_type": "code",
     "collapsed": false,
     "input": [
      "x = scipy.stats.beta()"
     ],
     "language": "python",
     "metadata": {},
     "outputs": [],
     "prompt_number": 2
    },
    {
     "cell_type": "code",
     "collapsed": false,
     "input": [
      "cd ../../forGAVIN/mergecode/"
     ],
     "language": "python",
     "metadata": {},
     "outputs": [
      {
       "output_type": "stream",
       "stream": "stdout",
       "text": [
        "/data/opencast/MRes/forGAVIN/mergecode\n"
       ]
      }
     ],
     "prompt_number": 19
    },
    {
     "cell_type": "code",
     "collapsed": false,
     "input": [
      "interactions = loadtxt(\"edgelist_weighted.txt\",dtype=str)"
     ],
     "language": "python",
     "metadata": {},
     "outputs": [],
     "prompt_number": 21
    },
    {
     "cell_type": "code",
     "collapsed": false,
     "input": [
      "interactions = interactions[1:]"
     ],
     "language": "python",
     "metadata": {},
     "outputs": [],
     "prompt_number": 23
    },
    {
     "cell_type": "code",
     "collapsed": false,
     "input": [
      "weights = interactions[:,2]\n",
      "weights = weights.astype(np.float)"
     ],
     "language": "python",
     "metadata": {},
     "outputs": [],
     "prompt_number": 28
    },
    {
     "cell_type": "markdown",
     "metadata": {},
     "source": [
      "Now, finding the indexes of positive and negative examples:"
     ]
    },
    {
     "cell_type": "code",
     "collapsed": false,
     "input": [
      "hippieids = loadtxt(\"../../HIPPIE/hippie_current.pairs.txt\",dtype=str)\n",
      "hippieids = set(map(frozenset,hippieids))"
     ],
     "language": "python",
     "metadata": {},
     "outputs": [],
     "prompt_number": 34
    },
    {
     "cell_type": "code",
     "collapsed": false,
     "input": [
      "posindexes = []\n",
      "for i,p in enumerate(interactions[:,:2]):\n",
      "    if frozenset(p) in hippieids:\n",
      "        posindexes.append(i)"
     ],
     "language": "python",
     "metadata": {},
     "outputs": [],
     "prompt_number": 35
    },
    {
     "cell_type": "code",
     "collapsed": false,
     "input": [
      "h = hist(weights[posindexes],bins=50)\n",
      "h = hist(delete(weights,posindexes),bins=50)"
     ],
     "language": "python",
     "metadata": {},
     "outputs": [
      {
       "metadata": {},
       "output_type": "display_data",
       "png": "[encoded data removed]",
       "text": [
        "<matplotlib.figure.Figure at 0x675a650>"
       ]
      }
     ],
     "prompt_number": 54
    },
    {
     "cell_type": "code",
     "collapsed": false,
     "input": [
      "#regularisation samples\n",
      "regsamp = scipy.stats.beta.rvs(1,1,size=5000)"
     ],
     "language": "python",
     "metadata": {},
     "outputs": [],
     "prompt_number": 210
    },
    {
     "cell_type": "code",
     "collapsed": false,
     "input": [
      "alpha_1,beta_1,_,_ = scipy.stats.beta.fit(hstack([weights[posindexes],regsamp]))"
     ],
     "language": "python",
     "metadata": {},
     "outputs": [],
     "prompt_number": 211
    },
    {
     "cell_type": "code",
     "collapsed": false,
     "input": [
      "alpha_0,beta_0,_,_ = scipy.stats.beta.fit(hstack([delete(weights,posindexes),regsamp]))"
     ],
     "language": "python",
     "metadata": {},
     "outputs": [],
     "prompt_number": 212
    },
    {
     "cell_type": "code",
     "collapsed": false,
     "input": [
      "x = linspace(0,1,500)"
     ],
     "language": "python",
     "metadata": {},
     "outputs": [],
     "prompt_number": 213
    },
    {
     "cell_type": "code",
     "collapsed": false,
     "input": [
      "b1 = scipy.stats.beta.pdf(x,alpha_1,beta_1)\n",
      "b0 = scipy.stats.beta.pdf(x,alpha_0,beta_0)"
     ],
     "language": "python",
     "metadata": {},
     "outputs": [],
     "prompt_number": 214
    },
    {
     "cell_type": "markdown",
     "metadata": {},
     "source": [
      "Have to use logarithmic scaling in the following plot to yield a readable graph:"
     ]
    },
    {
     "cell_type": "code",
     "collapsed": false,
     "input": [
      "plot(x,b1)\n",
      "plot(x,b0)\n",
      "yscale('log')"
     ],
     "language": "python",
     "metadata": {},
     "outputs": [
      {
       "metadata": {},
       "output_type": "display_data",
       "png": "[encoded data removed]",
       "text": [
        "<matplotlib.figure.Figure at 0xc2e6710>"
       ]
      }
     ],
     "prompt_number": 215
    },
    {
     "cell_type": "markdown",
     "metadata": {},
     "source": [
      "We calculated $\\theta_{e}$ by estimating our error rate in finding interactions for the edgelist.\n",
      "We should be conservative here and say that approximately one in every thousand interactions could be incorrect."
     ]
    },
    {
     "cell_type": "code",
     "collapsed": false,
     "input": [
      "thetae = 1.0-(1.0/1000)"
     ],
     "language": "python",
     "metadata": {},
     "outputs": [],
     "prompt_number": 216
    },
    {
     "cell_type": "markdown",
     "metadata": {},
     "source": [
      "# Posterior probabilities\n",
      "\n",
      "Using these distributions we can find the posterior probabilities for each of the interactions in this edgelist:\n",
      "\n",
      "$$\n",
      "p(I=1|e,c;\\theta_{e},\\alpha,\\beta) = \\frac{p(I=1,e,c;\\theta_{e},\\alpha,\\beta)}{p(e,c;\\theta_{e},\\alpha,\\beta)} = \\frac{p(I=1)p(e|I=1;\\theta_{e})p(c|I=1;\\alpha,\\beta)}{p(e,c;\\theta_{e},\\alpha,\\beta)}\n",
      "$$\n",
      "\n",
      "Where we find the denominator by marginalising the joint:\n",
      "\n",
      "$$\n",
      "p(e,c;\\theta_{e},\\alpha,\\beta) = \\sum_{I} p(I,e,c;\\theta_{e},\\alpha,\\beta)\n",
      "$$\n",
      "\n",
      "Which requires using the distributions of:\n",
      "\n",
      "$$\n",
      "p(I=0) = Bernoulli(I=1;\\theta_{I}) = 1-\\theta_{I}\n",
      "$$\n",
      "\n",
      "$$\n",
      "p(e|I=0) = Bernoulli(e;\\theta_{e}) = \\theta_{e0}^{e}(1-\\theta_{e0})^{1-e}\n",
      "$$\n",
      "\n",
      "$$\n",
      "p(c|I=0) = Beta(c;\\alpha_{0},\\beta_{0}) = \\frac{1}{B(\\alpha_{0},\\beta_{0})} c^{\\alpha_{0}-1}(1-c)^{\\beta_{0}-1}\n",
      "$$\n",
      "\n",
      "In this case, as $e$ is always one (all examples are elements of the edgelist) $\\theta_{e0}$ is simply $1 - \\theta_{e}$.\n",
      "Therefore, we can solve for the posterior for arbitrary points:"
     ]
    },
    {
     "cell_type": "code",
     "collapsed": false,
     "input": [
      "def posterior(c):\n",
      "    #some rounding of floats occurred at save time, have to fix this\n",
      "    if c<0.5:\n",
      "        c += 1e-2\n",
      "    else:\n",
      "        c += -1e-2\n",
      "    prior = log(1.0/600)\n",
      "    conditional_beta = scipy.stats.beta.logpdf(c,alpha_1,beta_1)\n",
      "    numerator = prior + log(thetae) + conditional_beta\n",
      "    marginal = logaddexp(numerator,log(1.0-1.0/600)+log(1-thetae)\n",
      "                         +scipy.stats.beta.logpdf(c,alpha_0,beta_0))\n",
      "    return exp(numerator-marginal)"
     ],
     "language": "python",
     "metadata": {},
     "outputs": [],
     "prompt_number": 217
    },
    {
     "cell_type": "code",
     "collapsed": false,
     "input": [
      "postweightings = map(posterior,weights)"
     ],
     "language": "python",
     "metadata": {},
     "outputs": [],
     "prompt_number": 218
    },
    {
     "cell_type": "code",
     "collapsed": false,
     "input": [
      "h=hist(postweightings,bins=100)"
     ],
     "language": "python",
     "metadata": {},
     "outputs": [
      {
       "metadata": {},
       "output_type": "display_data",
       "png": "[encoded data removed]",
       "text": [
        "<matplotlib.figure.Figure at 0x88b03d0>"
       ]
      }
     ],
     "prompt_number": 220
    },
    {
     "cell_type": "markdown",
     "metadata": {},
     "source": [
      "## Writing these weights\n",
      "\n",
      "We will now write these weights to a file so that the community detection code can be run."
     ]
    },
    {
     "cell_type": "code",
     "collapsed": false,
     "input": [
      "import csv"
     ],
     "language": "python",
     "metadata": {},
     "outputs": [],
     "prompt_number": 222
    },
    {
     "cell_type": "code",
     "collapsed": false,
     "input": [
      "f = open(\"edgelist_update_weighted.txt\",\"w\")\n",
      "c = csv.writer(f, delimiter=\"\\t\")\n",
      "for i,p in enumerate(interactions[:,:2]):\n",
      "    c.writerow(list(p)+[postweightings[i]])\n",
      "f.close()"
     ],
     "language": "python",
     "metadata": {},
     "outputs": [],
     "prompt_number": 225
    },
    {
     "cell_type": "code",
     "collapsed": false,
     "input": [
      "%matplotlib inline\n",
      "import matplotlib.pyplot as plt\n",
      "import numpy as np\n",
      "# Some nice default configuration for plots\n",
      "plt.rcParams['figure.figsize'] = 10, 7.5\n",
      "plt.rcParams['axes.grid'] = True\n",
      "plt.gray()"
     ],
     "language": "python",
     "metadata": {},
     "outputs": [
      {
       "metadata": {},
       "output_type": "display_data",
       "text": [
        "<matplotlib.figure.Figure at 0x3544c50>"
       ]
      }
     ],
     "prompt_number": 53
    }
   ],
   "metadata": {}
  }
 ]
}