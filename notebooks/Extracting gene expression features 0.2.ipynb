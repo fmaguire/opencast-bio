{
 "metadata": {
  "name": "",
  "signature": "sha256:8b172c00a96fdd24e316eed1b35fe9f7f09b07e05b308e09067f034f97381263"
 },
 "nbformat": 3,
 "nbformat_minor": 0,
 "worksheets": [
  {
   "cells": [
    {
     "cell_type": "markdown",
     "metadata": {},
     "source": [
      "##### Gavin Gray 10th June 2014\n",
      "\n",
      "# Looking into misc high-throughput paper\n",
      "\n",
      "Downloaded supplementary from promising looking experiment found on the GEO site: [SnapShot-Seq: a method for extracting genome-wide, in vivo mRNA dynamics from a single total RNA sample][snapshot].\n",
      "Took first sample entry for this paper and looking at first supplemental file.\n",
      "Unsure at this point what's the difference between the different samples.\n",
      "\n",
      "File `GSM1212180_HiSeq_IsoG-CPT_D6-26_c10_BINS-READS-Densities_r50_N10M_ALL-GENES_INT.EVERY_u100.tsv.gz` downloaded from [here][snapshotsample1].\n",
      "\n",
      "Opening up the `.tsv` and having a look at it:\n",
      "\n",
      "[snapshot]: http://www.ncbi.nlm.nih.gov/geo/query/acc.cgi?acc=GSE48889\n",
      "[snapshotsample1]: http://www.ncbi.nlm.nih.gov/geo/query/acc.cgi?acc=GSM1212180"
     ]
    },
    {
     "cell_type": "code",
     "collapsed": false,
     "input": [
      "cd /home/gavin/Documents/MRes/misc/"
     ],
     "language": "python",
     "metadata": {},
     "outputs": [
      {
       "output_type": "stream",
       "stream": "stdout",
       "text": [
        "/home/gavin/Documents/MRes/misc\n"
       ]
      }
     ],
     "prompt_number": 1
    },
    {
     "cell_type": "code",
     "collapsed": false,
     "input": [
      "import pandas as pd\n",
      "df = pd.read_csv(\"GSM1212180_HiSeq_IsoG-CPT_D6-26_c10_BINS-READS-Densities_r50_N10M_ALL-GENES_INT.EVERY_u100.tsv\", delimiter=\"\\t\", header=0)"
     ],
     "language": "python",
     "metadata": {},
     "outputs": [],
     "prompt_number": 6
    },
    {
     "cell_type": "code",
     "collapsed": false,
     "input": [
      "df.head()"
     ],
     "language": "python",
     "metadata": {},
     "outputs": [
      {
       "html": [
        "<div style=\"max-height:1000px;max-width:1500px;overflow:auto;\">\n",
        "<table border=\"1\" class=\"dataframe\">\n",
        "  <thead>\n",
        "    <tr style=\"text-align: right;\">\n",
        "      <th></th>\n",
        "      <th>FeatureSORT</th>\n",
        "      <th>Gene</th>\n",
        "      <th>GeneID</th>\n",
        "      <th>Chrom</th>\n",
        "      <th>Strand</th>\n",
        "      <th>FeatureStart</th>\n",
        "      <th>FeatureStop</th>\n",
        "      <th>GeneLength</th>\n",
        "      <th>zStart</th>\n",
        "      <th>zStop</th>\n",
        "      <th>...</th>\n",
        "      <th>Bin5p_91/100</th>\n",
        "      <th>Bin5p_92/100</th>\n",
        "      <th>Bin5p_93/100</th>\n",
        "      <th>Bin5p_94/100</th>\n",
        "      <th>Bin5p_95/100</th>\n",
        "      <th>Bin5p_96/100</th>\n",
        "      <th>Bin5p_97/100</th>\n",
        "      <th>Bin5p_98/100</th>\n",
        "      <th>Bin5p_99/100</th>\n",
        "      <th>Bin5p_100/100</th>\n",
        "    </tr>\n",
        "  </thead>\n",
        "  <tbody>\n",
        "    <tr>\n",
        "      <th>0</th>\n",
        "      <td> 1</td>\n",
        "      <td>   FAM138A</td>\n",
        "      <td> 645520</td>\n",
        "      <td> 1</td>\n",
        "      <td> -</td>\n",
        "      <td>  35482</td>\n",
        "      <td>  35720</td>\n",
        "      <td>  1471</td>\n",
        "      <td>  34611</td>\n",
        "      <td>  36130</td>\n",
        "      <td>...</td>\n",
        "      <td> 0</td>\n",
        "      <td> 0</td>\n",
        "      <td> 0</td>\n",
        "      <td> 0</td>\n",
        "      <td> 0</td>\n",
        "      <td> 0.0000</td>\n",
        "      <td> 0.0000</td>\n",
        "      <td> 0</td>\n",
        "      <td> 0.0000</td>\n",
        "      <td> 0.0000</td>\n",
        "    </tr>\n",
        "    <tr>\n",
        "      <th>1</th>\n",
        "      <td> 2</td>\n",
        "      <td>   FAM138A</td>\n",
        "      <td> 645520</td>\n",
        "      <td> 1</td>\n",
        "      <td> -</td>\n",
        "      <td>  35175</td>\n",
        "      <td>  35276</td>\n",
        "      <td>  1471</td>\n",
        "      <td>  34611</td>\n",
        "      <td>  36130</td>\n",
        "      <td>...</td>\n",
        "      <td> 0</td>\n",
        "      <td> 0</td>\n",
        "      <td> 0</td>\n",
        "      <td> 0</td>\n",
        "      <td> 0</td>\n",
        "      <td> 0.0000</td>\n",
        "      <td> 0.0000</td>\n",
        "      <td> 0</td>\n",
        "      <td> 0.0000</td>\n",
        "      <td> 0.0000</td>\n",
        "    </tr>\n",
        "    <tr>\n",
        "      <th>2</th>\n",
        "      <td> 3</td>\n",
        "      <td> LOC643837</td>\n",
        "      <td> 643837</td>\n",
        "      <td> 1</td>\n",
        "      <td> +</td>\n",
        "      <td> 763156</td>\n",
        "      <td> 764382</td>\n",
        "      <td> 26677</td>\n",
        "      <td> 763064</td>\n",
        "      <td> 789789</td>\n",
        "      <td>...</td>\n",
        "      <td> 0</td>\n",
        "      <td> 0</td>\n",
        "      <td> 0</td>\n",
        "      <td> 0</td>\n",
        "      <td> 0</td>\n",
        "      <td> 0.0000</td>\n",
        "      <td> 0.0000</td>\n",
        "      <td> 0</td>\n",
        "      <td> 0.0000</td>\n",
        "      <td> 0.0000</td>\n",
        "    </tr>\n",
        "    <tr>\n",
        "      <th>3</th>\n",
        "      <td> 4</td>\n",
        "      <td> LOC643837</td>\n",
        "      <td> 643837</td>\n",
        "      <td> 1</td>\n",
        "      <td> +</td>\n",
        "      <td> 764485</td>\n",
        "      <td> 783033</td>\n",
        "      <td> 26677</td>\n",
        "      <td> 763064</td>\n",
        "      <td> 789789</td>\n",
        "      <td>...</td>\n",
        "      <td> 0</td>\n",
        "      <td> 0</td>\n",
        "      <td> 0</td>\n",
        "      <td> 0</td>\n",
        "      <td> 0</td>\n",
        "      <td> 0.0107</td>\n",
        "      <td> 0.0654</td>\n",
        "      <td> 0</td>\n",
        "      <td> 0.1523</td>\n",
        "      <td> 0.0305</td>\n",
        "    </tr>\n",
        "    <tr>\n",
        "      <th>4</th>\n",
        "      <td> 5</td>\n",
        "      <td> LOC643837</td>\n",
        "      <td> 643837</td>\n",
        "      <td> 1</td>\n",
        "      <td> +</td>\n",
        "      <td> 783187</td>\n",
        "      <td> 787306</td>\n",
        "      <td> 26677</td>\n",
        "      <td> 763064</td>\n",
        "      <td> 789789</td>\n",
        "      <td>...</td>\n",
        "      <td> 0</td>\n",
        "      <td> 0</td>\n",
        "      <td> 0</td>\n",
        "      <td> 0</td>\n",
        "      <td> 0</td>\n",
        "      <td> 0.0000</td>\n",
        "      <td> 0.0000</td>\n",
        "      <td> 0</td>\n",
        "      <td> 0.0000</td>\n",
        "      <td> 0.0000</td>\n",
        "    </tr>\n",
        "  </tbody>\n",
        "</table>\n",
        "<p>5 rows \u00d7 121 columns</p>\n",
        "</div>"
       ],
       "metadata": {},
       "output_type": "pyout",
       "prompt_number": 11,
       "text": [
        "   FeatureSORT       Gene  GeneID Chrom Strand  FeatureStart  FeatureStop  \\\n",
        "0            1    FAM138A  645520     1      -         35482        35720   \n",
        "1            2    FAM138A  645520     1      -         35175        35276   \n",
        "2            3  LOC643837  643837     1      +        763156       764382   \n",
        "3            4  LOC643837  643837     1      +        764485       783033   \n",
        "4            5  LOC643837  643837     1      +        783187       787306   \n",
        "\n",
        "   GeneLength  zStart   zStop   ...    Bin5p_91/100 Bin5p_92/100  \\\n",
        "0        1471   34611   36130   ...               0            0   \n",
        "1        1471   34611   36130   ...               0            0   \n",
        "2       26677  763064  789789   ...               0            0   \n",
        "3       26677  763064  789789   ...               0            0   \n",
        "4       26677  763064  789789   ...               0            0   \n",
        "\n",
        "   Bin5p_93/100 Bin5p_94/100 Bin5p_95/100  Bin5p_96/100  Bin5p_97/100  \\\n",
        "0             0            0            0        0.0000        0.0000   \n",
        "1             0            0            0        0.0000        0.0000   \n",
        "2             0            0            0        0.0000        0.0000   \n",
        "3             0            0            0        0.0107        0.0654   \n",
        "4             0            0            0        0.0000        0.0000   \n",
        "\n",
        "  Bin5p_98/100  Bin5p_99/100  Bin5p_100/100  \n",
        "0            0        0.0000         0.0000  \n",
        "1            0        0.0000         0.0000  \n",
        "2            0        0.0000         0.0000  \n",
        "3            0        0.1523         0.0305  \n",
        "4            0        0.0000         0.0000  \n",
        "\n",
        "[5 rows x 121 columns]"
       ]
      }
     ],
     "prompt_number": 11
    },
    {
     "cell_type": "code",
     "collapsed": false,
     "input": [
      "#plot a graph of some of these bin values\n",
      "plot(df.iloc[1,21:])\n",
      "plot(df.iloc[2,21:])"
     ],
     "language": "python",
     "metadata": {},
     "outputs": [
      {
       "metadata": {},
       "output_type": "pyout",
       "prompt_number": 37,
       "text": [
        "[<matplotlib.lines.Line2D at 0x7f6194b15c90>]"
       ]
      },
      {
       "metadata": {},
       "output_type": "display_data",
       "png": "[encoded data removed]",
       "text": [
        "<matplotlib.figure.Figure at 0x7f6194b15190>"
       ]
      }
     ],
     "prompt_number": 37
    },
    {
     "cell_type": "markdown",
     "metadata": {},
     "source": [
      "Just got around to reading about this file:\n",
      "\n",
      "> The \"BINS-READS-Densities\" .tsv files contain tiled Densities per every individual intron in the annotated genome of interest. Each intron is divided into 100 bins of equal size (fractional bp); the contributions of reads that only partially overlap a bin are pro rated to it (a single read's average Density in a bin equals the fraction of the bin it covers). Average Densities per bin are renormalized as in MAPtoFeatures, but only Sense reads are included. About 20 columns of genic and locus information for the ~200k introns are followed by 100 columns listing each intron's 100 normalized Densities ordered from its 5'-most to its 3'-most bin. These Densities are used to quantify the slopes of the differential abundance of nascent transcripts across introns.\n",
      "Supplementary_files_format_and_content: The bigWig .bw files are in standard format for compressed variable-step wiggle tracks. Most samples listed here have two bigWig files, intended for separate tracks for POS and NEG strands. (There are only POS tracks for the 6 strand-nonspecific LCL samples, except additionally both strands are shown for each end for the 2 samples with paired ends. See \"Exceptions\" below.)\n",
      "\n",
      "So it appears these aren't time dependent abundances, if that's what we're looking for.\n",
      "\n",
      "To check though, how many of the genes in here are represented in our dataset?"
     ]
    },
    {
     "cell_type": "code",
     "collapsed": false,
     "input": [
      "#retreive just gene IDs\n",
      "EntIDs = df.GeneID.values\n",
      "#remove duplicate entries\n",
      "from collections import OrderedDict\n",
      "EntIDs = list(OrderedDict.fromkeys(EntIDs))\n",
      "print \"%i unique genes in %i rows\"%(len(EntIDs), len(df.GeneID))"
     ],
     "language": "python",
     "metadata": {},
     "outputs": [
      {
       "output_type": "stream",
       "stream": "stdout",
       "text": [
        "18226 unique genes in 184057 rows\n"
       ]
      }
     ],
     "prompt_number": 17
    },
    {
     "cell_type": "code",
     "collapsed": false,
     "input": [
      "cd ~/Documents/MRes/forGAVIN/pulldown_data/BAITS/"
     ],
     "language": "python",
     "metadata": {},
     "outputs": [
      {
       "output_type": "stream",
       "stream": "stdout",
       "text": [
        "/home/gavin/Documents/MRes/forGAVIN/pulldown_data/BAITS\n"
       ]
      }
     ],
     "prompt_number": 40
    },
    {
     "cell_type": "code",
     "collapsed": false,
     "input": [
      "import csv\n",
      "baitids = list(flatten(csv.reader(open(\"baits_entrez_ids.csv\"))))"
     ],
     "language": "python",
     "metadata": {},
     "outputs": [],
     "prompt_number": 42
    },
    {
     "cell_type": "code",
     "collapsed": false,
     "input": [
      "cd ~/Documents/MRes/forGAVIN/pulldown_data/PREYS/"
     ],
     "language": "python",
     "metadata": {},
     "outputs": [
      {
       "output_type": "stream",
       "stream": "stdout",
       "text": [
        "/home/gavin/Documents/MRes/forGAVIN/pulldown_data/PREYS\n"
       ]
      }
     ],
     "prompt_number": 43
    },
    {
     "cell_type": "code",
     "collapsed": false,
     "input": [
      "preyids = list(flatten(csv.reader(open(\"prey_entrez_ids.csv\"))))"
     ],
     "language": "python",
     "metadata": {},
     "outputs": [],
     "prompt_number": 44
    },
    {
     "cell_type": "code",
     "collapsed": false,
     "input": [
      "cd /home/gavin/Documents/MRes/DIP/human/"
     ],
     "language": "python",
     "metadata": {},
     "outputs": [
      {
       "output_type": "stream",
       "stream": "stdout",
       "text": [
        "/home/gavin/Documents/MRes/DIP/human\n"
       ]
      }
     ],
     "prompt_number": 45
    },
    {
     "cell_type": "code",
     "collapsed": false,
     "input": [
      "dipIDs = list(flatten(csv.reader(open(\"total.Entrez.txt\"))))"
     ],
     "language": "python",
     "metadata": {},
     "outputs": [],
     "prompt_number": 46
    },
    {
     "cell_type": "code",
     "collapsed": false,
     "input": [
      "crossover = [x for x in baitids+preyids+dipIDs if x in EntIDs]"
     ],
     "language": "python",
     "metadata": {},
     "outputs": [],
     "prompt_number": 47
    },
    {
     "cell_type": "markdown",
     "metadata": {},
     "source": [
      "## Different example paper\n",
      "\n",
      "Trying new paper, to see if I can find some more applicable data.\n",
      "New example paper: [Simultaneous transcriptional profiling of bacteria and their host cells by heterogeneous RNA-Seq (hRNA-Seq)][simtran].\n",
      "\n",
      "Looking at [this][simtransample1] record.\n",
      "\n",
      "Looks like there's only one supplementary file without a whole lot explanation.\n",
      "Looking at [ftp link][simtranftp].\n",
      "Data appears to be in SRA format, which is apparently a [Sequence Read Archive][sra].\n",
      "This might be too raw for me to use, also no indication if this will be a time series.\n",
      "\n",
      "[simtran]: http://www.ncbi.nlm.nih.gov/geo/query/acc.cgi?acc=GSE44253\n",
      "[simtransample1]: http://www.ncbi.nlm.nih.gov/geo/query/acc.cgi?acc=GSM1121425\n",
      "[simtranftp]: ftp://ftp-trace.ncbi.nlm.nih.gov/sra/sra-instant/reads/ByExp/sra/SRX%2FSRX264%2FSRX264528/\n",
      "[sra]: http://en.wikipedia.org/wiki/Sequence_Read_Archive"
     ]
    },
    {
     "cell_type": "code",
     "collapsed": false,
     "input": [],
     "language": "python",
     "metadata": {},
     "outputs": []
    }
   ],
   "metadata": {}
  }
 ]
}