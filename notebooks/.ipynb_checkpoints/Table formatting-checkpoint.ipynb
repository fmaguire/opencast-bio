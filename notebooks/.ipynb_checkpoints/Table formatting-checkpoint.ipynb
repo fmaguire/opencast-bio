{
 "metadata": {
  "name": "",
  "signature": "sha256:1051928702827a7938b9f68f551a34a6608083d14bdd17564f7fd55e12fa531d"
 },
 "nbformat": 3,
 "nbformat_minor": 0,
 "worksheets": []
}