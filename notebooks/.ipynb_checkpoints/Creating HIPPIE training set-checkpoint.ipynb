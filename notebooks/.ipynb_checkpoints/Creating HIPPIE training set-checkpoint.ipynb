{
 "metadata": {
  "name": "",
  "signature": "sha256:6085f76b574eb2940c020fea2adfd30f43f77b6ca2ed64d6017cfa821c6cdc9c"
 },
 "nbformat": 3,
 "nbformat_minor": 0,
 "worksheets": [
  {
   "cells": [
    {
     "cell_type": "markdown",
     "metadata": {},
     "source": [
      "Using the DIP training set created in [this notebook][dipnotes] is problematic with a HIPPIE feature as the HIPPIE database includes DIP in its confidence values.\n",
      "It seems like the HIPPIE database itself would be a more useful source for a training set.\n",
      "Unfortunately, as the HIPPIE database does not simply say whether a protein interaction exists but instead gives a confidence value in it existing we are faced with two options:\n",
      "\n",
      "* Approach the problem as regression, predicting the confidence values of HIPPIE where HIPPIE does not predict a value.\n",
      "* Threshold the HIPPIE database, picking only high-confidence pairs as true interactions.\n",
      "\n",
      "To do the first would fundamentally change the task we are attempting.\n",
      "But, to do the second would throw away a large amount of useful data.\n",
      "Luckily, there is a third way if we categorise the confidence values and use [multiclass classification][mc].\n",
      "Specifically, [one-vs-rest][ovr] may be well suited to our task as this equates to a set of binary classification tasks.\n",
      "\n",
      "Whether this is a viable strategy depends on the distribution of confidence values in the HIPPIE database.\n",
      "We can inspect this directly:\n",
      "\n",
      "[ovr]: http://scikit-learn.org/stable/modules/multiclass.html#one-vs-the-rest\n",
      "[mc]: http://scikit-learn.org/stable/modules/multiclass.html"
     ]
    },
    {
     "cell_type": "code",
     "collapsed": false,
     "input": [
      "cd ../../HIPPIE/"
     ],
     "language": "python",
     "metadata": {},
     "outputs": [
      {
       "output_type": "stream",
       "stream": "stdout",
       "text": [
        "/data/opencast/MRes/HIPPIE\n"
       ]
      }
     ],
     "prompt_number": 1
    },
    {
     "cell_type": "code",
     "collapsed": false,
     "input": [
      "ls"
     ],
     "language": "python",
     "metadata": {},
     "outputs": [
      {
       "output_type": "stream",
       "stream": "stdout",
       "text": [
        "\u001b[0m\u001b[01;36mfeature2.HIPPIE.db\u001b[0m@   \u001b[01;36mhippie_current.confidencevalues.txt\u001b[0m@  \u001b[01;36mHIPPIE_NC.jar\u001b[0m@                     \u001b[01;36mREADME.txt\u001b[0m@                    \u001b[01;36mtraining.positive.HIPPIE.db\u001b[0m@\r\n",
        "\u001b[01;36mfeature.HIPPIE.2.db\u001b[0m@  \u001b[01;36mhippie_current.pairs.txt\u001b[0m@             \u001b[01;36mprematch.positive.HIPPIE.txt\u001b[0m@      \u001b[01;36mtestdb\u001b[0m@                        \u001b[01;36mtraining.positive.HIPPIE.txt\u001b[0m@\r\n",
        "feature.HIPPIE.db     \u001b[01;36mhippie_current.txt\u001b[0m@                   \u001b[01;36mpulldown.combinations.HIPPIE.txt\u001b[0m@  \u001b[01;36mtraining.negative.HIPPIE.txt\u001b[0m@\r\n"
       ]
      }
     ],
     "prompt_number": 2
    },
    {
     "cell_type": "code",
     "collapsed": false,
     "input": [
      "import csv"
     ],
     "language": "python",
     "metadata": {},
     "outputs": [],
     "prompt_number": 3
    },
    {
     "cell_type": "code",
     "collapsed": false,
     "input": [
      "f = open(\"hippie_current.txt\")\n",
      "c = csv.reader(f,delimiter=\"\\t\")\n",
      "cvals = {}\n",
      "for l in c:\n",
      "    cval = float(l[4])\n",
      "    for thresh in range(50,100,10):\n",
      "        if cval > thresh/100.0:\n",
      "            try:\n",
      "                cvals[thresh] += [cval]\n",
      "            except KeyError:\n",
      "                cvals[thresh] = [cval]\n",
      "f.close()"
     ],
     "language": "python",
     "metadata": {},
     "outputs": [],
     "prompt_number": 7
    },
    {
     "cell_type": "code",
     "collapsed": false,
     "input": [
      "h=hist(cvals[50],bins=50)\n",
      "t=title(\"Above 50% threshold.\")\n",
      "print \"Number of samples above 50%: {0}\".format(len(cvals[50]))"
     ],
     "language": "python",
     "metadata": {},
     "outputs": [
      {
       "output_type": "stream",
       "stream": "stdout",
       "text": [
        "Number of samples above 50%: 155183\n"
       ]
      },
      {
       "metadata": {},
       "output_type": "display_data",
       "png": "[encoded data removed]",
       "text": [
        "<matplotlib.figure.Figure at 0x4910490>"
       ]
      }
     ],
     "prompt_number": 13
    },
    {
     "cell_type": "code",
     "collapsed": false,
     "input": [
      "h=hist(cvals[90],bins=50)\n",
      "t=title(\"Above 90% threshold.\")\n",
      "print \"Number of samples above 90%: {0}\".format(len(cvals[90]))"
     ],
     "language": "python",
     "metadata": {},
     "outputs": [
      {
       "output_type": "stream",
       "stream": "stdout",
       "text": [
        "Number of samples above 90%: 2451\n"
       ]
      },
      {
       "metadata": {},
       "output_type": "display_data",
       "png": "[encoded data removed]",
       "text": [
        "<matplotlib.figure.Figure at 0x4910050>"
       ]
      }
     ],
     "prompt_number": 14
    },
    {
     "cell_type": "code",
     "collapsed": false,
     "input": [
      "h=hist(cvals[80],bins=50)\n",
      "t=title(\"Above 80% threshold.\")\n",
      "print \"Number of samples above 80%: {0}\".format(len(cvals[80]))"
     ],
     "language": "python",
     "metadata": {},
     "outputs": [
      {
       "output_type": "stream",
       "stream": "stdout",
       "text": [
        "Number of samples above 80%: 16394\n"
       ]
      },
      {
       "metadata": {},
       "output_type": "display_data",
       "png": "[encoded data removed]",
       "text": [
        "<matplotlib.figure.Figure at 0x56a6f90>"
       ]
      }
     ],
     "prompt_number": 15
    },
    {
     "cell_type": "markdown",
     "metadata": {},
     "source": [
      "# Extracting protein pairs involved\n",
      "\n",
      "To test coverage of some features we require a file that simply lists protein pairs in HIPPIE by their Entrez identifier."
     ]
    },
    {
     "cell_type": "code",
     "collapsed": false,
     "input": [
      "fr,fw = open(\"hippie_current.txt\"), open(\"hippie_current.pairs.txt\",\"w\")\n",
      "cr,cw = csv.reader(fr,delimiter=\"\\t\"),csv.writer(fw,delimiter=\"\\t\")\n",
      "for l in cr:\n",
      "    cw.writerow([l[1],l[3]])\n",
      "fr.close()\n",
      "fw.close()"
     ],
     "language": "python",
     "metadata": {},
     "outputs": [],
     "prompt_number": 59
    },
    {
     "cell_type": "code",
     "collapsed": false,
     "input": [
      "!head hippie_current.pairs.txt"
     ],
     "language": "python",
     "metadata": {},
     "outputs": [
      {
       "output_type": "stream",
       "stream": "stdout",
       "text": [
        "216\t216\r",
        "\r\n",
        "3679\t1134\r",
        "\r\n",
        "55607\t71\r",
        "\r\n",
        "5552\t960\r",
        "\r\n",
        "2886\t2064\r",
        "\r\n",
        "5058\t2064\r",
        "\r\n",
        "1742\t2064\r",
        "\r\n",
        "5296\t2064\r",
        "\r\n",
        "26469\t2064\r",
        "\r\n",
        "55914\t2064\r",
        "\r\n"
       ]
      }
     ],
     "prompt_number": 60
    },
    {
     "cell_type": "code",
     "collapsed": false,
     "input": [
      "!wc -l hippie_current.pairs.txt"
     ],
     "language": "python",
     "metadata": {},
     "outputs": [
      {
       "output_type": "stream",
       "stream": "stdout",
       "text": [
        "169626 hippie_current.pairs.txt\r\n"
       ]
      }
     ],
     "prompt_number": 61
    },
    {
     "cell_type": "markdown",
     "metadata": {},
     "source": [
      "## 90% condfidence value\n",
      "\n",
      "Thresholding this data set at a high confidence value is an acceptable way to use this dataset to train a classifier.\n",
      "Alternative approaches using the condfidence values may be approached, but it is likely this would make the project too complicated to be finished on time, especially with the time already invested in supervised binary classification"
     ]
    },
    {
     "cell_type": "code",
     "collapsed": false,
     "input": [
      "fr,fw = open(\"hippie_current.txt\"), open(\"hippie_current.90.pairs.txt\",\"w\")\n",
      "cr,cw = csv.reader(fr,delimiter=\"\\t\"),csv.writer(fw,delimiter=\"\\t\")\n",
      "for l in cr:\n",
      "    if float(l[4]) > 0.9:\n",
      "        cw.writerow([l[1],l[3]])\n",
      "fr.close()\n",
      "fw.close()"
     ],
     "language": "python",
     "metadata": {},
     "outputs": [],
     "prompt_number": 16
    },
    {
     "cell_type": "code",
     "collapsed": false,
     "input": [
      "!head hippie_current.90.pairs.txt"
     ],
     "language": "python",
     "metadata": {},
     "outputs": [
      {
       "output_type": "stream",
       "stream": "stdout",
       "text": [
        "55914\t2064\r",
        "\r\n",
        "5335\t7409\r",
        "\r\n",
        "3190\t7409\r",
        "\r\n",
        "5335\t3815\r",
        "\r\n",
        "7454\t2268\r",
        "\r\n",
        "2665\t4218\r",
        "\r\n",
        "10133\t4218\r",
        "\r\n",
        "94121\t4218\r",
        "\r\n",
        "867\t4067\r",
        "\r\n",
        "5141\t4067\r",
        "\r\n"
       ]
      }
     ],
     "prompt_number": 18
    },
    {
     "cell_type": "markdown",
     "metadata": {},
     "source": [
      "## 80% confidence value\n",
      "\n",
      "As above, but with a larger number of proteins, if it turns out that 90% is too stringent."
     ]
    },
    {
     "cell_type": "code",
     "collapsed": false,
     "input": [
      "fr,fw = open(\"hippie_current.txt\"), open(\"hippie_current.80.pairs.txt\",\"w\")\n",
      "cr,cw = csv.reader(fr,delimiter=\"\\t\"),csv.writer(fw,delimiter=\"\\t\")\n",
      "for l in cr:\n",
      "    if float(l[4]) > 0.8:\n",
      "        cw.writerow([l[1],l[3]])\n",
      "fr.close()\n",
      "fw.close()"
     ],
     "language": "python",
     "metadata": {},
     "outputs": [],
     "prompt_number": 17
    },
    {
     "cell_type": "markdown",
     "metadata": {},
     "source": [
      "## Saving corresponding confidence values"
     ]
    },
    {
     "cell_type": "code",
     "collapsed": false,
     "input": [
      "fw = open(\"hippie_current.confidencevalues.txt\",\"w\")\n",
      "cw = csv.writer(fw,delimiter=\"\\t\")\n",
      "for v in cvals:\n",
      "    cw.writerow([v])\n",
      "fw.close()"
     ],
     "language": "python",
     "metadata": {},
     "outputs": [],
     "prompt_number": 64
    }
   ],
   "metadata": {}
  }
 ]
}