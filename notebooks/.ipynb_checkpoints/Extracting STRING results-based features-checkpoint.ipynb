{
 "metadata": {
  "name": "",
  "signature": "sha256:725136273547f857fdc4d6dd527eb7f78e91dc93999bec4404d3a15490ccee43"
 },
 "nbformat": 3,
 "nbformat_minor": 0,
 "worksheets": [
  {
   "cells": [
    {
     "cell_type": "markdown",
     "metadata": {},
     "source": [
      "The [STRING][] database is a protein-protein interaction prediction database which uses a number of data sources we do not have access to to make protein-protein interaction predictions.\n",
      "Until we have access to these data sources we have to make do with reduced information which can be extracted from publicly available files on the STRING website [downloads page][stringdownloads].\n",
      "Specifically we will be using the detailed predictions file for homo sapiens:\n",
      "\n",
      "[string]: http://string-db.org/\n",
      "[stringdownloads]: http://string-db.org/newstring_cgi/show_download_page.pl?UserId=D3MKtgHqZ62Q&sessionId=K__apyKupQO_"
     ]
    },
    {
     "cell_type": "code",
     "collapsed": false,
     "input": [
      "cd ../../"
     ],
     "language": "python",
     "metadata": {},
     "outputs": [
      {
       "output_type": "stream",
       "stream": "stdout",
       "text": [
        "/home/gavin/Documents/MRes\n"
       ]
      }
     ],
     "prompt_number": 3
    },
    {
     "cell_type": "code",
     "collapsed": false,
     "input": [
      "!mkdir string"
     ],
     "language": "python",
     "metadata": {},
     "outputs": [],
     "prompt_number": 4
    },
    {
     "cell_type": "code",
     "collapsed": false,
     "input": [
      "cd string/"
     ],
     "language": "python",
     "metadata": {},
     "outputs": [
      {
       "output_type": "stream",
       "stream": "stdout",
       "text": [
        "/home/gavin/Documents/MRes/string\n"
       ]
      }
     ],
     "prompt_number": 3
    },
    {
     "cell_type": "code",
     "collapsed": false,
     "input": [
      "!wget http://string-db.org/newstring_download/protein.links.detailed.v9.1/9606.protein.links.detailed.v9.1.txt.gz"
     ],
     "language": "python",
     "metadata": {},
     "outputs": [
      {
       "output_type": "stream",
       "stream": "stdout",
       "text": [
        "--2014-07-04 15:17:21--  http://string-db.org/newstring_download/protein.links.detailed.v9.1/9606.protein.links.detailed.v9.1.txt.gz\r\n",
        "Resolving string-db.org (string-db.org)... "
       ]
      },
      {
       "output_type": "stream",
       "stream": "stdout",
       "text": [
        "194.94.44.34\r\n",
        "Connecting to string-db.org (string-db.org)|194.94.44.34|:80... "
       ]
      },
      {
       "output_type": "stream",
       "stream": "stdout",
       "text": [
        "connected.\r\n",
        "HTTP request sent, awaiting response... "
       ]
      },
      {
       "output_type": "stream",
       "stream": "stdout",
       "text": [
        "200 OK\r\n",
        "Length: 37667622 (36M) [application/x-gzip]\r\n",
        "Saving to: \u20189606.protein.links.detailed.v9.1.txt.gz\u2019\r\n",
        "\r\n",
        "\r",
        " 0% [                                       ] 0           --.-K/s              "
       ]
      },
      {
       "output_type": "stream",
       "stream": "stdout",
       "text": [
        "\r",
        " 0% [                                       ] 186,492      844KB/s             "
       ]
      },
      {
       "output_type": "stream",
       "stream": "stdout",
       "text": [
        "\r",
        " 4% [>                                      ] 1,589,604   3.51MB/s             "
       ]
      },
      {
       "output_type": "stream",
       "stream": "stdout",
       "text": [
        "\r",
        "15% [=====>                                 ] 6,006,004   9.05MB/s             "
       ]
      },
      {
       "output_type": "stream",
       "stream": "stdout",
       "text": [
        "\r",
        "33% [============>                          ] 12,671,148  14.4MB/s             "
       ]
      },
      {
       "output_type": "stream",
       "stream": "stdout",
       "text": [
        "\r",
        "55% [====================>                  ] 20,797,324  19.1MB/s             "
       ]
      },
      {
       "output_type": "stream",
       "stream": "stdout",
       "text": [
        "\r",
        "72% [===========================>           ] 27,129,428  20.8MB/s             "
       ]
      },
      {
       "output_type": "stream",
       "stream": "stdout",
       "text": [
        "\r",
        "100%[======================================>] 37,667,622  25.5MB/s   in 1.4s   \r\n",
        "\r\n"
       ]
      },
      {
       "output_type": "stream",
       "stream": "stdout",
       "text": [
        "2014-07-04 15:17:23 (25.5 MB/s) - \u20189606.protein.links.detailed.v9.1.txt.gz\u2019 saved [37667622/37667622]\r\n",
        "\r\n"
       ]
      }
     ],
     "prompt_number": 6
    },
    {
     "cell_type": "code",
     "collapsed": false,
     "input": [
      "!gunzip 9606.protein.links.detailed.v9.1.txt.gz"
     ],
     "language": "python",
     "metadata": {},
     "outputs": [],
     "prompt_number": 8
    },
    {
     "cell_type": "code",
     "collapsed": false,
     "input": [
      "!head 9606.protein.links.detailed.v9.1.txt"
     ],
     "language": "python",
     "metadata": {},
     "outputs": [
      {
       "output_type": "stream",
       "stream": "stdout",
       "text": [
        "protein1 protein2 neighborhood fusion cooccurence coexpression experimental database textmining combined_score\r\n",
        "9606.ENSP00000000233 9606.ENSP00000020673 0 0 0 0 0 0 176 176\r\n",
        "9606.ENSP00000000233 9606.ENSP00000054666 0 0 0 0 88 0 309 327\r\n",
        "9606.ENSP00000000233 9606.ENSP00000158762 0 0 0 0 0 0 718 718\r\n",
        "9606.ENSP00000000233 9606.ENSP00000203407 0 0 0 272 0 0 0 272\r\n",
        "9606.ENSP00000000233 9606.ENSP00000203630 0 0 0 241 0 0 0 241\r\n",
        "9606.ENSP00000000233 9606.ENSP00000215071 0 0 0 130 0 0 105 170\r\n",
        "9606.ENSP00000000233 9606.ENSP00000215115 0 0 0 196 0 0 0 196\r\n",
        "9606.ENSP00000000233 9606.ENSP00000215375 0 0 0 279 0 0 0 279\r\n",
        "9606.ENSP00000000233 9606.ENSP00000215565 0 0 0 151 0 0 0 151\r\n"
       ]
      }
     ],
     "prompt_number": 12
    },
    {
     "cell_type": "markdown",
     "metadata": {},
     "source": [
      "By inspection we can see that the protein identifiers here are Ensembl protein IDs.\n",
      "In the [InterologWalk Notebook][walk] a dictionary was saved to map between our Entrez IDs and these IDs.\n",
      "We can reuse this dictionary:\n",
      "\n",
      "[walk]: http://nbviewer.ipython.org/github/ggray1729/opencast-bio/blob/dfc5b8c682e835b733ca671c80f4636ba7ad7081/notebooks/Extracting%20InterologWalk%20features.ipynb"
     ]
    },
    {
     "cell_type": "code",
     "collapsed": false,
     "input": [
      "cd ../geneconversion/"
     ],
     "language": "python",
     "metadata": {},
     "outputs": [
      {
       "output_type": "stream",
       "stream": "stdout",
       "text": [
        "/home/gavin/Documents/MRes/geneconversion\n"
       ]
      }
     ],
     "prompt_number": 4
    },
    {
     "cell_type": "code",
     "collapsed": false,
     "input": [
      "import pickle"
     ],
     "language": "python",
     "metadata": {},
     "outputs": [],
     "prompt_number": 5
    },
    {
     "cell_type": "code",
     "collapsed": false,
     "input": [
      "f = open(\"human.gene2ensemble.pickle\")\n",
      "gene2ensembl = pickle.load(f)\n",
      "f.close()"
     ],
     "language": "python",
     "metadata": {},
     "outputs": [],
     "prompt_number": 6
    },
    {
     "cell_type": "markdown",
     "metadata": {},
     "source": [
      "To map from the above Ensemble IDs to Entrez IDs the dictionary will have to be inverted:"
     ]
    },
    {
     "cell_type": "code",
     "collapsed": false,
     "input": [
      "ensembl2gene = {}\n",
      "for k in gene2ensembl:\n",
      "    try:\n",
      "        for p in gene2ensembl[k]:\n",
      "            ensembl2gene[p] += [k]\n",
      "    except KeyError:\n",
      "        for p in gene2ensembl[k]:\n",
      "            ensembl2gene[p] = [k]"
     ],
     "language": "python",
     "metadata": {},
     "outputs": [],
     "prompt_number": 7
    },
    {
     "cell_type": "markdown",
     "metadata": {},
     "source": [
      "What we would like to do is create a class which stores each of these pairs as keys and each of these feature vectors as values.\n",
      "If it is unable to retreive a feature vector then it should return an empty vector, as that would correspond to each of these evidence terms being zero.\n",
      "\n",
      "To deal with the fact that the dictionary is not one to one we will have to ensure that each combination of those that map to multiple map to the same feature vector in order to ensure coverage."
     ]
    },
    {
     "cell_type": "code",
     "collapsed": false,
     "input": [
      "cd ../string/"
     ],
     "language": "python",
     "metadata": {},
     "outputs": [
      {
       "output_type": "stream",
       "stream": "stdout",
       "text": [
        "/home/gavin/Documents/MRes/string\n"
       ]
      }
     ],
     "prompt_number": 8
    },
    {
     "cell_type": "code",
     "collapsed": false,
     "input": [
      "import csv"
     ],
     "language": "python",
     "metadata": {},
     "outputs": [],
     "prompt_number": 9
    },
    {
     "cell_type": "code",
     "collapsed": false,
     "input": [
      "import itertools"
     ],
     "language": "python",
     "metadata": {},
     "outputs": [],
     "prompt_number": 10
    },
    {
     "cell_type": "code",
     "collapsed": false,
     "input": [
      "f = open(\"9606.protein.links.detailed.v9.1.txt\")\n",
      "c = csv.reader(f, delimiter=\" \")\n",
      "c.next()\n",
      "stringdict = {}\n",
      "# iterate over rows building dictionary:\n",
      "for l in c:\n",
      "    #first build the (possibly various) keys\n",
      "    try:\n",
      "        geneids1 = ensembl2gene[l[0].split(\".\")[1]]\n",
      "        geneids2 = ensembl2gene[l[1].split(\".\")[1]]\n",
      "    except KeyError:\n",
      "        #give up on pair if they can't be mapped to Entrez\n",
      "        continue\n",
      "    #then iterate over their combinations saving the feature vector each entry\n",
      "    for i1,i2 in itertools.product(geneids1,geneids2):\n",
      "        stringdict[frozenset([i1,i2])] = l[2:]\n",
      "f.close()"
     ],
     "language": "python",
     "metadata": {},
     "outputs": [],
     "prompt_number": 11
    },
    {
     "cell_type": "code",
     "collapsed": false,
     "input": [
      "import sys"
     ],
     "language": "python",
     "metadata": {},
     "outputs": [],
     "prompt_number": 12
    },
    {
     "cell_type": "code",
     "collapsed": false,
     "input": [
      "sys.path.append(\"/home/gavin/Documents/MRes/opencast-bio/\")"
     ],
     "language": "python",
     "metadata": {},
     "outputs": [],
     "prompt_number": 13
    },
    {
     "cell_type": "code",
     "collapsed": false,
     "input": [
      "import ocbio.ppipred"
     ],
     "language": "python",
     "metadata": {},
     "outputs": [],
     "prompt_number": 14
    },
    {
     "cell_type": "code",
     "collapsed": false,
     "input": [
      "strfeatures = ocbio.ppipred.features(stringdict,stringdict.values()[0])"
     ],
     "language": "python",
     "metadata": {},
     "outputs": [],
     "prompt_number": 15
    },
    {
     "cell_type": "code",
     "collapsed": false,
     "input": [
      "import pickle"
     ],
     "language": "python",
     "metadata": {},
     "outputs": [],
     "prompt_number": 16
    },
    {
     "cell_type": "code",
     "collapsed": false,
     "input": [
      "f = open(\"human.Entrez.string.pickle\",\"wb\")\n",
      "pickle.dump(strfeatures,f)\n",
      "f.close()"
     ],
     "language": "python",
     "metadata": {},
     "outputs": [],
     "prompt_number": 18
    }
   ],
   "metadata": {}
  }
 ]
}