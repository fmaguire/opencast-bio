{
 "metadata": {
  "name": "",
  "signature": "sha256:5f9b0139dea7a6f5ee6d909e790e37424e5c55c02c124f201347d72df0bd5ed3"
 },
 "nbformat": 3,
 "nbformat_minor": 0,
 "worksheets": []
}