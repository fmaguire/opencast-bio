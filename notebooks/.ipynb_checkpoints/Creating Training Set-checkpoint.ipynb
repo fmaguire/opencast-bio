{
 "metadata": {
  "name": "",
  "signature": "sha256:433d714ac37acf0a320d18231c6011691680f77694af14f6d14e0615172601ee"
 },
 "nbformat": 3,
 "nbformat_minor": 0,
 "worksheets": [
  {
   "cells": [
    {
     "cell_type": "markdown",
     "metadata": {},
     "source": [
      "It was found that training the model with all the available features using HIPPIE as a training set does not produce useful weightings.\n",
      "This problem was solved by re-evaluating the approach of the project and applying Bayesian principles to get a set of weights which were usable.\n",
      "However, this leaves the classification results almost useless.\n",
      "A more principled way to perform the classification would be to only apply the classification algorithm to the indirect data and integrate the direct data by hand - updating on it as evidence based on estimated error rates.\n",
      "\n",
      "This notebook involves creating the training set for the classifier that will be trained only on indirect data.\n",
      "All available primary interaction databases will be integrated into this to create a list of high-confidence positive interactions.\n",
      "At the same time, a list of negative interactions will be generated.\n",
      "\n",
      "The databases which will be combined to form this list of positive interactions will be:\n",
      "\n",
      "* iRefIndex, which contains:\n",
      "   * BIND\n",
      "   * BioGRID\n",
      "   * CORUM\n",
      "   * DIP\n",
      "   * HPRD\n",
      "   * InnateDB\n",
      "   * IntAct\n",
      "   * MatrixDB\n",
      "   * MINT\n",
      "   * MPact\n",
      "   * MPIDB\n",
      "   * MPPI\n",
      "   * OPHID"
     ]
    },
    {
     "cell_type": "code",
     "collapsed": false,
     "input": [
      "cd ../../iRefIndex"
     ],
     "language": "python",
     "metadata": {},
     "outputs": [
      {
       "output_type": "stream",
       "stream": "stdout",
       "text": [
        "/data/opencast/MRes\n"
       ]
      }
     ],
     "prompt_number": 3
    },
    {
     "cell_type": "code",
     "collapsed": false,
     "input": [
      "import pickle"
     ],
     "language": "python",
     "metadata": {},
     "outputs": [],
     "prompt_number": 1
    },
    {
     "cell_type": "code",
     "collapsed": false,
     "input": [
      "import sys\n",
      "sys.path.append(\"opencast-bio/\")"
     ],
     "language": "python",
     "metadata": {},
     "outputs": [],
     "prompt_number": 5
    },
    {
     "cell_type": "code",
     "collapsed": false,
     "input": [
      "import ocbio.irefindex"
     ],
     "language": "python",
     "metadata": {},
     "outputs": [],
     "prompt_number": 6
    },
    {
     "cell_type": "code",
     "collapsed": false,
     "input": [
      "f = open(\"human.iRefIndex.Entrez.1ofk.pickle\")\n",
      "irefin = pickle.load(f)\n",
      "f.close()"
     ],
     "language": "python",
     "metadata": {},
     "outputs": [],
     "prompt_number": 7
    },
    {
     "cell_type": "markdown",
     "metadata": {},
     "source": [
      "# Writing the positive list of interactions\n",
      "\n",
      "By using the pickled feature dictionary we can write a list of interactions with any positive listing in any of the databases integrated into iRefIndex:"
     ]
    },
    {
     "cell_type": "code",
     "collapsed": false,
     "input": [
      "import csv"
     ],
     "language": "python",
     "metadata": {},
     "outputs": [],
     "prompt_number": 8
    },
    {
     "cell_type": "code",
     "collapsed": false,
     "input": [
      "f = open(\"human.iRefIndex.positive.pairs.txt\",\"w\")\n",
      "c = csv.writer(f,delimiter=\"\\t\")\n",
      "for pair in irefin.featuredict:\n",
      "    pair = list(pair)\n",
      "    c.writerow(pair)\n",
      "f.close()"
     ],
     "language": "python",
     "metadata": {},
     "outputs": [],
     "prompt_number": 12
    },
    {
     "cell_type": "markdown",
     "metadata": {},
     "source": [
      "# Writing the negative list of interactions\n",
      "\n",
      "According to Qi's 2006 paper the number of negative interactions to positive is approximately 600 to 1.\n",
      "If we see how many positive interactions we have:"
     ]
    },
    {
     "cell_type": "code",
     "collapsed": false,
     "input": [
      "print \"Number of positive interactions: {0}\".format(len(irefin.featuredict.keys()))"
     ],
     "language": "python",
     "metadata": {},
     "outputs": [
      {
       "output_type": "stream",
       "stream": "stdout",
       "text": [
        "Number of positive interactions: 188833\n"
       ]
      }
     ],
     "prompt_number": 14
    },
    {
     "cell_type": "code",
     "collapsed": false,
     "input": [
      "print \"Number of negative interactions required: {0}\".format(600*len(irefin.featuredict.keys()))"
     ],
     "language": "python",
     "metadata": {},
     "outputs": [
      {
       "output_type": "stream",
       "stream": "stdout",
       "text": [
        "Number of negative interactions required: 113299800\n"
       ]
      }
     ],
     "prompt_number": 15
    },
    {
     "cell_type": "markdown",
     "metadata": {},
     "source": [
      "This is not a feasible number of interactions to write to file.\n",
      "However, this would also be many more interactions than is required to train a classifier.\n",
      "Therefore, we only need to write enough negative interactions to produce training sets up to the size required during training.\n",
      "One million negative samples will be more than enough."
     ]
    },
    {
     "cell_type": "code",
     "collapsed": false,
     "input": [
      "import itertools"
     ],
     "language": "python",
     "metadata": {},
     "outputs": [],
     "prompt_number": 16
    },
    {
     "cell_type": "code",
     "collapsed": false,
     "input": [
      "ids = list(set(flatten(irefin.featuredict.keys())))\n",
      "shuffle(ids)"
     ],
     "language": "python",
     "metadata": {},
     "outputs": [],
     "prompt_number": 25
    },
    {
     "cell_type": "code",
     "collapsed": false,
     "input": [
      "f = open(\"human.iRefIndex.negative.pairs.txt\",\"w\")\n",
      "c = csv.writer(f,delimiter=\"\\t\")\n",
      "for i,pair in enumerate(itertools.combinations(ids,2)):\n",
      "    if frozenset(pair) not in irefin.featuredict:\n",
      "        c.writerow(pair)\n",
      "    if i > 1000000:\n",
      "        break\n",
      "f.close()"
     ],
     "language": "python",
     "metadata": {},
     "outputs": [],
     "prompt_number": 26
    },
    {
     "cell_type": "code",
     "collapsed": false,
     "input": [
      "!head human.iRefIndex.negative.pairs.txt"
     ],
     "language": "python",
     "metadata": {},
     "outputs": [
      {
       "output_type": "stream",
       "stream": "stdout",
       "text": [
        "47\t23113\r",
        "\r\n",
        "47\t1500\r",
        "\r\n",
        "47\t51804\r",
        "\r\n",
        "47\t10243\r",
        "\r\n",
        "47\t9631\r",
        "\r\n",
        "47\t51110\r",
        "\r\n",
        "47\t145483\r",
        "\r\n",
        "47\t53637\r",
        "\r\n",
        "47\t100271927\r",
        "\r\n",
        "47\t4826\r",
        "\r\n"
       ]
      }
     ],
     "prompt_number": 28
    }
   ],
   "metadata": {}
  }
 ]
}