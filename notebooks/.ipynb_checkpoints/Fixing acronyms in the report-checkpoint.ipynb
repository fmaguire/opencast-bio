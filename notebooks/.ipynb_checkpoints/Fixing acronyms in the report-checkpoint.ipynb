{
 "metadata": {
  "name": "",
  "signature": "sha256:86e2a4694cf0f00040403c9042a75455e52f1102d97dfabbd7c1ef8e4ba41df2"
 },
 "nbformat": 3,
 "nbformat_minor": 0,
 "worksheets": [
  {
   "cells": [
    {
     "cell_type": "markdown",
     "metadata": {},
     "source": [
      "Problem is the acronyms in the report are used throughout, but not surrounded in the standard latex way. It requires `\\ac{}` around the acronyms."
     ]
    },
    {
     "cell_type": "code",
     "collapsed": false,
     "input": [
      "from pylab import *"
     ],
     "language": "python",
     "metadata": {},
     "outputs": [],
     "prompt_number": 1
    },
    {
     "cell_type": "code",
     "collapsed": false,
     "input": [
      "cd ../report/"
     ],
     "language": "python",
     "metadata": {},
     "outputs": [
      {
       "output_type": "stream",
       "stream": "stdout",
       "text": [
        "/home/gavin/Documents/MRes/opencast-bio/report\n"
       ]
      }
     ],
     "prompt_number": 2
    },
    {
     "cell_type": "code",
     "collapsed": false,
     "input": [
      "with open(\"sections/misc/acronyms.tex\") as f:\n",
      "    s = f.readlines()"
     ],
     "language": "python",
     "metadata": {},
     "outputs": [],
     "prompt_number": 8
    },
    {
     "cell_type": "code",
     "collapsed": false,
     "input": [
      "s = s[1:]"
     ],
     "language": "python",
     "metadata": {},
     "outputs": [],
     "prompt_number": 11
    },
    {
     "cell_type": "code",
     "collapsed": false,
     "input": [
      "s[0].split(\"{\")[1].strip(\"}\")"
     ],
     "language": "python",
     "metadata": {},
     "outputs": [
      {
       "metadata": {},
       "output_type": "pyout",
       "prompt_number": 16,
       "text": [
        "'DIP'"
       ]
      }
     ],
     "prompt_number": 16
    },
    {
     "cell_type": "code",
     "collapsed": false,
     "input": [
      "acronyms = []\n",
      "for l in s:\n",
      "    acronyms.append(l.split(\"{\")[1].strip(\"}\"))"
     ],
     "language": "python",
     "metadata": {},
     "outputs": [],
     "prompt_number": 17
    },
    {
     "cell_type": "code",
     "collapsed": false,
     "input": [
      "import glob"
     ],
     "language": "python",
     "metadata": {},
     "outputs": [],
     "prompt_number": 19
    },
    {
     "cell_type": "code",
     "collapsed": false,
     "input": [
      "texfiles = glob.glob(\"sections/*.tex\")\n",
      "texfiles += glob.glob(\"sections/appendix/*.tex\")"
     ],
     "language": "python",
     "metadata": {},
     "outputs": [],
     "prompt_number": 22
    },
    {
     "cell_type": "code",
     "collapsed": false,
     "input": [
      "for fname in texfiles:\n",
      "    with open(fname) as f:\n",
      "        fstring = f.read()\n",
      "        for a in acronyms:\n",
      "            fstring = fstring.replace(a,r\"\\ac{\"+a+r\"}\")\n",
      "    with open(fname,\"w\") as f:\n",
      "        f.write(fstring)"
     ],
     "language": "python",
     "metadata": {},
     "outputs": [],
     "prompt_number": 30
    },
    {
     "cell_type": "markdown",
     "metadata": {},
     "source": [
      "This code __does not check for acronym conflicts__, so it can cause problems.\n",
      "Only caused minor problems though, which are now fixed, so everything is pretty much fine."
     ]
    }
   ],
   "metadata": {}
  }
 ]
}