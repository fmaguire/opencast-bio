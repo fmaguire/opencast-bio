{
 "metadata": {
  "name": "",
  "signature": "sha256:48e66885e577ac0f5e70b08c42d9f48583becddaa1e88566d6bcfea3a844da28"
 },
 "nbformat": 3,
 "nbformat_minor": 0,
 "worksheets": [
  {
   "cells": [
    {
     "cell_type": "markdown",
     "metadata": {},
     "source": [
      "Aiming to load in the Entrez IDs for the proteins of interest in the active zone from the lists Colin's provided and connect these with the NCBI database so I can fetch the database entry for any one of them.\n",
      "Seems like a fairly useful thing to do.\n",
      "\n",
      "_Note here_ - NCBI requires you specify an email address when accessing their services."
     ]
    },
    {
     "cell_type": "code",
     "collapsed": false,
     "input": [
      "from Bio import Entrez\n",
      "Entrez.email = \"gavingray1729@gmail.com\""
     ],
     "language": "python",
     "metadata": {},
     "outputs": [],
     "prompt_number": 2
    },
    {
     "cell_type": "markdown",
     "metadata": {},
     "source": [
      "Navigate to the right file:"
     ]
    },
    {
     "cell_type": "code",
     "collapsed": false,
     "input": [
      "cd /home/gavin/Documents/MRes/forGAVIN/pulldown_data/BAITS/"
     ],
     "language": "python",
     "metadata": {},
     "outputs": [
      {
       "output_type": "stream",
       "stream": "stdout",
       "text": [
        "/home/gavin/Documents/MRes/forGAVIN/pulldown_data/BAITS\n"
       ]
      }
     ],
     "prompt_number": 4
    },
    {
     "cell_type": "code",
     "collapsed": false,
     "input": [
      "ls"
     ],
     "language": "python",
     "metadata": {},
     "outputs": [
      {
       "output_type": "stream",
       "stream": "stdout",
       "text": [
        "\u001b[0m\u001b[40m\u001b[m\u001b[00mbaits.csv\u001b[0m  \u001b[40m\u001b[m\u001b[00mbaits_entrez_ids_ActiveZone.csv\u001b[0m  \u001b[40m\u001b[m\u001b[00mbaits_entrez_ids.csv\u001b[0m  \u001b[40m\u001b[m\u001b[00mensembl_bait_human_ids.csv\u001b[0m\r\n"
       ]
      }
     ],
     "prompt_number": 5
    },
    {
     "cell_type": "markdown",
     "metadata": {},
     "source": [
      "Then load in the Entrez-IDs from the file:"
     ]
    },
    {
     "cell_type": "code",
     "collapsed": false,
     "input": [
      "import csv\n",
      "f = open(\"baits_entrez_ids.csv\")\n",
      "c = csv.reader(f)\n",
      "baitids = []\n",
      "for l in c:\n",
      "    #to avoid empty rows\n",
      "    if l:\n",
      "        baitids.append(l[0])"
     ],
     "language": "python",
     "metadata": {},
     "outputs": [],
     "prompt_number": 17
    },
    {
     "cell_type": "markdown",
     "metadata": {},
     "source": [
      "Code below practically copied from [ipython notebook tutorial](http://nbviewer.ipython.org/github/LUMC/programming-course/blob/master/biopython.ipynb)."
     ]
    },
    {
     "cell_type": "code",
     "collapsed": false,
     "input": [
      "efetch_handle = Entrez.efetch(db=\"nucleotide\", id=baitids[0], rettype=\"gb\", retmode=\"text\")"
     ],
     "language": "python",
     "metadata": {},
     "outputs": [],
     "prompt_number": 20
    },
    {
     "cell_type": "markdown",
     "metadata": {},
     "source": [
      "Ok, so the next thing depends on using Biopython to parse the input file it's going to grab from the server.\n",
      "Because it's in the tutorial going to focus on sequence file parsing.\n",
      "\n",
      "Basically, you just point SeqIO at the file and tell it what type of file it's looking at and it does the rest.\n",
      "\n",
      "The code above retreives a [GenBank][] filetype. So we can parse that:\n",
      "\n",
      "[genbank]: http://en.wikipedia.org/wiki/GenBank"
     ]
    },
    {
     "cell_type": "code",
     "collapsed": false,
     "input": [
      "from Bio import SeqIO"
     ],
     "language": "python",
     "metadata": {},
     "outputs": [],
     "prompt_number": 21
    },
    {
     "cell_type": "code",
     "collapsed": false,
     "input": [
      "ncbi_record = SeqIO.read(efetch_handle, 'genbank')\n",
      "print ncbi_record"
     ],
     "language": "python",
     "metadata": {},
     "outputs": [
      {
       "output_type": "stream",
       "stream": "stdout",
       "text": [
        "ID: X55968.1\n",
        "Name: X55968\n",
        "Description: Mouse mRNA for cGMP phosphodiesterase beta-subunit.\n",
        "Number of features: 3\n",
        "/sequence_version=1\n",
        "/source=Mus musculus (house mouse)\n",
        "/taxonomy=['Eukaryota', 'Metazoa', 'Chordata', 'Craniata', 'Vertebrata', 'Euteleostomi', 'Mammalia', 'Eutheria', 'Euarchontoglires', 'Glires', 'Rodentia', 'Sciurognathi', 'Muroidea', 'Muridae', 'Murinae', 'Mus', 'Mus']\n",
        "/keywords=[\"3',5'-cyclic-nucleotide phosphodiesterase\", 'membrane protein', 'transducin']\n",
        "/references=[Reference(title='Retinal degeneration in the rd mouse is caused by a defect in the beta subunit of rod cGMP-phosphodiesterase', ...), Reference(title='Direct Submission', ...)]\n",
        "/accessions=['X55968']\n",
        "/data_file_division=ROD\n",
        "/date=21-OCT-2008\n",
        "/organism=Mus musculus\n",
        "/gi=53616\n",
        "Seq('ATGAGCNNNAGTGGGGAACAGGTACGCAGCTTCCTGGATGGGAACCCCACGTTT...ATA', IUPACAmbiguousDNA())\n"
       ]
      }
     ],
     "prompt_number": 22
    },
    {
     "cell_type": "markdown",
     "metadata": {},
     "source": [
      "So it works!\n",
      "\n",
      "-------------------------------------------------\n",
      "\n",
      "## Using Entrez-IDs to retreive gene expression data\n",
      "\n",
      "Now we want to use the Entrez-IDs to retreive time course gene expression data from (to start with) [GEO][].\n",
      "Luckily, there is a section on this in the [tutorial and cookbook for biopython][biotutcook].\n",
      "Unluckily, it doesn't appear to retreive exactly what I want.\n",
      "Better check that exactly what I want is on there.\n",
      "\n",
      "[This page][examplegeo] was given as an example.\n",
      "I think the .txt file at the base of that might be the experimental time series data.\n",
      "Could open it up and have a look at it.\n",
      "\n",
      "First, I think I'll follow through the cookbook example:\n",
      "\n",
      "[geo]: http://www.ncbi.nlm.nih.gov/geo/\n",
      "[biotutcook]: http://biopython.org/DIST/docs/tutorial/Tutorial.html#sec132\n",
      "[examplegeo]: http://www.ncbi.nlm.nih.gov/geo/query/acc.cgi?acc=GSE8057"
     ]
    },
    {
     "cell_type": "code",
     "collapsed": false,
     "input": [
      "# think I just need to change the database to gds\n",
      "efetch_handle = Entrez.efetch(db=\"gds\", id=baitids[0])"
     ],
     "language": "python",
     "metadata": {},
     "outputs": [],
     "prompt_number": 32
    },
    {
     "cell_type": "code",
     "collapsed": false,
     "input": [
      "record  = efetch_handle.read()"
     ],
     "language": "python",
     "metadata": {},
     "outputs": [],
     "prompt_number": 33
    },
    {
     "cell_type": "code",
     "collapsed": false,
     "input": [
      "print record"
     ],
     "language": "python",
     "metadata": {},
     "outputs": [
      {
       "output_type": "stream",
       "stream": "stdout",
       "text": [
        "\n",
        "1.  Error occurred: cannot get document summary\n",
        "Accession: \tID: 53616\n",
        "\n"
       ]
      }
     ],
     "prompt_number": 34
    },
    {
     "cell_type": "markdown",
     "metadata": {},
     "source": [
      "So that doesn't work exactly.\n",
      "According to the cookbook the GEO files can't be accessed in this way anyway:\n",
      "\n",
      "> Unfortunately, at the time of writing the NCBI don\u2019t seem to support downloading GEO files using Entrez (not as XML, nor in the Simple Omnibus Format in Text (SOFT) format).\n",
      "\n",
      "The solution apparently is to track down the link yourself and grab it through ftp.\n",
      "Of course, we can do that with Python as well, probably.\n",
      "\n",
      "As an example, searching the GEO database with the Entrez-ID for the first entry above: X55968.\n",
      "\n",
      "Turns up a [list of experiments][entrezlist] involving this gene (as you might expect).\n",
      "Unclear how to get a time series experiment data from this, plus I thought the time series data we were looking for was of a whole load of genes at the same time.\n",
      "\n",
      "[entrezlist]: http://www.ncbi.nlm.nih.gov/geoprofiles/?term=X55968"
     ]
    },
    {
     "cell_type": "code",
     "collapsed": false,
     "input": [
      "print baitids"
     ],
     "language": "python",
     "metadata": {},
     "outputs": [
      {
       "output_type": "stream",
       "stream": "stdout",
       "text": [
        "['53616', '118', '273', '161', '320', '321', '8874', '523', '526', '8927', '8618', '8573', '57524', '8476', '26507', '8506', '26047', '10815', '10814', '1457', '1460', '1495', '1496', '1499', '1500', '23191', '23312', '80331', '1759', '1808', '56896', '29924', '58513', '28964', '348980', '6453', '3736', '3737', '8514', '8825', '64130', '57497', '78999', '145581', '4035', '23263', '4355', '8775', '63908', '54550', '4842', '9722', '4905', '9253', '5058', '27445', '8500', '8499', '8541', '5534', '5864', '10928', '22999', '22895', '6305', '23513', '56904', '246213', '6616', '9892', '6801', '6804', '6812', '134957', '9515', '9900', '6853', '6854', '8224', '8867', '6855', '6857', '7249', '6844', '7415', '143187', '10490', '8936', '10444']\n"
       ]
      }
     ],
     "prompt_number": 40
    }
   ],
   "metadata": {}
  }
 ]
}