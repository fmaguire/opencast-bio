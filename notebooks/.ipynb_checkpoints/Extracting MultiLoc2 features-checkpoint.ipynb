{
 "metadata": {
  "name": "",
  "signature": "sha256:a40c4ee0b5b0a0a9b7cf703ef12f376f21ae54f98ae9d71b074095bed2899a71"
 },
 "nbformat": 3,
 "nbformat_minor": 0,
 "worksheets": [
  {
   "cells": [
    {
     "cell_type": "markdown",
     "metadata": {},
     "source": [
      "[MultiLoc2][] predicts subcellular localizations for a given protein sequence.\n",
      "We would like to run the local version of this code over all possible human protein sequences to be safe.\n",
      "\n",
      "To do this, we first need FASTA sequences of all human protein sequences.\n",
      "\n",
      "## Retreiving FASTA sequences\n",
      "\n",
      "In a previous notebook all associated protein sequences for each Entrez ID were retreived.\n",
      "We require _canonical_ sequences for each Entrez ID.\n",
      "These can be found using the [Mapping files on the iRefIndex website][irefindex].\n",
      "See [this page][canon] for information on how iRefIndex handles canonicalisation.\n",
      "\n",
      "[multiloc2]: http://abi.inf.uni-tuebingen.de/Services/MultiLoc2\n",
      "[irefindex]: http://irefindex.org/wiki/index.php?title=Protein_identifier_mapping\n",
      "[canon]: http://irefindex.org/wiki/index.php?title=Canonicalization"
     ]
    },
    {
     "cell_type": "code",
     "collapsed": false,
     "input": [
      "cd ../../iRefIndex/"
     ],
     "language": "python",
     "metadata": {},
     "outputs": [
      {
       "output_type": "stream",
       "stream": "stdout",
       "text": [
        "/home/gavin/Documents/MRes/iRefIndex\n"
       ]
      }
     ],
     "prompt_number": 1
    },
    {
     "cell_type": "code",
     "collapsed": false,
     "input": [
      "!head -n 3 mappings.txt"
     ],
     "language": "python",
     "metadata": {},
     "outputs": [
      {
       "output_type": "stream",
       "stream": "stdout",
       "text": [
        "uniprotkb\tQ7A656\t-1\t42465628\tdkegLgczOIkeGMf3yLHiKaJt+8k158879\t42465628\tdkegLgczOIkeGMf3yLHiKaJt+8k158879\r\n",
        "uniprotkb\tQ7WHN0\t-1\t40036741\tYuhoZtSpOImwA2EFdSUwNRN6PHI257310\t40036741\tYuhoZtSpOImwA2EFdSUwNRN6PHI257310\r\n",
        "uniprotkb\tQ9UQM7\t-1\t812068\t7uql+9kLfmK9drY5L0oKOH7zPk49606\t812068\t7uql+9kLfmK9drY5L0oKOH7zPk49606\r\n"
       ]
      }
     ],
     "prompt_number": 2
    },
    {
     "cell_type": "markdown",
     "metadata": {},
     "source": [
      "Columns 2 and 3 contain the external identifier and the Entrez Gene ID.\n",
      "We would like to match the human Gene IDs to the Refseq IDs.\n",
      "An easy way to do this is to download the Refseq FASTA entries for all human genes and then map these back to the Entrez Gene IDs with this table."
     ]
    },
    {
     "cell_type": "code",
     "collapsed": false,
     "input": [
      "!wget ftp://ftp.ncbi.nih.gov/refseq/H_sapiens/mRNA_Prot/human.protein.faa.gz"
     ],
     "language": "python",
     "metadata": {},
     "outputs": [
      {
       "output_type": "stream",
       "stream": "stdout",
       "text": [
        "--2014-06-30 19:20:08--  ftp://ftp.ncbi.nih.gov/refseq/H_sapiens/mRNA_Prot/human.protein.faa.gz\r\n",
        "           => \u2018human.protein.faa.gz\u2019\r\n",
        "Resolving ftp.ncbi.nih.gov (ftp.ncbi.nih.gov)... "
       ]
      },
      {
       "output_type": "stream",
       "stream": "stdout",
       "text": [
        "130.14.250.7, 2607:f220:41e:250::10\r\n",
        "Connecting to ftp.ncbi.nih.gov (ftp.ncbi.nih.gov)|130.14.250.7|:21... "
       ]
      },
      {
       "output_type": "stream",
       "stream": "stdout",
       "text": [
        "connected.\r\n",
        "Logging in as anonymous ... "
       ]
      },
      {
       "output_type": "stream",
       "stream": "stdout",
       "text": [
        "Logged in!\r\n",
        "==> SYST ... "
       ]
      },
      {
       "output_type": "stream",
       "stream": "stdout",
       "text": [
        "done.    ==> PWD ... "
       ]
      },
      {
       "output_type": "stream",
       "stream": "stdout",
       "text": [
        "done.\r\n",
        "==> TYPE I ... "
       ]
      },
      {
       "output_type": "stream",
       "stream": "stdout",
       "text": [
        "done.  ==> CWD (1) /refseq/H_sapiens/mRNA_Prot ... "
       ]
      },
      {
       "output_type": "stream",
       "stream": "stdout",
       "text": [
        "done.\r\n",
        "==> SIZE human.protein.faa.gz ... "
       ]
      },
      {
       "output_type": "stream",
       "stream": "stdout",
       "text": [
        "18544481\r\n",
        "==> PASV ... "
       ]
      },
      {
       "output_type": "stream",
       "stream": "stdout",
       "text": [
        "done.    ==> RETR human.protein.faa.gz ... "
       ]
      },
      {
       "output_type": "stream",
       "stream": "stdout",
       "text": [
        "done.\r\n",
        "Length: 18544481 (18M) (unauthoritative)\r\n",
        "\r\n",
        "\r",
        " 0% [                                       ] 0           --.-K/s              "
       ]
      },
      {
       "output_type": "stream",
       "stream": "stdout",
       "text": [
        "\r",
        " 0% [                                       ] 33,304       104KB/s             "
       ]
      },
      {
       "output_type": "stream",
       "stream": "stdout",
       "text": [
        "\r",
        " 0% [                                       ] 80,592       130KB/s             "
       ]
      },
      {
       "output_type": "stream",
       "stream": "stdout",
       "text": [
        "\r",
        " 0% [                                       ] 147,696      160KB/s             "
       ]
      },
      {
       "output_type": "stream",
       "stream": "stdout",
       "text": [
        "\r",
        " 1% [                                       ] 262,088      214KB/s             "
       ]
      },
      {
       "output_type": "stream",
       "stream": "stdout",
       "text": [
        "\r",
        " 2% [                                       ] 455,624      299KB/s             "
       ]
      },
      {
       "output_type": "stream",
       "stream": "stdout",
       "text": [
        "\r",
        " 3% [>                                      ] 737,032      404KB/s             "
       ]
      },
      {
       "output_type": "stream",
       "stream": "stdout",
       "text": [
        "\r",
        " 6% [=>                                     ] 1,169,984    551KB/s             "
       ]
      },
      {
       "output_type": "stream",
       "stream": "stdout",
       "text": [
        "\r",
        " 9% [==>                                    ] 1,707,504    703KB/s             "
       ]
      },
      {
       "output_type": "stream",
       "stream": "stdout",
       "text": [
        "\r",
        "12% [===>                                   ] 2,228,888    816KB/s             "
       ]
      },
      {
       "output_type": "stream",
       "stream": "stdout",
       "text": [
        "\r",
        "14% [====>                                  ] 2,756,064    909KB/s             "
       ]
      },
      {
       "output_type": "stream",
       "stream": "stdout",
       "text": [
        "\r",
        "17% [=====>                                 ] 3,284,192    985KB/s  eta 15s    "
       ]
      },
      {
       "output_type": "stream",
       "stream": "stdout",
       "text": [
        "\r",
        "20% [=======>                               ] 3,804,624   1.02MB/s  eta 15s    "
       ]
      },
      {
       "output_type": "stream",
       "stream": "stdout",
       "text": [
        "\r",
        "23% [========>                              ] 4,328,904   1.07MB/s  eta 15s    "
       ]
      },
      {
       "output_type": "stream",
       "stream": "stdout",
       "text": [
        "\r",
        "26% [=========>                             ] 4,853,184   1.12MB/s  eta 15s    "
       ]
      },
      {
       "output_type": "stream",
       "stream": "stdout",
       "text": [
        "\r",
        "29% [==========>                            ] 5,381,312   1.16MB/s  eta 11s    "
       ]
      },
      {
       "output_type": "stream",
       "stream": "stdout",
       "text": [
        "\r",
        "31% [===========>                           ] 5,901,744   1.19MB/s  eta 11s    "
       ]
      },
      {
       "output_type": "stream",
       "stream": "stdout",
       "text": [
        "\r",
        "34% [============>                          ] 6,426,024   1.25MB/s  eta 11s    "
       ]
      },
      {
       "output_type": "stream",
       "stream": "stdout",
       "text": [
        "\r",
        "37% [=============>                         ] 6,948,856   1.35MB/s  eta 11s    "
       ]
      },
      {
       "output_type": "stream",
       "stream": "stdout",
       "text": [
        "\r",
        "40% [==============>                        ] 7,478,432   1.52MB/s  eta 8s     "
       ]
      },
      {
       "output_type": "stream",
       "stream": "stdout",
       "text": [
        "\r",
        "43% [===============>                       ] 7,995,968   1.56MB/s  eta 8s     "
       ]
      },
      {
       "output_type": "stream",
       "stream": "stdout",
       "text": [
        "\r",
        "45% [================>                      ] 8,520,248   1.63MB/s  eta 8s     "
       ]
      },
      {
       "output_type": "stream",
       "stream": "stdout",
       "text": [
        "\r",
        "48% [==================>                    ] 9,051,272   1.69MB/s  eta 8s     "
       ]
      },
      {
       "output_type": "stream",
       "stream": "stdout",
       "text": [
        "\r",
        "51% [===================>                   ] 9,575,552   1.65MB/s  eta 6s     "
       ]
      },
      {
       "output_type": "stream",
       "stream": "stdout",
       "text": [
        "\r",
        "54% [====================>                  ] 10,099,832  1.69MB/s  eta 6s     "
       ]
      },
      {
       "output_type": "stream",
       "stream": "stdout",
       "text": [
        "\r",
        "57% [=====================>                 ] 10,624,112  1.64MB/s  eta 6s     "
       ]
      },
      {
       "output_type": "stream",
       "stream": "stdout",
       "text": [
        "\r",
        "60% [======================>                ] 11,140,950  1.69MB/s  eta 6s     "
       ]
      },
      {
       "output_type": "stream",
       "stream": "stdout",
       "text": [
        "\r",
        "62% [=======================>               ] 11,666,678  1.69MB/s  eta 5s     "
       ]
      },
      {
       "output_type": "stream",
       "stream": "stdout",
       "text": [
        "\r",
        "65% [========================>              ] 12,189,458  1.64MB/s  eta 5s     "
       ]
      },
      {
       "output_type": "stream",
       "stream": "stdout",
       "text": [
        "\r",
        "68% [=========================>             ] 12,713,790  1.66MB/s  eta 5s     "
       ]
      },
      {
       "output_type": "stream",
       "stream": "stdout",
       "text": [
        "\r",
        "71% [==========================>            ] 13,238,070  1.69MB/s  eta 5s     "
       ]
      },
      {
       "output_type": "stream",
       "stream": "stdout",
       "text": [
        "\r",
        "74% [===========================>           ] 13,762,350  1.64MB/s  eta 3s     "
       ]
      },
      {
       "output_type": "stream",
       "stream": "stdout",
       "text": [
        "\r",
        "77% [=============================>         ] 14,286,630  1.65MB/s  eta 3s     "
       ]
      },
      {
       "output_type": "stream",
       "stream": "stdout",
       "text": [
        "\r",
        "79% [==============================>        ] 14,810,910  1.69MB/s  eta 3s     "
       ]
      },
      {
       "output_type": "stream",
       "stream": "stdout",
       "text": [
        "\r",
        "82% [===============================>       ] 15,335,190  1.65MB/s  eta 3s     "
       ]
      },
      {
       "output_type": "stream",
       "stream": "stdout",
       "text": [
        "\r",
        "85% [================================>      ] 15,859,470  1.66MB/s  eta 2s     "
       ]
      },
      {
       "output_type": "stream",
       "stream": "stdout",
       "text": [
        "\r",
        "88% [=================================>     ] 16,383,750  1.69MB/s  eta 2s     "
       ]
      },
      {
       "output_type": "stream",
       "stream": "stdout",
       "text": [
        "\r",
        "91% [==================================>    ] 16,908,030  1.66MB/s  eta 2s     "
       ]
      },
      {
       "output_type": "stream",
       "stream": "stdout",
       "text": [
        "\r",
        "94% [===================================>   ] 17,432,310  1.65MB/s  eta 2s     "
       ]
      },
      {
       "output_type": "stream",
       "stream": "stdout",
       "text": [
        "\r",
        "96% [====================================>  ] 17,963,282  1.69MB/s  eta 0s     "
       ]
      },
      {
       "output_type": "stream",
       "stream": "stdout",
       "text": [
        "\r",
        "99% [=====================================> ] 18,480,818  1.69MB/s  eta 0s     \r",
        "100%[======================================>] 18,544,481  1.70MB/s   in 12s    \r\n",
        "\r\n"
       ]
      },
      {
       "output_type": "stream",
       "stream": "stdout",
       "text": [
        "2014-06-30 19:20:22 (1.49 MB/s) - \u2018human.protein.faa.gz\u2019 saved [18544481]\r\n",
        "\r\n"
       ]
      }
     ],
     "prompt_number": 4
    },
    {
     "cell_type": "code",
     "collapsed": false,
     "input": [
      "!gunzip human.protein.faa.gz"
     ],
     "language": "python",
     "metadata": {},
     "outputs": [],
     "prompt_number": 5
    },
    {
     "cell_type": "markdown",
     "metadata": {},
     "source": [
      "We can parse this FASTA file using Biopython:"
     ]
    },
    {
     "cell_type": "code",
     "collapsed": false,
     "input": [
      "from Bio import SeqIO"
     ],
     "language": "python",
     "metadata": {},
     "outputs": [],
     "prompt_number": 4
    },
    {
     "cell_type": "code",
     "collapsed": false,
     "input": [
      "proteinrecords = list(SeqIO.parse(\"human.protein.faa\",\"fasta\"))"
     ],
     "language": "python",
     "metadata": {},
     "outputs": [],
     "prompt_number": 5
    },
    {
     "cell_type": "markdown",
     "metadata": {},
     "source": [
      "Printing an example entry to check:"
     ]
    },
    {
     "cell_type": "code",
     "collapsed": false,
     "input": [
      "print proteinrecords[0].id.split(\"|\")[3]"
     ],
     "language": "python",
     "metadata": {},
     "outputs": [
      {
       "output_type": "stream",
       "stream": "stdout",
       "text": [
        "NP_001005218.1\n"
       ]
      }
     ],
     "prompt_number": 6
    },
    {
     "cell_type": "markdown",
     "metadata": {},
     "source": [
      "### Matching to Entrez\n",
      "\n",
      "Using the mapping table from iRefIndex we can match each Refseq ID back to it's Entrez ID.\n",
      "This gives a canonical Refseq entry for each Entrez ID."
     ]
    },
    {
     "cell_type": "code",
     "collapsed": false,
     "input": [
      "refseqtoentry = {}\n",
      "for r in proteinrecords:\n",
      "    try:\n",
      "        refseqtoentry[r.id.split(\"|\")[3]] += [r]\n",
      "    except KeyError:\n",
      "        refseqtoentry[r.id.split(\"|\")[3]] = [r]"
     ],
     "language": "python",
     "metadata": {},
     "outputs": [],
     "prompt_number": 7
    },
    {
     "cell_type": "markdown",
     "metadata": {},
     "source": [
      "Checking that each ID is unique as expected for Refseq IDs:"
     ]
    },
    {
     "cell_type": "code",
     "collapsed": false,
     "input": [
      "ridlengths = []\n",
      "for k in refseqtoentry.keys():\n",
      "    if len(refseqtoentry[k]) != 1:\n",
      "        print \"Entry {0} has length {1}\".format(k,len(refseqtoentry[k]))"
     ],
     "language": "python",
     "metadata": {},
     "outputs": [],
     "prompt_number": 8
    },
    {
     "cell_type": "markdown",
     "metadata": {},
     "source": [
      "So everything is ok.\n",
      "Continuing taking these refseq IDs and mapping them onto Entrez IDs:"
     ]
    },
    {
     "cell_type": "code",
     "collapsed": false,
     "input": [
      "import csv"
     ],
     "language": "python",
     "metadata": {},
     "outputs": [],
     "prompt_number": 10
    },
    {
     "cell_type": "code",
     "collapsed": false,
     "input": [
      "#prime the dictionary\n",
      "refseqtoentrez={}\n",
      "for k in refseqtoentry.keys():\n",
      "    refseqtoentrez[k] = []"
     ],
     "language": "python",
     "metadata": {},
     "outputs": [],
     "prompt_number": 17
    },
    {
     "cell_type": "code",
     "collapsed": false,
     "input": [
      "f = open(\"mappings.txt\")\n",
      "c = csv.reader(f,delimiter=\"\\t\")\n",
      "lc = 0\n",
      "for l in c:\n",
      "    try:\n",
      "        refseqtoentrez[l[1]] += [l[3]]\n",
      "    except KeyError:\n",
      "        #then it's not a human refseq\n",
      "        pass\n",
      "    if lc%10000000 == 0:\n",
      "        print \"Reached line {0}\".format(lc)\n",
      "    lc += 1\n",
      "f.close()"
     ],
     "language": "python",
     "metadata": {},
     "outputs": [
      {
       "output_type": "stream",
       "stream": "stdout",
       "text": [
        "Reached line 0\n",
        "Reached line 10000000"
       ]
      },
      {
       "output_type": "stream",
       "stream": "stdout",
       "text": [
        "\n",
        "Reached line 20000000"
       ]
      },
      {
       "output_type": "stream",
       "stream": "stdout",
       "text": [
        "\n",
        "Reached line 30000000"
       ]
      },
      {
       "output_type": "stream",
       "stream": "stdout",
       "text": [
        "\n",
        "Reached line 40000000"
       ]
      },
      {
       "output_type": "stream",
       "stream": "stdout",
       "text": [
        "\n",
        "Reached line 50000000"
       ]
      },
      {
       "output_type": "stream",
       "stream": "stdout",
       "text": [
        "\n",
        "Reached line 60000000"
       ]
      },
      {
       "output_type": "stream",
       "stream": "stdout",
       "text": [
        "\n",
        "Reached line 70000000"
       ]
      },
      {
       "output_type": "stream",
       "stream": "stdout",
       "text": [
        "\n",
        "Reached line 80000000"
       ]
      },
      {
       "output_type": "stream",
       "stream": "stdout",
       "text": [
        "\n",
        "Reached line 90000000"
       ]
      },
      {
       "output_type": "stream",
       "stream": "stdout",
       "text": [
        "\n",
        "Reached line 100000000"
       ]
      },
      {
       "output_type": "stream",
       "stream": "stdout",
       "text": [
        "\n",
        "Reached line 110000000"
       ]
      },
      {
       "output_type": "stream",
       "stream": "stdout",
       "text": [
        "\n",
        "Reached line 120000000"
       ]
      },
      {
       "output_type": "stream",
       "stream": "stdout",
       "text": [
        "\n"
       ]
      }
     ],
     "prompt_number": 18
    },
    {
     "cell_type": "code",
     "collapsed": false,
     "input": [
      "print \"{0} Refseq IDs mapped to {1} Entrez IDs\".format(len(refseqtoentrez.keys()),\n",
      "                                                       len(list(flatten(refseqtoentrez.values()))))"
     ],
     "language": "python",
     "metadata": {},
     "outputs": [
      {
       "output_type": "stream",
       "stream": "stdout",
       "text": [
        "71681 Refseq IDs mapped to 52789 Entrez IDs\n"
       ]
      }
     ],
     "prompt_number": 19
    },
    {
     "cell_type": "markdown",
     "metadata": {},
     "source": [
      "Check that this mapping is 1 to 1:"
     ]
    },
    {
     "cell_type": "code",
     "collapsed": false,
     "input": [
      "ridlengths = []\n",
      "for k in refseqtoentrez.keys():\n",
      "    if len(refseqtoentrez[k]) > 1:\n",
      "        print \"Entry {0} has length {1}\".format(k,len(refseqtoentrez[k]))"
     ],
     "language": "python",
     "metadata": {},
     "outputs": [],
     "prompt_number": 21
    },
    {
     "cell_type": "markdown",
     "metadata": {},
     "source": [
      "So all those that are not zero map precisely 1 to 1.\n",
      "All of those Entrez IDs are the proteins we would like to run through the MultiLoc2 script.\n",
      "Then, we can iterate over the these dictionaries and build a new dictionary relating Entrez IDs to corresponding canonical sequences:"
     ]
    },
    {
     "cell_type": "code",
     "collapsed": false,
     "input": [
      "entreztorecord = {}\n",
      "for k in refseqtoentrez.keys():\n",
      "    if refseqtoentrez[k]:\n",
      "        entreztorecord[refseqtoentrez[k][0]] = refseqtoentry[k][0]"
     ],
     "language": "python",
     "metadata": {},
     "outputs": [],
     "prompt_number": 12
    },
    {
     "cell_type": "markdown",
     "metadata": {},
     "source": [
      "## Storing the results\n",
      "\n",
      "Once we've done this we can write the FASTA file to disk and pickle the dictionary so we can retrieve the Entrez Gene IDs:"
     ]
    },
    {
     "cell_type": "code",
     "collapsed": false,
     "input": [
      "import pickle"
     ],
     "language": "python",
     "metadata": {},
     "outputs": [],
     "prompt_number": 12
    },
    {
     "cell_type": "code",
     "collapsed": false,
     "input": [
      "SeqIO.write(flatten(entreztorecord.values()),\"human.canonical.refseq.fasta\",\"fasta\")"
     ],
     "language": "python",
     "metadata": {},
     "outputs": [
      {
       "metadata": {},
       "output_type": "pyout",
       "prompt_number": 23,
       "text": [
        "52789"
       ]
      }
     ],
     "prompt_number": 23
    },
    {
     "cell_type": "code",
     "collapsed": false,
     "input": [
      "f = open(\"human.canonical.entrez.pickle\",\"wb\")\n",
      "pickle.dump(entreztorecord,f)\n",
      "f.close()"
     ],
     "language": "python",
     "metadata": {},
     "outputs": [],
     "prompt_number": 16
    },
    {
     "cell_type": "markdown",
     "metadata": {},
     "source": [
      "The dictionary mapping 1 to 1 Entrez to canonical refseq sequences could also come in useful so that should also be stored:"
     ]
    },
    {
     "cell_type": "code",
     "collapsed": false,
     "input": [
      "f = open(\"human.canonical.refseqtoentrez.pickle\",\"wb\")\n",
      "pickle.dump(refseqtoentrez,f)\n",
      "f.close()"
     ],
     "language": "python",
     "metadata": {},
     "outputs": [],
     "prompt_number": 25
    },
    {
     "cell_type": "markdown",
     "metadata": {},
     "source": [
      "# Testing MultiLoc2 local script\n",
      "\n",
      "To install downloaded the tar file from [here][multiloc2tar] and installed the dependencies through the AUR:\n",
      "\n",
      "1. libsvm\n",
      "2. BLAST\n",
      "3. InterPro - could not install through the AUR, would have to install from its website [here][interpro]\n",
      "    * Given that InterPro appears to be the database rather than the application and the application InterProScan is extremely large not installing this at the moment.\n",
      "    * Will try to install after testing.\n",
      "\n",
      "Then ran the configuration script:\n",
      "\n",
      "[multiloc2tar]: http://abi.inf.uni-tuebingen.de/Services/MultiLoc2/multiloc2_download\n",
      "[interpro]: http://www.ebi.ac.uk/interpro/"
     ]
    },
    {
     "cell_type": "code",
     "collapsed": false,
     "input": [
      "cd ../multiloc2/MultiLoc2-26-10-2009/"
     ],
     "language": "python",
     "metadata": {},
     "outputs": [
      {
       "output_type": "stream",
       "stream": "stdout",
       "text": [
        "/home/gavin/Documents/MRes/multiloc2/MultiLoc2-26-10-2009\n"
       ]
      }
     ],
     "prompt_number": 36
    },
    {
     "cell_type": "code",
     "collapsed": false,
     "input": [
      "!python2 configureML2.py"
     ],
     "language": "python",
     "metadata": {},
     "outputs": [
      {
       "output_type": "stream",
       "stream": "stdout",
       "text": [
        "\r\n",
        "Start MultiLoc2 configuration:\r\n",
        "\r\n",
        "searching for svm-predict ... \r\n",
        "... found: /usr/bin/svm-predict\r\n",
        "\r\n",
        "searching for blastall ... \r\n",
        "... found: /usr/bin/blastall\r\n",
        "\r\n",
        "searching for formatdb ... \r\n",
        "... found: /usr/bin/formatdb\r\n",
        "\r\n",
        "searching for iprscan ... \r\n"
       ]
      },
      {
       "output_type": "stream",
       "stream": "stdout",
       "text": [
        "which: no iprscan in (/usr/local/sbin:/usr/local/bin:/usr/bin:/usr/bin/vendor_perl:/usr/bin/core_perl:/home/gavin/.cabal/bin:/usr/local/bin:/home/gavin/.cabal/bin:/usr/local/bin)\r\n",
        "Warning: iprscan not found!\r\n",
        "It is recommended but not required to install iprscan and to include its path into your $PATH variable!\r\n",
        "\r\n",
        "set all static paths in source files ...\r\n"
       ]
      },
      {
       "output_type": "stream",
       "stream": "stdout",
       "text": [
        "... create script run_multiloc2_with_iprscan\r\n",
        "... completed\r\n",
        "MultiLoc2 is ready to use!\r\n"
       ]
      }
     ],
     "prompt_number": 37
    },
    {
     "cell_type": "markdown",
     "metadata": {},
     "source": [
      "First, testing the script on just a few entries:"
     ]
    },
    {
     "cell_type": "code",
     "collapsed": false,
     "input": [
      "!python2 src/multiloc2_prediction.py"
     ],
     "language": "python",
     "metadata": {},
     "outputs": [
      {
       "output_type": "stream",
       "stream": "stdout",
       "text": [
        "usage:\r\n",
        "python src/multiloc2_prediction.py -fasta=<fasta file> -origin=<animal|plant|fungal> -result=<result file> [-predictor=<LowRes|HighRes>] [-output=<simple|advanced>] [[-go=<go file>] ... ]\r\n"
       ]
      }
     ],
     "prompt_number": 38
    },
    {
     "cell_type": "code",
     "collapsed": false,
     "input": [
      "#writing a small FASTA file here:\n",
      "testlist = entreztorecord.values()[0:10]\n",
      "SeqIO.write(testlist,\"human.testlist.fasta\",\"fasta\")"
     ],
     "language": "python",
     "metadata": {},
     "outputs": [
      {
       "metadata": {},
       "output_type": "pyout",
       "prompt_number": 41,
       "text": [
        "10"
       ]
      }
     ],
     "prompt_number": 41
    },
    {
     "cell_type": "code",
     "collapsed": false,
     "input": [
      "!python2 src/multiloc2_prediction.py -fasta=human.testlist.fasta -origin=animal -result=human.testlist.multiloc2"
     ],
     "language": "python",
     "metadata": {},
     "outputs": [
      {
       "output_type": "stream",
       "stream": "stdout",
       "text": [
        "create feature vectors\r\n",
        "run SVMTarget\r\n"
       ]
      },
      {
       "output_type": "stream",
       "stream": "stdout",
       "text": [
        "run SVMSA\r\n"
       ]
      },
      {
       "output_type": "stream",
       "stream": "stdout",
       "text": [
        "run SVMaac\r\n"
       ]
      },
      {
       "output_type": "stream",
       "stream": "stdout",
       "text": [
        "skip GOLoc\r\n"
       ]
      },
      {
       "output_type": "stream",
       "stream": "stdout",
       "text": [
        "run PhyloLoc\r\n"
       ]
      },
      {
       "output_type": "stream",
       "stream": "stdout",
       "text": [
        "Selenocysteine (U) at position 37 replaced by X\r\n"
       ]
      },
      {
       "output_type": "stream",
       "stream": "stdout",
       "text": [
        "run MotifSearch\r\n"
       ]
      },
      {
       "output_type": "stream",
       "stream": "stdout",
       "text": [
        "run MultiLoc2\r\n"
       ]
      }
     ],
     "prompt_number": 43
    },
    {
     "cell_type": "markdown",
     "metadata": {},
     "source": [
      "Running in parallel may be faster:"
     ]
    },
    {
     "cell_type": "code",
     "collapsed": false,
     "input": [
      "#write 10 small files:\n",
      "for x,r in zip(range(10),testlist):\n",
      "    SeqIO.write([r],\"human.{0}.fasta\".format(x),\"fasta\")"
     ],
     "language": "python",
     "metadata": {},
     "outputs": [],
     "prompt_number": 45
    },
    {
     "cell_type": "code",
     "collapsed": false,
     "input": [
      "#write a script to execute all of the files:\n",
      "f = open(\"runmultiloc2.sh\", \"w\")\n",
      "f.write(r\"#!/bin/bash\")\n",
      "f.write(\"\\n\")\n",
      "for x in range(10):\n",
      "    f.write(\"python2 src/multiloc2_prediction.py -fasta=human.{0}.fasta -origin=animal -result=human.{0}.multiloc2\".format(x))\n",
      "    f.write(\" & \\n\")\n",
      "f.write(\"wait\\n\")\n",
      "f.write(\"echo complete\")\n",
      "f.close()"
     ],
     "language": "python",
     "metadata": {},
     "outputs": [],
     "prompt_number": 68
    },
    {
     "cell_type": "code",
     "collapsed": false,
     "input": [
      "!cat runmultiloc2.sh"
     ],
     "language": "python",
     "metadata": {},
     "outputs": [
      {
       "output_type": "stream",
       "stream": "stdout",
       "text": [
        "#!/bin/bash\r\n",
        "python2 src/multiloc2_prediction.py -fasta=human.0.fasta -origin=animal -result=human.0.multiloc2 & \r\n",
        "python2 src/multiloc2_prediction.py -fasta=human.1.fasta -origin=animal -result=human.1.multiloc2 & \r\n",
        "python2 src/multiloc2_prediction.py -fasta=human.2.fasta -origin=animal -result=human.2.multiloc2 & \r\n",
        "python2 src/multiloc2_prediction.py -fasta=human.3.fasta -origin=animal -result=human.3.multiloc2 & \r\n",
        "python2 src/multiloc2_prediction.py -fasta=human.4.fasta -origin=animal -result=human.4.multiloc2 & \r\n",
        "python2 src/multiloc2_prediction.py -fasta=human.5.fasta -origin=animal -result=human.5.multiloc2 & \r\n",
        "python2 src/multiloc2_prediction.py -fasta=human.6.fasta -origin=animal -result=human.6.multiloc2 & \r\n",
        "python2 src/multiloc2_prediction.py -fasta=human.7.fasta -origin=animal -result=human.7.multiloc2 & \r\n",
        "python2 src/multiloc2_prediction.py -fasta=human.8.fasta -origin=animal -result=human.8.multiloc2 & \r\n",
        "python2 src/multiloc2_prediction.py -fasta=human.9.fasta -origin=animal -result=human.9.multiloc2 & \r\n",
        "wait\r\n",
        "echo complete"
       ]
      }
     ],
     "prompt_number": 69
    },
    {
     "cell_type": "code",
     "collapsed": false,
     "input": [
      "!chmod +x runmultiloc2.sh"
     ],
     "language": "python",
     "metadata": {},
     "outputs": [],
     "prompt_number": 70
    },
    {
     "cell_type": "code",
     "collapsed": false,
     "input": [
      "!./runmultiloc2.sh"
     ],
     "language": "python",
     "metadata": {},
     "outputs": [
      {
       "output_type": "stream",
       "stream": "stdout",
       "text": [
        "create feature vectors\r\n"
       ]
      },
      {
       "output_type": "stream",
       "stream": "stdout",
       "text": [
        "run SVMTarget\r\n",
        "create feature vectors\r\n",
        "create feature vectors\r\n",
        "run SVMTarget\r\n",
        "create feature vectors\r\n",
        "run SVMTarget\r\n",
        "create feature vectors\r\n",
        "run SVMTarget\r\n",
        "create feature vectors\r\n",
        "run SVMTarget\r\n",
        "run SVMTarget\r\n",
        "create feature vectors\r\n"
       ]
      },
      {
       "output_type": "stream",
       "stream": "stdout",
       "text": [
        "create feature vectors\r\n",
        "run SVMTarget\r\n",
        "create feature vectors\r\n",
        "create feature vectors\r\n",
        "run SVMTarget\r\n",
        "run SVMTarget\r\n",
        "run SVMTarget\r\n"
       ]
      },
      {
       "output_type": "stream",
       "stream": "stdout",
       "text": [
        "Traceback (most recent call last):\r\n",
        "  File \"src/multiloc2_prediction.py\", line 662, in <module>\r\n",
        "    main()\r\n",
        "  File \"src/multiloc2_prediction.py\", line 605, in main\r\n",
        "    vec = multiloc2_create_feature_vector(predictor,origin,file,go_file_names, 12345,prediction_id)\r\n",
        "  File \"src/multiloc2_prediction.py\", line 87, in multiloc2_create_feature_vector\r\n",
        "    result_svmtarget=svm_target.noplant_predict(fastafile,model,svm_model_path,libsvm_path, prediction_id)\t\t\r\n",
        "  File \"/home/gavin/Documents/MRes/multiloc2/MultiLoc2-26-10-2009/src/svm_target.py\", line 563, in noplant_predict\r\n",
        "    return predict(\"noplant\",data,model,svm_model_path,libsvm_path,id)\r\n",
        "  File \"/home/gavin/Documents/MRes/multiloc2/MultiLoc2-26-10-2009/src/svm_target.py\", line 510, in predict\r\n",
        "    create_svm2_input(\"non-plant\",file_path,input_file,None,proteins,\"0\",firstN_sp,firstN_mtp,firstN_ctp,window_size_sp,window_size_mtp,window_size_ctp,svm_sp_vs_other,svm_mtp_vs_other,None, svm_sp_vs_mtp, None,svm_mtp_vs_sp, None, None)\r\n",
        "  File \"/home/gavin/Documents/MRes/multiloc2/MultiLoc2-26-10-2009/src/svm_target.py\", line 273, in create_svm2_input\r\n",
        "    file_output_sp_vs_other = open(\"%soutput_svm_sp_vs_other.dat\" % file_path, 'r')\r\n",
        "IOError: [Errno 2] No such file or directory: '/home/gavin/Documents/MRes/multiloc2/MultiLoc2-26-10-2009/tmp//ml1404158467.35output_svm_sp_vs_other.dat'\r\n"
       ]
      },
      {
       "output_type": "stream",
       "stream": "stdout",
       "text": [
        "run SVMSA\r\n"
       ]
      },
      {
       "output_type": "stream",
       "stream": "stdout",
       "text": [
        "run SVMSA\r\n",
        "run SVMSA\r\n"
       ]
      },
      {
       "output_type": "stream",
       "stream": "stdout",
       "text": [
        "Traceback (most recent call last):\r\n",
        "  File \"src/multiloc2_prediction.py\", line 662, in <module>\r\n",
        "    main()\r\n",
        "  File \"src/multiloc2_prediction.py\", line 605, in main\r\n",
        "    vec = multiloc2_create_feature_vector(predictor,origin,file,go_file_names, 12345,prediction_id)\r\n",
        "  File \"src/multiloc2_prediction.py\", line 87, in multiloc2_create_feature_vector\r\n",
        "    result_svmtarget=svm_target.noplant_predict(fastafile,model,svm_model_path,libsvm_path, prediction_id)\t\t\r\n",
        "  File \"/home/gavin/Documents/MRes/multiloc2/MultiLoc2-26-10-2009/src/svm_target.py\", line 563, in noplant_predict\r\n",
        "    return predict(\"noplant\",data,model,svm_model_path,libsvm_path,id)\r\n",
        "  File \"/home/gavin/Documents/MRes/multiloc2/MultiLoc2-26-10-2009/src/svm_target.py\", line 510, in predict\r\n",
        "    create_svm2_input(\"non-plant\",file_path,input_file,None,proteins,\"0\",firstN_sp,firstN_mtp,firstN_ctp,window_size_sp,window_size_mtp,window_size_ctp,svm_sp_vs_other,svm_mtp_vs_other,None, svm_sp_vs_mtp, None,svm_mtp_vs_sp, None, None)\r\n",
        "  File \"/home/gavin/Documents/MRes/multiloc2/MultiLoc2-26-10-2009/src/svm_target.py\", line 273, in create_svm2_input\r\n",
        "    file_output_sp_vs_other = open(\"%soutput_svm_sp_vs_other.dat\" % file_path, 'r')\r\n",
        "IOError: [Errno 2] No such file or directory: '/home/gavin/Documents/MRes/multiloc2/MultiLoc2-26-10-2009/tmp//ml1404158467.38output_svm_sp_vs_other.dat'\r\n",
        "run SVMSA\r\n"
       ]
      },
      {
       "output_type": "stream",
       "stream": "stdout",
       "text": [
        "run SVMSA\r\n"
       ]
      },
      {
       "output_type": "stream",
       "stream": "stdout",
       "text": [
        "Traceback (most recent call last):\r\n",
        "  File \"src/multiloc2_prediction.py\", line 662, in <module>\r\n",
        "    main()\r\n",
        "  File \"src/multiloc2_prediction.py\", line 605, in main\r\n",
        "    vec = multiloc2_create_feature_vector(predictor,origin,file,go_file_names, 12345,prediction_id)\r\n",
        "  File \"src/multiloc2_prediction.py\", line 87, in multiloc2_create_feature_vector\r\n",
        "    result_svmtarget=svm_target.noplant_predict(fastafile,model,svm_model_path,libsvm_path, prediction_id)\t\t\r\n",
        "  File \"/home/gavin/Documents/MRes/multiloc2/MultiLoc2-26-10-2009/src/svm_target.py\", line 563, in noplant_predict\r\n",
        "    return predict(\"noplant\",data,model,svm_model_path,libsvm_path,id)\r\n",
        "  File \"/home/gavin/Documents/MRes/multiloc2/MultiLoc2-26-10-2009/src/svm_target.py\", line 510, in predict\r\n",
        "    create_svm2_input(\"non-plant\",file_path,input_file,None,proteins,\"0\",firstN_sp,firstN_mtp,firstN_ctp,window_size_sp,window_size_mtp,window_size_ctp,svm_sp_vs_other,svm_mtp_vs_other,None, svm_sp_vs_mtp, None,svm_mtp_vs_sp, None, None)\r\n",
        "  File \"/home/gavin/Documents/MRes/multiloc2/MultiLoc2-26-10-2009/src/svm_target.py\", line 273, in create_svm2_input\r\n",
        "    file_output_sp_vs_other = open(\"%soutput_svm_sp_vs_other.dat\" % file_path, 'r')\r\n",
        "IOError: [Errno 2] No such file or directory: '/home/gavin/Documents/MRes/multiloc2/MultiLoc2-26-10-2009/tmp//ml1404158467.36output_svm_sp_vs_other.dat'\r\n"
       ]
      },
      {
       "output_type": "stream",
       "stream": "stdout",
       "text": [
        "run SVMSA\r\n",
        "run SVMSA\r\n"
       ]
      },
      {
       "output_type": "stream",
       "stream": "stdout",
       "text": [
        "run SVMaac\r\n"
       ]
      },
      {
       "output_type": "stream",
       "stream": "stdout",
       "text": [
        "run SVMaac\r\n",
        "run SVMaac\r\n"
       ]
      },
      {
       "output_type": "stream",
       "stream": "stdout",
       "text": [
        "run SVMaac\r\n",
        "run SVMaac\r\n"
       ]
      },
      {
       "output_type": "stream",
       "stream": "stdout",
       "text": [
        "run SVMaac\r\n"
       ]
      },
      {
       "output_type": "stream",
       "stream": "stdout",
       "text": [
        "run SVMaac\r\n"
       ]
      },
      {
       "output_type": "stream",
       "stream": "stdout",
       "text": [
        "skip GOLoc\r\n"
       ]
      },
      {
       "output_type": "stream",
       "stream": "stdout",
       "text": [
        "skip GOLoc\r\n",
        "skip GOLoc\r\n",
        "skip GOLoc\r\n"
       ]
      },
      {
       "output_type": "stream",
       "stream": "stdout",
       "text": [
        "skip GOLoc\r\n"
       ]
      },
      {
       "output_type": "stream",
       "stream": "stdout",
       "text": [
        "skip GOLoc\r\n"
       ]
      },
      {
       "output_type": "stream",
       "stream": "stdout",
       "text": [
        "skip GOLoc\r\n"
       ]
      },
      {
       "output_type": "stream",
       "stream": "stdout",
       "text": [
        "run PhyloLoc\r\n"
       ]
      },
      {
       "output_type": "stream",
       "stream": "stdout",
       "text": [
        "run PhyloLoc\r\n",
        "run PhyloLoc\r\n"
       ]
      },
      {
       "output_type": "stream",
       "stream": "stdout",
       "text": [
        "run PhyloLoc\r\n",
        "run PhyloLoc\r\n"
       ]
      },
      {
       "output_type": "stream",
       "stream": "stdout",
       "text": [
        "run PhyloLoc\r\n"
       ]
      },
      {
       "output_type": "stream",
       "stream": "stdout",
       "text": [
        "run PhyloLoc\r\n"
       ]
      },
      {
       "output_type": "stream",
       "stream": "stdout",
       "text": [
        "run MotifSearch\r\n"
       ]
      },
      {
       "output_type": "stream",
       "stream": "stdout",
       "text": [
        "run MultiLoc2\r\n"
       ]
      },
      {
       "output_type": "stream",
       "stream": "stdout",
       "text": [
        "run MotifSearch\r\n"
       ]
      },
      {
       "output_type": "stream",
       "stream": "stdout",
       "text": [
        "run MultiLoc2\r\n"
       ]
      },
      {
       "output_type": "stream",
       "stream": "stdout",
       "text": [
        "run MotifSearch\r\n"
       ]
      },
      {
       "output_type": "stream",
       "stream": "stdout",
       "text": [
        "run MultiLoc2\r\n"
       ]
      },
      {
       "output_type": "stream",
       "stream": "stdout",
       "text": [
        "run MotifSearch\r\n"
       ]
      },
      {
       "output_type": "stream",
       "stream": "stdout",
       "text": [
        "run MultiLoc2\r\n"
       ]
      },
      {
       "output_type": "stream",
       "stream": "stdout",
       "text": [
        "run MotifSearch\r\n"
       ]
      },
      {
       "output_type": "stream",
       "stream": "stdout",
       "text": [
        "run MultiLoc2\r\n"
       ]
      }
     ]
    },
    {
     "cell_type": "markdown",
     "metadata": {},
     "source": [
      "Cleaning up:"
     ]
    },
    {
     "cell_type": "code",
     "collapsed": false,
     "input": [
      "!rm human.*"
     ],
     "language": "python",
     "metadata": {},
     "outputs": [],
     "prompt_number": 73
    },
    {
     "cell_type": "markdown",
     "metadata": {},
     "source": [
      "## Testing the execution time\n",
      "\n",
      "Since that's not going to work, we might as well find out how long it's going to take to actually run this thing."
     ]
    },
    {
     "cell_type": "code",
     "collapsed": false,
     "input": [
      "import time"
     ],
     "language": "python",
     "metadata": {},
     "outputs": [],
     "prompt_number": 72
    },
    {
     "cell_type": "code",
     "collapsed": false,
     "input": [
      "testlist = entreztorecord.values()[0:1000]\n",
      "SeqIO.write(testlist,\"human.testlist.fasta\",\"fasta\")"
     ],
     "language": "python",
     "metadata": {},
     "outputs": [
      {
       "metadata": {},
       "output_type": "pyout",
       "prompt_number": 77,
       "text": [
        "1000"
       ]
      }
     ],
     "prompt_number": 77
    },
    {
     "cell_type": "code",
     "collapsed": false,
     "input": [
      "pre = time.time()"
     ],
     "language": "python",
     "metadata": {},
     "outputs": [],
     "prompt_number": 78
    },
    {
     "cell_type": "code",
     "collapsed": false,
     "input": [
      "!python2 src/multiloc2_prediction.py -fasta=human.testlist.fasta -origin=animal -result=human.testlist.multiloc2"
     ],
     "language": "python",
     "metadata": {},
     "outputs": [
      {
       "output_type": "stream",
       "stream": "stdout",
       "text": [
        "create feature vectors\r\n",
        "run SVMTarget\r\n"
       ]
      },
      {
       "output_type": "stream",
       "stream": "stdout",
       "text": [
        "run SVMSA\r\n"
       ]
      },
      {
       "output_type": "stream",
       "stream": "stdout",
       "text": [
        "run SVMaac\r\n"
       ]
      },
      {
       "output_type": "stream",
       "stream": "stdout",
       "text": [
        "skip GOLoc\r\n"
       ]
      },
      {
       "output_type": "stream",
       "stream": "stdout",
       "text": [
        "run PhyloLoc\r\n"
       ]
      },
      {
       "output_type": "stream",
       "stream": "stdout",
       "text": [
        "Selenocysteine (U) at position 37 replaced by X\r\n"
       ]
      },
      {
       "output_type": "stream",
       "stream": "stdout",
       "text": [
        "Selenocysteine (U) at position 132 replaced by X\r\n"
       ]
      },
      {
       "output_type": "stream",
       "stream": "stdout",
       "text": [
        "Selenocysteine (U) at position 666 replaced by X\r\n"
       ]
      },
      {
       "output_type": "stream",
       "stream": "stdout",
       "text": [
        "Selenocysteine (U) at position 43 replaced by X\r\n"
       ]
      },
      {
       "output_type": "stream",
       "stream": "stdout",
       "text": [
        "Selenocysteine (U) at position 132 replaced by X\r\n"
       ]
      },
      {
       "output_type": "stream",
       "stream": "stdout",
       "text": [
        "Selenocysteine (U) at position 197 replaced by X\r\n"
       ]
      },
      {
       "output_type": "stream",
       "stream": "stdout",
       "text": [
        "Selenocysteine (U) at position 14 replaced by X\r\n",
        "Selenocysteine (U) at position 65 replaced by X\r\n"
       ]
      },
      {
       "output_type": "stream",
       "stream": "stdout",
       "text": [
        "Selenocysteine (U) at position 13 replaced by X\r\n",
        "Selenocysteine (U) at position 17 replaced by X\r\n",
        "Selenocysteine (U) at position 255 replaced by X\r\n"
       ]
      },
      {
       "output_type": "stream",
       "stream": "stdout",
       "text": [
        "Selenocysteine (U) at position 49 replaced by X\r\n",
        "Selenocysteine (U) at position 273 replaced by X\r\n",
        "Selenocysteine (U) at position 13 replaced by X\r\n"
       ]
      },
      {
       "output_type": "stream",
       "stream": "stdout",
       "text": [
        "Selenocysteine (U) at position 614 replaced by X\r\n"
       ]
      },
      {
       "output_type": "stream",
       "stream": "stdout",
       "text": [
        "Selenocysteine (U) at position 200 replaced by X\r\n"
       ]
      },
      {
       "output_type": "stream",
       "stream": "stdout",
       "text": [
        "Selenocysteine (U) at position 121 replaced by X\r\n"
       ]
      },
      {
       "output_type": "stream",
       "stream": "stdout",
       "text": [
        "Selenocysteine (U) at position 37 replaced by X\r\n"
       ]
      },
      {
       "output_type": "stream",
       "stream": "stdout",
       "text": [
        "Selenocysteine (U) at position 127 replaced by X\r\n",
        "Selenocysteine (U) at position 462 replaced by X\r\n"
       ]
      },
      {
       "output_type": "stream",
       "stream": "stdout",
       "text": [
        "Selenocysteine (U) at position 428 replaced by X\r\n"
       ]
      },
      {
       "output_type": "stream",
       "stream": "stdout",
       "text": [
        "Selenocysteine (U) at position 428 replaced by X\r\n",
        "Selenocysteine (U) at position 127 replaced by X\r\n",
        "Selenocysteine (U) at position 462 replaced by X\r\n"
       ]
      },
      {
       "output_type": "stream",
       "stream": "stdout",
       "text": [
        "Selenocysteine (U) at position 132 replaced by X\r\n"
       ]
      },
      {
       "output_type": "stream",
       "stream": "stdout",
       "text": [
        "Selenocysteine (U) at position 37 replaced by X\r\n"
       ]
      },
      {
       "output_type": "stream",
       "stream": "stdout",
       "text": [
        "Selenocysteine (U) at position 197 replaced by X\r\n"
       ]
      },
      {
       "output_type": "stream",
       "stream": "stdout",
       "text": [
        "Selenocysteine (U) at position 428 replaced by X\r\n",
        "Selenocysteine (U) at position 127 replaced by X\r\n",
        "Selenocysteine (U) at position 462 replaced by X\r\n"
       ]
      },
      {
       "output_type": "stream",
       "stream": "stdout",
       "text": [
        "Selenocysteine (U) at position 133 replaced by X\r\n",
        "Selenocysteine (U) at position 132 replaced by X\r\n"
       ]
      },
      {
       "output_type": "stream",
       "stream": "stdout",
       "text": [
        "Selenocysteine (U) at position 133 replaced by X\r\n"
       ]
      },
      {
       "output_type": "stream",
       "stream": "stdout",
       "text": [
        "Selenocysteine (U) at position 16 replaced by X\r\n"
       ]
      },
      {
       "output_type": "stream",
       "stream": "stdout",
       "text": [
        "Selenocysteine (U) at position 7 replaced by X\r\n",
        "Selenocysteine (U) at position 17 replaced by X\r\n",
        "Selenocysteine (U) at position 34 replaced by X\r\n"
       ]
      },
      {
       "output_type": "stream",
       "stream": "stdout",
       "text": [
        "Selenocysteine (U) at position 132 replaced by X\r\n"
       ]
      },
      {
       "output_type": "stream",
       "stream": "stdout",
       "text": [
        "Selenocysteine (U) at position 43 replaced by X\r\n"
       ]
      },
      {
       "output_type": "stream",
       "stream": "stdout",
       "text": [
        "Selenocysteine (U) at position 200 replaced by X\r\n"
       ]
      },
      {
       "output_type": "stream",
       "stream": "stdout",
       "text": [
        "Selenocysteine (U) at position 391 replaced by X\r\n"
       ]
      },
      {
       "output_type": "stream",
       "stream": "stdout",
       "text": [
        "Selenocysteine (U) at position 255 replaced by X\r\n"
       ]
      },
      {
       "output_type": "stream",
       "stream": "stdout",
       "text": [
        "Selenocysteine (U) at position 37 replaced by X\r\n"
       ]
      },
      {
       "output_type": "stream",
       "stream": "stdout",
       "text": [
        "Selenocysteine (U) at position 273 replaced by X\r\n"
       ]
      },
      {
       "output_type": "stream",
       "stream": "stdout",
       "text": [
        "Selenocysteine (U) at position 121 replaced by X\r\n"
       ]
      },
      {
       "output_type": "stream",
       "stream": "stdout",
       "text": [
        "Selenocysteine (U) at position 133 replaced by X\r\n"
       ]
      },
      {
       "output_type": "stream",
       "stream": "stdout",
       "text": [
        "Selenocysteine (U) at position 120 replaced by X\r\n"
       ]
      },
      {
       "output_type": "stream",
       "stream": "stdout",
       "text": [
        "Selenocysteine (U) at position 197 replaced by X\r\n"
       ]
      },
      {
       "output_type": "stream",
       "stream": "stdout",
       "text": [
        "Selenocysteine (U) at position 273 replaced by X\r\n"
       ]
      },
      {
       "output_type": "stream",
       "stream": "stdout",
       "text": [
        "Selenocysteine (U) at position 200 replaced by X\r\n"
       ]
      },
      {
       "output_type": "stream",
       "stream": "stdout",
       "text": [
        "Selenocysteine (U) at position 200 replaced by X\r\n"
       ]
      },
      {
       "output_type": "stream",
       "stream": "stdout",
       "text": [
        "Selenocysteine (U) at position 273 replaced by X\r\n"
       ]
      },
      {
       "output_type": "stream",
       "stream": "stdout",
       "text": [
        "Selenocysteine (U) at position 195 replaced by X\r\n"
       ]
      },
      {
       "output_type": "stream",
       "stream": "stdout",
       "text": [
        "Selenocysteine (U) at position 132 replaced by X\r\n"
       ]
      },
      {
       "output_type": "stream",
       "stream": "stdout",
       "text": [
        "Selenocysteine (U) at position 7 replaced by X\r\n",
        "Selenocysteine (U) at position 17 replaced by X\r\n",
        "Selenocysteine (U) at position 34 replaced by X\r\n"
       ]
      },
      {
       "output_type": "stream",
       "stream": "stdout",
       "text": [
        "Selenocysteine (U) at position 7 replaced by X\r\n",
        "Selenocysteine (U) at position 17 replaced by X\r\n",
        "Selenocysteine (U) at position 34 replaced by X\r\n"
       ]
      },
      {
       "output_type": "stream",
       "stream": "stdout",
       "text": [
        "Selenocysteine (U) at position 273 replaced by X\r\n"
       ]
      },
      {
       "output_type": "stream",
       "stream": "stdout",
       "text": [
        "Selenocysteine (U) at position 200 replaced by X\r\n"
       ]
      },
      {
       "output_type": "stream",
       "stream": "stdout",
       "text": [
        "Selenocysteine (U) at position 37 replaced by X\r\n"
       ]
      },
      {
       "output_type": "stream",
       "stream": "stdout",
       "text": [
        "Selenocysteine (U) at position 120 replaced by X\r\n"
       ]
      },
      {
       "output_type": "stream",
       "stream": "stdout",
       "text": [
        "Selenocysteine (U) at position 391 replaced by X\r\n"
       ]
      },
      {
       "output_type": "stream",
       "stream": "stdout",
       "text": [
        "Selenocysteine (U) at position 121 replaced by X\r\n"
       ]
      },
      {
       "output_type": "stream",
       "stream": "stdout",
       "text": [
        "Selenocysteine (U) at position 133 replaced by X\r\n"
       ]
      },
      {
       "output_type": "stream",
       "stream": "stdout",
       "text": [
        "Selenocysteine (U) at position 121 replaced by X\r\n"
       ]
      },
      {
       "output_type": "stream",
       "stream": "stdout",
       "text": [
        "Selenocysteine (U) at position 37 replaced by X\r\n"
       ]
      },
      {
       "output_type": "stream",
       "stream": "stdout",
       "text": [
        "Selenocysteine (U) at position 132 replaced by X\r\n"
       ]
      },
      {
       "output_type": "stream",
       "stream": "stdout",
       "text": [
        "Selenocysteine (U) at position 132 replaced by X\r\n"
       ]
      },
      {
       "output_type": "stream",
       "stream": "stdout",
       "text": [
        "Selenocysteine (U) at position 666 replaced by X\r\n"
       ]
      },
      {
       "output_type": "stream",
       "stream": "stdout",
       "text": [
        "Selenocysteine (U) at position 273 replaced by X\r\n"
       ]
      },
      {
       "output_type": "stream",
       "stream": "stdout",
       "text": [
        "Selenocysteine (U) at position 273 replaced by X\r\n"
       ]
      },
      {
       "output_type": "stream",
       "stream": "stdout",
       "text": [
        "Selenocysteine (U) at position 37 replaced by X\r\n"
       ]
      },
      {
       "output_type": "stream",
       "stream": "stdout",
       "text": [
        "Selenocysteine (U) at position 391 replaced by X\r\n"
       ]
      },
      {
       "output_type": "stream",
       "stream": "stdout",
       "text": [
        "Selenocysteine (U) at position 388 replaced by X\r\n"
       ]
      },
      {
       "output_type": "stream",
       "stream": "stdout",
       "text": [
        "Selenocysteine (U) at position 132 replaced by X\r\n"
       ]
      },
      {
       "output_type": "stream",
       "stream": "stdout",
       "text": [
        "Selenocysteine (U) at position 43 replaced by X\r\n"
       ]
      },
      {
       "output_type": "stream",
       "stream": "stdout",
       "text": [
        "Selenocysteine (U) at position 133 replaced by X\r\n"
       ]
      },
      {
       "output_type": "stream",
       "stream": "stdout",
       "text": [
        "Selenocysteine (U) at position 255 replaced by X\r\n"
       ]
      },
      {
       "output_type": "stream",
       "stream": "stdout",
       "text": [
        "Selenocysteine (U) at position 200 replaced by X\r\n"
       ]
      },
      {
       "output_type": "stream",
       "stream": "stdout",
       "text": [
        "Selenocysteine (U) at position 197 replaced by X\r\n"
       ]
      },
      {
       "output_type": "stream",
       "stream": "stdout",
       "text": [
        "Selenocysteine (U) at position 121 replaced by X\r\n"
       ]
      },
      {
       "output_type": "stream",
       "stream": "stdout",
       "text": [
        "Selenocysteine (U) at position 388 replaced by X\r\n"
       ]
      },
      {
       "output_type": "stream",
       "stream": "stdout",
       "text": [
        "Selenocysteine (U) at position 200 replaced by X\r\n"
       ]
      },
      {
       "output_type": "stream",
       "stream": "stdout",
       "text": [
        "Selenocysteine (U) at position 197 replaced by X\r\n"
       ]
      },
      {
       "output_type": "stream",
       "stream": "stdout",
       "text": [
        "Selenocysteine (U) at position 43 replaced by X\r\n"
       ]
      },
      {
       "output_type": "stream",
       "stream": "stdout",
       "text": [
        "Selenocysteine (U) at position 37 replaced by X\r\n"
       ]
      },
      {
       "output_type": "stream",
       "stream": "stdout",
       "text": [
        "Selenocysteine (U) at position 273 replaced by X\r\n"
       ]
      },
      {
       "output_type": "stream",
       "stream": "stdout",
       "text": [
        "Selenocysteine (U) at position 132 replaced by X\r\n"
       ]
      },
      {
       "output_type": "stream",
       "stream": "stdout",
       "text": [
        "Selenocysteine (U) at position 132 replaced by X\r\n"
       ]
      },
      {
       "output_type": "stream",
       "stream": "stdout",
       "text": [
        "Selenocysteine (U) at position 37 replaced by X\r\n"
       ]
      },
      {
       "output_type": "stream",
       "stream": "stdout",
       "text": [
        "Selenocysteine (U) at position 43 replaced by X\r\n"
       ]
      },
      {
       "output_type": "stream",
       "stream": "stdout",
       "text": [
        "Selenocysteine (U) at position 120 replaced by X\r\n"
       ]
      },
      {
       "output_type": "stream",
       "stream": "stdout",
       "text": [
        "Selenocysteine (U) at position 121 replaced by X\r\n"
       ]
      },
      {
       "output_type": "stream",
       "stream": "stdout",
       "text": [
        "Selenocysteine (U) at position 391 replaced by X\r\n"
       ]
      },
      {
       "output_type": "stream",
       "stream": "stdout",
       "text": [
        "Selenocysteine (U) at position 197 replaced by X\r\n"
       ]
      },
      {
       "output_type": "stream",
       "stream": "stdout",
       "text": [
        "Selenocysteine (U) at position 388 replaced by X\r\n"
       ]
      },
      {
       "output_type": "stream",
       "stream": "stdout",
       "text": [
        "Selenocysteine (U) at position 391 replaced by X\r\n"
       ]
      },
      {
       "output_type": "stream",
       "stream": "stdout",
       "text": [
        "Selenocysteine (U) at position 7 replaced by X\r\n",
        "Selenocysteine (U) at position 17 replaced by X\r\n",
        "Selenocysteine (U) at position 34 replaced by X\r\n"
       ]
      },
      {
       "output_type": "stream",
       "stream": "stdout",
       "text": [
        "Selenocysteine (U) at position 391 replaced by X\r\n"
       ]
      },
      {
       "output_type": "stream",
       "stream": "stdout",
       "text": [
        "Selenocysteine (U) at position 255 replaced by X\r\n"
       ]
      },
      {
       "output_type": "stream",
       "stream": "stdout",
       "text": [
        "Selenocysteine (U) at position 37 replaced by X\r\n"
       ]
      },
      {
       "output_type": "stream",
       "stream": "stdout",
       "text": [
        "Selenocysteine (U) at position 120 replaced by X\r\n"
       ]
      },
      {
       "output_type": "stream",
       "stream": "stdout",
       "text": [
        "Selenocysteine (U) at position 121 replaced by X\r\n"
       ]
      },
      {
       "output_type": "stream",
       "stream": "stdout",
       "text": [
        "Selenocysteine (U) at position 37 replaced by X\r\n"
       ]
      },
      {
       "output_type": "stream",
       "stream": "stdout",
       "text": [
        "Selenocysteine (U) at position 121 replaced by X\r\n"
       ]
      },
      {
       "output_type": "stream",
       "stream": "stdout",
       "text": [
        "Selenocysteine (U) at position 43 replaced by X\r\n"
       ]
      },
      {
       "output_type": "stream",
       "stream": "stdout",
       "text": [
        "Selenocysteine (U) at position 120 replaced by X\r\n"
       ]
      },
      {
       "output_type": "stream",
       "stream": "stdout",
       "text": [
        "Selenocysteine (U) at position 391 replaced by X\r\n"
       ]
      },
      {
       "output_type": "stream",
       "stream": "stdout",
       "text": [
        "Selenocysteine (U) at position 120 replaced by X\r\n"
       ]
      },
      {
       "output_type": "stream",
       "stream": "stdout",
       "text": [
        "Selenocysteine (U) at position 197 replaced by X\r\n"
       ]
      },
      {
       "output_type": "stream",
       "stream": "stdout",
       "text": [
        "Selenocysteine (U) at position 391 replaced by X\r\n"
       ]
      },
      {
       "output_type": "stream",
       "stream": "stdout",
       "text": [
        "Selenocysteine (U) at position 391 replaced by X\r\n"
       ]
      },
      {
       "output_type": "stream",
       "stream": "stdout",
       "text": [
        "Selenocysteine (U) at position 121 replaced by X\r\n"
       ]
      },
      {
       "output_type": "stream",
       "stream": "stdout",
       "text": [
        "Selenocysteine (U) at position 7 replaced by X\r\n",
        "Selenocysteine (U) at position 17 replaced by X\r\n",
        "Selenocysteine (U) at position 34 replaced by X\r\n"
       ]
      },
      {
       "output_type": "stream",
       "stream": "stdout",
       "text": [
        "Selenocysteine (U) at position 255 replaced by X\r\n"
       ]
      },
      {
       "output_type": "stream",
       "stream": "stdout",
       "text": [
        "Selenocysteine (U) at position 200 replaced by X\r\n"
       ]
      },
      {
       "output_type": "stream",
       "stream": "stdout",
       "text": [
        "Selenocysteine (U) at position 132 replaced by X\r\n"
       ]
      },
      {
       "output_type": "stream",
       "stream": "stdout",
       "text": [
        "Selenocysteine (U) at position 120 replaced by X\r\n"
       ]
      },
      {
       "output_type": "stream",
       "stream": "stdout",
       "text": [
        "Selenocysteine (U) at position 255 replaced by X\r\n"
       ]
      },
      {
       "output_type": "stream",
       "stream": "stdout",
       "text": [
        "Selenocysteine (U) at position 7 replaced by X\r\n",
        "Selenocysteine (U) at position 17 replaced by X\r\n",
        "Selenocysteine (U) at position 34 replaced by X\r\n"
       ]
      },
      {
       "output_type": "stream",
       "stream": "stdout",
       "text": [
        "Selenocysteine (U) at position 273 replaced by X\r\n"
       ]
      },
      {
       "output_type": "stream",
       "stream": "stdout",
       "text": [
        "Traceback (most recent call last):\r\n",
        "  File \"src/multiloc2_prediction.py\", line 662, in <module>\r\n",
        "    main()\r\n",
        "  File \"src/multiloc2_prediction.py\", line 605, in main\r\n",
        "    vec = multiloc2_create_feature_vector(predictor,origin,file,go_file_names, 12345,prediction_id)\r\n",
        "  File \"src/multiloc2_prediction.py\", line 115, in multiloc2_create_feature_vector\r\n",
        "    result_svm_phyloloc = svm_phyloloc.animal_predict(table,svm_model_path,fastafile,model,libsvm_path,blast_path,genome_path,prediction_id)\r\n",
        "  File \"/home/gavin/Documents/MRes/multiloc2/MultiLoc2-26-10-2009/src/svm_phyloloc.py\", line 218, in animal_predict\r\n",
        "    return predict(\"animal\",table,path,data,model,libsvm_path,blast_path,genome_path, id)\r\n",
        "  File \"/home/gavin/Documents/MRes/multiloc2/MultiLoc2-26-10-2009/src/svm_phyloloc.py\", line 207, in predict\r\n",
        "    fv = create_feature_vector(proteins[i]['id'],proteins[i]['sequence'],blast_path,genome_path,id)\r\n",
        "  File \"/home/gavin/Documents/MRes/multiloc2/MultiLoc2-26-10-2009/src/svm_phyloloc.py\", line 177, in create_feature_vector\r\n",
        "    fvs = createProfile(inputfile,blast_path,genome_path,id)\r\n",
        "  File \"/home/gavin/Documents/MRes/multiloc2/MultiLoc2-26-10-2009/src/svm_phyloloc.py\", line 134, in createProfile\r\n",
        "    proteins2[id][i]=bit_score\r\n",
        "KeyError: 'gi|31791026|ref|NP_853640.1|'\r\n"
       ]
      }
     ],
     "prompt_number": 79
    },
    {
     "cell_type": "code",
     "collapsed": false,
     "input": [
      "post = time.time()"
     ],
     "language": "python",
     "metadata": {},
     "outputs": [],
     "prompt_number": 80
    },
    {
     "cell_type": "markdown",
     "metadata": {},
     "source": [
      "As you can see, it had an error so hasn't executed."
     ]
    },
    {
     "cell_type": "markdown",
     "metadata": {},
     "source": [
      "# Using pre-computed MultiLoc2 results from ENTs\n",
      "\n",
      "The [ENTs paper][ents] uses results for the MultiLoc2 script for the same task we are working on: protein-protein interaction prediction.\n",
      "Instead of using the MultiLoc2 script we can therefore just use the precomputed results in the file found in ENTs standalone download [here][entsstandalone].\n",
      "\n",
      "[ents]: http://www.biomedcentral.com/1471-2164/14/608\n",
      "[entsstandalone]: http://ents.as.wvu.edu/software/ents_standalone.tar.gz"
     ]
    },
    {
     "cell_type": "code",
     "collapsed": false,
     "input": [
      "cd ../../ents/standalone/"
     ],
     "language": "python",
     "metadata": {},
     "outputs": [
      {
       "output_type": "stream",
       "stream": "stdout",
       "text": [
        "/home/gavin/Documents/MRes/ents/standalone\n"
       ]
      }
     ],
     "prompt_number": 81
    },
    {
     "cell_type": "code",
     "collapsed": false,
     "input": [
      "ls"
     ],
     "language": "python",
     "metadata": {},
     "outputs": [
      {
       "output_type": "stream",
       "stream": "stdout",
       "text": [
        "\u001b[0m\u001b[40m\u001b[m\u001b[00mArabidopsis_trained.RData\u001b[0m             \u001b[40m\u001b[m\u001b[00mmultiloc2.pyc\u001b[0m\r\n",
        "\u001b[40m\u001b[m\u001b[00mA_thaliana_domains.out\u001b[0m                \u001b[40m\u001b[m\u001b[00mpopulus_subcellular_multiloc2.out\u001b[0m\r\n",
        "\u001b[40m\u001b[m\u001b[00ma_thaliana_subcellular_multiloc2.out\u001b[0m  \u001b[40m\u001b[m\u001b[00mpred_file_maker.py\u001b[0m\r\n",
        "\u001b[40m\u001b[m\u001b[00mbioinformatics_supplemental.pdf\u001b[0m       \u001b[40m\u001b[m\u001b[00mpred_file_maker.pyc\u001b[0m\r\n",
        "\u001b[40m\u001b[m\u001b[00mDataFrame.py\u001b[0m                          \u001b[40m\u001b[m\u001b[00mP_trichocarpa_domains.out\u001b[0m\r\n",
        "\u001b[40m\u001b[m\u001b[00mDataFrame.pyc\u001b[0m                         \u001b[40m\u001b[m\u001b[00mrun_genome_prob.py\u001b[0m\r\n",
        "\u001b[40m\u001b[m\u001b[00mdomain_odds.in\u001b[0m                        \u001b[40m\u001b[m\u001b[00mrun_genome.py\u001b[0m\r\n",
        "\u001b[40m\u001b[m\u001b[00mdomine_flat_file.in\u001b[0m                   \u001b[40m\u001b[m\u001b[00mR_utilities.py\u001b[0m\r\n",
        "\u001b[40m\u001b[m\u001b[00mH_sapiens_domains.out\u001b[0m                 \u001b[40m\u001b[m\u001b[00mR_utilities.pyc\u001b[0m\r\n",
        "\u001b[40m\u001b[m\u001b[00mh_sapiens_subcellular_multiloc2.out\u001b[0m   \u001b[40m\u001b[m\u001b[00mS_cerevisiae_domains.out\u001b[0m\r\n",
        "\u001b[40m\u001b[m\u001b[00mhuman_trained.RData\u001b[0m                   \u001b[40m\u001b[m\u001b[00ms_cerevisiae_subcellular_multiloc2.out\u001b[0m\r\n",
        "\u001b[40m\u001b[m\u001b[00mM_musculus_domains.out\u001b[0m                \u001b[40m\u001b[m\u001b[01;34mtest_predictions\u001b[0m/\r\n",
        "\u001b[40m\u001b[m\u001b[00mm_musculus_subcellular_multiloc2.out\u001b[0m  \u001b[40m\u001b[m\u001b[00myeast_trained.RData\u001b[0m\r\n",
        "\u001b[40m\u001b[m\u001b[00mmultiloc2.py\u001b[0m\r\n"
       ]
      }
     ],
     "prompt_number": 82
    },
    {
     "cell_type": "code",
     "collapsed": false,
     "input": [
      "!head h_sapiens_subcellular_multiloc2.out"
     ],
     "language": "python",
     "metadata": {},
     "outputs": [
      {
       "output_type": "stream",
       "stream": "stdout",
       "text": [
        "MultiLoc2 Prediction Result\r\n",
        "\r\n",
        "predictor = MultiLoc2-HighRes\r\n",
        "origin = animal\r\n",
        "\r\n",
        "ENSP00000442112\textracellular: 0.31\tperoxisomal: 0.18\tcytoplasmic: 0.13\tmitochondrial: 0.1\tlysosomal: 0.08\tplasma membrane: 0.07\tER: 0.07\tGolgi apparatus: 0.05\tnuclear: 0.01\r\n",
        "ENSP00000371119\textracellular: 0.81\tplasma membrane: 0.06\tperoxisomal: 0.04\tmitochondrial: 0.02\tcytoplasmic: 0.02\tlysosomal: 0.02\tER: 0.02\tGolgi apparatus: 0.01\tnuclear: 0.0\r\n",
        "ENSP00000392204\tcytoplasmic: 0.6\tnuclear: 0.2\tmitochondrial: 0.1\tperoxisomal: 0.05\tplasma membrane: 0.02\textracellular: 0.02\tGolgi apparatus: 0.01\tER: 0.01\tlysosomal: 0.0\r\n",
        "ENSP00000420823\tcytoplasmic: 0.62\tperoxisomal: 0.28\tnuclear: 0.05\tmitochondrial: 0.04\textracellular: 0.0\tGolgi apparatus: 0.0\tplasma membrane: 0.0\tER: 0.0\tlysosomal: 0.0\r\n",
        "ENSP00000322899\tcytoplasmic: 0.67\tmitochondrial: 0.18\tperoxisomal: 0.06\tnuclear: 0.05\tER: 0.02\textracellular: 0.01\tGolgi apparatus: 0.01\tplasma membrane: 0.01\tlysosomal: 0.0\r\n"
       ]
      }
     ],
     "prompt_number": 83
    },
    {
     "cell_type": "markdown",
     "metadata": {},
     "source": [
      "So what's this identifier they're using, example from above: `ENSP00000442112`.\n",
      "Looks like a human protein Ensembl ID.\n",
      "So I just need to map from the list of canonical human proteins we have to this.\n",
      "\n",
      "We would like to use the same features used in this paper as they appear to be effective, so we have to use a similar method to parse the files in the ENTs folder to that used in the paper.\n",
      "To do this, will have to inspect the code.\n",
      "\n",
      "Opening an new notebook to repurpose the ENTs code into our pipeline."
     ]
    }
   ],
   "metadata": {}
  }
 ]
}