{
 "metadata": {
  "name": "",
  "signature": "sha256:776fd48cb7767de6cf64f4df62503f74a958e74fdc8abc24e2f8d6c655690d54"
 },
 "nbformat": 3,
 "nbformat_minor": 0,
 "worksheets": [
  {
   "cells": [
    {
     "cell_type": "markdown",
     "metadata": {},
     "source": [
      "This notebook is to inspect, load and modify some of the code from the [ENTs][] paper's [tar file][entstar].\n",
      "The aim to produce a pickled object to return features for given protein pairs in the way it was done for Gene Ontology features.\n",
      "\n",
      "# Loading data\n",
      "\n",
      "The data is loaded in the code in the file `run_genome_prob.py`.\n",
      "The code to do this is relatively short and has been loaded into the cell below.\n",
      "\n",
      "[ents]: http://ents.as.wvu.edu/index.php\n",
      "[entstar]: http://ents.as.wvu.edu/software/ents_standalone.tar.gz"
     ]
    },
    {
     "cell_type": "code",
     "collapsed": false,
     "input": [
      "cd ../../ents/standalone/"
     ],
     "language": "python",
     "metadata": {},
     "outputs": [
      {
       "output_type": "stream",
       "stream": "stdout",
       "text": [
        "/home/gavin/Documents/MRes/ents/standalone\n"
       ]
      }
     ],
     "prompt_number": 1
    },
    {
     "cell_type": "code",
     "collapsed": false,
     "input": [
      "import pred_file_maker\n",
      "from multiloc2 import MultiLoc2_highres\n",
      "from DataFrame import DataFrame\n",
      "from R_utilities import R_utilities as R\n",
      "from optparse import OptionParser\n",
      "from multiprocessing import Process\n",
      "import os\n",
      "import numpy as np"
     ],
     "language": "python",
     "metadata": {},
     "outputs": [],
     "prompt_number": 2
    },
    {
     "cell_type": "code",
     "collapsed": false,
     "input": [
      "def get_n_unique_prots(subcell_file, prot_dict_file_name):\n",
      "        subcell_info = MultiLoc2_highres(subcell_file)\n",
      "        subcell_info = dict((k.split('.')[0],v) for k,v in subcell_info.gene_dict.iteritems())\n",
      "        prot_dict_file = open(prot_dict_file_name)\n",
      "        count = 0\n",
      "        for line in prot_dict_file:\n",
      "                line = line.strip().split('\\t')\n",
      "                if line[1] not in subcell_info: continue\n",
      "                else: count += 1\n",
      "        return count"
     ],
     "language": "python",
     "metadata": {},
     "outputs": [],
     "prompt_number": 3
    },
    {
     "cell_type": "code",
     "collapsed": false,
     "input": [
      "# define file names\n",
      "subcell_file = \"h_sapiens_subcellular_multiloc2.out\"\n",
      "odds_file_name = \"domain_odds.in\"\n",
      "domine_file_name = \"domine_flat_file.in\"\n",
      "prot_dict_file_name = \"H_sapiens_domains.out\""
     ],
     "language": "python",
     "metadata": {},
     "outputs": [],
     "prompt_number": 4
    },
    {
     "cell_type": "code",
     "collapsed": false,
     "input": [
      "### Open the files ###\n",
      "print \"Reading input files...\"\n",
      "subcell_info = MultiLoc2_highres(subcell_file)\n",
      "org_type = subcell_info.org_type\n",
      "# Create dictionary of gene_name -> info for the subcellular localization\n",
      "subcell_info = dict((k.split('.')[0],v) for k,v in subcell_info.gene_dict.iteritems())\n",
      "odds_file = open(odds_file_name)\n",
      "# Create dictionary of domain_pair -> odds_of_interaction_association\n",
      "odds_dict = {}\n",
      "for line in odds_file:\n",
      "        line = line.strip().split(':')\n",
      "        odds = float(line[1])\n",
      "        pair = line[0].split(',')\n",
      "        odds_dict[tuple(sorted(pair))] = odds\n",
      "odds_file.close()\n",
      "print \"Done.\"\n",
      "### Get essential protein information ###\n",
      "print \"Getting protein information...\"\n",
      "# Get all organism genes\n",
      "proteins = []\n",
      "# Dictionary from gene_stable_id -> protein_stable_id and the other way around\n",
      "gene_protein_dict = {}\n",
      "protein_gene_dict= {}\n",
      "protein_domain_dict = {}\n",
      "prot_dict_file = open(prot_dict_file_name)\n",
      "for line in prot_dict_file:\n",
      "        line = line.strip().split('\\t')\n",
      "        if line[1] not in subcell_info: continue\n",
      "        proteins.append(line[0])\n",
      "        gene_protein_dict[line[1]] = line[0]\n",
      "        protein_gene_dict[line[0]] = line[1]\n",
      "        if len(line) ==3: \n",
      "                protein_domain_dict[line[0]] = line[2].split(' ')\n",
      "        else: protein_domain_dict[line[0]] = []\n",
      "prot_dict_file.close()\n",
      "# Get domine interactions as dictionary of domine_pair -> confidence\n",
      "domine_interactions = {}\n",
      "domine = open(domine_file_name)\n",
      "for line in domine:\n",
      "        line = line.strip().split('\\t')\n",
      "        domine_interactions[tuple(sorted(line[0].split(',')))] = line[1]\n",
      "print \"Done.\""
     ],
     "language": "python",
     "metadata": {},
     "outputs": [
      {
       "output_type": "stream",
       "stream": "stdout",
       "text": [
        "Reading input files...\n",
        "Done."
       ]
      },
      {
       "output_type": "stream",
       "stream": "stdout",
       "text": [
        "\n",
        "Getting protein information...\n",
        "Done."
       ]
      },
      {
       "output_type": "stream",
       "stream": "stdout",
       "text": [
        "\n"
       ]
      }
     ],
     "prompt_number": 5
    },
    {
     "cell_type": "markdown",
     "metadata": {},
     "source": [
      "# Creating a feature vector\n",
      "\n",
      "The code originally uses these parsed data files to then write a file which is input to R through Rserve.\n",
      "Looking at this code we can use this same data and create feature vectors for arbitrary protein pairs.\n",
      "The code to write to file is as follows:\n",
      "\n",
      "```python\n",
      "for line in pair_file:\n",
      "        line = line.strip().split('\\t')\n",
      "        # Get the domain part of the string\n",
      "        protein1 = line[0]\n",
      "        protein2 = line[1]\n",
      "        if protein1 not in pair_prots: pair_prots.append(protein1)\n",
      "        if protein2 not in pair_prots: pair_prots.append(protein2)\n",
      "        try:\n",
      "                domain_string = makeDomainString(protein_domain_dict[protein1], protein_domain_dict[protein2],\\\n",
      "                        domine_interactions, odds_dict)\n",
      "        except:\n",
      "                key1 = [x for x in protein_domain_dict.keys() if protein1.startswith(x.split('.')[0])]\n",
      "                key2 = [x for x in protein_domain_dict.keys() if protein2.startswith(x.split('.')[0])]\n",
      "                if len(key1) == 0 or len(key2) == 0: continue\n",
      "                else:\n",
      "                        domain_string = makeDomainString(protein_domain_dict[key1[0]], protein_domain_dict[key2[0]],\\\n",
      "                                domine_interactions, odds_dict)\n",
      "        # Get the subcellular localization part of the string\n",
      "        try: subcell_string = makeSubcellularDict(protein1, protein2, subcell_info, protein_gene_dict)\n",
      "        except KeyError: \n",
      "                key1 = [x for x in protein_domain_dict.keys() if protein1.startswith(x.split('.')[0])]\n",
      "                key2 = [x for x in protein_domain_dict.keys() if protein2.startswith(x.split('.')[0])]\n",
      "                if len(key1) == 0 or len(key2) == 0: continue\n",
      "                else:\n",
      "                        try: subcell_string = makeSubcellularDict(key1[0], key2[0],subcell_info, protein_gene_dict)\n",
      "                        except: continue\n",
      "        out_file.write(\"%s\\t%s\\t%s\\t%s\\n\" % (protein1,protein2,domain_string,subcell_string))\n",
      "```\n",
      "\n",
      "Taking this out of the loop and getting rid of the file references while handing in the protein names to the function should make this work.\n",
      "\n",
      "First have to define a couple o\n"
     ]
    },
    {
     "cell_type": "code",
     "collapsed": false,
     "input": [
      "def makeDomainString(domains1, domains2, domine_dict, odds_dict):\n",
      "        domain_dict = {}\n",
      "        # Get all potential interactions\n",
      "        if len(domains1) > 0 and len(domains2) > 0:\n",
      "                potential_domain_pairs = getTwoListCombos(domains1,domains2)\n",
      "        else: potential_domain_pairs = []\n",
      "        # Get the domine information\n",
      "        domine_pairs = list(set([tuple(sorted(x)) for x in potential_domain_pairs if tuple(sorted(x)) in domine_dict]))\n",
      "        domain_dict['n_domine_pairs'] = len(domine_pairs)\n",
      "        domain_dict['highest_domine_conf'] = '0'\n",
      "        for pair in domine_pairs:\n",
      "                if domine_dict[pair] == 'HC': domain_dict['highest_domine_conf'] = 'HC'\n",
      "                elif domine_dict[pair] == 'MC' and domain_dict['highest_domine_conf'] != 'HC':\n",
      "                        domain_dict['highest_domine_conf'] = 'MC'\n",
      "                elif domine_dict[pair] == 'LC' and domain_dict['highest_domine_conf'] not in ['HC','MC']:\n",
      "                        domain_dict['highest_domine_conf'] = 'LC'\n",
      "        # Get the odds information\n",
      "        ############## TEST ##################\n",
      "        domain_dict['lowest_odds'] = 0.\n",
      "        domain_dict['not_observed'] = 0\n",
      "        domain_dict['not_observed_frac'] = 1.\n",
      "        ################################\n",
      "        domain_dict['sum_odds'] = 0.\n",
      "        domain_dict['highest_odds'] = 0.\n",
      "        domain_dict['n_odds_pairs'] = 0\n",
      "        for pair in potential_domain_pairs:\n",
      "                pair = tuple(list(sorted(pair)))\n",
      "                # Check if in the odds dictionary. If so, update domain variables\n",
      "                if pair in odds_dict:\n",
      "                        domain_dict['sum_odds'] += odds_dict[pair]\n",
      "                        if odds_dict[pair] > domain_dict['highest_odds']:\n",
      "                                domain_dict['highest_odds'] = odds_dict[pair]\n",
      "                        domain_dict['n_odds_pairs'] += 1\n",
      "                ################### TEST ################\n",
      "                        if odds_dict[pair] < domain_dict['lowest_odds']: domain_dict['lowest_odds'] = odds_dict[pair]\n",
      "                else:\n",
      "                        domain_dict['not_observed'] += 1\n",
      "        if domain_dict['n_odds_pairs'] + domain_dict['not_observed'] > 0: \n",
      "                domain_dict['not_observed_frac'] = float(domain_dict['not_observed']) / (domain_dict['n_odds_pairs'] + domain_dict['not_observed'])\n",
      "                #########################################\n",
      "        domain_dict = [str(domain_dict[k]) for k in domain_cols]\n",
      "        return \"\\t\".join(domain_dict)"
     ],
     "language": "python",
     "metadata": {},
     "outputs": [],
     "prompt_number": 6
    },
    {
     "cell_type": "code",
     "collapsed": false,
     "input": [
      "def makeSubcellularDict(protein1, protein2, subcell_dict, protein_gene_dict = None):\n",
      "        gene1 = protein_gene_dict[protein1]\n",
      "        gene2 = protein_gene_dict[protein2]\n",
      "        svm_line1 = [subcell_dict[gene1]['predictions'][k] for k in svm_subcell_cols]\n",
      "        svm_line2 = [subcell_dict[gene2]['predictions'][k] for k in svm_subcell_cols]\n",
      "        svm_line1 += [subcell_dict[gene1]['svm_info'][k] for k in svm_detail_cols]\n",
      "        svm_line2 += [subcell_dict[gene2]['svm_info'][k] for k in svm_detail_cols]\n",
      "        svm_line = svm_line1 + svm_line2\n",
      "        return \"\\t\".join([str(x) for x in svm_line])"
     ],
     "language": "python",
     "metadata": {},
     "outputs": [],
     "prompt_number": 7
    },
    {
     "cell_type": "code",
     "collapsed": false,
     "input": [
      "def getfeaturevector(protein1, protein2, subcell_info, odds_dict, proteins, domine_interactions, \\\n",
      "        protein_domain_dict, protein_gene_dict = None, verbose = True):\n",
      "        \"\"\"prototype function to retreive ENTS feature vectors for a given protein pair\"\"\"\n",
      "        keys = subcell_info.keys()\n",
      "        # Configure svm columns for organism\n",
      "        gene = keys[0]\n",
      "        delete_svm_pred_cols = [x for x in svm_subcell_cols if x not in subcell_info[gene]['predictions'].keys()]\n",
      "        delete_svm_detail_cols = [x for x in svm_detail_cols if x not in subcell_info[gene]['svm_info'].keys()]\n",
      "        for col in delete_svm_pred_cols: svm_subcell_cols.remove(col)\n",
      "        for col in delete_svm_detail_cols: svm_detail_cols.remove(col)\n",
      "        # Make the true interactions part of the file\n",
      "        try:\n",
      "                domain_string = makeDomainString(protein_domain_dict[protein1], protein_domain_dict[protein2],\\\n",
      "                        domine_interactions, odds_dict)\n",
      "        except:\n",
      "                key1 = [x for x in protein_domain_dict.keys() if protein1.startswith(x.split('.')[0])]\n",
      "                key2 = [x for x in protein_domain_dict.keys() if protein2.startswith(x.split('.')[0])]\n",
      "                if len(key1) == 0 or len(key2) == 0:\n",
      "                    return None\n",
      "                else:\n",
      "                        domain_string = makeDomainString(protein_domain_dict[key1[0]], protein_domain_dict[key2[0]],\\\n",
      "                                domine_interactions, odds_dict)\n",
      "        # Get the subcellular localization part of the string\n",
      "        try: subcell_string = makeSubcellularDict(protein1, protein2, subcell_info, protein_gene_dict)\n",
      "        except KeyError: \n",
      "                key1 = [x for x in protein_domain_dict.keys() if protein1.startswith(x.split('.')[0])]\n",
      "                key2 = [x for x in protein_domain_dict.keys() if protein2.startswith(x.split('.')[0])]\n",
      "                if len(key1) == 0 or len(key2) == 0:\n",
      "                    return None\n",
      "                else:\n",
      "                        subcell_string = makeSubcellularDict(key1[0], key2[0],subcell_info, protein_gene_dict)\n",
      "                        #try: subcell_string = makeSubcellularDict(key1[0], key2[0],subcell_info, protein_gene_dict)\n",
      "                        #except: \n",
      "                        #    return None\n",
      "        return domain_string, subcell_string"
     ],
     "language": "python",
     "metadata": {},
     "outputs": [],
     "prompt_number": 8
    },
    {
     "cell_type": "markdown",
     "metadata": {},
     "source": [
      "## Testing new function\n",
      "\n",
      "Testing new function with arbitrary protein pairs until it produces a feature vector:"
     ]
    },
    {
     "cell_type": "code",
     "collapsed": false,
     "input": [
      "import itertools"
     ],
     "language": "python",
     "metadata": {},
     "outputs": [],
     "prompt_number": 9
    },
    {
     "cell_type": "code",
     "collapsed": false,
     "input": [
      "from pred_file_maker import domain_cols, svm_subcell_cols, getTwoListCombos, svm_detail_cols"
     ],
     "language": "python",
     "metadata": {},
     "outputs": [],
     "prompt_number": 10
    },
    {
     "cell_type": "code",
     "collapsed": false,
     "input": [
      "for pair in itertools.combinations(proteins,2):\n",
      "    fvector = getfeaturevector(pair[0],pair[1],subcell_info,odds_dict,proteins,\n",
      "                 domine_interactions,protein_domain_dict,protein_gene_dict)\n",
      "    if fvector:\n",
      "        print fvector\n",
      "        break"
     ],
     "language": "python",
     "metadata": {},
     "outputs": [
      {
       "output_type": "stream",
       "stream": "stdout",
       "text": [
        "('0.0\\t0.0\\t0.0\\t0\\t1.0\\t0\\t0\\t0', '0.15\\t0.02\\t0.04\\t0.0\\t0.77\\t0.0\\t0.0\\t0.0\\t0.0\\t0.000782241\\t0.994933\\t0.00428497\\t-0.965455\\t0.456943\\t0.161587\\t0.694282\\t0.048346\\t0.086769\\t0.016035\\t0.152056\\t0.045396\\t0.026867\\t0.11\\t0.11\\t0.11\\t0.11\\t0.11\\t0.11\\t0.11\\t0.11\\t0.110209\\t0.10186\\t0.027069\\t0.150298\\t0.044921\\t0.383831\\t0.064664\\t0.034212\\t0\\t0\\t0\\t0\\t0\\t0\\t0\\t0.082935\\t0.11\\t0.006002\\t0.3\\t0.55\\t0.05\\t0.0\\t0.08\\t0.01\\t0.01\\t0.01\\t0.0\\t0.269538\\t0.118325\\t0.612137\\t-0.951564\\t0.046808\\t0.077552\\t0.153458\\t0.033389\\t0.094736\\t0.234725\\t0.054657\\t0.129915\\t0.116351\\t0.886868\\t0.06687\\t0.019144\\t0.003098\\t0.003295\\t0.001927\\t0.001497\\t0.001791\\t0.099515\\t0.435004\\t0.078238\\t0.033013\\t0.040732\\t0.207074\\t0.038316\\t0.022215\\t0\\t0\\t0\\t0\\t0\\t0\\t0\\t0.045894\\t0.01551\\t0.211866')\n"
       ]
      }
     ],
     "prompt_number": 12
    },
    {
     "cell_type": "markdown",
     "metadata": {},
     "source": [
      "So we can get feature vectors out of this for arbitrary protein pairs."
     ]
    },
    {
     "cell_type": "markdown",
     "metadata": {},
     "source": [
      "# Writing new class to return feature vectors\n",
      "\n",
      "To return these feature vectors we require a class that integrates the above functions and stores the required data extracted from the files in this folder.\n",
      "This class can then be added to ocbio as with Gene Ontology and serve a custom generator for the feature vectors to be generated.\n",
      "The class will be instantiated and pickled as with the [Gene Ontology notebook][gonotes].\n",
      "\n",
      "The features should also be returned as a list rather that a tab-delimited string as above.\n",
      "Also, it will have to be able to deal with Entrez IDs rather than Ensembl IDs, so it will need to store a 1 to 1 dictionary for this internally.\n",
      "\n",
      "[gonotes]: http://nbviewer.ipython.org/github/ggray1729/opencast-bio/blob/master/notebooks/Extracting%20Gene%20Ontology%20features%200.2.ipynb"
     ]
    },
    {
     "cell_type": "code",
     "collapsed": false,
     "input": [
      "import sys\n",
      "sys.path.append(\"/home/gavin/Documents/MRes/opencast-bio/\")"
     ],
     "language": "python",
     "metadata": {},
     "outputs": [],
     "prompt_number": 13
    },
    {
     "cell_type": "code",
     "collapsed": false,
     "input": [
      "import ocbio.ents"
     ],
     "language": "python",
     "metadata": {},
     "outputs": [],
     "prompt_number": 96
    },
    {
     "cell_type": "markdown",
     "metadata": {},
     "source": [
      "## Creating Entrez to Ensembl dictionary\n",
      "\n",
      "To use this new object requires a dictionary to convert from Entrez ID to Ensembl IDs, and this dictionary has to be one to one.\n",
      "We can create this dictionary using the dictionary mapping from Refseq ID to Entrez Gene ID created when working on the [Extracting MultiLoc2 notebook][ml2] and a table mapping from Refseq protein ID to Ensembl protein ID downloaded from [Ensembl Biomart][bm].\n",
      "\n",
      "[ml2]: http://nbviewer.ipython.org/github/ggray1729/opencast-bio/blob/master/notebooks/Extracting%20MultiLoc2%20features.ipynb\n",
      "[bm]: http://www.ensembl.org/biomart/martview/42db0ab41d7803d2bb4d4f1caf745024"
     ]
    },
    {
     "cell_type": "code",
     "collapsed": false,
     "input": [
      "cd ../../iRefIndex/"
     ],
     "language": "python",
     "metadata": {},
     "outputs": [
      {
       "output_type": "stream",
       "stream": "stdout",
       "text": [
        "/home/gavin/Documents/MRes/iRefIndex\n"
       ]
      }
     ],
     "prompt_number": 16
    },
    {
     "cell_type": "code",
     "collapsed": false,
     "input": [
      "import pickle"
     ],
     "language": "python",
     "metadata": {},
     "outputs": [],
     "prompt_number": 18
    },
    {
     "cell_type": "code",
     "collapsed": false,
     "input": [
      "f = open(\"human.canonical.refseqtoentrez.pickle\")\n",
      "refseqtoentrez = pickle.load(f)\n",
      "f.close()"
     ],
     "language": "python",
     "metadata": {},
     "outputs": [],
     "prompt_number": 53
    },
    {
     "cell_type": "code",
     "collapsed": false,
     "input": [
      "import csv"
     ],
     "language": "python",
     "metadata": {},
     "outputs": [],
     "prompt_number": 21
    },
    {
     "cell_type": "code",
     "collapsed": false,
     "input": [
      "f = open(\"human.refseqtoensembl.txt\")\n",
      "c = csv.reader(f, delimiter=\"\\t\")\n",
      "refseqtoensembl = {}\n",
      "#skip first line\n",
      "c.next()\n",
      "for l in c:\n",
      "    if l[0]:\n",
      "        try:\n",
      "            refseqtoensembl[l[0]] += [l[1]]\n",
      "        except KeyError:\n",
      "            refseqtoensembl[l[0]] = [l[1]]\n",
      "f.close()"
     ],
     "language": "python",
     "metadata": {},
     "outputs": [],
     "prompt_number": 54
    },
    {
     "cell_type": "code",
     "collapsed": false,
     "input": [
      "lendict = {}\n",
      "for k in refseqtoensembl.keys():\n",
      "    try:\n",
      "        lendict[len(refseqtoensembl[k])] += [k]\n",
      "    except KeyError:\n",
      "        lendict[len(refseqtoensembl[k])] = [k]"
     ],
     "language": "python",
     "metadata": {},
     "outputs": [],
     "prompt_number": 55
    },
    {
     "cell_type": "code",
     "collapsed": false,
     "input": [
      "print lendict.keys()"
     ],
     "language": "python",
     "metadata": {},
     "outputs": [
      {
       "output_type": "stream",
       "stream": "stdout",
       "text": [
        "[1, 2, 3, 4, 5, 6, 7, 8, 9, 10, 11, 12, 45, 15, 20, 13, 30]\n"
       ]
      }
     ],
     "prompt_number": 56
    },
    {
     "cell_type": "code",
     "collapsed": false,
     "input": [
      "wks = lendict[max(lendict.keys())]\n",
      "print wks"
     ],
     "language": "python",
     "metadata": {},
     "outputs": [
      {
       "output_type": "stream",
       "stream": "stdout",
       "text": [
        "['NP_001274414', 'NP_001274415']\n"
       ]
      }
     ],
     "prompt_number": 57
    },
    {
     "cell_type": "code",
     "collapsed": false,
     "input": [
      "print refseqtoensembl[wks[0]]"
     ],
     "language": "python",
     "metadata": {},
     "outputs": [
      {
       "output_type": "stream",
       "stream": "stdout",
       "text": [
        "['ENSP00000402138', 'ENSP00000397345', 'ENSP00000395192', 'ENSP00000389848', 'ENSP00000417013', 'ENSP00000392656', 'ENSP00000401394', 'ENSP00000397392', 'ENSP00000406099', 'ENSP00000415206', 'ENSP00000388587', 'ENSP00000395285', 'ENSP00000408391', 'ENSP00000405706', 'ENSP00000408280', 'ENSP00000388964', 'ENSP00000414926', 'ENSP00000387656', 'ENSP00000364791', 'ENSP00000364792', 'ENSP00000364790', 'ENSP00000364789', 'ENSP00000364786', 'ENSP00000364793', 'ENSP00000379135', 'ENSP00000364784', 'ENSP00000379134', 'ENSP00000387952', 'ENSP00000382913', 'ENSP00000372875', 'ENSP00000372876', 'ENSP00000372874', 'ENSP00000382912', 'ENSP00000382910', 'ENSP00000382909', 'ENSP00000382914', 'ENSP00000392621', 'ENSP00000397730', 'ENSP00000394438', 'ENSP00000390420', 'ENSP00000405501', 'ENSP00000397287', 'ENSP00000396517', 'ENSP00000394750', 'ENSP00000392591']\n"
       ]
      }
     ],
     "prompt_number": 58
    },
    {
     "cell_type": "markdown",
     "metadata": {},
     "source": [
      "Apparently, these map to the same sequences, so it may not be a problem that the IDs don't match 1 to 1.\n",
      "Checking if this is still the case for a dictionary mapping between Entrez and Ensembl:"
     ]
    },
    {
     "cell_type": "code",
     "collapsed": false,
     "input": [
      "entreztoensembl = {}\n",
      "for k in refseqtoentrez.keys():\n",
      "    if refseqtoentrez[k]:\n",
      "        try:\n",
      "            entreztoensembl[refseqtoentrez[k][0]] += refseqtoensembl[k.split(\".\")[0]]\n",
      "        except KeyError:\n",
      "            try:\n",
      "                entreztoensembl[refseqtoentrez[k][0]] = refseqtoensembl[k.split(\".\")[0]]\n",
      "            except KeyError:\n",
      "                #ignore mismatches\n",
      "                pass"
     ],
     "language": "python",
     "metadata": {},
     "outputs": [],
     "prompt_number": 74
    },
    {
     "cell_type": "code",
     "collapsed": false,
     "input": [
      "lendict = {}\n",
      "for k in entreztoensembl.keys():\n",
      "    try:\n",
      "        lendict[len(entreztoensembl[k])] += [k]\n",
      "    except KeyError:\n",
      "        lendict[len(entreztoensembl[k])] = [k]"
     ],
     "language": "python",
     "metadata": {},
     "outputs": [],
     "prompt_number": 76
    },
    {
     "cell_type": "code",
     "collapsed": false,
     "input": [
      "for k in lendict.keys():\n",
      "    print \"{0} mappings are 1 to {1}\".format(len(lendict[k]),k)"
     ],
     "language": "python",
     "metadata": {},
     "outputs": [
      {
       "output_type": "stream",
       "stream": "stdout",
       "text": [
        "27421 mappings are 1 to 1\n",
        "2668 mappings are 1 to 2\n",
        "531 mappings are 1 to 3\n",
        "258 mappings are 1 to 4\n",
        "90 mappings are 1 to 5\n",
        "51 mappings are 1 to 6\n",
        "25 mappings are 1 to 7\n",
        "25 mappings are 1 to 8\n",
        "12 mappings are 1 to 9\n",
        "8 mappings are 1 to 10\n",
        "3 mappings are 1 to 11\n",
        "6 mappings are 1 to 12\n",
        "2 mappings are 1 to 13\n",
        "2 mappings are 1 to 15\n",
        "1 mappings are 1 to 16\n",
        "2 mappings are 1 to 17\n",
        "2 mappings are 1 to 19\n",
        "2 mappings are 1 to 20\n",
        "1 mappings are 1 to 21\n",
        "2 mappings are 1 to 23\n",
        "1 mappings are 1 to 28\n",
        "1 mappings are 1 to 29\n",
        "1 mappings are 1 to 30\n",
        "1 mappings are 1 to 31\n",
        "1 mappings are 1 to 49\n"
       ]
      }
     ],
     "prompt_number": 85
    },
    {
     "cell_type": "markdown",
     "metadata": {},
     "source": [
      "So it is still a problem for this dictionary.\n",
      "To speed things along, we will __assume__ that the Ensembl IDs map to __duplicate__ sequences.\n",
      "Then we can just arbitrarily select any of these Ensembl IDs for each mapping, creating a 1 to 1 dictionary.\n",
      "\n",
      "We will also save a conservative dictionary that only uses the mappings that are 1 to 1, which could then be used if required.\n",
      "This also means we will have to save two instances of our defined class for extracting ENTS features."
     ]
    },
    {
     "cell_type": "code",
     "collapsed": false,
     "input": [
      "conservativekeys = lendict[1]"
     ],
     "language": "python",
     "metadata": {},
     "outputs": [],
     "prompt_number": 86
    },
    {
     "cell_type": "code",
     "collapsed": false,
     "input": [
      "for k in entreztoensembl.keys():\n",
      "    #just select first entry in the list\n",
      "    entreztoensembl[k] = entreztoensembl[k][0]"
     ],
     "language": "python",
     "metadata": {},
     "outputs": [],
     "prompt_number": 87
    },
    {
     "cell_type": "code",
     "collapsed": false,
     "input": [
      "f = open(\"human.entreztoensembl.all.pickle\",\"wb\")\n",
      "pickle.dump(entreztoensembl,f)\n",
      "f.close()"
     ],
     "language": "python",
     "metadata": {},
     "outputs": [],
     "prompt_number": 89
    },
    {
     "cell_type": "code",
     "collapsed": false,
     "input": [
      "consentreztoensembl = {}\n",
      "for k in conservativekeys:\n",
      "    consentreztoensembl[k] = entreztoensembl[k]\n",
      "f = open(\"human.entreztoensembl.conservative.pickle\",\"wb\")\n",
      "pickle.dump(consentreztoensembl,f)\n",
      "f.close()"
     ],
     "language": "python",
     "metadata": {},
     "outputs": [],
     "prompt_number": 91
    },
    {
     "cell_type": "markdown",
     "metadata": {},
     "source": [
      "# Saving the instances\n",
      "\n",
      "With the data defined in this notebook, we can now pickle two instances of our ENTS feature extractors:"
     ]
    },
    {
     "cell_type": "code",
     "collapsed": false,
     "input": [
      "cd ../ents/"
     ],
     "language": "python",
     "metadata": {},
     "outputs": [
      {
       "output_type": "stream",
       "stream": "stdout",
       "text": [
        "/home/gavin/Documents/MRes/ents\n"
       ]
      }
     ],
     "prompt_number": 92
    },
    {
     "cell_type": "code",
     "collapsed": false,
     "input": [
      "reload(ocbio.ents)"
     ],
     "language": "python",
     "metadata": {},
     "outputs": [
      {
       "metadata": {},
       "output_type": "pyout",
       "prompt_number": 162,
       "text": [
        "<module 'ocbio.ents' from '/home/gavin/Documents/MRes/opencast-bio/ocbio/ents.py'>"
       ]
      }
     ],
     "prompt_number": 162
    },
    {
     "cell_type": "code",
     "collapsed": false,
     "input": [
      "entsfeatures = ocbio.ents.ENTSfeatures(subcell_info,odds_dict,proteins,domine_interactions,\n",
      "                        protein_domain_dict,protein_gene_dict,entreztoensembl,\n",
      "                        domain_cols,svm_subcell_cols,svm_detail_cols)"
     ],
     "language": "python",
     "metadata": {},
     "outputs": [],
     "prompt_number": 171
    },
    {
     "cell_type": "markdown",
     "metadata": {},
     "source": [
      "## Testing\n",
      "\n",
      "Testing the instances in the same way as above to confirm that it will return viable feature vectors:"
     ]
    },
    {
     "cell_type": "code",
     "collapsed": false,
     "input": [
      "for pair in itertools.combinations(proteins,2):\n",
      "    fvector = entsfeatures.getfeaturevector(pair[0],pair[1])\n",
      "    if fvector:\n",
      "        print fvector\n",
      "        break"
     ],
     "language": "python",
     "metadata": {},
     "outputs": [
      {
       "output_type": "stream",
       "stream": "stdout",
       "text": [
        "[0.0, 0.0, 0.0, 0, 1.0, 0, 0, '0', 0.15, 0.02, 0.04, 0.0, 0.77, 0.0, 0.0, 0.0, 0.0, 0.000782241, 0.994933, 0.00428497, -0.965455, 0.456943, 0.161587, 0.694282, 0.048346, 0.086769, 0.016035, 0.152056, 0.045396, 0.026867, 0.11, 0.11, 0.11, 0.11, 0.11, 0.11, 0.11, 0.11, 0.110209, 0.10186, 0.027069, 0.150298, 0.044921, 0.383831, 0.064664, 0.034212, 0, 0, 0, 0, 0, 0, 0, 0.082935, 0.11, 0.006002, 0.3, 0.55, 0.05, 0.0, 0.08, 0.01, 0.01, 0.01, 0.0, 0.269538, 0.118325, 0.612137, -0.951564, 0.046808, 0.077552, 0.153458, 0.033389, 0.094736, 0.234725, 0.054657, 0.129915, 0.116351, 0.886868, 0.06687, 0.019144, 0.003098, 0.003295, 0.001927, 0.001497, 0.001791, 0.099515, 0.435004, 0.078238, 0.033013, 0.040732, 0.207074, 0.038316, 0.022215, 0, 0, 0, 0, 0, 0, 0, 0.045894, 0.01551, 0.211866]\n"
       ]
      }
     ],
     "prompt_number": 159
    },
    {
     "cell_type": "markdown",
     "metadata": {},
     "source": [
      "And testing calling with Entrez pairs as frozensets:"
     ]
    },
    {
     "cell_type": "code",
     "collapsed": false,
     "input": [
      "crosslist = []\n",
      "for p in proteins:\n",
      "    if p in entreztoensembl.values():\n",
      "        crosslist.append(p)\n",
      "ensembltoentrez = {}\n",
      "for k in entreztoensembl.keys():\n",
      "    ensembltoentrez[entreztoensembl[k]] = k\n",
      "entrezcrosslist = []\n",
      "for p in crosslist:\n",
      "    entrezcrosslist.append(ensembltoentrez[p])"
     ],
     "language": "python",
     "metadata": {},
     "outputs": [],
     "prompt_number": 148
    },
    {
     "cell_type": "code",
     "collapsed": false,
     "input": [
      "print len(crosslist)"
     ],
     "language": "python",
     "metadata": {},
     "outputs": [
      {
       "output_type": "stream",
       "stream": "stdout",
       "text": [
        "15692\n"
       ]
      }
     ],
     "prompt_number": 133
    },
    {
     "cell_type": "code",
     "collapsed": false,
     "input": [
      "for pair in itertools.combinations(entrezcrosslist,2):\n",
      "    fvector = entsfeatures[frozenset(pair)]\n",
      "    if fvector:\n",
      "        print fvector\n",
      "        print pair\n",
      "        break"
     ],
     "language": "python",
     "metadata": {},
     "outputs": [
      {
       "output_type": "stream",
       "stream": "stdout",
       "text": [
        "[0.0, 0.0, 0.0, 2, 1.0, 0, 0, '0', 0.01, 0.0, 0.02, 0.04, 0.0, 0.02, 0.86, 0.02, 0.02, 0.696627, 0.0484926, 0.25488, 0.932799, 0.002988, 0.006062, 0.250658, 0.018749, 0.104563, 0.559478, 0.194102, 0.041304, 0.023115, 0.015038, 0.027845, 0.029886, 0.052686, 0.380752, 0.206815, 0.063646, 0.169921, 0.050057, 0.407649, 0.099975, 0.038075, 0.034373, 0.259439, 0.037384, 0.026643, 0, 1, 0, 0, 0, 0, 0, 0.046407, 0.053411, 0.049639, 0.16, 0.02, 0.03, 0.0, 0.79, 0.0, 0.0, 0.0, 0.0, 0.000578507, 0.981059, 0.0183623, -0.968051, 0.242278, 0.109992, 0.589412, 0.104496, 0.096639, 0.0142, 0.120307, 0.253965, 0.053197, 0.11, 0.11, 0.11, 0.11, 0.11, 0.11, 0.11, 0.11, 0.066059, 0.392923, 0.087389, 0.03364, 0.029867, 0.272792, 0.040016, 0.023535, 0, 0, 0, 0, 0, 0, 0, 0.053779, 0.11, 0.004926]\n",
        "('31100347', '70455196')\n"
       ]
      }
     ],
     "prompt_number": 173
    },
    {
     "cell_type": "markdown",
     "metadata": {},
     "source": [
      "## Pickling instances\n",
      "\n",
      "Now that the object has been tested we can pickle the two instances:\n",
      "\n",
      "* One with the full Entrez to Ensembl dictionary\n",
      "* One with the conservative Entrez to Ensembl dictionary"
     ]
    },
    {
     "cell_type": "code",
     "collapsed": false,
     "input": [
      "f = open(\"human.ENTS.features.pickle\",\"wb\")\n",
      "pickle.dump(entsfeatures,f)\n",
      "f.close()"
     ],
     "language": "python",
     "metadata": {},
     "outputs": [],
     "prompt_number": 167
    },
    {
     "cell_type": "markdown",
     "metadata": {},
     "source": [
      "Defining conservative instance:"
     ]
    },
    {
     "cell_type": "code",
     "collapsed": false,
     "input": [
      "f = open(\"../iRefIndex/human.entreztoensembl.conservative.pickle\")\n",
      "consentreztoensembl = pickle.load(f)\n",
      "f.close()"
     ],
     "language": "python",
     "metadata": {},
     "outputs": [],
     "prompt_number": 168
    },
    {
     "cell_type": "code",
     "collapsed": false,
     "input": [
      "consentsfeatures = ocbio.ents.ENTSfeatures(subcell_info,odds_dict,proteins,domine_interactions,\n",
      "                        protein_domain_dict,protein_gene_dict,consentreztoensembl,\n",
      "                        domain_cols,svm_subcell_cols,svm_detail_cols)"
     ],
     "language": "python",
     "metadata": {},
     "outputs": [],
     "prompt_number": 169
    },
    {
     "cell_type": "code",
     "collapsed": false,
     "input": [
      "f = open(\"human.ENTS.features.conservative.pickle\",\"wb\")\n",
      "pickle.dump(consentsfeatures,f)\n",
      "f.close()"
     ],
     "language": "python",
     "metadata": {},
     "outputs": [],
     "prompt_number": 170
    },
    {
     "cell_type": "code",
     "collapsed": false,
     "input": [
      "print entreztoensembl.keys()[0:10]"
     ],
     "language": "python",
     "metadata": {},
     "outputs": [
      {
       "output_type": "stream",
       "stream": "stdout",
       "text": [
        "['21575686', '38948100', '5435336', '41575543', '44772240', '3478242', '48812928', '1935000', '4246867', '888744']\n"
       ]
      }
     ],
     "prompt_number": 172
    },
    {
     "cell_type": "code",
     "collapsed": false,
     "input": [
      "cd ../DIP/human/"
     ],
     "language": "python",
     "metadata": {},
     "outputs": [
      {
       "output_type": "stream",
       "stream": "stdout",
       "text": [
        "/home/gavin/Documents/MRes/DIP/human\n"
       ]
      }
     ],
     "prompt_number": 174
    },
    {
     "cell_type": "code",
     "collapsed": false,
     "input": [
      "ls"
     ],
     "language": "python",
     "metadata": {},
     "outputs": [
      {
       "output_type": "stream",
       "stream": "stdout",
       "text": [
        "\u001b[0m\u001b[40m\u001b[m\u001b[01;32mDIPtouniprot.tab\u001b[0m*  \u001b[40m\u001b[m\u001b[01;32mHsapi20140427.txt\u001b[0m*        \u001b[40m\u001b[m\u001b[01;32mtraining.negative.Entrez.txt\u001b[0m*          \u001b[40m\u001b[m\u001b[01;32muniprottoEntrez.tab\u001b[0m*\r\n",
        "\u001b[40m\u001b[m\u001b[01;32mflat.DIP.txt\u001b[0m*      \u001b[40m\u001b[m\u001b[01;32minteracting.DIP.txt\u001b[0m*      \u001b[40m\u001b[m\u001b[01;32mtraining.nolabel.negative.Entrez.txt\u001b[0m*\r\n",
        "\u001b[40m\u001b[m\u001b[01;32mflat.Entrez.txt\u001b[0m*   \u001b[40m\u001b[m\u001b[01;32minteracting.Entrez.txt\u001b[0m*   \u001b[40m\u001b[m\u001b[01;32mtraining.nolabel.positive.Entrez.txt\u001b[0m*\r\n",
        "\u001b[40m\u001b[m\u001b[01;32mflat.uniprot.txt\u001b[0m*  \u001b[40m\u001b[m\u001b[01;32minteracting.uniprot.txt\u001b[0m*  \u001b[40m\u001b[m\u001b[01;32mtraining.positive.Entrez.txt\u001b[0m*\r\n"
       ]
      }
     ],
     "prompt_number": 175
    },
    {
     "cell_type": "code",
     "collapsed": false,
     "input": [
      "f = open(\"training.nolabel.positive.Entrez.txt\")\n",
      "diprot = list(csv.reader(f,delimiter=\"\\t\"))\n",
      "f.close()"
     ],
     "language": "python",
     "metadata": {},
     "outputs": [],
     "prompt_number": 176
    },
    {
     "cell_type": "code",
     "collapsed": false,
     "input": [
      "diprot = set(flatten(diprot))"
     ],
     "language": "python",
     "metadata": {},
     "outputs": [],
     "prompt_number": 179
    },
    {
     "cell_type": "code",
     "collapsed": false,
     "input": [
      "for p in diprot:\n",
      "    try:\n",
      "        if entreztoensembl[p] in proteins:\n",
      "            print p\n",
      "    except KeyError:\n",
      "        pass"
     ],
     "language": "python",
     "metadata": {},
     "outputs": [
      {
       "output_type": "stream",
       "stream": "stdout",
       "text": [
        "4734\n",
        "30820\n",
        "23893\n",
        "3195\n",
        "5979\n",
        "1982\n"
       ]
      }
     ],
     "prompt_number": 182
    },
    {
     "cell_type": "code",
     "collapsed": false,
     "input": [
      "cd ../../geneconversion/"
     ],
     "language": "python",
     "metadata": {},
     "outputs": [
      {
       "output_type": "stream",
       "stream": "stdout",
       "text": [
        "/home/gavin/Documents/MRes/geneconversion\n"
       ]
      }
     ],
     "prompt_number": 183
    },
    {
     "cell_type": "code",
     "collapsed": false,
     "input": [
      "f = open(\"human.gene2ensemble.pickle\")\n",
      "gentreztoensembl = pickle.load(f)\n",
      "f.close()"
     ],
     "language": "python",
     "metadata": {},
     "outputs": [],
     "prompt_number": 184
    }
   ],
   "metadata": {}
  }
 ]
}