{
 "metadata": {
  "name": "",
  "signature": "sha256:cb52af9395dff05ed9a13e200b98688fee7e4e336c4f9faf13d506516e1dca84"
 },
 "nbformat": 3,
 "nbformat_minor": 0,
 "worksheets": [
  {
   "cells": [
    {
     "cell_type": "markdown",
     "metadata": {},
     "source": [
      "The project was implemented in Python v.2.7.7. The following packages are required to run most of the code that makes up this project:\n",
      "\n",
      "* Scikit-learn \n",
      "* Numpy\n",
      "* Scipy\n",
      "\n",
      "To be careful though, it is worthwhile to print a full list of the packages installed on the computer this code was run on."
     ]
    },
    {
     "cell_type": "code",
     "collapsed": false,
     "input": [
      "import sys\n",
      "print sys.version"
     ],
     "language": "python",
     "metadata": {},
     "outputs": [
      {
       "output_type": "stream",
       "stream": "stdout",
       "text": [
        "2.7.7 (default, Jun  3 2014, 01:46:20) \n",
        "[GCC 4.9.0 20140521 (prerelease)]\n"
       ]
      }
     ],
     "prompt_number": 1
    },
    {
     "cell_type": "code",
     "collapsed": false,
     "input": [
      "!pip freeze"
     ],
     "language": "python",
     "metadata": {},
     "outputs": [
      {
       "output_type": "stream",
       "stream": "stdout",
       "text": [
        "Cython==0.20.1\r\n",
        "GnuPGInterface==0.3.2\r\n",
        "Jinja2==2.7.3\r\n",
        "Landscape-Client==14.01\r\n",
        "Mako==0.9.1\r\n",
        "MarkupSafe==0.23\r\n",
        "MySQL-python==1.2.3\r\n",
        "PAM==0.4.2\r\n",
        "Pillow==2.3.0\r\n",
        "Pmw==1.3.2\r\n",
        "PyNAST==1.2\r\n",
        "SQLAlchemy==0.8.4\r\n",
        "SecretStorage==2.0.0\r\n",
        "Twisted-Core==13.2.0\r\n",
        "apt-xapian-index==0.45\r\n",
        "argparse==1.2.1\r\n",
        "backports.ssl-match-hostname==3.4.0.2\r\n",
        "beautifulsoup4==4.2.1\r\n",
        "biom-format==1.1.2\r\n",
        "biopython==1.63\r\n",
        "chardet==2.0.1\r\n",
        "cogent==1.5.3\r\n",
        "colorama==0.2.5\r\n",
        "configobj==4.7.2\r\n",
        "cutadapt==1.3\r\n",
        "cvxopt==1.1.4\r\n",
        "decorator==3.4.0\r\n",
        "gdata==2.0.18\r\n",
        "html5lib==0.999\r\n",
        "httplib2==0.8\r\n",
        "iotop==0.6\r\n",
        "ipython==2.1.0\r\n",
        "ipython-cytoscape.js==0.1.0.dev1\r\n",
        "joblib==0.7.1\r\n",
        "keyring==3.5\r\n",
        "khmer==1.0\r\n",
        "launchpadlib==1.10.2\r\n",
        "lazr.restfulclient==0.13.3\r\n",
        "lazr.uri==1.0.3\r\n",
        "lxml==3.3.3\r\n",
        "matplotlib==1.3.1\r\n",
        "mpi4py==1.3.1\r\n",
        "networkx==1.9\r\n",
        "nose==1.3.1\r\n",
        "numexpr==2.2.2\r\n",
        "numpy==1.8.1\r\n",
        "oauth==1.0.1\r\n",
        "openpyxl==1.7.0\r\n",
        "pandas==0.14.1\r\n",
        "patsy==0.2.1\r\n",
        "pexpect==3.1\r\n",
        "pyOpenSSL==0.13\r\n",
        "pycrypto==2.6.1\r\n",
        "pycurl==7.19.3\r\n",
        "pygobject==3.12.0\r\n",
        "pymol==1.7.0.0\r\n",
        "pyparsing==2.0.1\r\n",
        "pysam==0.7.7\r\n",
        "pyserial==2.6\r\n",
        "pysqlite==2.6.3\r\n",
        "python-apt==0.9.3.5\r\n",
        "python-dateutil==2.2\r\n",
        "python-debian==0.1.21-nmu2ubuntu2\r\n",
        "pytz==2014.4\r\n",
        "pyzmq==14.3.1\r\n",
        "qcli==0.1.0\r\n",
        "reportlab==3.0\r\n",
        "requests==2.2.1\r\n",
        "rpy==1.0.3\r\n",
        "scikit-learn==0.15.0\r\n",
        "scipy==0.14.0\r\n",
        "screed==0.7.1\r\n",
        "simplegeneric==0.8.1\r\n",
        "simplejson==3.3.1\r\n",
        "six==1.7.3\r\n",
        "ssh-import-id==3.21\r\n",
        "statsmodels==0.5.0\r\n",
        "tables==3.1.1\r\n",
        "tornado==3.2.2\r\n",
        "urllib3==1.7.1\r\n",
        "virtualenv==1.11.4\r\n",
        "wadllib==1.3.2\r\n",
        "wsgiref==0.1.2\r\n",
        "xlrd==0.9.2\r\n",
        "xlwt==0.7.5\r\n",
        "zope.interface==4.0.5\r\n"
       ]
      }
     ],
     "prompt_number": 1
    }
   ],
   "metadata": {}
  }
 ]
}