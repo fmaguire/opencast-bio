{
 "metadata": {
  "name": "",
  "signature": "sha256:3f66bf2637d090dcc5311b6040b5f356a3675bb0de4b61c8a63c1f127c597032"
 },
 "nbformat": 3,
 "nbformat_minor": 0,
 "worksheets": [
  {
   "cells": [
    {
     "cell_type": "markdown",
     "metadata": {},
     "source": [
      "As the ENTS features that have been extracted in [this notebook][entsnotes] are having some problems it may be worthwhile to integrate the predictions ENTS makes about the human genome into the classifier.\n",
      "This is done using a file containing the predictions of the ENTS classifier over the human genome:\n",
      "\n",
      "[entsnotes]: http://nbviewer.ipython.org/github/ggray1729/opencast-bio/blob/master/notebooks/Inspecting%20ENTS%20code.ipynb"
     ]
    },
    {
     "cell_type": "code",
     "collapsed": false,
     "input": [
      "cd ../../ents/"
     ],
     "language": "python",
     "metadata": {},
     "outputs": [
      {
       "output_type": "stream",
       "stream": "stdout",
       "text": [
        "/data/opencast/MRes/ents\n"
       ]
      }
     ],
     "prompt_number": 1
    },
    {
     "cell_type": "code",
     "collapsed": false,
     "input": [
      "ls"
     ],
     "language": "python",
     "metadata": {},
     "outputs": [
      {
       "output_type": "stream",
       "stream": "stdout",
       "text": [
        "\u001b[0m\u001b[01;36m9606_0.50_predictions\u001b[0m@  \u001b[01;36mhuman.ENTS.features.conservative.pickle\u001b[0m@  \u001b[01;36mhuman.ENTS.features.pickle\u001b[0m@  \u001b[01;34mstandalone\u001b[0m/\r\n"
       ]
      }
     ],
     "prompt_number": 8
    },
    {
     "cell_type": "code",
     "collapsed": false,
     "input": [
      "!head 9606_0.50_predictions"
     ],
     "language": "python",
     "metadata": {},
     "outputs": [
      {
       "output_type": "stream",
       "stream": "stdout",
       "text": [
        "ENSP00000268854\tENSP00000371119\t0.52\r\n",
        "ENSP00000364687\tENSP00000371119\t0.56\r\n",
        "ENSP00000350698\tENSP00000371119\t0.57\r\n",
        "ENSP00000335615\tENSP00000371119\t0.58\r\n",
        "ENSP00000238146\tENSP00000371119\t0.53\r\n",
        "ENSP00000343745\tENSP00000371119\t0.61\r\n",
        "ENSP00000258772\tENSP00000371119\t0.50\r\n",
        "ENSP00000298852\tENSP00000400157\t0.63\r\n",
        "ENSP00000310572\tENSP00000400157\t0.64\r\n",
        "ENSP00000274008\tENSP00000400157\t0.56\r\n"
       ]
      }
     ],
     "prompt_number": 10
    },
    {
     "cell_type": "markdown",
     "metadata": {},
     "source": [
      "These are simply Ensembl pairs with corresponding confidence values in the interactions existing.\n",
      "Using a method similar to the at used to extract the [STRING summary features][stringnotes] we can make an object to return these values in our feature vector assembler.\n",
      "The first step is to load the dictionary mapping between Entrez and Ensembl IDs:\n",
      "\n",
      "[stringnotes]: http://nbviewer.ipython.org/github/ggray1729/opencast-bio/blob/master/notebooks/Extracting%20STRING%20results-based%20features.ipynb"
     ]
    },
    {
     "cell_type": "code",
     "collapsed": false,
     "input": [
      "cd ../geneconversion/"
     ],
     "language": "python",
     "metadata": {},
     "outputs": [
      {
       "output_type": "stream",
       "stream": "stdout",
       "text": [
        "/data/opencast/MRes/geneconversion\n"
       ]
      }
     ],
     "prompt_number": 11
    },
    {
     "cell_type": "code",
     "collapsed": false,
     "input": [
      "import pickle"
     ],
     "language": "python",
     "metadata": {},
     "outputs": [],
     "prompt_number": 12
    },
    {
     "cell_type": "code",
     "collapsed": false,
     "input": [
      "f = open(\"human.gene2ensemble.pickle\")\n",
      "gene2ensembl = pickle.load(f)\n",
      "f.close()"
     ],
     "language": "python",
     "metadata": {},
     "outputs": [],
     "prompt_number": 13
    },
    {
     "cell_type": "markdown",
     "metadata": {},
     "source": [
      "As before, invert this dictionary:"
     ]
    },
    {
     "cell_type": "code",
     "collapsed": false,
     "input": [
      "ensembl2gene = {}\n",
      "for k in gene2ensembl:\n",
      "    try:\n",
      "        for p in gene2ensembl[k]:\n",
      "            ensembl2gene[p] += [k]\n",
      "    except KeyError:\n",
      "        for p in gene2ensembl[k]:\n",
      "            ensembl2gene[p] = [k]"
     ],
     "language": "python",
     "metadata": {},
     "outputs": [],
     "prompt_number": 14
    },
    {
     "cell_type": "code",
     "collapsed": false,
     "input": [
      "cd ../ents/"
     ],
     "language": "python",
     "metadata": {},
     "outputs": [
      {
       "output_type": "stream",
       "stream": "stdout",
       "text": [
        "/data/opencast/MRes/ents\n"
       ]
      }
     ],
     "prompt_number": 15
    },
    {
     "cell_type": "markdown",
     "metadata": {},
     "source": [
      "As before, build a dictionary mapping Entrez Gene Pairs as frozensets to these prediction values:"
     ]
    },
    {
     "cell_type": "code",
     "collapsed": false,
     "input": [
      "import csv\n",
      "import itertools"
     ],
     "language": "python",
     "metadata": {},
     "outputs": [],
     "prompt_number": 16
    },
    {
     "cell_type": "code",
     "collapsed": false,
     "input": [
      "import pdb"
     ],
     "language": "python",
     "metadata": {},
     "outputs": [],
     "prompt_number": 19
    },
    {
     "cell_type": "code",
     "collapsed": false,
     "input": [
      "f = open(\"9606_0.50_predictions\")\n",
      "c = csv.reader(f, delimiter=\"\\t\")\n",
      "# no header this time\n",
      "entsdict = {}\n",
      "# iterate over rows building dictionary:\n",
      "for l in c:\n",
      "    #first build the (possibly various) keys\n",
      "    try:\n",
      "        geneids1 = ensembl2gene[l[0]]\n",
      "        geneids2 = ensembl2gene[l[1]]\n",
      "    except KeyError:\n",
      "        #pdb.set_trace()\n",
      "        #give up on pair if they can't be mapped to Entrez\n",
      "        continue\n",
      "    #then iterate over their combinations saving the feature vector each entry\n",
      "    for i1,i2 in itertools.product(geneids1,geneids2):\n",
      "        entsdict[frozenset([i1,i2])] = l[2]\n",
      "f.close()"
     ],
     "language": "python",
     "metadata": {},
     "outputs": [],
     "prompt_number": 22
    },
    {
     "cell_type": "markdown",
     "metadata": {},
     "source": [
      "Then we just import the class we used to save the STRING results based feature again, instantiate it and pickle it:"
     ]
    },
    {
     "cell_type": "code",
     "collapsed": false,
     "input": [
      "import sys"
     ],
     "language": "python",
     "metadata": {},
     "outputs": [],
     "prompt_number": 24
    },
    {
     "cell_type": "code",
     "collapsed": false,
     "input": [
      "sys.path.append(\"../opencast-bio/\")"
     ],
     "language": "python",
     "metadata": {},
     "outputs": [],
     "prompt_number": 25
    },
    {
     "cell_type": "code",
     "collapsed": false,
     "input": [
      "import ocbio.ppipred"
     ],
     "language": "python",
     "metadata": {},
     "outputs": [],
     "prompt_number": 26
    },
    {
     "cell_type": "code",
     "collapsed": false,
     "input": [
      "entsfeatures = ocbio.ppipred.features(entsdict,1)"
     ],
     "language": "python",
     "metadata": {},
     "outputs": [],
     "prompt_number": 27
    },
    {
     "cell_type": "code",
     "collapsed": false,
     "input": [
      "f = open(\"human.Entrez.ENTS.summary.pickle\",\"wb\")\n",
      "pickle.dump(entsfeatures,f)\n",
      "f.close()"
     ],
     "language": "python",
     "metadata": {},
     "outputs": [],
     "prompt_number": 28
    }
   ],
   "metadata": {}
  }
 ]
}