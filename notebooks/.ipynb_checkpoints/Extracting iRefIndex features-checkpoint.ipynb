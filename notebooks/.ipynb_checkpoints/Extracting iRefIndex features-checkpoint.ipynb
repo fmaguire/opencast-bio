{
 "metadata": {
  "name": "",
  "signature": "sha256:56aee156e1241fab2f5db594c77e5250fdf95953b35c425cff3dfcd44bca038c"
 },
 "nbformat": 3,
 "nbformat_minor": 0,
 "worksheets": [
  {
   "cells": [
    {
     "cell_type": "markdown",
     "metadata": {},
     "source": [
      "The [iRefIndex][] is a collection of protein interactions databases providing and index of canonical interaction pairs and references to the database providing evidence for the interaction.\n",
      "The purpose of this notebook is to extract a binary feature for each database integrated into iRefIndex.\n",
      "These databases are:\n",
      "\n",
      "* BIND\n",
      "* BioGRID\n",
      "* CORUM\n",
      "* DIP\n",
      "* HPRD\n",
      "* InnateDB\n",
      "* IntAct\n",
      "* MatrixDB\n",
      "* MINT\n",
      "* MPact\n",
      "* MPIDB\n",
      "* MPPI\n",
      "* OPHID\n",
      "\n",
      "To extract this feature we will iterate over the table and use each Entrez Gene protein pair as a key to index the database referring to each entry:\n",
      "\n",
      "[irefindex]: http://irefindex.org/wiki/index.php?title=iRefIndex"
     ]
    },
    {
     "cell_type": "code",
     "collapsed": false,
     "input": [
      "cd ../../iRefIndex/"
     ],
     "language": "python",
     "metadata": {},
     "outputs": [
      {
       "output_type": "stream",
       "stream": "stdout",
       "text": [
        "/home/gavin/Documents/MRes/iRefIndex\n"
       ]
      }
     ],
     "prompt_number": 1
    },
    {
     "cell_type": "code",
     "collapsed": false,
     "input": [
      "import csv"
     ],
     "language": "python",
     "metadata": {},
     "outputs": [],
     "prompt_number": 4
    },
    {
     "cell_type": "code",
     "collapsed": false,
     "input": [
      "import pdb"
     ],
     "language": "python",
     "metadata": {},
     "outputs": [],
     "prompt_number": 13
    },
    {
     "cell_type": "code",
     "collapsed": false,
     "input": [
      "f = open(\"9606.mitab.08122013.txt\")\n",
      "c = csv.reader(f,delimiter=\"\\t\")\n",
      "irefindexdict = {}\n",
      "for l in c:\n",
      "    #extract Gene IDs\n",
      "    gids = []\n",
      "    for x in [l[2],l[3]]:\n",
      "        for s in x.split(\"|\"):\n",
      "            s = s.split(\":\")\n",
      "            if s[0]==\"entrezgene/locuslink\":\n",
      "                gids.append(s[1])\n",
      "    #only add entry to dictionary if there is a pair of Gene IDs\n",
      "    if len(gids) == 2:\n",
      "        try:\n",
      "            irefindexdict[frozenset(gids)] += [l[12]]\n",
      "        except KeyError:\n",
      "            irefindexdict[frozenset(gids)] = [l[12]]\n",
      "f.close()"
     ],
     "language": "python",
     "metadata": {},
     "outputs": [],
     "prompt_number": 24
    },
    {
     "cell_type": "markdown",
     "metadata": {},
     "source": [
      "Now we find the strings corresponding to unique databases:"
     ]
    },
    {
     "cell_type": "code",
     "collapsed": false,
     "input": [
      "uniqdbs = list(set(flatten(irefindexdict.values())))\n",
      "print uniqdbs"
     ],
     "language": "python",
     "metadata": {},
     "outputs": [
      {
       "output_type": "stream",
       "stream": "stdout",
       "text": [
        "['MI:0465(dip)', 'MI:0469(intact)', 'MI:0463(biogrid)', 'MI:0468(hprd)', 'MI:0000(corum)', 'MI:0000(mppi)', 'MI:0462(bind)', 'MI:0917(matrixdb)', 'MI:0000(bind_translation)', 'MI:0000(ophid)', 'MI:0974(innatedb)']\n"
       ]
      }
     ],
     "prompt_number": 26
    },
    {
     "cell_type": "markdown",
     "metadata": {},
     "source": [
      "Using these we can create a dictionary using the same keys as above but using a 1-of-k coding for each database:"
     ]
    },
    {
     "cell_type": "code",
     "collapsed": false,
     "input": [
      "ireffeaturedict = {}\n",
      "for k in irefindexdict.keys():\n",
      "    fvector = []\n",
      "    for db in uniqdbs:\n",
      "        if db in irefindexdict[k]:\n",
      "            fvector.append(\"1\")\n",
      "        else:\n",
      "            fvector.append(\"0\")\n",
      "    ireffeaturedict[k] = fvector"
     ],
     "language": "python",
     "metadata": {},
     "outputs": [],
     "prompt_number": 27
    },
    {
     "cell_type": "markdown",
     "metadata": {},
     "source": [
      "# Saving the results\n",
      "\n",
      "These results will be saved in two ways:\n",
      "\n",
      "* First, the results will be saved to a file using the above unique database identifiers as column labels\n",
      "* Second, the dictionary will be pickled in a class specifically for iRefIndex and this will be saved to be loaded to build feature vectors"
     ]
    },
    {
     "cell_type": "code",
     "collapsed": false,
     "input": [
      "f = open(\"human.iRefIndex.Entrez.1ofk.txt\", \"w\")\n",
      "c = csv.writer(f,delimiter=\"\\t\")\n",
      "c.writerow([\"protein1\",\"protein2\"]+uniqdbs)\n",
      "for k in ireffeaturedict.keys():\n",
      "    pair = list(k)\n",
      "    if len(pair) == 1:\n",
      "        pair = pair*2\n",
      "    c.writerow(pair + ireffeaturedict[k])\n",
      "f.close()"
     ],
     "language": "python",
     "metadata": {},
     "outputs": [],
     "prompt_number": 29
    },
    {
     "cell_type": "code",
     "collapsed": false,
     "input": [
      "!head human.iRefIndex.Entrez.1ofk.txt"
     ],
     "language": "python",
     "metadata": {},
     "outputs": [
      {
       "output_type": "stream",
       "stream": "stdout",
       "text": [
        "protein1\tprotein2\tMI:0465(dip)\tMI:0469(intact)\tMI:0463(biogrid)\tMI:0468(hprd)\tMI:0000(corum)\tMI:0000(mppi)\tMI:0462(bind)\tMI:0917(matrixdb)\tMI:0000(bind_translation)\tMI:0000(ophid)\tMI:0974(innatedb)\r",
        "\r\n",
        "26986\t3434\t0\t0\t1\t0\t0\t0\t0\t0\t0\t0\t0\r",
        "\r\n",
        "10210\t3014\t0\t0\t1\t0\t0\t0\t0\t0\t0\t0\t0\r",
        "\r\n",
        "84619\t55536\t0\t1\t0\t0\t0\t0\t0\t0\t0\t0\t0\r",
        "\r\n",
        "10105\t2182\t0\t0\t0\t0\t0\t0\t0\t0\t0\t1\t0\r",
        "\r\n",
        "576\t90627\t0\t1\t1\t1\t0\t0\t0\t0\t1\t0\t0\r",
        "\r\n",
        "1387\t122953\t0\t0\t0\t1\t0\t0\t0\t0\t0\t0\t0\r",
        "\r\n",
        "22999\t23085\t0\t0\t0\t1\t0\t0\t0\t0\t0\t0\t0\r",
        "\r\n",
        "644815\t4087\t0\t0\t1\t0\t0\t0\t0\t0\t0\t0\t0\r",
        "\r\n",
        "4086\t7554\t0\t0\t0\t1\t0\t0\t1\t0\t1\t1\t0\r",
        "\r\n"
       ]
      }
     ],
     "prompt_number": 30
    },
    {
     "cell_type": "code",
     "collapsed": false,
     "input": [
      "import sys"
     ],
     "language": "python",
     "metadata": {},
     "outputs": [],
     "prompt_number": 31
    },
    {
     "cell_type": "code",
     "collapsed": false,
     "input": [
      "sys.path.append(\"/home/gavin/Documents/MRes/opencast-bio/\")"
     ],
     "language": "python",
     "metadata": {},
     "outputs": [],
     "prompt_number": 32
    },
    {
     "cell_type": "code",
     "collapsed": false,
     "input": [
      "import ocbio.irefindex"
     ],
     "language": "python",
     "metadata": {},
     "outputs": [],
     "prompt_number": 35
    },
    {
     "cell_type": "code",
     "collapsed": false,
     "input": [
      "features = ocbio.irefindex.features(ireffeaturedict)"
     ],
     "language": "python",
     "metadata": {},
     "outputs": [],
     "prompt_number": 37
    },
    {
     "cell_type": "code",
     "collapsed": false,
     "input": [
      "import pickle"
     ],
     "language": "python",
     "metadata": {},
     "outputs": [],
     "prompt_number": 38
    },
    {
     "cell_type": "code",
     "collapsed": false,
     "input": [
      "f = open(\"human.iRefIndex.Entrez.1ofk.pickle\",\"wb\")\n",
      "pickle.dump(features,f)\n",
      "f.close()"
     ],
     "language": "python",
     "metadata": {},
     "outputs": [],
     "prompt_number": 39
    }
   ],
   "metadata": {}
  }
 ]
}