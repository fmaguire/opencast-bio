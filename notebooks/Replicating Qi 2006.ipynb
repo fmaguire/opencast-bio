{
 "metadata": {
  "name": "",
  "signature": "sha256:b2f9a236477bb40dfd4ba3009d61d6ce5e32fa8ddd86ed796f5116ff90e873dc"
 },
 "nbformat": 3,
 "nbformat_minor": 0,
 "worksheets": [
  {
   "cells": [
    {
     "cell_type": "markdown",
     "metadata": {},
     "source": [
      "To reiterate, it looks like the Qi code provided with the 2006 paper does not include anything for the classification - I guess they didn't see any point seeing as the classification can be performed with plenty of different toolsets and they probably used one they couldn't just share.\n",
      "In any case, I want to replicate their results so I've got to get the feature vectors they had and get out some Python classification algorithms and see if I can get similar results to the paper.\n",
      "\n",
      "## Running Perl scripts\n",
      "\n",
      "The code is basically just a couple of perl scripts, and I think I should be able to just run these without any hassle and hopefully this will give me the feature vectors.\n",
      "Unfortunately, if anything goes wrong it's going to take a while to work out because I don't know Perl."
     ]
    },
    {
     "cell_type": "code",
     "collapsed": false,
     "input": [
      "ls"
     ],
     "language": "python",
     "metadata": {},
     "outputs": [
      {
       "output_type": "stream",
       "stream": "stdout",
       "text": [
        "\u001b[0m\u001b[40m\u001b[m\u001b[34;42m0yeast_gene_list\u001b[0m/       \u001b[40m\u001b[m\u001b[34;42m12homology-PPI\u001b[0m/        \u001b[40m\u001b[m\u001b[34;42m2tf-binding\u001b[0m/          \u001b[40m\u001b[m\u001b[34;42m5essentiality\u001b[0m/         \u001b[40m\u001b[m\u001b[34;42m8nature-compare-sequence\u001b[0m/        \u001b[40m\u001b[m\u001b[00mBatch_feature_summary_ExtractWrapper.pl\u001b[0m  \u001b[40m\u001b[m\u001b[00mREADME\u001b[0m\r\n",
        "\u001b[40m\u001b[m\u001b[34;42m10mips-phenotype\u001b[0m/       \u001b[40m\u001b[m\u001b[34;42m13domain-interaction\u001b[0m/  \u001b[40m\u001b[m\u001b[34;42m3gene-ontology\u001b[0m/       \u001b[40m\u001b[m\u001b[34;42m6HighExp-PPI\u001b[0m/          \u001b[40m\u001b[m\u001b[34;42m9mips-pclass\u001b[0m/                    \u001b[40m\u001b[m\u001b[00mInvestigating qi_evaluation_2006.ipynb\u001b[0m   \u001b[40m\u001b[m\u001b[00mReplicating Qi 2006.ipynb\u001b[0m\r\n",
        "\u001b[40m\u001b[m\u001b[34;42m11sequence-similarity\u001b[0m/  \u001b[40m\u001b[m\u001b[34;42m1gene-expression\u001b[0m/      \u001b[40m\u001b[m\u001b[34;42m4protein-expression\u001b[0m/  \u001b[40m\u001b[m\u001b[34;42m7genetic-interaction\u001b[0m/  \u001b[40m\u001b[m\u001b[00mBatch_feature_ExtractWrapper.pl\u001b[0m  \u001b[40m\u001b[m\u001b[00mInvestigating qi_evaluation_2006.md\u001b[0m      \u001b[40m\u001b[m\u001b[34;42mtrain-set\u001b[0m/\r\n"
       ]
      }
     ],
     "prompt_number": 1
    },
    {
     "cell_type": "code",
     "collapsed": false,
     "input": [
      "%%bash\n",
      "head -n 30 Batch_feature_ExtractWrapper.pl"
     ],
     "language": "python",
     "metadata": {},
     "outputs": [
      {
       "output_type": "stream",
       "stream": "stdout",
       "text": [
        "######################################################################3\r\n",
        "#\r\n",
        "# copyright @ Yanjun Qi , qyj@cs.cmu.edu\r\n",
        "# Please cite: \r\n",
        "# Y. Qi, Z. Bar-Joseph, J. Klein-Seetharaman, \"Evaluation of different biological data and computational classification methods for use in protein interaction prediction\", PROTEINS: Structure, Function, and Bioinformatics. 63(3):490-500. 2006\r\n",
        "# Y. Qi, J. Klein-Seetharaman, Z. Bar-Joseph, \"A mixture of feature experts approach for protein-protein interaction prediction\", BMC Bioinformatics 8 (S10):S6, 2007 \r\n",
        "# Y. Qi, J. Klein-Seetharaman, Z. Bar-Joseph, \ufffdRandom Forest Similarity for Protein-Protein Interaction Prediction from Multiple source\ufffd, Pacific Symposium on Biocomputing 10: (PSB 2005) Jan. 2005. \r\n",
        "# \r\n",
        "######################################################################3\r\n",
        "\r\n",
        "\r\n",
        "# This program is a yeast PPI feature extraction wrapper \r\n",
        "# perl command inputPairlist\r\n",
        "\r\n",
        "\r\n",
        "use strict; \r\n",
        "die \"Usage: command inputPairFile \\n\" if scalar(@ARGV) < 1;\r\n",
        "my ($inputPair ) = @ARGV;\r\n",
        "\r\n",
        "\r\n",
        "print \"\\n--------------------------- 1gene-expression ----------------------------------------\\n\"; \r\n",
        "\r\n",
        "# -------------------   1gene-expression   ------------------------------\r\n",
        "\r\n",
        "my $cmdPre = \"perl ./1gene-expression/get_gene_expression.pl  \"; \r\n",
        "my $cmdPro = \"./1gene-expression/YeastGeneListOrfGeneName-106_pval_v9.0.txt ./1gene-expression/all_expression_fixed_s4_csv.txt  ./1gene-expression/expressionYanjunSplit.txt 0.6 \"; \r\n",
        "\r\n",
        "my $cmd = $cmdPre.\" \".$inputPair.\" \".$cmdPro.\" \".$inputPair.\".genexp\" ; \r\n",
        "print \"$cmd\\n\"; \r\n",
        "system($cmd); \r\n"
       ]
      }
     ],
     "prompt_number": 5
    },
    {
     "cell_type": "markdown",
     "metadata": {},
     "source": [
      "Ok, so the documentation isn't very extensive, the important part is that `perl command inputPairlist`. Where I guess the command is the name of the wrapper?\n",
      "\n",
      "Anyway, which file is the inputpairlist? I think it's in the `0yeast_gene_list/` directory."
     ]
    },
    {
     "cell_type": "code",
     "collapsed": false,
     "input": [
      "cd 0yeast_gene_list/"
     ],
     "language": "python",
     "metadata": {},
     "outputs": [
      {
       "output_type": "stream",
       "stream": "stdout",
       "text": [
        "/home/gavin/Documents/MRes/YeastPPI-shared-08/0yeast_gene_list\n"
       ]
      }
     ],
     "prompt_number": 6
    },
    {
     "cell_type": "code",
     "collapsed": false,
     "input": [
      "ls"
     ],
     "language": "python",
     "metadata": {},
     "outputs": [
      {
       "output_type": "stream",
       "stream": "stdout",
       "text": [
        "\u001b[0m\u001b[40m\u001b[m\u001b[00mmake_fullpair_4protein.pl\u001b[0m  \u001b[40m\u001b[m\u001b[00mYeastGeneListOrfGeneName-106_pval_v9.0.txt\u001b[0m\r\n"
       ]
      }
     ],
     "prompt_number": 7
    },
    {
     "cell_type": "code",
     "collapsed": false,
     "input": [
      "%%bash\n",
      "head YeastGeneListOrfGeneName-106_pval_v9.0.txt"
     ],
     "language": "python",
     "metadata": {},
     "outputs": [
      {
       "output_type": "stream",
       "stream": "stdout",
       "text": [
        "YAL001C\tTFC3\r\n",
        "YAL002W\tVPS8\r\n",
        "YAL003W\tEFB1\r\n",
        "YAL004W\tYAL004W\r\n",
        "YAL005C\tSSA1\r\n",
        "YAL007C\tERP2\r\n",
        "YAL008W\tFUN14\r\n",
        "YAL009W\tSPO7\r\n",
        "YAL010C\tMDM10\r\n",
        "YAL011W\tFUN36\r\n"
       ]
      }
     ],
     "prompt_number": 9
    },
    {
     "cell_type": "markdown",
     "metadata": {},
     "source": [
      "Guess this maps one reference name for a gene to another?"
     ]
    },
    {
     "cell_type": "code",
     "collapsed": false,
     "input": [
      "%%bash\n",
      "head -n 30 make_fullpair_4protein.pl"
     ],
     "language": "python",
     "metadata": {},
     "outputs": [
      {
       "output_type": "stream",
       "stream": "stdout",
       "text": [
        "######################################################################3\r\n",
        "#\r\n",
        "# copyright @ Yanjun Qi , qyj@cs.cmu.edu\r\n",
        "# Please cite: \r\n",
        "# Y. Qi, Z. Bar-Joseph, J. Klein-Seetharaman, \"Evaluation of different biological data and computational classification methods for use in protein interaction prediction\", PROTEINS: Structure, Function, and Bioinformatics. 63(3):490-500. 2006\r\n",
        "# Y. Qi, J. Klein-Seetharaman, Z. Bar-Joseph, \"A mixture of feature experts approach for protein-protein interaction prediction\", BMC Bioinformatics 8 (S10):S6, 2007 \r\n",
        "# Y. Qi, J. Klein-Seetharaman, Z. Bar-Joseph, \ufffdRandom Forest Similarity for Protein-Protein Interaction Prediction from Multiple source\ufffd, Pacific Symposium on Biocomputing 10: (PSB 2005) Jan. 2005. \r\n",
        "# \r\n",
        "######################################################################3\r\n",
        "\r\n",
        "\r\n",
        "# \r\n",
        "# This program is to make the pair list from the protein list \r\n",
        "#\r\n",
        "# perl make_fullpair_4protein.pl protein_list.txt pos_list output_pos output_other \r\n",
        "# \r\n",
        "# \r\n",
        "# $ perl  make_fullpair_4protein.pl YeastGeneListOrfGeneName-106_pval_v9.0.txt Science03-pos_MIPS_complexes.txt mipsPosPair.txt mipsRandpair.txt\r\n",
        "#==> There are 6270 unique proteins in original list.\r\n",
        "#==>  There should have 19653315 pairs possibly generated totally !\r\n",
        "# There are 8617 POS pairs originally .\r\n",
        "# fullpairs has: 7390 POS pairs.\r\n",
        "# fullpairs has: 19645925 RAND pairs.\r\n",
        "#  ==>  There are 19653315 pairs generated !\r\n",
        "# \r\n",
        "\r\n",
        "\r\n",
        "use strict; \r\n",
        "die \"Usage: command gene_name_file pos_pairFile outPosPairFile outRandPairFile \\n\" if scalar(@ARGV) < 4; \r\n",
        "\r\n"
       ]
      }
     ],
     "prompt_number": 11
    },
    {
     "cell_type": "markdown",
     "metadata": {},
     "source": [
      "Slightly confused about this. I'm guessing that this is to produce the input pair list for the main wrapper but I don't see where to get `pos_pairFile`, `outPosPairFile`, `outRandPairFile`. Trying to find: `Science03-pos_MIPS_complexes.txt`, `mipsPosPair.txt mipsRandpair.txt`:"
     ]
    },
    {
     "cell_type": "code",
     "collapsed": false,
     "input": [
      "cd .."
     ],
     "language": "python",
     "metadata": {},
     "outputs": []
    },
    {
     "cell_type": "code",
     "collapsed": false,
     "input": [
      "%%bash\n",
      "find . -name Science*\n",
      "find . -name mips*"
     ],
     "language": "python",
     "metadata": {},
     "outputs": [],
     "prompt_number": 31
    },
    {
     "cell_type": "markdown",
     "metadata": {},
     "source": [
      "__No sign of them.__\n",
      "\n",
      "I guess I'm supposed to get them from elsewhere maybe? Doesn't make any sense though, why tarball up all the code but not make it runnable?\n",
      "\n",
      "Ok, maybe I'm just being stupid and two of those are output files? So we'd just need a positive list of proteins? Is that in here somewhere? Don't see it.\n",
      "\n",
      "Looks like I can get it online at [this page on the Qi site][qifeatureset]\n",
      "\n",
      "Downloaded them and put them in a directory called `featuresets`. Can have a look at them now:\n",
      "\n",
      "[qifeatureset]: http://www.cs.cmu.edu/~qyj/papers_sulp/proteins05_pages/feature-download.html"
     ]
    },
    {
     "cell_type": "code",
     "collapsed": false,
     "input": [
      "ls -lh featuresets/phyInteract/"
     ],
     "language": "python",
     "metadata": {},
     "outputs": [
      {
       "output_type": "stream",
       "stream": "stdout",
       "text": [
        "total 188M\r\n",
        "\u001b[0m\u001b[40m-rw-r--r-- 1 gavin users  51K May 28 16:19 \u001b[m\u001b[00mdipsPosPair\u001b[0m\r\n",
        "\u001b[40m-rw-r--r-- 1 gavin users 2.1M May 28 16:19 \u001b[m\u001b[00mdipsPosPair.feature\u001b[0m\r\n",
        "\u001b[40m-rw-r--r-- 1 gavin users 4.2M May 28 16:19 \u001b[m\u001b[00mdipsRandpairSub23w\u001b[0m\r\n",
        "\u001b[40m-rw-r--r-- 1 gavin users 181M May 28 16:19 \u001b[m\u001b[00mdipsRandpairSub23w.feature\u001b[0m\r\n",
        "\u001b[40m-rw-r--r-- 1 gavin users  624 May 28 16:19 \u001b[m\u001b[00mreadme.txt\u001b[0m\r\n"
       ]
      }
     ],
     "prompt_number": 1
    },
    {
     "cell_type": "code",
     "collapsed": false,
     "input": [
      "%%bash\n",
      "head -n 1 featuresets/phyInteract/dipsPosPair.feature"
     ],
     "language": "python",
     "metadata": {},
     "outputs": [
      {
       "output_type": "stream",
       "stream": "stdout",
       "text": [
        "0.793388763224369,0.00420804252006518,0.425688981443356,0.050368298677632,-100,-0.431032656998849,-100,0.219336773277164,-0.260415665650041,0.197204579148454,0.561672012832894,-0.0228811714495604,0.226695830426883,-0.498251467771468,0.191892679025485,-0.0442896786511169,-0.0410836070811429,0.31939401640312,0.201702280568662,-0.206576006538866,0,0,0,0,0,0,0,0,0,0,0,0,0,0,0,0,0,0,0,0,0,1,0,0,0,0,0,0,0,0,0,0,0,0,0,0,0,0,0,0,0,0,0,0,0,0,0,0,0,0,0,0,0,0,0,0,0,0,0,0,0,0,1,0,0,0,0,0,0,0,0,0,0,0,0,0,0,5.42227951866507,1,-100,0,-100,0,0,0,0,0,0,0,0,0,0,0,0,0,0,0,0,0,0,0,0,0,0,0,0,-100,-100,-100,-100,-100,-100,-100,-100,-100,-100,-100,-100,-100,-100,-100,-100,-100,-100,-100,-100,-100,-100,-100,-100,-100,-100,-100,-100,-100,-100,-100,-100,-100,-100,-100,-100,1\n"
       ]
      }
     ],
     "prompt_number": 16
    },
    {
     "cell_type": "code",
     "collapsed": false,
     "input": [
      "%%bash\n",
      "head -n 1 featuresets/phyInteract/dipsRandpairSub23w.feature"
     ],
     "language": "python",
     "metadata": {},
     "outputs": [
      {
       "output_type": "stream",
       "stream": "stdout",
       "text": [
        "-100,-0.451693610174967,-0.0287451930023522,0.199960245640947,-100,-0.132785992866974,-100,0.0113596052584383,-0.0184840432669403,-0.332990558018139,0.231135300459446,0.568965723612462,-0.00592435004576543,0.212805215910624,-0.934391682945072,-0.0356978663758904,0.635341056917029,0.507997427846247,0.449270105867988,0.376562615235622,0,0,0,0,0,0,0,0,0,0,0,0,0,0,0,0,0,0,0,0,0,0,0,0,0,0,0,0,0,0,0,0,0,0,0,0,0,0,0,0,0,0,0,0,0,0,0,0,0,0,0,0,0,0,0,0,0,0,0,0,0,0,0,0,0,0,0,0,0,0,0,0,0,0,0,0,0,3.47217114669236,0,-100,0,-100,-100,0,0,0,0,0,0,0,0,0,0,0,0,0,0,0,0,0,0,0,0,0,0,0,-100,-100,-100,-100,-100,-100,-100,-100,-100,-100,-100,-100,-100,-100,-100,-100,-100,-100,-100,-100,-100,-100,-100,-100,-100,-100,-100,-100,-100,-100,-100,-100,-100,-100,-100,-100,0\n"
       ]
      }
     ],
     "prompt_number": 11
    },
    {
     "cell_type": "markdown",
     "metadata": {},
     "source": [
      "Opening up these files:"
     ]
    },
    {
     "cell_type": "code",
     "collapsed": false,
     "input": [
      "import csv,glob\n",
      "nipfiles = glob.glob(\"featuresets/phyInteract/dips*.feature\")\n",
      "print nipfiles\n",
      "#write generator functions for each file will require generator object "
     ],
     "language": "python",
     "metadata": {},
     "outputs": [
      {
       "output_type": "stream",
       "stream": "stdout",
       "text": [
        "['featuresets/phyInteract/dipsPosPair.feature', 'featuresets/phyInteract/dipsRandpairSub23w.feature']\n"
       ]
      }
     ],
     "prompt_number": 1
    },
    {
     "cell_type": "markdown",
     "metadata": {},
     "source": [
      "One option would be to write a generator function to open these up and return rows as they are required to save RAM. If I get round to writing this I'll put it here:"
     ]
    },
    {
     "cell_type": "code",
     "collapsed": false,
     "input": [
      "#writing generator class"
     ],
     "language": "python",
     "metadata": {},
     "outputs": []
    },
    {
     "cell_type": "markdown",
     "metadata": {},
     "source": [
      "Another option would be to use `pandas` as it's pretty much designed to solve this problem."
     ]
    },
    {
     "cell_type": "code",
     "collapsed": false,
     "input": [
      "import pandas as pd\n",
      "#test importing one of these csvs\n",
      "pd.read_csv(nipfiles[0],header=None).head()"
     ],
     "language": "python",
     "metadata": {},
     "outputs": [
      {
       "html": [
        "<div style=\"max-height:1000px;max-width:1500px;overflow:auto;\">\n",
        "<table border=\"1\" class=\"dataframe\">\n",
        "  <thead>\n",
        "    <tr style=\"text-align: right;\">\n",
        "      <th></th>\n",
        "      <th>0</th>\n",
        "      <th>1</th>\n",
        "      <th>2</th>\n",
        "      <th>3</th>\n",
        "      <th>4</th>\n",
        "      <th>5</th>\n",
        "      <th>6</th>\n",
        "      <th>7</th>\n",
        "      <th>8</th>\n",
        "      <th>9</th>\n",
        "      <th>10</th>\n",
        "      <th>11</th>\n",
        "      <th>12</th>\n",
        "      <th>13</th>\n",
        "      <th>14</th>\n",
        "      <th>15</th>\n",
        "      <th>16</th>\n",
        "      <th>17</th>\n",
        "      <th>18</th>\n",
        "      <th>19</th>\n",
        "      <th></th>\n",
        "    </tr>\n",
        "  </thead>\n",
        "  <tbody>\n",
        "    <tr>\n",
        "      <th>0</th>\n",
        "      <td>   0.793389</td>\n",
        "      <td> 0.004208</td>\n",
        "      <td> 0.425689</td>\n",
        "      <td> 0.050368</td>\n",
        "      <td>-100.000000</td>\n",
        "      <td>-0.431033</td>\n",
        "      <td>-100.000000</td>\n",
        "      <td> 0.219337</td>\n",
        "      <td>-0.260416</td>\n",
        "      <td> 0.197205</td>\n",
        "      <td> 0.561672</td>\n",
        "      <td>-0.022881</td>\n",
        "      <td> 0.226696</td>\n",
        "      <td>-0.498251</td>\n",
        "      <td> 0.191893</td>\n",
        "      <td>-0.044290</td>\n",
        "      <td>-0.041084</td>\n",
        "      <td> 0.319394</td>\n",
        "      <td> 0.201702</td>\n",
        "      <td>-0.206576</td>\n",
        "      <td>...</td>\n",
        "    </tr>\n",
        "    <tr>\n",
        "      <th>1</th>\n",
        "      <td>  -0.060023</td>\n",
        "      <td>-0.210066</td>\n",
        "      <td>-0.091081</td>\n",
        "      <td> 0.057263</td>\n",
        "      <td>   0.615934</td>\n",
        "      <td> 0.000000</td>\n",
        "      <td>  -0.270493</td>\n",
        "      <td> 0.459723</td>\n",
        "      <td> 0.283593</td>\n",
        "      <td>-0.820271</td>\n",
        "      <td> 0.768494</td>\n",
        "      <td> 0.476355</td>\n",
        "      <td> 0.100546</td>\n",
        "      <td>-0.458742</td>\n",
        "      <td> 0.179573</td>\n",
        "      <td>-0.001993</td>\n",
        "      <td> 0.670944</td>\n",
        "      <td> 0.523979</td>\n",
        "      <td> 0.031387</td>\n",
        "      <td> 0.144759</td>\n",
        "      <td>...</td>\n",
        "    </tr>\n",
        "    <tr>\n",
        "      <th>2</th>\n",
        "      <td>  -0.139235</td>\n",
        "      <td> 0.233024</td>\n",
        "      <td>-0.246856</td>\n",
        "      <td>-0.197301</td>\n",
        "      <td>  -0.735368</td>\n",
        "      <td>-0.848902</td>\n",
        "      <td>  -0.242361</td>\n",
        "      <td>-0.274482</td>\n",
        "      <td>-0.260667</td>\n",
        "      <td> 0.968193</td>\n",
        "      <td> 0.512238</td>\n",
        "      <td> 0.116022</td>\n",
        "      <td> 0.087863</td>\n",
        "      <td>-0.000231</td>\n",
        "      <td>-0.999968</td>\n",
        "      <td> 0.018011</td>\n",
        "      <td>-0.331740</td>\n",
        "      <td> 0.006124</td>\n",
        "      <td>-0.144496</td>\n",
        "      <td>-0.287701</td>\n",
        "      <td>...</td>\n",
        "    </tr>\n",
        "    <tr>\n",
        "      <th>3</th>\n",
        "      <td>-100.000000</td>\n",
        "      <td> 0.516909</td>\n",
        "      <td> 0.489173</td>\n",
        "      <td> 0.382931</td>\n",
        "      <td>-100.000000</td>\n",
        "      <td> 0.365115</td>\n",
        "      <td>   0.055116</td>\n",
        "      <td> 0.382403</td>\n",
        "      <td>-0.396365</td>\n",
        "      <td> 0.106891</td>\n",
        "      <td> 0.658290</td>\n",
        "      <td> 0.533645</td>\n",
        "      <td> 0.096992</td>\n",
        "      <td> 0.496594</td>\n",
        "      <td> 0.976505</td>\n",
        "      <td>-0.014651</td>\n",
        "      <td>-0.257374</td>\n",
        "      <td> 0.015310</td>\n",
        "      <td> 0.194071</td>\n",
        "      <td>-0.033708</td>\n",
        "      <td>...</td>\n",
        "    </tr>\n",
        "    <tr>\n",
        "      <th>4</th>\n",
        "      <td>   0.654579</td>\n",
        "      <td> 0.657707</td>\n",
        "      <td> 0.114509</td>\n",
        "      <td> 0.293567</td>\n",
        "      <td>   0.096530</td>\n",
        "      <td> 0.000000</td>\n",
        "      <td>  -0.557642</td>\n",
        "      <td>-0.108332</td>\n",
        "      <td> 0.079067</td>\n",
        "      <td> 0.801406</td>\n",
        "      <td> 0.234897</td>\n",
        "      <td> 0.414738</td>\n",
        "      <td> 0.370008</td>\n",
        "      <td>-0.273466</td>\n",
        "      <td>-0.949009</td>\n",
        "      <td> 0.043061</td>\n",
        "      <td> 0.343765</td>\n",
        "      <td> 0.329410</td>\n",
        "      <td> 0.320448</td>\n",
        "      <td>-0.165973</td>\n",
        "      <td>...</td>\n",
        "    </tr>\n",
        "  </tbody>\n",
        "</table>\n",
        "<p>5 rows \u00d7 163 columns</p>\n",
        "</div>"
       ],
       "metadata": {},
       "output_type": "pyout",
       "prompt_number": 2,
       "text": [
        "           0         1         2         3           4         5           6   \\\n",
        "0    0.793389  0.004208  0.425689  0.050368 -100.000000 -0.431033 -100.000000   \n",
        "1   -0.060023 -0.210066 -0.091081  0.057263    0.615934  0.000000   -0.270493   \n",
        "2   -0.139235  0.233024 -0.246856 -0.197301   -0.735368 -0.848902   -0.242361   \n",
        "3 -100.000000  0.516909  0.489173  0.382931 -100.000000  0.365115    0.055116   \n",
        "4    0.654579  0.657707  0.114509  0.293567    0.096530  0.000000   -0.557642   \n",
        "\n",
        "         7         8         9         10        11        12        13  \\\n",
        "0  0.219337 -0.260416  0.197205  0.561672 -0.022881  0.226696 -0.498251   \n",
        "1  0.459723  0.283593 -0.820271  0.768494  0.476355  0.100546 -0.458742   \n",
        "2 -0.274482 -0.260667  0.968193  0.512238  0.116022  0.087863 -0.000231   \n",
        "3  0.382403 -0.396365  0.106891  0.658290  0.533645  0.096992  0.496594   \n",
        "4 -0.108332  0.079067  0.801406  0.234897  0.414738  0.370008 -0.273466   \n",
        "\n",
        "         14        15        16        17        18        19      \n",
        "0  0.191893 -0.044290 -0.041084  0.319394  0.201702 -0.206576 ...  \n",
        "1  0.179573 -0.001993  0.670944  0.523979  0.031387  0.144759 ...  \n",
        "2 -0.999968  0.018011 -0.331740  0.006124 -0.144496 -0.287701 ...  \n",
        "3  0.976505 -0.014651 -0.257374  0.015310  0.194071 -0.033708 ...  \n",
        "4 -0.949009  0.043061  0.343765  0.329410  0.320448 -0.165973 ...  \n",
        "\n",
        "[5 rows x 163 columns]"
       ]
      }
     ],
     "prompt_number": 2
    },
    {
     "cell_type": "code",
     "collapsed": false,
     "input": [
      "#initialise dictionary\n",
      "nipd = {}\n",
      "#load into dictionary\n",
      "for fname in nipfiles:\n",
      "    nipd[fname] = pd.read_csv(fname,header=None)"
     ],
     "language": "python",
     "metadata": {},
     "outputs": [],
     "prompt_number": 3
    },
    {
     "cell_type": "markdown",
     "metadata": {},
     "source": [
      "Now just need to see if we can extract the array that we need to train the logistic regression model. Looks like I should use the `iloc` indexing method."
     ]
    },
    {
     "cell_type": "code",
     "collapsed": false,
     "input": [
      "#concatenate the positive and negative training sets together\n",
      "X = pd.concat((nipd[nipfiles[0]].iloc[:10,0:162],nipd[nipfiles[1]].iloc[:10,0:162]))\n",
      "#get the class label vector y the same way\n",
      "y = pd.concat((nipd[nipfiles[0]].iloc[:10,162],nipd[nipfiles[1]].iloc[:10,162]))"
     ],
     "language": "python",
     "metadata": {},
     "outputs": [],
     "prompt_number": 5
    },
    {
     "cell_type": "code",
     "collapsed": false,
     "input": [
      "#checking that our arrays will be the right size\n",
      "print \"length of X array is %i\"%len(X.values)\n",
      "print \"length of y array is %i\"%len(y.values)"
     ],
     "language": "python",
     "metadata": {},
     "outputs": [
      {
       "output_type": "stream",
       "stream": "stdout",
       "text": [
        "length of X array is 20\n",
        "length of y array is 20\n"
       ]
      }
     ],
     "prompt_number": 6
    },
    {
     "cell_type": "markdown",
     "metadata": {},
     "source": [
      "The different classification algorithms to test to replicate Qi's results are:\n",
      "\n",
      "1. Random Forest\n",
      "    1. [Scikit-learn solution](http://scikit-learn.org/stable/modules/generated/sklearn.ensemble.RandomForestClassifier.html)\n",
      "2. RF similarity-based k-Nearest-Neighbour\n",
      "    1. __Ignoring this for now__\n",
      "3. Naive Bayes\n",
      "    1. [Scikit-learn solution](http://scikit-learn.org/stable/modules/naive_bayes.html) - but with problems\n",
      "4. Decision Tree\n",
      "    1. [Scikit-learn solution](http://scikit-learn.org/stable/modules/tree.html)\n",
      "5. Logistic Regression\n",
      "    1. [Theano solution](http://deeplearning.net/tutorial/logreg.html)\n",
      "    2. [Scikit-learn solution](http://scikit-learn.org/stable/modules/generated/sklearn.linear_model.LogisticRegression.html)\n",
      "6. Support Vector Machine\n",
      "    1. [Scikit-learn solution](http://scikit-learn.org/stable/modules/svm.html)\n",
      "    \n",
      "Starting with good old Naive Bayes as I pretty well understand how it works.\n",
      "\n",
      "### Naive Bayes\n",
      "\n",
      "Simple classifier assuming that the features are independent given the class label, which is apparently a pretty good assumption most of the time. Naive Bayes is usually studied with binary features but those used in this example are clearly _not all binary_. So, how do we get Scikit-learn to deal with that?\n",
      "\n",
      "Specifically, the features are encoded as described [here][qifeaturepage].\n",
      "\n",
      "Looks like the ways round are both pretty much just [hacks][stackscikit] so it's probably better to use something else. If I have to write my own then [this page][nb50l] might come in useful. Don't particularly want to though.\n",
      "\n",
      "[qifeaturepage]: http://www.cs.cmu.edu/~qyj/papers_sulp/proteins05_pages/feature-download.html\n",
      "[stackscikit]: http://stackoverflow.com/questions/14254203/mixing-categorial-and-continuous-data-in-naive-bayes-classifier-using-scikit-lea\n",
      "[nb50l]: http://ebiquity.umbc.edu/blogger/2010/12/07/naive-bayes-classifier-in-50-lines/\n",
      "\n",
      "### Logistic Regression\n",
      "\n",
      "This one's pretty simple as well, so shouldn't be too difficult to run. On the logistic regression page it appears that this can be used with defaults. As far as I understand logistic regression it doesn't make any assumptions about the distributions of the features."
     ]
    },
    {
     "cell_type": "code",
     "collapsed": false,
     "input": [
      "from sklearn import linear_model as sklm\n",
      "#initialise a logistic regression model\n",
      "logmodel = sklm.LogisticRegression()"
     ],
     "language": "python",
     "metadata": {},
     "outputs": [],
     "prompt_number": 7
    },
    {
     "cell_type": "markdown",
     "metadata": {},
     "source": [
      "Now the question is what the `fit` command expects of the data. What format should it be in?\n",
      "\n",
      "```\n",
      "X : {array-like, sparse matrix}, shape = [n_samples, n_features]\n",
      "\n",
      "    Training vector, where n_samples in the number of samples and n_features is the number of features.\n",
      "\n",
      "y : array-like, shape = [n_samples]\n",
      "\n",
      "    Target vector relative to X\n",
      "```\n",
      "\n",
      "Now trying to fit the model. Appears the following cell will take **a very long time to run** with the full number of samples (240000). Unclear what I can do about this."
     ]
    },
    {
     "cell_type": "code",
     "collapsed": false,
     "input": [
      "logmodel.fit(X.values,y.values)"
     ],
     "language": "python",
     "metadata": {},
     "outputs": [
      {
       "metadata": {},
       "output_type": "pyout",
       "prompt_number": 8,
       "text": [
        "LogisticRegression(C=1.0, class_weight=None, dual=False, fit_intercept=True,\n",
        "          intercept_scaling=1, penalty='l2', random_state=None, tol=0.0001)"
       ]
      }
     ],
     "prompt_number": 8
    },
    {
     "cell_type": "markdown",
     "metadata": {},
     "source": [
      "Now all we need is a test set."
     ]
    },
    {
     "cell_type": "code",
     "collapsed": false,
     "input": [
      "#concatenate the positive and negative training sets together\n",
      "testX = pd.concat((nipd[nipfiles[0]].iloc[10:20,0:162],nipd[nipfiles[1]].iloc[10:20,0:162]))\n",
      "#get the class label vector y the same way\n",
      "testy = pd.concat((nipd[nipfiles[0]].iloc[10:20,162],nipd[nipfiles[1]].iloc[10:20,162]))"
     ],
     "language": "python",
     "metadata": {},
     "outputs": [],
     "prompt_number": 9
    },
    {
     "cell_type": "code",
     "collapsed": false,
     "input": [
      "estimates = logmodel.predict_proba(testX.values)"
     ],
     "language": "python",
     "metadata": {},
     "outputs": [],
     "prompt_number": 14
    },
    {
     "cell_type": "markdown",
     "metadata": {},
     "source": [
      "Then compare these to the real results. Is there an automated way to do this? Of course there is: [Scikit-learn's ROC curve][sciroc].\n",
      "\n",
      "[sciroc]: http://scikit-learn.org/0.11/auto_examples/plot_roc.html"
     ]
    },
    {
     "cell_type": "code",
     "collapsed": false,
     "input": [
      "from sklearn.metrics import roc_curve,auc\n",
      "fpr, tpr, thresholds = roc_curve(testy.values,estimates[:,1])\n",
      "roc_auc = auc(fpr,tpr)\n",
      "print \"Area under ROC curve: %.2f\"%(roc_auc)"
     ],
     "language": "python",
     "metadata": {},
     "outputs": [
      {
       "output_type": "stream",
       "stream": "stdout",
       "text": [
        "Area under ROC curve: 0.52\n"
       ]
      }
     ],
     "prompt_number": 21
    },
    {
     "cell_type": "code",
     "collapsed": false,
     "input": [
      "#define a function for quickly plotting ROC curves with nice annotations\n",
      "def plotroc(fpr,tpr):\n",
      "    clf()\n",
      "    plot(fpr, tpr)\n",
      "    plot([0, 1], [0, 1], 'k--')\n",
      "    xlim([0.0, 1.0])\n",
      "    ylim([0.0, 1.0])\n",
      "    xlabel('False Positive Rate')\n",
      "    ylabel('True Positive Rate')\n",
      "    title('Receiver operating characteristic')\n",
      "    show()\n",
      "    return None\n",
      "plotroc(fpr,tpr)"
     ],
     "language": "python",
     "metadata": {},
     "outputs": [
      {
       "metadata": {},
       "output_type": "display_data",
       "png": "[encoded data removed]",
       "text": [
        "<matplotlib.figure.Figure at 0x118d8610>"
       ]
      }
     ],
     "prompt_number": 24
    },
    {
     "cell_type": "markdown",
     "metadata": {},
     "source": [
      "Ok, so that's terrible, probably because we're only using 20 training and test examples.\n",
      "Can now increase that to 1000:"
     ]
    },
    {
     "cell_type": "code",
     "collapsed": false,
     "input": [
      "from sklearn.utils import shuffle as skshuffle\n",
      "#how many samples?\n",
      "N = 1000\n",
      "#concatenate the positive and negative training sets together\n",
      "X = pd.concat((nipd[nipfiles[0]].iloc[:N,0:162],nipd[nipfiles[1]].iloc[:N,0:162]))\n",
      "#get the class label vector y the same way\n",
      "y = pd.concat((nipd[nipfiles[0]].iloc[:N,162],nipd[nipfiles[1]].iloc[:N,162]))\n",
      "#then shuffle all of them\n",
      "X,y = skshuffle(X.values,y.values)\n",
      "#find the midpoint\n",
      "half = int(len(X))/2\n",
      "#split it into test and train\n",
      "Xtrain, Xtest = X[:half], X[half:]\n",
      "ytrain, ytest = y[:half], y[half:]"
     ],
     "language": "python",
     "metadata": {},
     "outputs": [],
     "prompt_number": 44
    },
    {
     "cell_type": "markdown",
     "metadata": {},
     "source": [
      "Then we want to fit the model again and test it again:"
     ]
    },
    {
     "cell_type": "code",
     "collapsed": false,
     "input": [
      "#reinitialise a logistic regression model\n",
      "logmodel = sklm.LogisticRegression()\n",
      "#fit it again\n",
      "logmodel.fit(Xtrain,ytrain)\n",
      "#test it again\n",
      "estimates = logmodel.predict_proba(Xtest)\n",
      "#recalc the roc curve\n",
      "fpr, tpr, thresholds = roc_curve(ytest,estimates[:,1])\n",
      "#print area under roc curve\n",
      "roc_auc = auc(fpr,tpr)\n",
      "print \"Area under ROC curve: %.2f\"%(roc_auc)\n",
      "#replot the roc curve\n",
      "plotroc(fpr,tpr)"
     ],
     "language": "python",
     "metadata": {},
     "outputs": [
      {
       "output_type": "stream",
       "stream": "stdout",
       "text": [
        "Area under ROC curve: 0.90\n"
       ]
      },
      {
       "metadata": {},
       "output_type": "display_data",
       "png": "[encoded data removed]",
       "text": [
        "<matplotlib.figure.Figure at 0x1be7250>"
       ]
      }
     ],
     "prompt_number": 45
    },
    {
     "cell_type": "markdown",
     "metadata": {},
     "source": [
      "However, this is strange, because we're not even using the full data and we're getting *better results than the paper*. Should be getting an AUC score of about __0.15__ - what we are getting is __0.90__.\n",
      "\n",
      "Although, the number they're quoting in the paper is something called an __R50 value__, which is:\n",
      "\n",
      "> ...R50 is a partial AUC score that measures the area under the ROC curve until reaching 50 negative predictions.\n",
      "\n",
      "So we need to calculate this R50 value if we're going to replicate the results.\n",
      "\n",
      "In this case we have 500 training points so the R50 value corresponds to (I guess?) the area under the curve up until the false positive rate is _0.1_."
     ]
    },
    {
     "cell_type": "code",
     "collapsed": false,
     "input": [
      "roccrv = pd.DataFrame(array([fpr,tpr]).T)\n",
      "#don't ask about this line\n",
      "plotroc(*zip(*roccrv[roccrv[0]<0.1].values))"
     ],
     "language": "python",
     "metadata": {},
     "outputs": [
      {
       "metadata": {},
       "output_type": "display_data",
       "png": "[encoded data removed]",
       "text": [
        "<matplotlib.figure.Figure at 0x118dd5d0>"
       ]
      }
     ],
     "prompt_number": 58
    },
    {
     "cell_type": "code",
     "collapsed": false,
     "input": [
      "r50 = auc(*zip(*roccrv[roccrv[0]<0.1].values))\n",
      "print \"The R50 value for this ROC curve is %.2f\"%r50"
     ],
     "language": "python",
     "metadata": {},
     "outputs": [
      {
       "output_type": "stream",
       "stream": "stdout",
       "text": [
        "The R50 value for this ROC curve is 0.06\n"
       ]
      }
     ],
     "prompt_number": 60
    },
    {
     "cell_type": "markdown",
     "metadata": {},
     "source": [
      "Which could be right, it's certainly _below_ what they get in the paper and it's obtained using much less training data than used in the paper. Unfortunately, I still can't find another source for what an R50 actually is. I doubt what I'm doing is 100% correct because then the R50 value you get would depend on the _size of your test set_ (if my training set were smaller I could tolerate a higher false positive rate when finding the R50 value, which would obviously improve my results.\n",
      "\n",
      "In lieu of any of that I'm just going to try and train this model with _80%_ of the data and see if the result is exactly what they have in the paper. If it is, I'll just assume my interpretation of the R50 value is right."
     ]
    },
    {
     "cell_type": "code",
     "collapsed": false,
     "input": [
      "#concatenate the positive and negative training sets together\n",
      "X = pd.concat((nipd[nipfiles[0]].iloc[:,0:162],nipd[nipfiles[1]].iloc[:,0:162]))\n",
      "#get the class label vector y the same way\n",
      "y = pd.concat((nipd[nipfiles[0]].iloc[:,162],nipd[nipfiles[1]].iloc[:,162]))\n",
      "#then shuffle all of them\n",
      "X,y = skshuffle(X.values,y.values)\n",
      "#find the midpoint\n",
      "eighty = int(len(X))*0.8\n",
      "#split it into test and train\n",
      "Xtrain, Xtest = X[:eighty], X[eighty:]\n",
      "ytrain, ytest = y[:eighty], y[eighty:]"
     ],
     "language": "python",
     "metadata": {},
     "outputs": [
      {
       "output_type": "stream",
       "stream": "stderr",
       "text": [
        "-c:11: DeprecationWarning: using a non-integer number instead of an integer will result in an error in the future\n",
        "-c:11: DeprecationWarning: using a non-integer number instead of an integer will result in an error in the future\n",
        "-c:12: DeprecationWarning: using a non-integer number instead of an integer will result in an error in the future\n",
        "-c:12: DeprecationWarning: using a non-integer number instead of an integer will result in an error in the future\n"
       ]
      }
     ],
     "prompt_number": 61
    },
    {
     "cell_type": "markdown",
     "metadata": {},
     "source": [
      "__Ignoring the above warnings for now.__\n",
      "\n",
      "Ran the code below, took a while (less than an hour though):"
     ]
    },
    {
     "cell_type": "code",
     "collapsed": false,
     "input": [
      "#reinitialise a logistic regression model\n",
      "logmodel = sklm.LogisticRegression()\n",
      "#fit it again\n",
      "logmodel.fit(Xtrain,ytrain)\n",
      "#test it again\n",
      "estimates = logmodel.predict_proba(Xtest)\n",
      "#recalc the roc curve\n",
      "fpr, tpr, thresholds = roc_curve(ytest,estimates[:,1])\n",
      "#print area under roc curve\n",
      "roc_auc = auc(fpr,tpr)\n",
      "print \"Area under ROC curve: %.2f\"%(roc_auc)\n",
      "#replot the roc curve\n",
      "plotroc(fpr,tpr)"
     ],
     "language": "python",
     "metadata": {},
     "outputs": [
      {
       "output_type": "stream",
       "stream": "stdout",
       "text": [
        "Area under ROC curve: 0.94\n"
       ]
      },
      {
       "metadata": {},
       "output_type": "display_data",
       "png": "[encoded data removed]",
       "text": [
        "<matplotlib.figure.Figure at 0x11946390>"
       ]
      }
     ],
     "prompt_number": 62
    },
    {
     "cell_type": "markdown",
     "metadata": {},
     "source": [
      "To recalculate the R50 will need to know the size of the test set:"
     ]
    },
    {
     "cell_type": "code",
     "collapsed": false,
     "input": [
      "len(ytest)"
     ],
     "language": "python",
     "metadata": {},
     "outputs": [
      {
       "metadata": {},
       "output_type": "pyout",
       "prompt_number": 63,
       "text": [
        "48050"
       ]
      }
     ],
     "prompt_number": 63
    },
    {
     "cell_type": "markdown",
     "metadata": {},
     "source": [
      "So we can only tolerate a false positive rate of:"
     ]
    },
    {
     "cell_type": "code",
     "collapsed": false,
     "input": [
      "r50fpr = 50.0/len(ytest)\n",
      "print r50fpr"
     ],
     "language": "python",
     "metadata": {},
     "outputs": [
      {
       "output_type": "stream",
       "stream": "stdout",
       "text": [
        "0.00104058272633\n"
       ]
      }
     ],
     "prompt_number": 69
    },
    {
     "cell_type": "markdown",
     "metadata": {},
     "source": [
      "Then we can calculate the R50 for this:"
     ]
    },
    {
     "cell_type": "code",
     "collapsed": false,
     "input": [
      "roccrv = pd.DataFrame(array([fpr,tpr]).T)\n",
      "r50 = auc(*zip(*roccrv[roccrv[0]<r50fpr].values))\n",
      "print \"The R50 value for this ROC curve is %.2f\"%r50"
     ],
     "language": "python",
     "metadata": {},
     "outputs": [
      {
       "output_type": "stream",
       "stream": "stdout",
       "text": [
        "The R50 value for this ROC curve is 0.00\n"
       ]
      }
     ],
     "prompt_number": 70
    },
    {
     "cell_type": "markdown",
     "metadata": {},
     "source": [
      "So that can't be right. I'll ask the Machine Learning professors if they've heard of this value.\n",
      "In the mean time I think I can just recreate the test set used in the paper using the quote:\n",
      "\n",
      "> ...in our random test set, there are approximately 50 positive items (because 1 in 600 pairs are interacting and we selected 30,000 pairs)...\n",
      "\n",
      "What's the problem then? does the test set have too many positive items in it? The training and test have been shuffled in this example so how many positive examples are in there?"
     ]
    },
    {
     "cell_type": "code",
     "collapsed": false,
     "input": [
      "sum(ytest)"
     ],
     "language": "python",
     "metadata": {},
     "outputs": [
      {
       "metadata": {},
       "output_type": "pyout",
       "prompt_number": 72,
       "text": [
        "554"
       ]
      }
     ],
     "prompt_number": 72
    },
    {
     "cell_type": "markdown",
     "metadata": {},
     "source": [
      "That's a lot more than 50...\n",
      "\n",
      "Only other lead is that the paper says it uses a LR classifier that:\n",
      "\n",
      "> ...uses a ridge estimator for building a binary LR model.\n",
      "\n",
      "This is already a binary LR model so I guess I should make sure it's using a ridge estimator - ie make sure it is regularised.\n",
      "\n",
      "Asked the Machine Learning professors about the R50 value and they had never heard of it."
     ]
    },
    {
     "cell_type": "code",
     "collapsed": false,
     "input": [],
     "language": "python",
     "metadata": {},
     "outputs": []
    }
   ],
   "metadata": {}
  }
 ]
}