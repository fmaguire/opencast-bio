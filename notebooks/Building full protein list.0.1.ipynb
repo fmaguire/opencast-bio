{
 "metadata": {
  "name": "",
  "signature": "sha256:2c3ddac425306e653b0221625fd6d34fc626ae26ae1f75a1c63e1ca4c59f041d"
 },
 "nbformat": 3,
 "nbformat_minor": 0,
 "worksheets": [
  {
   "cells": [
    {
     "cell_type": "markdown",
     "metadata": {},
     "source": [
      "The aim here is to build a full list of proteins to test any data source against for coverage.\n",
      "There are three sources for the genes:\n",
      "\n",
      "1. Bait list used for pulldown experiment\n",
      "2. Prey list resulting from pulldown experiment\n",
      "3. Gold standard data set used to train classifier - in this case using the DIP dataset\n",
      "\n",
      "The first two should be easy, but the third I'm going to have to figure out.\n",
      "Start by loading in the bait and prey lists:"
     ]
    },
    {
     "cell_type": "code",
     "collapsed": false,
     "input": [
      "cd /home/gavin/Documents/MRes/forGAVIN/pulldown_data/"
     ],
     "language": "python",
     "metadata": {},
     "outputs": [
      {
       "output_type": "stream",
       "stream": "stdout",
       "text": [
        "/home/gavin/Documents/MRes/forGAVIN/pulldown_data\n"
       ]
      }
     ],
     "prompt_number": 1
    },
    {
     "cell_type": "code",
     "collapsed": false,
     "input": [
      "#loading in bait list\n",
      "import csv\n",
      "f = open(\"BAITS/baits_entrez_ids.csv\")\n",
      "c = csv.reader(f)\n",
      "baitids = []\n",
      "for l in c:\n",
      "    #to avoid empty rows\n",
      "    if l:\n",
      "        baitids.append(l[0])"
     ],
     "language": "python",
     "metadata": {},
     "outputs": [],
     "prompt_number": 3
    },
    {
     "cell_type": "code",
     "collapsed": false,
     "input": [
      "#loading in prey list\n",
      "f = open(\"PREYS/prey_entrez_ids.csv\")\n",
      "c = csv.reader(f)\n",
      "preyids = []\n",
      "for l in c:\n",
      "    #to avoid empty rows\n",
      "    if l:\n",
      "        preyids.append(l[0])\n",
      "preyids = preyids[:-2]"
     ],
     "language": "python",
     "metadata": {},
     "outputs": [],
     "prompt_number": 21
    },
    {
     "cell_type": "markdown",
     "metadata": {},
     "source": [
      "### DIP protein list\n",
      "\n",
      "Used by Qi as a reliable source of true protein interactions.\n",
      "The easy route is to use [the list provided by the Qi paper][qiDIPlist]\n",
      "Then just remove duplicates and convert to Entrez.\n",
      "\n",
      "Another approach would be to retreive the full mouse and human datasets from the [actual DIP website][dipdownloads].\n",
      "Appears they are provided in the form of FASTA files and then I suppose it would be possible to find the associated Entrez-ID.\n",
      "I'm not sure, but that might have to be done with BLAST.\n",
      "\n",
      "So basically, the question is how to retreive an Entrez-ID from a sequence.\n",
      "Let's see if I can do this with Biopython:\n",
      "\n",
      "[qidiplist]: http://www.cs.cmu.edu/afs/cs.cmu.edu/project/structure-9/PPI/proteins05-data-share/phyInteract/dipsPosPair\n",
      "[dipdownloads]: http://dip.doe-mbi.ucla.edu/dip/Download.cgi"
     ]
    },
    {
     "cell_type": "code",
     "collapsed": false,
     "input": [
      "from Bio import Entrez\n",
      "from Bio import SeqIO\n",
      "Entrez.email = \"gavingray1729@gmail.com\""
     ],
     "language": "python",
     "metadata": {},
     "outputs": []
    },
    {
     "cell_type": "code",
     "collapsed": false,
     "input": [
      "testhandle = Entrez.efetch(db=\"nucleotide\", id=baitids[0], rettype=\"gb\", retmode=\"text\")\n",
      "testrecord = SeqIO.read(testhandle, 'genbank')"
     ],
     "language": "python",
     "metadata": {},
     "outputs": [],
     "prompt_number": 16
    },
    {
     "cell_type": "markdown",
     "metadata": {},
     "source": [
      "So now we have a sequence that we want to use to get back the original Entrez-ID number:"
     ]
    },
    {
     "cell_type": "code",
     "collapsed": false,
     "input": [
      "testrecord.seq"
     ],
     "language": "python",
     "metadata": {},
     "outputs": [
      {
       "metadata": {},
       "output_type": "pyout",
       "prompt_number": 18,
       "text": [
        "Seq('ATGAGCNNNAGTGGGGAACAGGTACGCAGCTTCCTGGATGGGAACCCCACGTTT...ATA', IUPACAmbiguousDNA())"
       ]
      }
     ],
     "prompt_number": 18
    },
    {
     "cell_type": "markdown",
     "metadata": {},
     "source": [
      "__Cancel that, talked to Colin.__\n",
      "\n",
      "Turns out the FASTA records have uniprot identifiers in them so we can just batch convert the uniprot IDs to Entrez-IDs using the tools on the [uniprot web site][uniprot].\n",
      "\n",
      "So the important thing now is to get a list of all the human proteins that have interaction data in the DIP database.\n",
      "Looking around the website. [This page][dipfasta] contains files with all the proteins in the DIP database.\n",
      "\n",
      "It's not split by species, so can either use that file and split it by species myself or take the human interaction file and remove the duplicates myself.\n",
      "Looking at both files.\n",
      "\n",
      "[uniprot]: http://www.uniprot.org/\n",
      "[dipfasta]: http://dip.doe-mbi.ucla.edu/dip/Download.cgi?SM=4"
     ]
    },
    {
     "cell_type": "code",
     "collapsed": false,
     "input": [
      "cd /home/gavin/Documents/MRes/DIP/"
     ],
     "language": "python",
     "metadata": {},
     "outputs": [
      {
       "output_type": "stream",
       "stream": "stdout",
       "text": [
        "/home/gavin/Documents/MRes/DIP\n"
       ]
      }
     ],
     "prompt_number": 23
    },
    {
     "cell_type": "code",
     "collapsed": false,
     "input": [
      "ls"
     ],
     "language": "python",
     "metadata": {},
     "outputs": [
      {
       "output_type": "stream",
       "stream": "stdout",
       "text": [
        "\u001b[0m\u001b[40m\u001b[m\u001b[00mfasta20131201.seq\u001b[0m  \u001b[40m\u001b[m\u001b[00mHsapi20140427.txt\u001b[0m\r\n"
       ]
      }
     ],
     "prompt_number": 24
    },
    {
     "cell_type": "code",
     "collapsed": false,
     "input": [
      "%%bash\n",
      "wc -l Hsapi20140427.txt\n",
      "wc -l fasta20131201.seq\n",
      "head -n 2 Hsapi20140427.txt"
     ],
     "language": "python",
     "metadata": {},
     "outputs": [
      {
       "output_type": "stream",
       "stream": "stdout",
       "text": [
        "5952 Hsapi20140427.txt\n",
        "51498 fasta20131201.seq\n",
        "ID interactor A\tID interactor B\tAlt. ID interactor A\tAlt. ID interactor B\tAlias(es) interactor A\tAlias(es) interactor B\tInteraction detection method(s)\tPublication 1st author(s)\tPublication Identifier(s)\tTaxid interactor A\tTaxid interactor B\tInteraction type(s)\tSource database(s)\tInteraction identifier(s)\tConfidence value(s)\tProcessing Status\t\n",
        "DIP-328N\tDIP-232N|uniprotkb:Q07812\t -\t-\t-\t-\tMI:0007(anti tag coimmunoprecipitation)|MI:0045(experimental interaction detection)|MI:0007(anti tag coimmunoprecipitation)|MI:0006(anti bait coimmunoprecipitation)\t-\tpubmed:18981409|pubmed:DIP-11730S|pubmed:9194558|pubmed:DIP-209S|pubmed:18981409|pubmed:DIP-11730S|pubmed:18547146|pubmed:DIP-11423S\ttaxid:9606(Homo sapiens)\ttaxid:9606(Homo sapiens)\tMI:0915(physical association)|MI:0218(physical interaction)|MI:0915(physical association)|MI:0407(direct interaction)\tMI:0465(dip)\tDIP-1E\tdip-quality-status:core\tdip:0004(small scale)|dip:0002(small scale)|dip:0004(small scale)|dip:0004(small scale)\t\t-\n"
       ]
      }
     ],
     "prompt_number": 30
    },
    {
     "cell_type": "markdown",
     "metadata": {},
     "source": [
      "Well, the `Hsapi20140427.txt` file isn't very nice to look at.\n",
      "Appears some of the lines contain proteins with uniprot identifiers and some only have the DIP's own reference number.\n",
      "Would be useful to know if the full list also has lines with no refseq or uniprot identifiers.\n",
      "Can do this with grep ([instructions here][grepwithout]):\n",
      "\n",
      "[grepwithout]: http://stackoverflow.com/questions/13260031/grep-without-string"
     ]
    },
    {
     "cell_type": "code",
     "collapsed": false,
     "input": [
      "%%bash\n",
      "grep \"dip\" fasta20131201.seq | grep -v \"uniprot\" | grep -v \"refseq\" > norefeqoruniprot\n",
      "head norefeqoruniprot\n",
      "wc -l norefeqoruniprot"
     ],
     "language": "python",
     "metadata": {},
     "outputs": [
      {
       "output_type": "stream",
       "stream": "stdout",
       "text": [
        ">dip:DIP-29153N\n",
        ">dip:DIP-29282N\n",
        ">dip:DIP-29314N\n",
        ">dip:DIP-29319N\n",
        ">dip:DIP-29320N\n",
        ">dip:DIP-29321N\n",
        ">dip:DIP-29328N\n",
        ">dip:DIP-29329N\n",
        ">dip:DIP-29337N\n",
        ">dip:DIP-29390N\n",
        "296 norefeqoruniprot\n"
       ]
      }
     ],
     "prompt_number": 36
    },
    {
     "cell_type": "markdown",
     "metadata": {},
     "source": [
      "Looks like there's 296 in there then.\n",
      "Better make sure we can convert this DIP identifier to Entrez.\n",
      "At the moment don't know of a way to do this.\n",
      "\n",
      "Well, giving up on that file now, because even if I can solve that problem I'll still have to come up with a way to find the human proteins in there.\n",
      "So I should focus on parsing the the `Hsapi20140427.txt` for the proteins.\n",
      "Could just disregard lines which can't be mapped to Entrez-IDs?"
     ]
    },
    {
     "cell_type": "code",
     "collapsed": false,
     "input": [
      "c = csv.reader(open(\"Hsapi20140427.txt\"), delimiter=\"\\t\")"
     ],
     "language": "python",
     "metadata": {},
     "outputs": [],
     "prompt_number": 61
    },
    {
     "cell_type": "code",
     "collapsed": false,
     "input": [
      "#skip first line\n",
      "c.next()\n",
      "#take out the first two strings for every line\n",
      "IDstrings = map(lambda x: (x[0],x[1]), c )"
     ],
     "language": "python",
     "metadata": {},
     "outputs": [],
     "prompt_number": 62
    },
    {
     "cell_type": "markdown",
     "metadata": {},
     "source": [
      "The below uniqueifier is from [this stackoverflow post](http://stackoverflow.com/questions/480214/how-do-you-remove-duplicates-from-a-list-in-python-whilst-preserving-order)."
     ]
    },
    {
     "cell_type": "code",
     "collapsed": false,
     "input": [
      "from collections import OrderedDict\n",
      "# would quite like to flatten this list\n",
      "# then remove duplicate entries\n",
      "IDstrings = list(OrderedDict.fromkeys(flatten(IDstrings)))\n",
      "print \"Number of proteins in DIP human dataset is %i\"%len(IDstrings)"
     ],
     "language": "python",
     "metadata": {},
     "outputs": [
      {
       "output_type": "stream",
       "stream": "stdout",
       "text": [
        "Number of proteins in DIP human dataset is 4026\n"
       ]
      }
     ],
     "prompt_number": 72
    },
    {
     "cell_type": "code",
     "collapsed": false,
     "input": [
      "print \"Example entries:\"\n",
      "print IDstrings[0:10]"
     ],
     "language": "python",
     "metadata": {},
     "outputs": [
      {
       "output_type": "stream",
       "stream": "stdout",
       "text": [
        "Example entries:\n",
        "['DIP-328N', 'DIP-232N|uniprotkb:Q07812', 'DIP-1048N|refseq:NP_002871|uniprotkb:P04049', 'DIP-1043N|refseq:NP_000624|uniprotkb:P10415', 'DIP-368N|uniprotkb:P04637', 'DIP-257N|refseq:NP_001420|uniprotkb:Q09472', 'DIP-748N|uniprotkb:P43268', 'DIP-765N|uniprotkb:P16220', 'DIP-952N|refseq:NP_004371|uniprotkb:Q92793', 'DIP-624N|refseq:NP_001073885|uniprotkb:P10243']\n"
       ]
      }
     ],
     "prompt_number": 73
    },
    {
     "cell_type": "markdown",
     "metadata": {},
     "source": [
      "Next have to remove entries that only have DIP identifiers because I can't work with those.\n",
      "Or I could just split all the strings by the `|` and split it up into the different identifier types and push all three files through the uniprot web system."
     ]
    },
    {
     "cell_type": "code",
     "collapsed": false,
     "input": [
      "splitstrings = map(lambda x: x.split(\"|\"), IDstrings)\n",
      "# then have to sort into three lists\n",
      "# get ready for some super readable code\n",
      "# who needs programming efficiency?\n",
      "DIPIDs = []\n",
      "uniprotIDs = []\n",
      "refseqIDs = []\n",
      "for line in splitstrings:\n",
      "    #can only look at the strings themselves to sort\n",
      "    for s in line:\n",
      "        #test for each case:\n",
      "        if \"DIP\" in s:\n",
      "            DIPIDs.append(s)\n",
      "        elif \"uniprot\" in s:\n",
      "            uniprotIDs.append(s)\n",
      "        elif \"refseq\" in s:\n",
      "            refseqIDs.append(s)"
     ],
     "language": "python",
     "metadata": {},
     "outputs": [],
     "prompt_number": 115
    },
    {
     "cell_type": "code",
     "collapsed": false,
     "input": [
      "csv.writer(open(\"DIPIDs.txt\", \"w\"),delimiter=\"\\n\").writerow(DIPIDs)\n",
      "csv.writer(open(\"uniprotIDs.txt\", \"w\"),delimiter=\"\\n\").writerow(uniprotIDs)\n",
      "csv.writer(open(\"refseqIDs.txt\", \"w\"),delimiter=\"\\n\").writerow(refseqIDs)"
     ],
     "language": "python",
     "metadata": {},
     "outputs": [],
     "prompt_number": 95
    },
    {
     "cell_type": "markdown",
     "metadata": {},
     "source": [
      "Using the uniprot website to map these to Entrez.\n",
      "Starting with the DIP IDs, got two files out:\n",
      "\n",
      "1. A mapping table from DIP to uniprot ID\n",
      "2. A list of targets\n",
      "\n",
      "Interestingly, though, these two files are completely different lengths. Which could mean that a number of the DIP IDs map to the same uniprot ID. Checking if this is the case:"
     ]
    },
    {
     "cell_type": "code",
     "collapsed": false,
     "input": [
      "#load in DIP mapping table\n",
      "c = csv.reader(open(\"DIPmappingtable.tab\"), delimiter=\"\\t\")\n",
      "#ignore first row\n",
      "c.next()\n",
      "# convert to lists\n",
      "DIPmap = list(c)\n",
      "# unpack and zip to get uniprot\n",
      "u = zip(*DIPmap)[1]\n",
      "# how long is it to start with\n",
      "print \"Before removing duplicates length of uniprot is %i\"%len(u)\n",
      "# then remove duplicates\n",
      "u = list(OrderedDict.fromkeys(u))\n",
      "# how long is it now?\n",
      "print \"After removing duplicates length of uniprot is %i\"%len(u)"
     ],
     "language": "python",
     "metadata": {},
     "outputs": [
      {
       "output_type": "stream",
       "stream": "stdout",
       "text": [
        "Before removing duplicates length of uniprot is 3609\n",
        "After removing duplicates length of uniprot is 3564\n"
       ]
      }
     ],
     "prompt_number": 131
    },
    {
     "cell_type": "markdown",
     "metadata": {},
     "source": [
      "~~Ok, so __what the heck is the target list in that case?__~~\n",
      "\n",
      "Turns out looking at that list file I actually downloaded an xml file instead of what I wanted to download. Downloaded the right file and it matches the above after removing duplicates so the target list is what I initially thought it was.\n",
      "\n",
      "Naively continuing - Adding this list of uniprot identifiers to the list of uniprot identifiers we already have and saving this file:"
     ]
    },
    {
     "cell_type": "code",
     "collapsed": false,
     "input": [
      "#remove the uniprot preceding in uniprotIDs:\n",
      "uniprotIDs = map(lambda x: x.split(\":\")[1],uniprotIDs)"
     ],
     "language": "python",
     "metadata": {},
     "outputs": [],
     "prompt_number": 116
    },
    {
     "cell_type": "code",
     "collapsed": false,
     "input": [
      "csv.writer(open(\"uniprotplusDIPderived.txt\", \"w\"),delimiter=\"\\n\").writerow(uniprotIDs+u)"
     ],
     "language": "python",
     "metadata": {},
     "outputs": [],
     "prompt_number": 109
    },
    {
     "cell_type": "markdown",
     "metadata": {},
     "source": [
      "Running this through uniprot website to convert to Entrez-ID threw a warning:\n",
      "\n",
      "> Only IDs from the file are being mapped.\n",
      "\n",
      "Didn't really know what to make of this, so tried the uniprotIDs taken straight from the DIP file.\n",
      "It throws the _same error_ by itself and fails to match _any_ Entrez-IDs.\n",
      "Is there some syntax problem?"
     ]
    },
    {
     "cell_type": "code",
     "collapsed": false,
     "input": [
      "print uniprotIDs[0]\n",
      "print u[0]"
     ],
     "language": "python",
     "metadata": {},
     "outputs": [
      {
       "output_type": "stream",
       "stream": "stdout",
       "text": [
        "Q07812\n",
        "Q07812\n"
       ]
      }
     ],
     "prompt_number": 119
    },
    {
     "cell_type": "markdown",
     "metadata": {},
     "source": [
      "Appears some number of these even have the same name so seems like it shouldn't be a syntax problem.\n",
      "Should probably remove duplicates before sending this to uniprot.\n",
      "Some of the entries also have extra numbers after dashes I could try slicing off as well."
     ]
    },
    {
     "cell_type": "code",
     "collapsed": false,
     "input": [
      "#remove duplicates\n",
      "totaluniprot = list(OrderedDict.fromkeys(u+uniprotIDs))\n",
      "#slice off anything extra\n",
      "totaluniprot = map(lambda x: x.split(\"-\")[0], totaluniprot)"
     ],
     "language": "python",
     "metadata": {},
     "outputs": [],
     "prompt_number": 136
    },
    {
     "cell_type": "code",
     "collapsed": false,
     "input": [
      "print \"Length before removing duplicates was %i and after is now %i.\"%(len(u+uniprotIDs),len(totaluniprot))"
     ],
     "language": "python",
     "metadata": {},
     "outputs": [
      {
       "output_type": "stream",
       "stream": "stdout",
       "text": [
        "Length before removing duplicates was 7334 and after is now 3763.\n"
       ]
      }
     ],
     "prompt_number": 137
    },
    {
     "cell_type": "code",
     "collapsed": false,
     "input": [
      "#rewrite the file\n",
      "csv.writer(open(\"uniprotplusDIPderived.txt\", \"w\"),delimiter=\"\\n\").writerow(totaluniprot)"
     ],
     "language": "python",
     "metadata": {},
     "outputs": [],
     "prompt_number": 138
    },
    {
     "cell_type": "markdown",
     "metadata": {},
     "source": [
      "Putting this into uniprot and still getting the same error and still unsure why that is.\n",
      "__Ignoring the warning for now__.\n",
      "\n",
      "Put the file into uniprot converter and 3,592 of 3,763 were mapped. Saved the mapping table.\n",
      "\n",
      "Now just have to convert the refseq list to Entrez aswell then combine the lists and remove the duplicates.\n",
      "Then also map back to the sequences in the FASTA file.\n",
      "Then also use the above code to do the same for the mouse database (as we might get better coverage on that for features).\n",
      "\n",
      "Also, will need to map back to the interaction table to know which of these actually interacts.\n",
      "This can be done with the DIP identifiers, which I can now map back to with these tables."
     ]
    },
    {
     "cell_type": "code",
     "collapsed": false,
     "input": [
      "#first have to cutoff the \"refseq:\" in the refseqIDs file and rewrite\n",
      "refseqIDs = map(lambda x: x.split(\":\")[1],refseqIDs)\n",
      "csv.writer(open(\"refseqIDs.txt\", \"w\"),delimiter=\"\\n\").writerow(refseqIDs)"
     ],
     "language": "python",
     "metadata": {},
     "outputs": [],
     "prompt_number": 128
    },
    {
     "cell_type": "markdown",
     "metadata": {},
     "source": [
      "Putting this into uniprot mapped 2,135 of 2,189.\n",
      "Using this mapping table to add to the uniprot list as before:"
     ]
    },
    {
     "cell_type": "code",
     "collapsed": false,
     "input": [
      "#load in refseq mapping table\n",
      "c = csv.reader(open(\"refsequniprotmap.tab\"), delimiter=\"\\t\")\n",
      "#ignore first row\n",
      "c.next()\n",
      "# convert to lists\n",
      "refseqmap = list(c)\n",
      "# unpack and zip to get uniprot\n",
      "ur = zip(*refseqmap)[1]\n",
      "# how long is it to start with\n",
      "print \"Before removing duplicates length of uniprot is %i\"%len(u)\n",
      "# then remove duplicates\n",
      "ur = list(OrderedDict.fromkeys(u))\n",
      "# how long is it now?\n",
      "print \"After removing duplicates length of uniprot is %i\"%len(u)"
     ],
     "language": "python",
     "metadata": {},
     "outputs": [
      {
       "output_type": "stream",
       "stream": "stdout",
       "text": [
        "Before removing duplicates length of uniprot is 2708\n",
        "After removing duplicates length of uniprot is 2708\n"
       ]
      }
     ],
     "prompt_number": 130
    },
    {
     "cell_type": "markdown",
     "metadata": {},
     "source": [
      "__Wait a second__, how is the mapping table longer than the number of identifiers mapped? Is this just the general mapping table for all proteins or something?\n",
      "\n",
      "__Nope__, looks like the refseq IDs map onto multiple uniprot IDs...\n",
      "\n",
      "Combining everything together into a real total uniprot list:"
     ]
    },
    {
     "cell_type": "code",
     "collapsed": false,
     "input": [
      "#remove duplicates\n",
      "totaluniprot = list(OrderedDict.fromkeys(u+uniprotIDs+ur))\n",
      "#slice off anything extra\n",
      "totaluniprot = map(lambda x: x.split(\"-\")[0], totaluniprot)"
     ],
     "language": "python",
     "metadata": {},
     "outputs": [],
     "prompt_number": 139
    },
    {
     "cell_type": "code",
     "collapsed": false,
     "input": [
      "print \"Length before removing duplicates was %i and after is now %i.\"%(len(u+uniprotIDs+ur),len(totaluniprot))"
     ],
     "language": "python",
     "metadata": {},
     "outputs": [
      {
       "output_type": "stream",
       "stream": "stdout",
       "text": [
        "Length before removing duplicates was 10042 and after is now 4445.\n"
       ]
      }
     ],
     "prompt_number": 140
    },
    {
     "cell_type": "code",
     "collapsed": false,
     "input": [
      "#write the file\n",
      "csv.writer(open(\"total.uniprot.txt\", \"w\"),delimiter=\"\\n\").writerow(totaluniprot)"
     ],
     "language": "python",
     "metadata": {},
     "outputs": [],
     "prompt_number": 141
    },
    {
     "cell_type": "markdown",
     "metadata": {},
     "source": [
      "_Finally_, putting this file into the uniprot converter to get Entrez-IDs:\n",
      "\n",
      "> 4,261 out of 4,445 identifiers mapped to 3,760 identifiers in the target data set \n",
      "\n",
      "And looking at the final list of Entrez-IDs:"
     ]
    },
    {
     "cell_type": "code",
     "collapsed": false,
     "input": [
      "%%bash\n",
      "head total.Entrez.txt"
     ],
     "language": "python",
     "metadata": {},
     "outputs": [
      {
       "output_type": "stream",
       "stream": "stdout",
       "text": [
        "100\n",
        "1000\n",
        "100008616\n",
        "100008972\n",
        "100008979\n",
        "100009074\n",
        "100009265\n",
        "100009272\n",
        "100009278\n",
        "100009298\n"
       ]
      }
     ],
     "prompt_number": 142
    },
    {
     "cell_type": "markdown",
     "metadata": {},
     "source": [
      "To reiterate I would like to:\n",
      "\n",
      "1. Run the above code over the mouse interaction database from DIP as well\n",
      "2. Map the proteins which have Entrez IDs back to the interaction tables to build training sets\n",
      "3. Map the proteins back to their FASTA sequences from the full list from DIP\n",
      "\n",
      "Starting with number 1, going to first reorganise this directory a bit:"
     ]
    },
    {
     "cell_type": "code",
     "collapsed": false,
     "input": [
      "%%bash\n",
      "mkdir human\n",
      "mv * human/\n",
      "mv human/fasta20131201.seq ."
     ],
     "language": "python",
     "metadata": {},
     "outputs": [
      {
       "output_type": "stream",
       "stream": "stderr",
       "text": [
        "mkdir: cannot create directory \u2018human\u2019: File exists\n",
        "mv: cannot move \u2018human\u2019 to a subdirectory of itself, \u2018human/human\u2019\n"
       ]
      }
     ],
     "prompt_number": 144
    },
    {
     "cell_type": "code",
     "collapsed": false,
     "input": [
      "%%bash\n",
      "mkdir mouse"
     ],
     "language": "python",
     "metadata": {},
     "outputs": [],
     "prompt_number": 146
    },
    {
     "cell_type": "code",
     "collapsed": false,
     "input": [
      "# took the above code and combined it into a script\n",
      "from DIPscripts import DIPgetproteinIDs"
     ],
     "language": "python",
     "metadata": {},
     "outputs": [],
     "prompt_number": 181
    },
    {
     "cell_type": "code",
     "collapsed": false,
     "input": [
      "cd mouse"
     ],
     "language": "python",
     "metadata": {},
     "outputs": [
      {
       "output_type": "stream",
       "stream": "stdout",
       "text": [
        "/home/gavin/Documents/MRes/DIP/mouse\n"
       ]
      }
     ],
     "prompt_number": 177
    },
    {
     "cell_type": "code",
     "collapsed": false,
     "input": [
      "ls"
     ],
     "language": "python",
     "metadata": {},
     "outputs": [
      {
       "output_type": "stream",
       "stream": "stdout",
       "text": [
        "\u001b[0m\u001b[40m\u001b[m\u001b[00mMmusc20140427.txt\u001b[0m\r\n"
       ]
      }
     ],
     "prompt_number": 164
    },
    {
     "cell_type": "code",
     "collapsed": false,
     "input": [
      "uniprotIDs = DIPscripts.DIPgetproteinIDs(\"Mmusc20140427.txt\")"
     ],
     "language": "python",
     "metadata": {},
     "outputs": [
      {
       "output_type": "stream",
       "stream": "stdout",
       "text": [
        "Number of proteins in DIP dataset is 1873\n",
        "Example entries:\n",
        "['DIP-559N', 'DIP-445N|uniprotkb:P46414', 'DIP-497N|uniprotkb:P43063', 'DIP-165N|uniprotkb:P15692', 'DIP-215N|uniprotkb:P35918', 'DIP-1084N|uniprotkb:P03995', 'DIP-1081N|uniprotkb:P04273', 'DIP-1065N|refseq:NP_033871|uniprotkb:P10417', 'DIP-4N|refseq:NP_035300|uniprotkb:P04925', 'DIP-53N|refseq:NP_057869|uniprotkb:P17095']\n"
       ]
      }
     ],
     "prompt_number": 186
    },
    {
     "cell_type": "code",
     "collapsed": false,
     "input": [
      "ls"
     ],
     "language": "python",
     "metadata": {},
     "outputs": [
      {
       "output_type": "stream",
       "stream": "stdout",
       "text": [
        "\u001b[0m\u001b[40m\u001b[m\u001b[00mDIPtouniprot.tab\u001b[0m  \u001b[40m\u001b[m\u001b[00mIDs.DIP.txt\u001b[0m  \u001b[40m\u001b[m\u001b[00mIDs.refseq.txt\u001b[0m  \u001b[40m\u001b[m\u001b[00mIDs.uniprot.txt\u001b[0m  \u001b[40m\u001b[m\u001b[00mMmusc20140427.txt\u001b[0m\r\n"
       ]
      }
     ],
     "prompt_number": 180
    },
    {
     "cell_type": "markdown",
     "metadata": {},
     "source": [
      "Then just have to retreive mapping tables as before by hand. Interestingly, looks like the protein interaction data for human is actually larger than that for mouse. For the DIP identifiers:\n",
      "\n",
      "> 1,689 out of 1,873 identifiers mapped to 1,680 identifiers in the target data set \n",
      "\n",
      "For the refseq identifiers:\n",
      "\n",
      "> 1,065 out of 1,079 identifiers mapped to 1,515 identifiers in the target data set \n",
      "\n",
      "Then just need another script to use the code above to combine the three files into one total uniprot file and then I can put that into the coverter and get another list of Entrez-IDs for mouse."
     ]
    },
    {
     "cell_type": "code",
     "collapsed": false,
     "input": [
      "cd .."
     ],
     "language": "python",
     "metadata": {},
     "outputs": [
      {
       "output_type": "stream",
       "stream": "stdout",
       "text": [
        "/home/gavin/Documents/MRes/DIP\n"
       ]
      }
     ],
     "prompt_number": 216
    },
    {
     "cell_type": "code",
     "collapsed": false,
     "input": [
      "reload(DIPscripts)"
     ],
     "language": "python",
     "metadata": {},
     "outputs": [
      {
       "metadata": {},
       "output_type": "pyout",
       "prompt_number": 217,
       "text": [
        "<module 'DIPscripts' from 'DIPscripts.py'>"
       ]
      }
     ],
     "prompt_number": 217
    },
    {
     "cell_type": "code",
     "collapsed": false,
     "input": [
      "cd mouse/"
     ],
     "language": "python",
     "metadata": {},
     "outputs": [
      {
       "output_type": "stream",
       "stream": "stdout",
       "text": [
        "/home/gavin/Documents/MRes/DIP/mouse\n"
       ]
      }
     ],
     "prompt_number": 218
    },
    {
     "cell_type": "code",
     "collapsed": false,
     "input": [
      "ls"
     ],
     "language": "python",
     "metadata": {},
     "outputs": [
      {
       "output_type": "stream",
       "stream": "stdout",
       "text": [
        "\u001b[0m\u001b[40m\u001b[m\u001b[00mDIPtouniprot.tab\u001b[0m  \u001b[40m\u001b[m\u001b[00mIDs.DIP.txt\u001b[0m  \u001b[40m\u001b[m\u001b[00mIDs.refseq.txt\u001b[0m  \u001b[40m\u001b[m\u001b[00mIDs.uniprot.txt\u001b[0m  \u001b[40m\u001b[m\u001b[00mMmusc20140427.txt\u001b[0m  \u001b[40m\u001b[m\u001b[00mrefseqtouniprot.tab\u001b[0m\r\n"
       ]
      }
     ],
     "prompt_number": 219
    },
    {
     "cell_type": "code",
     "collapsed": false,
     "input": [
      "totaluniprotIDs = DIPscripts.gettotaluniprot(\"DIPtouniprot.tab\",\"refseqtouniprot.tab\",uniprotIDs)"
     ],
     "language": "python",
     "metadata": {},
     "outputs": [
      {
       "output_type": "stream",
       "stream": "stdout",
       "text": [
        "Before removing duplicates length of uniprot is 1689\n",
        "After removing duplicates length of uniprot is 1680\n",
        "Before removing duplicates length of uniprot is 1680\n",
        "After removing duplicates length of uniprot is 1680\n",
        "Length before removing duplicates was 5167 and after is now 1815.\n"
       ]
      }
     ],
     "prompt_number": 220
    },
    {
     "cell_type": "markdown",
     "metadata": {},
     "source": [
      "Then plugging the full uniprot file into the uniprot converter I get:\n",
      "\n",
      "> 1,686 out of 1,815 identifiers mapped to 1,702 identifiers in the target data set\n",
      "\n",
      "Downloaded the target list and having a look at it here:"
     ]
    },
    {
     "cell_type": "code",
     "collapsed": false,
     "input": [
      "%%bash\n",
      "head total.Entrez.txt"
     ],
     "language": "python",
     "metadata": {},
     "outputs": [
      {
       "output_type": "stream",
       "stream": "stdout",
       "text": [
        "100009074\n",
        "100009325\n",
        "100039053\n",
        "100039863\n",
        "100039939\n",
        "100040048\n",
        "100041230\n",
        "10006\n",
        "10014\n",
        "100154254\n"
       ]
      }
     ],
     "prompt_number": 221
    },
    {
     "cell_type": "markdown",
     "metadata": {},
     "source": [
      "Now:\n",
      "\n",
      "1. ~~Run the above code over the mouse interaction database from DIP as well~~\n",
      "2. Map the proteins which have Entrez IDs back to the interaction tables to build training sets\n",
      "3. Map the proteins back to their FASTA sequences from the full list from DIP\n",
      "\n",
      "Moving onto the next thing. Mapping back to the interaction tables.\n",
      "This is actually pretty similar to the other one and I think should be pretty easy with dictionaries.\n",
      "Using the mapping tables to build a converter from Entrez ID to DIP ID.\n",
      "\n",
      "## Entrez-DIP dictionary construction\n",
      "\n",
      "Had errors writing this part because I forgot to change directory before starting and mixed up the human and mouse variables:"
     ]
    },
    {
     "cell_type": "code",
     "collapsed": false,
     "input": [
      "cd /home/gavin/Documents/MRes/DIP/human"
     ],
     "language": "python",
     "metadata": {},
     "outputs": [
      {
       "output_type": "stream",
       "stream": "stdout",
       "text": [
        "/home/gavin/Documents/MRes/DIP/human\n"
       ]
      }
     ],
     "prompt_number": 334
    },
    {
     "cell_type": "markdown",
     "metadata": {},
     "source": [
      "Had to also generate the `uniprottoEntrez.tab`:\n",
      "\n",
      "> 4,261 out of 4,445 identifiers mapped to 3,760 identifiers in the target data set \n",
      "\n",
      "Also renaming `Dipmappingtable.tab`:"
     ]
    },
    {
     "cell_type": "code",
     "collapsed": false,
     "input": [
      "%%bash\n",
      "mv DIPmappingtable.tab DIPtouniprot.tab"
     ],
     "language": "python",
     "metadata": {},
     "outputs": [],
     "prompt_number": 319
    },
    {
     "cell_type": "code",
     "collapsed": false,
     "input": [
      "# will need two dictionaries to do this\n",
      "# one for Entrez - uniprot\n",
      "c = csv.reader(open(\"uniprottoEntrez.tab\"), delimiter=\"\\t\")\n",
      "#skip first line\n",
      "c.next()\n",
      "# extract to lists\n",
      "cl = list(c)\n",
      "# initialise dictionary\n",
      "uniEntrez = {}\n",
      "# fill with empty lists\n",
      "for l in cl:\n",
      "    uniEntrez[l[1]] = []\n",
      "#then fill these lists\n",
      "for l in cl:\n",
      "    uniEntrez[l[1]].append(l[0])\n",
      "# and one for uniprot - DIP1\n",
      "c = csv.reader(open(\"DIPtouniprot.tab\"), delimiter=\"\\t\")\n",
      "c.next()\n",
      "cl = list(c)\n",
      "DIPuni = {}\n",
      "for l in cl:\n",
      "    DIPuni[l[1]] = []\n",
      "for l in cl:\n",
      "    DIPuni[l[1]].append(l[0])\n",
      "def EntreztoDIP(sEntrez,uniEntrez,DIPuni):\n",
      "    \"\"\"take an Entrez ID and map it back to a DIP ID using the two dictionaries:\n",
      "    uniEntrez - Entrez to uniprot dictionary\n",
      "    DIPuni - uniprot to DIP dictionary\"\"\"\n",
      "    uniprot = uniEntrez[sEntrez]\n",
      "    #have to make sure one of the uniprot IDs matches\n",
      "    for i in uniprot:\n",
      "        try:\n",
      "            DIP = DIPuni[i]\n",
      "        except KeyError:\n",
      "            pass\n",
      "    return DIP"
     ],
     "language": "python",
     "metadata": {},
     "outputs": [],
     "prompt_number": 335
    },
    {
     "cell_type": "markdown",
     "metadata": {},
     "source": [
      "Then just load in the Entrez-IDs and feed those into this function:"
     ]
    },
    {
     "cell_type": "code",
     "collapsed": false,
     "input": [
      "c = csv.reader(open(\"total.Entrez.txt\"), delimiter=\"\\n\")\n",
      "EntrezIDs = list(flatten(list(c)))"
     ],
     "language": "python",
     "metadata": {},
     "outputs": [],
     "prompt_number": 321
    },
    {
     "cell_type": "code",
     "collapsed": false,
     "input": [
      "EntrezDIPdict = {}\n",
      "for i in EntrezIDs:\n",
      "    EntrezDIPdict[i] = EntreztoDIP(i,uniEntrez,DIPuni)"
     ],
     "language": "python",
     "metadata": {},
     "outputs": [
      {
       "ename": "UnboundLocalError",
       "evalue": "local variable 'DIP' referenced before assignment",
       "output_type": "pyerr",
       "traceback": [
        "\u001b[1;31m---------------------------------------------------------------------------\u001b[0m\n\u001b[1;31mUnboundLocalError\u001b[0m                         Traceback (most recent call last)",
        "\u001b[1;32m<ipython-input-322-2aded2ca04cd>\u001b[0m in \u001b[0;36m<module>\u001b[1;34m()\u001b[0m\n\u001b[0;32m      1\u001b[0m \u001b[0mEntrezDIPdict\u001b[0m \u001b[1;33m=\u001b[0m \u001b[1;33m{\u001b[0m\u001b[1;33m}\u001b[0m\u001b[1;33m\u001b[0m\u001b[0m\n\u001b[0;32m      2\u001b[0m \u001b[1;32mfor\u001b[0m \u001b[0mi\u001b[0m \u001b[1;32min\u001b[0m \u001b[0mEntrezIDs\u001b[0m\u001b[1;33m:\u001b[0m\u001b[1;33m\u001b[0m\u001b[0m\n\u001b[1;32m----> 3\u001b[1;33m     \u001b[0mEntrezDIPdict\u001b[0m\u001b[1;33m[\u001b[0m\u001b[0mi\u001b[0m\u001b[1;33m]\u001b[0m \u001b[1;33m=\u001b[0m \u001b[0mEntreztoDIP\u001b[0m\u001b[1;33m(\u001b[0m\u001b[0mi\u001b[0m\u001b[1;33m,\u001b[0m\u001b[0muniEntrez\u001b[0m\u001b[1;33m,\u001b[0m\u001b[0mDIPuni\u001b[0m\u001b[1;33m)\u001b[0m\u001b[1;33m\u001b[0m\u001b[0m\n\u001b[0m",
        "\u001b[1;32m<ipython-input-320-25c3950a8b5d>\u001b[0m in \u001b[0;36mEntreztoDIP\u001b[1;34m(sEntrez, uniEntrez, DIPuni)\u001b[0m\n\u001b[0;32m     34\u001b[0m         \u001b[1;32mexcept\u001b[0m \u001b[0mKeyError\u001b[0m\u001b[1;33m:\u001b[0m\u001b[1;33m\u001b[0m\u001b[0m\n\u001b[0;32m     35\u001b[0m             \u001b[1;32mpass\u001b[0m\u001b[1;33m\u001b[0m\u001b[0m\n\u001b[1;32m---> 36\u001b[1;33m     \u001b[1;32mreturn\u001b[0m \u001b[0mDIP\u001b[0m\u001b[1;33m\u001b[0m\u001b[0m\n\u001b[0m",
        "\u001b[1;31mUnboundLocalError\u001b[0m: local variable 'DIP' referenced before assignment"
       ]
      }
     ],
     "prompt_number": 322
    },
    {
     "cell_type": "markdown",
     "metadata": {},
     "source": [
      "Ah, because some of the IDs were lost when converting from DIP to uniprot (ie some were known by using the uniprot converter and some were known from just the original table...).\n",
      "Will have to use the original table at this point to get this mapping."
     ]
    },
    {
     "cell_type": "code",
     "collapsed": false,
     "input": [
      "for l in splitstrings:\n",
      "    if len(l) > 1:\n",
      "        if \"uniprot\" in l[-1]:\n",
      "            DIPuni[l[-1].split(\":\")[-1]] = []\n",
      "for l in splitstrings:\n",
      "    if len(l) > 1:\n",
      "        if \"uniprot\" in l[-1]:\n",
      "            DIPuni[l[-1].split(\":\")[-1]].append(l[0])"
     ],
     "language": "python",
     "metadata": {},
     "outputs": [],
     "prompt_number": 323
    },
    {
     "cell_type": "markdown",
     "metadata": {},
     "source": [
      "And, as I feared, this is also true of the refseq values. So we need a uniprot to refseq dictionary and then we can build a refseq to DIP dictionary that we can use in the try statement above."
     ]
    },
    {
     "cell_type": "code",
     "collapsed": false,
     "input": [
      "%%bash\n",
      "mv refsequniprotmap.tab refseqtouniprot.tab"
     ],
     "language": "python",
     "metadata": {},
     "outputs": [],
     "prompt_number": 325
    },
    {
     "cell_type": "code",
     "collapsed": false,
     "input": [
      "# uniprot - refseq\n",
      "c = csv.reader(open(\"refseqtouniprot.tab\"), delimiter=\"\\t\")\n",
      "c.next()\n",
      "cl = list(c)\n",
      "unirefseq = {}\n",
      "for l in cl:\n",
      "    unirefseq[l[1]] = []\n",
      "for l in cl:\n",
      "    unirefseq[l[1]].append(l[0])\n",
      "for l in splitstrings:\n",
      "    if len(l) > 2:\n",
      "        if \"uniprot\" in l[-1]:\n",
      "            DIPuni[l[-1].split(\":\")[-1]] = []\n",
      "for l in splitstrings:\n",
      "    if len(l) > 2:\n",
      "        if \"uniprot\" in l[-1]:\n",
      "            DIPuni[l[-1].split(\":\")[-1]].append(l[1])"
     ],
     "language": "python",
     "metadata": {},
     "outputs": [],
     "prompt_number": 348
    },
    {
     "cell_type": "code",
     "collapsed": false,
     "input": [
      "# refseq - DIP\n",
      "refseqDIP = {}\n",
      "for l in splitstrings:\n",
      "    if len(l) > 1:\n",
      "        if \"refseq\" in l[1]:\n",
      "            refseqDIP[l[1].split(\":\")[-1]] = []\n",
      "for l in splitstrings:\n",
      "    if len(l) > 1:\n",
      "        if \"refseq\" in l[1]:\n",
      "            refseqDIP[l[1].split(\":\")[-1]].append(l[0])"
     ],
     "language": "python",
     "metadata": {},
     "outputs": [],
     "prompt_number": 349
    },
    {
     "cell_type": "code",
     "collapsed": false,
     "input": [
      "def EntreztoDIP(sEntrez,uniEntrez,DIPuni,refseqDIP,unirefseq):\n",
      "    \"\"\"take an Entrez ID and map it back to a DIP ID using the two dictionaries:\n",
      "    uniEntrez - Entrez to uniprot dictionary\n",
      "    DIPuni - uniprot to DIP dictionary\"\"\"\n",
      "    uniprot = uniEntrez[sEntrez]\n",
      "    #have to make sure one of the uniprot IDs matches\n",
      "    DIP = []\n",
      "    for i in uniprot:\n",
      "        try:\n",
      "            DIP += DIPuni[i]\n",
      "        except KeyError:\n",
      "            try:\n",
      "                refseq = unirefseq[i]\n",
      "                for j in refseq:\n",
      "                    try:\n",
      "                        DIP += refseqDIP[j]\n",
      "                    except KeyError:\n",
      "                        pass\n",
      "            except KeyError:\n",
      "                pass\n",
      "    if DIP == []:\n",
      "        raise ValueError('Failed to Retreive DIP ID for Entrez-ID %s'%sEntrez)\n",
      "    return DIP"
     ],
     "language": "python",
     "metadata": {},
     "outputs": [],
     "prompt_number": 343
    },
    {
     "cell_type": "code",
     "collapsed": false,
     "input": [
      "EntrezDIPdict = {}\n",
      "for i in EntrezIDs:\n",
      "    EntrezDIPdict[i] = EntreztoDIP(i,uniEntrez,DIPuni,refseqDIP,unirefseq)"
     ],
     "language": "python",
     "metadata": {},
     "outputs": [
      {
       "ename": "ValueError",
       "evalue": "Failed to Retreive DIP ID for Entrez-ID 100009298",
       "output_type": "pyerr",
       "traceback": [
        "\u001b[1;31m---------------------------------------------------------------------------\u001b[0m\n\u001b[1;31mValueError\u001b[0m                                Traceback (most recent call last)",
        "\u001b[1;32m<ipython-input-344-d982237c6a18>\u001b[0m in \u001b[0;36m<module>\u001b[1;34m()\u001b[0m\n\u001b[0;32m      1\u001b[0m \u001b[0mEntrezDIPdict\u001b[0m \u001b[1;33m=\u001b[0m \u001b[1;33m{\u001b[0m\u001b[1;33m}\u001b[0m\u001b[1;33m\u001b[0m\u001b[0m\n\u001b[0;32m      2\u001b[0m \u001b[1;32mfor\u001b[0m \u001b[0mi\u001b[0m \u001b[1;32min\u001b[0m \u001b[0mEntrezIDs\u001b[0m\u001b[1;33m:\u001b[0m\u001b[1;33m\u001b[0m\u001b[0m\n\u001b[1;32m----> 3\u001b[1;33m     \u001b[0mEntrezDIPdict\u001b[0m\u001b[1;33m[\u001b[0m\u001b[0mi\u001b[0m\u001b[1;33m]\u001b[0m \u001b[1;33m=\u001b[0m \u001b[0mEntreztoDIP\u001b[0m\u001b[1;33m(\u001b[0m\u001b[0mi\u001b[0m\u001b[1;33m,\u001b[0m\u001b[0muniEntrez\u001b[0m\u001b[1;33m,\u001b[0m\u001b[0mDIPuni\u001b[0m\u001b[1;33m,\u001b[0m\u001b[0mrefseqDIP\u001b[0m\u001b[1;33m,\u001b[0m\u001b[0munirefseq\u001b[0m\u001b[1;33m)\u001b[0m\u001b[1;33m\u001b[0m\u001b[0m\n\u001b[0m",
        "\u001b[1;32m<ipython-input-343-b0b2362c4710>\u001b[0m in \u001b[0;36mEntreztoDIP\u001b[1;34m(sEntrez, uniEntrez, DIPuni, refseqDIP, unirefseq)\u001b[0m\n\u001b[0;32m     20\u001b[0m                 \u001b[1;32mpass\u001b[0m\u001b[1;33m\u001b[0m\u001b[0m\n\u001b[0;32m     21\u001b[0m     \u001b[1;32mif\u001b[0m \u001b[0mDIP\u001b[0m \u001b[1;33m==\u001b[0m \u001b[1;33m[\u001b[0m\u001b[1;33m]\u001b[0m\u001b[1;33m:\u001b[0m\u001b[1;33m\u001b[0m\u001b[0m\n\u001b[1;32m---> 22\u001b[1;33m         \u001b[1;32mraise\u001b[0m \u001b[0mValueError\u001b[0m\u001b[1;33m(\u001b[0m\u001b[1;34m'Failed to Retreive DIP ID for Entrez-ID %s'\u001b[0m\u001b[1;33m%\u001b[0m\u001b[0msEntrez\u001b[0m\u001b[1;33m)\u001b[0m\u001b[1;33m\u001b[0m\u001b[0m\n\u001b[0m\u001b[0;32m     23\u001b[0m     \u001b[1;32mreturn\u001b[0m \u001b[0mDIP\u001b[0m\u001b[1;33m\u001b[0m\u001b[0m\n",
        "\u001b[1;31mValueError\u001b[0m: Failed to Retreive DIP ID for Entrez-ID 100009298"
       ]
      }
     ],
     "prompt_number": 344
    },
    {
     "cell_type": "markdown",
     "metadata": {},
     "source": [
      "So finally it appears to run, but there's still something going wrong with it:"
     ]
    },
    {
     "cell_type": "code",
     "collapsed": false,
     "input": [
      "print EntrezDIPdict['12015']"
     ],
     "language": "python",
     "metadata": {},
     "outputs": [
      {
       "output_type": "stream",
       "stream": "stdout",
       "text": [
        "['refseq:NP_031548']\n"
       ]
      }
     ],
     "prompt_number": 339
    },
    {
     "cell_type": "markdown",
     "metadata": {},
     "source": [
      "Why's it returning a refseq value? Tracing.\n",
      "\n",
      "Refreshed above initialisation of DIPuni dictionary and now works. Annoying because now I don't really know how the error slipped in..."
     ]
    },
    {
     "cell_type": "code",
     "collapsed": false,
     "input": [
      "uniprot = uniEntrez['100009298']\n",
      "print uniprot\n",
      "#DIP = DIPuni[uniprot[0]]\n",
      "#print DIP\n",
      "refseq = unirefseq[uniprot[0]]\n",
      "print refseq"
     ],
     "language": "python",
     "metadata": {},
     "outputs": [
      {
       "output_type": "stream",
       "stream": "stdout",
       "text": [
        "['P08129']\n"
       ]
      },
      {
       "ename": "KeyError",
       "evalue": "'P08129'",
       "output_type": "pyerr",
       "traceback": [
        "\u001b[1;31m---------------------------------------------------------------------------\u001b[0m\n\u001b[1;31mKeyError\u001b[0m                                  Traceback (most recent call last)",
        "\u001b[1;32m<ipython-input-353-5f947cd28cf8>\u001b[0m in \u001b[0;36m<module>\u001b[1;34m()\u001b[0m\n\u001b[0;32m      3\u001b[0m \u001b[1;31m#DIP = DIPuni[uniprot[0]]\u001b[0m\u001b[1;33m\u001b[0m\u001b[1;33m\u001b[0m\u001b[0m\n\u001b[0;32m      4\u001b[0m \u001b[1;31m#print DIP\u001b[0m\u001b[1;33m\u001b[0m\u001b[1;33m\u001b[0m\u001b[0m\n\u001b[1;32m----> 5\u001b[1;33m \u001b[0mrefseq\u001b[0m \u001b[1;33m=\u001b[0m \u001b[0munirefseq\u001b[0m\u001b[1;33m[\u001b[0m\u001b[0muniprot\u001b[0m\u001b[1;33m[\u001b[0m\u001b[1;36m0\u001b[0m\u001b[1;33m]\u001b[0m\u001b[1;33m]\u001b[0m\u001b[1;33m\u001b[0m\u001b[0m\n\u001b[0m\u001b[0;32m      6\u001b[0m \u001b[1;32mprint\u001b[0m \u001b[0mrefseq\u001b[0m\u001b[1;33m\u001b[0m\u001b[0m\n",
        "\u001b[1;31mKeyError\u001b[0m: 'P08129'"
       ]
      }
     ],
     "prompt_number": 353
    },
    {
     "cell_type": "markdown",
     "metadata": {},
     "source": [
      "Looking at EntrezDIPdict some Entrez-IDs still don't map to DIP IDs. Don't really understand how this can happen.\n",
      "\n",
      "Could only happen if there are lines in splitstrings that only contain refseq...\n",
      "\n",
      "Or it could be because I'm still in the mouse directory and I'm using splitstrings, which was for human...\n",
      "\n",
      "Changing directory above."
     ]
    },
    {
     "cell_type": "code",
     "collapsed": false,
     "input": [
      "for l in splitstrings:\n",
      "    if \"DIP\" not in l[0]:\n",
      "        print l"
     ],
     "language": "python",
     "metadata": {},
     "outputs": [],
     "prompt_number": 354
    },
    {
     "cell_type": "markdown",
     "metadata": {},
     "source": [
      "## Retreiving handles\n",
      "\n",
      "With the full list, can retreive handles for all entries from NCBI:"
     ]
    },
    {
     "cell_type": "code",
     "collapsed": false,
     "input": [
      "from Bio import Entrez\n",
      "Entrez.email = \"gavingray1729@gmail.com\""
     ],
     "language": "python",
     "metadata": {},
     "outputs": [],
     "prompt_number": 5
    },
    {
     "cell_type": "code",
     "collapsed": false,
     "input": [
      "print baitids[3]"
     ],
     "language": "python",
     "metadata": {},
     "outputs": [
      {
       "output_type": "stream",
       "stream": "stdout",
       "text": [
        "161\n"
       ]
      }
     ],
     "prompt_number": 294
    },
    {
     "cell_type": "code",
     "collapsed": false,
     "input": [
      "efetch_handles = map(lambda i: Entrez.efetch(db=\"nucleotide\", id=i, rettype=\"gb\", retmode=\"text\"),baitids)"
     ],
     "language": "python",
     "metadata": {},
     "outputs": [],
     "prompt_number": 11
    },
    {
     "cell_type": "code",
     "collapsed": false,
     "input": [
      "from Bio import SeqIO"
     ],
     "language": "python",
     "metadata": {},
     "outputs": [],
     "prompt_number": 9
    },
    {
     "cell_type": "code",
     "collapsed": false,
     "input": [
      "ncbi_record = SeqIO.read(efetch_handles[3], 'genbank')\n",
      "print ncbi_record"
     ],
     "language": "python",
     "metadata": {},
     "outputs": [
      {
       "output_type": "stream",
       "stream": "stdout",
       "text": [
        "ID: X63682.1\n",
        "Name: X63682\n",
        "Description: B.taurus BTGT4 mRNA for T cell receptor gamma chain.\n",
        "Number of features: 4\n",
        "/comment=See also X63680-84.\n",
        "/sequence_version=1\n",
        "/source=Bos taurus (cattle)\n",
        "/taxonomy=['Eukaryota', 'Metazoa', 'Chordata', 'Craniata', 'Vertebrata', 'Euteleostomi', 'Mammalia', 'Eutheria', 'Laurasiatheria', 'Cetartiodactyla', 'Ruminantia', 'Pecora', 'Bovidae', 'Bovinae', 'Bos']\n",
        "/keywords=['T-cell receptor', 'T-cell receptor gamma-chain']\n",
        "/references=[Reference(title='Differentiation analysis of bovine T-lymphosarcoma', ...), Reference(title='Direct Submission', ...)]\n",
        "/accessions=['X63682']\n",
        "/data_file_division=MAM\n",
        "/date=11-OCT-1994\n",
        "/organism=Bos taurus\n",
        "/gi=161\n",
        "Seq('GCCGCTCACAGAGCTTGTTAGGAGCGAAATGAACCAGGACCAGAAGCCTAGTGT...TAA', IUPACAmbiguousDNA())\n"
       ]
      }
     ],
     "prompt_number": 15
    },
    {
     "cell_type": "markdown",
     "metadata": {},
     "source": [
      "As Colin pointed out, there shouldn't be a bull gene in there, so something's gone wrong.\n",
      "Is the above gene even in the list?"
     ]
    },
    {
     "cell_type": "code",
     "collapsed": false,
     "input": [
      "baitids.index('63682')"
     ],
     "language": "python",
     "metadata": {},
     "outputs": [
      {
       "ename": "ValueError",
       "evalue": "'63682' is not in list",
       "output_type": "pyerr",
       "traceback": [
        "\u001b[1;31m---------------------------------------------------------------------------\u001b[0m\n\u001b[1;31mValueError\u001b[0m                                Traceback (most recent call last)",
        "\u001b[1;32m<ipython-input-298-8773a7a52714>\u001b[0m in \u001b[0;36m<module>\u001b[1;34m()\u001b[0m\n\u001b[1;32m----> 1\u001b[1;33m \u001b[0mbaitids\u001b[0m\u001b[1;33m.\u001b[0m\u001b[0mindex\u001b[0m\u001b[1;33m(\u001b[0m\u001b[1;34m'63682'\u001b[0m\u001b[1;33m)\u001b[0m\u001b[1;33m\u001b[0m\u001b[0m\n\u001b[0m",
        "\u001b[1;31mValueError\u001b[0m: '63682' is not in list"
       ]
      }
     ],
     "prompt_number": 298
    },
    {
     "cell_type": "markdown",
     "metadata": {},
     "source": [
      "Looks like it's not...\n",
      "\n",
      "So I must be using this Biopython function wrong."
     ]
    }
   ],
   "metadata": {}
  }
 ]
}