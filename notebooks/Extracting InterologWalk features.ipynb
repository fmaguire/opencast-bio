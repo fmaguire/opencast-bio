{
 "metadata": {
  "name": "",
  "signature": "sha256:bf30bde45d5c213fea94219955d3ebefe920d21c4bf37d5848b806891b9ec41e"
 },
 "nbformat": 3,
 "nbformat_minor": 0,
 "worksheets": [
  {
   "cells": [
    {
     "cell_type": "markdown",
     "metadata": {},
     "source": [
      "[InterologWalk][] is an ortholog based way to build protein interaction networks.\n",
      "Its predictions can be used as a feature in our classifier.\n",
      "\n",
      "Instructions on how to use this perl module can be found on the [CPAN entry for the module][intcpan](this link did not work at time of writing: [alternative link][altcpan]).\n",
      "It requires the protein identifiers to be Ensembl format.\n",
      "So, to use the script we must first take the list of human proteins and convert them to Ensembl.\n",
      "\n",
      "Doing this in the same way as with previous notebooks using the conversion files on the [NCBI ftp server][ncbiftp].\n",
      "Using the file: `gene2ensembl`.\n",
      "\n",
      "[interologwalk]: http://www.biomedcentral.com/1471-2105/12/289\n",
      "[intcpan]: http://search.cpan.org/~ggallone/Bio-Homology-InterologWalk/lib/Bio/Homology/InterologWalk.pm\n",
      "[altcpan]: https://metacpan.org/pod/Bio::Homology::InterologWalk\n",
      "[ncbiftp]: ftp://ftp.ncbi.nih.gov/gene/DATA/"
     ]
    },
    {
     "cell_type": "code",
     "collapsed": false,
     "input": [
      "cd ../../geneconversion/"
     ],
     "language": "python",
     "metadata": {},
     "outputs": [
      {
       "output_type": "stream",
       "stream": "stdout",
       "text": [
        "/home/gavin/Documents/MRes/geneconversion\n"
       ]
      }
     ],
     "prompt_number": 1
    },
    {
     "cell_type": "code",
     "collapsed": false,
     "input": [
      "!wget ftp://ftp.ncbi.nih.gov/gene/DATA/gene2ensembl.gz"
     ],
     "language": "python",
     "metadata": {},
     "outputs": [
      {
       "output_type": "stream",
       "stream": "stdout",
       "text": [
        "--2014-06-30 14:13:17--  ftp://ftp.ncbi.nih.gov/gene/DATA/gene2ensembl.gz\r\n",
        "           => \u2018gene2ensembl.gz\u2019\r\n",
        "Resolving ftp.ncbi.nih.gov (ftp.ncbi.nih.gov)... "
       ]
      },
      {
       "output_type": "stream",
       "stream": "stdout",
       "text": [
        "130.14.250.7, 2607:f220:41e:250::11\r\n",
        "Connecting to ftp.ncbi.nih.gov (ftp.ncbi.nih.gov)|130.14.250.7|:21... "
       ]
      },
      {
       "output_type": "stream",
       "stream": "stdout",
       "text": [
        "connected.\r\n",
        "Logging in as anonymous ... "
       ]
      },
      {
       "output_type": "stream",
       "stream": "stdout",
       "text": [
        "Logged in!\r\n",
        "==> SYST ... "
       ]
      },
      {
       "output_type": "stream",
       "stream": "stdout",
       "text": [
        "done.    ==> PWD ... "
       ]
      },
      {
       "output_type": "stream",
       "stream": "stdout",
       "text": [
        "done.\r\n",
        "==> TYPE I ... "
       ]
      },
      {
       "output_type": "stream",
       "stream": "stdout",
       "text": [
        "done.  ==> CWD (1) /gene/DATA ... "
       ]
      },
      {
       "output_type": "stream",
       "stream": "stdout",
       "text": [
        "done.\r\n",
        "==> SIZE gene2ensembl.gz ... "
       ]
      },
      {
       "output_type": "stream",
       "stream": "stdout",
       "text": [
        "6609371\r\n",
        "==> PASV ... "
       ]
      },
      {
       "output_type": "stream",
       "stream": "stdout",
       "text": [
        "done.    ==> RETR gene2ensembl.gz ... "
       ]
      },
      {
       "output_type": "stream",
       "stream": "stdout",
       "text": [
        "done.\r\n"
       ]
      },
      {
       "output_type": "stream",
       "stream": "stdout",
       "text": [
        "Length: 6609371 (6.3M) (unauthoritative)\r\n",
        "\r\n",
        "\r",
        " 0% [                                       ] 0           --.-K/s              "
       ]
      },
      {
       "output_type": "stream",
       "stream": "stdout",
       "text": [
        "\r",
        " 0% [                                       ] 36,200       173KB/s             "
       ]
      },
      {
       "output_type": "stream",
       "stream": "stdout",
       "text": [
        "\r",
        " 1% [                                       ] 86,880       192KB/s             "
       ]
      },
      {
       "output_type": "stream",
       "stream": "stdout",
       "text": [
        "\r",
        " 2% [>                                      ] 172,312      247KB/s             "
       ]
      },
      {
       "output_type": "stream",
       "stream": "stdout",
       "text": [
        "\r",
        " 4% [>                                      ] 317,112      337KB/s             "
       ]
      },
      {
       "output_type": "stream",
       "stream": "stdout",
       "text": [
        "\r",
        " 8% [==>                                    ] 553,136      466KB/s             "
       ]
      },
      {
       "output_type": "stream",
       "stream": "stdout",
       "text": [
        "\r",
        "13% [====>                                  ] 903,552      634KB/s             "
       ]
      },
      {
       "output_type": "stream",
       "stream": "stdout",
       "text": [
        "\r",
        "20% [=======>                               ] 1,358,224    833KB/s             "
       ]
      },
      {
       "output_type": "stream",
       "stream": "stdout",
       "text": [
        "\r",
        "31% [===========>                           ] 2,076,432   1.10MB/s             "
       ]
      },
      {
       "output_type": "stream",
       "stream": "stdout",
       "text": [
        "\r",
        "46% [=================>                     ] 3,068,312   1.47MB/s             "
       ]
      },
      {
       "output_type": "stream",
       "stream": "stdout",
       "text": [
        "\r",
        "72% [===========================>           ] 4,813,152   2.06MB/s             "
       ]
      },
      {
       "output_type": "stream",
       "stream": "stdout",
       "text": [
        "\r",
        "100%[======================================>] 6,609,371   2.64MB/s   in 2.4s   \r\n",
        "\r\n"
       ]
      },
      {
       "output_type": "stream",
       "stream": "stdout",
       "text": [
        "2014-06-30 14:13:22 (2.64 MB/s) - \u2018gene2ensembl.gz\u2019 saved [6609371]\r\n",
        "\r\n"
       ]
      }
     ],
     "prompt_number": 3
    },
    {
     "cell_type": "code",
     "collapsed": false,
     "input": [
      "!gunzip gene2ensembl.gz"
     ],
     "language": "python",
     "metadata": {},
     "outputs": [],
     "prompt_number": 4
    },
    {
     "cell_type": "code",
     "collapsed": false,
     "input": [
      "ls"
     ],
     "language": "python",
     "metadata": {},
     "outputs": [
      {
       "output_type": "stream",
       "stream": "stdout",
       "text": [
        "\u001b[0m\u001b[40m\u001b[m\u001b[00mexample.group.fasta\u001b[0m       \u001b[40m\u001b[m\u001b[00mgene2go\u001b[0m                    \u001b[40m\u001b[m\u001b[00mgene.to.record\u001b[0m       \u001b[40m\u001b[m\u001b[00mordered.human.Entrez.txt\u001b[0m\r\n",
        "\u001b[40m\u001b[m\u001b[00mexampleid.proteingi.txt\u001b[0m   \u001b[40m\u001b[m\u001b[00mgene2refseq\u001b[0m                \u001b[40m\u001b[m\u001b[00mhuman.Entrez.pickle\u001b[0m  \u001b[40m\u001b[m\u001b[00mprotein.fa\u001b[0m\r\n",
        "\u001b[40m\u001b[m\u001b[00mexampleid.sequence.fasta\u001b[0m  \u001b[40m\u001b[m\u001b[00mgene_info\u001b[0m                  \u001b[40m\u001b[m\u001b[00mhuman.Entrez.txt\u001b[0m     \u001b[40m\u001b[m\u001b[00mprotein_gi.txt\u001b[0m\r\n",
        "\u001b[40m\u001b[m\u001b[00mexample.pair.fasta\u001b[0m        \u001b[40m\u001b[m\u001b[00mgene.to.protein.human.txt\u001b[0m  \u001b[40m\u001b[m\u001b[00mhuman.protein.fasta\u001b[0m  \u001b[40m\u001b[m\u001b[00mtest.db\u001b[0m\r\n",
        "\u001b[40m\u001b[m\u001b[00mgene2ensembl\u001b[0m              \u001b[40m\u001b[m\u001b[00mgene.to.protein.pickle\u001b[0m     \u001b[40m\u001b[m\u001b[00mhuman.proteingi.txt\u001b[0m  \u001b[40m\u001b[m\u001b[00mtestgen.pickle\u001b[0m\r\n"
       ]
      }
     ],
     "prompt_number": 5
    },
    {
     "cell_type": "code",
     "collapsed": false,
     "input": [
      "!head gene2ensembl"
     ],
     "language": "python",
     "metadata": {},
     "outputs": [
      {
       "output_type": "stream",
       "stream": "stdout",
       "text": [
        "#Format: tax_id GeneID Ensembl_gene_identifier RNA_nucleotide_accession.version Ensembl_rna_identifier protein_accession.version Ensembl_protein_identifier (tab is used as a separator, pound sign - start of a comment)\r\n",
        "7227\t30970\tFBgn0040373\tNM_130477.3\tFBtr0070108\tNP_569833.1\tFBpp0070103\r\n",
        "7227\t30970\tFBgn0040373\tNM_166834.2\tFBtr0070107\tNP_726658.1\tFBpp0070102\r\n",
        "7227\t30971\tFBgn0040372\tNM_001272159.1\tFBtr0332992\tNP_001259088.1\tFBpp0305207\r\n",
        "7227\t30971\tFBgn0040372\tNM_130478.3\tFBtr0070063\tNP_569834.1\tFBpp0070062\r\n",
        "7227\t30972\tFBgn0261446\tNM_001272160.1\tFBtr0332990\tNP_001259089.1\tFBpp0305206\r\n",
        "7227\t30972\tFBgn0261446\tNM_130479.3\tFBtr0070106\tNP_569835.1\tFBpp0070101\r\n",
        "7227\t30973\tFBgn0000316\tNM_057682.3\tFBtr0070065\tNP_477030.1\tFBpp0070064\r\n",
        "7227\t30973\tFBgn0000316\tNM_166835.3\tFBtr0070064\tNP_726659.1\tFBpp0070063\r\n",
        "7227\t30975\tFBgn0005427\tNM_001014707.2\tFBtr0100581\tNP_001014707.1\tFBpp0100036\r\n"
       ]
      }
     ],
     "prompt_number": 7
    },
    {
     "cell_type": "markdown",
     "metadata": {},
     "source": [
      "Separating the human entries using their tax ID and building a dictionary converting Entrez to Ensembl IDs:"
     ]
    },
    {
     "cell_type": "code",
     "collapsed": false,
     "input": [
      "import csv"
     ],
     "language": "python",
     "metadata": {},
     "outputs": [],
     "prompt_number": 8
    },
    {
     "cell_type": "code",
     "collapsed": false,
     "input": [
      "f = open(\"gene2ensembl\")\n",
      "c = csv.reader(f, delimiter=\"\\t\")\n",
      "entreztoensembl = {}\n",
      "for line in c:\n",
      "    if line[0]==\"9606\":\n",
      "        try:\n",
      "            entreztoensembl[line[1]] += [line[2]]\n",
      "        except KeyError:\n",
      "            entreztoensembl[line[1]] = [line[2]]\n",
      "ensemblids = set(flatten(entreztoensembl.values()))\n",
      "f.close()"
     ],
     "language": "python",
     "metadata": {},
     "outputs": [],
     "prompt_number": 9
    },
    {
     "cell_type": "code",
     "collapsed": false,
     "input": [
      "print \"{0} Entrez IDs mapped to {1} Ensembl IDs.\".format(len(entreztoensembl.keys()), len(ensemblids))"
     ],
     "language": "python",
     "metadata": {},
     "outputs": [
      {
       "output_type": "stream",
       "stream": "stdout",
       "text": [
        "20804 Entrez IDs mapped to 20702 Ensembl IDs.\n"
       ]
      }
     ],
     "prompt_number": 14
    },
    {
     "cell_type": "markdown",
     "metadata": {},
     "source": [
      "We'll format an input file to what it's expecting:\n",
      "\n",
      "> User Input: a textfile containing one gene ID per row. All gene IDs must belong to the same species. All gene IDs must be current Ensembl gene IDs.\n",
      "\n",
      "To begin with only using an example list of 10 Ensembl IDs:"
     ]
    },
    {
     "cell_type": "code",
     "collapsed": false,
     "input": [
      "f = open(\"example.ensembl.human.txt\", \"w\")\n",
      "exampleids = list(ensemblids)[0:10]\n",
      "c = csv.writer(f)\n",
      "for i in exampleids:\n",
      "    c.writerow([i])\n",
      "f.close()"
     ],
     "language": "python",
     "metadata": {},
     "outputs": [],
     "prompt_number": 17
    },
    {
     "cell_type": "code",
     "collapsed": false,
     "input": [
      "!head example.ensembl.human.txt"
     ],
     "language": "python",
     "metadata": {},
     "outputs": [
      {
       "output_type": "stream",
       "stream": "stdout",
       "text": [
        "ENSG00000230876\r",
        "\r\n",
        "ENSG00000124209\r",
        "\r\n",
        "ENSG00000064703\r",
        "\r\n",
        "ENSG00000230873\r",
        "\r\n",
        "ENSG00000171408\r",
        "\r\n",
        "ENSG00000196374\r",
        "\r\n",
        "ENSG00000230699\r",
        "\r\n",
        "ENSG00000160161\r",
        "\r\n",
        "ENSG00000243775\r",
        "\r\n",
        "ENSG00000111837\r",
        "\r\n"
       ]
      }
     ],
     "prompt_number": 18
    },
    {
     "cell_type": "markdown",
     "metadata": {},
     "source": [
      "## Running InterologWalk\n",
      "\n"
     ]
    }
   ],
   "metadata": {}
  }
 ]
}