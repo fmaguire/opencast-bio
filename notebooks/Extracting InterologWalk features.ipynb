{
 "metadata": {
  "name": "",
  "signature": "sha256:909d978baecbcf2ed1adb5a464257396028c48d3d9ea51bf8d7ec420e1a447f2"
 },
 "nbformat": 3,
 "nbformat_minor": 0,
 "worksheets": [
  {
   "cells": [
    {
     "cell_type": "markdown",
     "metadata": {},
     "source": [
      "[InterologWalk][] is an ortholog based way to build protein interaction networks.\n",
      "Its predictions can be used as a feature in our classifier.\n",
      "\n",
      "Instructions on how to use this perl module can be found on the [CPAN entry for the module][intcpan](this link did not work at time of writing: [alternative link][altcpan]).\n",
      "It requires the protein identifiers to be Ensembl format.\n",
      "So, to use the script we must first take the list of human proteins and convert them to Ensembl.\n",
      "\n",
      "Doing this in the same way as with previous notebooks using the conversion files on the [NCBI ftp server][ncbiftp].\n",
      "Using the file: `gene2ensembl`.\n",
      "\n",
      "[interologwalk]: http://www.biomedcentral.com/1471-2105/12/289\n",
      "[intcpan]: http://search.cpan.org/~ggallone/Bio-Homology-InterologWalk/lib/Bio/Homology/InterologWalk.pm\n",
      "[altcpan]: https://metacpan.org/pod/Bio::Homology::InterologWalk\n",
      "[ncbiftp]: ftp://ftp.ncbi.nih.gov/gene/DATA/"
     ]
    },
    {
     "cell_type": "code",
     "collapsed": false,
     "input": [
      "cd ../../geneconversion/"
     ],
     "language": "python",
     "metadata": {},
     "outputs": [
      {
       "output_type": "stream",
       "stream": "stdout",
       "text": [
        "/home/gavin/Documents/MRes/geneconversion\n"
       ]
      }
     ],
     "prompt_number": 1
    },
    {
     "cell_type": "code",
     "collapsed": false,
     "input": [
      "!wget ftp://ftp.ncbi.nih.gov/gene/DATA/gene2ensembl.gz"
     ],
     "language": "python",
     "metadata": {},
     "outputs": [
      {
       "output_type": "stream",
       "stream": "stdout",
       "text": [
        "--2014-07-02 10:14:52--  ftp://ftp.ncbi.nih.gov/gene/DATA/gene2ensembl.gz\r\n",
        "           => \u2018gene2ensembl.gz\u2019\r\n",
        "Resolving ftp.ncbi.nih.gov (ftp.ncbi.nih.gov)... "
       ]
      },
      {
       "output_type": "stream",
       "stream": "stdout",
       "text": [
        "130.14.250.7, 2607:f220:41e:250::10\r\n",
        "Connecting to ftp.ncbi.nih.gov (ftp.ncbi.nih.gov)|130.14.250.7|:21... "
       ]
      },
      {
       "output_type": "stream",
       "stream": "stdout",
       "text": [
        "connected.\r\n",
        "Logging in as anonymous ... "
       ]
      },
      {
       "output_type": "stream",
       "stream": "stdout",
       "text": [
        "Logged in!\r\n",
        "==> SYST ... "
       ]
      },
      {
       "output_type": "stream",
       "stream": "stdout",
       "text": [
        "done.    ==> PWD ... "
       ]
      },
      {
       "output_type": "stream",
       "stream": "stdout",
       "text": [
        "done.\r\n",
        "==> TYPE I ... "
       ]
      },
      {
       "output_type": "stream",
       "stream": "stdout",
       "text": [
        "done.  ==> CWD (1) /gene/DATA ... "
       ]
      },
      {
       "output_type": "stream",
       "stream": "stdout",
       "text": [
        "done.\r\n",
        "==> SIZE gene2ensembl.gz ... "
       ]
      },
      {
       "output_type": "stream",
       "stream": "stdout",
       "text": [
        "6609326\r\n",
        "==> PASV ... "
       ]
      },
      {
       "output_type": "stream",
       "stream": "stdout",
       "text": [
        "done.    ==> RETR gene2ensembl.gz ... "
       ]
      },
      {
       "output_type": "stream",
       "stream": "stdout",
       "text": [
        "done.\r\n",
        "Length: 6609326 (6.3M) (unauthoritative)\r\n",
        "\r\n",
        "\r",
        " 0% [                                       ] 0           --.-K/s              "
       ]
      },
      {
       "output_type": "stream",
       "stream": "stdout",
       "text": [
        "\r",
        " 0% [                                       ] 33,304       119KB/s             "
       ]
      },
      {
       "output_type": "stream",
       "stream": "stdout",
       "text": [
        "\r",
        " 1% [                                       ] 91,224       157KB/s             "
       ]
      },
      {
       "output_type": "stream",
       "stream": "stdout",
       "text": [
        "\r",
        " 2% [>                                      ] 192,584      218KB/s             "
       ]
      },
      {
       "output_type": "stream",
       "stream": "stdout",
       "text": [
        "\r",
        " 5% [=>                                     ] 356,208      301KB/s             "
       ]
      },
      {
       "output_type": "stream",
       "stream": "stdout",
       "text": [
        "\r",
        " 8% [==>                                    ] 577,752      409KB/s             "
       ]
      },
      {
       "output_type": "stream",
       "stream": "stdout",
       "text": [
        "\r",
        "12% [===>                                   ] 831,152      509KB/s             "
       ]
      },
      {
       "output_type": "stream",
       "stream": "stdout",
       "text": [
        "\r",
        "17% [=====>                                 ] 1,154,962    620KB/s             "
       ]
      },
      {
       "output_type": "stream",
       "stream": "stdout",
       "text": [
        "\r",
        "23% [========>                              ] 1,578,632    756KB/s             "
       ]
      },
      {
       "output_type": "stream",
       "stream": "stdout",
       "text": [
        "\r",
        "29% [==========>                            ] 1,969,644    835KB/s             "
       ]
      },
      {
       "output_type": "stream",
       "stream": "stdout",
       "text": [
        "\r",
        "37% [=============>                         ] 2,493,924    937KB/s             "
       ]
      },
      {
       "output_type": "stream",
       "stream": "stdout",
       "text": [
        "\r",
        "45% [================>                      ] 3,019,652   1019KB/s             "
       ]
      },
      {
       "output_type": "stream",
       "stream": "stdout",
       "text": [
        "\r",
        "53% [===================>                   ] 3,541,036   1.06MB/s  eta 3s     "
       ]
      },
      {
       "output_type": "stream",
       "stream": "stdout",
       "text": [
        "\r",
        "61% [======================>                ] 4,065,316   1.11MB/s  eta 3s     "
       ]
      },
      {
       "output_type": "stream",
       "stream": "stdout",
       "text": [
        "\r",
        "69% [==========================>            ] 4,594,892   1.16MB/s  eta 3s     "
       ]
      },
      {
       "output_type": "stream",
       "stream": "stdout",
       "text": [
        "\r",
        "77% [=============================>         ] 5,115,324   1.20MB/s  eta 3s     "
       ]
      },
      {
       "output_type": "stream",
       "stream": "stdout",
       "text": [
        "\r",
        "85% [================================>      ] 5,641,052   1.23MB/s  eta 1s     "
       ]
      },
      {
       "output_type": "stream",
       "stream": "stdout",
       "text": [
        "\r",
        "93% [===================================>   ] 6,163,884   1.33MB/s  eta 1s     "
       ]
      },
      {
       "output_type": "stream",
       "stream": "stdout",
       "text": [
        "\r",
        "99% [=====================================> ] 6,553,500   1.43MB/s  eta 1s     \r",
        "100%[======================================>] 6,609,326   1.44MB/s   in 4.9s   \r\n",
        "\r\n"
       ]
      },
      {
       "output_type": "stream",
       "stream": "stdout",
       "text": [
        "2014-07-02 10:15:00 (1.29 MB/s) - \u2018gene2ensembl.gz\u2019 saved [6609326]\r\n",
        "\r\n"
       ]
      }
     ],
     "prompt_number": 2
    },
    {
     "cell_type": "code",
     "collapsed": false,
     "input": [
      "!gunzip gene2ensembl.gz"
     ],
     "language": "python",
     "metadata": {},
     "outputs": [
      {
       "output_type": "stream",
       "stream": "stdout",
       "text": [
        "gzip: gene2ensembl already exists; do you wish to overwrite (y or n)? "
       ]
      },
      {
       "output_type": "stream",
       "stream": "stdout",
       "text": [
        "^C\r\n"
       ]
      }
     ],
     "prompt_number": 3
    },
    {
     "cell_type": "code",
     "collapsed": false,
     "input": [
      "ls"
     ],
     "language": "python",
     "metadata": {},
     "outputs": [
      {
       "output_type": "stream",
       "stream": "stdout",
       "text": [
        "\u001b[0m\u001b[40m\u001b[m\u001b[00mexample.ensembl.human.txt\u001b[0m  \u001b[40m\u001b[m\u001b[01;31mgene2ensembl.gz\u001b[0m            \u001b[40m\u001b[m\u001b[00mgene.to.record\u001b[0m            \u001b[40m\u001b[m\u001b[00mprotein.fa\u001b[0m\r\n",
        "\u001b[40m\u001b[m\u001b[00mexample.group.fasta\u001b[0m        \u001b[40m\u001b[m\u001b[00mgene2go\u001b[0m                    \u001b[40m\u001b[m\u001b[00mhuman.Entrez.pickle\u001b[0m       \u001b[40m\u001b[m\u001b[00mprotein_gi.txt\u001b[0m\r\n",
        "\u001b[40m\u001b[m\u001b[00mexampleid.proteingi.txt\u001b[0m    \u001b[40m\u001b[m\u001b[00mgene2refseq\u001b[0m                \u001b[40m\u001b[m\u001b[00mhuman.Entrez.txt\u001b[0m          \u001b[40m\u001b[m\u001b[00mtest.db\u001b[0m\r\n",
        "\u001b[40m\u001b[m\u001b[00mexampleid.sequence.fasta\u001b[0m   \u001b[40m\u001b[m\u001b[00mgene_info\u001b[0m                  \u001b[40m\u001b[m\u001b[00mhuman.protein.fasta\u001b[0m       \u001b[40m\u001b[m\u001b[00mtestgen.pickle\u001b[0m\r\n",
        "\u001b[40m\u001b[m\u001b[00mexample.pair.fasta\u001b[0m         \u001b[40m\u001b[m\u001b[00mgene.to.protein.human.txt\u001b[0m  \u001b[40m\u001b[m\u001b[00mhuman.proteingi.txt\u001b[0m\r\n",
        "\u001b[40m\u001b[m\u001b[00mgene2ensembl\u001b[0m               \u001b[40m\u001b[m\u001b[00mgene.to.protein.pickle\u001b[0m     \u001b[40m\u001b[m\u001b[00mordered.human.Entrez.txt\u001b[0m\r\n"
       ]
      }
     ],
     "prompt_number": 2
    },
    {
     "cell_type": "code",
     "collapsed": false,
     "input": [
      "!head gene2ensembl"
     ],
     "language": "python",
     "metadata": {},
     "outputs": [
      {
       "output_type": "stream",
       "stream": "stdout",
       "text": [
        "#Format: tax_id GeneID Ensembl_gene_identifier RNA_nucleotide_accession.version Ensembl_rna_identifier protein_accession.version Ensembl_protein_identifier (tab is used as a separator, pound sign - start of a comment)\r\n",
        "7227\t30970\tFBgn0040373\tNM_130477.3\tFBtr0070108\tNP_569833.1\tFBpp0070103\r\n",
        "7227\t30970\tFBgn0040373\tNM_166834.2\tFBtr0070107\tNP_726658.1\tFBpp0070102\r\n",
        "7227\t30971\tFBgn0040372\tNM_001272159.1\tFBtr0332992\tNP_001259088.1\tFBpp0305207\r\n",
        "7227\t30971\tFBgn0040372\tNM_130478.3\tFBtr0070063\tNP_569834.1\tFBpp0070062\r\n",
        "7227\t30972\tFBgn0261446\tNM_001272160.1\tFBtr0332990\tNP_001259089.1\tFBpp0305206\r\n",
        "7227\t30972\tFBgn0261446\tNM_130479.3\tFBtr0070106\tNP_569835.1\tFBpp0070101\r\n",
        "7227\t30973\tFBgn0000316\tNM_057682.3\tFBtr0070065\tNP_477030.1\tFBpp0070064\r\n",
        "7227\t30973\tFBgn0000316\tNM_166835.3\tFBtr0070064\tNP_726659.1\tFBpp0070063\r\n",
        "7227\t30975\tFBgn0005427\tNM_001014707.2\tFBtr0100581\tNP_001014707.1\tFBpp0100036\r\n"
       ]
      }
     ],
     "prompt_number": 3
    },
    {
     "cell_type": "markdown",
     "metadata": {},
     "source": [
      "Separating the human entries using their tax ID and building a dictionary converting Entrez to Ensembl IDs:"
     ]
    },
    {
     "cell_type": "code",
     "collapsed": false,
     "input": [
      "import csv"
     ],
     "language": "python",
     "metadata": {},
     "outputs": [],
     "prompt_number": 4
    },
    {
     "cell_type": "code",
     "collapsed": false,
     "input": [
      "f = open(\"gene2ensembl\")\n",
      "c = csv.reader(f, delimiter=\"\\t\")\n",
      "entreztoensembl = {}\n",
      "for line in c:\n",
      "    if line[0]==\"9606\":\n",
      "        try:\n",
      "            if line[6] != '-':\n",
      "                entreztoensembl[line[1]] += [line[6]]\n",
      "        except KeyError:\n",
      "            if line[6] != '-':\n",
      "                entreztoensembl[line[1]] = [line[6]]\n",
      "ensemblids = set(flatten(entreztoensembl.values()))\n",
      "f.close()"
     ],
     "language": "python",
     "metadata": {},
     "outputs": [],
     "prompt_number": 18
    },
    {
     "cell_type": "code",
     "collapsed": false,
     "input": [
      "print \"{0} Entrez IDs mapped to {1} Ensembl IDs.\".format(len(entreztoensembl.keys()), len(ensemblids))"
     ],
     "language": "python",
     "metadata": {},
     "outputs": [
      {
       "output_type": "stream",
       "stream": "stdout",
       "text": [
        "17138 Entrez IDs mapped to 27243 Ensembl IDs.\n"
       ]
      }
     ],
     "prompt_number": 20
    },
    {
     "cell_type": "code",
     "collapsed": false,
     "input": [
      "lendict = {}\n",
      "for k in entreztoensembl.keys():\n",
      "    try:\n",
      "        lendict[len(entreztoensembl[k])] += [k]\n",
      "    except KeyError:\n",
      "        lendict[len(entreztoensembl[k])] = [k]"
     ],
     "language": "python",
     "metadata": {},
     "outputs": [],
     "prompt_number": 21
    },
    {
     "cell_type": "code",
     "collapsed": false,
     "input": [
      "print lendict.keys()"
     ],
     "language": "python",
     "metadata": {},
     "outputs": [
      {
       "output_type": "stream",
       "stream": "stdout",
       "text": [
        "[1, 2, 3, 4, 5, 6, 7, 8, 9, 10, 11, 12, 13, 14, 15, 16, 21, 25]\n"
       ]
      }
     ],
     "prompt_number": 22
    },
    {
     "cell_type": "code",
     "collapsed": false,
     "input": [
      "import pickle"
     ],
     "language": "python",
     "metadata": {},
     "outputs": [],
     "prompt_number": 11
    },
    {
     "cell_type": "code",
     "collapsed": false,
     "input": [
      "f = open(\"human.gene2ensemble.pickle\",\"wb\")\n",
      "pickle.dump(entreztoensembl,f)\n",
      "f.close()"
     ],
     "language": "python",
     "metadata": {},
     "outputs": [],
     "prompt_number": 24
    },
    {
     "cell_type": "markdown",
     "metadata": {},
     "source": [
      "We'll format an input file to what it's expecting:\n",
      "\n",
      "> User Input: a textfile containing one gene ID per row. All gene IDs must belong to the same species. All gene IDs must be current Ensembl gene IDs.\n",
      "\n",
      "To begin with only using an example list of 10 Ensembl IDs:"
     ]
    },
    {
     "cell_type": "code",
     "collapsed": false,
     "input": [
      "f = open(\"example.ensembl.human.txt\", \"w\")\n",
      "exampleids = list(ensemblids)[0:10]\n",
      "c = csv.writer(f)\n",
      "for i in exampleids:\n",
      "    c.writerow([i])\n",
      "f.close()"
     ],
     "language": "python",
     "metadata": {},
     "outputs": [],
     "prompt_number": 25
    },
    {
     "cell_type": "code",
     "collapsed": false,
     "input": [
      "!head example.ensembl.human.txt"
     ],
     "language": "python",
     "metadata": {},
     "outputs": []
    },
    {
     "cell_type": "markdown",
     "metadata": {},
     "source": [
      "## Running InterologWalk\n",
      "\n",
      "Pending install."
     ]
    }
   ],
   "metadata": {}
  }
 ]
}